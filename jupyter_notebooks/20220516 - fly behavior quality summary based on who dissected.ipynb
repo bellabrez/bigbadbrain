{
 "cells": [
  {
   "cell_type": "code",
   "execution_count": 7,
   "metadata": {
    "collapsed": true
   },
   "outputs": [],
   "source": [
    "import numpy as np\n",
    "import matplotlib.pyplot as plt\n",
    "%matplotlib inline"
   ]
  },
  {
   "cell_type": "code",
   "execution_count": 6,
   "metadata": {
    "collapsed": true
   },
   "outputs": [],
   "source": [
    "# fly: [good walking, good VE, perfect VE, dissector]\n",
    "# 0 = shit walking\n",
    "# 1 = ok walking\n",
    "# 2 = ok VE\n",
    "# 3 = excellent VE\n",
    "fly_info = {\n",
    "    '112': [0, 'l'],\n",
    "    '113': [0, 'l'],\n",
    "    '114': [0, 'l'],\n",
    "    '115': [0, 'l'],\n",
    "    '116': [3, 'l'],\n",
    "    '117': [1, 'y'],\n",
    "    '118': [1, 'l'],\n",
    "    '119': [0, 'l'],\n",
    "    '120': [1, 'y'],\n",
    "    '121': [1, 'i'],\n",
    "    '122': [2, 'y'],\n",
    "    '123': None,\n",
    "    '124': None,\n",
    "    '125': None,\n",
    "    '126': None,\n",
    "    '127': None,\n",
    "    '128': [1, 'l'],\n",
    "    '129': [0, 'l'],\n",
    "    '130': None,\n",
    "    '131': None,\n",
    "    '132': [1, 'i'],\n",
    "    '133': [1, 'y'],\n",
    "    '134': [3, 'l'],\n",
    "    '135': [1, 'y'],\n",
    "    '136': [0, 'y'],\n",
    "    '137': [2, 'y'],\n",
    "    '138': [1, 'l'],\n",
    "    '139': [1, 'l'],\n",
    "    '140': [0, 'l'],\n",
    "    '141': [0, 'y'],\n",
    "    '142': [1, 'i'],\n",
    "    '143': [3, 'l'],\n",
    "    '144': [1, 'i'],\n",
    "    '145': [0, 'i'],\n",
    "    '146': [2, 'l'],\n",
    "    '147': [3, 'l'],\n",
    "    '148': [1, 'l'],\n",
    "    '149': [3, 'y'],\n",
    "    '150': [0, 'l'],\n",
    "    '151': [1, 'y'],\n",
    "    '152': [3, 'l'],\n",
    "    '153': [3, 'y'],\n",
    "}\n",
    "# still have ~7 flies to add"
   ]
  },
  {
   "cell_type": "code",
   "execution_count": 14,
   "metadata": {},
   "outputs": [
    {
     "data": {
      "image/png": "[encoded data removed]",
      "text/plain": [
       "<Figure size 720x720 with 1 Axes>"
      ]
     },
     "metadata": {},
     "output_type": "display_data"
    }
   ],
   "source": [
    "plt.figure(figsize=(10,10))\n",
    "for fly in fly_info:\n",
    "    if fly_info[fly] is not None:\n",
    "        if fly_info[fly][1] == 'l':\n",
    "            color='green'\n",
    "        if fly_info[fly][1] == 'y':\n",
    "            color='red'\n",
    "        if fly_info[fly][1] == 'i':\n",
    "            color='cyan'\n",
    "        plt.scatter(x=int(fly), y=fly_info[fly][0], color=color)"
   ]
  },
  {
   "cell_type": "code",
   "execution_count": null,
   "metadata": {
    "collapsed": true
   },
   "outputs": [],
   "source": [
    "# luke has imaged 19 flies, with 5 great\n",
    "# Yanan has imaged 11 flies, with 2 great\n",
    "# ilana has imaged 5 flies, with 0 great"
   ]
  }
 ],
 "metadata": {
  "kernelspec": {
   "display_name": "Python 3",
   "language": "python",
   "name": "python3"
  },
  "language_info": {
   "codemirror_mode": {
    "name": "ipython",
    "version": 3
   },
   "file_extension": ".py",
   "mimetype": "text/x-python",
   "name": "python",
   "nbconvert_exporter": "python",
   "pygments_lexer": "ipython3",
   "version": "3.6.1"
  }
 },
 "nbformat": 4,
 "nbformat_minor": 2
}
