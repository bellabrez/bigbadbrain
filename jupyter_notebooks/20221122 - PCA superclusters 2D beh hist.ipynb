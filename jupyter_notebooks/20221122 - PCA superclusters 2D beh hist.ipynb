{
 "cells": [
  {
   "cell_type": "code",
   "execution_count": 1,
   "metadata": {},
   "outputs": [
    {
     "name": "stderr",
     "output_type": "stream",
     "text": [
      "/home/users/brezovec/.local/lib/python3.6/site-packages/ants/viz/render_surface_function.py:16: UserWarning: Cant import Plotly. Install it `pip install chart_studio` if you want to use ants.render_surface_function\n",
      "  \"Cant import Plotly. Install it `pip install chart_studio` if you want to use ants.render_surface_function\"\n"
     ]
    }
   ],
   "source": [
    "import pickle\n",
    "import os\n",
    "import time\n",
    "import numpy as np\n",
    "import matplotlib.pyplot as plt\n",
    "%matplotlib inline\n",
    "from sklearn.decomposition import FastICA\n",
    "from mpl_toolkits.axes_grid1 import ImageGrid\n",
    "from sklearn.cluster import AgglomerativeClustering\n",
    "from scipy.cluster.hierarchy import dendrogram\n",
    "import nibabel as nib\n",
    "import ants\n",
    "from scipy.ndimage.morphology import binary_erosion\n",
    "from scipy.ndimage.morphology import binary_dilation\n",
    "import cv2\n",
    "import bigbadbrain as bbb\n",
    "import scipy\n",
    "from scipy.interpolate import interp1d\n",
    "from matplotlib.colors import ListedColormap\n",
    "from matplotlib.pyplot import cm\n",
    "import tqdm\n",
    "import ffmpeg"
   ]
  },
  {
   "cell_type": "code",
   "execution_count": 2,
   "metadata": {
    "collapsed": true
   },
   "outputs": [],
   "source": [
    "cluster_dir = \"/oak/stanford/groups/trc/data/Brezovec/2P_Imaging/20221109_cluster_pca/\""
   ]
  },
  {
   "cell_type": "code",
   "execution_count": 3,
   "metadata": {},
   "outputs": [
    {
     "data": {
      "text/plain": [
       "(501, 30456)"
      ]
     },
     "execution_count": 3,
     "metadata": {},
     "output_type": "execute_result"
    }
   ],
   "source": [
    "# OLD WRONG bug version\n",
    "# file = os.path.join(cluster_dir,\"20221122_full_supercluster_recordings_250_hemi_doubled.npy\")\n",
    "# supercluster_signals = np.load(file)\n",
    "# supercluster_signals.shape\n",
    "\n",
    "### CORRECT VERSION ###\n",
    "file = os.path.join(cluster_dir, \"20221202_SC_signals.npy\")\n",
    "supercluster_signals = np.load(file)\n",
    "supercluster_signals.shape"
   ]
  },
  {
   "cell_type": "code",
   "execution_count": 4,
   "metadata": {},
   "outputs": [
    {
     "data": {
      "text/plain": [
       "(49, 2000, 30456)"
      ]
     },
     "execution_count": 4,
     "metadata": {},
     "output_type": "execute_result"
    }
   ],
   "source": [
    "### Load Neural Data ###\n",
    "all_neural = np.load('/oak/stanford/groups/trc/data/Brezovec/2P_Imaging/20210514_for_aws/X_all_neural_z_vox_t_correct.npy')\n",
    "all_neural.shape"
   ]
  },
  {
   "cell_type": "code",
   "execution_count": 9,
   "metadata": {},
   "outputs": [
    {
     "data": {
      "text/plain": [
       "(49, 2000)"
      ]
     },
     "execution_count": 9,
     "metadata": {},
     "output_type": "execute_result"
    }
   ],
   "source": [
    "### load sv_to_sc to relate supervoxels and superclusters ###\n",
    "# this tells us what supercluster each supervoxel belongs to\n",
    "# file = os.path.join(cluster_dir,\"20221128_sv_to_sc.npy\")\n",
    "# sv_to_sc = np.load(file)\n",
    "# sv_to_sc.shape"
   ]
  },
  {
   "cell_type": "code",
   "execution_count": 5,
   "metadata": {
    "collapsed": true
   },
   "outputs": [],
   "source": [
    "dataset_path = \"/oak/stanford/groups/trc/data/Brezovec/2P_Imaging/20190101_walking_dataset\"\n",
    "fly_names = ['fly_087', 'fly_089', 'fly_094', 'fly_097', 'fly_098', 'fly_099', 'fly_100', 'fly_101', 'fly_105']\n",
    "expt_len = 1000*30*60\n",
    "resolution = 10\n",
    "high_res_timepoints = np.arange(0,expt_len,resolution) #0 to last time at subsample res"
   ]
  },
  {
   "cell_type": "code",
   "execution_count": 6,
   "metadata": {
    "collapsed": true
   },
   "outputs": [],
   "source": [
    "class Fictrac:\n",
    "    def __init__ (self, fly_dir, timestamps):\n",
    "        self.fictrac_raw = bbb.load_fictrac(os.path.join(fly_dir, 'fictrac'))\n",
    "        self.timestamps = timestamps\n",
    "    def make_interp_object(self, behavior):\n",
    "        # Create camera timepoints\n",
    "        fps=50\n",
    "        camera_rate = 1/fps * 1000 # camera frame rate in ms\n",
    "        expt_len = 1000*30*60\n",
    "        x_original = np.arange(0,expt_len,camera_rate)\n",
    "\n",
    "        # Smooth raw fictrac data\n",
    "        fictrac_smoothed = scipy.signal.savgol_filter(np.asarray(self.fictrac_raw[behavior]),25,3)\n",
    "\n",
    "        # Create interp object with camera timepoints\n",
    "        fictrac_interp_object = interp1d(x_original, fictrac_smoothed, bounds_error = False)\n",
    "        return fictrac_interp_object\n",
    "\n",
    "    def pull_from_interp_object(self, interp_object, timepoints):\n",
    "        new_interp = interp_object(timepoints)\n",
    "        np.nan_to_num(new_interp, copy=False);\n",
    "        return new_interp\n",
    "\n",
    "    def interp_fictrac(self, z):\n",
    "        behaviors = ['dRotLabY', 'dRotLabZ']; shorts = ['Y', 'Z']\n",
    "        self.fictrac = {}\n",
    "\n",
    "        for behavior, short in zip(behaviors, shorts):\n",
    "            interp_object = self.make_interp_object(behavior)\n",
    "            self.fictrac[short + 'i'] = interp_object\n",
    "\n",
    "            ### Velocity ###\n",
    "            low_res_behavior = self.pull_from_interp_object(interp_object, self.timestamps[:,z])\n",
    "            self.fictrac[short] = low_res_behavior#/np.std(low_res_behavior)\n",
    "            \n",
    "            ### Clipped Velocities ###\n",
    "            self.fictrac[short + '_pos'] = np.clip(self.fictrac[short], a_min=0, a_max=None)\n",
    "            self.fictrac[short + '_neg'] = np.clip(self.fictrac[short], a_min=None, a_max=0)*-1\n",
    "            \n",
    "            ### Strongly Clipped Velocities ###\n",
    "            # excludes points even close to 0\n",
    "            #self.fictrac[short + '_pos_very'] = np.clip(self.fictrac[short], a_min=0.3, a_max=None)\n",
    "            #self.fictrac[short + '_neg_very'] = np.clip(self.fictrac[short], a_min=None, a_max=-0.3)*-1\n",
    "\n",
    "            ### Acceleration ###\n",
    "            high_res_behavior = self.pull_from_interp_object(interp_object, high_res_timepoints)\n",
    "            self.fictrac[short + 'h'] = high_res_behavior/np.std(high_res_behavior)\n",
    "\n",
    "            accel = scipy.signal.savgol_filter(np.diff(high_res_behavior),25,3)\n",
    "            accel = np.append(accel, 0)\n",
    "            interp_object = interp1d(high_res_timepoints, accel, bounds_error = False)\n",
    "            acl = interp_object(self.timestamps[:,z])\n",
    "            acl[-1] = 0\n",
    "            self.fictrac[short + 'a'] = acl#/np.std(acl)\n",
    "            \n",
    "            ### Clipped Acceleration ###\n",
    "            self.fictrac[short + 'a' + '_pos'] = np.clip(self.fictrac[short + 'a'], a_min=0, a_max=None)\n",
    "            self.fictrac[short + 'a' + '_neg'] = np.clip(self.fictrac[short + 'a'], a_min=None, a_max=0)*-1\n",
    "\n",
    "        self.fictrac['YZ'] = np.sqrt(np.power(self.fictrac['Y'],2), np.power(self.fictrac['Z'],2))\n",
    "        self.fictrac['YZh'] = np.sqrt(np.power(self.fictrac['Yh'],2), np.power(self.fictrac['Zh'],2))\n",
    "\n",
    "class Fly:\n",
    "    def __init__ (self, fly_name, fly_idx):\n",
    "        self.dir = os.path.join(dataset_path, fly_name, 'func_0')\n",
    "        self.fly_idx = fly_idx\n",
    "        self.fly_name = fly_name\n",
    "        self.maps = {}\n",
    "    def load_timestamps (self):\n",
    "        self.timestamps = bbb.load_timestamps(os.path.join(self.dir, 'imaging'))\n",
    "    def load_fictrac (self):\n",
    "        self.fictrac = Fictrac(self.dir, self.timestamps)\n",
    "    def load_brain_slice (self):\n",
    "        self.brain = brain[:,:,:,self.fly_idx]\n",
    "    def load_anatomy (self):\n",
    "        to_load = os.path.join(dataset_path, self.fly_name, 'warp', 'anat-to-meanbrain.nii')\n",
    "        self.anatomy = np.array(nib.load(to_load).get_data(), copy=True)\n",
    "    def load_z_depth_correction (self):\n",
    "        to_load = os.path.join(dataset_path, self.fly_name, 'warp', '20201220_warped_z_depth.nii')\n",
    "        self.z_correction = np.array(nib.load(to_load).get_data(), copy=True)\n",
    "    def get_cluster_averages (self, cluster_model_labels, n_clusters):\n",
    "        neural_data = self.brain.reshape(-1, 3384)\n",
    "        signals = []\n",
    "        self.cluster_indicies = []\n",
    "        for cluster_num in range(n_clusters):\n",
    "            cluster_indicies = np.where(cluster_model_labels==cluster_num)[0]\n",
    "            mean_signal = np.mean(neural_data[cluster_indicies,:], axis=0)\n",
    "            signals.append(mean_signal)\n",
    "            self.cluster_indicies.append(cluster_indicies) # store for later\n",
    "        self.cluster_signals=np.asarray(signals)\n",
    "    def get_cluster_id (self, x, y):\n",
    "        ax_vec = x*128 + y\n",
    "        for i in range(n_clusters):\n",
    "            if ax_vec in self.cluster_indicies[i]:\n",
    "                cluster_id = i\n",
    "                break\n",
    "        return cluster_id"
   ]
  },
  {
   "cell_type": "code",
   "execution_count": 7,
   "metadata": {
    "collapsed": true
   },
   "outputs": [],
   "source": [
    "expt_len = 1000*30*60\n",
    "resolution = 10\n",
    "high_res_timepoints = np.arange(0,expt_len,resolution) #0 to last time at subsample res\n",
    "\n",
    "class Fictrac:\n",
    "    def __init__ (self, fly_dir, timestamps):\n",
    "        self.fictrac_raw = bbb.load_fictrac(os.path.join(fly_dir, 'fictrac'))\n",
    "        self.timestamps = timestamps\n",
    "    def make_interp_object(self, behavior):\n",
    "        # Create camera timepoints\n",
    "        fps=50\n",
    "        camera_rate = 1/fps * 1000 # camera frame rate in ms\n",
    "        expt_len = 1000*30*60\n",
    "        x_original = np.arange(0,expt_len,camera_rate)\n",
    "\n",
    "        # Smooth raw fictrac data\n",
    "        fictrac_smoothed = scipy.signal.savgol_filter(np.asarray(self.fictrac_raw[behavior]),25,3)\n",
    "\n",
    "        # Create interp object with camera timepoints\n",
    "        fictrac_interp_object = interp1d(x_original, fictrac_smoothed, bounds_error = False)\n",
    "        return fictrac_interp_object\n",
    "\n",
    "    def pull_from_interp_object(self, interp_object, timepoints):\n",
    "        new_interp = interp_object(timepoints)\n",
    "        np.nan_to_num(new_interp, copy=False);\n",
    "        return new_interp\n",
    "\n",
    "    def interp_fictrac(self):\n",
    "        behaviors = ['dRotLabY', 'dRotLabZ']; shorts = ['Y', 'Z']\n",
    "        self.fictrac = {}\n",
    "\n",
    "        ### Y and Z ###\n",
    "        for behavior, short in zip(behaviors, shorts):\n",
    "            interp_object = self.make_interp_object(behavior)\n",
    "            self.fictrac[short + 'i'] = interp_object\n",
    "\n",
    "            ### Interpolate to neural data\n",
    "            self.fictrac[short] = []\n",
    "            self.fictrac[short + '_pos'] = []\n",
    "            self.fictrac[short + '_neg'] = []\n",
    "            for z in range(49):\n",
    "                ### Velocity ###\n",
    "                low_res_behavior = self.pull_from_interp_object(interp_object, self.timestamps[:,z])\n",
    "                #self.fictrac[short].append(low_res_behavior/np.std(low_res_behavior))\n",
    "                self.fictrac[short].append(low_res_behavior)\n",
    "\n",
    "                ### Clipped Velocities ###\n",
    "                self.fictrac[short + '_pos'].append(np.clip(self.fictrac[short][-1], a_min=0, a_max=None))\n",
    "                self.fictrac[short + '_neg'].append(np.clip(self.fictrac[short][-1], a_min=None, a_max=0)*-1)\n",
    "                \n",
    "            ### 10Hz interp ###\n",
    "            expt_len = 1000*30*60\n",
    "            sample_in_ms = 100\n",
    "            x_hz10 = np.arange(0,expt_len,sample_in_ms)\n",
    "            hz10_res_behavior = self.pull_from_interp_object(interp_object, x_hz10)\n",
    "            self.fictrac[short + '_10hz'] = hz10_res_behavior\n",
    "            self.fictrac[short + '_pos_10hz'] = np.clip(hz10_res_behavior, a_min=0, a_max=None)\n",
    "            self.fictrac[short + '_neg_10hz'] = np.clip(hz10_res_behavior, a_min=None, a_max=0) * -1\n",
    "\n",
    "        ### Walking ###\n",
    "        self.fictrac['walking'] = []\n",
    "        for z in range(49):    \n",
    "            YZ = np.sqrt(np.power(self.fictrac['Y'][z],2), np.power(self.fictrac['Z'][z],2))        \n",
    "            self.fictrac['walking'].append(np.zeros(3384))\n",
    "            self.fictrac['walking'][-1][np.where(YZ>.2)] = 1\n",
    "\n",
    "class Fly:\n",
    "    def __init__ (self, fly_name, fly_idx):\n",
    "        self.dir = os.path.join(dataset_path, fly_name, 'func_0')\n",
    "        self.fly_idx = fly_idx\n",
    "        self.fly_name = fly_name\n",
    "        self.maps = {}\n",
    "    def load_timestamps (self):\n",
    "        self.timestamps = bbb.load_timestamps(os.path.join(self.dir, 'imaging'))\n",
    "    def load_fictrac (self):\n",
    "        self.fictrac = Fictrac(self.dir, self.timestamps)\n",
    "    def load_brain_slice (self):\n",
    "        self.brain = brain[:,:,:,self.fly_idx]\n",
    "    def load_anatomy (self):\n",
    "        to_load = os.path.join(dataset_path, self.fly_name, 'warp', 'anat-to-meanbrain.nii')\n",
    "        self.anatomy = np.array(nib.load(to_load).get_data(), copy=True)\n",
    "    def load_z_depth_correction (self):\n",
    "        to_load = os.path.join(dataset_path, self.fly_name, 'warp', '20201220_warped_z_depth.nii')\n",
    "        self.z_correction = np.array(nib.load(to_load).get_data(), copy=True)\n",
    "    def get_cluster_averages (self, cluster_model_labels, n_clusters):\n",
    "        neural_data = self.brain.reshape(-1, 3384)\n",
    "        signals = []\n",
    "        self.cluster_indicies = []\n",
    "        for cluster_num in range(n_clusters):\n",
    "            cluster_indicies = np.where(cluster_model_labels==cluster_num)[0]\n",
    "            mean_signal = np.mean(neural_data[cluster_indicies,:], axis=0)\n",
    "            signals.append(mean_signal)\n",
    "            self.cluster_indicies.append(cluster_indicies) # store for later\n",
    "        self.cluster_signals=np.asarray(signals)\n",
    "    def get_cluster_id (self, x, y):\n",
    "        ax_vec = x*128 + y\n",
    "        for i in range(n_clusters):\n",
    "            if ax_vec in self.cluster_indicies[i]:\n",
    "                cluster_id = i\n",
    "                break\n",
    "        return cluster_id"
   ]
  },
  {
   "cell_type": "code",
   "execution_count": 8,
   "metadata": {},
   "outputs": [
    {
     "name": "stdout",
     "output_type": "stream",
     "text": [
      "*** fly: fly_087 ***\n",
      "\n",
      "~~ load_timestamps ~~\n",
      "Trying to load timestamp data from hdf5 file.\n",
      "Success.\n",
      "load_timestamps done. Duration: 32.34 ms\n",
      "\n",
      "~~ load_fictrac ~~\n",
      "load_fictrac done. Duration: 2.31 sec\n",
      "*** fly: fly_089 ***\n",
      "\n",
      "~~ load_timestamps ~~\n",
      "Trying to load timestamp data from hdf5 file.\n",
      "Success.\n",
      "load_timestamps done. Duration: 35.84 ms\n",
      "\n",
      "~~ load_fictrac ~~\n",
      "load_fictrac done. Duration: 2.38 sec\n",
      "*** fly: fly_094 ***\n",
      "\n",
      "~~ load_timestamps ~~\n",
      "Trying to load timestamp data from hdf5 file.\n",
      "Success.\n",
      "load_timestamps done. Duration: 18.41 ms\n",
      "\n",
      "~~ load_fictrac ~~\n",
      "load_fictrac done. Duration: 2.28 sec\n",
      "*** fly: fly_097 ***\n",
      "\n",
      "~~ load_timestamps ~~\n",
      "Trying to load timestamp data from hdf5 file.\n",
      "Success.\n",
      "load_timestamps done. Duration: 36.35 ms\n",
      "\n",
      "~~ load_fictrac ~~\n",
      "load_fictrac done. Duration: 2.43 sec\n",
      "*** fly: fly_098 ***\n",
      "\n",
      "~~ load_timestamps ~~\n",
      "Trying to load timestamp data from hdf5 file.\n",
      "Success.\n",
      "load_timestamps done. Duration: 4.50 ms\n",
      "\n",
      "~~ load_fictrac ~~\n",
      "load_fictrac done. Duration: 2.41 sec\n",
      "*** fly: fly_099 ***\n",
      "\n",
      "~~ load_timestamps ~~\n",
      "Trying to load timestamp data from hdf5 file.\n",
      "Success.\n",
      "load_timestamps done. Duration: 38.57 ms\n",
      "\n",
      "~~ load_fictrac ~~\n",
      "load_fictrac done. Duration: 2.40 sec\n",
      "*** fly: fly_100 ***\n",
      "\n",
      "~~ load_timestamps ~~\n",
      "Trying to load timestamp data from hdf5 file.\n",
      "Success.\n",
      "load_timestamps done. Duration: 30.26 ms\n",
      "\n",
      "~~ load_fictrac ~~\n",
      "load_fictrac done. Duration: 1.89 sec\n",
      "*** fly: fly_101 ***\n",
      "\n",
      "~~ load_timestamps ~~\n",
      "Trying to load timestamp data from hdf5 file.\n",
      "Success.\n",
      "load_timestamps done. Duration: 33.14 ms\n",
      "\n",
      "~~ load_fictrac ~~\n",
      "load_fictrac done. Duration: 2.37 sec\n",
      "*** fly: fly_105 ***\n",
      "\n",
      "~~ load_timestamps ~~\n",
      "Trying to load timestamp data from hdf5 file.\n",
      "Success.\n",
      "load_timestamps done. Duration: 4.38 ms\n",
      "\n",
      "~~ load_fictrac ~~\n",
      "load_fictrac done. Duration: 2.43 sec\n"
     ]
    }
   ],
   "source": [
    "flies = {}\n",
    "for i, fly in enumerate(fly_names):\n",
    "    print(F'*** fly: {fly} ***')\n",
    "    flies[fly] = Fly(fly_name=fly, fly_idx=i)\n",
    "    flies[fly].load_timestamps()\n",
    "    flies[fly].load_fictrac()\n",
    "    flies[fly].fictrac.interp_fictrac()"
   ]
  },
  {
   "cell_type": "code",
   "execution_count": 9,
   "metadata": {
    "collapsed": true
   },
   "outputs": [],
   "source": [
    "z = 20\n",
    "sphere_radius = 4.5e-3 # in m\n",
    "fps=50\n",
    "behaviors = ['Y', 'Z', 'Y_pos', 'Z_pos', 'Z_neg']\n",
    "behavior_super = {}\n",
    "for behavior in behaviors:\n",
    "    behavior_super[behavior] = []\n",
    "    for fly in fly_names:\n",
    "        behavior_super[behavior].extend((flies[fly].fictrac.fictrac[behavior][z]))\n",
    "    behavior_super[behavior] = np.asarray(behavior_super[behavior])\n",
    "    behavior_super[behavior + '_std'] = behavior_super[behavior]/np.std(behavior_super[behavior])\n",
    "    \n",
    "    if behavior in ['Y', 'Y_pos']:\n",
    "        ''' starts with units of rad/frame\n",
    "        * sphere_radius(m); now in m/frame\n",
    "        * fps; now in m/sec\n",
    "        * 1000; now in mm/sec '''\n",
    "        behavior_super[behavior + '_units'] = behavior_super[behavior] * sphere_radius * fps * 1000 # mm/sec\n",
    "        \n",
    "    elif behavior in ['Z', 'Z_pos', 'Z_neg']:\n",
    "        ''' starts with units of rad/frame\n",
    "        * 180 / np.pi; now in deg/frame\n",
    "        * fps; now in deg/sec '''\n",
    "        behavior_super[behavior + '_units'] = behavior_super[behavior] * 180 / np.pi * fps ## deg/sec"
   ]
  },
  {
   "cell_type": "code",
   "execution_count": 9,
   "metadata": {
    "collapsed": true
   },
   "outputs": [],
   "source": [
    "##############################\n",
    "### TEMPORAL SHIFT VERSION ###\n",
    "##############################\n",
    "\n",
    "z = 20\n",
    "sphere_radius = 4.5e-3 # in m\n",
    "fps=50\n",
    "behaviors = ['Y', 'Z', 'Y_pos', 'Z_pos', 'Z_neg']\n",
    "behavior_super_z = {}\n",
    "for z in range(49):\n",
    "    behavior_super_z[z] = {}\n",
    "    for behavior in behaviors:\n",
    "        behavior_super_z[z][behavior] = []\n",
    "        for fly in fly_names:\n",
    "            behavior_super_z[z][behavior].extend((flies[fly].fictrac.fictrac[behavior][z]))\n",
    "        behavior_super_z[z][behavior] = np.asarray(behavior_super_z[z][behavior])\n",
    "        behavior_super_z[z][behavior + '_std'] = behavior_super_z[z][behavior]/np.std(behavior_super_z[z][behavior])\n"
   ]
  },
  {
   "cell_type": "code",
   "execution_count": 10,
   "metadata": {
    "collapsed": true
   },
   "outputs": [],
   "source": [
    "def bin_2D(pc, num_bins_x, num_bins_y, idx_x ,idx_y):\n",
    "    #\"PC\" is just a holdover\n",
    "    pc_binned = []\n",
    "    pc_std = []\n",
    "    pc_count = []\n",
    "    pc_var = []\n",
    "    for i in range(num_bins_x):\n",
    "        mask_x = (idx_x == i)\n",
    "        for j in range(num_bins_y):\n",
    "            mask_y = (idx_y == j)\n",
    "            mask = mask_x & mask_y\n",
    "            pc_binned.append(np.mean(pc[mask]))\n",
    "            pc_std.append(np.std(pc[mask]))\n",
    "            pc_count.append(np.count_nonzero(~np.isnan(pc[mask])))\n",
    "            pc_var.append(np.var(pc[mask]))\n",
    "    pc_binned = np.flip(np.reshape(pc_binned,(num_bins_x, num_bins_y)).T,0)\n",
    "    pc_std = np.flip(np.reshape(pc_std,(num_bins_x, num_bins_y)).T,0)\n",
    "    pc_count = np.flip(np.reshape(pc_count,(num_bins_x, num_bins_y)).T,0)\n",
    "    pc_var = np.flip(np.reshape(pc_var,(num_bins_x, num_bins_y)).T,0)\n",
    "    pcs_binned = {'pc_binned': pc_binned,\n",
    "                  'pc_std': pc_std,\n",
    "                  'pc_count':pc_count,\n",
    "                  'pc_var':pc_var}\n",
    "    return pcs_binned\n",
    "\n",
    "def bin_2D_plot(x_data, y_data, value_data, num_bins_x, num_bins_y, start_x, end_x, start_y, end_y, min_num_samples):\n",
    "    # Define bins\n",
    "    bins_x, bins_y = np.linspace(start_x,end_x,num_bins_x), np.linspace(start_y,end_y,num_bins_y)\n",
    "    #bins_x = np.concatenate((np.linspace(start_x,0,num_bins_x)[:-1], np.linspace(0,end_x,num_bins_x)))\n",
    "    #bins_y = np.concatenate((np.linspace(start_y,0,num_bins_y)[:-1], np.linspace(0,end_y,num_bins_y)))\n",
    "    \n",
    "#     bins_x = [x / 10.0 for x in range(-20, 64, 4)]\n",
    "#     bins_y = [x / 10.0 for x in range(-40, 44, 4)]\n",
    "#     num_bins_x = 22\n",
    "#     num_bins_y = 22\n",
    "    \n",
    "    # Assign fictrac values to bin numbers\n",
    "    idx_x, idx_y = np.digitize(x_data,bins_x), np.digitize(y_data,bins_y)\n",
    "\n",
    "    test = bin_2D(value_data, num_bins_x, num_bins_y, idx_x ,idx_y)\n",
    "    \n",
    "    # Hide bins containing too few data points\n",
    "    test['pc_binned'][np.where(test['pc_count']<=min_num_samples)] = 0\n",
    "    return test['pc_binned'], bins_x, bins_y\n",
    "\n",
    "def plot_2D_hist(fig, fly, behavior_type, x_pos, y_pos):\n",
    "    ax = fig.add_axes([x_pos,y_pos,.05,.05])\n",
    "\n",
    "    if behavior_type == 'velocity':\n",
    "        X_var = flies[fly].fictrac.fictrac['Y']\n",
    "        Y_var = flies[fly].fictrac.fictrac['Z']\n",
    "        signal = flies[fly].cluster_signals[flies[fly].get_cluster_id(x, y), :]\n",
    "    if behavior_type == 'velocity_pooled':\n",
    "        X_var = pooled_behavior['Y']\n",
    "        Y_var = pooled_behavior['Z']\n",
    "        signal = temporal[:,0]\n",
    "    if behavior_type == 'acceleration':\n",
    "        X_var = flies[fly].fictrac.fictrac['Ya']\n",
    "        Y_var = flies[fly].fictrac.fictrac['Za']\n",
    "        signal = flies[fly].cluster_signals[flies[fly].get_cluster_id(x, y), :]\n",
    "    if behavior_type == 'acceleration_pooled':\n",
    "        X_var = pooled_behavior['Ya']\n",
    "        Y_var = pooled_behavior['Za']\n",
    "        signal = pooled_activity\n",
    "       \n",
    "    if behavior_type in ['velocity', 'velocity_pooled']:\n",
    "        start_x=-2; end_x=8; start_y=-5; end_y=5\n",
    "        ax.axhline(4.5,linestyle='--',color='k',linewidth=1)\n",
    "        ax.axvline(1.5,linestyle='--',color='k',linewidth=1)\n",
    "    if behavior_type in ['acceleration', 'acceleration_pooled']:\n",
    "        start_x=-5; end_x=5; start_y=-5; end_y=5\n",
    "        ax.axhline(4.5,linestyle='--',color='k',linewidth=1)\n",
    "        ax.axvline(4.5,linestyle='--',color='k',linewidth=1)\n",
    "    \n",
    "    fictrac_2d, bins_x, bins_y = bin_2D_plot(X_var, Y_var, signal,\n",
    "                                             num_bins_x=10, num_bins_y=10,\n",
    "                                             start_x=start_x, end_x=end_x, start_y=start_y, end_y=end_y)\n",
    "    \n",
    "    ax.imshow(fictrac_2d,cmap='PuOr',vmin=-1,vmax=1)\n",
    "    ax.yaxis.set_visible(False)\n",
    "    ax.xaxis.set_visible(False)\n",
    "    \n",
    "def plot_2D_scatter(fig, fly, behavior_type, x_pos, y_pos):\n",
    "    ax = fig.add_axes([x_pos,y_pos,.05,.05])\n",
    "\n",
    "    if behavior_type == 'velocity':\n",
    "        X_var = flies[fly].fictrac.fictrac['Y']\n",
    "        Y_var = flies[fly].fictrac.fictrac['Z']\n",
    "        signal = flies[fly].cluster_signals[flies[fly].get_cluster_id(x, y), :]\n",
    "        ax.set_ylim(-5,5)\n",
    "        ax.set_xlim(-2,8)\n",
    "    if behavior_type == 'acceleration':\n",
    "        X_var = flies[fly].fictrac.fictrac['Ya']\n",
    "        Y_var = flies[fly].fictrac.fictrac['Za']\n",
    "        signal = flies[fly].cluster_signals[flies[fly].get_cluster_id(x, y), :]\n",
    "        ax.set_ylim(-5,5)\n",
    "        ax.set_xlim(-5,5)\n",
    "    if behavior_type == 'velocity_pooled':\n",
    "        X_var = pooled_behavior['Y']\n",
    "        Y_var = pooled_behavior['Z']\n",
    "        signal = pooled_activity\n",
    "        ax.set_ylim(-5,5)\n",
    "        ax.set_xlim(-2,8)\n",
    "    if behavior_type == 'acceleration_pooled':\n",
    "        X_var = pooled_behavior['Ya']\n",
    "        Y_var = pooled_behavior['Za']\n",
    "        signal = pooled_activity\n",
    "        ax.set_ylim(-5,5)\n",
    "        ax.set_xlim(-5,5)\n",
    "    \n",
    "    ax.scatter(x=X_var,\n",
    "               y=Y_var,\n",
    "               c=signal,\n",
    "               marker='x',cmap='PuOr',vmin=-1,vmax=1,s=.5,linewidth=.1) #s,.2,lw=0\n",
    "    \n",
    "    ax.yaxis.set_visible(False)\n",
    "    ax.xaxis.set_visible(False)\n",
    "    ax.axhline(0,linestyle='--',color='k',linewidth=1)\n",
    "    ax.axvline(0,linestyle='--',color='k',linewidth=1)"
   ]
  },
  {
   "cell_type": "code",
   "execution_count": 11,
   "metadata": {},
   "outputs": [
    {
     "data": {
      "text/plain": [
       "(49, 9, 2000, 3384)"
      ]
     },
     "execution_count": 11,
     "metadata": {},
     "output_type": "execute_result"
    }
   ],
   "source": [
    "file = \"/oak/stanford/groups/trc/data/Brezovec/2P_Imaging/20210316_neural_weighted_behavior/20221202_master_X_noYclip.npy\"\n",
    "X_beh = np.load(file)\n",
    "X_beh.shape"
   ]
  },
  {
   "cell_type": "code",
   "execution_count": 12,
   "metadata": {},
   "outputs": [
    {
     "name": "stderr",
     "output_type": "stream",
     "text": [
      "100%|██████████| 9/9 [00:00<00:00, 243.56it/s]\n"
     ]
    }
   ],
   "source": [
    "# the main thing to deal with now is the z-depth\n",
    "# for a given supercluster, i need to know the original median z-depth for each fly\n",
    "\n",
    "z_corrections = []\n",
    "for fly in tqdm.tqdm(fly_names):\n",
    "    to_load = os.path.join(dataset_path, fly, 'warp', '20201220_warped_z_depth.nii')\n",
    "    z_corrections.append(np.array(nib.load(to_load).get_data(), copy=True))\n",
    "z_corrections = np.asarray(z_corrections)"
   ]
  },
  {
   "cell_type": "code",
   "execution_count": 13,
   "metadata": {},
   "outputs": [
    {
     "data": {
      "text/plain": [
       "(256, 128, 49)"
      ]
     },
     "execution_count": 13,
     "metadata": {},
     "output_type": "execute_result"
    }
   ],
   "source": [
    "superclusters_3d = np.load(os.path.join(cluster_dir, \"20221130_pca_clsuters_in_luke_OG.npy\"))\n",
    "superclusters_3d = superclusters_3d[...,::-1] ### FLIP Z !!!!!!!!!!!!\n",
    "superclusters_3d.shape"
   ]
  },
  {
   "cell_type": "code",
   "execution_count": 14,
   "metadata": {},
   "outputs": [
    {
     "name": "stderr",
     "output_type": "stream",
     "text": [
      "100%|██████████| 9/9 [00:31<00:00,  3.48s/it]\n"
     ]
    }
   ],
   "source": [
    "original_z_depth = []\n",
    "for fly in tqdm.tqdm(range(9)):\n",
    "    for cluster in range(501):\n",
    "        ind = np.where(superclusters_3d==cluster)\n",
    "        original_z_depth.append(np.median(z_corrections[fly,ind[0],ind[1],ind[2]]))\n",
    "original_z_depth = np.asarray(original_z_depth)\n",
    "original_z_depth = np.reshape(original_z_depth,(9,501))\n",
    "original_z_depth = original_z_depth.astype('int')"
   ]
  },
  {
   "cell_type": "code",
   "execution_count": 17,
   "metadata": {},
   "outputs": [
    {
     "data": {
      "text/plain": [
       "1200"
      ]
     },
     "execution_count": 17,
     "metadata": {},
     "output_type": "execute_result"
    }
   ],
   "source": [
    "60*20"
   ]
  },
  {
   "cell_type": "code",
   "execution_count": 22,
   "metadata": {},
   "outputs": [
    {
     "name": "stderr",
     "output_type": "stream",
     "text": [
      "100it [04:19,  2.60s/it]\n"
     ]
    },
    {
     "data": {
      "text/plain": [
       "<Figure size 1440x720 with 0 Axes>"
      ]
     },
     "metadata": {},
     "output_type": "display_data"
    },
    {
     "data": {
      "text/plain": [
       "<Figure size 1440x720 with 0 Axes>"
      ]
     },
     "metadata": {},
     "output_type": "display_data"
    },
    {
     "data": {
      "text/plain": [
       "<Figure size 1440x720 with 0 Axes>"
      ]
     },
     "metadata": {},
     "output_type": "display_data"
    },
    {
     "data": {
      "text/plain": [
       "<Figure size 1440x720 with 0 Axes>"
      ]
     },
     "metadata": {},
     "output_type": "display_data"
    },
    {
     "data": {
      "text/plain": [
       "<Figure size 1440x720 with 0 Axes>"
      ]
     },
     "metadata": {},
     "output_type": "display_data"
    },
    {
     "data": {
      "text/plain": [
       "<Figure size 1440x720 with 0 Axes>"
      ]
     },
     "metadata": {},
     "output_type": "display_data"
    },
    {
     "data": {
      "text/plain": [
       "<Figure size 1440x720 with 0 Axes>"
      ]
     },
     "metadata": {},
     "output_type": "display_data"
    },
    {
     "data": {
      "text/plain": [
       "<Figure size 1440x720 with 0 Axes>"
      ]
     },
     "metadata": {},
     "output_type": "display_data"
    },
    {
     "data": {
      "text/plain": [
       "<Figure size 1440x720 with 0 Axes>"
      ]
     },
     "metadata": {},
     "output_type": "display_data"
    },
    {
     "data": {
      "text/plain": [
       "<Figure size 1440x720 with 0 Axes>"
      ]
     },
     "metadata": {},
     "output_type": "display_data"
    },
    {
     "data": {
      "text/plain": [
       "<Figure size 1440x720 with 0 Axes>"
      ]
     },
     "metadata": {},
     "output_type": "display_data"
    },
    {
     "data": {
      "text/plain": [
       "<Figure size 1440x720 with 0 Axes>"
      ]
     },
     "metadata": {},
     "output_type": "display_data"
    },
    {
     "data": {
      "text/plain": [
       "<Figure size 1440x720 with 0 Axes>"
      ]
     },
     "metadata": {},
     "output_type": "display_data"
    },
    {
     "data": {
      "text/plain": [
       "<Figure size 1440x720 with 0 Axes>"
      ]
     },
     "metadata": {},
     "output_type": "display_data"
    },
    {
     "data": {
      "text/plain": [
       "<Figure size 1440x720 with 0 Axes>"
      ]
     },
     "metadata": {},
     "output_type": "display_data"
    },
    {
     "data": {
      "text/plain": [
       "<Figure size 1440x720 with 0 Axes>"
      ]
     },
     "metadata": {},
     "output_type": "display_data"
    },
    {
     "data": {
      "text/plain": [
       "<Figure size 1440x720 with 0 Axes>"
      ]
     },
     "metadata": {},
     "output_type": "display_data"
    },
    {
     "data": {
      "text/plain": [
       "<Figure size 1440x720 with 0 Axes>"
      ]
     },
     "metadata": {},
     "output_type": "display_data"
    },
    {
     "data": {
      "text/plain": [
       "<Figure size 1440x720 with 0 Axes>"
      ]
     },
     "metadata": {},
     "output_type": "display_data"
    },
    {
     "data": {
      "text/plain": [
       "<Figure size 1440x720 with 0 Axes>"
      ]
     },
     "metadata": {},
     "output_type": "display_data"
    },
    {
     "data": {
      "text/plain": [
       "<Figure size 1440x720 with 0 Axes>"
      ]
     },
     "metadata": {},
     "output_type": "display_data"
    },
    {
     "data": {
      "text/plain": [
       "<Figure size 1440x720 with 0 Axes>"
      ]
     },
     "metadata": {},
     "output_type": "display_data"
    },
    {
     "data": {
      "text/plain": [
       "<Figure size 1440x720 with 0 Axes>"
      ]
     },
     "metadata": {},
     "output_type": "display_data"
    },
    {
     "data": {
      "text/plain": [
       "<Figure size 1440x720 with 0 Axes>"
      ]
     },
     "metadata": {},
     "output_type": "display_data"
    },
    {
     "data": {
      "text/plain": [
       "<Figure size 1440x720 with 0 Axes>"
      ]
     },
     "metadata": {},
     "output_type": "display_data"
    },
    {
     "data": {
      "text/plain": [
       "<Figure size 1440x720 with 0 Axes>"
      ]
     },
     "metadata": {},
     "output_type": "display_data"
    },
    {
     "data": {
      "text/plain": [
       "<Figure size 1440x720 with 0 Axes>"
      ]
     },
     "metadata": {},
     "output_type": "display_data"
    },
    {
     "data": {
      "text/plain": [
       "<Figure size 1440x720 with 0 Axes>"
      ]
     },
     "metadata": {},
     "output_type": "display_data"
    },
    {
     "data": {
      "text/plain": [
       "<Figure size 1440x720 with 0 Axes>"
      ]
     },
     "metadata": {},
     "output_type": "display_data"
    },
    {
     "data": {
      "text/plain": [
       "<Figure size 1440x720 with 0 Axes>"
      ]
     },
     "metadata": {},
     "output_type": "display_data"
    },
    {
     "data": {
      "text/plain": [
       "<Figure size 1440x720 with 0 Axes>"
      ]
     },
     "metadata": {},
     "output_type": "display_data"
    },
    {
     "data": {
      "text/plain": [
       "<Figure size 1440x720 with 0 Axes>"
      ]
     },
     "metadata": {},
     "output_type": "display_data"
    },
    {
     "data": {
      "text/plain": [
       "<Figure size 1440x720 with 0 Axes>"
      ]
     },
     "metadata": {},
     "output_type": "display_data"
    },
    {
     "data": {
      "text/plain": [
       "<Figure size 1440x720 with 0 Axes>"
      ]
     },
     "metadata": {},
     "output_type": "display_data"
    },
    {
     "data": {
      "text/plain": [
       "<Figure size 1440x720 with 0 Axes>"
      ]
     },
     "metadata": {},
     "output_type": "display_data"
    },
    {
     "data": {
      "text/plain": [
       "<Figure size 1440x720 with 0 Axes>"
      ]
     },
     "metadata": {},
     "output_type": "display_data"
    },
    {
     "data": {
      "text/plain": [
       "<Figure size 1440x720 with 0 Axes>"
      ]
     },
     "metadata": {},
     "output_type": "display_data"
    },
    {
     "data": {
      "text/plain": [
       "<Figure size 1440x720 with 0 Axes>"
      ]
     },
     "metadata": {},
     "output_type": "display_data"
    },
    {
     "data": {
      "text/plain": [
       "<Figure size 1440x720 with 0 Axes>"
      ]
     },
     "metadata": {},
     "output_type": "display_data"
    },
    {
     "data": {
      "text/plain": [
       "<Figure size 1440x720 with 0 Axes>"
      ]
     },
     "metadata": {},
     "output_type": "display_data"
    },
    {
     "data": {
      "text/plain": [
       "<Figure size 1440x720 with 0 Axes>"
      ]
     },
     "metadata": {},
     "output_type": "display_data"
    },
    {
     "data": {
      "text/plain": [
       "<Figure size 1440x720 with 0 Axes>"
      ]
     },
     "metadata": {},
     "output_type": "display_data"
    },
    {
     "data": {
      "text/plain": [
       "<Figure size 1440x720 with 0 Axes>"
      ]
     },
     "metadata": {},
     "output_type": "display_data"
    },
    {
     "data": {
      "text/plain": [
       "<Figure size 1440x720 with 0 Axes>"
      ]
     },
     "metadata": {},
     "output_type": "display_data"
    },
    {
     "data": {
      "text/plain": [
       "<Figure size 1440x720 with 0 Axes>"
      ]
     },
     "metadata": {},
     "output_type": "display_data"
    },
    {
     "data": {
      "text/plain": [
       "<Figure size 1440x720 with 0 Axes>"
      ]
     },
     "metadata": {},
     "output_type": "display_data"
    },
    {
     "data": {
      "text/plain": [
       "<Figure size 1440x720 with 0 Axes>"
      ]
     },
     "metadata": {},
     "output_type": "display_data"
    },
    {
     "data": {
      "text/plain": [
       "<Figure size 1440x720 with 0 Axes>"
      ]
     },
     "metadata": {},
     "output_type": "display_data"
    },
    {
     "data": {
      "text/plain": [
       "<Figure size 1440x720 with 0 Axes>"
      ]
     },
     "metadata": {},
     "output_type": "display_data"
    },
    {
     "data": {
      "text/plain": [
       "<Figure size 1440x720 with 0 Axes>"
      ]
     },
     "metadata": {},
     "output_type": "display_data"
    },
    {
     "data": {
      "text/plain": [
       "<Figure size 1440x720 with 0 Axes>"
      ]
     },
     "metadata": {},
     "output_type": "display_data"
    },
    {
     "data": {
      "text/plain": [
       "<Figure size 1440x720 with 0 Axes>"
      ]
     },
     "metadata": {},
     "output_type": "display_data"
    },
    {
     "data": {
      "text/plain": [
       "<Figure size 1440x720 with 0 Axes>"
      ]
     },
     "metadata": {},
     "output_type": "display_data"
    },
    {
     "data": {
      "text/plain": [
       "<Figure size 1440x720 with 0 Axes>"
      ]
     },
     "metadata": {},
     "output_type": "display_data"
    },
    {
     "data": {
      "text/plain": [
       "<Figure size 1440x720 with 0 Axes>"
      ]
     },
     "metadata": {},
     "output_type": "display_data"
    },
    {
     "data": {
      "text/plain": [
       "<Figure size 1440x720 with 0 Axes>"
      ]
     },
     "metadata": {},
     "output_type": "display_data"
    },
    {
     "data": {
      "text/plain": [
       "<Figure size 1440x720 with 0 Axes>"
      ]
     },
     "metadata": {},
     "output_type": "display_data"
    },
    {
     "data": {
      "text/plain": [
       "<Figure size 1440x720 with 0 Axes>"
      ]
     },
     "metadata": {},
     "output_type": "display_data"
    },
    {
     "data": {
      "text/plain": [
       "<Figure size 1440x720 with 0 Axes>"
      ]
     },
     "metadata": {},
     "output_type": "display_data"
    },
    {
     "data": {
      "text/plain": [
       "<Figure size 1440x720 with 0 Axes>"
      ]
     },
     "metadata": {},
     "output_type": "display_data"
    },
    {
     "data": {
      "text/plain": [
       "<Figure size 1440x720 with 0 Axes>"
      ]
     },
     "metadata": {},
     "output_type": "display_data"
    },
    {
     "data": {
      "text/plain": [
       "<Figure size 1440x720 with 0 Axes>"
      ]
     },
     "metadata": {},
     "output_type": "display_data"
    },
    {
     "data": {
      "text/plain": [
       "<Figure size 1440x720 with 0 Axes>"
      ]
     },
     "metadata": {},
     "output_type": "display_data"
    },
    {
     "data": {
      "text/plain": [
       "<Figure size 1440x720 with 0 Axes>"
      ]
     },
     "metadata": {},
     "output_type": "display_data"
    },
    {
     "data": {
      "text/plain": [
       "<Figure size 1440x720 with 0 Axes>"
      ]
     },
     "metadata": {},
     "output_type": "display_data"
    },
    {
     "data": {
      "text/plain": [
       "<Figure size 1440x720 with 0 Axes>"
      ]
     },
     "metadata": {},
     "output_type": "display_data"
    },
    {
     "data": {
      "text/plain": [
       "<Figure size 1440x720 with 0 Axes>"
      ]
     },
     "metadata": {},
     "output_type": "display_data"
    },
    {
     "data": {
      "text/plain": [
       "<Figure size 1440x720 with 0 Axes>"
      ]
     },
     "metadata": {},
     "output_type": "display_data"
    },
    {
     "data": {
      "text/plain": [
       "<Figure size 1440x720 with 0 Axes>"
      ]
     },
     "metadata": {},
     "output_type": "display_data"
    },
    {
     "data": {
      "text/plain": [
       "<Figure size 1440x720 with 0 Axes>"
      ]
     },
     "metadata": {},
     "output_type": "display_data"
    },
    {
     "data": {
      "text/plain": [
       "<Figure size 1440x720 with 0 Axes>"
      ]
     },
     "metadata": {},
     "output_type": "display_data"
    },
    {
     "data": {
      "text/plain": [
       "<Figure size 1440x720 with 0 Axes>"
      ]
     },
     "metadata": {},
     "output_type": "display_data"
    },
    {
     "data": {
      "text/plain": [
       "<Figure size 1440x720 with 0 Axes>"
      ]
     },
     "metadata": {},
     "output_type": "display_data"
    },
    {
     "data": {
      "text/plain": [
       "<Figure size 1440x720 with 0 Axes>"
      ]
     },
     "metadata": {},
     "output_type": "display_data"
    },
    {
     "data": {
      "text/plain": [
       "<Figure size 1440x720 with 0 Axes>"
      ]
     },
     "metadata": {},
     "output_type": "display_data"
    },
    {
     "data": {
      "text/plain": [
       "<Figure size 1440x720 with 0 Axes>"
      ]
     },
     "metadata": {},
     "output_type": "display_data"
    },
    {
     "data": {
      "text/plain": [
       "<Figure size 1440x720 with 0 Axes>"
      ]
     },
     "metadata": {},
     "output_type": "display_data"
    },
    {
     "data": {
      "text/plain": [
       "<Figure size 1440x720 with 0 Axes>"
      ]
     },
     "metadata": {},
     "output_type": "display_data"
    },
    {
     "data": {
      "text/plain": [
       "<Figure size 1440x720 with 0 Axes>"
      ]
     },
     "metadata": {},
     "output_type": "display_data"
    },
    {
     "data": {
      "text/plain": [
       "<Figure size 1440x720 with 0 Axes>"
      ]
     },
     "metadata": {},
     "output_type": "display_data"
    },
    {
     "data": {
      "text/plain": [
       "<Figure size 1440x720 with 0 Axes>"
      ]
     },
     "metadata": {},
     "output_type": "display_data"
    },
    {
     "data": {
      "text/plain": [
       "<Figure size 1440x720 with 0 Axes>"
      ]
     },
     "metadata": {},
     "output_type": "display_data"
    },
    {
     "data": {
      "text/plain": [
       "<Figure size 1440x720 with 0 Axes>"
      ]
     },
     "metadata": {},
     "output_type": "display_data"
    },
    {
     "data": {
      "text/plain": [
       "<Figure size 1440x720 with 0 Axes>"
      ]
     },
     "metadata": {},
     "output_type": "display_data"
    },
    {
     "data": {
      "text/plain": [
       "<Figure size 1440x720 with 0 Axes>"
      ]
     },
     "metadata": {},
     "output_type": "display_data"
    },
    {
     "data": {
      "text/plain": [
       "<Figure size 1440x720 with 0 Axes>"
      ]
     },
     "metadata": {},
     "output_type": "display_data"
    },
    {
     "data": {
      "text/plain": [
       "<Figure size 1440x720 with 0 Axes>"
      ]
     },
     "metadata": {},
     "output_type": "display_data"
    },
    {
     "data": {
      "text/plain": [
       "<Figure size 1440x720 with 0 Axes>"
      ]
     },
     "metadata": {},
     "output_type": "display_data"
    },
    {
     "data": {
      "text/plain": [
       "<Figure size 1440x720 with 0 Axes>"
      ]
     },
     "metadata": {},
     "output_type": "display_data"
    },
    {
     "data": {
      "text/plain": [
       "<Figure size 1440x720 with 0 Axes>"
      ]
     },
     "metadata": {},
     "output_type": "display_data"
    },
    {
     "data": {
      "text/plain": [
       "<Figure size 1440x720 with 0 Axes>"
      ]
     },
     "metadata": {},
     "output_type": "display_data"
    },
    {
     "data": {
      "text/plain": [
       "<Figure size 1440x720 with 0 Axes>"
      ]
     },
     "metadata": {},
     "output_type": "display_data"
    },
    {
     "data": {
      "text/plain": [
       "<Figure size 1440x720 with 0 Axes>"
      ]
     },
     "metadata": {},
     "output_type": "display_data"
    },
    {
     "data": {
      "text/plain": [
       "<Figure size 1440x720 with 0 Axes>"
      ]
     },
     "metadata": {},
     "output_type": "display_data"
    },
    {
     "data": {
      "text/plain": [
       "<Figure size 1440x720 with 0 Axes>"
      ]
     },
     "metadata": {},
     "output_type": "display_data"
    },
    {
     "data": {
      "text/plain": [
       "<Figure size 1440x720 with 0 Axes>"
      ]
     },
     "metadata": {},
     "output_type": "display_data"
    },
    {
     "data": {
      "text/plain": [
       "<Figure size 1440x720 with 0 Axes>"
      ]
     },
     "metadata": {},
     "output_type": "display_data"
    },
    {
     "data": {
      "text/plain": [
       "<Figure size 1440x720 with 0 Axes>"
      ]
     },
     "metadata": {},
     "output_type": "display_data"
    },
    {
     "data": {
      "text/plain": [
       "<Figure size 1440x720 with 0 Axes>"
      ]
     },
     "metadata": {},
     "output_type": "display_data"
    },
    {
     "data": {
      "text/plain": [
       "<Figure size 1440x720 with 0 Axes>"
      ]
     },
     "metadata": {},
     "output_type": "display_data"
    }
   ],
   "source": [
    "cluster = 116\n",
    "Xs_new = []\n",
    "for fly in range(9):\n",
    "    Xs_new.append(X_beh[original_z_depth[fly,cluster],fly,:,:])\n",
    "Xs_new = np.asarray(Xs_new)\n",
    "beh_cluster = np.reshape(np.moveaxis(Xs_new,0,1),(-1,30456))\n",
    "\n",
    "\n",
    "for j,shift in tqdm.tqdm(enumerate(np.arange(-50,50,1))):\n",
    "    Y_var = beh_cluster[750+shift,:]+beh_cluster[1250+shift,:]*-1\n",
    "    Y_var /= np.std(Y_var)\n",
    "\n",
    "    X_var = beh_cluster[250+shift,:]\n",
    "    X_var /= np.std(X_var)\n",
    "\n",
    "    start_x=-2; end_x=6; start_y=-4; end_y=4\n",
    "\n",
    "    signal = supercluster_signals[cluster,:]\n",
    "    fictrac_2d, bins_x, bins_y = bin_2D_plot(X_var, Y_var, signal,\n",
    "                                     num_bins_x=25, num_bins_y=25,\n",
    "                                     start_x=start_x, end_x=end_x, start_y=start_y, end_y=end_y,\n",
    "                                     min_num_samples=9)\n",
    "\n",
    "    fictrac_2d[-1,:] = 0\n",
    "    vmax = .1#np.percentile(np.abs(fictrac_2d),98)\n",
    "    \n",
    "    plt.figure(figsize=(20,10))\n",
    "    plt.imshow(fictrac_2d[:,:],cmap='PuOr',vmin=-vmax,vmax=vmax,extent=[-2.35,6,-4.35,4])\n",
    "    save_path = '/oak/stanford/groups/trc/data/Brezovec/2P_Imaging/figs/20221202_2dhist_movies/116'\n",
    "    #timestr = time.strftime(\"%Y%m%d-%H%M%S\")\n",
    "    fname = os.path.join(save_path, '{0:05d}.png'.format(j))\n",
    "    plt.savefig(fname,dpi=300,bbox_inches='tight')\n",
    "    plt.cla()\n",
    "    plt.clf()"
   ]
  },
  {
   "cell_type": "code",
   "execution_count": 20,
   "metadata": {
    "collapsed": true
   },
   "outputs": [],
   "source": [
    "save_path = '/oak/stanford/groups/trc/data/Brezovec/2P_Imaging/figs/20221202_2dhist_movies/116'\n",
    "os.mkdir(save_path)"
   ]
  },
  {
   "cell_type": "code",
   "execution_count": 15,
   "metadata": {},
   "outputs": [
    {
     "data": {
      "image/png": "[encoded data removed]",
      "text/plain": [
       "<Figure size 1440x720 with 20 Axes>"
      ]
     },
     "metadata": {},
     "output_type": "display_data"
    }
   ],
   "source": [
    "cluster = 116\n",
    "Xs_new = []\n",
    "for fly in range(9):\n",
    "    Xs_new.append(X_beh[original_z_depth[fly,cluster],fly,:,:])\n",
    "Xs_new = np.asarray(Xs_new)\n",
    "beh_cluster = np.reshape(np.moveaxis(Xs_new,0,1),(-1,30456))\n",
    "\n",
    "plt.figure(figsize=(20,10))\n",
    "\n",
    "for j,shift in enumerate(np.arange(-60,60,6)):\n",
    "    Y_var = beh_cluster[750+shift,:]+beh_cluster[1250+shift,:]*-1\n",
    "    Y_var /= np.std(Y_var)\n",
    "\n",
    "    X_var = beh_cluster[250+shift,:]\n",
    "    X_var /= np.std(X_var)\n",
    "\n",
    "    start_x=-2; end_x=6; start_y=-4; end_y=4\n",
    "\n",
    "    signal = supercluster_signals[cluster,:]\n",
    "    fictrac_2d, bins_x, bins_y = bin_2D_plot(X_var, Y_var, signal,\n",
    "                                     num_bins_x=25, num_bins_y=25,\n",
    "                                     start_x=start_x, end_x=end_x, start_y=start_y, end_y=end_y,\n",
    "                                     min_num_samples=9)\n",
    "\n",
    "    fictrac_2d[-1,:] = 0\n",
    "    vmax = .1#np.percentile(np.abs(fictrac_2d),98)\n",
    "    \n",
    "    plt.subplot(2,10,j+1)\n",
    "    plt.imshow(fictrac_2d[:,:],cmap='PuOr',vmin=-vmax,vmax=vmax,extent=[-2.35,6,-4.35,4])"
   ]
  },
  {
   "cell_type": "code",
   "execution_count": 16,
   "metadata": {
    "collapsed": true
   },
   "outputs": [],
   "source": [
    "def vidwrite(fn, images, framerate=60, vcodec='libx264'):\n",
    "    if not isinstance(images, np.ndarray):\n",
    "        images = np.asarray(images)\n",
    "    n,height,width,channels = images.shape\n",
    "    process = (\n",
    "        ffmpeg\n",
    "            .input('pipe:', format='rawvideo', pix_fmt='rgb24', s='{}x{}'.format(width, height))\n",
    "            .output(fn, pix_fmt='yuv420p', vcodec=vcodec, r=framerate)\n",
    "            .overwrite_output()\n",
    "            .run_async(pipe_stdin=True)\n",
    "    )\n",
    "    for frame in images:\n",
    "        process.stdin.write(\n",
    "            frame\n",
    "                .astype(np.uint8)\n",
    "                .tobytes()\n",
    "        )\n",
    "    process.stdin.close()\n",
    "    process.wait()"
   ]
  },
  {
   "cell_type": "code",
   "execution_count": null,
   "metadata": {
    "collapsed": true
   },
   "outputs": [],
   "source": []
  },
  {
   "cell_type": "code",
   "execution_count": null,
   "metadata": {
    "collapsed": true
   },
   "outputs": [],
   "source": []
  },
  {
   "cell_type": "code",
   "execution_count": null,
   "metadata": {
    "collapsed": true
   },
   "outputs": [],
   "source": []
  },
  {
   "cell_type": "code",
   "execution_count": null,
   "metadata": {
    "collapsed": true
   },
   "outputs": [],
   "source": []
  },
  {
   "cell_type": "code",
   "execution_count": null,
   "metadata": {
    "collapsed": true
   },
   "outputs": [],
   "source": []
  },
  {
   "cell_type": "code",
   "execution_count": null,
   "metadata": {
    "collapsed": true
   },
   "outputs": [],
   "source": []
  },
  {
   "cell_type": "code",
   "execution_count": null,
   "metadata": {
    "collapsed": true
   },
   "outputs": [],
   "source": []
  },
  {
   "cell_type": "code",
   "execution_count": 13,
   "metadata": {
    "collapsed": true
   },
   "outputs": [],
   "source": [
    "# define top and bottom colormaps \n",
    "top = cm.get_cmap('Oranges_r', 128) # r means reversed version\n",
    "bottom = cm.get_cmap('Blues', 128)# combine it all\n",
    "newcolors = np.vstack((top(np.linspace(0, 1, 128)),\n",
    "                       bottom(np.linspace(0, 1, 128))))# create a new colormaps with a name of OrangeBlue\n",
    "orange_blue = ListedColormap(newcolors, name='OrangeBlue')"
   ]
  },
  {
   "cell_type": "code",
   "execution_count": 17,
   "metadata": {},
   "outputs": [
    {
     "data": {
      "text/plain": [
       "((49, 2000, 30456), (49, 2000))"
      ]
     },
     "execution_count": 17,
     "metadata": {},
     "output_type": "execute_result"
    }
   ],
   "source": [
    "all_neural.shape, sv_to_sc.shape"
   ]
  },
  {
   "cell_type": "code",
   "execution_count": 69,
   "metadata": {},
   "outputs": [
    {
     "data": {
      "text/plain": [
       "(array([14, 14, 15, 18, 19, 19, 19, 19, 19, 19, 19, 19, 20, 20, 20, 20, 20,\n",
       "        20, 20, 20, 21, 21, 21, 21, 21, 21, 21, 21, 21, 22, 22, 22, 22, 22,\n",
       "        29, 31, 37, 38, 39]),\n",
       " array([ 211,  903,  154, 1674,  111,  264,  645, 1336, 1502, 1592, 1818,\n",
       "        1900,   43,  569,  847, 1033, 1391, 1598, 1753, 1972,  184,  256,\n",
       "         477, 1050, 1087, 1379, 1672, 1688, 1699,  417,  457, 1546, 1701,\n",
       "        1896,  391,  589, 1884,   54, 1438]))"
      ]
     },
     "execution_count": 69,
     "metadata": {},
     "output_type": "execute_result"
    }
   ],
   "source": [
    "supercluster = 77\n",
    "ind = np.where(sv_to_sc==supercluster)\n",
    "ind"
   ]
  },
  {
   "cell_type": "code",
   "execution_count": 78,
   "metadata": {},
   "outputs": [
    {
     "name": "stdout",
     "output_type": "stream",
     "text": [
      "0.04888749828977604\n"
     ]
    }
   ],
   "source": [
    "corrs = []\n",
    "for num,cluster in enumerate(range(len(ind[0]))):#range(50):\n",
    "    #signal = supercluster_signals[cluster,:]\n",
    "    signal = all_neural[ind[0][cluster], ind[1][cluster],:]\n",
    "    beh = 'Z_neg_std'\n",
    "    corrs.append(scipy.stats.pearsonr(signal, behavior_super[beh])[0])\n",
    "print(np.mean(corrs))"
   ]
  },
  {
   "cell_type": "code",
   "execution_count": null,
   "metadata": {
    "collapsed": true
   },
   "outputs": [],
   "source": [
    "# cluster 77 green is 0.03, red is 0.05. ie this prefers right turning"
   ]
  },
  {
   "cell_type": "code",
   "execution_count": 76,
   "metadata": {},
   "outputs": [
    {
     "data": {
      "image/png": "[encoded data removed]",
      "text/plain": [
       "<Figure size 432x288 with 1 Axes>"
      ]
     },
     "metadata": {},
     "output_type": "display_data"
    }
   ],
   "source": [
    "plt.hist(corrs);"
   ]
  },
  {
   "cell_type": "code",
   "execution_count": 56,
   "metadata": {},
   "outputs": [
    {
     "name": "stdout",
     "output_type": "stream",
     "text": [
      "(30456,)\n",
      "(30456,)\n"
     ]
    }
   ],
   "source": [
    "file = os.path.join(cluster_dir,\"20221122_behavior_fwd.npy\")\n",
    "beh_fwd = np.load(file)\n",
    "print(beh_fwd.shape)\n",
    "\n",
    "file = os.path.join(cluster_dir,\"20221122_behavior_turn.npy\")\n",
    "beh_turn = np.load(file)\n",
    "print(beh_turn.shape)\n",
    "\n",
    "behavior_super = {}\n",
    "behavior_super['Y_pos_std'] = beh_fwd\n",
    "behavior_super['Z_pos_std'] = np.clip(beh_turn,0,None)\n",
    "behavior_super['Z_neg_std'] = np.clip(beh_turn,None,0)*-1"
   ]
  },
  {
   "cell_type": "code",
   "execution_count": 65,
   "metadata": {},
   "outputs": [
    {
     "data": {
      "text/plain": [
       "(49, 2000, 30456)"
      ]
     },
     "execution_count": 65,
     "metadata": {},
     "output_type": "execute_result"
    }
   ],
   "source": [
    "all_neural.shape"
   ]
  },
  {
   "cell_type": "code",
   "execution_count": 80,
   "metadata": {},
   "outputs": [
    {
     "data": {
      "text/plain": [
       "0.1922707722685318"
      ]
     },
     "execution_count": 80,
     "metadata": {},
     "output_type": "execute_result"
    }
   ],
   "source": [
    "signals = []\n",
    "for num,cluster in enumerate(range(len(ind[0]))):#range(50):\n",
    "    #signal = supercluster_signals[cluster,:]\n",
    "    signals.append(all_neural[ind[0][cluster], ind[1][cluster],:])\n",
    "signals = np.mean(np.asarray(signals),axis=0)\n",
    "beh = 'Z_neg_std'\n",
    "scipy.stats.pearsonr(signals, behavior_super[beh])[0]"
   ]
  },
  {
   "cell_type": "code",
   "execution_count": 59,
   "metadata": {},
   "outputs": [
    {
     "data": {
      "text/plain": [
       "(30456,)"
      ]
     },
     "execution_count": 59,
     "metadata": {},
     "output_type": "execute_result"
    }
   ],
   "source": [
    "signals.shape"
   ]
  },
  {
   "cell_type": "code",
   "execution_count": 81,
   "metadata": {},
   "outputs": [
    {
     "data": {
      "image/png": "[encoded data removed]",
      "text/plain": [
       "<Figure size 144x144 with 1 Axes>"
      ]
     },
     "metadata": {},
     "output_type": "display_data"
    }
   ],
   "source": [
    "signal = signals\n",
    "plt.figure(figsize=(2,2))\n",
    "plot_supercluster_vs_beh()"
   ]
  },
  {
   "cell_type": "code",
   "execution_count": 82,
   "metadata": {},
   "outputs": [
    {
     "data": {
      "image/png": "[encoded data removed]",
      "text/plain": [
       "<Figure size 144x144 with 1 Axes>"
      ]
     },
     "metadata": {},
     "output_type": "display_data"
    }
   ],
   "source": [
    "signal=supercluster_signals[77,:]\n",
    "plt.figure(figsize=(2,2))\n",
    "plot_supercluster_vs_beh()"
   ]
  },
  {
   "cell_type": "code",
   "execution_count": 11,
   "metadata": {},
   "outputs": [
    {
     "ename": "NameError",
     "evalue": "name 'ind' is not defined",
     "output_type": "error",
     "traceback": [
      "\u001b[0;31m---------------------------------------------------------------------------\u001b[0m",
      "\u001b[0;31mNameError\u001b[0m                                 Traceback (most recent call last)",
      "\u001b[0;32m<ipython-input-11-ce80481e0034>\u001b[0m in \u001b[0;36m<module>\u001b[0;34m()\u001b[0m\n\u001b[0;32m----> 1\u001b[0;31m \u001b[0msignal\u001b[0m\u001b[0;34m=\u001b[0m\u001b[0mall_neural\u001b[0m\u001b[0;34m[\u001b[0m\u001b[0mind\u001b[0m\u001b[0;34m[\u001b[0m\u001b[0;36m0\u001b[0m\u001b[0;34m]\u001b[0m\u001b[0;34m[\u001b[0m\u001b[0;36m25\u001b[0m\u001b[0;34m]\u001b[0m\u001b[0;34m,\u001b[0m\u001b[0mind\u001b[0m\u001b[0;34m[\u001b[0m\u001b[0;36m1\u001b[0m\u001b[0;34m]\u001b[0m\u001b[0;34m[\u001b[0m\u001b[0;36m25\u001b[0m\u001b[0;34m]\u001b[0m\u001b[0;34m,\u001b[0m\u001b[0;34m:\u001b[0m\u001b[0;34m]\u001b[0m\u001b[0;34m\u001b[0m\u001b[0m\n\u001b[0m\u001b[1;32m      2\u001b[0m \u001b[0mplt\u001b[0m\u001b[0;34m.\u001b[0m\u001b[0mfigure\u001b[0m\u001b[0;34m(\u001b[0m\u001b[0mfigsize\u001b[0m\u001b[0;34m=\u001b[0m\u001b[0;34m(\u001b[0m\u001b[0;36m2\u001b[0m\u001b[0;34m,\u001b[0m\u001b[0;36m2\u001b[0m\u001b[0;34m)\u001b[0m\u001b[0;34m)\u001b[0m\u001b[0;34m\u001b[0m\u001b[0m\n\u001b[1;32m      3\u001b[0m \u001b[0mplot_supercluster_vs_beh\u001b[0m\u001b[0;34m(\u001b[0m\u001b[0;34m)\u001b[0m\u001b[0;34m\u001b[0m\u001b[0m\n",
      "\u001b[0;31mNameError\u001b[0m: name 'ind' is not defined"
     ]
    }
   ],
   "source": [
    "signal=all_neural[ind[0][25],ind[1][25],:]\n",
    "plt.figure(figsize=(2,2))\n",
    "plot_supercluster_vs_beh()"
   ]
  },
  {
   "cell_type": "code",
   "execution_count": 97,
   "metadata": {
    "collapsed": true
   },
   "outputs": [],
   "source": [
    "### Load GLM output\n",
    "main_dir = f'/oak/stanford/groups/trc/data/Brezovec/2P_Imaging/20210208_inst_uniq_glm'\n",
    "\n",
    "### this is what I initially warped into FDA but probably want the other one\n",
    "#main_dir = f'/oak/stanford/groups/trc/data/Brezovec/2P_Imaging/20210309_inst_uniq_glm_state_sub'\n",
    "\n",
    "all_scores = []\n",
    "for z in range(9,49-9):\n",
    "    file = [os.path.join(main_dir, i) for i in os.listdir(main_dir) if f'Z{z}.' in i][0]\n",
    "    with open(file, 'rb') as handle:\n",
    "        scores = pickle.load(handle)\n",
    "    all_scores.append(scores)"
   ]
  },
  {
   "cell_type": "code",
   "execution_count": 104,
   "metadata": {},
   "outputs": [
    {
     "data": {
      "text/plain": [
       "(0.03655496692299366, 0.10909063826421762)"
      ]
     },
     "execution_count": 104,
     "metadata": {},
     "output_type": "execute_result"
    }
   ],
   "source": [
    "all_scores[21-9]['scores_zpos'][1379], all_scores[21-9]['scores_zneg'][1379]\n",
    "# this says zneg is higher, which is VR"
   ]
  },
  {
   "cell_type": "code",
   "execution_count": 18,
   "metadata": {
    "collapsed": true
   },
   "outputs": [],
   "source": [
    "def plot_supercluster_vs_beh():#supercluster):\n",
    "    #neu = supercluster #shortcut\n",
    "    for beh,color in zip(['Y_pos_std', 'Z_pos_std', 'Z_neg_std'],[(0,0,1),(0,1,0),(1,0,0)]):\n",
    "        #cmap = matplotlib.cm.get_cmap(color)\n",
    "        \n",
    "        # make x bins, get mean y in each bin\n",
    "        num_bins = 10\n",
    "        xbins = np.linspace(0,5,num_bins+1)\n",
    "        step = xbins[1] - xbins[0]\n",
    "        mids = [i+step/2 for i in xbins]\n",
    "        avgs = []\n",
    "        stds = []\n",
    "        cnts = []\n",
    "        for i in range(num_bins):\n",
    "            start = xbins[i]\n",
    "            end = xbins[i+1]\n",
    "            a = np.where(np.logical_and(behavior_super[beh]>start, behavior_super[beh]<=end))\n",
    "            avgs.append(np.mean(signal[a]))\n",
    "            stds.append(np.std(signal[a]))\n",
    "            cnts.append(len(a[0]))\n",
    "\n",
    "        #plt.scatter(behavior_super[beh],supercluster_signals[neu],marker='.',color='grey',s=1)\n",
    "\n",
    "        ### Plot line along bins, with error bar ###\n",
    "        sem = [stds[i]/np.sqrt(cnts[i]) for i in range(len(mids)-1)]\n",
    "        plt.errorbar(mids[:-1], avgs, yerr=sem, label='both limits (default)',color=color,lw=3)\n",
    "\n",
    "        plt.axhline(avgs[1],color='k',linestyle='--')\n",
    "        plt.axvline(mids[1],color='k',linestyle='--')\n",
    "        plt.xlim(0,5)\n",
    "        plt.ylim(-.2,.2)\n",
    "        plt.xticks([])\n",
    "        plt.yticks([0,.1])\n",
    "        #ax.set_yticklabels([0,.1])\n",
    "        #ax.set_yticks([0,.1])"
   ]
  },
  {
   "cell_type": "code",
   "execution_count": null,
   "metadata": {
    "collapsed": true
   },
   "outputs": [],
   "source": [
    "### OK, SO....\n",
    "# again my original supercluster_signals look the worst\n",
    "# it looks more correct if calulate the signal directly from averaging the SV in the SC\n",
    "# (instead of turning the SVs into a 3D image and taking from there)\n",
    "# I'm not sure exactly why this makes a difference"
   ]
  },
  {
   "cell_type": "code",
   "execution_count": 15,
   "metadata": {},
   "outputs": [
    {
     "data": {
      "text/plain": [
       "(49, 2000, 30456)"
      ]
     },
     "execution_count": 15,
     "metadata": {},
     "output_type": "execute_result"
    }
   ],
   "source": [
    "all_neural.shape"
   ]
  },
  {
   "cell_type": "code",
   "execution_count": 16,
   "metadata": {
    "collapsed": true
   },
   "outputs": [],
   "source": [
    "cluster = 77\n",
    "ind = np.where(sv_to_sc==cluster)\n",
    "ind_pairs = [(ind[0][i],ind[1][i]) for i in range(len(ind[0]))]"
   ]
  },
  {
   "cell_type": "code",
   "execution_count": 46,
   "metadata": {},
   "outputs": [
    {
     "data": {
      "text/plain": [
       "<matplotlib.image.AxesImage at 0x7f823d67a358>"
      ]
     },
     "execution_count": 46,
     "metadata": {},
     "output_type": "execute_result"
    },
    {
     "data": {
      "image/png": "[encoded data removed]",
      "text/plain": [
       "<Figure size 432x288 with 1 Axes>"
      ]
     },
     "metadata": {},
     "output_type": "display_data"
    }
   ],
   "source": [
    "#signal=signals\n",
    "X_var = behavior_super['Y_std']\n",
    "Y_var = behavior_super['Z_std']\n",
    "start_x=-2; end_x=6; start_y=-4; end_y=4\n",
    "idx=12\n",
    "#signal = all_neural[ind_pairs[idx][0],ind_pairs[idx][1],:]\n",
    "signal=supercluster_signals[77,:]\n",
    "fictrac_2d, bins_x, bins_y = bin_2D_plot(X_var, Y_var, signal,\n",
    "                                 num_bins_x=25, num_bins_y=25,\n",
    "                                 start_x=start_x, end_x=end_x, start_y=start_y, end_y=end_y,\n",
    "                                 min_num_samples=9)\n",
    "fictrac_2d[-1,:] = 0\n",
    "vmax = np.percentile(np.abs(fictrac_2d),98)\n",
    "plt.imshow(fictrac_2d[:,:],cmap='PuOr',vmin=-vmax,vmax=vmax,extent=[-2.35,6,-4.35,4])"
   ]
  },
  {
   "cell_type": "code",
   "execution_count": 91,
   "metadata": {},
   "outputs": [
    {
     "data": {
      "text/plain": [
       "(49, 2000, 30456)"
      ]
     },
     "execution_count": 91,
     "metadata": {},
     "output_type": "execute_result"
    }
   ],
   "source": [
    "all_neural.shape"
   ]
  },
  {
   "cell_type": "code",
   "execution_count": 15,
   "metadata": {
    "collapsed": true
   },
   "outputs": [],
   "source": [
    "n_clusters = 2000\n",
    "labels_file = '/oak/stanford/groups/trc/data/Brezovec/2P_Imaging/20201129_super_slices/cluster_labels.npy'\n",
    "cluster_model_labels_2000 = np.load(labels_file)\n",
    "cluster_model_labels_2000.shape\n",
    "cluster_model_labels_2000_3d = np.reshape(cluster_model_labels_2000,(49,256,128))"
   ]
  },
  {
   "cell_type": "code",
   "execution_count": 41,
   "metadata": {},
   "outputs": [
    {
     "data": {
      "text/plain": [
       "(49, 256, 128)"
      ]
     },
     "execution_count": 41,
     "metadata": {},
     "output_type": "execute_result"
    }
   ],
   "source": [
    "cluster_model_labels_2000_3d.shape"
   ]
  },
  {
   "cell_type": "code",
   "execution_count": 56,
   "metadata": {
    "collapsed": true
   },
   "outputs": [],
   "source": [
    "z=10\n",
    "empty = np.zeros((256,128))\n",
    "for cluster in range(2000):\n",
    "    ind = np.where(cluster_model_labels_2000_3d[z,:,:]==cluster)\n",
    "    empty[ind[0],ind[1]] = all_neural[z,cluster,0]"
   ]
  },
  {
   "cell_type": "code",
   "execution_count": 57,
   "metadata": {},
   "outputs": [
    {
     "data": {
      "text/plain": [
       "<matplotlib.image.AxesImage at 0x7feccb60f6a0>"
      ]
     },
     "execution_count": 57,
     "metadata": {},
     "output_type": "execute_result"
    },
    {
     "data": {
      "image/png": "[encoded data removed]",
      "text/plain": [
       "<Figure size 432x288 with 1 Axes>"
      ]
     },
     "metadata": {},
     "output_type": "display_data"
    }
   ],
   "source": [
    "plt.imshow(empty.T)"
   ]
  },
  {
   "cell_type": "code",
   "execution_count": 94,
   "metadata": {},
   "outputs": [
    {
     "data": {
      "text/plain": [
       "(30456,)"
      ]
     },
     "execution_count": 94,
     "metadata": {},
     "output_type": "execute_result"
    }
   ],
   "source": [
    "signal = all_neural[ind[0][25],ind[1][25],:].shape"
   ]
  },
  {
   "cell_type": "code",
   "execution_count": 90,
   "metadata": {},
   "outputs": [
    {
     "data": {
      "text/plain": [
       "(21, 1379)"
      ]
     },
     "execution_count": 90,
     "metadata": {},
     "output_type": "execute_result"
    }
   ],
   "source": []
  },
  {
   "cell_type": "code",
   "execution_count": 47,
   "metadata": {},
   "outputs": [
    {
     "data": {
      "image/png": "[encoded data removed]",
      "text/plain": [
       "<Figure size 720x720 with 58 Axes>"
      ]
     },
     "metadata": {},
     "output_type": "display_data"
    }
   ],
   "source": [
    "cluster = 86\n",
    "ind = np.where(sv_to_sc==cluster)\n",
    "ind_pairs = [(ind[0][i],ind[1][i]) for i in range(len(ind[0]))]\n",
    "\n",
    "#X_var = behavior_super['Y_std']\n",
    "#Y_var = behavior_super['Z_std']\n",
    "fig = plt.figure(figsize=(10,10))\n",
    "#ax = fig.add_axes([0,0,1,1])\n",
    "start_x=-2; end_x=6; start_y=-4; end_y=4\n",
    "\n",
    "for num,cluster in enumerate(range(len(ind_pairs))):#range(50):\n",
    "    #signal = supercluster_signals[cluster,:]\n",
    "    signal = all_neural[ind_pairs[cluster][0],ind_pairs[cluster][1],:]\n",
    "    plt.subplot(8,13,cluster+1)\n",
    "    fictrac_2d, bins_x, bins_y = bin_2D_plot(X_var, Y_var, signal,\n",
    "                                     num_bins_x=25, num_bins_y=25,\n",
    "                                     start_x=start_x, end_x=end_x, start_y=start_y, end_y=end_y,\n",
    "                                     min_num_samples=9)\n",
    "\n",
    "    fictrac_2d[-1,:] = 0\n",
    "    #vmax = np.percentile(fictrac_2d,99)\n",
    "    vmax = np.percentile(np.abs(fictrac_2d),98)\n",
    "    plt.imshow(fictrac_2d[:,:],cmap='PuOr',vmin=-vmax,vmax=vmax,extent=[-2.35,6,-4.35,4])\n",
    "    plt.axis('off')\n",
    "    plt.title(num)\n",
    "    #plt.imshow(fictrac_2d[:,:],cmap=orange_blue,vmin=-7,vmax=7,extent=[-2.35,6,-4.35,4])\n",
    "\n",
    "#     ax = plt.gca()\n",
    "#     if num == 0:\n",
    "        \n",
    "#         ratio = np.max(behavior_super['Z_std'])/np.max(behavior_super['Z_units'])\n",
    "#         ax.set_yticklabels([-300, 0, 300])\n",
    "#         ax.set_yticks([-300*ratio, 0, 300*ratio])\n",
    "\n",
    "#         ratio = np.max(behavior_super['Y_std'])/np.max(behavior_super['Y_units'])\n",
    "#         ax.set_xticklabels([0, 10])\n",
    "#         ax.set_xticks([0, 10*ratio])\n",
    "\n",
    "#         plt.ylabel('Vr deg/sec')\n",
    "#         plt.xlabel('Vf mm/sec')\n",
    "#     else:\n",
    "#         ax.xaxis.set_visible(False)\n",
    "#         ax.yaxis.set_visible(False)\n",
    "    \n",
    "    #ax.axhline(0,linestyle='--',color='k',linewidth=1)\n",
    "    #ax.axvline(0,linestyle='--',color='k',linewidth=1)\n",
    "plt.subplots_adjust(wspace=0, hspace=0)\n",
    "save_path = '/oak/stanford/groups/trc/data/Brezovec/2P_Imaging/figs'\n",
    "timestr = time.strftime(\"%Y%m%d-%H%M%S\")\n",
    "fname = os.path.join(save_path, f'{timestr}')\n",
    "#plt.savefig(fname,dpi=300,bbox_inches='tight')"
   ]
  },
  {
   "cell_type": "code",
   "execution_count": 48,
   "metadata": {
    "collapsed": true
   },
   "outputs": [],
   "source": [
    "import tqdm"
   ]
  },
  {
   "cell_type": "code",
   "execution_count": 49,
   "metadata": {},
   "outputs": [
    {
     "name": "stderr",
     "output_type": "stream",
     "text": [
      "100%|██████████| 501/501 [00:26<00:00, 18.84it/s]\n"
     ]
    }
   ],
   "source": [
    "X_var = behavior_super['Y_std']\n",
    "Y_var = behavior_super['Z_std']\n",
    "start_x=-2; end_x=6; start_y=-4; end_y=4\n",
    "\n",
    "supercluster_2d_hists = []\n",
    "for cluster in tqdm.tqdm(range(501)):\n",
    "    signal = supercluster_signals[cluster,:]\n",
    "    fictrac_2d, bins_x, bins_y = bin_2D_plot(X_var, Y_var, signal,\n",
    "                                     num_bins_x=25, num_bins_y=25,\n",
    "                                     start_x=start_x, end_x=end_x, start_y=start_y, end_y=end_y,\n",
    "                                     min_num_samples=9)\n",
    "\n",
    "    fictrac_2d[-1,:] = 0\n",
    "    supercluster_2d_hists.append(fictrac_2d)"
   ]
  },
  {
   "cell_type": "code",
   "execution_count": 50,
   "metadata": {},
   "outputs": [
    {
     "data": {
      "text/plain": [
       "(501, 25, 25)"
      ]
     },
     "execution_count": 50,
     "metadata": {},
     "output_type": "execute_result"
    }
   ],
   "source": [
    "supercluster_2d_hists = np.asarray(supercluster_2d_hists)\n",
    "supercluster_2d_hists.shape"
   ]
  },
  {
   "cell_type": "code",
   "execution_count": 1,
   "metadata": {},
   "outputs": [
    {
     "ename": "NameError",
     "evalue": "name 'plt' is not defined",
     "output_type": "error",
     "traceback": [
      "\u001b[0;31m---------------------------------------------------------------------------\u001b[0m",
      "\u001b[0;31mNameError\u001b[0m                                 Traceback (most recent call last)",
      "\u001b[0;32m<ipython-input-1-607a4cfccb52>\u001b[0m in \u001b[0;36m<module>\u001b[0;34m()\u001b[0m\n\u001b[0;32m----> 1\u001b[0;31m \u001b[0mplt\u001b[0m\u001b[0;34m.\u001b[0m\u001b[0mimshow\u001b[0m\u001b[0;34m(\u001b[0m\u001b[0msupercluster_2d_hists\u001b[0m\u001b[0;34m[\u001b[0m\u001b[0;36m77\u001b[0m\u001b[0;34m,\u001b[0m\u001b[0;34m:\u001b[0m\u001b[0;34m,\u001b[0m\u001b[0;34m:\u001b[0m\u001b[0;34m]\u001b[0m\u001b[0;34m)\u001b[0m\u001b[0;34m\u001b[0m\u001b[0m\n\u001b[0m",
      "\u001b[0;31mNameError\u001b[0m: name 'plt' is not defined"
     ]
    }
   ],
   "source": [
    "plt.imshow(supercluster_2d_hists[77,:,:])"
   ]
  },
  {
   "cell_type": "code",
   "execution_count": 52,
   "metadata": {
    "collapsed": true
   },
   "outputs": [],
   "source": [
    "save_file = os.path.join(cluster_dir,\"20221122_full_supercluster_2d_beh_hists\")\n",
    "np.save(save_file,supercluster_2d_hists)"
   ]
  },
  {
   "cell_type": "code",
   "execution_count": 26,
   "metadata": {
    "collapsed": true
   },
   "outputs": [],
   "source": [
    "# ALSO SAVE BEHAVIOR\n",
    "save_file = os.path.join(cluster_dir,\"20221122_behavior_fwd\")\n",
    "np.save(save_file, X_var)\n",
    "\n",
    "save_file = os.path.join(cluster_dir,\"20221122_behavior_turn\")\n",
    "np.save(save_file, Y_var)"
   ]
  },
  {
   "cell_type": "code",
   "execution_count": null,
   "metadata": {
    "collapsed": true
   },
   "outputs": [],
   "source": []
  },
  {
   "cell_type": "code",
   "execution_count": null,
   "metadata": {
    "collapsed": true
   },
   "outputs": [],
   "source": []
  },
  {
   "cell_type": "code",
   "execution_count": 57,
   "metadata": {},
   "outputs": [
    {
     "data": {
      "image/png": "[encoded data removed]",
      "text/plain": [
       "<Figure size 1440x720 with 20 Axes>"
      ]
     },
     "metadata": {},
     "output_type": "display_data"
    }
   ],
   "source": [
    "plt.figure(figsize=(20,10))\n",
    "for j,roll in enumerate(np.arange(-10,10,1)):\n",
    "    X_var = behavior_super_z[20]['Y_std']\n",
    "    Y_var = behavior_super_z[20]['Z_std']\n",
    "\n",
    "    start_x=-2; end_x=6; start_y=-4; end_y=4\n",
    "\n",
    "    cluster = 138\n",
    "    signal = supercluster_signals[cluster,:]\n",
    "    fictrac_2d, bins_x, bins_y = bin_2D_plot(np.roll(X_var,roll), np.roll(Y_var,roll), signal,\n",
    "                                     num_bins_x=25, num_bins_y=25,\n",
    "                                     start_x=start_x, end_x=end_x, start_y=start_y, end_y=end_y,\n",
    "                                     min_num_samples=9)\n",
    "\n",
    "    fictrac_2d[-1,:] = 0\n",
    "\n",
    "    vmax = np.percentile(np.abs(fictrac_2d),98)\n",
    "    #vmax=.04\n",
    "    plt.subplot(2,10,j+1)\n",
    "    plt.imshow(fictrac_2d[:,:],cmap='PuOr',vmin=-vmax,vmax=vmax,extent=[-2.35,6,-4.35,4])"
   ]
  },
  {
   "cell_type": "code",
   "execution_count": 47,
   "metadata": {},
   "outputs": [
    {
     "data": {
      "text/plain": [
       "0.028415196820920047"
      ]
     },
     "execution_count": 47,
     "metadata": {},
     "output_type": "execute_result"
    }
   ],
   "source": [
    "vmax"
   ]
  },
  {
   "cell_type": "markdown",
   "metadata": {
    "collapsed": true
   },
   "source": [
    "# fixing bug!"
   ]
  },
  {
   "cell_type": "code",
   "execution_count": 21,
   "metadata": {},
   "outputs": [],
   "source": [
    "svs = np.array([[  26,   28,   28,   28,   26,   28,   26,   28,   26,   28,   26,\n",
    "          28,   26,   26,   26,   27,   26,   27,   26,   27,   28,   26,\n",
    "          27,   28,   26,   27,   28,   26,   28,   26,   28,   26,   28,\n",
    "          26,   26,   26,   29,   26,   27,   29,   26,   27,   29,   26,\n",
    "          27,   28,   29,   26,   27,   28,   26,   27,   28,   26,   27,\n",
    "          28,   26,   28,   26,   28,   29,   27,   29,   26,   27,   29,\n",
    "          26,   27,   26,   27,   30,   26,   27,   29,   30,   26,   27,\n",
    "          29,   30,   26,   27,   28,   29,   26,   27,   28,   29,   27,\n",
    "          28,   29,   27,   28,   27,   28,   27,   28,   27,   29,   33,\n",
    "          27,   29,   33,   26,   27,   29,   30,   33,   26,   27,   28,\n",
    "          29,   30,   33,   26,   27,   28,   29,   30,   33,   26,   27,\n",
    "          28,   29,   30,   26,   27,   28,   29,   30,   26,   27,   28,\n",
    "          29,   26,   27,   28,   29,   27,   28,   29,   27,   28,   27,\n",
    "          28,   27,   28,   27,   29,   33,   29,   33,   27,   29,   30,\n",
    "          33,   27,   28,   29,   30,   33,   27,   28,   29,   30,   33,\n",
    "          27,   28,   29,   30,   27,   28,   29,   30,   27,   28,   29,\n",
    "          27,   28,   29,   27,   28,   29,   27,   28,   29,   27,   28,\n",
    "          29,   27,   29,   29,   34,   33,   34,   29,   33,   34,   29,\n",
    "          30,   33,   27,   28,   29,   30,   33,   27,   28,   29,   30,\n",
    "          33,   27,   28,   29,   30,   27,   28,   29,   27,   28,   29,\n",
    "          27,   28,   29,   27,   28,   29,   27,   28,   29,   29,   29,\n",
    "          34,   34,   29,   33,   34,   29,   30,   33,   34,   28,   29,\n",
    "          30,   33,   34,   28,   29,   33,   28,   29,   27,   28,   29,\n",
    "          27,   28,   29,   27,   28,   29,   27,   28,   29,   27,   28,\n",
    "          29,   29,   29,   34,   34,   34,   29,   34,   28,   29,   30,\n",
    "          34,   28,   29,   28,   29,   27,   29,   27,   29,   27,   28,\n",
    "          29,   27,   28,   29,   27,   28,   34,   34,   29,   34,   29,\n",
    "          34,   29,   29,   27,   29,   27,   29,   27,   28,   29,   27,\n",
    "          28,   29,   27,   28,   27,   29,   34,   34,   27,   27,   28,\n",
    "          27],\n",
    "       [ 438, 1068, 1068,  179, 1534,  179,  438, 1210,  438, 1210,  438,\n",
    "        1068,  482,  482, 1534,  788, 1534, 1829, 1534, 1829,  179, 1534,\n",
    "         276,  179,  438,  276, 1210,  438, 1210,  438, 1210,  539, 1210,\n",
    "         482,  482,  482,  161, 1534,  788,  161, 1534, 1829,  161, 1005,\n",
    "        1829, 1837,  161, 1005,  276, 1837,  889,  276, 1210,  889,  276,\n",
    "        1210,  889, 1210,  889, 1210,  643, 1306,  643,    2, 1941,  643,\n",
    "         371,  308,  371,  308, 1303,  371,  308,  161, 1303,  371, 1829,\n",
    "         161, 1303, 1005, 1829, 1837,  161, 1005, 1829, 1837,  804, 1829,\n",
    "        1837,  804,  396, 1837,  396, 1949,  396, 1949,  178, 1587,  940,\n",
    "        1941, 1587,  940,    2, 1941,   55, 1325,  940,  371,  308,  882,\n",
    "          55, 1325, 1574,  371,  308,  882,   55, 1303, 1574,  371,  308,\n",
    "         882,  354, 1303, 1005, 1829, 1837,  354, 1303, 1005, 1829, 1837,\n",
    "         804, 1005, 1829, 1837,  804, 1829, 1837,  804,  396, 1837,  396,\n",
    "        1949,  396, 1949, 1593, 1587,  940, 1587,  940, 1941,  597,  947,\n",
    "         940,  308,  476,  597,  279, 1574,  308,  476,  354,  279, 1574,\n",
    "        1766,  476,  354, 1505, 1766, 1837,  354, 1505, 1766, 1837,  804,\n",
    "        1766, 1567,  804, 1766, 1567,  817, 1766, 1567,  817,  396, 1949,\n",
    "         817,  396,  817,  402,  703,  940, 1993,  597,   29, 1993,  597,\n",
    "         947,   29, 1941,  476,  597,  279, 1574, 1766,  476,  354,  279,\n",
    "        1574, 1766, 1651,  354, 1505, 1766, 1651,  354, 1766, 1567,  804,\n",
    "        1766, 1567,  804, 1766, 1567,  817,  744, 1567,  817,  817,  817,\n",
    "        1089, 1993, 1587,   29, 1993,  597,  947,   29, 1993,  339,  597,\n",
    "         279, 1574, 1785,  339,  270, 1574, 1651,  270, 1766, 1651,  270,\n",
    "        1766, 1567, 1364, 1766, 1567, 1364,  744, 1567,  817,  744, 1567,\n",
    "         817,  817,  468, 1089, 1993, 1993,  597, 1993,  339,  597, 1415,\n",
    "         561, 1651,  270, 1651,  270,  158,  270,  158, 1364,  158, 1567,\n",
    "        1364,  744, 1567, 1364,  744, 1567, 1993, 1993,  924, 1515, 1890,\n",
    "         561, 1890,  270,  158,  270,  158,  647,  158, 1246,  647,  744,\n",
    "        1246, 1364,  744, 1567, 1642,  924, 1515,  561,  819,  819, 1442,\n",
    "        1642]])"
   ]
  },
  {
   "cell_type": "code",
   "execution_count": 23,
   "metadata": {
    "collapsed": true
   },
   "outputs": [],
   "source": [
    "# lets pick one supervoxel to play with. lets do a weird voxel in supercluster 77\n",
    "z=30\n",
    "sv=1608"
   ]
  },
  {
   "cell_type": "code",
   "execution_count": 13,
   "metadata": {},
   "outputs": [
    {
     "data": {
      "text/plain": [
       "(49, 2000, 30456)"
      ]
     },
     "execution_count": 13,
     "metadata": {},
     "output_type": "execute_result"
    }
   ],
   "source": [
    "all_neural.shape #z is P to A"
   ]
  },
  {
   "cell_type": "code",
   "execution_count": 16,
   "metadata": {},
   "outputs": [
    {
     "data": {
      "text/plain": [
       "(49, 32768)"
      ]
     },
     "execution_count": 16,
     "metadata": {},
     "output_type": "execute_result"
    }
   ],
   "source": [
    "cluster_model_labels_2000.shape #z is P to A"
   ]
  },
  {
   "cell_type": "code",
   "execution_count": 26,
   "metadata": {},
   "outputs": [
    {
     "data": {
      "text/plain": [
       "(320, 30456)"
      ]
     },
     "execution_count": 26,
     "metadata": {},
     "output_type": "execute_result"
    }
   ],
   "source": [
    "all_neural[svs[0],svs[1],:].shape"
   ]
  },
  {
   "cell_type": "code",
   "execution_count": 37,
   "metadata": {},
   "outputs": [],
   "source": [
    "file = os.path.join(cluster_dir, \"20221202_KEY_sv_in_sc.npy\")\n",
    "KEY_SVSC = np.load(file,allow_pickle=True)"
   ]
  },
  {
   "cell_type": "code",
   "execution_count": 39,
   "metadata": {},
   "outputs": [
    {
     "data": {
      "text/plain": [
       "array([ 0,  1,  2, ..., 46, 47, 48])"
      ]
     },
     "execution_count": 39,
     "metadata": {},
     "output_type": "execute_result"
    }
   ],
   "source": [
    "KEY_SVSC[SC][0]"
   ]
  },
  {
   "cell_type": "code",
   "execution_count": 44,
   "metadata": {},
   "outputs": [
    {
     "data": {
      "image/png": "[encoded data removed]",
      "text/plain": [
       "<Figure size 360x360 with 1 Axes>"
      ]
     },
     "metadata": {},
     "output_type": "display_data"
    }
   ],
   "source": [
    "SC = 116\n",
    "signal=np.mean(all_neural[KEY_SVSC[SC][0],KEY_SVSC[SC][1],:],axis=0)\n",
    "plt.figure(figsize=(5,5))\n",
    "plot_supercluster_vs_beh()"
   ]
  },
  {
   "cell_type": "code",
   "execution_count": 24,
   "metadata": {},
   "outputs": [
    {
     "data": {
      "image/png": "[encoded data removed]",
      "text/plain": [
       "<Figure size 360x360 with 1 Axes>"
      ]
     },
     "metadata": {},
     "output_type": "display_data"
    }
   ],
   "source": [
    "signal=all_neural[z,sv,:]\n",
    "plt.figure(figsize=(5,5))\n",
    "plot_supercluster_vs_beh()"
   ]
  },
  {
   "cell_type": "code",
   "execution_count": 74,
   "metadata": {},
   "outputs": [
    {
     "data": {
      "text/plain": [
       "(49, 2000)"
      ]
     },
     "execution_count": 74,
     "metadata": {},
     "output_type": "execute_result"
    }
   ],
   "source": [
    "sv_to_sc.shape"
   ]
  },
  {
   "cell_type": "code",
   "execution_count": 82,
   "metadata": {},
   "outputs": [
    {
     "data": {
      "text/plain": [
       "[(14, 211),\n",
       " (14, 903),\n",
       " (15, 154),\n",
       " (18, 1674),\n",
       " (19, 111),\n",
       " (19, 264),\n",
       " (19, 645),\n",
       " (19, 1336),\n",
       " (19, 1502),\n",
       " (19, 1592),\n",
       " (19, 1818),\n",
       " (19, 1900),\n",
       " (20, 43),\n",
       " (20, 569),\n",
       " (20, 847),\n",
       " (20, 1033),\n",
       " (20, 1391),\n",
       " (20, 1598),\n",
       " (20, 1753),\n",
       " (20, 1972),\n",
       " (21, 184),\n",
       " (21, 256),\n",
       " (21, 477),\n",
       " (21, 1050),\n",
       " (21, 1087),\n",
       " (21, 1379),\n",
       " (21, 1672),\n",
       " (21, 1688),\n",
       " (21, 1699),\n",
       " (22, 417),\n",
       " (22, 457),\n",
       " (22, 1546),\n",
       " (22, 1701),\n",
       " (22, 1896),\n",
       " (29, 391),\n",
       " (31, 589),\n",
       " (37, 1884),\n",
       " (38, 54),\n",
       " (39, 1438)]"
      ]
     },
     "execution_count": 82,
     "metadata": {},
     "output_type": "execute_result"
    }
   ],
   "source": [
    "cluster = 77\n",
    "ind = np.where(sv_to_sc==cluster)\n",
    "ind_pairs = [(ind[0][i],ind[1][i]) for i in range(len(ind[0]))]\n",
    "ind_pairs"
   ]
  },
  {
   "cell_type": "code",
   "execution_count": 83,
   "metadata": {},
   "outputs": [
    {
     "data": {
      "text/plain": [
       "(array([14, 14, 15, 18, 19, 19, 19, 19, 19, 19, 19, 19, 20, 20, 20, 20, 20,\n",
       "        20, 20, 20, 21, 21, 21, 21, 21, 21, 21, 21, 21, 22, 22, 22, 22, 22,\n",
       "        29, 31, 37, 38, 39]),\n",
       " array([ 211,  903,  154, 1674,  111,  264,  645, 1336, 1502, 1592, 1818,\n",
       "        1900,   43,  569,  847, 1033, 1391, 1598, 1753, 1972,  184,  256,\n",
       "         477, 1050, 1087, 1379, 1672, 1688, 1699,  417,  457, 1546, 1701,\n",
       "        1896,  391,  589, 1884,   54, 1438]))"
      ]
     },
     "execution_count": 83,
     "metadata": {},
     "output_type": "execute_result"
    }
   ],
   "source": [
    "np.where(sv_to_sc==77)"
   ]
  },
  {
   "cell_type": "code",
   "execution_count": null,
   "metadata": {
    "collapsed": true
   },
   "outputs": [],
   "source": []
  }
 ],
 "metadata": {
  "kernelspec": {
   "display_name": "Python 3",
   "language": "python",
   "name": "python3"
  },
  "language_info": {
   "codemirror_mode": {
    "name": "ipython",
    "version": 3
   },
   "file_extension": ".py",
   "mimetype": "text/x-python",
   "name": "python",
   "nbconvert_exporter": "python",
   "pygments_lexer": "ipython3",
   "version": "3.6.1"
  }
 },
 "nbformat": 4,
 "nbformat_minor": 2
}
