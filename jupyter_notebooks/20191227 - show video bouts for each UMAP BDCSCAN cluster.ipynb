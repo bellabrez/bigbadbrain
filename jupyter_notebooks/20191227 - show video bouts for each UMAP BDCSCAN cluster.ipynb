{
 "cells": [
  {
   "cell_type": "code",
   "execution_count": 1,
   "metadata": {
    "collapsed": true
   },
   "outputs": [],
   "source": [
    "import numpy as np\n",
    "import time\n",
    "import os\n",
    "import sys\n",
    "import scipy\n",
    "import math\n",
    "import matplotlib.pyplot as plt\n",
    "from matplotlib.colors import Normalize\n",
    "from scipy.interpolate import interp1d\n",
    "import pandas as pd\n",
    "import psutil\n",
    "import json\n",
    "from tqdm import tqdm\n",
    "sys.path.insert(0, '/home/users/brezovec/.local/lib/python3.6/site-packages/lib/python/')\n",
    "import ants\n",
    "import bigbadbrain as bbb\n",
    "from scipy.linalg import toeplitz\n",
    "import scipy.linalg as sl\n",
    "from scipy.signal import convolve2d\n",
    "from scipy.signal import convolve\n",
    "import sklearn\n",
    "from sklearn.linear_model import LassoLarsIC\n",
    "from sklearn.linear_model import LinearRegression\n",
    "from sklearn.decomposition import PCA\n",
    "from sklearn.linear_model import RidgeCV\n",
    "from sklearn.linear_model import LassoCV\n",
    "from sklearn.model_selection import KFold\n",
    "from sklearn.feature_selection import RFE\n",
    "from sklearn import linear_model\n",
    "\n",
    "from skimage.filters import threshold_triangle\n",
    "sys.path.insert(0, '/home/users/brezovec/.local/lib/python3.6/site-packages')\n",
    "import os\n",
    "import statsmodels.api as sm\n",
    "import cv2\n",
    "from matplotlib.animation import FuncAnimation\n",
    "from matplotlib import animation, rc\n",
    "from IPython.display import HTML\n",
    "from mpl_toolkits.mplot3d import Axes3D\n",
    "\n",
    "%matplotlib inline"
   ]
  },
  {
   "cell_type": "code",
   "execution_count": 2,
   "metadata": {
    "collapsed": true
   },
   "outputs": [],
   "source": [
    "from matplotlib.patches import FancyArrowPatch\n",
    "from mpl_toolkits.mplot3d import proj3d\n",
    "\n",
    "class Arrow3D(FancyArrowPatch):\n",
    "    def __init__(self, xs, ys, zs, *args, **kwargs):\n",
    "        FancyArrowPatch.__init__(self, (0,0), (0,0), *args, **kwargs)\n",
    "        self._verts3d = xs, ys, zs\n",
    "\n",
    "    def draw(self, renderer):\n",
    "        xs3d, ys3d, zs3d = self._verts3d\n",
    "        xs, ys, zs = proj3d.proj_transform(xs3d, ys3d, zs3d, renderer.M)\n",
    "        self.set_positions((xs[0],ys[0]),(xs[1],ys[1]))\n",
    "        FancyArrowPatch.draw(self, renderer)"
   ]
  },
  {
   "cell_type": "code",
   "execution_count": 3,
   "metadata": {
    "collapsed": true
   },
   "outputs": [],
   "source": [
    "directory = '/oak/stanford/groups/trc/data/Brezovec/2P_Imaging/20190101_walking_dataset/fly_19/func_0'"
   ]
  },
  {
   "cell_type": "code",
   "execution_count": 4,
   "metadata": {
    "collapsed": true
   },
   "outputs": [],
   "source": [
    "file = os.path.join(directory, 'tsne', '20191224_X_labels.npy')\n",
    "labels = np.load(file)\n",
    "file = os.path.join(directory, 'tsne', '20191224_X.npy')\n",
    "X = np.load(file)"
   ]
  },
  {
   "cell_type": "code",
   "execution_count": 5,
   "metadata": {},
   "outputs": [
    {
     "name": "stdout",
     "output_type": "stream",
     "text": [
      "\n",
      "~~ load_timestamps ~~\n",
      "Trying to load timestamp data from hdf5 file.\n",
      "Success.\n",
      "load_timestamps done. Duration: 44.92 ms\n",
      "\n",
      "~~ load_fictrac ~~\n",
      "load_fictrac done. Duration: 3.11 sec\n"
     ]
    }
   ],
   "source": [
    "timestamps = bbb.load_timestamps(os.path.join(directory, 'imaging'))\n",
    "fictrac = bbb.load_fictrac(os.path.join(directory, 'fictrac'))"
   ]
  },
  {
   "cell_type": "code",
   "execution_count": 6,
   "metadata": {},
   "outputs": [
    {
     "name": "stdout",
     "output_type": "stream",
     "text": [
      "1000\n",
      "2000\n",
      "3000\n",
      "4000\n",
      "5000\n",
      "6000\n",
      "7000\n",
      "8000\n",
      "9000\n",
      "10000\n",
      "11000\n",
      "12000\n",
      "13000\n",
      "14000\n",
      "15000\n",
      "16000\n",
      "17000\n",
      "18000\n",
      "19000\n",
      "20000\n",
      "21000\n",
      "22000\n",
      "23000\n",
      "24000\n",
      "25000\n",
      "26000\n",
      "27000\n",
      "28000\n",
      "29000\n",
      "30000\n",
      "31000\n",
      "32000\n",
      "33000\n",
      "34000\n",
      "35000\n",
      "36000\n",
      "37000\n",
      "38000\n",
      "39000\n",
      "40000\n",
      "41000\n",
      "42000\n",
      "43000\n",
      "44000\n",
      "45000\n",
      "46000\n",
      "47000\n",
      "48000\n",
      "49000\n",
      "50000\n",
      "51000\n",
      "52000\n",
      "53000\n",
      "54000\n",
      "55000\n",
      "56000\n",
      "57000\n",
      "58000\n",
      "59000\n",
      "60000\n",
      "61000\n",
      "62000\n",
      "63000\n",
      "64000\n",
      "65000\n",
      "66000\n",
      "67000\n",
      "68000\n",
      "69000\n",
      "70000\n",
      "71000\n",
      "72000\n",
      "73000\n",
      "74000\n",
      "75000\n",
      "76000\n",
      "77000\n",
      "78000\n",
      "79000\n",
      "80000\n",
      "81000\n",
      "82000\n",
      "83000\n",
      "84000\n",
      "85000\n",
      "86000\n",
      "87000\n",
      "88000\n",
      "89000\n"
     ]
    }
   ],
   "source": [
    "cap = cv2.VideoCapture('/oak/stanford/groups/trc/data/Brezovec/2P_Imaging/imports/fictrac/fictrac-20190218_133014-raw.avi')\n",
    "i=0\n",
    "frames = []\n",
    "ret = True\n",
    "while ret is True and i<90000:\n",
    "    i+=1\n",
    "    if i%1000 == 0:\n",
    "        print(i)\n",
    "    # Capture frame-by-frame\n",
    "    ret, frame = cap.read()\n",
    "    frames.append(frame)\n",
    "cap.release()"
   ]
  },
  {
   "cell_type": "code",
   "execution_count": 7,
   "metadata": {
    "collapsed": true
   },
   "outputs": [],
   "source": [
    "def interp_fictrac(fictrac, behavior, fps, resolution, expt_len, timestamps, interp_to):\n",
    "    camera_rate = 1/fps * 1000 # camera frame rate in ms\n",
    "    sphere_radius = 4.5e-3\n",
    "    filter_window = 51\n",
    "    \n",
    "    x_original = np.arange(0,expt_len,camera_rate)\n",
    "    \n",
    "    if behavior == 'all':\n",
    "        dx = np.asarray(fictrac['dRotLabX'])\n",
    "        dy = np.asarray(fictrac['dRotLabY'])\n",
    "        dz = np.asarray(fictrac['dRotLabZ'])\n",
    "        dx = scipy.signal.savgol_filter(dx,filter_window,3) * sphere_radius * 50 * 100 * 10\n",
    "        dy = scipy.signal.savgol_filter(dy,filter_window,3) * sphere_radius * 50 * 100 * 10\n",
    "        dz = scipy.signal.savgol_filter(dz,filter_window,3) * 180 / np.pi * 50\n",
    "        fictrac_smoothed = np.sqrt(dx*dx + dy*dy + dz*dz)\n",
    "    elif behavior == 'Y':\n",
    "        dy = np.asarray(fictrac['dRotLabY'])\n",
    "        fictrac_smoothed = scipy.signal.savgol_filter(dy,filter_window,3) * sphere_radius * 50 * 100 * 10\n",
    "    elif behavior == 'Z':\n",
    "        dz = np.asarray(fictrac['dRotLabZ'])\n",
    "        fictrac_smoothed = scipy.signal.savgol_filter(dz,filter_window,3) * 180 / np.pi * 50\n",
    "    else:\n",
    "        print('invalid behavior')\n",
    "    \n",
    "    #fictrac_smoothed = np.abs(fictrac_smoothed)\n",
    "    fictrac_interp_temp = interp1d(x_original, fictrac_smoothed, bounds_error = False)\n",
    "    xnew = np.arange(0,expt_len,resolution) #0 to last time at subsample res\n",
    "    \n",
    "    if interp_to is 'timestamps':\n",
    "        fictrac_interp = fictrac_interp_temp(timestamps[:,25])\n",
    "    elif interp_to is 'xnew':\n",
    "        fictrac_interp = fictrac_interp_temp(xnew)\n",
    "    else:\n",
    "        print('Invalid interp_to ({})'.format(interp_to))\n",
    "\n",
    "    # Replace Nans with zeros (for later code)\n",
    "    np.nan_to_num(fictrac_interp, copy=False);\n",
    "    \n",
    "    return fictrac_interp"
   ]
  },
  {
   "cell_type": "code",
   "execution_count": 8,
   "metadata": {
    "collapsed": true
   },
   "outputs": [],
   "source": [
    "resolution = 20 #desired resolution in ms\n",
    "expt_len = 1000*30*60\n",
    "fps = 50 #of fictrac camera\n",
    "xnew = np.arange(0,expt_len,resolution)\n",
    "\n",
    "fictracs_high_res = {}\n",
    "for behavior in ['all', 'Y', 'Z']:\n",
    "    fictracs_high_res[behavior] = interp_fictrac(fictrac, behavior, fps, resolution, expt_len, timestamps, 'xnew')\n",
    "\n",
    "fictracs = {}\n",
    "for behavior in ['all', 'Y', 'Z']:\n",
    "    fictracs[behavior] = interp_fictrac(fictrac, behavior, fps, resolution, expt_len, timestamps, 'timestamps')"
   ]
  },
  {
   "cell_type": "code",
   "execution_count": null,
   "metadata": {
    "collapsed": true
   },
   "outputs": [],
   "source": [
    "np.where(labels==1)[0]"
   ]
  },
  {
   "cell_type": "code",
   "execution_count": 47,
   "metadata": {},
   "outputs": [
    {
     "name": "stdout",
     "output_type": "stream",
     "text": [
      "1453\n",
      "26\n",
      "13\n",
      "14\n",
      "44\n",
      "19\n",
      "41\n",
      "15\n",
      "22\n",
      "18\n",
      "37\n",
      "33\n",
      "15\n",
      "71\n",
      "19\n",
      "20\n",
      "44\n",
      "18\n",
      "50\n",
      "14\n",
      "161\n",
      "14\n",
      "25\n",
      "23\n",
      "17\n",
      "26\n",
      "33\n",
      "13\n",
      "41\n",
      "46\n",
      "34\n",
      "28\n",
      "21\n",
      "12\n",
      "37\n",
      "21\n",
      "47\n",
      "14\n",
      "17\n",
      "17\n",
      "27\n",
      "39\n",
      "139\n",
      "34\n",
      "61\n",
      "12\n",
      "19\n",
      "26\n",
      "26\n",
      "19\n",
      "43\n",
      "90\n",
      "74\n",
      "217\n",
      "79\n",
      "18\n",
      "19\n",
      "126\n",
      "271\n",
      "195\n",
      "144\n",
      "13\n",
      "139\n",
      "17\n"
     ]
    }
   ],
   "source": [
    "for i in range(max(labels)):\n",
    "    print(len(np.where(labels==i)[0]))"
   ]
  },
  {
   "cell_type": "code",
   "execution_count": 15,
   "metadata": {},
   "outputs": [
    {
     "name": "stdout",
     "output_type": "stream",
     "text": [
      "CLUSTER 1\n",
      "1\n"
     ]
    },
    {
     "data": {
      "text/plain": [
       "<Figure size 720x720 with 0 Axes>"
      ]
     },
     "metadata": {},
     "output_type": "display_data"
    }
   ],
   "source": [
    "for CLUSTER_NUM in [1]:\n",
    "    print('CLUSTER {}'.format(CLUSTER_NUM))\n",
    "    fig = plt.figure(figsize=(10,10))\n",
    "    save_path = '/oak/stanford/groups/trc/data/Brezovec/2P_Imaging/figs/20191220_cluster_videos/cluster_{}'.format(CLUSTER_NUM)\n",
    "    #os.mkdir(save_path)\n",
    "    NUM_AXES = 26\n",
    "    #CLUSTER_NUM = 1\n",
    "    PRE_MS = 0#1000\n",
    "    POST_MS = 50#1000\n",
    "    STEP_MS = 50\n",
    "    IMAGING_RATE = 400 # in ms for bruker\n",
    "\n",
    "    IMAGING_RATE = IMAGING_RATE/2\n",
    "    num_frames = int((POST_MS+PRE_MS)/STEP_MS)\n",
    "    print(num_frames)"
   ]
  },
  {
   "cell_type": "code",
   "execution_count": 48,
   "metadata": {
    "collapsed": true
   },
   "outputs": [],
   "source": [
    "save_path = '/oak/stanford/groups/trc/data/Brezovec/2P_Imaging/figs/20191227_cluster_videos/'\n",
    "os.mkdir(save_path)"
   ]
  },
  {
   "cell_type": "code",
   "execution_count": 46,
   "metadata": {},
   "outputs": [
    {
     "name": "stdout",
     "output_type": "stream",
     "text": [
      "1453\n",
      "26\n",
      "13\n",
      "14\n",
      "44\n",
      "19\n",
      "41\n",
      "15\n",
      "22\n",
      "18\n",
      "37\n",
      "33\n",
      "15\n",
      "71\n",
      "19\n",
      "20\n",
      "44\n",
      "18\n",
      "50\n",
      "14\n",
      "161\n",
      "14\n",
      "25\n",
      "23\n",
      "17\n",
      "26\n",
      "33\n",
      "13\n",
      "41\n",
      "46\n",
      "34\n",
      "28\n",
      "21\n",
      "12\n",
      "37\n",
      "21\n",
      "47\n",
      "14\n",
      "17\n",
      "17\n",
      "27\n",
      "39\n",
      "139\n",
      "34\n",
      "61\n",
      "12\n",
      "19\n",
      "26\n",
      "26\n",
      "19\n",
      "43\n",
      "90\n",
      "74\n",
      "217\n",
      "79\n",
      "18\n",
      "19\n",
      "126\n",
      "271\n",
      "195\n",
      "144\n",
      "13\n",
      "139\n",
      "17\n"
     ]
    }
   ],
   "source": [
    "for i in range(max(labels)):\n",
    "    print(len(np.where(labels==i)[0]))"
   ]
  },
  {
   "cell_type": "code",
   "execution_count": 55,
   "metadata": {},
   "outputs": [
    {
     "name": "stdout",
     "output_type": "stream",
     "text": [
      "2\n",
      "3\n",
      "4\n",
      "5\n",
      "6\n",
      "7\n",
      "8\n",
      "9\n"
     ]
    }
   ],
   "source": [
    "for i in range(2,10):\n",
    "    print(i)"
   ]
  },
  {
   "cell_type": "code",
   "execution_count": null,
   "metadata": {},
   "outputs": [
    {
     "name": "stdout",
     "output_type": "stream",
     "text": [
      "CLUSTER 26\n",
      "Frame 0 of 40\n",
      "Frame 1 of 40\n",
      "Frame 2 of 40\n",
      "Frame 3 of 40\n",
      "Frame 4 of 40\n",
      "Frame 5 of 40\n",
      "Frame 6 of 40\n",
      "Frame 7 of 40\n",
      "Frame 8 of 40\n",
      "Frame 9 of 40\n",
      "Frame 10 of 40\n",
      "Frame 11 of 40\n",
      "Frame 12 of 40\n",
      "Frame 13 of 40\n",
      "Frame 14 of 40\n",
      "Frame 15 of 40\n",
      "Frame 16 of 40\n",
      "Frame 17 of 40\n",
      "Frame 18 of 40\n",
      "Frame 19 of 40\n",
      "Frame 20 of 40\n",
      "Frame 21 of 40\n",
      "Frame 22 of 40\n",
      "Frame 23 of 40\n",
      "Frame 24 of 40\n",
      "Frame 25 of 40\n",
      "Frame 26 of 40\n",
      "Frame 27 of 40\n",
      "Frame 28 of 40\n",
      "Frame 29 of 40\n",
      "Frame 30 of 40\n",
      "Frame 31 of 40\n",
      "Frame 32 of 40\n",
      "Frame 33 of 40\n",
      "Frame 34 of 40\n",
      "Frame 35 of 40\n",
      "Frame 36 of 40\n",
      "Frame 37 of 40\n",
      "Frame 38 of 40\n",
      "Frame 39 of 40\n",
      "CLUSTER 27\n",
      "Frame 0 of 40\n",
      "Frame 1 of 40\n",
      "Frame 2 of 40\n",
      "Frame 3 of 40\n",
      "Frame 8 of 40\n",
      "Frame 9 of 40\n",
      "Frame 10 of 40\n",
      "Frame 11 of 40\n",
      "Frame 12 of 40\n",
      "Frame 13 of 40\n",
      "Frame 14 of 40\n",
      "Frame 15 of 40\n",
      "Frame 16 of 40\n",
      "Frame 17 of 40\n",
      "Frame 18 of 40\n",
      "Frame 19 of 40\n",
      "Frame 20 of 40\n",
      "Frame 21 of 40\n",
      "Frame 22 of 40\n",
      "Frame 23 of 40\n",
      "Frame 24 of 40\n",
      "Frame 25 of 40\n",
      "Frame 26 of 40\n",
      "Frame 27 of 40\n",
      "Frame 28 of 40\n",
      "Frame 29 of 40\n",
      "Frame 30 of 40\n",
      "Frame 31 of 40\n",
      "Frame 32 of 40\n",
      "Frame 33 of 40\n",
      "Frame 34 of 40\n",
      "Frame 35 of 40\n",
      "Frame 36 of 40\n",
      "Frame 37 of 40\n",
      "Frame 38 of 40\n",
      "Frame 39 of 40\n",
      "CLUSTER 28\n",
      "Frame 0 of 40\n",
      "Frame 1 of 40\n",
      "Frame 2 of 40\n",
      "Frame 3 of 40\n",
      "Frame 4 of 40\n",
      "Frame 5 of 40\n",
      "Frame 6 of 40\n",
      "Frame 7 of 40\n",
      "Frame 8 of 40\n",
      "Frame 9 of 40\n",
      "Frame 10 of 40\n",
      "Frame 11 of 40\n",
      "Frame 12 of 40\n",
      "Frame 13 of 40\n",
      "Frame 14 of 40\n",
      "Frame 34 of 40\n",
      "Frame 35 of 40\n",
      "Frame 36 of 40\n",
      "Frame 37 of 40\n",
      "Frame 38 of 40\n",
      "Frame 39 of 40\n",
      "CLUSTER 38\n",
      "Frame 0 of 40\n",
      "Frame 1 of 40\n"
     ]
    }
   ],
   "source": [
    "for CLUSTER_NUM in range(26,len(clusters)):\n",
    "    print('CLUSTER {}'.format(CLUSTER_NUM))\n",
    "    fig = plt.figure(figsize=(10,10))\n",
    "    save_path = '/oak/stanford/groups/trc/data/Brezovec/2P_Imaging/figs/20191227_cluster_videos/cluster_{}'.format(CLUSTER_NUM)\n",
    "    os.mkdir(save_path)\n",
    "    NUM_AXES = 36\n",
    "    PRE_MS = 1000\n",
    "    POST_MS = 1000\n",
    "    STEP_MS = 50\n",
    "    IMAGING_RATE = 400 # in ms for bruker\n",
    "\n",
    "    IMAGING_RATE = IMAGING_RATE/2\n",
    "    num_frames = int((POST_MS+PRE_MS)/STEP_MS)\n",
    "    width = int(np.ceil(np.sqrt(NUM_AXES)))\n",
    "    axes = []\n",
    "    images = []\n",
    "    for i in range(width**2): # must be 0 index\n",
    "        x = i%width\n",
    "        y = int(np.ceil((i+1)/width))\n",
    "        ax = fig.add_axes([x/width, y/width, 1/width, 1/width]) # was 1,1\n",
    "        im = ax.imshow([[0,0],[0,0]])\n",
    "        ax.axis('off')\n",
    "        images.append(im)\n",
    "        axes.append(ax)\n",
    "\n",
    "    for i in range(num_frames): # step through each frame\n",
    "        ax_umap = fig.add_axes([1,1/width,1,1])\n",
    "        print('Frame {} of {}'.format(i, num_frames))\n",
    "        brain_idx = np.where(labels==CLUSTER_NUM)[0]\n",
    "        #brain_idx = [1621,2203]\n",
    "        #brain_idx = np.searchsorted(timestamps[:,20], VIDEO_TIMEPOINTS[i])\n",
    "        \n",
    "        # Plot UMAP\n",
    "        for ii in range(X2.shape[0]-1):\n",
    "            alpha = .1\n",
    "            linestyle='-'\n",
    "            lw=0.25\n",
    "            if labels[ii] == 0:\n",
    "                alpha=0\n",
    "            if labels[ii] == CLUSTER_NUM:\n",
    "                color='r'\n",
    "                alpha=1\n",
    "            else:\n",
    "                color='k'\n",
    "            a = FancyArrowPatch(X2[ii,:],X2[ii+1,:],\n",
    "                                mutation_scale=6,lw=lw,arrowstyle=\"-|>\",\n",
    "                                color=color,alpha=alpha,linestyle=linestyle)\n",
    "            ax_umap.add_artist(a)\n",
    "        window = 6\n",
    "        center = np.mean(X2,axis=0)\n",
    "        ax_umap.set_xlim(center[0]-window,center[0]+window)\n",
    "        ax_umap.set_ylim(center[1]-window,center[1]+window)\n",
    "        plt.axis('off')\n",
    "        \n",
    "        # Plot behaviors\n",
    "        for k,j in enumerate(brain_idx): # step through each bout\n",
    "            if k< NUM_AXES:\n",
    "                \n",
    "                trigger_time = timestamps[:,20][j]\n",
    "                current_time = trigger_time - PRE_MS + STEP_MS*i\n",
    "                behavior_idx = np.searchsorted(xnew, current_time)\n",
    "                \n",
    "                try:\n",
    "                    images[k].set_array(frames[behavior_idx][35:210,325:500,:])\n",
    "                except: #for catching behavior_idx that are outside of imaging\n",
    "                    #print('error')\n",
    "                    images[k].set_array([[0,0],[0,0]])\n",
    "                #if trigger_time-IMAGING_RATE < current_time < trigger_time+IMAGING_RATE:\n",
    "                #    circle = plt.Circle((-0.15, -0.15), .2, color='r')\n",
    "                #else:\n",
    "                #    circle = plt.Circle((-0.15, -0.15), .2, color='k')\n",
    "                #axes[k].add_artist(circle)\n",
    "                \n",
    "                #add dark umap arrows\n",
    "                umap_idx = np.searchsorted(timestamps[:,20], current_time)\n",
    "                if umap_idx in brain_idx:\n",
    "                    color='r'\n",
    "                else:\n",
    "                    color='k'\n",
    "                try: #for indicies out of bounds\n",
    "                    a = FancyArrowPatch(X2[umap_idx,:],X2[umap_idx+1,:],\n",
    "                        mutation_scale=6,lw=1,arrowstyle='-|>',\n",
    "                        color=color,alpha=1,linestyle=linestyle)\n",
    "                    ax_umap.add_artist(a)\n",
    "                except:\n",
    "                    pass\n",
    "                \n",
    "        fname = os.path.join(save_path, '{0:05d}.png'.format(i))\n",
    "        plt.savefig(fname,dpi=300,bbox_inches='tight')\n",
    "        ax_umap.remove()"
   ]
  },
  {
   "cell_type": "code",
   "execution_count": 62,
   "metadata": {},
   "outputs": [
    {
     "data": {
      "text/plain": [
       "64"
      ]
     },
     "execution_count": 62,
     "metadata": {},
     "output_type": "execute_result"
    }
   ],
   "source": [
    "max(labels)"
   ]
  },
  {
   "cell_type": "code",
   "execution_count": null,
   "metadata": {
    "collapsed": true
   },
   "outputs": [],
   "source": [
    "1"
   ]
  },
  {
   "cell_type": "code",
   "execution_count": null,
   "metadata": {
    "collapsed": true
   },
   "outputs": [],
   "source": [
    "labels"
   ]
  },
  {
   "cell_type": "code",
   "execution_count": 55,
   "metadata": {},
   "outputs": [
    {
     "data": {
      "text/plain": [
       "array([  26, 1621, 1674, 2025, 2203, 2436, 2489, 2499, 2711, 2742, 2758,\n",
       "       2789, 2822, 2826, 2870, 2937, 2950, 2974, 3069, 3188, 3216, 4129,\n",
       "       4271, 4296, 4311, 4548])"
      ]
     },
     "execution_count": 55,
     "metadata": {},
     "output_type": "execute_result"
    }
   ],
   "source": [
    "np.where(labels==CLUSTER_NUM)[0]"
   ]
  },
  {
   "cell_type": "code",
   "execution_count": 9,
   "metadata": {
    "collapsed": true
   },
   "outputs": [],
   "source": [
    "import umap"
   ]
  },
  {
   "cell_type": "code",
   "execution_count": 10,
   "metadata": {
    "collapsed": true
   },
   "outputs": [],
   "source": [
    "save_file = os.path.join(directory, 'pca', 'loadings_(temporal).npy')\n",
    "pca_loadings = np.load(save_file)\n",
    "\n",
    "reducer = umap.UMAP(n_neighbors=60,min_dist=0,n_components=2)\n",
    "X2 = reducer.fit_transform(pca_loadings[:,:10])"
   ]
  },
  {
   "cell_type": "code",
   "execution_count": 11,
   "metadata": {
    "collapsed": true
   },
   "outputs": [],
   "source": [
    "lines4cluster = []\n",
    "for i in range(X2.shape[0]-1):\n",
    "    lines4cluster.append(tuple(X2[i:i+2,0]) + tuple(X2[i:i+2,1]))\n",
    "lines4cluster = np.asarray(lines4cluster)"
   ]
  },
  {
   "cell_type": "code",
   "execution_count": 12,
   "metadata": {
    "collapsed": true
   },
   "outputs": [],
   "source": [
    "clusters = {}\n",
    "for i in range(max(labels)+1):\n",
    "    indicies = np.where(labels == i)[0]\n",
    "    clusters[i] = lines4cluster[indicies,:]\n",
    "\n",
    "cluster_means = {}\n",
    "for i in range(max(labels)+1):\n",
    "    cluster_means[i] = np.mean(clusters[i],axis=0)"
   ]
  },
  {
   "cell_type": "code",
   "execution_count": 13,
   "metadata": {
    "collapsed": true
   },
   "outputs": [],
   "source": [
    "import random\n",
    "shuffle = list(range(0,len(clusters)))\n",
    "random.shuffle(shuffle)"
   ]
  },
  {
   "cell_type": "code",
   "execution_count": 27,
   "metadata": {},
   "outputs": [
    {
     "data": {
      "text/plain": [
       "65"
      ]
     },
     "execution_count": 27,
     "metadata": {},
     "output_type": "execute_result"
    }
   ],
   "source": [
    "len(clusters)"
   ]
  },
  {
   "cell_type": "code",
   "execution_count": 46,
   "metadata": {},
   "outputs": [
    {
     "data": {
      "text/plain": [
       "64"
      ]
     },
     "execution_count": 46,
     "metadata": {},
     "output_type": "execute_result"
    }
   ],
   "source": [
    "max(labels)"
   ]
  },
  {
   "cell_type": "code",
   "execution_count": null,
   "metadata": {
    "collapsed": true
   },
   "outputs": [],
   "source": []
  },
  {
   "cell_type": "code",
   "execution_count": 45,
   "metadata": {},
   "outputs": [
    {
     "data": {
      "image/png": "[encoded data removed]",
      "text/plain": [
       "<Figure size 720x720 with 1 Axes>"
      ]
     },
     "metadata": {},
     "output_type": "display_data"
    }
   ],
   "source": [
    "fig = plt.figure(figsize=(10,10))\n",
    "ax = fig.add_subplot(111)\n",
    "#cmap = plt.cm.magma\n",
    "cmap = plt.cm.get_cmap('hsv', len(clusters))\n",
    "for i in range(X2.shape[0]-1):\n",
    "    alpha = .1\n",
    "    linestyle='-'\n",
    "    lw=0.25\n",
    "    #color = cmap(float(i+1) / float(X.shape[0]))\n",
    "    #color=cmap(shuffle[labels[i]])\n",
    "    if labels[i] == 0:\n",
    "        alpha=0\n",
    "    if labels[i] == 20:\n",
    "        color='r'\n",
    "        alpha=1\n",
    "    else:\n",
    "        color='k'\n",
    "    if i in [4,324,77,926,2912,2100,3300,4000,400,1000]:\n",
    "        lw=1\n",
    "        alpha=1\n",
    "    a = FancyArrowPatch(X2[i,:],X2[i+1,:],\n",
    "                        mutation_scale=6,lw=lw,arrowstyle=\"-|>\",\n",
    "                        color=color,alpha=alpha,linestyle=linestyle)\n",
    "    ax.add_artist(a)\n",
    "window = 6\n",
    "center = np.mean(X2,axis=0)\n",
    "ax.set_xlim(center[0]-window,center[0]+window)\n",
    "ax.set_ylim(center[1]-window,center[1]+window)\n",
    "plt.axis('off')\n",
    "\n",
    "save_path = '/oak/stanford/groups/trc/data/Brezovec/2P_Imaging/figs'\n",
    "timestr = time.strftime(\"%Y%m%d-%H%M%S\")\n",
    "fname = os.path.join(save_path, '{}.png'.format(timestr))\n",
    "plt.savefig(fname,dpi=300,bbox_inches='tight')"
   ]
  },
  {
   "cell_type": "code",
   "execution_count": null,
   "metadata": {
    "collapsed": true
   },
   "outputs": [],
   "source": [
    "labels"
   ]
  },
  {
   "cell_type": "code",
   "execution_count": null,
   "metadata": {
    "collapsed": true
   },
   "outputs": [],
   "source": []
  }
 ],
 "metadata": {
  "kernelspec": {
   "display_name": "Python 3",
   "language": "python",
   "name": "python3"
  },
  "language_info": {
   "codemirror_mode": {
    "name": "ipython",
    "version": 3
   },
   "file_extension": ".py",
   "mimetype": "text/x-python",
   "name": "python",
   "nbconvert_exporter": "python",
   "pygments_lexer": "ipython3",
   "version": "3.6.1"
  }
 },
 "nbformat": 4,
 "nbformat_minor": 2
}
