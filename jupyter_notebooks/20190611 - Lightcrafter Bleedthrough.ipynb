{
 "cells": [
  {
   "cell_type": "code",
   "execution_count": 1,
   "metadata": {
    "collapsed": true
   },
   "outputs": [],
   "source": [
    "import numpy as np\n",
    "import os\n",
    "import sys\n",
    "import bigbadbrain as bbb"
   ]
  },
  {
   "cell_type": "code",
   "execution_count": 7,
   "metadata": {
    "collapsed": true
   },
   "outputs": [],
   "source": [
    "on_file = 'F:/ftp_imports/20190611/TSeries-06112019-1357-000_bright/TSeries-06112019-1357-000_channel_1.nii'\n",
    "off_file = 'F:/ftp_imports/20190611/TSeries-06112019-1357-002_off/TSeries-06112019-1357-002_channel_1.nii'\n",
    "max_file = 'F:/ftp_imports/20190611/TSeries-06112019-1357-003_maxPMT/TSeries-06112019-1357-003_channel_1.nii'"
   ]
  },
  {
   "cell_type": "code",
   "execution_count": 8,
   "metadata": {},
   "outputs": [
    {
     "name": "stdout",
     "output_type": "stream",
     "text": [
      "\n",
      "~~ load_numpy_brain ~~\n",
      "load_numpy_brain done. Duration: 8.00 ms\n",
      "\n",
      "~~ load_numpy_brain ~~\n",
      "load_numpy_brain done. Duration: 21.00 ms\n",
      "\n",
      "~~ load_numpy_brain ~~\n",
      "load_numpy_brain done. Duration: 17.00 ms\n"
     ]
    }
   ],
   "source": [
    "on = bbb.load_numpy_brain(on_file)\n",
    "off = bbb.load_numpy_brain(off_file)\n",
    "maxx = bbb.load_numpy_brain(max_file)"
   ]
  },
  {
   "cell_type": "code",
   "execution_count": 9,
   "metadata": {},
   "outputs": [
    {
     "data": {
      "text/plain": [
       "846.4641119384765"
      ]
     },
     "execution_count": 9,
     "metadata": {},
     "output_type": "execute_result"
    }
   ],
   "source": [
    "np.mean(on)"
   ]
  },
  {
   "cell_type": "code",
   "execution_count": 10,
   "metadata": {},
   "outputs": [
    {
     "data": {
      "text/plain": [
       "220.0371551513672"
      ]
     },
     "execution_count": 10,
     "metadata": {},
     "output_type": "execute_result"
    }
   ],
   "source": [
    "np.mean(off)"
   ]
  },
  {
   "cell_type": "code",
   "execution_count": 11,
   "metadata": {},
   "outputs": [
    {
     "data": {
      "text/plain": [
       "8191.0"
      ]
     },
     "execution_count": 11,
     "metadata": {},
     "output_type": "execute_result"
    }
   ],
   "source": [
    "np.max(maxx)"
   ]
  },
  {
   "cell_type": "code",
   "execution_count": null,
   "metadata": {
    "collapsed": true
   },
   "outputs": [],
   "source": []
  }
 ],
 "metadata": {
  "kernelspec": {
   "display_name": "Python 3",
   "language": "python",
   "name": "python3"
  },
  "language_info": {
   "codemirror_mode": {
    "name": "ipython",
    "version": 3
   },
   "file_extension": ".py",
   "mimetype": "text/x-python",
   "name": "python",
   "nbconvert_exporter": "python",
   "pygments_lexer": "ipython3",
   "version": "3.6.1"
  }
 },
 "nbformat": 4,
 "nbformat_minor": 2
}
