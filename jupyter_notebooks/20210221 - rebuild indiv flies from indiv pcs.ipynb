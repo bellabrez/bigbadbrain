{
 "cells": [
  {
   "cell_type": "code",
   "execution_count": 1,
   "metadata": {
    "collapsed": true
   },
   "outputs": [],
   "source": [
    "import sys\n",
    "sys.path.insert(0, '/home/users/brezovec/.local/lib/python3.6/site-packages/lib/python/')\n",
    "import ants\n",
    "import os\n",
    "import bigbadbrain as bbb\n",
    "import numpy as np\n",
    "import matplotlib.pyplot as plt\n",
    "import time\n",
    "import scipy\n",
    "from scipy.ndimage.filters import gaussian_filter\n",
    "from scipy.signal import savgol_filter\n",
    "from scipy.interpolate import interp1d\n",
    "\n",
    "from skimage.filters import threshold_triangle\n",
    "sys.path.insert(0, '/home/users/brezovec/.local/lib/python3.6/site-packages')\n",
    "import os\n",
    "import statsmodels.api as sm\n",
    "import cv2\n",
    "import matplotlib.patches as mpatches\n",
    "import psutil\n",
    "from mpl_toolkits.axes_grid1 import ImageGrid\n",
    "from matplotlib.colors import Normalize\n",
    "\n",
    "\n",
    "%matplotlib inline\n",
    "plt.rcParams.update({'font.size': 20})\n",
    "\n",
    "from sklearn.feature_extraction.image import grid_to_graph\n",
    "from mpl_toolkits.axes_grid1 import ImageGrid\n",
    "import json\n",
    "from matplotlib.ticker import FuncFormatter\n",
    "\n",
    "import nibabel as nib\n",
    "\n",
    "from sklearn.cluster import AgglomerativeClustering\n",
    "from scipy.cluster.hierarchy import dendrogram\n",
    "import itertools\n",
    "import random\n",
    "from scipy.cluster import hierarchy\n",
    "import matplotlib as mpl\n",
    "from matplotlib.pyplot import cm\n",
    "\n",
    "from scipy.interpolate import UnivariateSpline\n",
    "from sklearn.linear_model import LinearRegression\n",
    "\n",
    "import pickle\n",
    "from sklearn.decomposition import PCA"
   ]
  },
  {
   "cell_type": "code",
   "execution_count": null,
   "metadata": {
    "collapsed": true
   },
   "outputs": [],
   "source": []
  },
  {
   "cell_type": "code",
   "execution_count": 10,
   "metadata": {
    "collapsed": true
   },
   "outputs": [],
   "source": [
    "dataset_path = \"/oak/stanford/groups/trc/data/Brezovec/2P_Imaging/20190101_walking_dataset\"\n",
    "fly_names = ['fly_087', 'fly_089', 'fly_094', 'fly_097', 'fly_098', 'fly_099', 'fly_100', 'fly_101', 'fly_105']"
   ]
  },
  {
   "cell_type": "code",
   "execution_count": 11,
   "metadata": {},
   "outputs": [
    {
     "name": "stdout",
     "output_type": "stream",
     "text": [
      "fly_087\n",
      "vectors are (26840, 26840) voxel by PC\n",
      "X is (3384, 26840) time by voxel - expecting (3384,26840)\n",
      "brain is (3384, 26840) time by voxel - expecting (3384,26840)\n",
      "fly_089\n",
      "vectors are (26840, 26840) voxel by PC\n",
      "X is (3384, 26840) time by voxel - expecting (3384,26840)\n",
      "brain is (3384, 26840) time by voxel - expecting (3384,26840)\n",
      "fly_094\n",
      "vectors are (26840, 26840) voxel by PC\n",
      "X is (3384, 26840) time by voxel - expecting (3384,26840)\n",
      "brain is (3384, 26840) time by voxel - expecting (3384,26840)\n",
      "fly_097\n",
      "vectors are (26840, 26840) voxel by PC\n",
      "X is (3384, 26840) time by voxel - expecting (3384,26840)\n",
      "brain is (3384, 26840) time by voxel - expecting (3384,26840)\n",
      "fly_098\n",
      "vectors are (26840, 26840) voxel by PC\n",
      "X is (3384, 26840) time by voxel - expecting (3384,26840)\n",
      "brain is (3384, 26840) time by voxel - expecting (3384,26840)\n",
      "fly_099\n",
      "vectors are (26840, 26840) voxel by PC\n",
      "X is (3384, 26840) time by voxel - expecting (3384,26840)\n",
      "brain is (3384, 26840) time by voxel - expecting (3384,26840)\n",
      "fly_100\n",
      "vectors are (26840, 26840) voxel by PC\n",
      "X is (3384, 26840) time by voxel - expecting (3384,26840)\n",
      "brain is (3384, 26840) time by voxel - expecting (3384,26840)\n",
      "fly_101\n",
      "vectors are (26840, 26840) voxel by PC\n",
      "X is (3384, 26840) time by voxel - expecting (3384,26840)\n",
      "brain is (3384, 26840) time by voxel - expecting (3384,26840)\n",
      "fly_105\n",
      "vectors are (26840, 26840) voxel by PC\n",
      "X is (3384, 26840) time by voxel - expecting (3384,26840)\n",
      "brain is (3384, 26840) time by voxel - expecting (3384,26840)\n"
     ]
    }
   ],
   "source": [
    "num_pcs = 100\n",
    "reconstructed = np.zeros((30456, 26840)) #time by voxel\n",
    "for i, fly in enumerate(fly_names):\n",
    "    print(fly)\n",
    "\n",
    "    file = F'/oak/stanford/groups/trc/data/Brezovec/2P_Imaging/20210130_superv_depth_correction/20210214_eigen_vectors_ztrim_fly{i}.npy'\n",
    "    vectors = np.load(file).real\n",
    "    #print(vectors.shape)# vectors is voxel by PC probably (3384, 3384)\n",
    "    print(f'vectors are {vectors.shape} voxel by PC')\n",
    "\n",
    "    load_file = '/oak/stanford/groups/trc/data/Brezovec/2P_Imaging/20210130_superv_depth_correction/super_brain.pickle'\n",
    "    with open(load_file, 'rb') as handle:\n",
    "        temp_brain = pickle.load(handle)\n",
    "    #brain is a dict of z, each containing a variable number of supervoxels\n",
    "    #one dict element looks like: (n_clusters, 3384, 9)\n",
    "    X = np.zeros((0,3384,9))\n",
    "    for z in range(9,49-9):\n",
    "        X = np.concatenate((X,temp_brain[z]),axis=0)\n",
    "    X = np.swapaxes(X,1,2) # THIS LINE WAS MISSING\n",
    "    X = np.reshape(X,(26840, -1))\n",
    "    X = X.T\n",
    "    #X.shape # x is time by voxels (30456, 26840)\n",
    "    num_tp = 3384\n",
    "    start = i*num_tp\n",
    "    stop = (i+1)*num_tp\n",
    "    X = X[start:stop,:] # now (3384,26840)\n",
    "    print(f'X is {X.shape} time by voxel - expecting (3384,26840)')\n",
    "\n",
    "    temporal = X.dot(vectors)\n",
    "    brain = np.matmul(temporal[:,:num_pcs], vectors[:,:num_pcs].T)\n",
    "    # brain should be (3384, 26840) time by voxel\n",
    "    print(f'brain is {brain.shape} time by voxel - expecting (3384,26840)')\n",
    "    num_tp = 3384\n",
    "    start = i*num_tp\n",
    "    stop = (i+1)*num_tp\n",
    "    reconstructed[start:stop,:] = brain"
   ]
  },
  {
   "cell_type": "code",
   "execution_count": 12,
   "metadata": {
    "collapsed": true
   },
   "outputs": [],
   "source": [
    "file = '/oak/stanford/groups/trc/data/Brezovec/2P_Imaging/20210130_superv_depth_correction/20210221_reconstructed_100_fromindivpcs.npy'\n",
    "np.save(file, reconstructed)\n",
    "\n",
    "\n",
    "\n"
   ]
  },
  {
   "cell_type": "code",
   "execution_count": null,
   "metadata": {
    "collapsed": true
   },
   "outputs": [],
   "source": []
  }
 ],
 "metadata": {
  "kernelspec": {
   "display_name": "Python 3",
   "language": "python",
   "name": "python3"
  },
  "language_info": {
   "codemirror_mode": {
    "name": "ipython",
    "version": 3
   },
   "file_extension": ".py",
   "mimetype": "text/x-python",
   "name": "python",
   "nbconvert_exporter": "python",
   "pygments_lexer": "ipython3",
   "version": "3.6.1"
  }
 },
 "nbformat": 4,
 "nbformat_minor": 2
}
