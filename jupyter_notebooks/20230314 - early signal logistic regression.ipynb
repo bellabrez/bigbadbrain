{
 "cells": [
  {
   "cell_type": "code",
   "execution_count": 1,
   "metadata": {
    "collapsed": true
   },
   "outputs": [],
   "source": [
    "import sys\n",
    "sys.path.insert(0, '/home/users/brezovec/.local/lib/python3.6/site-packages/lib/python/')\n",
    "import ants\n",
    "import os\n",
    "import brainsss\n",
    "import numpy as np\n",
    "import matplotlib.pyplot as plt\n",
    "import time\n",
    "import scipy\n",
    "from scipy.ndimage.filters import gaussian_filter\n",
    "from scipy.signal import savgol_filter\n",
    "from scipy.interpolate import interp1d\n",
    "from skimage.filters import threshold_triangle\n",
    "sys.path.insert(0, '/home/users/brezovec/.local/lib/python3.6/site-packages')\n",
    "import os\n",
    "import statsmodels.api as sm\n",
    "import cv2\n",
    "import matplotlib.patches as mpatches\n",
    "import psutil\n",
    "from mpl_toolkits.axes_grid1 import ImageGrid\n",
    "from matplotlib.colors import Normalize\n",
    "%matplotlib inline\n",
    "plt.rcParams.update({'font.size': 20})\n",
    "from sklearn.feature_extraction.image import grid_to_graph\n",
    "from mpl_toolkits.axes_grid1 import ImageGrid\n",
    "import json\n",
    "from matplotlib.ticker import FuncFormatter\n",
    "import nibabel as nib\n",
    "from sklearn.cluster import AgglomerativeClustering\n",
    "from scipy.cluster.hierarchy import dendrogram\n",
    "import itertools\n",
    "import random\n",
    "from scipy.cluster import hierarchy\n",
    "import matplotlib as mpl\n",
    "from matplotlib.pyplot import cm\n",
    "from scipy.interpolate import UnivariateSpline\n",
    "from sklearn.linear_model import LinearRegression\n",
    "from scipy.fftpack import fft,fftshift,ifft\n",
    "import tqdm\n",
    "import matplotlib"
   ]
  },
  {
   "cell_type": "code",
   "execution_count": 2,
   "metadata": {},
   "outputs": [
    {
     "data": {
      "text/plain": [
       "(30456, 501)"
      ]
     },
     "execution_count": 2,
     "metadata": {},
     "output_type": "execute_result"
    }
   ],
   "source": [
    "cluster_dir = \"/oak/stanford/groups/trc/data/Brezovec/2P_Imaging/20221109_cluster_pca/\"\n",
    "### Load Supercluster Signals ###\n",
    "file = os.path.join(cluster_dir, \"20221202_SC_signals.npy\")\n",
    "supercluster_signals = np.load(file)\n",
    "supercluster_signals = supercluster_signals.T\n",
    "supercluster_signals.shape"
   ]
  },
  {
   "cell_type": "code",
   "execution_count": 3,
   "metadata": {
    "collapsed": true
   },
   "outputs": [],
   "source": [
    "supercluster_signals_fly = np.reshape(supercluster_signals,([9,3384,501]))"
   ]
  },
  {
   "cell_type": "code",
   "execution_count": 4,
   "metadata": {},
   "outputs": [
    {
     "name": "stderr",
     "output_type": "stream",
     "text": [
      "100%|██████████| 9/9 [00:06<00:00,  1.48it/s]\n",
      "100%|██████████| 9/9 [00:23<00:00,  2.63s/it]\n"
     ]
    }
   ],
   "source": [
    "### for a given supercluster, i need to know the original median z-depth for each fly ###\n",
    "\n",
    "dataset_path = \"/oak/stanford/groups/trc/data/Brezovec/2P_Imaging/20190101_walking_dataset\"\n",
    "fly_names = ['fly_087', 'fly_089', 'fly_094', 'fly_097', 'fly_098', 'fly_099', 'fly_100', 'fly_101', 'fly_105']\n",
    "\n",
    "z_corrections = []\n",
    "for fly in tqdm.tqdm(fly_names):\n",
    "    to_load = os.path.join(dataset_path, fly, 'warp', '20201220_warped_z_depth.nii')\n",
    "    z_corrections.append(np.array(nib.load(to_load).get_data(), copy=True))\n",
    "z_corrections = np.asarray(z_corrections)\n",
    "\n",
    "superclusters_3d = np.load(os.path.join(cluster_dir, \"20221130_pca_clsuters_in_luke_OG.npy\"))\n",
    "superclusters_3d = superclusters_3d[...,::-1] ### FLIP Z !!!!!!!!!!!!\n",
    "superclusters_3d.shape\n",
    "\n",
    "original_z_depth = []\n",
    "for fly in tqdm.tqdm(range(9)):\n",
    "    for cluster in range(501):\n",
    "        ind = np.where(superclusters_3d==cluster)\n",
    "        original_z_depth.append(np.median(z_corrections[fly,ind[0],ind[1],ind[2]]))\n",
    "original_z_depth = np.asarray(original_z_depth)\n",
    "original_z_depth = np.reshape(original_z_depth,(9,501))\n",
    "original_z_depth = original_z_depth.astype('int')"
   ]
  },
  {
   "cell_type": "code",
   "execution_count": 5,
   "metadata": {
    "collapsed": true
   },
   "outputs": [],
   "source": [
    "### maybe the easiest way to do this is have a single behavior trace at original res (50Hz)\n",
    "### I think it will be safest to use the raw neural data (not interpolated) and assign to bins"
   ]
  },
  {
   "cell_type": "code",
   "execution_count": 6,
   "metadata": {
    "collapsed": true
   },
   "outputs": [],
   "source": [
    "fly_names = ['fly_087', 'fly_089', 'fly_094', 'fly_097', 'fly_098', 'fly_099', 'fly_100', 'fly_101', 'fly_105']\n",
    "dataset_path = \"/oak/stanford/groups/trc/data/Brezovec/2P_Imaging/20190101_walking_dataset\""
   ]
  },
  {
   "cell_type": "code",
   "execution_count": 7,
   "metadata": {
    "collapsed": true
   },
   "outputs": [],
   "source": [
    "fictrac = []\n",
    "for fly in fly_names:\n",
    "    \n",
    "    fictrac_raw = brainsss.load_fictrac(os.path.join(dataset_path, fly, 'func_0', 'fictrac'))\n",
    "\n",
    "    # Smooth raw fictrac data\n",
    "    behavior = 'dRotLabZ'\n",
    "    fictrac_smoothed = scipy.signal.savgol_filter(np.asarray(fictrac_raw[behavior]),25,3)\n",
    "    fps=50\n",
    "    fictrac_smoothed = fictrac_smoothed * 180 / np.pi * fps # now in deg/sec\n",
    "    fictrac.append(fictrac_smoothed)"
   ]
  },
  {
   "cell_type": "code",
   "execution_count": 8,
   "metadata": {},
   "outputs": [
    {
     "name": "stdout",
     "output_type": "stream",
     "text": [
      "Trying to load timestamp data from hdf5 file.\n",
      "Success.\n"
     ]
    }
   ],
   "source": [
    "fictrac_timestamps = np.arange(0,30*60*1000,20)\n",
    "file = os.path.join(dataset_path, 'fly_087', 'func_0', 'imaging')\n",
    "neural_timestamps = brainsss.load_timestamps(file)"
   ]
  },
  {
   "cell_type": "code",
   "execution_count": 9,
   "metadata": {
    "collapsed": true
   },
   "outputs": [],
   "source": [
    "turn_thresh = 200\n",
    "\n",
    "peaks_all_fly = []\n",
    "peak_heights_all_fly = []\n",
    "for fly in range(9):\n",
    "    peaks = {'L':[],'R':[]}\n",
    "    heights = {'L':[],'R':[]}\n",
    "    for turn,scalar in zip(['L', 'R'],[1,-1]):\n",
    "        \n",
    "        found_peaks = scipy.signal.find_peaks(fictrac[fly]*scalar, height=turn_thresh)\n",
    "        pks = found_peaks[0]\n",
    "        pk_height = found_peaks[1]['peak_heights']\n",
    "        \n",
    "        ### remove peaks that are too close to beginning or end\n",
    "        # will do 20sec window\n",
    "        # here 20sec is 1000 tps\n",
    "        ind = np.where(pks>88000)[0]\n",
    "        pks = np.delete(pks,ind)\n",
    "        pk_height = np.delete(pk_height,ind)\n",
    "        \n",
    "        ind = np.where(pks<2000)[0]\n",
    "        pks = np.delete(pks,ind)\n",
    "        pk_height = np.delete(pk_height,ind)\n",
    "        \n",
    "        peaks[turn] = pks\n",
    "        heights[turn] = pk_height\n",
    "    peaks_all_fly.append(peaks)\n",
    "    peak_heights_all_fly.append(heights)"
   ]
  },
  {
   "cell_type": "code",
   "execution_count": 10,
   "metadata": {
    "collapsed": true
   },
   "outputs": [],
   "source": [
    "##################################################\n",
    "### VERSION WITH FIRST NEURAL POINT AFTER TURN ###\n",
    "##################################################\n",
    "\n",
    "neural_traces_all_fly = []\n",
    "for fly in range(9):\n",
    "    neural_traces = {'L77': [], 'R77': [], 'L327': [], 'R327': []}\n",
    "    for cluster in [77,327]:\n",
    "        z = original_z_depth[fly,cluster]\n",
    "        neural_timestamps_cluster = neural_timestamps[:,z]\n",
    "        for beh in ['L', 'R']:\n",
    "            peaks_in_ms = fictrac_timestamps[peaks_all_fly[fly][beh]]\n",
    "            for peak in peaks_in_ms:\n",
    "                #this will give the index of the first neural data after the peak\n",
    "                # 40 index will be the bin from 0 to 532ms after the peak\n",
    "                middle = np.searchsorted(neural_timestamps_cluster,peak) \n",
    "                neural_traces[F\"{beh}{cluster}\"].append(supercluster_signals_fly[fly,middle-40:middle+40,cluster])\n",
    "            neural_traces[F\"{beh}{cluster}\"] = np.asarray(neural_traces[F\"{beh}{cluster}\"])\n",
    "    neural_traces_all_fly.append(neural_traces)\n",
    "    \n",
    "neural_traces_all_fly_stack = {'L77': [], 'R77': [], 'L327': [], 'R327': []}\n",
    "for signal in ['L77','R77','L327','R327']:\n",
    "    for fly in range(9):\n",
    "        neural_traces_all_fly_stack[signal].extend(neural_traces_all_fly[fly][signal])\n",
    "    neural_traces_all_fly_stack[signal] = np.asarray(neural_traces_all_fly_stack[signal])"
   ]
  },
  {
   "cell_type": "code",
   "execution_count": 11,
   "metadata": {},
   "outputs": [
    {
     "data": {
      "text/plain": [
       "((1362, 80), (2424, 80))"
      ]
     },
     "execution_count": 11,
     "metadata": {},
     "output_type": "execute_result"
    }
   ],
   "source": [
    "diff_L = neural_traces_all_fly_stack['L77'] - neural_traces_all_fly_stack['L327']\n",
    "diff_R = neural_traces_all_fly_stack['R77'] - neural_traces_all_fly_stack['R327']\n",
    "diff_L.shape, diff_R.shape"
   ]
  },
  {
   "cell_type": "code",
   "execution_count": 12,
   "metadata": {},
   "outputs": [
    {
     "data": {
      "text/plain": [
       "<matplotlib.lines.Line2D at 0x7f4182800358>"
      ]
     },
     "execution_count": 12,
     "metadata": {},
     "output_type": "execute_result"
    },
    {
     "data": {
      "image/png": "[encoded data removed]",
      "text/plain": [
       "<Figure size 432x288 with 1 Axes>"
      ]
     },
     "metadata": {},
     "output_type": "display_data"
    }
   ],
   "source": [
    "plt.axhline(0,color='k')\n",
    "plt.plot(np.mean(diff_L,axis=0))\n",
    "plt.plot(np.mean(diff_R,axis=0))\n",
    "plt.axvline(13,color='k')\n",
    "plt.axvline(25,color='k')"
   ]
  },
  {
   "cell_type": "code",
   "execution_count": 68,
   "metadata": {
    "collapsed": true
   },
   "outputs": [],
   "source": [
    "diff_R = diff_R[:1362,:]"
   ]
  },
  {
   "cell_type": "code",
   "execution_count": 31,
   "metadata": {},
   "outputs": [
    {
     "data": {
      "text/plain": [
       "0.6402535657686212"
      ]
     },
     "execution_count": 31,
     "metadata": {},
     "output_type": "execute_result"
    }
   ],
   "source": [
    "2424/(2424+1362)"
   ]
  },
  {
   "cell_type": "code",
   "execution_count": 15,
   "metadata": {
    "collapsed": true
   },
   "outputs": [],
   "source": [
    "from sklearn.linear_model import LogisticRegression\n",
    "from sklearn.linear_model import LogisticRegressionCV"
   ]
  },
  {
   "cell_type": "code",
   "execution_count": 16,
   "metadata": {},
   "outputs": [
    {
     "data": {
      "text/plain": [
       "((2424, 80), (1362, 80))"
      ]
     },
     "execution_count": 16,
     "metadata": {},
     "output_type": "execute_result"
    }
   ],
   "source": [
    "diff_R.shape, diff_L.shape"
   ]
  },
  {
   "cell_type": "code",
   "execution_count": 19,
   "metadata": {},
   "outputs": [
    {
     "data": {
      "text/plain": [
       "(3786, 1)"
      ]
     },
     "execution_count": 19,
     "metadata": {},
     "output_type": "execute_result"
    }
   ],
   "source": [
    "X = np.concatenate((diff_L, diff_R),axis=0)\n",
    "X = np.mean(X[:,13:25],axis=1)\n",
    "X = X.reshape(-1, 1)\n",
    "X.shape"
   ]
  },
  {
   "cell_type": "code",
   "execution_count": 22,
   "metadata": {},
   "outputs": [
    {
     "data": {
      "text/plain": [
       "(array([   6.,    8.,   64.,  313., 1369., 1480.,  399.,  103.,   32.,\n",
       "          12.]),\n",
       " array([-0.5807234 , -0.46708743, -0.35345147, -0.2398155 , -0.12617953,\n",
       "        -0.01254357,  0.1010924 ,  0.21472837,  0.32836433,  0.4420003 ,\n",
       "         0.55563626]),\n",
       " <a list of 10 Patch objects>)"
      ]
     },
     "execution_count": 22,
     "metadata": {},
     "output_type": "execute_result"
    },
    {
     "data": {
      "image/png": "[encoded data removed]",
      "text/plain": [
       "<Figure size 432x288 with 1 Axes>"
      ]
     },
     "metadata": {},
     "output_type": "display_data"
    }
   ],
   "source": [
    "plt.hist(X)"
   ]
  },
  {
   "cell_type": "code",
   "execution_count": null,
   "metadata": {
    "collapsed": true
   },
   "outputs": [],
   "source": [
    "np.mean(X,axis=)"
   ]
  },
  {
   "cell_type": "code",
   "execution_count": 17,
   "metadata": {},
   "outputs": [
    {
     "name": "stdout",
     "output_type": "stream",
     "text": [
      "(3786, 80)\n",
      "(3786,)\n"
     ]
    },
    {
     "data": {
      "text/plain": [
       "0.7057580559957739"
      ]
     },
     "execution_count": 17,
     "metadata": {},
     "output_type": "execute_result"
    }
   ],
   "source": [
    "X = np.concatenate((diff_L, diff_R),axis=0)\n",
    "print(X.shape)\n",
    "\n",
    "y = np.hstack((np.zeros(diff_L.shape[0]),np.ones(diff_R.shape[0])))\n",
    "#np.random.shuffle(y)\n",
    "print(y.shape)\n",
    "\n",
    "clf = LogisticRegression(random_state=0).fit(X, y)\n",
    "clf.score(X, y)"
   ]
  },
  {
   "cell_type": "code",
   "execution_count": 25,
   "metadata": {},
   "outputs": [
    {
     "name": "stdout",
     "output_type": "stream",
     "text": [
      "(3786, 1)\n",
      "(3786,)\n"
     ]
    },
    {
     "data": {
      "text/plain": [
       "0.6402535657686212"
      ]
     },
     "execution_count": 25,
     "metadata": {},
     "output_type": "execute_result"
    }
   ],
   "source": [
    "X = np.concatenate((diff_L, diff_R),axis=0)\n",
    "X = np.mean(X[:,13:25],axis=1)\n",
    "X = X.reshape(-1, 1)*10\n",
    "print(X.shape)\n",
    "\n",
    "y = np.hstack((np.zeros(diff_L.shape[0]),np.ones(diff_R.shape[0])))\n",
    "print(y.shape)\n",
    "\n",
    "clf = LogisticRegression(random_state=0).fit(X, y)\n",
    "clf.score(X, y)"
   ]
  },
  {
   "cell_type": "code",
   "execution_count": 67,
   "metadata": {},
   "outputs": [
    {
     "name": "stdout",
     "output_type": "stream",
     "text": [
      "0.07355447550619576 5.8848345048431304e-06\n"
     ]
    }
   ],
   "source": [
    "r,p = scipy.stats.pearsonr(X[:,0],y)\n",
    "print(r,p)"
   ]
  },
  {
   "cell_type": "code",
   "execution_count": 26,
   "metadata": {
    "collapsed": true
   },
   "outputs": [],
   "source": [
    "l = np.mean(diff_L[:,13:25],axis=1)\n",
    "r = np.mean(diff_R[:,13:25],axis=1)"
   ]
  },
  {
   "cell_type": "code",
   "execution_count": 27,
   "metadata": {},
   "outputs": [
    {
     "data": {
      "text/plain": [
       "RanksumsResult(statistic=-5.016436387649741, pvalue=5.26386937488253e-07)"
      ]
     },
     "execution_count": 27,
     "metadata": {},
     "output_type": "execute_result"
    }
   ],
   "source": [
    "scipy.stats.ranksums(l,r)"
   ]
  },
  {
   "cell_type": "code",
   "execution_count": 28,
   "metadata": {},
   "outputs": [
    {
     "data": {
      "text/plain": [
       "Ttest_indResult(statistic=4.536936278872314, pvalue=5.884834504858544e-06)"
      ]
     },
     "execution_count": 28,
     "metadata": {},
     "output_type": "execute_result"
    }
   ],
   "source": [
    "scipy.stats.ttest_ind(r,l)"
   ]
  },
  {
   "cell_type": "code",
   "execution_count": 29,
   "metadata": {},
   "outputs": [
    {
     "data": {
      "text/plain": [
       "(1362,)"
      ]
     },
     "execution_count": 29,
     "metadata": {},
     "output_type": "execute_result"
    }
   ],
   "source": [
    "l.shape"
   ]
  },
  {
   "cell_type": "code",
   "execution_count": null,
   "metadata": {
    "collapsed": true
   },
   "outputs": [],
   "source": []
  }
 ],
 "metadata": {
  "kernelspec": {
   "display_name": "Python 3",
   "language": "python",
   "name": "python3"
  },
  "language_info": {
   "codemirror_mode": {
    "name": "ipython",
    "version": 3
   },
   "file_extension": ".py",
   "mimetype": "text/x-python",
   "name": "python",
   "nbconvert_exporter": "python",
   "pygments_lexer": "ipython3",
   "version": "3.6.1"
  }
 },
 "nbformat": 4,
 "nbformat_minor": 2
}
