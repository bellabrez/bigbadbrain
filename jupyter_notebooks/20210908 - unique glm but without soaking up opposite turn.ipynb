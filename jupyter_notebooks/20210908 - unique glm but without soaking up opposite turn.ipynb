{
 "cells": [
  {
   "cell_type": "code",
   "execution_count": 1,
   "metadata": {
    "collapsed": true
   },
   "outputs": [],
   "source": [
    "import sys\n",
    "sys.path.insert(0, '/home/users/brezovec/.local/lib/python3.6/site-packages/lib/python/')\n",
    "import ants\n",
    "import os\n",
    "import bigbadbrain as bbb\n",
    "import numpy as np\n",
    "import matplotlib.pyplot as plt\n",
    "import time\n",
    "import scipy\n",
    "from scipy.ndimage.filters import gaussian_filter\n",
    "from scipy.signal import savgol_filter\n",
    "from scipy.interpolate import interp1d\n",
    "\n",
    "from skimage.filters import threshold_triangle\n",
    "sys.path.insert(0, '/home/users/brezovec/.local/lib/python3.6/site-packages')\n",
    "import os\n",
    "import statsmodels.api as sm\n",
    "import cv2\n",
    "import matplotlib.patches as mpatches\n",
    "import psutil\n",
    "from mpl_toolkits.axes_grid1 import ImageGrid\n",
    "from matplotlib.colors import Normalize\n",
    "\n",
    "\n",
    "%matplotlib inline\n",
    "plt.rcParams.update({'font.size': 20})\n",
    "\n",
    "from sklearn.feature_extraction.image import grid_to_graph\n",
    "from mpl_toolkits.axes_grid1 import ImageGrid\n",
    "import json\n",
    "from matplotlib.ticker import FuncFormatter\n",
    "\n",
    "import nibabel as nib\n",
    "\n",
    "from sklearn.cluster import AgglomerativeClustering\n",
    "from scipy.cluster.hierarchy import dendrogram\n",
    "import itertools\n",
    "import random\n",
    "from scipy.cluster import hierarchy\n",
    "import matplotlib as mpl\n",
    "from matplotlib.pyplot import cm\n",
    "\n",
    "from scipy.interpolate import UnivariateSpline\n",
    "from sklearn.linear_model import LinearRegression\n",
    "import matplotlib.patches as patches\n",
    "\n",
    "from sklearn.linear_model import RidgeCV\n",
    "from sklearn.linear_model import LassoCV\n",
    "\n",
    "from scipy.fftpack import fft,fftshift,ifft\n",
    "\n",
    "import pickle"
   ]
  },
  {
   "cell_type": "code",
   "execution_count": 2,
   "metadata": {},
   "outputs": [
    {
     "name": "stdout",
     "output_type": "stream",
     "text": [
      "\n",
      "~~ load_timestamps ~~\n",
      "Trying to load timestamp data from hdf5 file.\n",
      "Success.\n",
      "load_timestamps done. Duration: 1.01 sec\n",
      "\n",
      "~~ load_fictrac ~~\n",
      "load_fictrac done. Duration: 5.43 sec\n",
      "\n",
      "~~ load_timestamps ~~\n",
      "Trying to load timestamp data from hdf5 file.\n",
      "Success.\n",
      "load_timestamps done. Duration: 51.56 ms\n",
      "\n",
      "~~ load_fictrac ~~\n",
      "load_fictrac done. Duration: 5.38 sec\n",
      "\n",
      "~~ load_timestamps ~~\n",
      "Trying to load timestamp data from hdf5 file.\n",
      "Success.\n",
      "load_timestamps done. Duration: 38.01 ms\n",
      "\n",
      "~~ load_fictrac ~~\n",
      "load_fictrac done. Duration: 5.32 sec\n",
      "\n",
      "~~ load_timestamps ~~\n",
      "Trying to load timestamp data from hdf5 file.\n",
      "Success.\n",
      "load_timestamps done. Duration: 67.69 ms\n",
      "\n",
      "~~ load_fictrac ~~\n",
      "load_fictrac done. Duration: 4.35 sec\n",
      "\n",
      "~~ load_timestamps ~~\n",
      "Trying to load timestamp data from hdf5 file.\n",
      "Success.\n",
      "load_timestamps done. Duration: 68.11 ms\n",
      "\n",
      "~~ load_fictrac ~~\n",
      "load_fictrac done. Duration: 9.48 sec\n",
      "\n",
      "~~ load_timestamps ~~\n",
      "Trying to load timestamp data from hdf5 file.\n",
      "Success.\n",
      "load_timestamps done. Duration: 71.58 ms\n",
      "\n",
      "~~ load_fictrac ~~\n",
      "load_fictrac done. Duration: 7.68 sec\n",
      "\n",
      "~~ load_timestamps ~~\n",
      "Trying to load timestamp data from hdf5 file.\n",
      "Success.\n",
      "load_timestamps done. Duration: 67.11 ms\n",
      "\n",
      "~~ load_fictrac ~~\n",
      "load_fictrac done. Duration: 5.04 sec\n",
      "\n",
      "~~ load_timestamps ~~\n",
      "Trying to load timestamp data from hdf5 file.\n",
      "Success.\n",
      "load_timestamps done. Duration: 68.55 ms\n",
      "\n",
      "~~ load_fictrac ~~\n",
      "load_fictrac done. Duration: 5.66 sec\n",
      "\n",
      "~~ load_timestamps ~~\n",
      "Trying to load timestamp data from hdf5 file.\n",
      "Success.\n",
      "load_timestamps done. Duration: 74.24 ms\n",
      "\n",
      "~~ load_fictrac ~~\n",
      "load_fictrac done. Duration: 5.58 sec\n"
     ]
    }
   ],
   "source": [
    "dataset_path = \"/oak/stanford/groups/trc/data/Brezovec/2P_Imaging/20190101_walking_dataset\"\n",
    "fly_names = ['fly_087', 'fly_089', 'fly_094', 'fly_097', 'fly_098', 'fly_099', 'fly_100', 'fly_101', 'fly_105']\n",
    "expt_len = 1000*30*60\n",
    "resolution = 10\n",
    "high_res_timepoints = np.arange(0,expt_len,resolution) #0 to last time at subsample res\n",
    "n_clusters = 2000\n",
    "\n",
    "class Fictrac:\n",
    "    def __init__ (self, fly_dir, timestamps):\n",
    "        self.fictrac_raw = bbb.load_fictrac(os.path.join(fly_dir, 'fictrac'))\n",
    "        self.timestamps = timestamps\n",
    "    def make_interp_object(self, behavior):\n",
    "        # Create camera timepoints\n",
    "        fps=50\n",
    "        camera_rate = 1/fps * 1000 # camera frame rate in ms\n",
    "        expt_len = 1000*30*60\n",
    "        x_original = np.arange(0,expt_len,camera_rate)\n",
    "\n",
    "        # Smooth raw fictrac data\n",
    "        fictrac_smoothed = scipy.signal.savgol_filter(np.asarray(self.fictrac_raw[behavior]),25,3)\n",
    "\n",
    "        # Create interp object with camera timepoints\n",
    "        fictrac_interp_object = interp1d(x_original, fictrac_smoothed, bounds_error = False)\n",
    "        return fictrac_interp_object\n",
    "\n",
    "    def pull_from_interp_object(self, interp_object, timepoints):\n",
    "        new_interp = interp_object(timepoints)\n",
    "        np.nan_to_num(new_interp, copy=False);\n",
    "        return new_interp\n",
    "\n",
    "    def interp_fictrac(self):\n",
    "        behaviors = ['dRotLabY', 'dRotLabZ']; shorts = ['Y', 'Z']\n",
    "        self.fictrac = {}\n",
    "\n",
    "        ### Y and Z ###\n",
    "        for behavior, short in zip(behaviors, shorts):\n",
    "            interp_object = self.make_interp_object(behavior)\n",
    "            self.fictrac[short + 'i'] = interp_object\n",
    "\n",
    "            ### Interpolate to neural data\n",
    "            self.fictrac[short] = []\n",
    "            self.fictrac[short + '_pos'] = []\n",
    "            self.fictrac[short + '_neg'] = []\n",
    "            for z in range(49):\n",
    "                ### Velocity ###\n",
    "                low_res_behavior = self.pull_from_interp_object(interp_object, self.timestamps[:,z])\n",
    "                self.fictrac[short].append(low_res_behavior/np.std(low_res_behavior))\n",
    "\n",
    "                ### Clipped Velocities ###\n",
    "                self.fictrac[short + '_pos'].append(np.clip(self.fictrac[short][-1], a_min=0, a_max=None))\n",
    "                self.fictrac[short + '_neg'].append(np.clip(self.fictrac[short][-1], a_min=None, a_max=0)*-1)\n",
    "\n",
    "        ### Walking ###\n",
    "        self.fictrac['walking'] = []\n",
    "        for z in range(49):    \n",
    "            YZ = np.sqrt(np.power(self.fictrac['Y'][z],2), np.power(self.fictrac['Z'][z],2))        \n",
    "            self.fictrac['walking'].append(np.zeros(3384))\n",
    "            self.fictrac['walking'][-1][np.where(YZ>.2)] = 1\n",
    "\n",
    "class Fly:\n",
    "    def __init__ (self, fly_name, fly_idx):\n",
    "        self.dir = os.path.join(dataset_path, fly_name, 'func_0')\n",
    "        self.fly_idx = fly_idx\n",
    "        self.fly_name = fly_name\n",
    "        self.maps = {}\n",
    "    def load_timestamps (self):\n",
    "        self.timestamps = bbb.load_timestamps(os.path.join(self.dir, 'imaging'))\n",
    "    def load_fictrac (self):\n",
    "        self.fictrac = Fictrac(self.dir, self.timestamps)\n",
    "    def load_brain_slice (self):\n",
    "        self.brain = brain[:,:,:,self.fly_idx]\n",
    "    def load_anatomy (self):\n",
    "        to_load = os.path.join(dataset_path, self.fly_name, 'warp', 'anat-to-meanbrain.nii')\n",
    "        self.anatomy = np.array(nib.load(to_load).get_data(), copy=True)\n",
    "    def load_z_depth_correction (self):\n",
    "        to_load = os.path.join(dataset_path, self.fly_name, 'warp', '20201220_warped_z_depth.nii')\n",
    "        self.z_correction = np.array(nib.load(to_load).get_data(), copy=True)\n",
    "    def get_cluster_averages (self, cluster_model_labels, n_clusters):\n",
    "        neural_data = self.brain.reshape(-1, 3384)\n",
    "        signals = []\n",
    "        self.cluster_indicies = []\n",
    "        for cluster_num in range(n_clusters):\n",
    "            cluster_indicies = np.where(cluster_model_labels==cluster_num)[0]\n",
    "            mean_signal = np.mean(neural_data[cluster_indicies,:], axis=0)\n",
    "            signals.append(mean_signal)\n",
    "            self.cluster_indicies.append(cluster_indicies) # store for later\n",
    "        self.cluster_signals=np.asarray(signals)\n",
    "    def get_cluster_id (self, x, y):\n",
    "        ax_vec = x*128 + y\n",
    "        for i in range(n_clusters):\n",
    "            if ax_vec in self.cluster_indicies[i]:\n",
    "                cluster_id = i\n",
    "                break\n",
    "        return cluster_id\n",
    "\n",
    "flies = {}\n",
    "for i, fly in enumerate(fly_names):\n",
    "    flies[fly] = Fly(fly_name=fly, fly_idx=i)\n",
    "    flies[fly].load_timestamps()\n",
    "    flies[fly].load_fictrac()\n",
    "    flies[fly].fictrac.interp_fictrac()\n",
    "    flies[fly].load_z_depth_correction()"
   ]
  },
  {
   "cell_type": "code",
   "execution_count": 3,
   "metadata": {},
   "outputs": [
    {
     "data": {
      "text/plain": [
       "1"
      ]
     },
     "execution_count": 3,
     "metadata": {},
     "output_type": "execute_result"
    }
   ],
   "source": [
    "1"
   ]
  },
  {
   "cell_type": "code",
   "execution_count": 4,
   "metadata": {},
   "outputs": [
    {
     "name": "stdout",
     "output_type": "stream",
     "text": [
      "0\n",
      "100\n",
      "200\n",
      "300\n",
      "400\n",
      "500\n",
      "600\n",
      "700\n",
      "800\n",
      "900\n",
      "1000\n",
      "1100\n",
      "1200\n",
      "1300\n",
      "1400\n",
      "1500\n",
      "1600\n",
      "1700\n",
      "1800\n",
      "1900\n"
     ]
    }
   ],
   "source": [
    "z = 18\n",
    "\n",
    "labels_file = '/oak/stanford/groups/trc/data/Brezovec/2P_Imaging/20201129_super_slices/cluster_labels.npy'\n",
    "cluster_model_labels = np.load(labels_file) #z,t\n",
    "cluster_model_labels = cluster_model_labels[z,:]\n",
    "\n",
    "brain_file = \"/oak/stanford/groups/trc/data/Brezovec/2P_Imaging/20201129_super_slices/superslice_{}.nii\".format(z) #<---------- !!!\n",
    "brain = np.array(nib.load(brain_file).get_data(), copy=True)\n",
    "fly_idx_delete = 3 #(fly_095)\n",
    "brain = np.delete(brain, fly_idx_delete, axis=-1) #### DELETING FLY_095 ####\n",
    "\n",
    "for i, fly in enumerate(fly_names):\n",
    "    flies[fly].load_brain_slice()\n",
    "    flies[fly].get_cluster_averages(cluster_model_labels, n_clusters)\n",
    "\n",
    "scores_all = []\n",
    "\n",
    "scores_walking = []\n",
    "scores_ypos = []\n",
    "scores_zpos = []\n",
    "scores_zneg = []\n",
    "\n",
    "scores_walking_unique = []\n",
    "scores_ypos_unique = []\n",
    "scores_zpos_unique = []\n",
    "scores_zneg_unique = []\n",
    "\n",
    "for cluster_num in range(n_clusters):\n",
    "    if cluster_num%100 == 0:\n",
    "        print(cluster_num)\n",
    "        #printlog(str(cluster_num))\n",
    "    ###############################################################\n",
    "    ### Build Y vector for a single supervoxel (with all flies) ###\n",
    "    ###############################################################\n",
    "    all_fly_neural = []\n",
    "    for fly in fly_names:\n",
    "        signal = flies[fly].cluster_signals[cluster_num,:]\n",
    "        all_fly_neural.extend(signal)\n",
    "        Y = np.asarray(all_fly_neural)\n",
    "\n",
    "    ###########################################\n",
    "    ### Build the X matrix for this cluster ###\n",
    "    ###########################################\n",
    "    # For each fly, this cluster could have originally come from a different z-depth\n",
    "    # Get correct original z-depth\n",
    "    ypos = []\n",
    "    zpos = []\n",
    "    zneg = []\n",
    "    walking = []\n",
    "    for i, fly in enumerate(fly_names):\n",
    "        cluster_indicies = flies[fly].cluster_indicies[cluster_num]\n",
    "        z_map = flies[fly].z_correction[:,:,z].ravel()\n",
    "        original_z = int(np.median(z_map[cluster_indicies]))\n",
    "        ypos.extend(flies[fly].fictrac.fictrac['Y_pos'][original_z])\n",
    "        zpos.extend(flies[fly].fictrac.fictrac['Z_pos'][original_z])\n",
    "        zneg.extend(flies[fly].fictrac.fictrac['Z_neg'][original_z])\n",
    "        walking.extend(flies[fly].fictrac.fictrac['walking'][original_z])\n",
    "\n",
    "    ### ALL ###\n",
    "    #X = np.stack((ypos, zpos, zneg, walking)).T\n",
    "    X = np.stack((zpos, walking)).T\n",
    "    model = RidgeCV().fit(X,Y)\n",
    "    scores_all.append(np.sqrt(model.score(X,Y)))\n",
    "\n",
    "#     ### Singles ###\n",
    "#     X = np.reshape(walking, (-1, 1))\n",
    "#     model = RidgeCV().fit(X,Y)\n",
    "#     scores_walking.append(np.sqrt(model.score(X,Y)))\n",
    "\n",
    "#     X = np.reshape(ypos, (-1, 1))\n",
    "#     model = RidgeCV().fit(X,Y)\n",
    "#     scores_ypos.append(np.sqrt(model.score(X,Y)))\n",
    "\n",
    "#     X = np.reshape(zpos, (-1, 1))\n",
    "#     model = RidgeCV().fit(X,Y)\n",
    "#     scores_zpos.append(np.sqrt(model.score(X,Y)))\n",
    "\n",
    "    X = np.reshape(walking, (-1, 1))\n",
    "    model = RidgeCV().fit(X,Y)\n",
    "    scores_zneg.append(np.sqrt(model.score(X,Y)))\n",
    "\n",
    "#     X = np.stack((ypos, walking)).T\n",
    "#     model = RidgeCV().fit(X,Y)\n",
    "#     scores_walking_unique.append(np.sqrt(model.score(X,Y)))\n",
    "\n",
    "#     ### LOO ###\n",
    "#     X = np.stack((ypos, zpos, zneg)).T\n",
    "#     model = RidgeCV().fit(X,Y)\n",
    "#     scores_walking_unique.append(np.sqrt(model.score(X,Y)))\n",
    "\n",
    "#     X = np.stack((zpos, zneg, walking)).T\n",
    "#     model = RidgeCV().fit(X,Y)\n",
    "#     scores_ypos_unique.append(np.sqrt(model.score(X,Y)))\n",
    "\n",
    "#     X = np.stack((ypos, zneg, walking)).T\n",
    "#     model = RidgeCV().fit(X,Y)\n",
    "#     scores_zpos_unique.append(np.sqrt(model.score(X,Y)))\n",
    "\n",
    "#     X = np.stack((ypos, zpos, walking)).T\n",
    "#     model = RidgeCV().fit(X,Y)\n",
    "#     scores_zneg_unique.append(np.sqrt(model.score(X,Y)))"
   ]
  },
  {
   "cell_type": "code",
   "execution_count": 5,
   "metadata": {
    "collapsed": true
   },
   "outputs": [],
   "source": [
    "z=0\n",
    "colored_by_betas = np.zeros(256*128)\n",
    "for cluster_num in range(n_clusters):\n",
    "    cluster_indicies = np.where(cluster_model_labels[:]==cluster_num)[0]\n",
    "    colored_by_betas[cluster_indicies] = scores_all[cluster_num] - scores_zneg[cluster_num]\n",
    "    if len(cluster_indicies) > 100:\n",
    "        colored_by_betas[cluster_indicies] = np.nan\n",
    "    if colored_by_betas[cluster_indicies][0] == 1:\n",
    "        colored_by_betas[cluster_indicies] = np.nan\n",
    "colored_by_betas = colored_by_betas.reshape(256,128)\n",
    "to_plot = colored_by_betas"
   ]
  },
  {
   "cell_type": "code",
   "execution_count": 9,
   "metadata": {},
   "outputs": [
    {
     "data": {
      "text/plain": [
       "<matplotlib.image.AxesImage at 0x7fb233998ac8>"
      ]
     },
     "execution_count": 9,
     "metadata": {},
     "output_type": "execute_result"
    },
    {
     "data": {
      "image/png": "[encoded data removed]",
      "text/plain": [
       "<Figure size 432x288 with 1 Axes>"
      ]
     },
     "metadata": {},
     "output_type": "display_data"
    }
   ],
   "source": [
    "plt.imshow(to_plot.T,vmin=-.01,vmax=.01)\n",
    "# no signal in SMP! was not opposite turn soaking up"
   ]
  },
  {
   "cell_type": "code",
   "execution_count": 6,
   "metadata": {
    "collapsed": true
   },
   "outputs": [],
   "source": [
    "z=0\n",
    "colored_by_betas = np.zeros(256*128)\n",
    "for cluster_num in range(n_clusters):\n",
    "    cluster_indicies = np.where(cluster_model_labels[:]==cluster_num)[0]\n",
    "    colored_by_betas[cluster_indicies] = scores_all[cluster_num] - scores_zneg[cluster_num]\n",
    "    if len(cluster_indicies) > 100:\n",
    "        colored_by_betas[cluster_indicies] = np.nan\n",
    "    if colored_by_betas[cluster_indicies][0] == 1:\n",
    "        colored_by_betas[cluster_indicies] = np.nan\n",
    "colored_by_betas = colored_by_betas.reshape(256,128)\n",
    "to_plot = colored_by_betas"
   ]
  },
  {
   "cell_type": "code",
   "execution_count": 7,
   "metadata": {},
   "outputs": [
    {
     "data": {
      "text/plain": [
       "<matplotlib.image.AxesImage at 0x7f8d1d0297f0>"
      ]
     },
     "execution_count": 7,
     "metadata": {},
     "output_type": "execute_result"
    },
    {
     "data": {
      "image/png": "[encoded data removed]",
      "text/plain": [
       "<Figure size 432x288 with 1 Axes>"
      ]
     },
     "metadata": {},
     "output_type": "display_data"
    }
   ],
   "source": [
    "plt.imshow(to_plot.T)"
   ]
  },
  {
   "cell_type": "code",
   "execution_count": 9,
   "metadata": {},
   "outputs": [
    {
     "data": {
      "text/plain": [
       "(32768,)"
      ]
     },
     "execution_count": 9,
     "metadata": {},
     "output_type": "execute_result"
    }
   ],
   "source": [
    "cluster_model_labels.shape"
   ]
  },
  {
   "cell_type": "code",
   "execution_count": null,
   "metadata": {
    "collapsed": true
   },
   "outputs": [],
   "source": []
  }
 ],
 "metadata": {
  "kernelspec": {
   "display_name": "Python 3",
   "language": "python",
   "name": "python3"
  },
  "language_info": {
   "codemirror_mode": {
    "name": "ipython",
    "version": 3
   },
   "file_extension": ".py",
   "mimetype": "text/x-python",
   "name": "python",
   "nbconvert_exporter": "python",
   "pygments_lexer": "ipython3",
   "version": "3.6.1"
  }
 },
 "nbformat": 4,
 "nbformat_minor": 2
}
