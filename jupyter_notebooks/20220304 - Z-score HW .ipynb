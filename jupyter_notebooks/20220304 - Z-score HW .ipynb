{
 "cells": [
  {
   "cell_type": "markdown",
   "metadata": {},
   "source": [
    "##### HW: Write Z-score that steps vol by vol through a large brain\n",
    "##### Stepping through a brain will allow processing of huge brains with low memory"
   ]
  },
  {
   "cell_type": "code",
   "execution_count": null,
   "metadata": {
    "collapsed": true
   },
   "outputs": [],
   "source": [
    "# first os.path.join your directory and file"
   ]
  },
  {
   "cell_type": "code",
   "execution_count": 1,
   "metadata": {
    "collapsed": true
   },
   "outputs": [],
   "source": [
    "##### Z-scoring requires knowing the mean and std of the brain\n",
    "##### So first calculate these two things"
   ]
  },
  {
   "cell_type": "code",
   "execution_count": null,
   "metadata": {
    "collapsed": true
   },
   "outputs": [],
   "source": [
    "# the brain will be in .h5, so this is how you can load\n",
    "# you should understand each line here\n",
    "# Strong hint example for making the mean:\n",
    "with h5py.File(filepath, 'r') as hf:\n",
    "    data = hf['data'] # this doesn't actually LOAD the data - it is just a proxy\n",
    "    dims = np.shape(data)\n",
    "    meanbrain = np.zeros(dims[:3])\n",
    "    for i in tqdm(range(dims[-1])):\n",
    "        meanbrain += data[:,:,:,i]"
   ]
  },
  {
   "cell_type": "code",
   "execution_count": null,
   "metadata": {
    "collapsed": true
   },
   "outputs": [],
   "source": [
    "### Here is some hint for calculating std\n",
    "# we can loop over and sum as shown to calculate std (see general formula for std)\n",
    "total = 0\n",
    "for i in range(dims[-1]):\n",
    "    s = (data_ch2[:,:,:,i] - meanbrain)**2\n",
    "    total = s + total\n",
    "final_std = np.sqrt(total/len(data_ch2[-1]))"
   ]
  },
  {
   "cell_type": "code",
   "execution_count": null,
   "metadata": {
    "collapsed": true
   },
   "outputs": [],
   "source": [
    "### Now that you have mean and std, you can step through each vol and calculate its zscore\n",
    "### hint from ashley, needs some things changed\n",
    "### Instead of resizing hf file, first make an empty hf of the appropriate size\n",
    "for i in range(dims[-1]):\n",
    "    each_zscore = (data_ch2[:,:,:,i] - meanbrain)/final_std\n",
    "\n",
    "    #save zscore\n",
    "    # Increase hdf5 size by one brain volume\n",
    "    current_num_vol = hf['zscore'].shape[-1] # this is the last axis, which is time\n",
    "    new_num_vol = current_num_vol + 1 # will want one more volume\n",
    "    hf['zscore'].resize(new_num_vol,axis=3) # increase size by one volume\n",
    "\n",
    "    # Append to hdf5 file\n",
    "    hf['zscore'][...,-1] = each_zscore"
   ]
  },
  {
   "cell_type": "code",
   "execution_count": null,
   "metadata": {
    "collapsed": true
   },
   "outputs": [],
   "source": [
    "# this is how to make an empty h5 file\n",
    "with h5py.File(savefile, 'w') as f:\n",
    "    #chuncks true is important for good read/write speed\n",
    "    dset = f.create_dataset('data', brain_dims, dtype='float32', chunks=True) "
   ]
  }
 ],
 "metadata": {
  "kernelspec": {
   "display_name": "Python 3",
   "language": "python",
   "name": "python3"
  },
  "language_info": {
   "codemirror_mode": {
    "name": "ipython",
    "version": 3
   },
   "file_extension": ".py",
   "mimetype": "text/x-python",
   "name": "python",
   "nbconvert_exporter": "python",
   "pygments_lexer": "ipython3",
   "version": "3.6.1"
  }
 },
 "nbformat": 4,
 "nbformat_minor": 2
}
