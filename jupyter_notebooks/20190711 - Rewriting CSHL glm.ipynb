{
 "cells": [
  {
   "cell_type": "code",
   "execution_count": 1,
   "metadata": {
    "collapsed": true
   },
   "outputs": [],
   "source": [
    "import numpy as np\n",
    "from time import time\n",
    "import os\n",
    "import sys\n",
    "import scipy\n",
    "import matplotlib.pyplot as plt\n",
    "from scipy.interpolate import interp1d\n",
    "import pandas as pd\n",
    "import psutil\n",
    "sys.path.insert(0, '/home/users/brezovec/.local/lib/python3.6/site-packages/lib/python/')\n",
    "import ants\n",
    "import bigbadbrain as bbb\n",
    "from scipy.linalg import toeplitz\n",
    "import scipy.linalg as sl\n",
    "from scipy.signal import convolve2d\n",
    "from scipy.signal import convolve\n",
    "from sklearn.linear_model import LassoLarsIC\n",
    "from tqdm import tqdm"
   ]
  },
  {
   "cell_type": "markdown",
   "metadata": {},
   "source": [
    "##### Load Data"
   ]
  },
  {
   "cell_type": "code",
   "execution_count": 2,
   "metadata": {
    "collapsed": true
   },
   "outputs": [],
   "source": [
    "directory = '/oak/stanford/groups/trc/data/Brezovec/2P_Imaging/20190101_walking_dataset/fly_28/func_0'"
   ]
  },
  {
   "cell_type": "code",
   "execution_count": 3,
   "metadata": {},
   "outputs": [
    {
     "name": "stdout",
     "output_type": "stream",
     "text": [
      "\n",
      "~~ load_numpy_brain ~~\n",
      "load_numpy_brain done. Duration: 22.08 sec\n"
     ]
    }
   ],
   "source": [
    "brain_path = os.path.join(directory, 'brain_zscored_green.nii')\n",
    "brain = bbb.load_numpy_brain(brain_path)"
   ]
  },
  {
   "cell_type": "code",
   "execution_count": 4,
   "metadata": {},
   "outputs": [
    {
     "name": "stdout",
     "output_type": "stream",
     "text": [
      "\n",
      "~~ load_timestamps ~~\n",
      "Trying to load timestamp data from hdf5 file.\n",
      "Success.\n",
      "load_timestamps done. Duration: 73.66 ms\n"
     ]
    }
   ],
   "source": [
    "timestamps = bbb.load_timestamps(os.path.join(directory, 'imaging'))"
   ]
  },
  {
   "cell_type": "code",
   "execution_count": 5,
   "metadata": {},
   "outputs": [
    {
     "name": "stdout",
     "output_type": "stream",
     "text": [
      "loading photodiode data... done\n",
      "loading visual stimuli data... done\n",
      "Successfully parsed all stimuli from photodiode output.\n"
     ]
    }
   ],
   "source": [
    "unique_stimuli = bbb.get_stimuli(os.path.join(directory,'visual'))"
   ]
  },
  {
   "cell_type": "markdown",
   "metadata": {},
   "source": [
    "##### Interpolate data"
   ]
  },
  {
   "cell_type": "code",
   "execution_count": 6,
   "metadata": {
    "collapsed": true
   },
   "outputs": [],
   "source": [
    "resolution = 100 #desired resolution in ms\n",
    "expt_len = 1000*30*60\n",
    "z = 17\n",
    "x = 2\n",
    "y = 39"
   ]
  },
  {
   "cell_type": "code",
   "execution_count": 7,
   "metadata": {
    "collapsed": true
   },
   "outputs": [],
   "source": [
    "def interp_data(brain, resolution, z, expt_len):\n",
    "    #resolution is in ms\n",
    "    interp = interp1d(timestamps[:,z], brain[:,:,z,:], fill_value='extrapolate')\n",
    "    xnew = np.arange(0,expt_len,resolution) #0 to last time at subsample res\n",
    "    y = interp(xnew)\n",
    "    return xnew, y"
   ]
  },
  {
   "cell_type": "code",
   "execution_count": 8,
   "metadata": {
    "collapsed": true
   },
   "outputs": [],
   "source": [
    "timestamps_interp, brain_interp = interp_data(brain,resolution,z,expt_len)"
   ]
  },
  {
   "cell_type": "markdown",
   "metadata": {},
   "source": [
    "###### Calculate canonical response"
   ]
  },
  {
   "cell_type": "code",
   "execution_count": 9,
   "metadata": {
    "collapsed": true
   },
   "outputs": [],
   "source": [
    "# The goal\n",
    "# First need a vector of 0s, with 1s where onset of stimuli\n",
    "# Interp brain data to 100ms time points - do same interp on stimuli timing\n",
    "# Then it is easy!\n",
    "# Timestamps and stim times are all in ms and correctly aligned. Easy!!!\n",
    "# Then, with 01 vector, make into toeplitz to calculate canonical response."
   ]
  },
  {
   "cell_type": "code",
   "execution_count": 10,
   "metadata": {
    "collapsed": true
   },
   "outputs": [],
   "source": [
    "def make_01_vector(stimtimes, resolution, expt_len):\n",
    "    stimtimes01 = np.zeros(int(expt_len/resolution))\n",
    "    stim_ints = [int(i/resolution) for i in stimtimes]\n",
    "    stimtimes01[stim_ints] = 1\n",
    "    return stimtimes01"
   ]
  },
  {
   "cell_type": "code",
   "execution_count": 11,
   "metadata": {
    "collapsed": true
   },
   "outputs": [],
   "source": [
    "stimtimes01 = make_01_vector(unique_stimuli[2]['times'], resolution, expt_len)"
   ]
  },
  {
   "cell_type": "code",
   "execution_count": 12,
   "metadata": {
    "collapsed": true
   },
   "outputs": [],
   "source": [
    "# Form Toeplitz\n",
    "beta_len = 30 #in resolution units\n",
    "num_voxel_to_avg = 9\n",
    "X = toeplitz(stimtimes01,np.zeros(beta_len))\n",
    "X = np.tile(X,(num_voxel_to_avg,1))"
   ]
  },
  {
   "cell_type": "code",
   "execution_count": 13,
   "metadata": {
    "collapsed": true
   },
   "outputs": [],
   "source": [
    "# Create response vector\n",
    "Y=[]\n",
    "for w in range(x,x+3):\n",
    "    for h in range(y,y+3):\n",
    "        Y.append(brain_interp[w,h,:])\n",
    "Y = np.reshape(Y,(np.size(Y)))\n",
    "\n",
    "# Solve linear algebra\n",
    "results = sl.lstsq(X, Y)\n",
    "canonical_resp = results[0]"
   ]
  },
  {
   "cell_type": "code",
   "execution_count": 14,
   "metadata": {},
   "outputs": [
    {
     "data": {
      "image/png": "[encoded data removed]",
      "text/plain": [
       "<Figure size 432x288 with 1 Axes>"
      ]
     },
     "metadata": {},
     "output_type": "display_data"
    }
   ],
   "source": [
    "#1 sec on, 2sec off\n",
    "plt.plot(canonical_resp)\n",
    "plt.show()"
   ]
  },
  {
   "cell_type": "markdown",
   "metadata": {},
   "source": [
    "###### Method 1 - Calculate direction betas all in one matrix"
   ]
  },
  {
   "cell_type": "code",
   "execution_count": 145,
   "metadata": {
    "collapsed": true
   },
   "outputs": [],
   "source": [
    "stims01 = []\n",
    "for i in range(len(unique_stimuli)):\n",
    "    out = make_01_vector(unique_stimuli[i]['times'], resolution, expt_len)\n",
    "    stims01.append(out)\n",
    "stims01 = np.asarray(stims01).T"
   ]
  },
  {
   "cell_type": "code",
   "execution_count": 146,
   "metadata": {
    "collapsed": true
   },
   "outputs": [],
   "source": [
    "#convolve\n",
    "resp2d = np.reshape(canonical_resp,(beta_len,1))\n",
    "X2 = convolve2d(stims01,resp2d)\n",
    "X2 = X2[:len(stimtimes01),:]"
   ]
  },
  {
   "cell_type": "code",
   "execution_count": 148,
   "metadata": {},
   "outputs": [
    {
     "name": "stderr",
     "output_type": "stream",
     "text": [
      "100%|██████████| 128/128 [00:55<00:00,  2.37it/s]\n"
     ]
    }
   ],
   "source": [
    "betas = []\n",
    "scores = []\n",
    "\n",
    "for w in tqdm(range(np.shape(brain_interp)[0])):\n",
    "    for h in range(np.shape(brain_interp)[1]):\n",
    "        Y = brain_interp[w,h,:]\n",
    "        model = LassoLarsIC(criterion='bic')\n",
    "        model.fit(X2, Y)\n",
    "        betas.append(model.coef_)\n",
    "        scores.append(model.score(X2,Y))\n",
    "        \n",
    "scores = np.reshape(scores, (128,80)).T\n",
    "betas = np.reshape(betas, (128,80,4))\n",
    "betas = np.swapaxes(betas,0,1)"
   ]
  },
  {
   "cell_type": "code",
   "execution_count": 149,
   "metadata": {},
   "outputs": [
    {
     "data": {
      "image/png": "[encoded data removed]",
      "text/plain": [
       "<Figure size 432x288 with 1 Axes>"
      ]
     },
     "metadata": {},
     "output_type": "display_data"
    }
   ],
   "source": [
    "plt.imshow(scores,vmax=.01)\n",
    "plt.show()"
   ]
  },
  {
   "cell_type": "code",
   "execution_count": 167,
   "metadata": {},
   "outputs": [
    {
     "data": {
      "image/png": "[encoded data removed]",
      "text/plain": [
       "<Figure size 432x288 with 1 Axes>"
      ]
     },
     "metadata": {},
     "output_type": "display_data"
    }
   ],
   "source": [
    "plt.imshow(betas[:,:,1])\n",
    "plt.show()"
   ]
  },
  {
   "cell_type": "markdown",
   "metadata": {},
   "source": [
    "##### Method 2 - Calculate direction betas individually"
   ]
  },
  {
   "cell_type": "code",
   "execution_count": 15,
   "metadata": {},
   "outputs": [
    {
     "name": "stderr",
     "output_type": "stream",
     "text": [
      "100%|██████████| 51/51 [39:44<00:00, 52.26s/it]\n",
      "100%|██████████| 51/51 [38:40<00:00, 46.13s/it]\n",
      "100%|██████████| 51/51 [40:23<00:00, 47.12s/it]\n",
      "100%|██████████| 51/51 [39:56<00:00, 47.02s/it]\n"
     ]
    }
   ],
   "source": [
    "# Alternative method - fit separately on each direction\n",
    "betas = []\n",
    "scores = []\n",
    "\n",
    "for i in range(4):\n",
    "    stim01 = make_01_vector(unique_stimuli[i]['times'], resolution, expt_len)\n",
    "    X = np.reshape(convolve(stim01, canonical_resp), (-1,1))\n",
    "    X = X[:len(stim01),:]\n",
    "    for z in tqdm(range(np.shape(brain)[2])):\n",
    "        timestamps_interp, brain_interp = interp_data(brain,resolution,z,expt_len)\n",
    "        for w in range(np.shape(brain)[0]):\n",
    "            for h in range(np.shape(brain)[1]):\n",
    "                Y = brain_interp[w,h,:]\n",
    "                model = LassoLarsIC(criterion='bic')\n",
    "                model.fit(X, Y)\n",
    "                betas.append(model.coef_)\n",
    "                scores.append(model.score(X,Y))"
   ]
  },
  {
   "cell_type": "code",
   "execution_count": 16,
   "metadata": {
    "collapsed": true
   },
   "outputs": [],
   "source": [
    "scores2 = np.reshape(scores, (4,51,129,80))"
   ]
  },
  {
   "cell_type": "code",
   "execution_count": 17,
   "metadata": {
    "collapsed": true
   },
   "outputs": [],
   "source": [
    "scores2 = np.swapaxes(scores2,0,2)\n",
    "scores2 = np.swapaxes(scores2,1,3)"
   ]
  },
  {
   "cell_type": "code",
   "execution_count": 18,
   "metadata": {
    "collapsed": true
   },
   "outputs": [],
   "source": [
    "os.mkdir(os.path.join(directory, 'cshl_glm'))"
   ]
  },
  {
   "cell_type": "code",
   "execution_count": 19,
   "metadata": {},
   "outputs": [
    {
     "name": "stdout",
     "output_type": "stream",
     "text": [
      "\n",
      "~~ save_brain ~~\n",
      "Current memory usage: 21.44GB\n",
      "save_brain done. Duration: 13.73 ms\n",
      "\n",
      "~~ save_brain ~~\n",
      "Current memory usage: 21.44GB\n",
      "save_brain done. Duration: 6.78 ms\n",
      "\n",
      "~~ save_brain ~~\n",
      "Current memory usage: 21.44GB\n",
      "save_brain done. Duration: 7.00 ms\n",
      "\n",
      "~~ save_brain ~~\n",
      "Current memory usage: 21.44GB\n",
      "save_brain done. Duration: 6.45 ms\n"
     ]
    }
   ],
   "source": [
    "for i in range(4):\n",
    "    file = os.path.join(directory, 'cshl_glm', '20190721_{}.nii'.format(i))\n",
    "    bbb.save_brain(file, scores2[:,:,i,:])"
   ]
  },
  {
   "cell_type": "code",
   "execution_count": 34,
   "metadata": {},
   "outputs": [
    {
     "data": {
      "text/plain": [
       "(128, 80, 4, 47)"
      ]
     },
     "execution_count": 34,
     "metadata": {},
     "output_type": "execute_result"
    }
   ],
   "source": [
    "np.shape(scores2)"
   ]
  },
  {
   "cell_type": "code",
   "execution_count": 33,
   "metadata": {
    "collapsed": true
   },
   "outputs": [],
   "source": [
    "scores2 = np.swapaxes(scores2,1,2)"
   ]
  },
  {
   "cell_type": "code",
   "execution_count": 27,
   "metadata": {},
   "outputs": [
    {
     "data": {
      "image/png": "[encoded data removed]",
      "text/plain": [
       "<Figure size 432x288 with 1 Axes>"
      ]
     },
     "metadata": {},
     "output_type": "display_data"
    }
   ],
   "source": [
    "plt.imshow(scores2[2,17,:,:],vmax=.01)\n",
    "plt.show()"
   ]
  },
  {
   "cell_type": "code",
   "execution_count": 36,
   "metadata": {
    "collapsed": true
   },
   "outputs": [],
   "source": [
    "bbb.save_brain?"
   ]
  },
  {
   "cell_type": "code",
   "execution_count": null,
   "metadata": {
    "collapsed": true
   },
   "outputs": [],
   "source": [
    "#X2 = np.tile(X2,(1,brain.height*brain.width))"
   ]
  },
  {
   "cell_type": "code",
   "execution_count": null,
   "metadata": {
    "collapsed": true
   },
   "outputs": [],
   "source": [
    "dir_betas=[]\n",
    "\n",
    "for w in tqdm(range(brain.width)):\n",
    "    for h in range(brain.height):\n",
    "        Y = brain_interp[h,w,:]\n",
    "        results = sl.lstsq(X2, Y)\n",
    "        dir_betas.append(results[0])\n",
    "        \n",
    "dir_betas = np.reshape(dir_betas,(brain.width,brain.height,4))\n",
    "dir_betas = np.swapaxes(dir_betas,0,1)"
   ]
  },
  {
   "cell_type": "code",
   "execution_count": null,
   "metadata": {
    "collapsed": true
   },
   "outputs": [],
   "source": [
    "fig = plt.figure(figsize=(20,10))\n",
    "plt.suptitle('first half of data')\n",
    "plt.subplot(221)\n",
    "plt.imshow(dir_betas[:,:,0],cmap='inferno')\n",
    "plt.subplot(222)\n",
    "plt.imshow(dir_betas[:,:,1],cmap='inferno')\n",
    "plt.subplot(223)\n",
    "plt.imshow(dir_betas[:,:,2],cmap='inferno')\n",
    "plt.subplot(224)\n",
    "plt.imshow(dir_betas[:,:,3],cmap='inferno')"
   ]
  },
  {
   "cell_type": "markdown",
   "metadata": {},
   "source": [
    "###### Calculate R2"
   ]
  },
  {
   "cell_type": "code",
   "execution_count": null,
   "metadata": {
    "collapsed": true
   },
   "outputs": [],
   "source": [
    "r2s = []\n",
    "predictions = []\n",
    "for h in tqdm(range(brain.height)):\n",
    "    for w in range(brain.width):\n",
    "        predict = {}\n",
    "        for i, direction in enumerate(directions):\n",
    "            predict[direction] = np.convolve(stimtimes01_dir[direction],canonical_resp*dir_betas[h,w,i])\n",
    "            predict[direction] = predict[direction][:len(stimtimes01_dir[direction])]\n",
    "        prediction = predict['up']+predict['right']+predict['down']+predict['left'] ##FIX QUALITY\n",
    "        predictions.append(prediction) #for later visualization\n",
    "        \n",
    "        \n",
    "        Y = brain.vol_corrected[h,w,:]\n",
    "        cor = np.corrcoef(prediction, Y)\n",
    "        r2 = np.power(cor[0][1],2)\n",
    "        r2s.append(r2)\n",
    "\n",
    "r2s = np.reshape(r2s,(brain.height,brain.width))\n",
    "#predictions = np.reshape(predictions,(brain.height,brain.width,exp_duration)) #Put back later if was to visualize predictions"
   ]
  },
  {
   "cell_type": "code",
   "execution_count": null,
   "metadata": {
    "collapsed": true
   },
   "outputs": [],
   "source": [
    "fig = plt.figure(figsize=(20,10))\n",
    "threshold = 0.005\n",
    "plt.set_cmap('inferno')\n",
    "plt.subplot(221)\n",
    "plot = np.copy(dir_betas[:,:,0])\n",
    "plot[np.where(r2s<threshold)]=0\n",
    "plt.imshow(plot,vmax=1)\n",
    "\n",
    "plt.subplot(222)\n",
    "plot = np.copy(dir_betas[:,:,1])\n",
    "plot[np.where(r2s<threshold)]=0\n",
    "plt.imshow(plot,vmax=1)\n",
    "\n",
    "plt.subplot(223)\n",
    "plot = np.copy(dir_betas[:,:,2])\n",
    "plot[np.where(r2s<threshold)]=0\n",
    "plt.imshow(plot,vmax=1)\n",
    "\n",
    "plt.subplot(224)\n",
    "plot = np.copy(dir_betas[:,:,3])\n",
    "plot[np.where(r2s<threshold)]=0\n",
    "plt.imshow(plot,vmax=1)"
   ]
  },
  {
   "cell_type": "markdown",
   "metadata": {},
   "source": [
    "###### Calculate R2 for individual directions instead of pooling"
   ]
  },
  {
   "cell_type": "code",
   "execution_count": null,
   "metadata": {
    "collapsed": true
   },
   "outputs": [],
   "source": [
    "r2s_dir = {}\n",
    "\n",
    "for i, direction in enumerate(directions):\n",
    "    r2s_dir[direction] = []\n",
    "    for h in tqdm(range(brain.height)):\n",
    "        for w in range(brain.width):\n",
    "            prediction = np.convolve(stimtimes01_dir[direction],canonical_resp*dir_betas[h,w,i])\n",
    "            prediction = prediction[:len(stimtimes01_dir[direction])]\n",
    "            Y = brain.vol_corrected[h,w,:]\n",
    "            cor = np.corrcoef(prediction, Y)\n",
    "            r2 = np.power(cor[0][1],2)\n",
    "            r2s_dir[direction].append(r2)\n",
    "    r2s_dir[direction] = np.reshape(r2s_dir[direction],(brain.height,brain.width))"
   ]
  },
  {
   "cell_type": "code",
   "execution_count": null,
   "metadata": {
    "collapsed": true
   },
   "outputs": [],
   "source": [
    "fig = plt.figure(figsize = (20,10))\n",
    "threshold = 0.008\n",
    "plt.set_cmap('inferno')\n",
    "#plt.suptitle('second 5 min')\n",
    "\n",
    "for i, direction in enumerate(directions):\n",
    "    plt.subplot(2,2,i+1)\n",
    "    plot = np.copy(dir_betas[:,:,i])\n",
    "    plot[np.where(r2s_dir[direction]<threshold)]=0\n",
    "    plt.imshow(plot,vmin=-.5,vmax=1)\n",
    "    plt.colorbar()"
   ]
  }
 ],
 "metadata": {
  "kernelspec": {
   "display_name": "Python 3",
   "language": "python",
   "name": "python3"
  },
  "language_info": {
   "codemirror_mode": {
    "name": "ipython",
    "version": 3
   },
   "file_extension": ".py",
   "mimetype": "text/x-python",
   "name": "python",
   "nbconvert_exporter": "python",
   "pygments_lexer": "ipython3",
   "version": "3.6.1"
  }
 },
 "nbformat": 4,
 "nbformat_minor": 2
}
