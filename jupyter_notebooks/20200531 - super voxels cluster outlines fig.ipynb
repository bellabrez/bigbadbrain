{
 "cells": [
  {
   "cell_type": "code",
   "execution_count": 1,
   "metadata": {
    "collapsed": true
   },
   "outputs": [],
   "source": [
    "import sys\n",
    "sys.path.insert(0, '/home/users/brezovec/.local/lib/python3.6/site-packages/lib/python/')\n",
    "import ants\n",
    "import os\n",
    "import bigbadbrain as bbb\n",
    "import numpy as np\n",
    "import matplotlib.pyplot as plt\n",
    "import time\n",
    "import scipy\n",
    "from scipy.ndimage.filters import gaussian_filter\n",
    "from scipy.signal import savgol_filter\n",
    "from scipy.interpolate import interp1d\n",
    "\n",
    "from skimage.filters import threshold_triangle\n",
    "sys.path.insert(0, '/home/users/brezovec/.local/lib/python3.6/site-packages')\n",
    "import os\n",
    "import statsmodels.api as sm\n",
    "import cv2\n",
    "import matplotlib.patches as mpatches\n",
    "import psutil\n",
    "from mpl_toolkits.axes_grid1 import ImageGrid\n",
    "\n",
    "%matplotlib inline\n",
    "plt.rcParams.update({'font.size': 20})\n",
    "\n",
    "root_directory = '/oak/stanford/groups/trc/data/Brezovec/2P_Imaging/20190101_walking_dataset/'\n",
    "save_path = '/oak/stanford/groups/trc/data/Brezovec/2P_Imaging/figs'"
   ]
  },
  {
   "cell_type": "code",
   "execution_count": 2,
   "metadata": {},
   "outputs": [
    {
     "name": "stdout",
     "output_type": "stream",
     "text": [
      "Current memory usage: 0.62GB\n"
     ]
    }
   ],
   "source": [
    "def print_mem():\n",
    "    memory_usage = psutil.Process(os.getpid()).memory_info().rss*10**-9\n",
    "    print('Current memory usage: {:.2f}GB'.format(memory_usage))\n",
    "print_mem()"
   ]
  },
  {
   "cell_type": "code",
   "execution_count": 3,
   "metadata": {
    "collapsed": true
   },
   "outputs": [],
   "source": [
    "from sklearn.cluster import AgglomerativeClustering\n",
    "from scipy.cluster.hierarchy import dendrogram\n",
    "import itertools\n",
    "import random\n",
    "from scipy.cluster import hierarchy\n",
    "import matplotlib as mpl\n",
    "from matplotlib.pyplot import cm"
   ]
  },
  {
   "cell_type": "code",
   "execution_count": 4,
   "metadata": {},
   "outputs": [
    {
     "name": "stdout",
     "output_type": "stream",
     "text": [
      "\n",
      "~~ load_numpy_brain ~~\n",
      "load_numpy_brain done. Duration: 8.13 ms\n",
      "brain shape is x,y,z,t (77, 128, 49, 4731)\n",
      "Current memory usage: 9.77GB\n"
     ]
    }
   ],
   "source": [
    "directory = os.path.join(root_directory,'fly_5','func_0')\n",
    "brain_path = os.path.join(directory, 'brain_zscored_green.nii')\n",
    "brain = bbb.load_numpy_brain(brain_path)*1 # this *1 is currently important for some fucking reason\n",
    "dims = bbb.get_dims(brain)\n",
    "print('brain shape is x,y,z,t {}'.format(brain.shape))\n",
    "print_mem()"
   ]
  },
  {
   "cell_type": "code",
   "execution_count": 5,
   "metadata": {},
   "outputs": [
    {
     "name": "stdout",
     "output_type": "stream",
     "text": [
      "0.6802816390991211\n"
     ]
    }
   ],
   "source": [
    "t0 = time.time()\n",
    "one_slice = brain[:,:,8,:].reshape(-1, brain.shape[-1])\n",
    "print(time.time()-t0)"
   ]
  },
  {
   "cell_type": "code",
   "execution_count": 49,
   "metadata": {},
   "outputs": [
    {
     "name": "stdout",
     "output_type": "stream",
     "text": [
      "1.4691131114959717\n",
      "213.66841673851013\n"
     ]
    }
   ],
   "source": [
    "clustering_dir = os.path.join(directory, 'super_voxels')\n",
    "\n",
    "t0 = time.time()\n",
    "model_ward = AgglomerativeClustering(n_clusters=2000, memory=clustering_dir, linkage='ward')\n",
    "model_ward = model_ward.fit(one_slice)\n",
    "print(time.time()-t0)\n",
    "\n",
    "t0 = time.time()\n",
    "model_average = AgglomerativeClustering(n_clusters=2000, memory=clustering_dir, linkage='average')\n",
    "model_average = model_average.fit(one_slice)\n",
    "print(time.time()-t0)"
   ]
  },
  {
   "cell_type": "code",
   "execution_count": 50,
   "metadata": {},
   "outputs": [],
   "source": [
    "labels_ward = model_ward.labels_.reshape(77,128)\n",
    "labels_average = model_average.labels_.reshape(77,128)"
   ]
  },
  {
   "cell_type": "markdown",
   "metadata": {},
   "source": [
    "# Plot outlines of clusters"
   ]
  },
  {
   "cell_type": "code",
   "execution_count": 52,
   "metadata": {
    "collapsed": true
   },
   "outputs": [],
   "source": [
    "image = labels_ward"
   ]
  },
  {
   "cell_type": "code",
   "execution_count": 53,
   "metadata": {
    "collapsed": true
   },
   "outputs": [],
   "source": [
    "x = np.linspace(0,image.shape[1], image.shape[1]*5)\n",
    "y = np.linspace(0,image.shape[0], image.shape[0]*5)\n",
    "X, Y= np.meshgrid(x[:-1],y[:-1])"
   ]
  },
  {
   "cell_type": "code",
   "execution_count": 54,
   "metadata": {
    "collapsed": true
   },
   "outputs": [],
   "source": [
    "f = lambda x,y: image[int(y), int(x)]\n",
    "g = np.vectorize(f)"
   ]
  },
  {
   "cell_type": "code",
   "execution_count": null,
   "metadata": {
    "collapsed": true
   },
   "outputs": [],
   "source": [
    "import matplotlib as mpl"
   ]
  },
  {
   "cell_type": "code",
   "execution_count": 151,
   "metadata": {},
   "outputs": [],
   "source": [
    "from sklearn.feature_extraction.image import grid_to_graph\n",
    "connectivity = grid_to_graph(77,128)"
   ]
  },
  {
   "cell_type": "code",
   "execution_count": 155,
   "metadata": {},
   "outputs": [
    {
     "name": "stdout",
     "output_type": "stream",
     "text": [
      "working on 1000 clusters\n",
      "working on 500 clusters\n",
      "working on 100 clusters\n"
     ]
    },
    {
     "data": {
      "text/plain": [
       "<Figure size 432x288 with 0 Axes>"
      ]
     },
     "metadata": {},
     "output_type": "display_data"
    },
    {
     "data": {
      "text/plain": [
       "<Figure size 432x288 with 0 Axes>"
      ]
     },
     "metadata": {},
     "output_type": "display_data"
    },
    {
     "data": {
      "text/plain": [
       "<Figure size 432x288 with 0 Axes>"
      ]
     },
     "metadata": {},
     "output_type": "display_data"
    }
   ],
   "source": [
    "for n_clusters in [1000,500,100]:\n",
    "    print('working on {} clusters'.format(n_clusters))\n",
    "    model_ward = AgglomerativeClustering(n_clusters=n_clusters, memory=clustering_dir, linkage='ward')\n",
    "    model_ward = model_ward.fit(one_slice)\n",
    "    labels_ward = model_ward.labels_.reshape(77,128)\n",
    "\n",
    "    \n",
    "    model_average = AgglomerativeClustering(n_clusters=n_clusters,\n",
    "                                            memory=clustering_dir,\n",
    "                                            linkage='ward',\n",
    "                                            connectivity=connectivity)\n",
    "    model_average = model_average.fit(one_slice)\n",
    "    labels_average = model_average.labels_.reshape(77,128)\n",
    "    \n",
    "    fig,ax = plt.subplots()\n",
    "    plt.imshow(labels_average, cmap='hsv')\n",
    "    for i in range(n_clusters):\n",
    "        t0 = time.time()\n",
    "        blob = np.zeros(labels_ward.shape)\n",
    "        blob[np.where(labels_ward==i)] = 1\n",
    "        image = blob\n",
    "        Z = g(X[:-1],Y[:-1])\n",
    "        #ax.contour(Z, [0.5], colors='xkcd:neon blue', linewidths=[1],alpha=1, extent=[0-0.5, x[:-1].max()-0.5,0-0.5, y[:-1].max()-0.5])\n",
    "        ax.contour(Z, [0.5], colors='k', linewidths=[1],alpha=1, extent=[0-0.5, x[:-1].max()-0.5,0-0.5, y[:-1].max()-0.5])\n",
    "        #print('cluster: {}, time: {}'.format(i,time.time()-t0))\n",
    "\n",
    "    # for i in range(10):\n",
    "    #     t0 = time.time()\n",
    "    #     blob = np.zeros(labels_average.shape)\n",
    "    #     blob[np.where(labels_average==i)] = 1\n",
    "    #     image = blob\n",
    "    #     Z = g(X[:-1],Y[:-1])\n",
    "    #     ax.contour(Z[::-1], [0.5], colors='k', linewidths=[.2],alpha=1)\n",
    "        #print('cluster: {}, time: {}'.format(i,time.time()-t0))\n",
    "\n",
    "    plt.title('fly_5, slice_8, {} clusters, ward linkage, black with connectivity constraint'.format(n_clusters), fontsize=10)\n",
    "    ax.axes.xaxis.set_visible(False)\n",
    "    ax.axes.yaxis.set_visible(False)\n",
    "    save_path = '/oak/stanford/groups/trc/data/Brezovec/2P_Imaging/figs'\n",
    "    timestr = time.strftime(\"%Y%m%d-%H%M%S\")\n",
    "    fname = os.path.join(save_path, timestr)\n",
    "    plt.savefig(fname,dpi=300,bbox_inches='tight')\n",
    "    plt.clf()"
   ]
  },
  {
   "cell_type": "code",
   "execution_count": 17,
   "metadata": {
    "collapsed": true
   },
   "outputs": [],
   "source": [
    "Z = g(X[:-1],Y[:-1])"
   ]
  },
  {
   "cell_type": "code",
   "execution_count": 97,
   "metadata": {},
   "outputs": [
    {
     "data": {
      "text/plain": [
       "<matplotlib.contour.QuadContourSet at 0x7f9378e2a4a8>"
      ]
     },
     "execution_count": 97,
     "metadata": {},
     "output_type": "execute_result"
    },
    {
     "data": {
      "image/png": "[encoded data removed]",
      "text/plain": [
       "<Figure size 720x720 with 1 Axes>"
      ]
     },
     "metadata": {},
     "output_type": "display_data"
    }
   ],
   "source": [
    "plt.figure(figsize=(10,10))\n",
    "plt.contour(Z[::-1], [0.5], colors='r', linewidths=[1], linestyles='dotted')"
   ]
  },
  {
   "cell_type": "code",
   "execution_count": 91,
   "metadata": {},
   "outputs": [
    {
     "data": {
      "text/plain": [
       "[<matplotlib.lines.Line2D at 0x7f937799f4a8>]"
      ]
     },
     "execution_count": 91,
     "metadata": {},
     "output_type": "execute_result"
    },
    {
     "data": {
      "image/png": "[encoded data removed]",
      "text/plain": [
       "<Figure size 432x288 with 1 Axes>"
      ]
     },
     "metadata": {},
     "output_type": "display_data"
    }
   ],
   "source": [
    "plt.plot(list(range(10)), linestyle=(5, (5, 5)))"
   ]
  },
  {
   "cell_type": "code",
   "execution_count": null,
   "metadata": {
    "collapsed": true
   },
   "outputs": [],
   "source": []
  },
  {
   "cell_type": "code",
   "execution_count": null,
   "metadata": {
    "collapsed": true
   },
   "outputs": [],
   "source": []
  },
  {
   "cell_type": "code",
   "execution_count": null,
   "metadata": {
    "collapsed": true
   },
   "outputs": [],
   "source": []
  },
  {
   "cell_type": "code",
   "execution_count": 233,
   "metadata": {
    "collapsed": true
   },
   "outputs": [],
   "source": [
    "k = []\n",
    "for s in [2103, 1936, 2247, 2987]:\n",
    "    np.random.seed(s)\n",
    "    k.append(np.random.randint(0, 2, size=(2,6)))\n",
    "arr = np.hstack([np.vstack(k)[:, :-1], np.vstack(k).T[::-1].T ])\n",
    "image = np.zeros(shape=(arr.shape[0]+2, arr.shape[1]+2))\n",
    "image[1:-1, 1:-1] = arr"
   ]
  },
  {
   "cell_type": "code",
   "execution_count": 235,
   "metadata": {},
   "outputs": [
    {
     "data": {
      "text/plain": [
       "<matplotlib.image.AxesImage at 0x7f54660500f0>"
      ]
     },
     "execution_count": 235,
     "metadata": {},
     "output_type": "execute_result"
    },
    {
     "data": {
      "image/png": "[encoded data removed]",
      "text/plain": [
       "<Figure size 432x288 with 1 Axes>"
      ]
     },
     "metadata": {},
     "output_type": "display_data"
    }
   ],
   "source": [
    "plt.imshow(image)"
   ]
  },
  {
   "cell_type": "code",
   "execution_count": 236,
   "metadata": {},
   "outputs": [
    {
     "data": {
      "text/plain": [
       "array([[0., 0., 0., 0., 0., 0., 0., 0., 0., 0., 0., 0., 0.],\n",
       "       [0., 0., 0., 1., 0., 0., 0., 0., 0., 1., 0., 0., 0.],\n",
       "       [0., 0., 0., 0., 1., 0., 0., 0., 1., 0., 0., 0., 0.],\n",
       "       [0., 0., 0., 1., 1., 1., 1., 1., 1., 1., 0., 0., 0.],\n",
       "       [0., 0., 1., 1., 0., 1., 1., 1., 0., 1., 1., 0., 0.],\n",
       "       [0., 1., 1., 1., 1., 1., 1., 1., 1., 1., 1., 1., 0.],\n",
       "       [0., 1., 0., 1., 1., 1., 1., 1., 1., 1., 0., 1., 0.],\n",
       "       [0., 1., 0., 1., 0., 0., 0., 0., 0., 1., 0., 1., 0.],\n",
       "       [0., 0., 0., 0., 1., 1., 0., 1., 1., 0., 0., 0., 0.],\n",
       "       [0., 0., 0., 0., 0., 0., 0., 0., 0., 0., 0., 0., 0.]])"
      ]
     },
     "execution_count": 236,
     "metadata": {},
     "output_type": "execute_result"
    }
   ],
   "source": [
    "image"
   ]
  },
  {
   "cell_type": "code",
   "execution_count": 237,
   "metadata": {
    "collapsed": true
   },
   "outputs": [],
   "source": [
    "f = lambda x,y: image[int(y),int(x)]\n",
    "g = np.vectorize(f)"
   ]
  },
  {
   "cell_type": "code",
   "execution_count": 228,
   "metadata": {},
   "outputs": [
    {
     "data": {
      "text/plain": [
       "(998, 1299)"
      ]
     },
     "execution_count": 228,
     "metadata": {},
     "output_type": "execute_result"
    }
   ],
   "source": [
    "\n",
    "\n",
    "x = np.linspace(0,image.shape[1], image.shape[1]*100)\n",
    "y = np.linspace(0,image.shape[0], image.shape[0]*100)\n",
    "X, Y= np.meshgrid(x[:-1],y[:-1])\n",
    "Z = g(X[:-1],Y[:-1])\n",
    "\n",
    "plt.imshow(image[::-1], origin=\"lower\", interpolation=\"none\", cmap=\"Blues\")\n",
    "\n",
    "plt.contour(Z[::-1], [0.5], colors='r', linewidths=[3], \n",
    "            extent=[0-0.5, x[:-1].max()-0.5,0-0.5, y[:-1].max()-0.5])\n",
    "\n",
    "plt.show()"
   ]
  },
  {
   "cell_type": "code",
   "execution_count": null,
   "metadata": {
    "collapsed": true
   },
   "outputs": [],
   "source": []
  },
  {
   "cell_type": "code",
   "execution_count": null,
   "metadata": {
    "collapsed": true
   },
   "outputs": [],
   "source": []
  },
  {
   "cell_type": "code",
   "execution_count": null,
   "metadata": {
    "collapsed": true
   },
   "outputs": [],
   "source": []
  }
 ],
 "metadata": {
  "kernelspec": {
   "display_name": "Python 3",
   "language": "python",
   "name": "python3"
  },
  "language_info": {
   "codemirror_mode": {
    "name": "ipython",
    "version": 3
   },
   "file_extension": ".py",
   "mimetype": "text/x-python",
   "name": "python",
   "nbconvert_exporter": "python",
   "pygments_lexer": "ipython3",
   "version": "3.6.1"
  }
 },
 "nbformat": 4,
 "nbformat_minor": 2
}
