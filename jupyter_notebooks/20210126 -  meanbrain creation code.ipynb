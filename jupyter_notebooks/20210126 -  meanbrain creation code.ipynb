{
 "cells": [
  {
   "cell_type": "code",
   "execution_count": 1,
   "metadata": {
    "collapsed": true
   },
   "outputs": [],
   "source": [
    "import os\n",
    "import sys\n",
    "import json\n",
    "from time import sleep\n",
    "import datetime\n",
    "import numpy as np\n",
    "import nibabel as nib\n",
    "import scipy\n",
    "from skimage.filters import threshold_triangle as triangle\n",
    "from sklearn.preprocessing import quantile_transform\n",
    "from skimage.filters import unsharp_mask"
   ]
  },
  {
   "cell_type": "code",
   "execution_count": 2,
   "metadata": {
    "collapsed": true
   },
   "outputs": [],
   "source": [
    "def clean_anat(in_file, save_dir):\n",
    "\t### Load brain ###\n",
    "\t#file = os.path.join(directory, 'stitched_brain_red_mean.nii') \n",
    "\tbrain = np.asarray(nib.load(in_file).get_data(), dtype='float32')\n",
    "\n",
    "\t### Blur brain and mask small values ###\n",
    "\tprint('masking')\n",
    "\tbrain_copy = brain.copy().astype('float32')\n",
    "\tbrain_copy = scipy.ndimage.filters.gaussian_filter(brain_copy, sigma=10)\n",
    "\tthreshold = triangle(brain_copy)\n",
    "\tbrain_copy[np.where(brain_copy < threshold/2)] = 0\n",
    "\n",
    "\t### Remove blobs outside contiguous brain ###\n",
    "\tprint('removing blobs')\n",
    "\tlabels, label_nb = scipy.ndimage.label(brain_copy)\n",
    "\tbrain_label = np.bincount(labels.flatten())[1:].argmax()+1\n",
    "\tbrain_copy = brain.copy().astype('float32')\n",
    "\tbrain_copy[np.where(labels != brain_label)] = np.nan\n",
    "\n",
    "\t### Perform quantile normalization ###\n",
    "\tprint('quantile_norm')\n",
    "\tbrain_out = quantile_transform(brain_copy.flatten().reshape(-1, 1), n_quantiles=500, random_state=0, copy=True)\n",
    "\tprint('1')\n",
    "\tbrain_out = brain_out.reshape(brain.shape)\n",
    "\tprint('2')\n",
    "\tnp.nan_to_num(brain_out, copy=False)\n",
    "\n",
    "\t### Save brain ###\n",
    "\tprint('saving')\n",
    "\tfname = in_file.split('/')[-1].split('.')[0]\n",
    "\tsave_file = os.path.join(save_dir, f'{fname}_clean.nii')\n",
    "\taff = np.eye(4)\n",
    "\timg = nib.Nifti1Image(brain_out, aff)\n",
    "\timg.to_filename(save_file)"
   ]
  },
  {
   "cell_type": "code",
   "execution_count": 3,
   "metadata": {},
   "outputs": [
    {
     "name": "stdout",
     "output_type": "stream",
     "text": [
      "found raw anats: ['fly_089_anat_raw.nii', 'fly_106_anat_raw.nii', 'fly_105_anat_raw.nii', 'fly_092_anat_raw.nii', 'fly_110_anat_raw.nii', 'fly_102_anat_raw.nii', 'fly_087_anat_raw.nii', 'fly_096_anat_raw.nii', 'fly_098_anat_raw.nii', 'fly_094_anat_raw.nii', 'fly_099_anat_raw.nii', 'fly_093_anat_raw.nii', 'fly_111_anat_raw.nii', 'fly_101_anat_raw.nii', 'fly_097_anat_raw.nii', 'fly_100_anat_raw.nii']\n",
      "start cleaning\n",
      "masking\n",
      "removing blobs\n",
      "quantile_norm\n",
      "1\n",
      "2\n",
      "saving\n",
      "finished cleaning\n"
     ]
    }
   ],
   "source": [
    "main_dir = \"/oak/stanford/groups/trc/data/Brezovec/2P_Imaging/20210126_alignment_package\"\n",
    "seed_brain = \"\"\n",
    "\n",
    "##########################\n",
    "### 1) Clean Anatomies ###\n",
    "##########################\n",
    "# Loop over each anatomy in \"raw_anats\" directory, and saved a cleaned version to \"clean_anats\" directory\n",
    "raw_dir = os.path.join(main_dir, 'raw_anats')\n",
    "anats = os.listdir(raw_dir)\n",
    "print('found raw anats: {}'.format(anats))\n",
    "\n",
    "save_dir = os.path.join(main_dir, 'clean_anats')\n",
    "if not os.path.exists(save_dir):\n",
    "    os.mkdir(save_dir)\n",
    "\n",
    "print('start cleaning')\n",
    "clean_anat(os.path.join(raw_dir, anats[0]), save_dir)\n",
    "print('finished cleaning')"
   ]
  },
  {
   "cell_type": "code",
   "execution_count": null,
   "metadata": {
    "collapsed": true
   },
   "outputs": [],
   "source": []
  }
 ],
 "metadata": {
  "kernelspec": {
   "display_name": "Python 3",
   "language": "python",
   "name": "python3"
  },
  "language_info": {
   "codemirror_mode": {
    "name": "ipython",
    "version": 3
   },
   "file_extension": ".py",
   "mimetype": "text/x-python",
   "name": "python",
   "nbconvert_exporter": "python",
   "pygments_lexer": "ipython3",
   "version": "3.6.1"
  }
 },
 "nbformat": 4,
 "nbformat_minor": 2
}
