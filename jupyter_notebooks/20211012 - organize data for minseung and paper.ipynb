{
 "cells": [
  {
   "cell_type": "code",
   "execution_count": 1,
   "metadata": {
    "collapsed": true
   },
   "outputs": [],
   "source": [
    "import numpy as np\n",
    "import nibabel as nib\n",
    "import matplotlib.pyplot as plt\n",
    "import os\n",
    "%matplotlib inline"
   ]
  },
  {
   "cell_type": "code",
   "execution_count": 2,
   "metadata": {
    "collapsed": true
   },
   "outputs": [],
   "source": [
    "X_all_neural_timestamps_z_t = np.load(\"/oak/stanford/groups/trc/data/Brezovec/2P_Imaging/20210514_for_aws/X_all_neural_timestamps_z_t.npy\")"
   ]
  },
  {
   "cell_type": "code",
   "execution_count": 3,
   "metadata": {},
   "outputs": [
    {
     "data": {
      "text/plain": [
       "(30456, 49)"
      ]
     },
     "execution_count": 3,
     "metadata": {},
     "output_type": "execute_result"
    }
   ],
   "source": [
    "X_all_neural_timestamps_z_t.shape"
   ]
  },
  {
   "cell_type": "code",
   "execution_count": 4,
   "metadata": {},
   "outputs": [
    {
     "data": {
      "text/plain": [
       "array([ 104.654892,  636.650593, 1168.646294, 1700.641995, 2232.637696,\n",
       "       2764.633397, 3296.629098, 3828.624799, 4360.6205  , 4892.616201])"
      ]
     },
     "execution_count": 4,
     "metadata": {},
     "output_type": "execute_result"
    }
   ],
   "source": [
    "X_all_neural_timestamps_z_t[:10,0]"
   ]
  },
  {
   "cell_type": "code",
   "execution_count": 7,
   "metadata": {
    "collapsed": true
   },
   "outputs": [],
   "source": [
    "file = '/oak/stanford/groups/trc/data/Brezovec/2P_Imaging/20190101_walking_dataset/fly_087/warp/20201220_warped_z_depth.nii'\n",
    "data = np.array(nib.load(file).get_data(), copy=True)"
   ]
  },
  {
   "cell_type": "code",
   "execution_count": 8,
   "metadata": {},
   "outputs": [
    {
     "data": {
      "text/plain": [
       "(256, 128, 49)"
      ]
     },
     "execution_count": 8,
     "metadata": {},
     "output_type": "execute_result"
    }
   ],
   "source": [
    "data.shape"
   ]
  },
  {
   "cell_type": "code",
   "execution_count": 13,
   "metadata": {},
   "outputs": [
    {
     "data": {
      "text/plain": [
       "<matplotlib.colorbar.Colorbar at 0x7fe1301039b0>"
      ]
     },
     "execution_count": 13,
     "metadata": {},
     "output_type": "execute_result"
    },
    {
     "data": {
      "image/png": "[encoded data removed]",
      "text/plain": [
       "<Figure size 432x288 with 2 Axes>"
      ]
     },
     "metadata": {},
     "output_type": "display_data"
    }
   ],
   "source": [
    "plt.imshow(data[:,:,20].T)\n",
    "plt.colorbar()"
   ]
  },
  {
   "cell_type": "code",
   "execution_count": 6,
   "metadata": {
    "collapsed": true
   },
   "outputs": [],
   "source": [
    "to_load = '/oak/stanford/groups/trc/data/Brezovec/2P_Imaging/20190101_walking_dataset/fly_087/func_0/brain_zscored_green_high_pass_masked_warped.nii'"
   ]
  },
  {
   "cell_type": "code",
   "execution_count": 7,
   "metadata": {
    "collapsed": true
   },
   "outputs": [],
   "source": [
    "data = np.array(nib.load(to_load).get_data(), copy=True)"
   ]
  },
  {
   "cell_type": "code",
   "execution_count": 8,
   "metadata": {},
   "outputs": [
    {
     "data": {
      "text/plain": [
       "(256, 128, 49, 3384)"
      ]
     },
     "execution_count": 8,
     "metadata": {},
     "output_type": "execute_result"
    }
   ],
   "source": [
    "data.shape"
   ]
  },
  {
   "cell_type": "code",
   "execution_count": 11,
   "metadata": {},
   "outputs": [
    {
     "data": {
      "text/plain": [
       "['fictrac_2d_hist_fixed.png',\n",
       " 'fictrac-20200228_161226.log',\n",
       " 'fictrac-20200228_161226-raw.avi',\n",
       " 'fictrac.xml',\n",
       " 'velocity_trace.png',\n",
       " 'fictrac-20200228_161226.dat',\n",
       " 'fictrac-20200228_161226-debug.avi',\n",
       " 'fictrac_2d_hist.png']"
      ]
     },
     "execution_count": 11,
     "metadata": {},
     "output_type": "execute_result"
    }
   ],
   "source": [
    "os.listdir('/oak/stanford/groups/trc/data/Brezovec/2P_Imaging/20190101_walking_dataset/fly_087/func_0/fictrac')"
   ]
  },
  {
   "cell_type": "code",
   "execution_count": 12,
   "metadata": {},
   "outputs": [
    {
     "data": {
      "text/plain": [
       "(49, 32768)"
      ]
     },
     "execution_count": 12,
     "metadata": {},
     "output_type": "execute_result"
    }
   ],
   "source": [
    "labels_file = '/oak/stanford/groups/trc/data/Brezovec/2P_Imaging/20201129_super_slices/cluster_labels.npy'\n",
    "cluster_model_labels_all = np.load(labels_file)\n",
    "cluster_model_labels_all.shape"
   ]
  },
  {
   "cell_type": "code",
   "execution_count": 14,
   "metadata": {},
   "outputs": [
    {
     "data": {
      "text/plain": [
       "(810000,)"
      ]
     },
     "execution_count": 14,
     "metadata": {},
     "output_type": "execute_result"
    }
   ],
   "source": [
    "file = '/oak/stanford/groups/trc/data/Brezovec/2P_Imaging/20210514_for_aws/20210525_all_beh_rot.npy'\n",
    "data = np.load(file)\n",
    "data.shape"
   ]
  },
  {
   "cell_type": "code",
   "execution_count": 2,
   "metadata": {},
   "outputs": [
    {
     "data": {
      "text/plain": [
       "['X_all_neural.npy',\n",
       " '6.npy',\n",
       " '15.npy',\n",
       " '9.npy',\n",
       " '19.npy',\n",
       " '0.npy',\n",
       " '16.npy',\n",
       " '31.npy',\n",
       " '29.npy',\n",
       " '28.npy',\n",
       " '48.npy',\n",
       " '4.npy',\n",
       " '20210525_all_beh_time.npy',\n",
       " '20210525_beh_interp_objs.npy',\n",
       " '42.npy',\n",
       " '33.npy',\n",
       " '13.npy',\n",
       " '34.npy',\n",
       " '10.npy',\n",
       " '2.npy',\n",
       " '20210709_pca_10hz.npy',\n",
       " '21.npy',\n",
       " '20210525_beh_interp_obj.npy',\n",
       " 'X.npy',\n",
       " '38.npy',\n",
       " '45.npy',\n",
       " 'X_all_neural_z_vox_t_correct.npy',\n",
       " '7.npy',\n",
       " '5.npy',\n",
       " '43.npy',\n",
       " '27.npy',\n",
       " '25.npy',\n",
       " '24.npy',\n",
       " '36.npy',\n",
       " '35.npy',\n",
       " '39.npy',\n",
       " '46.npy',\n",
       " '8.npy',\n",
       " '40.npy',\n",
       " '12.npy',\n",
       " '30.npy',\n",
       " '20210525_all_beh.npy',\n",
       " '26.npy',\n",
       " '18.npy',\n",
       " '14.npy',\n",
       " '32.npy',\n",
       " 'Y.npy',\n",
       " '23.npy',\n",
       " 'X_timestamps.npy',\n",
       " 'X_all_neural_z_vox_t_10hz.npy',\n",
       " '20210525_all_beh_rot.npy',\n",
       " '17.npy',\n",
       " '44.npy',\n",
       " '20.npy',\n",
       " 'cluster_labels.npy',\n",
       " '1.npy',\n",
       " 'X_all_neural_timestamps_z_t.npy',\n",
       " 'Y_behavior.npy',\n",
       " '37.npy',\n",
       " 'X_all_neural_zv_t_10hz.npy',\n",
       " '3.npy',\n",
       " '11.npy',\n",
       " 'X_all_neural_z_vox_t.npy',\n",
       " '47.npy',\n",
       " '22.npy',\n",
       " 'all_neural_vector_vzt_10hz.npy',\n",
       " '41.npy']"
      ]
     },
     "execution_count": 2,
     "metadata": {},
     "output_type": "execute_result"
    }
   ],
   "source": [
    "os.listdir('/oak/stanford/groups/trc/data/Brezovec/2P_Imaging/20210514_for_aws')"
   ]
  },
  {
   "cell_type": "code",
   "execution_count": 6,
   "metadata": {
    "collapsed": true
   },
   "outputs": [],
   "source": [
    "data = np.load('/oak/stanford/groups/trc/data/Brezovec/2P_Imaging/20210514_for_aws/20210525_all_beh_time.npy')"
   ]
  },
  {
   "cell_type": "code",
   "execution_count": 13,
   "metadata": {},
   "outputs": [
    {
     "data": {
      "text/plain": [
       "810000.0"
      ]
     },
     "execution_count": 13,
     "metadata": {},
     "output_type": "execute_result"
    }
   ],
   "source": [
    "60*30*9*1000/20"
   ]
  },
  {
   "cell_type": "code",
   "execution_count": 9,
   "metadata": {},
   "outputs": [
    {
     "data": {
      "text/plain": [
       "array([0.000000e+00, 2.000000e+01, 4.000000e+01, ..., 1.619994e+07,\n",
       "       1.619996e+07, 1.619998e+07])"
      ]
     },
     "execution_count": 9,
     "metadata": {},
     "output_type": "execute_result"
    }
   ],
   "source": [
    "data"
   ]
  },
  {
   "cell_type": "code",
   "execution_count": 8,
   "metadata": {},
   "outputs": [
    {
     "data": {
      "text/plain": [
       "[<matplotlib.lines.Line2D at 0x7f3f97080278>]"
      ]
     },
     "execution_count": 8,
     "metadata": {},
     "output_type": "execute_result"
    },
    {
     "data": {
      "image/png": "[encoded data removed]",
      "text/plain": [
       "<Figure size 432x288 with 1 Axes>"
      ]
     },
     "metadata": {},
     "output_type": "display_data"
    }
   ],
   "source": [
    "plt.plot(data)"
   ]
  },
  {
   "cell_type": "code",
   "execution_count": null,
   "metadata": {
    "collapsed": true
   },
   "outputs": [],
   "source": []
  }
 ],
 "metadata": {
  "kernelspec": {
   "display_name": "Python 3",
   "language": "python",
   "name": "python3"
  },
  "language_info": {
   "codemirror_mode": {
    "name": "ipython",
    "version": 3
   },
   "file_extension": ".py",
   "mimetype": "text/x-python",
   "name": "python",
   "nbconvert_exporter": "python",
   "pygments_lexer": "ipython3",
   "version": "3.6.1"
  }
 },
 "nbformat": 4,
 "nbformat_minor": 2
}
