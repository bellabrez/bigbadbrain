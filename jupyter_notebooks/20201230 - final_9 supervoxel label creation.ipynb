{
 "cells": [
  {
   "cell_type": "code",
   "execution_count": 1,
   "metadata": {
    "collapsed": true
   },
   "outputs": [],
   "source": [
    "import sys\n",
    "sys.path.insert(0, '/home/users/brezovec/.local/lib/python3.6/site-packages/lib/python/')\n",
    "import ants\n",
    "import os\n",
    "import bigbadbrain as bbb\n",
    "import numpy as np\n",
    "import matplotlib.pyplot as plt\n",
    "import time\n",
    "import scipy\n",
    "from scipy.ndimage.filters import gaussian_filter\n",
    "from scipy.signal import savgol_filter\n",
    "from scipy.interpolate import interp1d\n",
    "\n",
    "from skimage.filters import threshold_triangle\n",
    "sys.path.insert(0, '/home/users/brezovec/.local/lib/python3.6/site-packages')\n",
    "import os\n",
    "import statsmodels.api as sm\n",
    "import cv2\n",
    "import matplotlib.patches as mpatches\n",
    "import psutil\n",
    "from mpl_toolkits.axes_grid1 import ImageGrid\n",
    "from matplotlib.colors import Normalize\n",
    "\n",
    "\n",
    "%matplotlib inline\n",
    "plt.rcParams.update({'font.size': 20})\n",
    "\n",
    "from sklearn.feature_extraction.image import grid_to_graph\n",
    "from mpl_toolkits.axes_grid1 import ImageGrid\n",
    "import json\n",
    "from matplotlib.ticker import FuncFormatter\n",
    "\n",
    "import nibabel as nib\n",
    "\n",
    "from sklearn.cluster import AgglomerativeClustering\n",
    "from scipy.cluster.hierarchy import dendrogram\n",
    "import itertools\n",
    "import random\n",
    "from scipy.cluster import hierarchy\n",
    "import matplotlib as mpl\n",
    "from matplotlib.pyplot import cm\n",
    "\n",
    "from scipy.interpolate import UnivariateSpline\n",
    "from sklearn.linear_model import LinearRegression\n",
    "import matplotlib.patches as patches"
   ]
  },
  {
   "cell_type": "code",
   "execution_count": 3,
   "metadata": {
    "collapsed": true
   },
   "outputs": [],
   "source": [
    "import scipy.stats"
   ]
  },
  {
   "cell_type": "code",
   "execution_count": 5,
   "metadata": {
    "collapsed": true
   },
   "outputs": [],
   "source": [
    "fly_idx_delete = 3 #(fly_095)"
   ]
  },
  {
   "cell_type": "code",
   "execution_count": null,
   "metadata": {},
   "outputs": [
    {
     "name": "stdout",
     "output_type": "stream",
     "text": [
      "0\n",
      "Duration: 24.86052441596985\n",
      "Duration: 100.40000486373901\n",
      "1\n",
      "Duration: 13.25198483467102\n",
      "Duration: 112.3148922920227\n",
      "2\n",
      "Duration: 10.05938720703125\n",
      "Duration: 130.98712420463562\n",
      "3\n",
      "Duration: 19.190443515777588\n",
      "Duration: 138.90521359443665\n",
      "4\n",
      "Duration: 13.793853998184204\n",
      "Duration: 131.33219027519226\n",
      "5\n",
      "Duration: 11.416952133178711\n",
      "Duration: 131.61648988723755\n",
      "6\n",
      "Duration: 15.835224628448486\n",
      "Duration: 123.88473105430603\n",
      "7\n",
      "Duration: 15.198737621307373\n",
      "Duration: 128.89699912071228\n",
      "8\n",
      "Duration: 15.982274532318115\n",
      "Duration: 124.9356324672699\n",
      "9\n",
      "Duration: 13.573019742965698\n",
      "Duration: 123.57854580879211\n",
      "10\n",
      "Duration: 12.971484422683716\n",
      "Duration: 124.288902759552\n",
      "11\n",
      "Duration: 18.592094898223877\n"
     ]
    }
   ],
   "source": [
    "## Only needed to run once to create and save the labels\n",
    "\n",
    "def create_clusters(brain, n_clusters):\n",
    "    t0 = time.time()\n",
    "    clustering_dir = \"/oak/stanford/groups/trc/data/Brezovec/2P_Imaging/20201129_super_slices\"\n",
    "    super_to_cluster = brain.reshape(-1, 3384*9)\n",
    "    connectivity = grid_to_graph(256,128)\n",
    "    cluster_model = AgglomerativeClustering(n_clusters=n_clusters,\n",
    "                                    memory=clustering_dir,\n",
    "                                    linkage='ward',\n",
    "                                    connectivity=connectivity)\n",
    "    cluster_model.fit(super_to_cluster)\n",
    "    print('Duration: {}'.format(time.time()-t0))\n",
    "    return cluster_model\n",
    "\n",
    "labels = []\n",
    "for z in range(49):\n",
    "    print(z)\n",
    "    t0 = time.time()\n",
    "    brain_file = \"/oak/stanford/groups/trc/data/Brezovec/2P_Imaging/20201129_super_slices/superslice_{}.nii\".format(z)\n",
    "    brain = np.array(nib.load(brain_file).get_data(), copy=True)\n",
    "    print(f'Duration: {time.time()-t0}')\n",
    "    brain = np.delete(brain, fly_idx_delete, axis=-1) #### DELETING FLY_095 ####\n",
    "\n",
    "    n_clusters = 2000\n",
    "    cluster_model = create_clusters(brain, n_clusters)\n",
    "    labels.append(cluster_model.labels_)\n",
    "    \n",
    "save_file = '/oak/stanford/groups/trc/data/Brezovec/2P_Imaging/20201129_super_slices/final_9_cluster_labels_2000'\n",
    "np.save(save_file, np.asarray(labels))"
   ]
  }
 ],
 "metadata": {
  "kernelspec": {
   "display_name": "Python 3",
   "language": "python",
   "name": "python3"
  },
  "language_info": {
   "codemirror_mode": {
    "name": "ipython",
    "version": 3
   },
   "file_extension": ".py",
   "mimetype": "text/x-python",
   "name": "python",
   "nbconvert_exporter": "python",
   "pygments_lexer": "ipython3",
   "version": "3.6.1"
  }
 },
 "nbformat": 4,
 "nbformat_minor": 2
}
