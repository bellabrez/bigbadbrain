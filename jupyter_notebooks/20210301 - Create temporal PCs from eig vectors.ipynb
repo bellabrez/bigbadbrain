{
 "cells": [
  {
   "cell_type": "code",
   "execution_count": 1,
   "metadata": {
    "collapsed": true
   },
   "outputs": [],
   "source": [
    "import sys\n",
    "sys.path.insert(0, '/home/users/brezovec/.local/lib/python3.6/site-packages/lib/python/')\n",
    "import ants\n",
    "import os\n",
    "import bigbadbrain as bbb\n",
    "import numpy as np\n",
    "import matplotlib.pyplot as plt\n",
    "import time\n",
    "import scipy\n",
    "from scipy.ndimage.filters import gaussian_filter\n",
    "from scipy.signal import savgol_filter\n",
    "from scipy.interpolate import interp1d\n",
    "\n",
    "from skimage.filters import threshold_triangle\n",
    "sys.path.insert(0, '/home/users/brezovec/.local/lib/python3.6/site-packages')\n",
    "import os\n",
    "import statsmodels.api as sm\n",
    "import cv2\n",
    "import matplotlib.patches as mpatches\n",
    "import psutil\n",
    "from mpl_toolkits.axes_grid1 import ImageGrid\n",
    "from matplotlib.colors import Normalize\n",
    "\n",
    "\n",
    "%matplotlib inline\n",
    "plt.rcParams.update({'font.size': 20})\n",
    "\n",
    "from sklearn.feature_extraction.image import grid_to_graph\n",
    "from mpl_toolkits.axes_grid1 import ImageGrid\n",
    "import json\n",
    "from matplotlib.ticker import FuncFormatter\n",
    "\n",
    "import nibabel as nib\n",
    "\n",
    "from sklearn.cluster import AgglomerativeClustering\n",
    "from scipy.cluster.hierarchy import dendrogram\n",
    "import itertools\n",
    "import random\n",
    "from scipy.cluster import hierarchy\n",
    "import matplotlib as mpl\n",
    "from matplotlib.pyplot import cm\n",
    "\n",
    "from scipy.interpolate import UnivariateSpline\n",
    "from sklearn.linear_model import LinearRegression\n",
    "\n",
    "import pickle\n",
    "from sklearn.decomposition import PCA"
   ]
  },
  {
   "cell_type": "code",
   "execution_count": 9,
   "metadata": {},
   "outputs": [
    {
     "data": {
      "text/plain": [
       "(30456, 1000)"
      ]
     },
     "execution_count": 9,
     "metadata": {},
     "output_type": "execute_result"
    }
   ],
   "source": [
    "###########################\n",
    "### pooled superfly PCA ###\n",
    "###########################\n",
    "\n",
    "file = '/oak/stanford/groups/trc/data/Brezovec/2P_Imaging/20210130_superv_depth_correction/20210214_temporal.npy'\n",
    "temporal_super = np.load(file)\n",
    "temporal_super.shape #timepoint by PC"
   ]
  },
  {
   "cell_type": "code",
   "execution_count": null,
   "metadata": {
    "collapsed": true
   },
   "outputs": [],
   "source": [
    "######################\n",
    "### Individual PCA ###\n",
    "######################\n",
    "\n"
   ]
  },
  {
   "cell_type": "code",
   "execution_count": 37,
   "metadata": {
    "collapsed": true
   },
   "outputs": [],
   "source": [
    "dataset_path = \"/oak/stanford/groups/trc/data/Brezovec/2P_Imaging/20190101_walking_dataset\"\n",
    "fly_names = ['fly_087', 'fly_089', 'fly_094', 'fly_097', 'fly_098', 'fly_099', 'fly_100', 'fly_101', 'fly_105']\n",
    "#fly_names = ['fly_087']"
   ]
  },
  {
   "cell_type": "code",
   "execution_count": 38,
   "metadata": {},
   "outputs": [
    {
     "name": "stdout",
     "output_type": "stream",
     "text": [
      "fly_087\n",
      "vectors are (26840, 26840) voxel by PC\n",
      "X is (3384, 26840) time by voxel - expecting (3384,26840)\n",
      "fly_089\n",
      "vectors are (26840, 26840) voxel by PC\n",
      "X is (3384, 26840) time by voxel - expecting (3384,26840)\n",
      "fly_094\n",
      "vectors are (26840, 26840) voxel by PC\n",
      "X is (3384, 26840) time by voxel - expecting (3384,26840)\n",
      "fly_097\n",
      "vectors are (26840, 26840) voxel by PC\n",
      "X is (3384, 26840) time by voxel - expecting (3384,26840)\n",
      "fly_098\n",
      "vectors are (26840, 26840) voxel by PC\n",
      "X is (3384, 26840) time by voxel - expecting (3384,26840)\n",
      "fly_099\n",
      "vectors are (26840, 26840) voxel by PC\n",
      "X is (3384, 26840) time by voxel - expecting (3384,26840)\n",
      "fly_100\n",
      "vectors are (26840, 26840) voxel by PC\n",
      "X is (3384, 26840) time by voxel - expecting (3384,26840)\n",
      "fly_101\n",
      "vectors are (26840, 26840) voxel by PC\n",
      "X is (3384, 26840) time by voxel - expecting (3384,26840)\n",
      "fly_105\n",
      "vectors are (26840, 26840) voxel by PC\n",
      "X is (3384, 26840) time by voxel - expecting (3384,26840)\n"
     ]
    }
   ],
   "source": [
    "for i, fly in enumerate(fly_names):\n",
    "    print(fly)\n",
    "\n",
    "    file = F'/oak/stanford/groups/trc/data/Brezovec/2P_Imaging/20210130_superv_depth_correction/20210214_eigen_vectors_ztrim_fly{i}.npy'\n",
    "    vectors = np.load(file).real\n",
    "    #print(vectors.shape)# vectors is voxel by PC probably (3384, 3384)\n",
    "    print(f'vectors are {vectors.shape} voxel by PC')\n",
    "\n",
    "    load_file = '/oak/stanford/groups/trc/data/Brezovec/2P_Imaging/20210130_superv_depth_correction/super_brain.pickle'\n",
    "    with open(load_file, 'rb') as handle:\n",
    "        temp_brain = pickle.load(handle)\n",
    "    #brain is a dict of z, each containing a variable number of supervoxels\n",
    "    #one dict element looks like: (n_clusters, 3384, 9)\n",
    "    X = np.zeros((0,3384,9))\n",
    "    for z in range(9,49-9):\n",
    "        X = np.concatenate((X,temp_brain[z]),axis=0)\n",
    "    X = np.swapaxes(X,1,2) # THIS LINE WAS MISSING\n",
    "    X = np.reshape(X,(26840, -1))\n",
    "    X = X.T\n",
    "    #X.shape # x is time by voxels (30456, 26840)\n",
    "    num_tp = 3384\n",
    "    start = i*num_tp\n",
    "    stop = (i+1)*num_tp\n",
    "    X = X[start:stop,:] # now (3384,26840)\n",
    "    print(f'X is {X.shape} time by voxel - expecting (3384,26840)')\n",
    "\n",
    "    temporal = X.dot(vectors)\n",
    "    file = F'/oak/stanford/groups/trc/data/Brezovec/2P_Imaging/20210130_superv_depth_correction/20210301_temporal_indiv_pcs_fly{i}.npy'\n",
    "    np.save(file, temporal[:,:3384])\n",
    "#     brain = np.matmul(temporal[:,:num_pcs], vectors[:,:num_pcs].T)\n",
    "#     # brain should be (3384, 26840) time by voxel\n",
    "#     print(f'brain is {brain.shape} time by voxel - expecting (3384,26840)')\n",
    "#     num_tp = 3384\n",
    "#     start = i*num_tp\n",
    "#     stop = (i+1)*num_tp\n",
    "#     reconstructed[start:stop,:] = brain"
   ]
  },
  {
   "cell_type": "code",
   "execution_count": 39,
   "metadata": {},
   "outputs": [
    {
     "data": {
      "text/plain": [
       "(3384, 26840)"
      ]
     },
     "execution_count": 39,
     "metadata": {},
     "output_type": "execute_result"
    }
   ],
   "source": [
    "temporal.shape"
   ]
  },
  {
   "cell_type": "code",
   "execution_count": 36,
   "metadata": {},
   "outputs": [
    {
     "data": {
      "text/plain": [
       "(1000, 2000)"
      ]
     },
     "execution_count": 36,
     "metadata": {},
     "output_type": "execute_result"
    },
    {
     "data": {
      "image/png": "[encoded data removed]",
      "text/plain": [
       "<Figure size 432x288 with 1 Axes>"
      ]
     },
     "metadata": {},
     "output_type": "display_data"
    }
   ],
   "source": [
    "pc=1\n",
    "plt.plot(temporal_super[:3384,pc])\n",
    "plt.plot(temporal[:,pc])\n",
    "plt.xlim(1000,2000)"
   ]
  },
  {
   "cell_type": "code",
   "execution_count": null,
   "metadata": {
    "collapsed": true
   },
   "outputs": [],
   "source": []
  },
  {
   "cell_type": "code",
   "execution_count": null,
   "metadata": {
    "collapsed": true
   },
   "outputs": [],
   "source": []
  },
  {
   "cell_type": "code",
   "execution_count": 41,
   "metadata": {},
   "outputs": [
    {
     "name": "stdout",
     "output_type": "stream",
     "text": [
      "vectors are (26840, 26840) voxel by PC\n",
      "X is (30456, 26840) time by voxel - expecting (3384,26840)\n",
      "(30456, 26840)\n"
     ]
    }
   ],
   "source": [
    "file = F'/oak/stanford/groups/trc/data/Brezovec/2P_Imaging/20210130_superv_depth_correction/20210214_eigen_vectors_ztrim.npy'\n",
    "vectors = np.load(file).real\n",
    "print(f'vectors are {vectors.shape} voxel by PC')\n",
    "\n",
    "load_file = '/oak/stanford/groups/trc/data/Brezovec/2P_Imaging/20210130_superv_depth_correction/super_brain.pickle'\n",
    "with open(load_file, 'rb') as handle:\n",
    "    temp_brain = pickle.load(handle)\n",
    "#brain is a dict of z, each containing a variable number of supervoxels\n",
    "#one dict element looks like: (n_clusters, 3384, 9)\n",
    "X = np.zeros((0,3384,9))\n",
    "for z in range(9,49-9):\n",
    "    X = np.concatenate((X,temp_brain[z]),axis=0)\n",
    "X = np.swapaxes(X,1,2) # THIS LINE WAS MISSING\n",
    "X = np.reshape(X,(26840, -1))\n",
    "X = X.T\n",
    "#X.shape # x is time by voxels (30456, 26840)\n",
    "# num_tp = 3384\n",
    "# start = i*num_tp\n",
    "# stop = (i+1)*num_tp\n",
    "# X = X[start:stop,:] # now (3384,26840)\n",
    "print(f'X is {X.shape} time by voxel - expecting (3384,26840)')\n",
    "\n",
    "temporal = X.dot(vectors)\n",
    "print(temporal.shape)"
   ]
  },
  {
   "cell_type": "code",
   "execution_count": 52,
   "metadata": {},
   "outputs": [
    {
     "data": {
      "text/plain": [
       "[<matplotlib.lines.Line2D at 0x7fa254a24160>]"
      ]
     },
     "execution_count": 52,
     "metadata": {},
     "output_type": "execute_result"
    },
    {
     "data": {
      "image/png": "[encoded data removed]",
      "text/plain": [
       "<Figure size 432x288 with 1 Axes>"
      ]
     },
     "metadata": {},
     "output_type": "display_data"
    }
   ],
   "source": [
    "plt.plot(temporal[:,6])"
   ]
  },
  {
   "cell_type": "code",
   "execution_count": 53,
   "metadata": {
    "collapsed": true
   },
   "outputs": [],
   "source": [
    "file = F'/oak/stanford/groups/trc/data/Brezovec/2P_Imaging/20210130_superv_depth_correction/20210301_temporal.npy'\n",
    "np.save(file, temporal)"
   ]
  },
  {
   "cell_type": "code",
   "execution_count": 54,
   "metadata": {},
   "outputs": [
    {
     "data": {
      "text/plain": [
       "(30456, 26840)"
      ]
     },
     "execution_count": 54,
     "metadata": {},
     "output_type": "execute_result"
    }
   ],
   "source": [
    "temporal.shape"
   ]
  },
  {
   "cell_type": "code",
   "execution_count": null,
   "metadata": {
    "collapsed": true
   },
   "outputs": [],
   "source": []
  }
 ],
 "metadata": {
  "kernelspec": {
   "display_name": "Python 3",
   "language": "python",
   "name": "python3"
  },
  "language_info": {
   "codemirror_mode": {
    "name": "ipython",
    "version": 3
   },
   "file_extension": ".py",
   "mimetype": "text/x-python",
   "name": "python",
   "nbconvert_exporter": "python",
   "pygments_lexer": "ipython3",
   "version": "3.6.1"
  }
 },
 "nbformat": 4,
 "nbformat_minor": 2
}
