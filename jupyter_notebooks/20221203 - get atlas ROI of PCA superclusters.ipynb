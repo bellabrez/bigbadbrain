{
 "cells": [
  {
   "cell_type": "code",
   "execution_count": 1,
   "metadata": {},
   "outputs": [
    {
     "name": "stderr",
     "output_type": "stream",
     "text": [
      "/home/users/brezovec/.local/lib/python3.6/site-packages/ants/viz/render_surface_function.py:16: UserWarning: Cant import Plotly. Install it `pip install chart_studio` if you want to use ants.render_surface_function\n",
      "  \"Cant import Plotly. Install it `pip install chart_studio` if you want to use ants.render_surface_function\"\n"
     ]
    }
   ],
   "source": [
    "import pickle\n",
    "import os\n",
    "import time\n",
    "import numpy as np\n",
    "import matplotlib.pyplot as plt\n",
    "%matplotlib inline\n",
    "from sklearn.decomposition import FastICA\n",
    "from mpl_toolkits.axes_grid1 import ImageGrid\n",
    "from sklearn.cluster import AgglomerativeClustering\n",
    "from scipy.cluster.hierarchy import dendrogram\n",
    "import nibabel as nib\n",
    "import ants\n",
    "from scipy.ndimage.morphology import binary_erosion\n",
    "from scipy.ndimage.morphology import binary_dilation\n",
    "import cv2\n",
    "import bigbadbrain as bbb\n",
    "import scipy\n",
    "from scipy.interpolate import interp1d\n",
    "from matplotlib.colors import ListedColormap\n",
    "from matplotlib.pyplot import cm\n",
    "import tqdm\n",
    "import ffmpeg\n",
    "import brainsss"
   ]
  },
  {
   "cell_type": "code",
   "execution_count": 2,
   "metadata": {
    "collapsed": true
   },
   "outputs": [],
   "source": [
    "cluster_dir = \"/oak/stanford/groups/trc/data/Brezovec/2P_Imaging/20221109_cluster_pca/\""
   ]
  },
  {
   "cell_type": "code",
   "execution_count": 3,
   "metadata": {},
   "outputs": [],
   "source": [
    "file = os.path.join(cluster_dir, 'superclusters_more.npy')\n",
    "superclusters = np.load(file)\n",
    "#with 249 there will be clusters 1-250 inclusive (len=250). cluster 140 is background\n",
    "superclusters_250 = superclusters[:,:,:,249]\n",
    "# right brain gets +250 to cluster ID so now 500 clusters\n",
    "superclusters_250[157:,:,:] += 250"
   ]
  },
  {
   "cell_type": "code",
   "execution_count": 4,
   "metadata": {},
   "outputs": [
    {
     "data": {
      "text/plain": [
       "(314, 146, 91)"
      ]
     },
     "execution_count": 4,
     "metadata": {},
     "output_type": "execute_result"
    }
   ],
   "source": [
    "superclusters_250.shape"
   ]
  },
  {
   "cell_type": "code",
   "execution_count": 5,
   "metadata": {
    "collapsed": true
   },
   "outputs": [],
   "source": [
    "atlas_clean = brainsss.load_roi_atlas()\n",
    "explosion_rois = brainsss.load_explosion_groups()\n",
    "all_rois = brainsss.unnest_roi_groups(explosion_rois)\n",
    "roi_masks = brainsss.make_single_roi_masks(all_rois, atlas_clean)\n",
    "roi_contours = brainsss.make_single_roi_contours(roi_masks, atlas_clean)"
   ]
  },
  {
   "cell_type": "code",
   "execution_count": 11,
   "metadata": {},
   "outputs": [],
   "source": [
    "atlas_IDs = brainsss.load_roi_hemi_ids()"
   ]
  },
  {
   "cell_type": "code",
   "execution_count": 27,
   "metadata": {},
   "outputs": [],
   "source": [
    "cluster_rois = {}\n",
    "for cluster in range(251):\n",
    "    cluster_rois[cluster] = {}\n",
    "    ind = np.where(superclusters_250==cluster)\n",
    "    rois_in_SC = atlas_clean[ind]\n",
    "    total = 0\n",
    "    for roi in np.unique(rois_in_SC):\n",
    "        count = np.sum(rois_in_SC==roi)\n",
    "        try:\n",
    "            cluster_rois[cluster][atlas_IDs[0]['left'][int(roi)]] = count\n",
    "            total += count\n",
    "        except:\n",
    "            pass\n",
    "    for roi in np.unique(rois_in_SC):\n",
    "        try:\n",
    "            cluster_rois[cluster][atlas_IDs[0]['left'][int(roi)]] /= total\n",
    "        except:\n",
    "            pass"
   ]
  },
  {
   "cell_type": "code",
   "execution_count": 69,
   "metadata": {
    "collapsed": true
   },
   "outputs": [],
   "source": [
    "rois = list(atlas_IDs[0]['left'].values())\n",
    "\n",
    "SC_in_rois_sorted_all = {}\n",
    "for roi in rois:\n",
    "    SC_in_rois = []\n",
    "    for cluster in range(251):\n",
    "        try:\n",
    "            percent = cluster_rois[cluster][roi]\n",
    "            SC_in_rois.append((cluster,percent))\n",
    "        except:\n",
    "            pass\n",
    "\n",
    "    sort_ind = list(np.argsort(np.asarray(SC_in_rois)[:,1]))[::-1]\n",
    "    SC_in_rois_sorted = [SC_in_rois[i] for i in sort_ind]\n",
    "    SC_in_rois_sorted_all[roi] = SC_in_rois_sorted"
   ]
  },
  {
   "cell_type": "code",
   "execution_count": 71,
   "metadata": {
    "collapsed": true
   },
   "outputs": [],
   "source": [
    "save_file = os.path.join(cluster_dir,\"20221203_SC_atlas_ROIs\")\n",
    "np.save(save_file,SC_in_rois_sorted_all,allow_pickle=True)"
   ]
  },
  {
   "cell_type": "code",
   "execution_count": 95,
   "metadata": {},
   "outputs": [
    {
     "data": {
      "text/plain": [
       "[(76, 0.7737373737373737),\n",
       " (225, 0.7345132743362832),\n",
       " (101, 0.45213379469434833),\n",
       " (95, 0.4025423728813559),\n",
       " (128, 0.3645320197044335),\n",
       " (51, 0.29640427599611274),\n",
       " (141, 0.26153846153846155),\n",
       " (110, 0.25882352941176473),\n",
       " (19, 0.19263157894736843),\n",
       " (105, 0.18009478672985782),\n",
       " (80, 0.10277777777777777),\n",
       " (119, 0.09513023782559456),\n",
       " (155, 0.07309486780715396),\n",
       " (247, 0.061224489795918366),\n",
       " (227, 0.04395604395604396),\n",
       " (77, 0.03531073446327684),\n",
       " (230, 0.034141958670260555),\n",
       " (129, 0.016647127784290738),\n",
       " (134, 0.01168063762539508),\n",
       " (194, 0.006892357591729171),\n",
       " (140, 0.005711273174589228),\n",
       " (63, 0.004291845493562232),\n",
       " (118, 0.004067520846044336),\n",
       " (39, 0.003863298662704309),\n",
       " (205, 0.0030211480362537764),\n",
       " (245, 0.0018450184501845018),\n",
       " (65, 0.0012165450121654502),\n",
       " (88, 0.0006540222367560497),\n",
       " (9, 0.0005903187721369539),\n",
       " (1, 0.00037290242386575515),\n",
       " (103, 0.00011424654404204273)]"
      ]
     },
     "execution_count": 95,
     "metadata": {},
     "output_type": "execute_result"
    }
   ],
   "source": [
    "SC_in_rois_sorted_all['SAD']"
   ]
  },
  {
   "cell_type": "code",
   "execution_count": 85,
   "metadata": {},
   "outputs": [
    {
     "data": {
      "text/plain": [
       "['PB',\n",
       " 'FB',\n",
       " 'EB',\n",
       " 'NO',\n",
       " 'BU_R',\n",
       " 'LAL_R',\n",
       " 'PVLP_R',\n",
       " 'VES_R',\n",
       " 'EPA_R',\n",
       " 'GOR_R',\n",
       " 'AMMC_R',\n",
       " 'AL_R',\n",
       " 'MB_PED_R',\n",
       " 'MB_VL_R',\n",
       " 'MB_ML_R',\n",
       " 'MB_CA_R',\n",
       " 'AVLP_R',\n",
       " 'IVLP_R',\n",
       " 'CAN_R',\n",
       " 'FLA_R',\n",
       " 'PRW',\n",
       " 'SAD',\n",
       " 'GNG',\n",
       " 'SLP_R',\n",
       " 'SMP_R',\n",
       " 'PLP_R',\n",
       " 'LH_R',\n",
       " 'IPS_R',\n",
       " 'SPS_R',\n",
       " 'CRE_R',\n",
       " 'SCL_R',\n",
       " 'ICL_R',\n",
       " 'ATL_R',\n",
       " 'IB_R',\n",
       " 'SIP_R',\n",
       " 'MED_R',\n",
       " 'LO_R',\n",
       " 'LP_R',\n",
       " 'AOTU_R']"
      ]
     },
     "execution_count": 85,
     "metadata": {},
     "output_type": "execute_result"
    }
   ],
   "source": [
    "rois"
   ]
  },
  {
   "cell_type": "code",
   "execution_count": null,
   "metadata": {
    "collapsed": true
   },
   "outputs": [],
   "source": []
  }
 ],
 "metadata": {
  "kernelspec": {
   "display_name": "Python 3",
   "language": "python",
   "name": "python3"
  },
  "language_info": {
   "codemirror_mode": {
    "name": "ipython",
    "version": 3
   },
   "file_extension": ".py",
   "mimetype": "text/x-python",
   "name": "python",
   "nbconvert_exporter": "python",
   "pygments_lexer": "ipython3",
   "version": "3.6.1"
  }
 },
 "nbformat": 4,
 "nbformat_minor": 2
}
