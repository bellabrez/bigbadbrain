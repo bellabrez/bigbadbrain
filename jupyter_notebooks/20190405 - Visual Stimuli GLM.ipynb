{
 "cells": [
  {
   "cell_type": "code",
   "execution_count": 1,
   "metadata": {
    "collapsed": true
   },
   "outputs": [],
   "source": [
    "import numpy as np\n",
    "import matplotlib.pyplot as plt\n",
    "import matplotlib.patches as patches\n",
    "import nibabel as nib\n",
    "from time import time\n",
    "from xml.etree import ElementTree as ET\n",
    "import os\n",
    "import pandas as pd\n",
    "import sys\n",
    "from scipy.interpolate import interp1d\n",
    "from scipy.ndimage.filters import gaussian_filter\n",
    "from scipy import signal\n",
    "from scipy.ndimage import zoom\n",
    "import smtplib\n",
    "from email.mime.text import MIMEText\n",
    "import re\n",
    "import skimage\n",
    "from mpl_toolkits.mplot3d import Axes3D\n",
    "from matplotlib import cm\n",
    "import scipy\n",
    "from mpl_toolkits.mplot3d.art3d import Poly3DCollection\n",
    "from skimage import measure\n",
    "import h5py\n",
    "import numpy_indexed as npi\n",
    "from sklearn.linear_model import LassoLarsIC\n",
    "from scipy.linalg import toeplitz\n",
    "\n",
    "\n",
    "sys.path.insert(0, '/home/users/brezovec/.local/lib/python3.6/site-packages/lib/python/')\n",
    "import ants\n",
    "\n",
    "%matplotlib inline\n",
    "\n",
    "from BigBadBrain.brain import bleaching_correction, z_score_brain, get_resolution, save_brain, load_numpy_brain, get_dims\n",
    "from BigBadBrain.fictrac import load_fictrac, prep_fictrac\n",
    "from BigBadBrain.utils import load_timestamps, get_fly_folders, send_email\n",
    "from BigBadBrain.glm import fit_glm, save_glm_map\n",
    "from BigBadBrain.motcorr import get_motcorr_brain\n",
    "from BigBadBrain.visual import load_visual_stimuli_data, load_photodiode, parse_stim_starts_photodiode"
   ]
  },
  {
   "cell_type": "code",
   "execution_count": 2,
   "metadata": {
    "collapsed": true
   },
   "outputs": [],
   "source": [
    "root_path = '/oak/stanford/groups/trc/data/Brezovec/2P_Imaging/20190101_walking_dataset'\n",
    "vision_path = '/oak/stanford/groups/trc/data/Brezovec/2P_Imaging/20190101_walking_dataset/fly_28/visual'\n",
    "folder = '/oak/stanford/groups/trc/data/Brezovec/2P_Imaging/20190101_walking_dataset/fly_28'"
   ]
  },
  {
   "cell_type": "code",
   "execution_count": 3,
   "metadata": {},
   "outputs": [
    {
     "name": "stdout",
     "output_type": "stream",
     "text": [
      "loading photodiode data... done\n",
      "loading visual stimuli data... done\n"
     ]
    }
   ],
   "source": [
    "t,pd1,pd2 = load_photodiode(vision_path)\n",
    "stimuli, unique_stimuli = load_visual_stimuli_data(vision_path)"
   ]
  },
  {
   "cell_type": "code",
   "execution_count": 4,
   "metadata": {},
   "outputs": [
    {
     "name": "stdout",
     "output_type": "stream",
     "text": [
      "Successfully parsed all stimuli from photodiode output.\n"
     ]
    }
   ],
   "source": [
    "stimuli_starts = parse_stim_starts_photodiode(pd1,stimuli)"
   ]
  },
  {
   "cell_type": "code",
   "execution_count": 5,
   "metadata": {
    "collapsed": true
   },
   "outputs": [],
   "source": [
    "### Add times list to each unique stimulus\n",
    "for unique_stimulus in unique_stimuli:\n",
    "    unique_stimulus['times'] = [stimuli_starts[i] for i, x in enumerate(stimuli) if x == unique_stimulus]"
   ]
  },
  {
   "cell_type": "code",
   "execution_count": 242,
   "metadata": {
    "collapsed": true
   },
   "outputs": [
    {
     "data": {
      "text/plain": [
       "[{'angle': 0,\n",
       "  'color': 1,\n",
       "  'name': 'SineGrating',\n",
       "  'period': 20,\n",
       "  'rate': 20,\n",
       "  'times': [182094.7,\n",
       "   200746.1,\n",
       "   216694.6,\n",
       "   223021.9,\n",
       "   235893.7,\n",
       "   245393.1,\n",
       "   257795.6,\n",
       "   276977.3,\n",
       "   289831.7,\n",
       "   305962.6,\n",
       "   309108.9,\n",
       "   324996.5,\n",
       "   337868.3,\n",
       "   357388.7,\n",
       "   360639.4,\n",
       "   382584.8,\n",
       "   395256.7,\n",
       "   398402.9,\n",
       "   600787.8,\n",
       "   613955.0,\n",
       "   623628.4,\n",
       "   633075.7,\n",
       "   645956.2,\n",
       "   655890.4,\n",
       "   675428.4,\n",
       "   688282.7,\n",
       "   701180.6,\n",
       "   717268.1,\n",
       "   730278.9,\n",
       "   739865.3,\n",
       "   752893.6,\n",
       "   765643.6,\n",
       "   781931.0,\n",
       "   791378.4,\n",
       "   801130.2,\n",
       "   810829.5,\n",
       "   1011267.6,\n",
       "   1023991.6,\n",
       "   1036559.2,\n",
       "   1046406.4,\n",
       "   1055940.7,\n",
       "   1075078.9,\n",
       "   1091140.3,\n",
       "   1094147.5,\n",
       "   1110278.5,\n",
       "   1119769.4,\n",
       "   1141923.3,\n",
       "   1145304.3,\n",
       "   1168249.3,\n",
       "   1171412.9,\n",
       "   1187300.4,\n",
       "   1203474.9,\n",
       "   1216398.8,\n",
       "   1222543.6,\n",
       "   1421339.0,\n",
       "   1427509.8,\n",
       "   1443240.9,\n",
       "   1455739.0,\n",
       "   1465325.3,\n",
       "   1487444.7,\n",
       "   1493615.4,\n",
       "   1503688.6,\n",
       "   1526051.3,\n",
       "   1532535.0,\n",
       "   1542112.8,\n",
       "   1564527.6,\n",
       "   1567534.8,\n",
       "   1586916.3,\n",
       "   1596563.6,\n",
       "   1606097.9,\n",
       "   1622055.1,\n",
       "   1635265.7]},\n",
       " {'angle': 270,\n",
       "  'color': 1,\n",
       "  'name': 'SineGrating',\n",
       "  'period': 20,\n",
       "  'rate': 20,\n",
       "  'times': [191098.9,\n",
       "   194201.5,\n",
       "   210089.2,\n",
       "   226063.7,\n",
       "   239178.9,\n",
       "   254736.2,\n",
       "   267147.3,\n",
       "   273891.9,\n",
       "   293073.5,\n",
       "   299426.7,\n",
       "   318851.8,\n",
       "   321928.5,\n",
       "   334600.3,\n",
       "   354120.8,\n",
       "   369982.5,\n",
       "   376353.2,\n",
       "   388964.2,\n",
       "   401549.2,\n",
       "   597789.3,\n",
       "   604185.9,\n",
       "   617196.8,\n",
       "   629938.3,\n",
       "   649206.8,\n",
       "   665607.2,\n",
       "   668727.4,\n",
       "   685119.1,\n",
       "   698182.0,\n",
       "   714113.1,\n",
       "   724003.7,\n",
       "   743211.4,\n",
       "   749556.2,\n",
       "   768902.8,\n",
       "   778593.6,\n",
       "   785277.2,\n",
       "   804146.0,\n",
       "   816870.0,\n",
       "   1008269.0,\n",
       "   1020723.6,\n",
       "   1039835.8,\n",
       "   1043225.4,\n",
       "   1058974.0,\n",
       "   1068516.9,\n",
       "   1081501.7,\n",
       "   1103647.1,\n",
       "   1106897.6,\n",
       "   1129581.8,\n",
       "   1138872.8,\n",
       "   1151944.4,\n",
       "   1161817.6,\n",
       "   1177809.6,\n",
       "   1194079.6,\n",
       "   1197304.2,\n",
       "   1213009.3,\n",
       "   1228879.4,\n",
       "   1424346.0,\n",
       "   1433897.8,\n",
       "   1440051.3,\n",
       "   1452644.8,\n",
       "   1468367.4,\n",
       "   1477814.8,\n",
       "   1500333.9,\n",
       "   1513327.3,\n",
       "   1523044.1,\n",
       "   1535716.0,\n",
       "   1551647.0,\n",
       "   1558130.7,\n",
       "   1577112.4,\n",
       "   1583639.7,\n",
       "   1593330.4,\n",
       "   1615745.1,\n",
       "   1628730.0,\n",
       "   1632093.5]},\n",
       " {'angle': 180,\n",
       "  'color': 1,\n",
       "  'name': 'SineGrating',\n",
       "  'period': 20,\n",
       "  'rate': 20,\n",
       "  'times': [188100.4,\n",
       "   197521.7,\n",
       "   213435.3,\n",
       "   229270.9,\n",
       "   242281.7,\n",
       "   251598.7,\n",
       "   264140.3,\n",
       "   270484.9,\n",
       "   283565.2,\n",
       "   296289.1,\n",
       "   315583.9,\n",
       "   331358.4,\n",
       "   341266.6,\n",
       "   351070.3,\n",
       "   366845.0,\n",
       "   373189.6,\n",
       "   392153.9,\n",
       "   404765.0,\n",
       "   594782.1,\n",
       "   610782.7,\n",
       "   626774.6,\n",
       "   636291.6,\n",
       "   652561.5,\n",
       "   662269.8,\n",
       "   672117.0,\n",
       "   691680.9,\n",
       "   694862.0,\n",
       "   707455.7,\n",
       "   720596.9,\n",
       "   736528.0,\n",
       "   756161.4,\n",
       "   762488.7,\n",
       "   775386.6,\n",
       "   788354.0,\n",
       "   797757.8,\n",
       "   820259.6,\n",
       "   1014274.7,\n",
       "   1017394.8,\n",
       "   1033213.0,\n",
       "   1049787.3,\n",
       "   1065474.9,\n",
       "   1071819.6,\n",
       "   1084900.0,\n",
       "   1100561.7,\n",
       "   1116649.2,\n",
       "   1126313.9,\n",
       "   1132710.7,\n",
       "   1148554.7,\n",
       "   1165016.1,\n",
       "   1181121.0,\n",
       "   1184284.6,\n",
       "   1206612.4,\n",
       "   1219484.3,\n",
       "   1225794.1,\n",
       "   1415333.3,\n",
       "   1430795.1,\n",
       "   1446308.9,\n",
       "   1458963.3,\n",
       "   1471661.4,\n",
       "   1484202.8,\n",
       "   1490530.0,\n",
       "   1506921.9,\n",
       "   1519645.9,\n",
       "   1529249.7,\n",
       "   1545241.7,\n",
       "   1561372.6,\n",
       "   1570889.5,\n",
       "   1580267.5,\n",
       "   1602856.1,\n",
       "   1612503.4,\n",
       "   1618787.2,\n",
       "   1641445.3]},\n",
       " {'angle': 90,\n",
       "  'color': 1,\n",
       "  'name': 'SineGrating',\n",
       "  'period': 20,\n",
       "  'rate': 20,\n",
       "  'times': [185093.2,\n",
       "   203788.1,\n",
       "   207038.7,\n",
       "   219745.2,\n",
       "   232547.5,\n",
       "   248478.6,\n",
       "   260828.8,\n",
       "   280201.7,\n",
       "   286642.0,\n",
       "   302712.0,\n",
       "   312202.9,\n",
       "   328220.9,\n",
       "   344525.8,\n",
       "   347819.8,\n",
       "   363820.4,\n",
       "   379369.1,\n",
       "   385652.9,\n",
       "   407867.6,\n",
       "   591783.6,\n",
       "   607445.3,\n",
       "   620412.5,\n",
       "   639576.8,\n",
       "   642801.3,\n",
       "   659088.8,\n",
       "   678713.7,\n",
       "   681816.3,\n",
       "   704292.1,\n",
       "   710758.2,\n",
       "   727176.2,\n",
       "   733477.3,\n",
       "   746296.8,\n",
       "   759368.6,\n",
       "   772031.7,\n",
       "   794750.8,\n",
       "   807518.2,\n",
       "   813845.5,\n",
       "   1005261.9,\n",
       "   1027007.5,\n",
       "   1030040.7,\n",
       "   1052924.7,\n",
       "   1062276.6,\n",
       "   1078120.8,\n",
       "   1087985.4,\n",
       "   1097232.9,\n",
       "   1113589.9,\n",
       "   1123054.7,\n",
       "   1135822.1,\n",
       "   1155273.1,\n",
       "   1158436.7,\n",
       "   1174698.2,\n",
       "   1190690.1,\n",
       "   1200337.4,\n",
       "   1209741.4,\n",
       "   1232086.6,\n",
       "   1418340.4,\n",
       "   1437009.3,\n",
       "   1449394.4,\n",
       "   1462187.9,\n",
       "   1474686.0,\n",
       "   1481143.6,\n",
       "   1496961.7,\n",
       "   1510154.9,\n",
       "   1516638.6,\n",
       "   1539001.3,\n",
       "   1548605.2,\n",
       "   1554975.8,\n",
       "   1574088.0,\n",
       "   1590062.5,\n",
       "   1599666.4,\n",
       "   1609496.1,\n",
       "   1625375.1,\n",
       "   1638412.1]}]"
      ]
     },
     "execution_count": 242,
     "metadata": {},
     "output_type": "execute_result"
    }
   ],
   "source": [
    "unique_stimuli"
   ]
  },
  {
   "cell_type": "code",
   "execution_count": 6,
   "metadata": {},
   "outputs": [
    {
     "name": "stdout",
     "output_type": "stream",
     "text": [
      "\n",
      "~~ Loading Timestamps ~~\n",
      "Trying to load timestamp data from hdf5 file.\n",
      "Success.\n",
      "Duration: 73.78 ms\n"
     ]
    }
   ],
   "source": [
    "timestamps = load_timestamps(folder)"
   ]
  },
  {
   "cell_type": "code",
   "execution_count": 7,
   "metadata": {
    "collapsed": true
   },
   "outputs": [],
   "source": [
    "zbrain_file = os.path.join(folder, 'brain_zscored_green.nii')\n",
    "brain = load_numpy_brain(zbrain_file)"
   ]
  },
  {
   "cell_type": "code",
   "execution_count": 8,
   "metadata": {
    "collapsed": true
   },
   "outputs": [],
   "source": [
    "dims = get_dims(brain)"
   ]
  },
  {
   "cell_type": "code",
   "execution_count": 9,
   "metadata": {},
   "outputs": [
    {
     "data": {
      "text/plain": [
       "(129, 80, 51, 4493)"
      ]
     },
     "execution_count": 9,
     "metadata": {},
     "output_type": "execute_result"
    }
   ],
   "source": [
    "brain.shape"
   ]
  },
  {
   "cell_type": "code",
   "execution_count": null,
   "metadata": {
    "collapsed": true
   },
   "outputs": [],
   "source": [
    "# y=Xb\n",
    "# y is a vector of a voxel's activity\n",
    "# X is a toeplitz of when a stimulus occurs\n",
    "\n",
    "\n",
    "# Each stim gets 20 bins, each bin is 100ms wide.\n",
    "# bins start 500ms before stim, last 1000ms of stim, and 500ms at end\n",
    "# For each stim, go through a voxel's activity and put in appropriate bin based on timestamps\n",
    "# If 72 presentations, that is 72000ms of \"ON\" and if 400ms imaging rate, that is 72000/400 = 180 timepoints\n",
    "# with 18 timepoints per 100ms bin. Then use that for GLM. That might work."
   ]
  },
  {
   "cell_type": "code",
   "execution_count": 115,
   "metadata": {
    "collapsed": true
   },
   "outputs": [],
   "source": [
    "y=0\n",
    "x=0\n",
    "z=0\n",
    "voxel_activity = brain[y,x,z,:]\n",
    "voxel_times = timestamps[:,z]"
   ]
  },
  {
   "cell_type": "code",
   "execution_count": null,
   "metadata": {},
   "outputs": [],
   "source": [
    "times[-1]"
   ]
  },
  {
   "cell_type": "code",
   "execution_count": 22,
   "metadata": {},
   "outputs": [
    {
     "data": {
      "text/plain": [
       "4493"
      ]
     },
     "execution_count": 22,
     "metadata": {},
     "output_type": "execute_result"
    }
   ],
   "source": [
    "len(voxel_activity)"
   ]
  },
  {
   "cell_type": "code",
   "execution_count": 220,
   "metadata": {},
   "outputs": [
    {
     "data": {
      "text/plain": [
       "0"
      ]
     },
     "execution_count": 220,
     "metadata": {},
     "output_type": "execute_result"
    }
   ],
   "source": [
    "len(unique_stimuli[0]['times'])"
   ]
  },
  {
   "cell_type": "code",
   "execution_count": 119,
   "metadata": {},
   "outputs": [
    {
     "data": {
      "text/plain": [
       "180"
      ]
     },
     "execution_count": 119,
     "metadata": {},
     "output_type": "execute_result"
    }
   ],
   "source": [
    "unique_stimuli[0]['angle']"
   ]
  },
  {
   "cell_type": "code",
   "execution_count": null,
   "metadata": {
    "collapsed": true
   },
   "outputs": [],
   "source": []
  },
  {
   "cell_type": "code",
   "execution_count": 111,
   "metadata": {},
   "outputs": [],
   "source": [
    "bin_size = 100 #in ms\n",
    "pre_dur = -500 #in ms\n",
    "post_dur = 1500 #in ms\n",
    "\n",
    "bins = create_bins(bin_size,pre_dur,post_dur)\n",
    "stimuli_times = unique_stimuli[0]['times']\n",
    "\n",
    "for z in range(dims['z']):\n",
    "\n",
    "        ### Printing updates ###\n",
    "        if z == dims['z']-1:\n",
    "            print('{}.'.format(z))\n",
    "            sys.stdout.flush()\n",
    "        else:\n",
    "            print('{}, '.format(z), end = '')\n",
    "            sys.stdout.flush()\n",
    "\n",
    "        voxel_times = timestamps[:,z]\n",
    "        X = create_visual_X(stimuli_times, voxel_times, bins)\n",
    "        \n",
    "        for x in range(dims['x']):\n",
    "            for y in range(dims['y']):\n",
    "                Y = brain[y,x,z,:]\n",
    "                model = LassoLarsIC(criterion='bic')\n",
    "                model.fit(X, Y)\n",
    "                betas.append(model.coef_)\n",
    "                scores.append(model.score(X,Y))\n",
    "    scores = np.reshape(scores, (dims['z'], dims['x'], dims['y']))\n",
    "    betas = np.reshape(betas, (dims['z'], dims['x'], dims['y'], beta_len))\n",
    "    return scores, betas"
   ]
  },
  {
   "cell_type": "code",
   "execution_count": 116,
   "metadata": {},
   "outputs": [],
   "source": [
    "bins = create_bins(bin_size,pre_dur,post_dur)\n",
    "stimuli_times = unique_stimuli[0]['times']\n",
    "X = create_visual_X(stimuli_times, voxel_times, bins)"
   ]
  },
  {
   "cell_type": "code",
   "execution_count": 113,
   "metadata": {},
   "outputs": [],
   "source": [
    "def create_bins(bin_size,pre_dur,post_dur):\n",
    "    bins_pre = np.flip(np.arange(0,pre_dur-1,-bin_size),axis=0)\n",
    "    bins_post = np.arange(0,post_dur+1,bin_size)\n",
    "    bins = np.unique(np.concatenate((bins_pre, bins_post)))\n",
    "    return bins\n",
    "\n",
    "def create_visual_X(stimuli_times, voxel_times, bins):\n",
    "    ### Get vector that assigns voxel activities to bins ###\n",
    "    # Create real-time bins for each stimulus presentation\n",
    "    time_bins = np.add.outer(stimuli_times,bins)\n",
    "    time_bins_flat = np.reshape(time_bins,time_bins.shape[0]*time_bins.shape[1])\n",
    "    # Find which bin each voxel timestamp belongs to\n",
    "    binned = np.searchsorted(time_bins_flat, voxel_times)\n",
    "    # The mod will give numbers that match bin numbers\n",
    "    bin_mod = binned%21\n",
    "\n",
    "    ### Use bin vector to create X matrix ###\n",
    "    X = np.zeros((len(bin_mod), len(bins)))\n",
    "    # This is used to correct index into X\n",
    "    axis = np.arange(0,len(bin_mod))\n",
    "    # For each row of X, put a 1 in the correct column (bin) if that row gets one\n",
    "    X[axis,bin_mod] = 1\n",
    "    # Remove first column, which is nonsense\n",
    "    X = X[:,1:]\n",
    "    return X"
   ]
  },
  {
   "cell_type": "code",
   "execution_count": 117,
   "metadata": {},
   "outputs": [
    {
     "data": {
      "text/plain": [
       "360.0"
      ]
     },
     "execution_count": 117,
     "metadata": {},
     "output_type": "execute_result"
    }
   ],
   "source": [
    "np.sum(X)"
   ]
  },
  {
   "cell_type": "code",
   "execution_count": 78,
   "metadata": {},
   "outputs": [],
   "source": [
    "#binned_activity = npi.group_by(bin_mod, voxel_activity)[1][1:]"
   ]
  },
  {
   "cell_type": "code",
   "execution_count": 79,
   "metadata": {},
   "outputs": [
    {
     "data": {
      "text/plain": [
       "(4493, 20)"
      ]
     },
     "execution_count": 79,
     "metadata": {},
     "output_type": "execute_result"
    }
   ],
   "source": [
    "X.shape"
   ]
  },
  {
   "cell_type": "code",
   "execution_count": 88,
   "metadata": {},
   "outputs": [
    {
     "data": {
      "text/plain": [
       "360.0"
      ]
     },
     "execution_count": 88,
     "metadata": {},
     "output_type": "execute_result"
    }
   ],
   "source": [
    "np.sum(X)"
   ]
  },
  {
   "cell_type": "code",
   "execution_count": 95,
   "metadata": {},
   "outputs": [
    {
     "data": {
      "text/plain": [
       "360"
      ]
     },
     "execution_count": 95,
     "metadata": {},
     "output_type": "execute_result"
    }
   ],
   "source": [
    "np.sum(bin_mod>0)"
   ]
  },
  {
   "cell_type": "code",
   "execution_count": null,
   "metadata": {
    "collapsed": true
   },
   "outputs": [],
   "source": []
  },
  {
   "cell_type": "code",
   "execution_count": null,
   "metadata": {
    "collapsed": true
   },
   "outputs": [],
   "source": []
  },
  {
   "cell_type": "code",
   "execution_count": null,
   "metadata": {
    "collapsed": true
   },
   "outputs": [],
   "source": []
  },
  {
   "cell_type": "code",
   "execution_count": null,
   "metadata": {
    "collapsed": true
   },
   "outputs": [],
   "source": []
  },
  {
   "cell_type": "code",
   "execution_count": null,
   "metadata": {
    "collapsed": true
   },
   "outputs": [],
   "source": []
  },
  {
   "cell_type": "code",
   "execution_count": null,
   "metadata": {
    "collapsed": true
   },
   "outputs": [],
   "source": []
  },
  {
   "cell_type": "code",
   "execution_count": 253,
   "metadata": {},
   "outputs": [
    {
     "data": {
      "text/plain": [
       "21"
      ]
     },
     "execution_count": 253,
     "metadata": {},
     "output_type": "execute_result"
    }
   ],
   "source": [
    "len(bins)"
   ]
  },
  {
   "cell_type": "code",
   "execution_count": 244,
   "metadata": {},
   "outputs": [
    {
     "name": "stdout",
     "output_type": "stream",
     "text": [
      "23\n",
      "16\n",
      "18\n",
      "15\n",
      "23\n",
      "16\n",
      "17\n",
      "16\n",
      "23\n",
      "15\n",
      "18\n",
      "16\n",
      "23\n",
      "15\n",
      "18\n",
      "16\n",
      "23\n",
      "15\n",
      "18\n",
      "16\n"
     ]
    }
   ],
   "source": [
    "for i in range(20):\n",
    "    print(len(binned_activity[i]))"
   ]
  },
  {
   "cell_type": "code",
   "execution_count": 254,
   "metadata": {
    "collapsed": true
   },
   "outputs": [],
   "source": [
    "row = np.zeros(len(bins)-1)\n",
    "row[0] = 1\n",
    "X = toeplitz(row)\n",
    "X = np.tile(X,(num_voxel_to_avg,1))"
   ]
  },
  {
   "cell_type": "code",
   "execution_count": 255,
   "metadata": {},
   "outputs": [
    {
     "data": {
      "text/plain": [
       "array([[1., 0., 0., 0., 0., 0., 0., 0., 0., 0., 0., 0., 0., 0., 0., 0.,\n",
       "        0., 0., 0., 0.],\n",
       "       [0., 1., 0., 0., 0., 0., 0., 0., 0., 0., 0., 0., 0., 0., 0., 0.,\n",
       "        0., 0., 0., 0.],\n",
       "       [0., 0., 1., 0., 0., 0., 0., 0., 0., 0., 0., 0., 0., 0., 0., 0.,\n",
       "        0., 0., 0., 0.],\n",
       "       [0., 0., 0., 1., 0., 0., 0., 0., 0., 0., 0., 0., 0., 0., 0., 0.,\n",
       "        0., 0., 0., 0.],\n",
       "       [0., 0., 0., 0., 1., 0., 0., 0., 0., 0., 0., 0., 0., 0., 0., 0.,\n",
       "        0., 0., 0., 0.],\n",
       "       [0., 0., 0., 0., 0., 1., 0., 0., 0., 0., 0., 0., 0., 0., 0., 0.,\n",
       "        0., 0., 0., 0.],\n",
       "       [0., 0., 0., 0., 0., 0., 1., 0., 0., 0., 0., 0., 0., 0., 0., 0.,\n",
       "        0., 0., 0., 0.],\n",
       "       [0., 0., 0., 0., 0., 0., 0., 1., 0., 0., 0., 0., 0., 0., 0., 0.,\n",
       "        0., 0., 0., 0.],\n",
       "       [0., 0., 0., 0., 0., 0., 0., 0., 1., 0., 0., 0., 0., 0., 0., 0.,\n",
       "        0., 0., 0., 0.],\n",
       "       [0., 0., 0., 0., 0., 0., 0., 0., 0., 1., 0., 0., 0., 0., 0., 0.,\n",
       "        0., 0., 0., 0.],\n",
       "       [0., 0., 0., 0., 0., 0., 0., 0., 0., 0., 1., 0., 0., 0., 0., 0.,\n",
       "        0., 0., 0., 0.],\n",
       "       [0., 0., 0., 0., 0., 0., 0., 0., 0., 0., 0., 1., 0., 0., 0., 0.,\n",
       "        0., 0., 0., 0.],\n",
       "       [0., 0., 0., 0., 0., 0., 0., 0., 0., 0., 0., 0., 1., 0., 0., 0.,\n",
       "        0., 0., 0., 0.],\n",
       "       [0., 0., 0., 0., 0., 0., 0., 0., 0., 0., 0., 0., 0., 1., 0., 0.,\n",
       "        0., 0., 0., 0.],\n",
       "       [0., 0., 0., 0., 0., 0., 0., 0., 0., 0., 0., 0., 0., 0., 1., 0.,\n",
       "        0., 0., 0., 0.],\n",
       "       [0., 0., 0., 0., 0., 0., 0., 0., 0., 0., 0., 0., 0., 0., 0., 1.,\n",
       "        0., 0., 0., 0.],\n",
       "       [0., 0., 0., 0., 0., 0., 0., 0., 0., 0., 0., 0., 0., 0., 0., 0.,\n",
       "        1., 0., 0., 0.],\n",
       "       [0., 0., 0., 0., 0., 0., 0., 0., 0., 0., 0., 0., 0., 0., 0., 0.,\n",
       "        0., 1., 0., 0.],\n",
       "       [0., 0., 0., 0., 0., 0., 0., 0., 0., 0., 0., 0., 0., 0., 0., 0.,\n",
       "        0., 0., 1., 0.],\n",
       "       [0., 0., 0., 0., 0., 0., 0., 0., 0., 0., 0., 0., 0., 0., 0., 0.,\n",
       "        0., 0., 0., 1.]])"
      ]
     },
     "execution_count": 255,
     "metadata": {},
     "output_type": "execute_result"
    }
   ],
   "source": [
    "X"
   ]
  },
  {
   "cell_type": "code",
   "execution_count": null,
   "metadata": {
    "collapsed": true
   },
   "outputs": [],
   "source": []
  },
  {
   "cell_type": "code",
   "execution_count": 216,
   "metadata": {},
   "outputs": [
    {
     "data": {
      "text/plain": [
       "array([], shape=(0, 4493), dtype=float64)"
      ]
     },
     "execution_count": 216,
     "metadata": {},
     "output_type": "execute_result"
    }
   ],
   "source": [
    "binned_activity"
   ]
  },
  {
   "cell_type": "code",
   "execution_count": null,
   "metadata": {
    "collapsed": true
   },
   "outputs": [],
   "source": []
  },
  {
   "cell_type": "code",
   "execution_count": 160,
   "metadata": {},
   "outputs": [
    {
     "data": {
      "text/plain": [
       "8.533333333333333"
      ]
     },
     "execution_count": 160,
     "metadata": {},
     "output_type": "execute_result"
    }
   ],
   "source": [
    "80*128*50/1000/60"
   ]
  },
  {
   "cell_type": "code",
   "execution_count": 134,
   "metadata": {},
   "outputs": [
    {
     "ename": "TypeError",
     "evalue": "unhashable type: 'numpy.ndarray'",
     "output_type": "error",
     "traceback": [
      "\u001b[0;31m---------------------------------------------------------------------------\u001b[0m",
      "\u001b[0;31mTypeError\u001b[0m                                 Traceback (most recent call last)",
      "\u001b[0;32m<ipython-input-134-2883446c6270>\u001b[0m in \u001b[0;36m<module>\u001b[0;34m()\u001b[0m\n\u001b[0;32m----> 1\u001b[0;31m \u001b[0mtest\u001b[0m \u001b[0;34m=\u001b[0m \u001b[0;34m{\u001b[0m\u001b[0mvoxel_activity\u001b[0m\u001b[0;34m:\u001b[0m \u001b[0mbin_mod\u001b[0m\u001b[0;34m}\u001b[0m\u001b[0;34m\u001b[0m\u001b[0m\n\u001b[0m",
      "\u001b[0;31mTypeError\u001b[0m: unhashable type: 'numpy.ndarray'"
     ]
    }
   ],
   "source": [
    "test = {voxel_activity: bin_mod}"
   ]
  },
  {
   "cell_type": "code",
   "execution_count": 135,
   "metadata": {},
   "outputs": [
    {
     "data": {
      "text/plain": [
       "[0, 0, 0, 0, 0, 1, 0, 0, 2, 2, 0, 1, 1, 0, 0, 0]"
      ]
     },
     "execution_count": 135,
     "metadata": {},
     "output_type": "execute_result"
    }
   ],
   "source": [
    "[0,0,0,0,0,1,0,0,2,2,0,1,1,0,0,0]"
   ]
  },
  {
   "cell_type": "code",
   "execution_count": 136,
   "metadata": {},
   "outputs": [
    {
     "ename": "ValueError",
     "evalue": "either both or neither of x and y should be given",
     "output_type": "error",
     "traceback": [
      "\u001b[0;31m---------------------------------------------------------------------------\u001b[0m",
      "\u001b[0;31mValueError\u001b[0m                                Traceback (most recent call last)",
      "\u001b[0;32m<ipython-input-136-7ced3618c549>\u001b[0m in \u001b[0;36m<module>\u001b[0;34m()\u001b[0m\n\u001b[0;32m----> 1\u001b[0;31m \u001b[0mnp\u001b[0m\u001b[0;34m.\u001b[0m\u001b[0mwhere\u001b[0m\u001b[0;34m(\u001b[0m\u001b[0mvoxel_activity\u001b[0m\u001b[0;34m,\u001b[0m \u001b[0mbin_mod\u001b[0m\u001b[0;34m)\u001b[0m\u001b[0;34m\u001b[0m\u001b[0m\n\u001b[0m",
      "\u001b[0;31mValueError\u001b[0m: either both or neither of x and y should be given"
     ]
    }
   ],
   "source": [
    "np.where(voxel_activity, bin_mod)"
   ]
  },
  {
   "cell_type": "code",
   "execution_count": 142,
   "metadata": {},
   "outputs": [
    {
     "name": "stdout",
     "output_type": "stream",
     "text": [
      "0.0023462772369384766\n"
     ]
    }
   ],
   "source": [
    "t0= time()\n",
    "[x for i,x in enumerate(voxel_activity) if bin_mod[i] == 1]\n",
    "print(time()-t0)"
   ]
  },
  {
   "cell_type": "code",
   "execution_count": 158,
   "metadata": {},
   "outputs": [
    {
     "name": "stdout",
     "output_type": "stream",
     "text": [
      "0.0008833408355712891\n"
     ]
    }
   ],
   "source": [
    "t0=time()\n",
    "test = npi.group_by(bin_mod, voxel_activity)[1]\n",
    "print(time()-t0)"
   ]
  },
  {
   "cell_type": "code",
   "execution_count": 184,
   "metadata": {},
   "outputs": [
    {
     "data": {
      "text/plain": [
       "16"
      ]
     },
     "execution_count": 184,
     "metadata": {},
     "output_type": "execute_result"
    }
   ],
   "source": [
    "len(test[1][20])"
   ]
  },
  {
   "cell_type": "code",
   "execution_count": null,
   "metadata": {
    "collapsed": true
   },
   "outputs": [],
   "source": []
  },
  {
   "cell_type": "code",
   "execution_count": 133,
   "metadata": {},
   "outputs": [
    {
     "ename": "IndexError",
     "evalue": "arrays used as indices must be of integer (or boolean) type",
     "output_type": "error",
     "traceback": [
      "\u001b[0;31m---------------------------------------------------------------------------\u001b[0m",
      "\u001b[0;31mIndexError\u001b[0m                                Traceback (most recent call last)",
      "\u001b[0;32m<ipython-input-133-2c16ae3ce71d>\u001b[0m in \u001b[0;36m<module>\u001b[0;34m()\u001b[0m\n\u001b[0;32m----> 1\u001b[0;31m \u001b[0mbin_mod\u001b[0m\u001b[0;34m[\u001b[0m\u001b[0mvoxel_activity\u001b[0m\u001b[0;34m]\u001b[0m\u001b[0;34m\u001b[0m\u001b[0m\n\u001b[0m",
      "\u001b[0;31mIndexError\u001b[0m: arrays used as indices must be of integer (or boolean) type"
     ]
    }
   ],
   "source": [
    "bin_mod[voxel_activity]"
   ]
  },
  {
   "cell_type": "code",
   "execution_count": 129,
   "metadata": {},
   "outputs": [
    {
     "data": {
      "text/plain": [
       "array([0, 0, 0, ..., 0, 0, 0])"
      ]
     },
     "execution_count": 129,
     "metadata": {},
     "output_type": "execute_result"
    }
   ],
   "source": [
    "binned_activity = bin_mod"
   ]
  },
  {
   "cell_type": "code",
   "execution_count": 48,
   "metadata": {},
   "outputs": [
    {
     "name": "stdout",
     "output_type": "stream",
     "text": [
      "0.00010919570922851562\n"
     ]
    }
   ],
   "source": [
    "t0 = time()\n",
    "bin_set = bins+unique_stimuli[0]['times'][0]\n",
    "#[x for x in np.searchsorted(bin_set, times) if x > 0 and x < 21]\n",
    "print(time()-t0)"
   ]
  },
  {
   "cell_type": "code",
   "execution_count": 57,
   "metadata": {},
   "outputs": [
    {
     "name": "stdout",
     "output_type": "stream",
     "text": [
      "0.00013256072998046875\n"
     ]
    }
   ],
   "source": [
    "t0=time()\n",
    "time_bins = np.add.outer(unique_stimuli[0]['times'],bins)\n",
    "print(time()-t0)"
   ]
  },
  {
   "cell_type": "code",
   "execution_count": 53,
   "metadata": {},
   "outputs": [
    {
     "data": {
      "text/plain": [
       "52.4139404296875"
      ]
     },
     "execution_count": 53,
     "metadata": {},
     "output_type": "execute_result"
    }
   ],
   "source": [
    "(0.00010919570922851562)*120*50*80"
   ]
  },
  {
   "cell_type": "code",
   "execution_count": 66,
   "metadata": {
    "collapsed": true
   },
   "outputs": [],
   "source": [
    "time_bins_flat = np.reshape(time_bins,time_bins.shape[0]*time_bins.shape[1])"
   ]
  },
  {
   "cell_type": "code",
   "execution_count": 99,
   "metadata": {},
   "outputs": [
    {
     "name": "stdout",
     "output_type": "stream",
     "text": [
      "0.0003504753112792969\n"
     ]
    }
   ],
   "source": [
    "t0=time()\n",
    "binned = np.searchsorted(time_bins_flat, times)\n",
    "print(time()-t0)"
   ]
  },
  {
   "cell_type": "code",
   "execution_count": 124,
   "metadata": {},
   "outputs": [
    {
     "name": "stdout",
     "output_type": "stream",
     "text": [
      "0.0009832382202148438\n"
     ]
    }
   ],
   "source": [
    "t0=time()\n",
    "bin_mod = binned%21\n",
    "test = [x for x in bin_mod if x>0]\n",
    "print(time()-t0)"
   ]
  },
  {
   "cell_type": "code",
   "execution_count": null,
   "metadata": {
    "collapsed": true
   },
   "outputs": [],
   "source": []
  },
  {
   "cell_type": "code",
   "execution_count": 119,
   "metadata": {},
   "outputs": [
    {
     "data": {
      "text/plain": [
       "[1,\n",
       " 5,\n",
       " 9,\n",
       " 13,\n",
       " 17,\n",
       " 2,\n",
       " 6,\n",
       " 11,\n",
       " 15,\n",
       " 19,\n",
       " 3,\n",
       " 7,\n",
       " 11,\n",
       " 15,\n",
       " 19,\n",
       " 4,\n",
       " 8,\n",
       " 12,\n",
       " 16,\n",
       " 20,\n",
       " 4,\n",
       " 8,\n",
       " 12,\n",
       " 16,\n",
       " 20,\n",
       " 1,\n",
       " 5,\n",
       " 9,\n",
       " 13,\n",
       " 17,\n",
       " 1,\n",
       " 5,\n",
       " 9,\n",
       " 13,\n",
       " 17,\n",
       " 1,\n",
       " 5,\n",
       " 9,\n",
       " 13,\n",
       " 17,\n",
       " 1,\n",
       " 5,\n",
       " 9,\n",
       " 13,\n",
       " 17,\n",
       " 4,\n",
       " 8,\n",
       " 12,\n",
       " 16,\n",
       " 20,\n",
       " 1,\n",
       " 5,\n",
       " 9,\n",
       " 13,\n",
       " 17,\n",
       " 2,\n",
       " 6,\n",
       " 10,\n",
       " 14,\n",
       " 18,\n",
       " 2,\n",
       " 6,\n",
       " 10,\n",
       " 14,\n",
       " 18,\n",
       " 3,\n",
       " 7,\n",
       " 11,\n",
       " 15,\n",
       " 19,\n",
       " 2,\n",
       " 6,\n",
       " 10,\n",
       " 14,\n",
       " 18,\n",
       " 3,\n",
       " 7,\n",
       " 11,\n",
       " 15,\n",
       " 19,\n",
       " 1,\n",
       " 5,\n",
       " 9,\n",
       " 13,\n",
       " 17,\n",
       " 1,\n",
       " 5,\n",
       " 9,\n",
       " 13,\n",
       " 17,\n",
       " 1,\n",
       " 5,\n",
       " 9,\n",
       " 13,\n",
       " 17,\n",
       " 1,\n",
       " 5,\n",
       " 9,\n",
       " 13,\n",
       " 17,\n",
       " 1,\n",
       " 5,\n",
       " 9,\n",
       " 13,\n",
       " 17,\n",
       " 2,\n",
       " 6,\n",
       " 10,\n",
       " 14,\n",
       " 18,\n",
       " 2,\n",
       " 6,\n",
       " 10,\n",
       " 14,\n",
       " 18,\n",
       " 3,\n",
       " 7,\n",
       " 11,\n",
       " 15,\n",
       " 19,\n",
       " 4,\n",
       " 8,\n",
       " 12,\n",
       " 16,\n",
       " 20,\n",
       " 3,\n",
       " 7,\n",
       " 11,\n",
       " 15,\n",
       " 19,\n",
       " 2,\n",
       " 6,\n",
       " 10,\n",
       " 14,\n",
       " 18,\n",
       " 2,\n",
       " 6,\n",
       " 10,\n",
       " 14,\n",
       " 18,\n",
       " 4,\n",
       " 8,\n",
       " 12,\n",
       " 16,\n",
       " 20,\n",
       " 4,\n",
       " 8,\n",
       " 12,\n",
       " 16,\n",
       " 20,\n",
       " 2,\n",
       " 6,\n",
       " 10,\n",
       " 14,\n",
       " 18,\n",
       " 3,\n",
       " 7,\n",
       " 11,\n",
       " 15,\n",
       " 19,\n",
       " 4,\n",
       " 8,\n",
       " 12,\n",
       " 16,\n",
       " 20,\n",
       " 2,\n",
       " 6,\n",
       " 10,\n",
       " 14,\n",
       " 18,\n",
       " 1,\n",
       " 5,\n",
       " 9,\n",
       " 13,\n",
       " 17,\n",
       " 4,\n",
       " 8,\n",
       " 12,\n",
       " 16,\n",
       " 20,\n",
       " 3,\n",
       " 7,\n",
       " 11,\n",
       " 15,\n",
       " 19,\n",
       " 4,\n",
       " 8,\n",
       " 12,\n",
       " 16,\n",
       " 20,\n",
       " 2,\n",
       " 6,\n",
       " 10,\n",
       " 14,\n",
       " 18,\n",
       " 4,\n",
       " 8,\n",
       " 12,\n",
       " 16,\n",
       " 20,\n",
       " 1,\n",
       " 5,\n",
       " 9,\n",
       " 13,\n",
       " 17,\n",
       " 2,\n",
       " 6,\n",
       " 10,\n",
       " 14,\n",
       " 18,\n",
       " 1,\n",
       " 5,\n",
       " 9,\n",
       " 13,\n",
       " 17,\n",
       " 3,\n",
       " 7,\n",
       " 11,\n",
       " 15,\n",
       " 19,\n",
       " 2,\n",
       " 6,\n",
       " 10,\n",
       " 14,\n",
       " 18,\n",
       " 3,\n",
       " 8,\n",
       " 12,\n",
       " 16,\n",
       " 20,\n",
       " 2,\n",
       " 6,\n",
       " 10,\n",
       " 14,\n",
       " 18,\n",
       " 1,\n",
       " 5,\n",
       " 9,\n",
       " 13,\n",
       " 17,\n",
       " 4,\n",
       " 8,\n",
       " 12,\n",
       " 16,\n",
       " 20,\n",
       " 4,\n",
       " 8,\n",
       " 12,\n",
       " 16,\n",
       " 20,\n",
       " 1,\n",
       " 5,\n",
       " 9,\n",
       " 13,\n",
       " 17,\n",
       " 4,\n",
       " 8,\n",
       " 12,\n",
       " 16,\n",
       " 20,\n",
       " 3,\n",
       " 7,\n",
       " 11,\n",
       " 15,\n",
       " 19,\n",
       " 1,\n",
       " 5,\n",
       " 9,\n",
       " 13,\n",
       " 17,\n",
       " 1,\n",
       " 5,\n",
       " 9,\n",
       " 13,\n",
       " 17,\n",
       " 3,\n",
       " 7,\n",
       " 11,\n",
       " 15,\n",
       " 19,\n",
       " 2,\n",
       " 6,\n",
       " 10,\n",
       " 14,\n",
       " 18,\n",
       " 1,\n",
       " 5,\n",
       " 9,\n",
       " 13,\n",
       " 17,\n",
       " 2,\n",
       " 6,\n",
       " 10,\n",
       " 14,\n",
       " 18,\n",
       " 1,\n",
       " 5,\n",
       " 9,\n",
       " 13,\n",
       " 17,\n",
       " 3,\n",
       " 7,\n",
       " 11,\n",
       " 15,\n",
       " 19,\n",
       " 3,\n",
       " 7,\n",
       " 11,\n",
       " 15,\n",
       " 19,\n",
       " 3,\n",
       " 7,\n",
       " 11,\n",
       " 15,\n",
       " 19,\n",
       " 3,\n",
       " 7,\n",
       " 11,\n",
       " 15,\n",
       " 19,\n",
       " 3,\n",
       " 7,\n",
       " 11,\n",
       " 15,\n",
       " 19,\n",
       " 3,\n",
       " 7,\n",
       " 11,\n",
       " 15,\n",
       " 19,\n",
       " 1,\n",
       " 5,\n",
       " 9,\n",
       " 13,\n",
       " 17,\n",
       " 4,\n",
       " 8,\n",
       " 12,\n",
       " 16,\n",
       " 20,\n",
       " 3,\n",
       " 7,\n",
       " 11,\n",
       " 15,\n",
       " 19,\n",
       " 4,\n",
       " 8,\n",
       " 12,\n",
       " 16,\n",
       " 20,\n",
       " 1,\n",
       " 5,\n",
       " 9,\n",
       " 13,\n",
       " 17,\n",
       " 1,\n",
       " 5,\n",
       " 9,\n",
       " 13,\n",
       " 17]"
      ]
     },
     "execution_count": 119,
     "metadata": {},
     "output_type": "execute_result"
    }
   ],
   "source": [
    "test"
   ]
  },
  {
   "cell_type": "code",
   "execution_count": null,
   "metadata": {
    "collapsed": true
   },
   "outputs": [],
   "source": []
  },
  {
   "cell_type": "code",
   "execution_count": null,
   "metadata": {
    "collapsed": true
   },
   "outputs": [],
   "source": []
  },
  {
   "cell_type": "code",
   "execution_count": null,
   "metadata": {
    "collapsed": true
   },
   "outputs": [],
   "source": []
  },
  {
   "cell_type": "code",
   "execution_count": 76,
   "metadata": {
    "collapsed": true
   },
   "outputs": [
    {
     "ename": "ValueError",
     "evalue": "cannot reshape array of size 4493 into shape (72,21)",
     "output_type": "error",
     "traceback": [
      "\u001b[0;31m---------------------------------------------------------------------------\u001b[0m",
      "\u001b[0;31mValueError\u001b[0m                                Traceback (most recent call last)",
      "\u001b[0;32m<ipython-input-76-76b29d94e366>\u001b[0m in \u001b[0;36m<module>\u001b[0;34m()\u001b[0m\n\u001b[0;32m----> 1\u001b[0;31m \u001b[0mbinned\u001b[0m \u001b[0;34m=\u001b[0m \u001b[0mnp\u001b[0m\u001b[0;34m.\u001b[0m\u001b[0mreshape\u001b[0m\u001b[0;34m(\u001b[0m\u001b[0mbinned\u001b[0m\u001b[0;34m,\u001b[0m \u001b[0;34m(\u001b[0m\u001b[0mtime_bins\u001b[0m\u001b[0;34m.\u001b[0m\u001b[0mshape\u001b[0m\u001b[0;34m[\u001b[0m\u001b[0;36m0\u001b[0m\u001b[0;34m]\u001b[0m\u001b[0;34m,\u001b[0m\u001b[0mtime_bins\u001b[0m\u001b[0;34m.\u001b[0m\u001b[0mshape\u001b[0m\u001b[0;34m[\u001b[0m\u001b[0;36m1\u001b[0m\u001b[0;34m]\u001b[0m\u001b[0;34m)\u001b[0m\u001b[0;34m)\u001b[0m\u001b[0;34m\u001b[0m\u001b[0m\n\u001b[0m",
      "\u001b[0;32m/share/software/user/open/py-numpy/1.14.3_py36/lib/python3.6/site-packages/numpy/core/fromnumeric.py\u001b[0m in \u001b[0;36mreshape\u001b[0;34m(a, newshape, order)\u001b[0m\n\u001b[1;32m    255\u001b[0m            [5, 6]])\n\u001b[1;32m    256\u001b[0m     \"\"\"\n\u001b[0;32m--> 257\u001b[0;31m     \u001b[0;32mreturn\u001b[0m \u001b[0m_wrapfunc\u001b[0m\u001b[0;34m(\u001b[0m\u001b[0ma\u001b[0m\u001b[0;34m,\u001b[0m \u001b[0;34m'reshape'\u001b[0m\u001b[0;34m,\u001b[0m \u001b[0mnewshape\u001b[0m\u001b[0;34m,\u001b[0m \u001b[0morder\u001b[0m\u001b[0;34m=\u001b[0m\u001b[0morder\u001b[0m\u001b[0;34m)\u001b[0m\u001b[0;34m\u001b[0m\u001b[0m\n\u001b[0m\u001b[1;32m    258\u001b[0m \u001b[0;34m\u001b[0m\u001b[0m\n\u001b[1;32m    259\u001b[0m \u001b[0;34m\u001b[0m\u001b[0m\n",
      "\u001b[0;32m/share/software/user/open/py-numpy/1.14.3_py36/lib/python3.6/site-packages/numpy/core/fromnumeric.py\u001b[0m in \u001b[0;36m_wrapfunc\u001b[0;34m(obj, method, *args, **kwds)\u001b[0m\n\u001b[1;32m     50\u001b[0m \u001b[0;32mdef\u001b[0m \u001b[0m_wrapfunc\u001b[0m\u001b[0;34m(\u001b[0m\u001b[0mobj\u001b[0m\u001b[0;34m,\u001b[0m \u001b[0mmethod\u001b[0m\u001b[0;34m,\u001b[0m \u001b[0;34m*\u001b[0m\u001b[0margs\u001b[0m\u001b[0;34m,\u001b[0m \u001b[0;34m**\u001b[0m\u001b[0mkwds\u001b[0m\u001b[0;34m)\u001b[0m\u001b[0;34m:\u001b[0m\u001b[0;34m\u001b[0m\u001b[0m\n\u001b[1;32m     51\u001b[0m     \u001b[0;32mtry\u001b[0m\u001b[0;34m:\u001b[0m\u001b[0;34m\u001b[0m\u001b[0m\n\u001b[0;32m---> 52\u001b[0;31m         \u001b[0;32mreturn\u001b[0m \u001b[0mgetattr\u001b[0m\u001b[0;34m(\u001b[0m\u001b[0mobj\u001b[0m\u001b[0;34m,\u001b[0m \u001b[0mmethod\u001b[0m\u001b[0;34m)\u001b[0m\u001b[0;34m(\u001b[0m\u001b[0;34m*\u001b[0m\u001b[0margs\u001b[0m\u001b[0;34m,\u001b[0m \u001b[0;34m**\u001b[0m\u001b[0mkwds\u001b[0m\u001b[0;34m)\u001b[0m\u001b[0;34m\u001b[0m\u001b[0m\n\u001b[0m\u001b[1;32m     53\u001b[0m \u001b[0;34m\u001b[0m\u001b[0m\n\u001b[1;32m     54\u001b[0m     \u001b[0;31m# An AttributeError occurs if the object does not have\u001b[0m\u001b[0;34m\u001b[0m\u001b[0;34m\u001b[0m\u001b[0m\n",
      "\u001b[0;31mValueError\u001b[0m: cannot reshape array of size 4493 into shape (72,21)"
     ]
    }
   ],
   "source": [
    "\n",
    "binned = np.reshape(binned, (time_bins.shape[0],time_bins.shape[1]))"
   ]
  },
  {
   "cell_type": "code",
   "execution_count": 86,
   "metadata": {},
   "outputs": [
    {
     "data": {
      "text/plain": [
       "433"
      ]
     },
     "execution_count": 86,
     "metadata": {},
     "output_type": "execute_result"
    }
   ],
   "source": [
    "t0=time()\n",
    "len(np.unique(binned))\n",
    "#print(time()-t0)"
   ]
  },
  {
   "cell_type": "code",
   "execution_count": null,
   "metadata": {
    "collapsed": true
   },
   "outputs": [],
   "source": [
    "# step 1: pull out times that are between bin start and end\n",
    "# step 2: parse those into 100ms bins\n",
    "\n"
   ]
  },
  {
   "cell_type": "code",
   "execution_count": 102,
   "metadata": {},
   "outputs": [
    {
     "data": {
      "text/plain": [
       "21"
      ]
     },
     "execution_count": 102,
     "metadata": {},
     "output_type": "execute_result"
    }
   ],
   "source": [
    "len(bin_set)"
   ]
  },
  {
   "cell_type": "code",
   "execution_count": 113,
   "metadata": {},
   "outputs": [
    {
     "data": {
      "text/plain": [
       "array([-500, -400, -300, -200, -100,    0,  100,  200,  300,  400,  500,\n",
       "        600,  700,  800,  900, 1000, 1100, 1200, 1300, 1400, 1500])"
      ]
     },
     "execution_count": 113,
     "metadata": {},
     "output_type": "execute_result"
    }
   ],
   "source": [
    "bins"
   ]
  },
  {
   "cell_type": "code",
   "execution_count": 104,
   "metadata": {},
   "outputs": [
    {
     "data": {
      "text/plain": [
       "array([[ 181594.7,  181694.7,  181794.7, ...,  183394.7,  183494.7,\n",
       "         183594.7],\n",
       "       [ 200246.1,  200346.1,  200446.1, ...,  202046.1,  202146.1,\n",
       "         202246.1],\n",
       "       [ 216194.6,  216294.6,  216394.6, ...,  217994.6,  218094.6,\n",
       "         218194.6],\n",
       "       ...,\n",
       "       [1605597.9, 1605697.9, 1605797.9, ..., 1607397.9, 1607497.9,\n",
       "        1607597.9],\n",
       "       [1621555.1, 1621655.1, 1621755.1, ..., 1623355.1, 1623455.1,\n",
       "        1623555.1],\n",
       "       [1634765.7, 1634865.7, 1634965.7, ..., 1636565.7, 1636665.7,\n",
       "        1636765.7]])"
      ]
     },
     "execution_count": 104,
     "metadata": {},
     "output_type": "execute_result"
    }
   ],
   "source": [
    "time_bins"
   ]
  },
  {
   "cell_type": "code",
   "execution_count": null,
   "metadata": {
    "collapsed": true
   },
   "outputs": [],
   "source": []
  },
  {
   "cell_type": "code",
   "execution_count": null,
   "metadata": {
    "collapsed": true
   },
   "outputs": [],
   "source": []
  },
  {
   "cell_type": "code",
   "execution_count": null,
   "metadata": {
    "collapsed": true
   },
   "outputs": [],
   "source": []
  },
  {
   "cell_type": "code",
   "execution_count": null,
   "metadata": {
    "collapsed": true
   },
   "outputs": [],
   "source": []
  },
  {
   "cell_type": "code",
   "execution_count": null,
   "metadata": {
    "collapsed": true
   },
   "outputs": [],
   "source": []
  },
  {
   "cell_type": "code",
   "execution_count": null,
   "metadata": {
    "collapsed": true
   },
   "outputs": [],
   "source": []
  },
  {
   "cell_type": "code",
   "execution_count": null,
   "metadata": {
    "collapsed": true
   },
   "outputs": [],
   "source": []
  },
  {
   "cell_type": "code",
   "execution_count": null,
   "metadata": {
    "collapsed": true
   },
   "outputs": [],
   "source": []
  },
  {
   "cell_type": "code",
   "execution_count": null,
   "metadata": {
    "collapsed": true
   },
   "outputs": [],
   "source": []
  },
  {
   "cell_type": "code",
   "execution_count": null,
   "metadata": {
    "collapsed": true
   },
   "outputs": [],
   "source": []
  },
  {
   "cell_type": "code",
   "execution_count": null,
   "metadata": {
    "collapsed": true
   },
   "outputs": [],
   "source": []
  },
  {
   "cell_type": "code",
   "execution_count": null,
   "metadata": {
    "collapsed": true
   },
   "outputs": [],
   "source": []
  },
  {
   "cell_type": "code",
   "execution_count": 8,
   "metadata": {},
   "outputs": [
    {
     "data": {
      "text/plain": [
       "72"
      ]
     },
     "execution_count": 8,
     "metadata": {},
     "output_type": "execute_result"
    }
   ],
   "source": [
    "len(unique_stimuli[0]['times'])"
   ]
  },
  {
   "cell_type": "code",
   "execution_count": null,
   "metadata": {
    "collapsed": true
   },
   "outputs": [],
   "source": []
  }
 ],
 "metadata": {
  "kernelspec": {
   "display_name": "Python 3",
   "language": "python",
   "name": "python3"
  },
  "language_info": {
   "codemirror_mode": {
    "name": "ipython",
    "version": 3
   },
   "file_extension": ".py",
   "mimetype": "text/x-python",
   "name": "python",
   "nbconvert_exporter": "python",
   "pygments_lexer": "ipython3",
   "version": "3.6.1"
  }
 },
 "nbformat": 4,
 "nbformat_minor": 2
}
