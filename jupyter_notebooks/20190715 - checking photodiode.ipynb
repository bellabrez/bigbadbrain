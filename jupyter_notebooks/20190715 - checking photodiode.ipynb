{
 "cells": [
  {
   "cell_type": "code",
   "execution_count": 1,
   "metadata": {
    "collapsed": true
   },
   "outputs": [],
   "source": [
    "import bigbadbrain as bbb\n",
    "import numpy as np\n",
    "import matplotlib.pyplot as plt\n",
    "import os\n",
    "import json"
   ]
  },
  {
   "cell_type": "code",
   "execution_count": null,
   "metadata": {
    "collapsed": true
   },
   "outputs": [],
   "source": [
    "file = '/oak/stanford/groups/trc/data/Brezovec/2P_Imaging/20190101_walking_dataset/imports/visual/exp-20190711-151148/'"
   ]
  },
  {
   "cell_type": "code",
   "execution_count": 25,
   "metadata": {
    "collapsed": true
   },
   "outputs": [],
   "source": [
    "pd_file = '/oak/stanford/groups/trc/data/Brezovec/2P_Imaging/imports/20190712__done/fly1/func_0/TSeries-07122019-1334-000'"
   ]
  },
  {
   "cell_type": "code",
   "execution_count": 27,
   "metadata": {},
   "outputs": [
    {
     "name": "stdout",
     "output_type": "stream",
     "text": [
      "loading raw photodiode data... done\n",
      "saving photodiode data as h5py file...done\n"
     ]
    }
   ],
   "source": [
    "bbb.pd_csv_to_h5py(pd_file, 'TSeries-07122019-1334-000_Cycle00001_VoltageRecording_001.csv')"
   ]
  },
  {
   "cell_type": "code",
   "execution_count": 4,
   "metadata": {
    "collapsed": true
   },
   "outputs": [],
   "source": [
    "pd_file = '/oak/stanford/groups/trc/data/Brezovec/2P_Imaging/20190101_walking_dataset/fly_40/func_0/visual'"
   ]
  },
  {
   "cell_type": "code",
   "execution_count": 5,
   "metadata": {},
   "outputs": [
    {
     "name": "stdout",
     "output_type": "stream",
     "text": [
      "loading photodiode data... done\n"
     ]
    }
   ],
   "source": [
    "t,pd1,pd2 = bbb.load_photodiode(pd_file)"
   ]
  },
  {
   "cell_type": "code",
   "execution_count": 4,
   "metadata": {
    "collapsed": true
   },
   "outputs": [],
   "source": [
    "bbb.load_photodiode?"
   ]
  },
  {
   "cell_type": "code",
   "execution_count": 15,
   "metadata": {},
   "outputs": [
    {
     "data": {
      "text/plain": [
       "(18000000,)"
      ]
     },
     "execution_count": 15,
     "metadata": {},
     "output_type": "execute_result"
    }
   ],
   "source": [
    "np.shape(pd)"
   ]
  },
  {
   "cell_type": "code",
   "execution_count": 21,
   "metadata": {
    "collapsed": true
   },
   "outputs": [],
   "source": [
    "pd = pd[2]"
   ]
  },
  {
   "cell_type": "code",
   "execution_count": 12,
   "metadata": {},
   "outputs": [
    {
     "data": {
      "image/png": "[encoded data removed]",
      "text/plain": [
       "<Figure size 432x288 with 1 Axes>"
      ]
     },
     "metadata": {},
     "output_type": "display_data"
    }
   ],
   "source": [
    "plt.plot(t,pd2,color='k')\n",
    "for i in stimuli_starts:\n",
    "    plt.axvline(i,color='r',linestyle='--')\n",
    "plt.xlim(0,80*1000)\n",
    "plt.show()"
   ]
  },
  {
   "cell_type": "code",
   "execution_count": 24,
   "metadata": {},
   "outputs": [
    {
     "data": {
      "text/plain": [
       "array([  60540.5,   61939.8,   63278.2, ..., 1711976.4, 1713514.8,\n",
       "       1714974.9])"
      ]
     },
     "execution_count": 24,
     "metadata": {},
     "output_type": "execute_result"
    }
   ],
   "source": [
    "stimuli_starts"
   ]
  },
  {
   "cell_type": "code",
   "execution_count": null,
   "metadata": {
    "collapsed": true
   },
   "outputs": [],
   "source": []
  },
  {
   "cell_type": "code",
   "execution_count": 6,
   "metadata": {},
   "outputs": [
    {
     "ename": "NameError",
     "evalue": "name 'get_stimuli' is not defined",
     "output_type": "error",
     "traceback": [
      "\u001b[0;31m---------------------------------------------------------------------------\u001b[0m",
      "\u001b[0;31mNameError\u001b[0m                                 Traceback (most recent call last)",
      "\u001b[0;32m<ipython-input-6-4483ce6e1240>\u001b[0m in \u001b[0;36m<module>\u001b[0;34m()\u001b[0m\n\u001b[1;32m      1\u001b[0m \u001b[0mdirectory\u001b[0m \u001b[0;34m=\u001b[0m \u001b[0;34m'/oak/stanford/groups/trc/data/Brezovec/2P_Imaging/20190101_walking_dataset/fly_40/func_0/visual'\u001b[0m\u001b[0;34m\u001b[0m\u001b[0m\n\u001b[0;32m----> 2\u001b[0;31m \u001b[0munique_stimuli\u001b[0m \u001b[0;34m=\u001b[0m \u001b[0mget_stimuli\u001b[0m\u001b[0;34m(\u001b[0m\u001b[0mdirectory\u001b[0m\u001b[0;34m)\u001b[0m\u001b[0;34m\u001b[0m\u001b[0m\n\u001b[0m",
      "\u001b[0;31mNameError\u001b[0m: name 'get_stimuli' is not defined"
     ]
    }
   ],
   "source": [
    "directory = '/oak/stanford/groups/trc/data/Brezovec/2P_Imaging/20190101_walking_dataset/fly_40/func_0/visual'\n",
    "unique_stimuli = get_stimuli(directory)"
   ]
  },
  {
   "cell_type": "code",
   "execution_count": 10,
   "metadata": {},
   "outputs": [
    {
     "name": "stdout",
     "output_type": "stream",
     "text": [
      "loading visual stimuli data... done\n"
     ]
    }
   ],
   "source": [
    "stimuli, unique_stimuli = bbb.load_visual_stimuli_data(directory)"
   ]
  },
  {
   "cell_type": "code",
   "execution_count": 13,
   "metadata": {},
   "outputs": [
    {
     "data": {
      "text/plain": [
       "1152"
      ]
     },
     "execution_count": 13,
     "metadata": {},
     "output_type": "execute_result"
    }
   ],
   "source": [
    "len(stimuli)"
   ]
  },
  {
   "cell_type": "code",
   "execution_count": 11,
   "metadata": {},
   "outputs": [],
   "source": [
    "stimuli_starts = parse_stim_starts_photodiode(pd2,stimuli)"
   ]
  },
  {
   "cell_type": "code",
   "execution_count": 7,
   "metadata": {
    "collapsed": true
   },
   "outputs": [],
   "source": [
    "def get_pd_thresh(pd):\n",
    "    \"\"\" Finds threshold for ON vs OFF photodiode.\n",
    "\n",
    "    Parameters\n",
    "    ----------\n",
    "    pd: photodiode values across time\n",
    "\n",
    "    Returns\n",
    "    -------\n",
    "    threshold: int, threshold of ON vs OFF for photodiode\n",
    "\n",
    "    \"\"\"\n",
    "    _, bins, _ = plt.hist(pd,bins=5)\n",
    "    plt.close()\n",
    "    threshold = (bins[0] + bins[-1]) / 2\n",
    "    return threshold"
   ]
  },
  {
   "cell_type": "code",
   "execution_count": 8,
   "metadata": {
    "collapsed": true
   },
   "outputs": [],
   "source": [
    "def parse_stim_starts_photodiode(pd, stimuli):\n",
    "    \"\"\" Finds all times in the photodiode recording when a stimulus began.\n",
    "\n",
    "    Parameters\n",
    "    ----------\n",
    "    pd: photodiode values across time\n",
    "    stimuli: all stimuli presented. Used for checking length of stimuli starts to make sure all stimuli were found\n",
    "\n",
    "    Returns\n",
    "    -------\n",
    "    stimuli_starts: list of start times of all stimuli in order (in ms).\n",
    "\n",
    "    \"\"\"\n",
    "    # Get threshold for on/off\n",
    "    threshold = get_pd_thresh(pd)\n",
    "\n",
    "    # Find timepoints when the light is off (and convert to ms)\n",
    "    pd_sampling_to_ms_conversion = 10\n",
    "    pd_off = np.where(pd<threshold)[0]/pd_sampling_to_ms_conversion\n",
    "\n",
    "    # Find timepoints of rising edges\n",
    "    min_gap = 1 # Lets give a 1 ms window for defining edges\n",
    "    pd_on_edges = pd_off[np.where(np.diff(pd_off)>min_gap)[0]]\n",
    "\n",
    "    # Remove any very early on edges cause by projector still getting ready etc.\n",
    "    remove_on_before = 30*1000 # Currently a 1 min minimum\n",
    "    pd_on_edges = [x for x in pd_on_edges if x > remove_on_before]\n",
    "    \n",
    "    # Add on edge at 0\n",
    "    pd_on_edges = np.insert(pd_on_edges,0,0)\n",
    "\n",
    "    # Find on_edges that correspond to stimuli presentation\n",
    "    min_gap = 100 # Edges greater than 100ms apart are counted as stimuli starts\n",
    "    stimuli_starts = pd_on_edges[np.where(np.diff(pd_on_edges)>min_gap)[0]+1]\n",
    "    \n",
    "    # Make sure we have successfully found all stimuli\n",
    "    #if len(stimuli_starts) == len(stimuli):\n",
    "    #    print('Successfully parsed all stimuli from photodiode output.')\n",
    "    #else:\n",
    "    ###    print(len(stimuli_starts))\n",
    "    #    print(len(stimuli))\n",
    "    #    raise Exception('Failed to successfully parse stimuli from photodiode output')\n",
    "    return stimuli_starts #in ms"
   ]
  },
  {
   "cell_type": "code",
   "execution_count": 30,
   "metadata": {},
   "outputs": [
    {
     "data": {
      "text/plain": [
       "1152"
      ]
     },
     "execution_count": 30,
     "metadata": {},
     "output_type": "execute_result"
    }
   ],
   "source": [
    "len(stimuli_starts)"
   ]
  },
  {
   "cell_type": "code",
   "execution_count": 6,
   "metadata": {
    "collapsed": true
   },
   "outputs": [],
   "source": [
    "visual_destination = '/oak/stanford/groups/trc/data/Brezovec/2P_Imaging/20190101_walking_dataset/fly_39/func_1/visual'"
   ]
  },
  {
   "cell_type": "code",
   "execution_count": 7,
   "metadata": {},
   "outputs": [
    {
     "name": "stdout",
     "output_type": "stream",
     "text": [
      "loading photodiode data... done\n",
      "loading visual stimuli data... done\n",
      "Successfully parsed all stimuli from photodiode output.\n"
     ]
    }
   ],
   "source": [
    "unique_stimuli = bbb.get_stimuli(visual_destination)\n",
    "with open(os.path.join(visual_destination, 'visual.json'), 'w') as f:\n",
    "    json.dump(unique_stimuli, f, indent=4)"
   ]
  },
  {
   "cell_type": "code",
   "execution_count": null,
   "metadata": {
    "collapsed": true
   },
   "outputs": [],
   "source": []
  },
  {
   "cell_type": "code",
   "execution_count": null,
   "metadata": {
    "collapsed": true
   },
   "outputs": [],
   "source": []
  },
  {
   "cell_type": "code",
   "execution_count": null,
   "metadata": {
    "collapsed": true
   },
   "outputs": [],
   "source": []
  },
  {
   "cell_type": "code",
   "execution_count": null,
   "metadata": {
    "collapsed": true
   },
   "outputs": [],
   "source": []
  }
 ],
 "metadata": {
  "kernelspec": {
   "display_name": "Python 3",
   "language": "python",
   "name": "python3"
  },
  "language_info": {
   "codemirror_mode": {
    "name": "ipython",
    "version": 3
   },
   "file_extension": ".py",
   "mimetype": "text/x-python",
   "name": "python",
   "nbconvert_exporter": "python",
   "pygments_lexer": "ipython3",
   "version": "3.6.1"
  }
 },
 "nbformat": 4,
 "nbformat_minor": 2
}
