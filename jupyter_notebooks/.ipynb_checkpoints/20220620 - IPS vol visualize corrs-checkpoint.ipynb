{
 "cells": [
  {
   "cell_type": "code",
   "execution_count": 1,
   "metadata": {},
   "outputs": [
    {
     "name": "stderr",
     "output_type": "stream",
     "text": [
      "/home/users/brezovec/.local/lib/python3.6/site-packages/ants/viz/render_surface_function.py:16: UserWarning: Cant import Plotly. Install it `pip install chart_studio` if you want to use ants.render_surface_function\n",
      "  \"Cant import Plotly. Install it `pip install chart_studio` if you want to use ants.render_surface_function\"\n"
     ]
    }
   ],
   "source": [
    "import brainsss\n",
    "import os\n",
    "import numpy as np\n",
    "import matplotlib.pyplot as plt\n",
    "%matplotlib inline\n",
    "from sklearn.cluster import AgglomerativeClustering\n",
    "import scipy\n",
    "from scipy.cluster.hierarchy import dendrogram\n",
    "from scipy.cluster.hierarchy import fcluster\n",
    "from scipy.cluster import hierarchy\n",
    "import matplotlib as mpl\n",
    "from matplotlib.pyplot import cm\n",
    "import random\n",
    "from scipy.stats import sem\n",
    "import time\n",
    "import h5py\n",
    "import ants\n",
    "import nibabel as nib\n",
    "import matplotlib\n",
    "from scipy.ndimage import gaussian_filter1d\n",
    "from scipy.fftpack import fft,fftshift,ifft\n",
    "from scipy import signal\n",
    "import pickle\n",
    "from matplotlib.colors import Normalize\n",
    "import cv2"
   ]
  },
  {
   "cell_type": "code",
   "execution_count": 7,
   "metadata": {},
   "outputs": [
    {
     "name": "stdout",
     "output_type": "stream",
     "text": [
      "func_1\n"
     ]
    }
   ],
   "source": [
    "fly = 185\n",
    "#funcs = os.listdir(f'/oak/stanford/groups/trc/data/Brezovec/2P_Imaging/20190101_walking_dataset/fly_{fly}')\n",
    "#funcs = [i for i in funcs if 'func' in i]\n",
    "#for func in ['func_7']:#funcs:\n",
    "func = 'func_1'\n",
    "print(func)\n",
    "load_directory = f'/oak/stanford/groups/trc/data/Brezovec/2P_Imaging/20190101_walking_dataset/fly_{fly}/{func}'\n",
    "brain_file = os.path.join(load_directory, 'functional_channel_2_moco_zscore_highpass.h5')\n",
    "with h5py.File(brain_file, 'r') as hf:\n",
    "    brain = hf['data'][:]\n",
    "#brain = np.asarray(nib.load(brain_file).get_fdata().squeeze(), dtype='float32')"
   ]
  },
  {
   "cell_type": "code",
   "execution_count": 8,
   "metadata": {},
   "outputs": [
    {
     "data": {
      "text/plain": [
       "(127, 32, 14, 6045)"
      ]
     },
     "execution_count": 8,
     "metadata": {},
     "output_type": "execute_result"
    }
   ],
   "source": [
    "brain.shape"
   ]
  },
  {
   "cell_type": "code",
   "execution_count": 9,
   "metadata": {},
   "outputs": [
    {
     "name": "stdout",
     "output_type": "stream",
     "text": [
      "Trying to load timestamp data from hdf5 file.\n",
      "Success.\n"
     ]
    },
    {
     "name": "stderr",
     "output_type": "stream",
     "text": [
      "/share/software/user/open/py-jupyter/1.0.0_py36/lib/python3.6/site-packages/ipykernel_launcher.py:9: RuntimeWarning: divide by zero encountered in true_divide\n",
      "  if __name__ == '__main__':\n"
     ]
    }
   ],
   "source": [
    "#brain_smooth = scipy.ndimage.gaussian_filter(brain, sigma=(1,1,1),truncate=1)\n",
    "temporal_mean = np.mean(brain,axis=-1)\n",
    "timestamps = brainsss.load_timestamps(os.path.join(load_directory, 'imaging'))\n",
    "fictrac_raw = brainsss.load_fictrac(os.path.join(load_directory, 'fictrac'))\n",
    "resolution = 10 #desired resolution in ms\n",
    "fps = 100\n",
    "expt_len = fictrac_raw.shape[0]/fps*1000    \n",
    "\n",
    "brain_norm = brain / np.mean(brain,axis=-1)[:,:,:,np.newaxis]\n",
    "timestep = np.diff(timestamps[:,0])[0] #is units of ms\n",
    "xs = np.arange(-60*1000,60*1000,timestep)  "
   ]
  },
  {
   "cell_type": "code",
   "execution_count": null,
   "metadata": {
    "collapsed": true
   },
   "outputs": [],
   "source": [
    "##########################\n",
    "### CORRELATION AND CC ###\n",
    "##########################\n",
    "\n",
    "z=0\n",
    "behaviors = ['dRotLabZneg', 'dRotLabZpos', 'dRotLabY']\n",
    "corrs = {}\n",
    "peak_times = {}\n",
    "for behavior in behaviors:\n",
    "\n",
    "    fictrac_interp = brainsss.smooth_and_interp_fictrac(fictrac_raw, fps, resolution, expt_len, behavior, timestamps=timestamps, z=z)\n",
    "    corrs[behavior] = np.zeros((brain.shape[0],brain.shape[1]))\n",
    "    peak_times[behavior] = np.zeros((brain.shape[0],brain.shape[1]))\n",
    "\n",
    "    for i in range(brain.shape[0]):\n",
    "        for j in range(brain.shape[1]):\n",
    "            corrs[behavior][i,j] = scipy.stats.pearsonr(fictrac_interp, brain[i,j,:])[0]\n",
    "            cc = scipy.signal.correlate(brain_norm[i,j,:], fictrac_interp)\n",
    "            peak_times[behavior][i,j] = xs[np.argmax(cc)]\n",
    "\n",
    "norm_min = 0\n",
    "norm_max = max(np.max(corrs['dRotLabZneg']), np.max(corrs['dRotLabZpos']), np.max(corrs['dRotLabY']))\n",
    "colors1 = Normalize(norm_min, norm_max)(corrs['dRotLabZneg'])\n",
    "colors2 = Normalize(norm_min, norm_max)(corrs['dRotLabZpos'])\n",
    "colors3 = Normalize(norm_min, norm_max)(corrs['dRotLabY'])\n",
    "to_plot = np.stack((colors1,colors2,colors3),axis=2)\n",
    "to_plot = np.swapaxes(to_plot,0,1)\n",
    "\n",
    "plt.figure(figsize=(10,10))\n",
    "\n",
    "# plot first column\n",
    "for i in [1,2,3]:\n",
    "    plt.subplot(3,3,i*3-2)#1,4,7\n",
    "\n",
    "    if i==1:\n",
    "        plt.imshow(temporal_mean.T,cmap='Greys_r')\n",
    "        plt.title('fly:{}; func:{}; max corr:\\n{:.02f}'.format(fly, func, norm_max))\n",
    "\n",
    "    if i==2:\n",
    "        plt.imshow(to_plot)\n",
    "\n",
    "    if i==3:\n",
    "        alpha = np.zeros(to_plot.shape[:2])\n",
    "        alpha[np.where(np.max(to_plot,axis=-1)>.2)]=1 #.2 is on the normalized data so top 20% voxels will be shown\n",
    "        signals_alpha = np.concatenate((to_plot,alpha[..., np.newaxis]),axis=-1)\n",
    "        plt.imshow(temporal_mean.T,cmap='Greys_r')\n",
    "        plt.imshow(signals_alpha)\n",
    "\n",
    "for i, behavior in enumerate(behaviors):\n",
    "    corr_thresh = .03\n",
    "    plt.subplot(3,3,(i*3)+2)#2,5,8\n",
    "    peak_times_mask = peak_times[behavior].copy()\n",
    "    peak_times_mask[np.where(corrs[behavior]<corr_thresh)] = 0\n",
    "    plt.imshow(peak_times_mask.T,vmin=-300,vmax=300,cmap='seismic')\n",
    "    #plt.colorbar()\n",
    "    plt.title(f'{behavior}. (red is behavior leading, ms)')\n",
    "\n",
    "    corr_thresh = .2\n",
    "    plt.subplot(3,3,(i*3)+3)#3,6,9\n",
    "    peak_times_mask = peak_times[behavior].copy()\n",
    "    peak_times_mask[np.where(corrs[behavior]<corr_thresh)] = 0\n",
    "    plt.imshow(peak_times_mask.T,vmin=-300,vmax=300,cmap='seismic')\n",
    "\n",
    "#     plt.subplots_adjust(wspace=0,hspace=0)\n",
    "#     save_path = '/oak/stanford/groups/trc/data/Brezovec/2P_Imaging/figs'\n",
    "#     timestr = time.strftime(\"%Y%m%d-%H%M%S\")\n",
    "#     fname = os.path.join(save_path, timestr)\n",
    "#     plt.savefig(fname,dpi=300,bbox_inches='tight')"
   ]
  }
 ],
 "metadata": {
  "kernelspec": {
   "display_name": "Python 3",
   "language": "python",
   "name": "python3"
  },
  "language_info": {
   "codemirror_mode": {
    "name": "ipython",
    "version": 3
   },
   "file_extension": ".py",
   "mimetype": "text/x-python",
   "name": "python",
   "nbconvert_exporter": "python",
   "pygments_lexer": "ipython3",
   "version": "3.6.1"
  }
 },
 "nbformat": 4,
 "nbformat_minor": 2
}
