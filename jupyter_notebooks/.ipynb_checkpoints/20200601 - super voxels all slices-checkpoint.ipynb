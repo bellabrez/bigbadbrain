{
 "cells": [
  {
   "cell_type": "code",
   "execution_count": 1,
   "metadata": {
    "collapsed": true
   },
   "outputs": [],
   "source": [
    "import sys\n",
    "sys.path.insert(0, '/home/users/brezovec/.local/lib/python3.6/site-packages/lib/python/')\n",
    "import ants\n",
    "import os\n",
    "import bigbadbrain as bbb\n",
    "import numpy as np\n",
    "import matplotlib.pyplot as plt\n",
    "import time\n",
    "import scipy\n",
    "from scipy.ndimage.filters import gaussian_filter\n",
    "from scipy.signal import savgol_filter\n",
    "from scipy.interpolate import interp1d\n",
    "\n",
    "from skimage.filters import threshold_triangle\n",
    "sys.path.insert(0, '/home/users/brezovec/.local/lib/python3.6/site-packages')\n",
    "import os\n",
    "import statsmodels.api as sm\n",
    "import cv2\n",
    "import matplotlib.patches as mpatches\n",
    "import psutil\n",
    "from mpl_toolkits.axes_grid1 import ImageGrid\n",
    "\n",
    "%matplotlib inline\n",
    "plt.rcParams.update({'font.size': 20})\n",
    "\n",
    "root_directory = '/oak/stanford/groups/trc/data/Brezovec/2P_Imaging/20190101_walking_dataset/'\n",
    "save_path = '/oak/stanford/groups/trc/data/Brezovec/2P_Imaging/figs'"
   ]
  },
  {
   "cell_type": "code",
   "execution_count": 2,
   "metadata": {},
   "outputs": [
    {
     "name": "stdout",
     "output_type": "stream",
     "text": [
      "Current memory usage: 0.62GB\n"
     ]
    }
   ],
   "source": [
    "def print_mem():\n",
    "    memory_usage = psutil.Process(os.getpid()).memory_info().rss*10**-9\n",
    "    print('Current memory usage: {:.2f}GB'.format(memory_usage))\n",
    "print_mem()"
   ]
  },
  {
   "cell_type": "code",
   "execution_count": 3,
   "metadata": {
    "collapsed": true
   },
   "outputs": [],
   "source": [
    "from sklearn.cluster import AgglomerativeClustering\n",
    "from scipy.cluster.hierarchy import dendrogram\n",
    "import itertools\n",
    "import random\n",
    "from scipy.cluster import hierarchy\n",
    "import matplotlib as mpl\n",
    "from matplotlib.pyplot import cm"
   ]
  },
  {
   "cell_type": "code",
   "execution_count": 6,
   "metadata": {
    "collapsed": true
   },
   "outputs": [],
   "source": [
    "directory = os.path.join(root_directory,'fly_5','func_0')\n",
    "brain_path = os.path.join(directory, 'super_voxels', 'brain_green_zscore_flat.npy')\n",
    "brain_vectorized = np.load(brain_path)"
   ]
  },
  {
   "cell_type": "code",
   "execution_count": 8,
   "metadata": {},
   "outputs": [
    {
     "data": {
      "text/plain": [
       "(482944, 4731)"
      ]
     },
     "execution_count": 8,
     "metadata": {},
     "output_type": "execute_result"
    }
   ],
   "source": [
    "brain_vectorized.shape"
   ]
  },
  {
   "cell_type": "code",
   "execution_count": 9,
   "metadata": {
    "collapsed": true
   },
   "outputs": [],
   "source": [
    "from sklearn.feature_extraction.image import grid_to_graph\n",
    "connectivity = grid_to_graph(77,128,49)"
   ]
  },
  {
   "cell_type": "code",
   "execution_count": 10,
   "metadata": {},
   "outputs": [
    {
     "data": {
      "text/plain": [
       "(482944, 482944)"
      ]
     },
     "execution_count": 10,
     "metadata": {},
     "output_type": "execute_result"
    }
   ],
   "source": [
    "connectivity.shape"
   ]
  },
  {
   "cell_type": "code",
   "execution_count": 31,
   "metadata": {},
   "outputs": [
    {
     "name": "stdout",
     "output_type": "stream",
     "text": [
      "24.930107831954956\n"
     ]
    }
   ],
   "source": [
    "clustering_dir = os.path.join(directory, 'super_voxels')\n",
    "\n",
    "t0 = time.time()\n",
    "model = AgglomerativeClustering(n_clusters = 2000,\n",
    "                                memory=clustering_dir,\n",
    "                                linkage='ward',\n",
    "                                connectivity=connectivity)\n",
    "model = model.fit(brain_vectorized)\n",
    "print(time.time()-t0)"
   ]
  },
  {
   "cell_type": "code",
   "execution_count": 33,
   "metadata": {},
   "outputs": [],
   "source": [
    "brain_clusters = model.labels_.reshape(77,128,49)"
   ]
  },
  {
   "cell_type": "code",
   "execution_count": 37,
   "metadata": {},
   "outputs": [
    {
     "data": {
      "text/plain": [
       "<matplotlib.image.AxesImage at 0x7f5170a82e10>"
      ]
     },
     "execution_count": 37,
     "metadata": {},
     "output_type": "execute_result"
    },
    {
     "data": {
      "image/png": "[encoded data removed]",
      "text/plain": [
       "<Figure size 432x288 with 1 Axes>"
      ]
     },
     "metadata": {},
     "output_type": "display_data"
    }
   ],
   "source": [
    "plt.imshow(brain_clusters[:,:,20],cmap='jet')"
   ]
  },
  {
   "cell_type": "code",
   "execution_count": null,
   "metadata": {
    "collapsed": true
   },
   "outputs": [],
   "source": [
    "compute_full_tree=True,"
   ]
  },
  {
   "cell_type": "code",
   "execution_count": 24,
   "metadata": {},
   "outputs": [
    {
     "name": "stdout",
     "output_type": "stream",
     "text": [
      "Current memory usage: 11.45GB\n"
     ]
    }
   ],
   "source": [
    "print_mem()"
   ]
  },
  {
   "cell_type": "code",
   "execution_count": 13,
   "metadata": {},
   "outputs": [],
   "source": [
    "ii = itertools.count(brain_vectorized.shape[0])\n",
    "nodes = [{'node_id': next(ii), 'left': x[0], 'right':x[1]} for x in model.children_]"
   ]
  },
  {
   "cell_type": "code",
   "execution_count": 103,
   "metadata": {
    "collapsed": true
   },
   "outputs": [],
   "source": [
    "### Create linkage matrix for dendrogram\n",
    "\n",
    "counts = np.zeros(model.children_.shape[0])\n",
    "n_samples = len(model.labels_)\n",
    "for i, merge in enumerate(model.children_):\n",
    "    current_count = 0\n",
    "    for child_idx in merge:\n",
    "        if child_idx < n_samples:\n",
    "            current_count += 1  # leaf node\n",
    "        else:\n",
    "            current_count += counts[child_idx - n_samples]\n",
    "    counts[i] = current_count\n",
    "\n",
    "linkage_matrix = np.column_stack([model.children_, model.distances_,\n",
    "                                  counts]).astype(float)"
   ]
  },
  {
   "cell_type": "code",
   "execution_count": 23,
   "metadata": {},
   "outputs": [
    {
     "data": {
      "text/plain": [
       "482944"
      ]
     },
     "execution_count": 23,
     "metadata": {},
     "output_type": "execute_result"
    }
   ],
   "source": [
    "n_samples"
   ]
  },
  {
   "cell_type": "code",
   "execution_count": 17,
   "metadata": {
    "collapsed": true
   },
   "outputs": [],
   "source": [
    "n_colors = 1000\n",
    "master_cmap = 'jet'\n",
    "\n",
    "n_samples = len(nodes) + 1\n",
    "children_tracker = []\n",
    "\n",
    "for i in range(len(nodes)):\n",
    "    left_child = nodes[i]['left']\n",
    "    right_child = nodes[i]['right']\n",
    "    num_left_children = 0\n",
    "    num_right_children = 0\n",
    "    children_tracker.append({'children': [], 'engulfed_nodes': [i]})\n",
    "        \n",
    "    # LEFT CHILD\n",
    "    if left_child < n_samples:\n",
    "        children_tracker[-1]['children'].extend([left_child])\n",
    "    else:\n",
    "        index = left_child - n_samples\n",
    "        children_tracker[-1]['children'].extend(children_tracker[index]['children'])\n",
    "        num_left_children = len(children_tracker[index]['children'])\n",
    "        \n",
    "        children_tracker[-1]['engulfed_nodes'].extend(children_tracker[index]['engulfed_nodes'])\n",
    "    \n",
    "    # RIGHT CHILD\n",
    "    if right_child < n_samples:\n",
    "        children_tracker[-1]['children'].extend([right_child])\n",
    "    else:\n",
    "        index = right_child - n_samples\n",
    "        children_tracker[-1]['children'].extend(children_tracker[index]['children'])\n",
    "        num_right_children = len(children_tracker[index]['children'])\n",
    "        \n",
    "        children_tracker[-1]['engulfed_nodes'].extend(children_tracker[index]['engulfed_nodes'])\n",
    "        \n",
    "    # ASSIGN COLOR\n",
    "    if right_child < n_samples and left_child < n_samples:\n",
    "        children_tracker[-1]['color'] = random.randint(1, n_colors-1)\n",
    "    else:\n",
    "        if num_right_children > num_left_children:\n",
    "            index = right_child - n_samples\n",
    "            children_tracker[-1]['color'] = children_tracker[index]['color']\n",
    "        else:\n",
    "            index = left_child - n_samples\n",
    "            children_tracker[-1]['color'] = children_tracker[index]['color']"
   ]
  },
  {
   "cell_type": "code",
   "execution_count": 25,
   "metadata": {},
   "outputs": [],
   "source": [
    "brain_colored = np.zeros((100,100))"
   ]
  },
  {
   "cell_type": "code",
   "execution_count": 29,
   "metadata": {},
   "outputs": [
    {
     "data": {
      "text/plain": [
       "80000"
      ]
     },
     "execution_count": 29,
     "metadata": {},
     "output_type": "execute_result"
    }
   ],
   "source": [
    "brain_colored.nbytes"
   ]
  },
  {
   "cell_type": "code",
   "execution_count": 14,
   "metadata": {},
   "outputs": [
    {
     "ename": "MemoryError",
     "evalue": "",
     "output_type": "error",
     "traceback": [
      "\u001b[0;31m---------------------------------------------------------------------------\u001b[0m",
      "\u001b[0;31mMemoryError\u001b[0m                               Traceback (most recent call last)",
      "\u001b[0;32m<ipython-input-14-70daf1164606>\u001b[0m in \u001b[0;36m<module>\u001b[0;34m()\u001b[0m\n\u001b[1;32m     45\u001b[0m \u001b[0;31m# CREATE BRAIN COLORS OVER TIME\u001b[0m\u001b[0;34m\u001b[0m\u001b[0;34m\u001b[0m\u001b[0m\n\u001b[1;32m     46\u001b[0m \u001b[0;34m\u001b[0m\u001b[0m\n\u001b[0;32m---> 47\u001b[0;31m \u001b[0mbrain_colored\u001b[0m \u001b[0;34m=\u001b[0m \u001b[0mnp\u001b[0m\u001b[0;34m.\u001b[0m\u001b[0mzeros\u001b[0m\u001b[0;34m(\u001b[0m\u001b[0;34m(\u001b[0m\u001b[0mn_samples\u001b[0m\u001b[0;34m,\u001b[0m\u001b[0mn_samples\u001b[0m\u001b[0;34m)\u001b[0m\u001b[0;34m)\u001b[0m\u001b[0;34m\u001b[0m\u001b[0m\n\u001b[0m\u001b[1;32m     48\u001b[0m \u001b[0;34m\u001b[0m\u001b[0m\n\u001b[1;32m     49\u001b[0m \u001b[0;32mfor\u001b[0m \u001b[0mi\u001b[0m \u001b[0;32min\u001b[0m \u001b[0mrange\u001b[0m\u001b[0;34m(\u001b[0m\u001b[0mlen\u001b[0m\u001b[0;34m(\u001b[0m\u001b[0mnodes\u001b[0m\u001b[0;34m)\u001b[0m\u001b[0;34m)\u001b[0m\u001b[0;34m:\u001b[0m\u001b[0;34m\u001b[0m\u001b[0m\n",
      "\u001b[0;31mMemoryError\u001b[0m: "
     ]
    }
   ],
   "source": [
    "\n",
    "            \n",
    "# CREATE BRAIN COLORS OVER TIME\n",
    "\n",
    "brain_colored = np.zeros((n_samples,n_samples))\n",
    "\n",
    "for i in range(len(nodes)):\n",
    "    brain_colored[i+1,:] = brain_colored[i,:]\n",
    "    brain_colored[i+1,:][children_tracker[i]['children']] = children_tracker[i]['color']\n",
    "    \n",
    "brain_colored_toplot = np.reshape(brain_colored, (9856,77,128))\n",
    "brain_colored_toplot[brain_colored_toplot == 0] = 'nan'\n",
    "print(brain_colored_toplot.shape)\n",
    "\n",
    "# CREATE DENDROGRAM COLORS OVER TIME\n",
    "# here, when a node gets a color, I want all of it's children to get that same color\n",
    "# need a way to track which nodes were engulfed in other nodes\n",
    "\n",
    "dendrogram_colored = np.zeros((n_samples,n_samples))\n",
    "\n",
    "for i in range(len(nodes)):\n",
    "    dendrogram_colored[i+1,:] = dendrogram_colored[i,:]\n",
    "    dendrogram_colored[i+1,:][children_tracker[i]['engulfed_nodes']] = children_tracker[i]['color'] # give new node color\n",
    "    \n",
    "dendrogram_colored = dendrogram_colored.astype(int)\n",
    "print(dendrogram_colored.shape)"
   ]
  },
  {
   "cell_type": "code",
   "execution_count": null,
   "metadata": {
    "collapsed": true
   },
   "outputs": [],
   "source": []
  },
  {
   "cell_type": "code",
   "execution_count": null,
   "metadata": {
    "collapsed": true
   },
   "outputs": [],
   "source": []
  },
  {
   "cell_type": "code",
   "execution_count": null,
   "metadata": {
    "collapsed": true
   },
   "outputs": [],
   "source": []
  },
  {
   "cell_type": "code",
   "execution_count": null,
   "metadata": {
    "collapsed": true
   },
   "outputs": [],
   "source": []
  },
  {
   "cell_type": "code",
   "execution_count": null,
   "metadata": {
    "collapsed": true
   },
   "outputs": [],
   "source": []
  },
  {
   "cell_type": "code",
   "execution_count": null,
   "metadata": {
    "collapsed": true
   },
   "outputs": [],
   "source": []
  },
  {
   "cell_type": "code",
   "execution_count": null,
   "metadata": {
    "collapsed": true
   },
   "outputs": [],
   "source": []
  },
  {
   "cell_type": "code",
   "execution_count": null,
   "metadata": {
    "collapsed": true
   },
   "outputs": [],
   "source": []
  },
  {
   "cell_type": "code",
   "execution_count": null,
   "metadata": {
    "collapsed": true
   },
   "outputs": [],
   "source": []
  },
  {
   "cell_type": "code",
   "execution_count": null,
   "metadata": {
    "collapsed": true
   },
   "outputs": [],
   "source": []
  },
  {
   "cell_type": "code",
   "execution_count": null,
   "metadata": {
    "collapsed": true
   },
   "outputs": [],
   "source": []
  },
  {
   "cell_type": "code",
   "execution_count": null,
   "metadata": {
    "collapsed": true
   },
   "outputs": [],
   "source": []
  },
  {
   "cell_type": "code",
   "execution_count": null,
   "metadata": {
    "collapsed": true
   },
   "outputs": [],
   "source": []
  },
  {
   "cell_type": "code",
   "execution_count": 4,
   "metadata": {},
   "outputs": [
    {
     "name": "stdout",
     "output_type": "stream",
     "text": [
      "\n",
      "~~ load_numpy_brain ~~\n",
      "load_numpy_brain done. Duration: 62.95 ms\n",
      "brain shape is x,y,z,t (77, 128, 49, 4731)\n",
      "Current memory usage: 9.77GB\n"
     ]
    }
   ],
   "source": [
    "directory = os.path.join(root_directory,'fly_5','func_0')\n",
    "brain_path = os.path.join(directory, 'brain_zscored_green.nii')\n",
    "brain = bbb.load_numpy_brain(brain_path)*1 # this *1 is currently important for some fucking reason\n",
    "dims = bbb.get_dims(brain)\n",
    "print('brain shape is x,y,z,t {}'.format(brain.shape))\n",
    "print_mem()"
   ]
  },
  {
   "cell_type": "code",
   "execution_count": 5,
   "metadata": {},
   "outputs": [
    {
     "name": "stdout",
     "output_type": "stream",
     "text": [
      "0.6758017539978027\n"
     ]
    }
   ],
   "source": [
    "t0 = time.time()\n",
    "one_slice = brain[:,:,8,:].reshape(-1, brain.shape[-1])\n",
    "print(time.time()-t0)"
   ]
  }
 ],
 "metadata": {
  "kernelspec": {
   "display_name": "Python 3",
   "language": "python",
   "name": "python3"
  },
  "language_info": {
   "codemirror_mode": {
    "name": "ipython",
    "version": 3
   },
   "file_extension": ".py",
   "mimetype": "text/x-python",
   "name": "python",
   "nbconvert_exporter": "python",
   "pygments_lexer": "ipython3",
   "version": "3.6.1"
  }
 },
 "nbformat": 4,
 "nbformat_minor": 2
}
