{
 "cells": [
  {
   "cell_type": "code",
   "execution_count": 1,
   "metadata": {
    "collapsed": true
   },
   "outputs": [],
   "source": [
    "import sys\n",
    "sys.path.insert(0, '/home/users/brezovec/.local/lib/python3.6/site-packages/lib/python/')\n",
    "import ants\n",
    "import os\n",
    "import bigbadbrain as bbb\n",
    "import numpy as np\n",
    "import matplotlib.pyplot as plt\n",
    "import time\n",
    "import scipy\n",
    "from scipy.ndimage.filters import gaussian_filter\n",
    "from scipy.signal import savgol_filter\n",
    "from scipy.interpolate import interp1d\n",
    "\n",
    "from skimage.filters import threshold_triangle\n",
    "sys.path.insert(0, '/home/users/brezovec/.local/lib/python3.6/site-packages')\n",
    "import os\n",
    "import statsmodels.api as sm\n",
    "import cv2\n",
    "import matplotlib.patches as mpatches\n",
    "import psutil\n",
    "\n",
    "%matplotlib inline\n",
    "plt.rcParams.update({'font.size': 20})\n",
    "\n",
    "root_directory = '/oak/stanford/groups/trc/data/Brezovec/2P_Imaging/20190101_walking_dataset/'\n",
    "save_path = '/oak/stanford/groups/trc/data/Brezovec/2P_Imaging/figs'"
   ]
  },
  {
   "cell_type": "code",
   "execution_count": 111,
   "metadata": {
    "collapsed": true
   },
   "outputs": [],
   "source": [
    "from sklearn.linear_model import Ridge\n",
    "from sklearn.linear_model import Lasso\n",
    "from sklearn.linear_model import ElasticNet\n",
    "from sklearn.feature_extraction.image import grid_to_graph\n",
    "from sklearn.model_selection import KFold\n",
    "from mpl_toolkits.axes_grid1 import ImageGrid\n",
    "import json\n",
    "from matplotlib.ticker import FuncFormatter"
   ]
  },
  {
   "cell_type": "code",
   "execution_count": 3,
   "metadata": {},
   "outputs": [
    {
     "name": "stdout",
     "output_type": "stream",
     "text": [
      "Current memory usage: 0.62GB\n"
     ]
    }
   ],
   "source": [
    "def print_mem():\n",
    "    memory_usage = psutil.Process(os.getpid()).memory_info().rss*10**-9\n",
    "    print('Current memory usage: {:.2f}GB'.format(memory_usage))\n",
    "print_mem()"
   ]
  },
  {
   "cell_type": "code",
   "execution_count": 4,
   "metadata": {
    "collapsed": true
   },
   "outputs": [],
   "source": [
    "def get_r2(true, prediction):\n",
    "    u = np.sum((prediction-true)**2)\n",
    "    v = np.sum((true-np.mean(true))**2)\n",
    "    return 1 - u / v"
   ]
  },
  {
   "cell_type": "code",
   "execution_count": 5,
   "metadata": {
    "collapsed": true
   },
   "outputs": [],
   "source": [
    "from sklearn.cluster import AgglomerativeClustering\n",
    "from scipy.cluster.hierarchy import dendrogram\n",
    "import itertools\n",
    "import random\n",
    "from scipy.cluster import hierarchy\n",
    "import matplotlib as mpl\n",
    "from matplotlib.pyplot import cm"
   ]
  },
  {
   "cell_type": "code",
   "execution_count": 6,
   "metadata": {},
   "outputs": [
    {
     "name": "stdout",
     "output_type": "stream",
     "text": [
      "\n",
      "~~ load_numpy_brain ~~\n",
      "load_numpy_brain done. Duration: 7.76 ms\n",
      "brain shape is x,y,z,t (77, 128, 49, 4731)\n",
      "Current memory usage: 9.77GB\n"
     ]
    }
   ],
   "source": [
    "directory = os.path.join(root_directory,'fly_5','func_0')\n",
    "brain_path = os.path.join(directory, 'brain_zscored_green.nii')\n",
    "clustering_dir = os.path.join(directory, 'super_voxels')\n",
    "brain = bbb.load_numpy_brain(brain_path)*1 # this *1 is currently important for some fucking reason\n",
    "dims = bbb.get_dims(brain)\n",
    "print('brain shape is x,y,z,t {}'.format(brain.shape))\n",
    "print_mem()"
   ]
  },
  {
   "cell_type": "code",
   "execution_count": 7,
   "metadata": {},
   "outputs": [
    {
     "name": "stdout",
     "output_type": "stream",
     "text": [
      "0.678363561630249\n"
     ]
    }
   ],
   "source": [
    "t0 = time.time()\n",
    "one_slice = brain[:,:,20,:].reshape(-1, brain.shape[-1])\n",
    "print(time.time()-t0)"
   ]
  },
  {
   "cell_type": "code",
   "execution_count": 8,
   "metadata": {},
   "outputs": [
    {
     "name": "stdout",
     "output_type": "stream",
     "text": [
      "\n",
      "~~ load_timestamps ~~\n",
      "Trying to load timestamp data from hdf5 file.\n",
      "Success.\n",
      "load_timestamps done. Duration: 4.71 ms\n",
      "\n",
      "~~ load_fictrac ~~\n",
      "load_fictrac done. Duration: 2.82 sec\n"
     ]
    }
   ],
   "source": [
    "timestamps = bbb.load_timestamps(os.path.join(directory, 'imaging'))\n",
    "fictrac_raw = bbb.load_fictrac(os.path.join(directory, 'fictrac'))"
   ]
  },
  {
   "cell_type": "code",
   "execution_count": 9,
   "metadata": {
    "collapsed": true
   },
   "outputs": [],
   "source": [
    "resolution = 100 #desired resolution in ms\n",
    "expt_len = 1000*30*60\n",
    "fps = 50 #of fictrac camera\n",
    "behaviors = ['dRotLabY', 'dRotLabZ']\n",
    "fictrac = {}\n",
    "for behavior in behaviors:\n",
    "    if behavior == 'dRotLabY': short = 'Y'\n",
    "    elif behavior == 'dRotLabZ': short = 'Z'\n",
    "    fictrac[short] = bbb.smooth_and_interp_fictrac(fictrac_raw,\n",
    "                                                   fps,\n",
    "                                                   resolution,\n",
    "                                                   expt_len,\n",
    "                                                   behavior,\n",
    "                                                   timestamps=timestamps,\n",
    "                                                   smoothing=51)\n",
    "    fictrac[short] = fictrac[short]/np.std(fictrac[short])\n",
    "xnew = np.arange(0,expt_len,resolution)"
   ]
  },
  {
   "cell_type": "code",
   "execution_count": 10,
   "metadata": {
    "collapsed": true
   },
   "outputs": [],
   "source": [
    "for behavior in ['Y', 'Z']:\n",
    "    fictrac_std = np.std(fictrac[behavior])\n",
    "    fictrac[behavior] = np.divide(fictrac[behavior],fictrac_std)"
   ]
  },
  {
   "cell_type": "code",
   "execution_count": 11,
   "metadata": {
    "collapsed": true
   },
   "outputs": [],
   "source": [
    "connectivity = grid_to_graph(77,128)"
   ]
  },
  {
   "cell_type": "code",
   "execution_count": 12,
   "metadata": {
    "collapsed": true
   },
   "outputs": [],
   "source": [
    "Y_glm = fictrac['Y']"
   ]
  },
  {
   "cell_type": "code",
   "execution_count": 13,
   "metadata": {},
   "outputs": [
    {
     "name": "stdout",
     "output_type": "stream",
     "text": [
      "working on cluster 9856\n",
      "working on cluster 9000\n",
      "working on cluster 8000\n",
      "working on cluster 7000\n",
      "working on cluster 6000\n",
      "working on cluster 5000\n",
      "working on cluster 4000\n",
      "working on cluster 3000\n",
      "working on cluster 2000\n",
      "working on cluster 1500\n",
      "working on cluster 1000\n",
      "working on cluster 750\n",
      "working on cluster 500\n",
      "working on cluster 100\n",
      "working on cluster 10\n",
      "working on cluster 1\n"
     ]
    }
   ],
   "source": [
    "n_clusters = [9856,9000,8000,7000,6000,5000,4000,3000,2000,1500,1000,750,500,100,10,1]\n",
    "\n",
    "cluster_signals = {}\n",
    "\n",
    "for cluster in n_clusters:\n",
    "    print('working on cluster {}'.format(cluster))\n",
    "    model = AgglomerativeClustering(n_clusters=cluster,\n",
    "                                    memory=clustering_dir,\n",
    "                                    linkage='ward',\n",
    "                                    connectivity=connectivity)\n",
    "    model = model.fit(one_slice)\n",
    "\n",
    "    signals = []\n",
    "    for cluster_num in range(cluster):\n",
    "        cluster_indicies = np.where(model.labels_==cluster_num)[0]\n",
    "        mean_signal = np.mean(one_slice[cluster_indicies,:], axis=0)\n",
    "        signals.append(mean_signal)\n",
    "    X_glm=np.asarray(signals).T\n",
    "    \n",
    "    cluster_signals[cluster] = X_glm"
   ]
  },
  {
   "cell_type": "code",
   "execution_count": 14,
   "metadata": {
    "collapsed": true
   },
   "outputs": [],
   "source": [
    "kf = KFold(n_splits=5, shuffle=True, random_state=0)"
   ]
  },
  {
   "cell_type": "code",
   "execution_count": 192,
   "metadata": {
    "collapsed": true
   },
   "outputs": [],
   "source": [
    "#timestr = time.strftime(\"%Y%m%d\")\n",
    "load_path = os.path.join(clustering_dir, 'models')\n",
    "load_files = os.listdir(load_path)\n",
    "scores_loaded = {}\n",
    "for file in load_files:\n",
    "    with open(os.path.join(load_path, file)) as json_file:\n",
    "        scores_loaded[file[9:-5]] = json.load(json_file)"
   ]
  },
  {
   "cell_type": "code",
   "execution_count": 117,
   "metadata": {},
   "outputs": [
    {
     "data": {
      "text/plain": [
       "{'0.0001': {'test': -0.04423803000201339, 'train': 0.761973212899071},\n",
       " '0.001': {'test': 0.18883826200652543, 'train': 0.7484046173677551},\n",
       " '0.01': {'test': 0.4409904173292021, 'train': 0.5681471971457721},\n",
       " '0.1': {'test': 0.22195350638697123, 'train': 0.23277133146253673},\n",
       " '1.0': {'test': -0.0008108151419883747, 'train': -6.217248937900876e-16},\n",
       " '10.0': {'test': -0.0008108151419883747, 'train': -6.217248937900876e-16},\n",
       " '100.0': {'test': -0.0008108151419883747, 'train': -6.217248937900876e-16},\n",
       " '1000.0': {'test': -0.0008108151419883747, 'train': -6.217248937900876e-16},\n",
       " '10000.0': {'test': -0.0008108151419883747, 'train': -6.217248937900876e-16},\n",
       " '100000.0': {'test': -0.0008108151419883747, 'train': -6.217248937900876e-16},\n",
       " '1000000.0': {'test': -0.0008108151419883747,\n",
       "  'train': -6.217248937900876e-16},\n",
       " '10000000.0': {'test': -0.0008108151419883747,\n",
       "  'train': -6.217248937900876e-16}}"
      ]
     },
     "execution_count": 117,
     "metadata": {},
     "output_type": "execute_result"
    }
   ],
   "source": [
    "scores_loaded['lasso_ward']['2000']"
   ]
  },
  {
   "cell_type": "code",
   "execution_count": 193,
   "metadata": {
    "collapsed": true
   },
   "outputs": [],
   "source": [
    "alphas = [1e-4, 1e-3, 1e-2, 1e-1, 1e0, 1e1, 1e2, 1e3, 1e4, 1e5, 1e6, 1e7]"
   ]
  },
  {
   "cell_type": "code",
   "execution_count": 194,
   "metadata": {},
   "outputs": [],
   "source": [
    "best_r2s = {}\n",
    "best_alpha = {}\n",
    "\n",
    "for method in scores_loaded:\n",
    "    best_r2s[method] = []\n",
    "    best_alpha[method] = []\n",
    "    for cluster in n_clusters:\n",
    "        r2s = [scores_loaded[method][str(cluster)][str(x)]['test'] for x in alphas]\n",
    "        best_r2s[method].append(np.max(r2s))\n",
    "        best_alpha[method].append(alphas[np.argmax(r2s)])"
   ]
  },
  {
   "cell_type": "code",
   "execution_count": 195,
   "metadata": {},
   "outputs": [
    {
     "data": {
      "text/plain": [
       "['lasso_ward',\n",
       " 'lasso_complete',\n",
       " 'ridge_wardcc',\n",
       " 'lasso_single',\n",
       " 'lasso_wardcc',\n",
       " 'elasticnet_wardcc',\n",
       " 'lasso_avg']"
      ]
     },
     "execution_count": 195,
     "metadata": {},
     "output_type": "execute_result"
    }
   ],
   "source": [
    "[x for x in scores_loaded]"
   ]
  },
  {
   "cell_type": "code",
   "execution_count": 211,
   "metadata": {},
   "outputs": [
    {
     "data": {
      "image/png": "[encoded data removed]",
      "text/plain": [
       "<Figure size 720x720 with 2 Axes>"
      ]
     },
     "metadata": {},
     "output_type": "display_data"
    }
   ],
   "source": [
    "fig, axs = plt.subplots(1,2, figsize=(10,10), sharey=True)\n",
    "\n",
    "colors = ['xkcd:cerulean', 'xkcd:mango', 'xkcd:lipstick red', 'xkcd:dark seafoam', 'xkcd:bluegrey']\n",
    "\n",
    "#colors = cm.ocean(np.linspace(0,1,10))\n",
    "\n",
    "#ax1.set_ylabel('R$^2$')\n",
    "for i,method in enumerate(['lasso_wardcc', 'ridge_wardcc', 'elasticnet_wardcc']):\n",
    "    axs[0].plot(n_clusters, best_r2s[method], label=method, color=colors[i], linewidth=3)\n",
    "\n",
    "for i,method in enumerate(['lasso_wardcc', 'lasso_ward', 'lasso_avg', 'lasso_complete', 'lasso_single']):\n",
    "    axs[1].plot(n_clusters, best_r2s[method], label=method, color=colors[i], linewidth=3)\n",
    "    \n",
    "axs[0].set_title('{} Comparison\\n ( Linkage = WardCC )'.format(r\"$\\bf{\"+'Regularization'+\"}$\"),fontsize=15, y=1.02)\n",
    "axs[1].set_title('{} Comparison\\n ( Regularization = Lasso )'.format(r\"$\\bf{\"+'Linkage'+\"}$\"), fontsize=15, y=1.02)\n",
    "\n",
    "axs[0].legend(['Lasso', 'Ridge', 'ElasticNet'])\n",
    "axs[1].legend(['WardCC', 'Ward', 'Average', 'Complete', 'Single'])\n",
    "\n",
    "axs[0].set_ylabel('R$^2$', fontweight='bold')\n",
    "\n",
    "def my_formater(x, pos):\n",
    "    return '{:.2f}'.format(x)\n",
    "\n",
    "formatter = FuncFormatter(my_formater)\n",
    "axs[0].yaxis.set_major_formatter(formatter)\n",
    "\n",
    "#plt.suptitle(x=.5,y=.98,t='fly_5, slice_20\\n manual alpha sweep and 5-fold CV, shuffled sampling.\\n method comparison',fontsize=15)\n",
    "plt.subplots_adjust(wspace=0, hspace=0)\n",
    "\n",
    "for i in [0,1]:\n",
    "    for j, label in enumerate(axs[i].get_xticklabels()):\n",
    "        label.set_ha('center')\n",
    "        #label.set_rotation(45)\n",
    "        label.set_fontsize(15)\n",
    "        if i == 1 and j == 1:\n",
    "            label.set_visible(False)\n",
    "\n",
    "for label in axs[0].get_yticklabels():\n",
    "    label.set_fontsize(15)\n",
    "            \n",
    "axs[0].set_xlabel('# Clusters', x=1, fontweight='bold')\n",
    "        \n",
    "save_path = '/oak/stanford/groups/trc/data/Brezovec/2P_Imaging/figs'\n",
    "timestr = time.strftime(\"%Y%m%d-%H%M%S\")\n",
    "fname = os.path.join(save_path, timestr)\n",
    "plt.savefig(fname,dpi=300,bbox_inches='tight')"
   ]
  },
  {
   "cell_type": "code",
   "execution_count": 212,
   "metadata": {},
   "outputs": [
    {
     "data": {
      "text/plain": [
       "{'elasticnet_wardcc': [0.1,\n",
       "  0.1,\n",
       "  0.1,\n",
       "  0.1,\n",
       "  0.1,\n",
       "  0.1,\n",
       "  0.1,\n",
       "  0.01,\n",
       "  0.01,\n",
       "  0.01,\n",
       "  0.01,\n",
       "  0.01,\n",
       "  0.01,\n",
       "  0.001,\n",
       "  0.0001,\n",
       "  0.0001],\n",
       " 'lasso_avg': [0.01,\n",
       "  0.01,\n",
       "  0.01,\n",
       "  0.01,\n",
       "  0.01,\n",
       "  0.01,\n",
       "  0.01,\n",
       "  0.01,\n",
       "  0.01,\n",
       "  0.01,\n",
       "  0.01,\n",
       "  0.01,\n",
       "  0.01,\n",
       "  0.001,\n",
       "  0.0001,\n",
       "  0.0001],\n",
       " 'lasso_complete': [0.01,\n",
       "  0.01,\n",
       "  0.01,\n",
       "  0.01,\n",
       "  0.01,\n",
       "  0.01,\n",
       "  0.01,\n",
       "  0.01,\n",
       "  0.01,\n",
       "  0.01,\n",
       "  0.01,\n",
       "  0.01,\n",
       "  0.01,\n",
       "  0.001,\n",
       "  0.0001,\n",
       "  0.0001],\n",
       " 'lasso_single': [0.01,\n",
       "  0.01,\n",
       "  0.01,\n",
       "  0.01,\n",
       "  0.01,\n",
       "  0.01,\n",
       "  0.01,\n",
       "  0.01,\n",
       "  0.01,\n",
       "  0.01,\n",
       "  0.01,\n",
       "  0.01,\n",
       "  0.01,\n",
       "  0.001,\n",
       "  0.001,\n",
       "  0.0001],\n",
       " 'lasso_ward': [0.01,\n",
       "  0.01,\n",
       "  0.01,\n",
       "  0.01,\n",
       "  0.01,\n",
       "  0.01,\n",
       "  0.01,\n",
       "  0.01,\n",
       "  0.01,\n",
       "  0.01,\n",
       "  0.01,\n",
       "  0.01,\n",
       "  0.01,\n",
       "  0.001,\n",
       "  0.0001,\n",
       "  0.0001],\n",
       " 'lasso_wardcc': [0.01,\n",
       "  0.01,\n",
       "  0.01,\n",
       "  0.01,\n",
       "  0.01,\n",
       "  0.01,\n",
       "  0.01,\n",
       "  0.01,\n",
       "  0.01,\n",
       "  0.01,\n",
       "  0.01,\n",
       "  0.01,\n",
       "  0.01,\n",
       "  0.001,\n",
       "  0.0001,\n",
       "  0.0001],\n",
       " 'ridge_wardcc': [10000.0,\n",
       "  10000.0,\n",
       "  10000.0,\n",
       "  10000.0,\n",
       "  10000.0,\n",
       "  10000.0,\n",
       "  10000.0,\n",
       "  10000.0,\n",
       "  1000.0,\n",
       "  1000.0,\n",
       "  1000.0,\n",
       "  1000.0,\n",
       "  100.0,\n",
       "  100.0,\n",
       "  0.1,\n",
       "  0.1]}"
      ]
     },
     "execution_count": 212,
     "metadata": {},
     "output_type": "execute_result"
    }
   ],
   "source": [
    "best_alpha"
   ]
  },
  {
   "cell_type": "code",
   "execution_count": 253,
   "metadata": {},
   "outputs": [
    {
     "data": {
      "text/plain": [
       "<9856x9856 sparse matrix of type '<class 'numpy.int64'>'\n",
       "\twith 48870 stored elements in COOrdinate format>"
      ]
     },
     "execution_count": 253,
     "metadata": {},
     "output_type": "execute_result"
    }
   ],
   "source": [
    "connectivity"
   ]
  },
  {
   "cell_type": "code",
   "execution_count": 260,
   "metadata": {},
   "outputs": [
    {
     "data": {
      "text/plain": [
       "{'elasticnet_wardcc': [0.1,\n",
       "  0.1,\n",
       "  0.1,\n",
       "  0.1,\n",
       "  0.1,\n",
       "  0.1,\n",
       "  0.1,\n",
       "  0.01,\n",
       "  0.01,\n",
       "  0.01,\n",
       "  0.01,\n",
       "  0.01,\n",
       "  0.01,\n",
       "  0.001,\n",
       "  0.0001,\n",
       "  0.0001],\n",
       " 'lasso_avg': [0.01,\n",
       "  0.01,\n",
       "  0.01,\n",
       "  0.01,\n",
       "  0.01,\n",
       "  0.01,\n",
       "  0.01,\n",
       "  0.01,\n",
       "  0.01,\n",
       "  0.01,\n",
       "  0.01,\n",
       "  0.01,\n",
       "  0.01,\n",
       "  0.001,\n",
       "  0.0001,\n",
       "  0.0001],\n",
       " 'lasso_complete': [0.01,\n",
       "  0.01,\n",
       "  0.01,\n",
       "  0.01,\n",
       "  0.01,\n",
       "  0.01,\n",
       "  0.01,\n",
       "  0.01,\n",
       "  0.01,\n",
       "  0.01,\n",
       "  0.01,\n",
       "  0.01,\n",
       "  0.01,\n",
       "  0.001,\n",
       "  0.0001,\n",
       "  0.0001],\n",
       " 'lasso_single': [0.01,\n",
       "  0.01,\n",
       "  0.01,\n",
       "  0.01,\n",
       "  0.01,\n",
       "  0.01,\n",
       "  0.01,\n",
       "  0.01,\n",
       "  0.01,\n",
       "  0.01,\n",
       "  0.01,\n",
       "  0.01,\n",
       "  0.01,\n",
       "  0.001,\n",
       "  0.001,\n",
       "  0.0001],\n",
       " 'lasso_ward': [0.01,\n",
       "  0.01,\n",
       "  0.01,\n",
       "  0.01,\n",
       "  0.01,\n",
       "  0.01,\n",
       "  0.01,\n",
       "  0.01,\n",
       "  0.01,\n",
       "  0.01,\n",
       "  0.01,\n",
       "  0.01,\n",
       "  0.01,\n",
       "  0.001,\n",
       "  0.0001,\n",
       "  0.0001],\n",
       " 'lasso_wardcc': [0.01,\n",
       "  0.01,\n",
       "  0.01,\n",
       "  0.01,\n",
       "  0.01,\n",
       "  0.01,\n",
       "  0.01,\n",
       "  0.01,\n",
       "  0.01,\n",
       "  0.01,\n",
       "  0.01,\n",
       "  0.01,\n",
       "  0.01,\n",
       "  0.001,\n",
       "  0.0001,\n",
       "  0.0001],\n",
       " 'ridge_wardcc': [10000.0,\n",
       "  10000.0,\n",
       "  10000.0,\n",
       "  10000.0,\n",
       "  10000.0,\n",
       "  10000.0,\n",
       "  10000.0,\n",
       "  10000.0,\n",
       "  1000.0,\n",
       "  1000.0,\n",
       "  1000.0,\n",
       "  1000.0,\n",
       "  100.0,\n",
       "  100.0,\n",
       "  0.1,\n",
       "  0.1]}"
      ]
     },
     "execution_count": 260,
     "metadata": {},
     "output_type": "execute_result"
    }
   ],
   "source": [
    "best_alpha"
   ]
  },
  {
   "cell_type": "code",
   "execution_count": 265,
   "metadata": {},
   "outputs": [
    {
     "name": "stdout",
     "output_type": "stream",
     "text": [
      "lasso_ward\n",
      "9856\n",
      "NOT using connectivity\n",
      "linkage: ward\n",
      "using lasso\n",
      "using lasso\n",
      "using lasso\n",
      "using lasso\n",
      "using lasso\n",
      "duration 13s\n",
      "2000\n",
      "NOT using connectivity\n",
      "linkage: ward\n",
      "using lasso\n",
      "using lasso\n",
      "using lasso\n",
      "using lasso\n",
      "using lasso\n",
      "duration 2s\n",
      "lasso_complete\n",
      "9856\n",
      "NOT using connectivity\n",
      "linkage: complete\n",
      "using lasso\n",
      "using lasso\n",
      "using lasso\n",
      "using lasso\n",
      "using lasso\n",
      "duration 12s\n",
      "2000\n",
      "NOT using connectivity\n",
      "linkage: complete\n",
      "using lasso\n",
      "using lasso\n",
      "using lasso\n",
      "using lasso\n",
      "using lasso\n",
      "duration 3s\n",
      "ridge_wardcc\n",
      "9856\n",
      "using connectivity\n",
      "linkage: ward\n",
      "using ridge\n",
      "using ridge\n",
      "using ridge\n",
      "using ridge\n",
      "using ridge\n",
      "duration 7s\n",
      "2000\n",
      "using connectivity\n",
      "linkage: ward\n",
      "using ridge\n",
      "using ridge\n",
      "using ridge\n",
      "using ridge\n",
      "using ridge\n",
      "duration 2s\n",
      "lasso_single\n",
      "9856\n",
      "NOT using connectivity\n",
      "linkage: single\n",
      "using lasso\n",
      "using lasso\n",
      "using lasso\n",
      "using lasso\n",
      "using lasso\n",
      "duration 12s\n",
      "2000\n",
      "NOT using connectivity\n",
      "linkage: single\n",
      "using lasso\n",
      "using lasso\n",
      "using lasso\n",
      "using lasso\n",
      "using lasso\n",
      "duration 3s\n",
      "lasso_wardcc\n",
      "9856\n",
      "using connectivity\n",
      "linkage: ward\n",
      "using lasso\n",
      "using lasso\n",
      "using lasso\n",
      "using lasso\n",
      "using lasso\n",
      "duration 12s\n",
      "2000\n",
      "using connectivity\n",
      "linkage: ward\n",
      "using lasso\n",
      "using lasso\n",
      "using lasso\n",
      "using lasso\n",
      "using lasso\n",
      "duration 3s\n",
      "elasticnet_wardcc\n",
      "9856\n",
      "using connectivity\n",
      "linkage: ward\n",
      "using elasticnet\n",
      "using elasticnet\n",
      "using elasticnet\n",
      "using elasticnet\n",
      "using elasticnet\n",
      "duration 8s\n",
      "2000\n",
      "using connectivity\n",
      "linkage: ward\n",
      "using elasticnet\n",
      "using elasticnet\n",
      "using elasticnet\n",
      "using elasticnet\n",
      "using elasticnet\n",
      "duration 4s\n",
      "lasso_avg\n",
      "9856\n",
      "NOT using connectivity\n",
      "linkage: average\n",
      "using lasso\n",
      "using lasso\n",
      "using lasso\n",
      "using lasso\n",
      "using lasso\n",
      "duration 11s\n",
      "2000\n",
      "NOT using connectivity\n",
      "linkage: average\n",
      "using lasso\n",
      "using lasso\n",
      "using lasso\n",
      "using lasso\n",
      "using lasso\n",
      "duration 2s\n"
     ]
    }
   ],
   "source": [
    "maps = {}\n",
    "scores = {}\n",
    "\n",
    "for method in scores_loaded:\n",
    "    clusters_now = [n_clusters[i] for i in [0,8]]\n",
    "    alphas_now = [best_alpha[method][i] for i in [0,8]]\n",
    "    print(method)\n",
    "    for cluster, alpha in zip(clusters_now, alphas_now):\n",
    "        print(cluster)\n",
    "        t0=time.time()\n",
    "        dict_name = method + '_' + str(cluster)\n",
    "\n",
    "        ### CLUSTER ###\n",
    "        \n",
    "        if 'cc' in method.split('_')[1]:\n",
    "            conn = connectivity\n",
    "            print('using connectivity')\n",
    "        else:\n",
    "            conn = None\n",
    "            print('NOT using connectivity')\n",
    "        \n",
    "        #print('here {}'.format(method.split('_')[1]))\n",
    "        if 'ward' in method.split('_')[1]:\n",
    "            linkage = 'ward'\n",
    "        elif 'avg' in method.split('_')[1]:\n",
    "            linkage = 'average'\n",
    "        elif 'complete' in method.split('_')[1]:\n",
    "            linkage = 'complete'\n",
    "        elif 'single' in method.split('_')[1]:\n",
    "            linkage = 'single'\n",
    "        else:\n",
    "            print('INVALID LINKAGE')\n",
    "        \n",
    "        print('linkage: {}'.format(linkage))\n",
    "        model = AgglomerativeClustering(n_clusters=cluster,\n",
    "                                    memory=clustering_dir,\n",
    "                                    linkage=linkage,\n",
    "                                    connectivity=conn)\n",
    "        model = model.fit(one_slice)\n",
    "\n",
    "        ### Fit Linear Model ###\n",
    "        X_glm = cluster_signals[cluster]\n",
    "        scores[dict_name] = {}\n",
    "\n",
    "        train_scores, test_scores, coefs = [], [], []\n",
    "\n",
    "        for train_index, test_index in kf.split(X_glm):\n",
    "\n",
    "            X_train, X_test = X_glm[train_index], X_glm[test_index]\n",
    "            Y_train, Y_test = Y_glm[train_index], Y_glm[test_index]\n",
    "            \n",
    "            if method.split('_')[0] == 'lasso':\n",
    "                modelglm = Lasso(alpha=alpha)\n",
    "                print('using lasso')\n",
    "            elif method.split('_')[0] == 'ridge':\n",
    "                modelglm = Ridge(alpha=alpha)\n",
    "                print('using ridge')\n",
    "            elif method.split('_')[0] == 'elasticnet':\n",
    "                modelglm = ElasticNet(alpha=alpha)\n",
    "                print('using elasticnet')\n",
    "            else:\n",
    "                print('INVALID REGULARIZAION')\n",
    "                \n",
    "            modelglm.fit(X_train, Y_train)\n",
    "            train_scores.append(modelglm.score(X_train, Y_train))\n",
    "            test_scores.append(modelglm.score(X_test, Y_test))\n",
    "            coefs.append(modelglm.coef_)\n",
    "\n",
    "        scores[dict_name]['train'] = np.mean(train_scores)\n",
    "        scores[dict_name]['test'] = np.mean(test_scores)\n",
    "        scores[dict_name]['coef'] = np.mean(coefs,axis=0)\n",
    "\n",
    "        ### Color brain by coefs ###\n",
    "        colored_by_betas = np.zeros(77*128)\n",
    "        for cluster_num in range(cluster):\n",
    "            cluster_indicies = np.where(model.labels_==cluster_num)[0]\n",
    "            colored_by_betas[cluster_indicies] = scores[dict_name]['coef'][cluster_num]\n",
    "        colored_by_betas = colored_by_betas.reshape(77,128)\n",
    "\n",
    "        maps[dict_name] = colored_by_betas\n",
    "\n",
    "        print('duration {:.0f}s'.format(time.time()-t0))"
   ]
  },
  {
   "cell_type": "code",
   "execution_count": 238,
   "metadata": {},
   "outputs": [
    {
     "data": {
      "image/png": "[encoded data removed]",
      "text/plain": [
       "<Figure size 720x720 with 28 Axes>"
      ]
     },
     "metadata": {},
     "output_type": "display_data"
    }
   ],
   "source": [
    "fig = plt.figure(figsize=(10,10))\n",
    "grid = ImageGrid(fig, 111, nrows_ncols=(2, 7), axes_pad=0.25)\n",
    "#n_clusters = [9856, 1000]\n",
    "for i,method in enumerate(list(maps.keys())):\n",
    "    grid[i].imshow(maps[method], cmap='seismic', vmin=-np.max(maps[method]), vmax=np.max(maps[method]))\n",
    "    grid[i].axis('off')\n",
    "    grid[i].set_title(method,fontsize=7)\n",
    "#     grid[i].set_title('{} clusters, R$^2$: {:.2f}'.format(cluster, scores[cluster]['test']),\n",
    "#                       fontsize=12,\n",
    "#                       x=.5,y=1.1,\n",
    "#                       horizontalalignment='center',\n",
    "#                       verticalalignment='top')\n",
    "plt.suptitle(x=.5,y=.8,t='fly_5, slice_20, sklearn.Lasso, manual alpha/CV, complete linkage',fontsize=15)\n",
    "save_path = '/oak/stanford/groups/trc/data/Brezovec/2P_Imaging/figs'\n",
    "timestr = time.strftime(\"%Y%m%d-%H%M%S\")\n",
    "fname = os.path.join(save_path, timestr)\n",
    "#plt.savefig(fname,dpi=300,bbox_inches='tight')"
   ]
  },
  {
   "cell_type": "code",
   "execution_count": null,
   "metadata": {
    "collapsed": true
   },
   "outputs": [],
   "source": []
  }
 ],
 "metadata": {
  "kernelspec": {
   "display_name": "Python 3",
   "language": "python",
   "name": "python3"
  },
  "language_info": {
   "codemirror_mode": {
    "name": "ipython",
    "version": 3
   },
   "file_extension": ".py",
   "mimetype": "text/x-python",
   "name": "python",
   "nbconvert_exporter": "python",
   "pygments_lexer": "ipython3",
   "version": "3.6.1"
  }
 },
 "nbformat": 4,
 "nbformat_minor": 2
}
