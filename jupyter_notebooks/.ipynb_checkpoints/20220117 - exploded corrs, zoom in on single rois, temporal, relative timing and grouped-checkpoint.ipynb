{
 "cells": [
  {
   "cell_type": "code",
   "execution_count": 2,
   "metadata": {
    "collapsed": true
   },
   "outputs": [],
   "source": [
    "import sys\n",
    "sys.path.insert(0, '/home/users/brezovec/.local/lib/python3.6/site-packages/lib/python/')\n",
    "import ants\n",
    "import os\n",
    "import bigbadbrain as bbb\n",
    "import numpy as np\n",
    "import matplotlib.pyplot as plt\n",
    "import time\n",
    "import scipy\n",
    "from scipy.ndimage.filters import gaussian_filter\n",
    "from scipy.ndimage.filters import gaussian_filter1d\n",
    "from scipy.signal import savgol_filter\n",
    "from scipy.interpolate import interp1d\n",
    "\n",
    "from skimage.filters import threshold_triangle\n",
    "sys.path.insert(0, '/home/users/brezovec/.local/lib/python3.6/site-packages')\n",
    "import os\n",
    "import statsmodels.api as sm\n",
    "import cv2\n",
    "import matplotlib.patches as mpatches\n",
    "import psutil\n",
    "from mpl_toolkits.axes_grid1 import ImageGrid\n",
    "from matplotlib.colors import Normalize\n",
    "import matplotlib.colors as mcolors\n",
    "from matplotlib import colors\n",
    "\n",
    "%matplotlib inline\n",
    "plt.rcParams.update({'font.size': 20})\n",
    "\n",
    "from sklearn.feature_extraction.image import grid_to_graph\n",
    "from mpl_toolkits.axes_grid1 import ImageGrid\n",
    "import json\n",
    "from matplotlib.ticker import FuncFormatter\n",
    "\n",
    "import nibabel as nib\n",
    "\n",
    "from sklearn.cluster import AgglomerativeClustering\n",
    "from scipy.cluster.hierarchy import dendrogram\n",
    "from scipy.cluster.hierarchy import fcluster\n",
    "from scipy.cluster import hierarchy\n",
    "import itertools\n",
    "import random\n",
    "import matplotlib as mpl\n",
    "from matplotlib.pyplot import cm\n",
    "\n",
    "from scipy.interpolate import UnivariateSpline\n",
    "from sklearn.linear_model import LinearRegression\n",
    "import matplotlib.patches as patches\n",
    "\n",
    "from sklearn.linear_model import RidgeCV\n",
    "from sklearn.linear_model import LassoCV\n",
    "\n",
    "from scipy.fftpack import fft,fftshift,ifft\n",
    "from scipy import signal\n",
    "import pickle\n",
    "from tqdm import tqdm\n",
    "from shutil import copyfile\n",
    "import cv2\n",
    "from scipy.ndimage.morphology import binary_erosion\n",
    "from scipy.ndimage.morphology import binary_dilation"
   ]
  },
  {
   "cell_type": "code",
   "execution_count": 3,
   "metadata": {
    "collapsed": true
   },
   "outputs": [],
   "source": [
    "### Load Luke Mean ###\n",
    "luke_path = \"/oak/stanford/groups/trc/data/Brezovec/2P_Imaging/anat_templates/20210310_luke_exp_thresh.nii\"\n",
    "res_luke_mean = (0.65,0.65,1)\n",
    "luke_mean = np.asarray(nib.load(luke_path).get_data().squeeze(), dtype='float32')\n",
    "luke_mean = luke_mean[:,:,::-1] #flipz\n",
    "luke_mean = ants.from_numpy(luke_mean)\n",
    "luke_mean.set_spacing(res_luke_mean)\n",
    "luke_mean_lowres =  ants.resample_image(luke_mean,(256,128,49),use_voxels=True)\n",
    "\n",
    "### Load JFRC2018 ###\n",
    "fixed_path = \"/oak/stanford/groups/trc/data/Brezovec/2P_Imaging/anat_templates/JRC2018_FEMALE_38um_iso_16bit.nii\"\n",
    "res_JRC2018 = (0.38, 0.38, 0.38)\n",
    "fixed = np.asarray(nib.load(fixed_path).get_data().squeeze(), dtype='float32')\n",
    "fixed = ants.from_numpy(fixed)\n",
    "fixed.set_spacing(res_JRC2018)\n",
    "fixed_lowres = ants.resample_image(fixed,(2,2,2),use_voxels=False)\n",
    "\n",
    "### Load Atlas ###\n",
    "atlas_path = \"/oak/stanford/groups/trc/data/Brezovec/2P_Imaging/anat_templates/jfrc_2018_rois_improve_reorient_transformed.nii\"\n",
    "atlas = np.asarray(nib.load(atlas_path).get_data().squeeze(), dtype='float32')\n",
    "atlas = ants.from_numpy(atlas)\n",
    "atlas.set_spacing((.76,.76,.76))\n",
    "atlas = ants.resample_image(atlas,(2,2,2),use_voxels=False)"
   ]
  },
  {
   "cell_type": "code",
   "execution_count": 4,
   "metadata": {},
   "outputs": [],
   "source": [
    "### Load supervoxel labels ###\n",
    "n_clusters = 2000\n",
    "labels_file = '/oak/stanford/groups/trc/data/Brezovec/2P_Imaging/20201129_super_slices/cluster_labels.npy'\n",
    "cluster_model_labels = np.load(labels_file)"
   ]
  },
  {
   "cell_type": "code",
   "execution_count": 5,
   "metadata": {
    "collapsed": true
   },
   "outputs": [],
   "source": [
    "###########################\n",
    "### Create Notch Filter ###\n",
    "###########################\n",
    "\n",
    "fs = 50.0  # Sample frequency (Hz)\n",
    "f0 = 1.8797  # Frequency to be removed from signal (Hz)\n",
    "Q = 0.2  # Quality factor <---- IMPORTANT\n",
    "w0 = f0/(fs/2)  # Normalized Frequency\n",
    "\n",
    "# Design notch filter\n",
    "b_notch, a_notch = signal.iirnotch(w0, Q)\n",
    "\n",
    "# Frequency response\n",
    "w, h = signal.freqz(b_notch, a_notch)\n",
    "\n",
    "# Generate frequency axis\n",
    "freq = w*fs/(2*np.pi)\n",
    "\n",
    "# ##########################\n",
    "# ### Apply notch filter ###\n",
    "# ##########################\n",
    "\n",
    "# outputSignal = signal.filtfilt(b_notch, a_notch, signal_corrupt)"
   ]
  },
  {
   "cell_type": "code",
   "execution_count": 6,
   "metadata": {},
   "outputs": [
    {
     "data": {
      "text/plain": [
       "<matplotlib.image.AxesImage at 0x7fcca60e62e8>"
      ]
     },
     "execution_count": 6,
     "metadata": {},
     "output_type": "execute_result"
    },
    {
     "data": {
      "image/png": "[encoded data removed]",
      "text/plain": [
       "<Figure size 432x288 with 1 Axes>"
      ]
     },
     "metadata": {},
     "output_type": "display_data"
    }
   ],
   "source": [
    "###########################################\n",
    "### Create estimate of gcamp6f kinetics ###\n",
    "###########################################\n",
    "\n",
    "def fit_eq(x, a, b, c, d, e):\n",
    "    return a*(1-np.exp(-x/b))*(c*np.exp(-x/d)) + e\n",
    "\n",
    "x = np.arange(0, 50, 1)\n",
    "y = fit_eq(x, 1, 4, -1, 8, 0)\n",
    "\n",
    "filter_ = y*-1\n",
    "filter_padded = np.pad(filter_, (0, 450), 'constant')\n",
    "\n",
    "toe = scipy.linalg.toeplitz(filter_padded,r=[0]*500)\n",
    "plt.imshow(toe)"
   ]
  },
  {
   "cell_type": "code",
   "execution_count": null,
   "metadata": {},
   "outputs": [
    {
     "data": {
      "text/plain": [
       "[<matplotlib.lines.Line2D at 0x7fcca53d1358>]"
      ]
     },
     "execution_count": 43,
     "metadata": {},
     "output_type": "execute_result"
    },
    {
     "data": {
      "image/png": "[encoded data removed]",
      "text/plain": [
       "<Figure size 432x288 with 1 Axes>"
      ]
     },
     "metadata": {},
     "output_type": "display_data"
    }
   ],
   "source": [
    "main_path = \"/oak/stanford/groups/trc/data/Brezovec/2P_Imaging/20210316_neural_weighted_behavior\"\n",
    "#main_path = \"/oak/stanford/groups/trc/data/Brezovec/2P_Imaging/20210316_neural_weighted_behavior/acceleration\"\n",
    "\n",
    "response_files = [os.path.join(main_path, file) for file in os.listdir(main_path) if 'responses' in file]\n",
    "bbb.sort_nicely(response_files)\n",
    "\n",
    "responses = []\n",
    "for file in response_files:\n",
    "    responses.append(np.load(file))\n",
    "responses = np.asarray(responses)\n",
    "\n",
    "responses_split = np.reshape(responses, (49-18,2000,4,500))\n",
    "responses_notch = signal.filtfilt(b_notch, a_notch, responses_split, axis=-1)\n",
    "\n",
    "cluster_id = np.argmax(np.sum(responses_notch[20,:,0,:].real, axis=1))\n",
    "plt.plot(responses_notch[20,cluster_id,0,:])"
   ]
  },
  {
   "cell_type": "code",
   "execution_count": null,
   "metadata": {},
   "outputs": [],
   "source": [
    "##################\n",
    "### Deconvolve ###\n",
    "##################\n",
    "\n",
    "all_signals_unfiltered = np.reshape(responses_split[:,:,:,:],(31*2000,4,500))\n",
    "all_signals = np.reshape(responses_notch,(31*2000,4,500))\n",
    "\n",
    "all_signals_flipped = all_signals[:,:,::-1]\n",
    "all_signals_deconv = []\n",
    "for beh_idx in [0,1,2,3]:\n",
    "    print(beh_idx)\n",
    "    # flip filters in time\n",
    "    temp = all_signals_flipped[:,beh_idx,:]\n",
    "\n",
    "    # deconvolve\n",
    "    deconv = np.linalg.lstsq(toe, temp.T)[0]\n",
    "    deconv_smooth = gaussian_filter1d(deconv,sigma=3,axis=0)\n",
    "\n",
    "    # Remove edge artifact\n",
    "    deconv_smooth[:5,:] = deconv_smooth[5,:]\n",
    "    deconv_smooth[-5:,:] = deconv_smooth[-5,:]\n",
    "\n",
    "    # Flip back to being backwards in time\n",
    "    deconv_smooth = deconv_smooth[::-1,:]\n",
    "    all_signals_deconv.append(deconv_smooth)\n",
    "all_signals_deconv = np.asarray(all_signals_deconv)\n",
    "all_signals_deconv = np.swapaxes(all_signals_deconv,0,1)\n",
    "all_signals_deconv = np.swapaxes(all_signals_deconv,0,2)"
   ]
  },
  {
   "cell_type": "code",
   "execution_count": null,
   "metadata": {},
   "outputs": [],
   "source": [
    "######################\n",
    "### Get peaks, etc ###\n",
    "######################\n",
    "\n",
    "all_maxs = np.max(np.abs(all_signals_deconv),axis=-1)\n",
    "thresholds = np.percentile(all_maxs,60,axis=0)\n",
    "\n",
    "peaks = {}\n",
    "peaks_ms = {}\n",
    "peaks_unfiltered = {}\n",
    "thresholded_filters_norm = {}\n",
    "thresholded_filters_norm_unfiltered = {}\n",
    "to_delete = {}\n",
    "for beh_idx in [0,1,2,3]:\n",
    "    print(beh_idx)\n",
    "    to_delete_ = np.where(all_maxs[:,beh_idx]<thresholds[beh_idx])\n",
    "    thresholded_filters = np.delete(all_signals_deconv[:,beh_idx,:], to_delete_, axis=0)\n",
    "    \n",
    "    # add gaussian smoothing\n",
    "    thresholded_filters = gaussian_filter1d(thresholded_filters,sigma=2,axis=-1)\n",
    "    \n",
    "    peaks_ = np.argmax(thresholded_filters,axis=-1)\n",
    "    #idx_sort = np.argsort(peaks)\n",
    "    maxs = np.max(thresholded_filters,axis=-1)\n",
    "    thresholded_filters_norm_ = thresholded_filters/maxs[:,np.newaxis]\n",
    "    \n",
    "    peaks[beh_idx] = peaks_\n",
    "    peaks_ms[beh_idx] = (peaks_-250)*20\n",
    "    thresholded_filters_norm[beh_idx] = thresholded_filters_norm_\n",
    "    to_delete[beh_idx] = to_delete_\n",
    "    \n",
    "    thresholded_filters_unfiltered = np.delete(all_signals_unfiltered[:,beh_idx,:], to_delete_, axis=0)\n",
    "    maxs = np.max(thresholded_filters_unfiltered,axis=-1)\n",
    "    thresholded_filters_norm_ = thresholded_filters_unfiltered/maxs[:,np.newaxis]\n",
    "    thresholded_filters_norm_unfiltered[beh_idx] = thresholded_filters_norm_\n",
    "    \n",
    "    peaks_ = np.argmax(thresholded_filters_unfiltered,axis=-1)\n",
    "    peaks_unfiltered[beh_idx] = peaks_"
   ]
  },
  {
   "cell_type": "code",
   "execution_count": null,
   "metadata": {},
   "outputs": [],
   "source": [
    "for beh_idx in [0]:\n",
    "    behs = ['Vf', 'Vr+', 'Vr-', 'Wlk']\n",
    "\n",
    "    add_deleted_voxels = np.zeros(62000)\n",
    "    to_replace = [i for i in range(62000) if i not in to_delete[beh_idx][0]]\n",
    "    add_deleted_voxels[to_replace] = peaks[beh_idx] #cluster_ids #model.labels_ ### put signal here\n",
    "    to_plot = np.reshape(add_deleted_voxels, (31,2000))\n",
    "\n",
    "    all_colored_by_betas = []\n",
    "    for z in range(9,49-9):\n",
    "        colored_by_betas = np.zeros(256*128)\n",
    "        for cluster_num in range(len(np.unique(cluster_model_labels[z]))):\n",
    "            cluster_indicies = np.where(cluster_model_labels[z]==cluster_num)[0]\n",
    "            colored_by_betas[cluster_indicies] = to_plot[z-9,cluster_num]\n",
    "        colored_by_betas = colored_by_betas.reshape(256,128)\n",
    "        all_colored_by_betas.append(colored_by_betas)\n",
    "    all_colored_by_betas = np.asarray(all_colored_by_betas)\n",
    "    # to_plot = np.max(all_colored_by_betas, axis=0)\n",
    "    # plt.imshow(to_plot[:,:].T)\n",
    "    all_colored_by_betas[all_colored_by_betas==0] = 0 #np.nan #<--------------------\n",
    "\n",
    "    start = 265\n",
    "    end = 200\n",
    "    middle = 250\n",
    "    \n",
    "#     start = 265\n",
    "#     end = 235\n",
    "#     middle = 250\n",
    "    \n",
    "#     start = 235\n",
    "#     end = 190\n",
    "    #middle = 250\n",
    "\n",
    "    # sample the colormaps that you want to use. Use 128 from each so we get 256\n",
    "    # colors in total\n",
    "    colors1 = plt.cm.Blues_r(np.linspace(0., 1, middle-end))\n",
    "    colors2 = plt.cm.Reds(np.linspace(0, 1, start-middle))\n",
    "\n",
    "    # combine them and build a new colormap\n",
    "    colors = np.vstack((colors1, colors2))\n",
    "    mymap = mcolors.LinearSegmentedColormap.from_list('my_colormap', colors)\n",
    "\n",
    "    mymap.set_bad(color='grey')\n",
    "\n",
    "    fig = plt.figure(figsize=(20,10))\n",
    "    grid = ImageGrid(fig, 111, nrows_ncols=(7, 5), axes_pad=.05)\n",
    "    for i in range(31):\n",
    "        cax = grid[i].imshow(all_colored_by_betas[i,:,:].T,cmap=mymap,vmin=end,vmax=start);\n",
    "        #cax = grid[i].imshow(all_colored_by_betas[i,:,:].T,cmap='jet',vmin=end,vmax=start);\n",
    "        grid[i].axis('off')\n",
    "\n",
    "    cbar = fig.colorbar(cax, ticks=[start, middle, end],shrink=.8, anchor=(.1,.5))\n",
    "    cbar.ax.set_yticklabels(['-300ms', '0', '+1000ms'], fontsize=12)\n",
    "\n",
    "#     cbar = fig.colorbar(cax, ticks=[start, end],shrink=.8, anchor=(.1,.5))\n",
    "#     cbar.ax.set_yticklabels(['+300ms', '+1000ms'], fontsize=12)\n",
    "\n",
    "    #plt.suptitle(f'{behs[beh_idx]}',y=.93)\n",
    "\n",
    "    save_path = '/oak/stanford/groups/trc/data/Brezovec/2P_Imaging/figs'\n",
    "    timestr = time.strftime(\"%Y%m%d-%H%M%S\")\n",
    "    fname = os.path.join(save_path, f'{timestr}')\n",
    "    #plt.savefig(fname,dpi=300,bbox_inches='tight')"
   ]
  },
  {
   "cell_type": "code",
   "execution_count": null,
   "metadata": {},
   "outputs": [],
   "source": [
    "pad = np.zeros((9,256,128))\n",
    "all_colored_by_betas_full = np.concatenate((pad,all_colored_by_betas,pad))\n",
    "all_colored_by_betas_full = np.moveaxis(all_colored_by_betas_full,0,2)\n",
    "all_colored_by_betas_full.shape"
   ]
  },
  {
   "cell_type": "code",
   "execution_count": null,
   "metadata": {},
   "outputs": [],
   "source": [
    "moving = ants.from_numpy(all_colored_by_betas_full[:,:,::-1])\n",
    "moving.set_spacing((2.6076, 2.6154, 5.3125)) ### matching this to the slightly off luke mean\n",
    "out = ants.registration(fixed_lowres, luke_mean_lowres, type_of_transform='Affine')\n",
    "maps_voxel_res = ants.apply_transforms(fixed_lowres, moving, out['fwdtransforms'][0], interpolator='nearestNeighbor')\n",
    "temporal_map = maps_voxel_res.numpy()\n",
    "print(temporal_map.shape)\n"
   ]
  },
  {
   "cell_type": "code",
   "execution_count": null,
   "metadata": {
    "collapsed": true
   },
   "outputs": [],
   "source": [
    "vf_map = temporal_map"
   ]
  },
  {
   "cell_type": "code",
   "execution_count": 33,
   "metadata": {
    "collapsed": true
   },
   "outputs": [],
   "source": [
    "vl_map = temporal_map"
   ]
  },
  {
   "cell_type": "code",
   "execution_count": 34,
   "metadata": {
    "collapsed": true
   },
   "outputs": [],
   "source": [
    "vr_map = temporal_map"
   ]
  },
  {
   "cell_type": "code",
   "execution_count": 35,
   "metadata": {},
   "outputs": [
    {
     "ename": "AttributeError",
     "evalue": "'numpy.ndarray' object has no attribute 'numpy'",
     "output_type": "error",
     "traceback": [
      "\u001b[0;31m---------------------------------------------------------------------------\u001b[0m",
      "\u001b[0;31mAttributeError\u001b[0m                            Traceback (most recent call last)",
      "\u001b[0;32m<ipython-input-35-15dcbca3bda1>\u001b[0m in \u001b[0;36m<module>\u001b[0;34m()\u001b[0m\n\u001b[0;32m----> 1\u001b[0;31m \u001b[0matlas\u001b[0m \u001b[0;34m=\u001b[0m \u001b[0matlas\u001b[0m\u001b[0;34m.\u001b[0m\u001b[0mnumpy\u001b[0m\u001b[0;34m(\u001b[0m\u001b[0;34m)\u001b[0m\u001b[0;34m\u001b[0m\u001b[0m\n\u001b[0m\u001b[1;32m      2\u001b[0m \u001b[0matlas_int\u001b[0m \u001b[0;34m=\u001b[0m \u001b[0mnp\u001b[0m\u001b[0;34m.\u001b[0m\u001b[0mrint\u001b[0m\u001b[0;34m(\u001b[0m\u001b[0matlas\u001b[0m\u001b[0;34m)\u001b[0m\u001b[0;34m\u001b[0m\u001b[0m\n\u001b[1;32m      3\u001b[0m \u001b[0matlas_clean\u001b[0m \u001b[0;34m=\u001b[0m \u001b[0mnp\u001b[0m\u001b[0;34m.\u001b[0m\u001b[0mcopy\u001b[0m\u001b[0;34m(\u001b[0m\u001b[0matlas_int\u001b[0m\u001b[0;34m)\u001b[0m\u001b[0;34m\u001b[0m\u001b[0m\n\u001b[1;32m      4\u001b[0m \u001b[0mdiff_atlas\u001b[0m \u001b[0;34m=\u001b[0m \u001b[0matlas_int\u001b[0m \u001b[0;34m-\u001b[0m \u001b[0matlas\u001b[0m\u001b[0;34m\u001b[0m\u001b[0m\n\u001b[1;32m      5\u001b[0m \u001b[0mthresh\u001b[0m \u001b[0;34m=\u001b[0m \u001b[0;36m0.001\u001b[0m\u001b[0;34m\u001b[0m\u001b[0m\n",
      "\u001b[0;31mAttributeError\u001b[0m: 'numpy.ndarray' object has no attribute 'numpy'"
     ]
    }
   ],
   "source": [
    "atlas = atlas.numpy()\n",
    "atlas_int = np.rint(atlas)\n",
    "atlas_clean = np.copy(atlas_int)\n",
    "diff_atlas = atlas_int - atlas\n",
    "thresh = 0.001\n",
    "atlas_clean[np.where(np.abs(diff_atlas)>thresh)] = 0\n",
    "\n",
    "plt.figure(figsize=(10,10))\n",
    "plt.subplot(211)\n",
    "plt.imshow(atlas[:,:,50].T)\n",
    "plt.axis('off')\n",
    "\n",
    "plt.subplot(212)\n",
    "plt.imshow(atlas_clean[:,:,50].T)\n",
    "plt.axis('off')"
   ]
  },
  {
   "cell_type": "code",
   "execution_count": null,
   "metadata": {
    "collapsed": true
   },
   "outputs": [],
   "source": [
    "####################################\n",
    "### FOR SINGLE MAP (ie, not RGB) ###\n",
    "####################################\n",
    "\n",
    "def plot_grouped_roi_image(rois,plot=True):\n",
    "    roi_data = []\n",
    "    roi_contours = []\n",
    "\n",
    "    left_edges = []\n",
    "    right_edges = []\n",
    "    bottom_edges = []\n",
    "    top_edges = []\n",
    "\n",
    "    for roi in rois:\n",
    "        ####################\n",
    "        ### Get roi mask ###\n",
    "        ####################\n",
    "\n",
    "        mask = np.zeros(atlas_clean.shape)\n",
    "        mask[np.where(atlas_clean == roi)] = 1\n",
    "\n",
    "        mask_eroded = binary_erosion(mask, structure=np.ones((2,2,2)))\n",
    "        mask_dilated = binary_dilation(mask_eroded, iterations=2)\n",
    "\n",
    "        # temporal\n",
    "        masked_roi = mask_dilated*temporal_map #CORR\n",
    "        masked_roi_flat = np.max(masked_roi,axis=2)\n",
    "        roi_data.append(masked_roi_flat)\n",
    "        \n",
    "        #PCA\n",
    "#         masked_roi = mask_dilated*pca_map\n",
    "#         maxs = np.max(masked_roi,axis=2)\n",
    "#         mins = np.min(masked_roi,axis=2)\n",
    "#         maxs[np.where(np.abs(mins)>maxs)] = mins[np.where(np.abs(mins)>maxs)]\n",
    "#         masked_roi_flat = maxs\n",
    "#         roi_data.append(masked_roi_flat)\n",
    "    \n",
    "        #######################\n",
    "        ### Get roi contour ###\n",
    "        #######################\n",
    "        \n",
    "        _, mask_binary = cv2.threshold(np.max(mask_dilated,axis=-1).astype('uint8'), 0, 1, cv2.THRESH_BINARY) \n",
    "        contours, _ = cv2.findContours(mask_binary, cv2.RETR_EXTERNAL, cv2.CHAIN_APPROX_SIMPLE)#cv2.RETR_TREE\n",
    "\n",
    "        canvas = np.ones(atlas_clean[:,:,0].shape)\n",
    "        out = cv2.drawContours(canvas, contours, -1, (0,255,0), 1)\n",
    "        out = np.abs(out-1) #flip 0/1\n",
    "        roi_contour = np.repeat(out[:,:,np.newaxis],repeats=4,axis=-1) ### copy into rgba channels to make white\n",
    "        roi_contours.append(roi_contour)\n",
    "\n",
    "        # for plotting\n",
    "        left_edges.append(np.where(np.sum(np.nan_to_num(roi_contour),axis=0)>0)[0][0])\n",
    "        right_edges.append(np.where(np.sum(np.nan_to_num(roi_contour),axis=0)>0)[0][-1])\n",
    "        top_edges.append(np.where(np.sum(np.nan_to_num(roi_contour),axis=1)>0)[0][0])\n",
    "        bottom_edges.append(np.where(np.sum(np.nan_to_num(roi_contour),axis=1)>0)[0][-1])\n",
    "        \n",
    "    # get extreme edges from all rois used\n",
    "    left_edge = np.min(left_edges) - 1\n",
    "    right_edge = np.max(right_edges) + 1\n",
    "    top_edge = np.min(top_edges) - 1\n",
    "    bottom_edge = np.max(bottom_edges) + 1\n",
    "\n",
    "    ############\n",
    "    ### PLOT ###\n",
    "    ############\n",
    "    \n",
    "    roi_datas = np.max(np.asarray(roi_data),axis=0)\n",
    "    data_map = np.swapaxes(roi_datas[top_edge:bottom_edge,left_edge:right_edge],0,1)\n",
    "    \n",
    "    #PCA\n",
    "#     roi_data = np.asarray(roi_data)\n",
    "#     maxs = np.max(roi_data,axis=0)\n",
    "#     mins = np.min(roi_data,axis=0)\n",
    "#     maxs[np.where(np.abs(mins)>maxs)] = mins[np.where(np.abs(mins)>maxs)]\n",
    "#     data_map = np.swapaxes(maxs[top_edge:bottom_edge,left_edge:right_edge],0,1)\n",
    "\n",
    "    if plot:\n",
    "        plt.figure(figsize=(10,10))\n",
    "        plt.imshow(data_map)\n",
    "\n",
    "    contours_to_export = []\n",
    "    for i in range(len(roi_contours)):\n",
    "        single_contour = np.swapaxes(roi_contours[i][top_edge:bottom_edge,left_edge:right_edge],0,1)\n",
    "        contours_to_export.append(single_contour)\n",
    "        if plot:\n",
    "            plt.imshow(single_contour)\n",
    "        \n",
    "    return data_map, contours_to_export\n",
    "\n",
    "def place_on_canvas(input_canvas, to_plot, is_contour=False, is_midline=True, x_shift=0, y_shift=0):\n",
    "    full_y_mid = int(input_canvas.shape[0]/2)\n",
    "    full_x_mid = int(input_canvas.shape[1]/2)\n",
    "\n",
    "    y_mid = int(to_plot.shape[0]/2)\n",
    "    x_mid = int(to_plot.shape[1]/2)\n",
    "\n",
    "    height = to_plot.shape[0]\n",
    "    width = to_plot.shape[1]\n",
    "\n",
    "    left = full_x_mid-x_mid\n",
    "    right = left + width\n",
    "\n",
    "    top = full_y_mid-y_mid\n",
    "    bottom = top + height\n",
    "\n",
    "    if is_contour:\n",
    "        ys = np.where(to_plot[:,:,0]>0)[0] + full_y_mid - y_mid + y_shift\n",
    "        xs = np.where(to_plot[:,:,0]>0)[1] + full_x_mid - x_mid + x_shift\n",
    "        input_canvas[ys,xs]=1\n",
    "    else:\n",
    "        #input_canvas[top+y_shift:bottom+y_shift,left+x_shift:right+x_shift,:3] = to_plot\n",
    "        input_canvas[top+y_shift:bottom+y_shift,left+x_shift:right+x_shift] = to_plot #pca\n",
    "    return input_canvas\n",
    "\n",
    "def place_on_canvas_wrapper(canvas, data_map, contours, y_shift, x_shift):\n",
    "    canvas = place_on_canvas(canvas, to_plot=data_map, y_shift=y_shift, x_shift=x_shift)\n",
    "    for i in range(len(contours)):\n",
    "        canvas = place_on_canvas(canvas, to_plot=contours[i], is_contour=True, y_shift=y_shift, x_shift=x_shift)\n",
    "    return canvas\n",
    "\n",
    "def wraper_wraper(canvas, roi_ids, y_shift, x_shift):\n",
    "    data_map, contours = plot_grouped_roi_image(roi_ids, plot=False)\n",
    "    canvas = place_on_canvas_wrapper(input_canvas, data_map, contours, y_shift=y_shift, x_shift=x_shift)\n",
    "    return canvas"
   ]
  },
  {
   "cell_type": "code",
   "execution_count": null,
   "metadata": {
    "collapsed": true
   },
   "outputs": [],
   "source": [
    "##################\n",
    "### ROI GROUPS ###\n",
    "##################\n",
    "\n",
    "FB_group = {\n",
    "26: 'FB',\n",
    "4: 'NO',\n",
    "5: 'BU_R',\n",
    "54: 'BU_L',\n",
    "8: 'LAL_R',\n",
    "56: 'LAL_L',\n",
    "31: 'PVLP_R',\n",
    "76: 'PVLP_L'}\n",
    "\n",
    "ventromedial_r_group = {\n",
    "13: 'VES_R',  \n",
    "40: 'EPA_R',\n",
    "35: 'GOR_R',\n",
    "11: 'AMMC_R'}\n",
    "\n",
    "ventromedial_l_group = {\n",
    "60: 'VES_L', \n",
    "85: 'EPA_L',\n",
    "80: 'GOR_L',\n",
    "58: 'AMMC_L'}\n",
    "\n",
    "PB = {6: 'PB'}\n",
    "EB = {23: 'EB'}\n",
    "\n",
    "anterior_group = {\n",
    "50: 'PRW',\n",
    "9: 'SAD',\n",
    "49: 'GNG',\n",
    "30: 'AVLP_R',\n",
    "75: 'AVLP_L',\n",
    "24: 'AL_R',\n",
    "70: 'AL_L',\n",
    "64: 'MB_PED_L',\n",
    "65: 'MB_VL_L',\n",
    "66: 'MB_ML_L',\n",
    "81: 'MB_CA_L',\n",
    "17: 'MB_PED_R',\n",
    "18: 'MB_VL_R',\n",
    "19: 'MB_ML_R',\n",
    "36: 'MB_CA_R',\n",
    "32: 'IVLP_R',\n",
    "77: 'IVLP_L',\n",
    "10: 'CAN_R',\n",
    "20: 'FLA_R',\n",
    "57: 'CAN_L',\n",
    "67: 'FLA_L'}\n",
    "\n",
    "big_r_group = {\n",
    "27: 'SLP_R',\n",
    "29: 'SMP_R',\n",
    "33: 'PLP_R',\n",
    "7: 'LH_R',\n",
    "38: 'IPS_R',\n",
    "37: 'SPS_R',\n",
    "16: 'CRE_R',\n",
    "39: 'SCL_R',\n",
    "12: 'ICL_R',\n",
    "15: 'ATL_R',\n",
    "14: 'IB_R',\n",
    "28: 'SIP_R'}\n",
    "    \n",
    "big_l_group = {\n",
    "72: 'SLP_L',   \n",
    "74: 'SMP_L',\n",
    "78: 'PLP_L',\n",
    "55: 'LH_L',\n",
    "83: 'IPS_L',\n",
    "82: 'SPS_L',\n",
    "63: 'CRE_L',\n",
    "84: 'SCL_L',  \n",
    "59: 'ICL_L',\n",
    "62: 'ATL_L',\n",
    "61: 'IB_L',\n",
    "73: 'SIP_L'}"
   ]
  },
  {
   "cell_type": "code",
   "execution_count": null,
   "metadata": {},
   "outputs": [],
   "source": [
    "#input_canvas = np.zeros((500,500,3))\n",
    "input_canvas = np.zeros((500,500)) #pca\n",
    "\n",
    "\n",
    "x_shift=0; y_shift=0\n",
    "data_map, contours = plot_grouped_roi_image(FB_group.keys(), plot=False)\n",
    "canvas = place_on_canvas_wrapper(input_canvas, data_map, contours, y_shift=y_shift, x_shift=x_shift)\n",
    "\n",
    "x_shift=0; y_shift=-45\n",
    "data_map, contours = plot_grouped_roi_image(PB.keys(), plot=False)\n",
    "canvas = place_on_canvas_wrapper(canvas, data_map, contours, y_shift=y_shift, x_shift=x_shift)\n",
    "\n",
    "x_shift=0; y_shift=35\n",
    "data_map, contours = plot_grouped_roi_image({23: 'EB'}.keys(), plot=False)\n",
    "canvas = place_on_canvas_wrapper(canvas, data_map, contours, y_shift=y_shift, x_shift=x_shift)\n",
    "\n",
    "##########\n",
    "### MB ###\n",
    "##########\n",
    "\n",
    "# x_shift=60; y_shift=-50\n",
    "# data_map, contours = plot_grouped_roi_image(MB_left_group.keys(), plot=False)\n",
    "# canvas = place_on_canvas_wrapper(input_canvas, data_map, contours, y_shift=y_shift, x_shift=x_shift)\n",
    "# x_shift=-60; y_shift=-50\n",
    "# data_map, contours = plot_grouped_roi_image(MB_right_group.keys(), plot=False)\n",
    "# canvas = place_on_canvas_wrapper(input_canvas, data_map, contours, y_shift=y_shift, x_shift=x_shift)\n",
    "\n",
    "#################\n",
    "### BIG GROUP ###\n",
    "#################\n",
    "\n",
    "x_shift=-130; y_shift=30\n",
    "data_map, contours = plot_grouped_roi_image(big_r_group.keys(), plot=False)\n",
    "canvas = place_on_canvas_wrapper(input_canvas, data_map, contours, y_shift=y_shift, x_shift=x_shift)\n",
    "x_shift=130; y_shift=30\n",
    "data_map, contours = plot_grouped_roi_image(big_l_group.keys(), plot=False)\n",
    "canvas = place_on_canvas_wrapper(input_canvas, data_map, contours, y_shift=y_shift, x_shift=x_shift)\n",
    "\n",
    "##############\n",
    "### VISUAL ###\n",
    "##############\n",
    "\n",
    "x_shift=-200; y_shift=175\n",
    "data_map, contours = plot_grouped_roi_image({25: 'MED_R'}.keys(), plot=False)\n",
    "canvas = place_on_canvas_wrapper(input_canvas, data_map, contours, y_shift=y_shift, x_shift=x_shift)\n",
    "x_shift=200; y_shift=175\n",
    "data_map, contours = plot_grouped_roi_image({71: 'MED_L'}.keys(), plot=False)\n",
    "canvas = place_on_canvas_wrapper(input_canvas, data_map, contours, y_shift=y_shift, x_shift=x_shift)\n",
    "\n",
    "x_shift=-140; y_shift=40+175\n",
    "data_map, contours = plot_grouped_roi_image({3: 'LO_R'}.keys(), plot=False)\n",
    "canvas = place_on_canvas_wrapper(input_canvas, data_map, contours, y_shift=y_shift, x_shift=x_shift)\n",
    "x_shift=140; y_shift=40+175\n",
    "data_map, contours = plot_grouped_roi_image({53: 'LO_L'}.keys(), plot=False)\n",
    "canvas = place_on_canvas_wrapper(input_canvas, data_map, contours, y_shift=y_shift, x_shift=x_shift)\n",
    "\n",
    "x_shift=-140; y_shift=-30+175\n",
    "data_map, contours = plot_grouped_roi_image({22: 'LP_R'}.keys(), plot=False)\n",
    "canvas = place_on_canvas_wrapper(input_canvas, data_map, contours, y_shift=y_shift, x_shift=x_shift)\n",
    "x_shift=140; y_shift=-30+175\n",
    "data_map, contours = plot_grouped_roi_image({69: 'LP_L'}.keys(), plot=False)\n",
    "canvas = place_on_canvas_wrapper(input_canvas, data_map, contours, y_shift=y_shift, x_shift=x_shift)\n",
    "\n",
    "canvas = wraper_wraper(canvas, ventromedial_r_group.keys(), y_shift=55, x_shift=-50)\n",
    "canvas = wraper_wraper(canvas, ventromedial_l_group.keys(), y_shift=55, x_shift=50)\n",
    "\n",
    "canvas = wraper_wraper(canvas, anterior_group.keys(), y_shift=150, x_shift=0)\n",
    "\n",
    "canvas = wraper_wraper(canvas, {34: 'AOTU_R'}.keys(), y_shift=-50+175-15, x_shift=-80)\n",
    "canvas = wraper_wraper(canvas, {79: 'AOTU_L'}.keys(), y_shift=-50+175-15, x_shift=80)\n",
    "    \n",
    "canvas[np.where(canvas==0)] = np.nan\n",
    "\n",
    "plt.figure(figsize=(10,10))\n",
    "plt.imshow(canvas[150:,:],cmap=mymap,vmin=end,vmax=start)\n",
    "plt.axis('off')\n",
    "\n",
    "save_path = '/oak/stanford/groups/trc/data/Brezovec/2P_Imaging/figs'\n",
    "timestr = time.strftime(\"%Y%m%d-%H%M%S\")\n",
    "fname = os.path.join(save_path, f'{timestr}')\n",
    "#plt.savefig(fname,dpi=300,bbox_inches='tight')"
   ]
  },
  {
   "cell_type": "markdown",
   "metadata": {},
   "source": [
    "# Coronal Slices"
   ]
  },
  {
   "cell_type": "code",
   "execution_count": 21,
   "metadata": {
    "collapsed": true
   },
   "outputs": [],
   "source": [
    "plt.style.use('dark_background')"
   ]
  },
  {
   "cell_type": "code",
   "execution_count": 22,
   "metadata": {
    "collapsed": true
   },
   "outputs": [],
   "source": [
    "parula_data = [[0.2422, 0.1504, 0.6603],\n",
    "[0.2444, 0.1534, 0.6728],\n",
    "[0.2464, 0.1569, 0.6847],\n",
    "[0.2484, 0.1607, 0.6961],\n",
    "[0.2503, 0.1648, 0.7071],\n",
    "[0.2522, 0.1689, 0.7179],\n",
    "[0.254, 0.1732, 0.7286],\n",
    "[0.2558, 0.1773, 0.7393],\n",
    "[0.2576, 0.1814, 0.7501],\n",
    "[0.2594, 0.1854, 0.761],\n",
    "[0.2611, 0.1893, 0.7719],\n",
    "[0.2628, 0.1932, 0.7828],\n",
    "[0.2645, 0.1972, 0.7937],\n",
    "[0.2661, 0.2011, 0.8043],\n",
    "[0.2676, 0.2052, 0.8148],\n",
    "[0.2691, 0.2094, 0.8249],\n",
    "[0.2704, 0.2138, 0.8346],\n",
    "[0.2717, 0.2184, 0.8439],\n",
    "[0.2729, 0.2231, 0.8528],\n",
    "[0.274, 0.228, 0.8612],\n",
    "[0.2749, 0.233, 0.8692],\n",
    "[0.2758, 0.2382, 0.8767],\n",
    "[0.2766, 0.2435, 0.884],\n",
    "[0.2774, 0.2489, 0.8908],\n",
    "[0.2781, 0.2543, 0.8973],\n",
    "[0.2788, 0.2598, 0.9035],\n",
    "[0.2794, 0.2653, 0.9094],\n",
    "[0.2798, 0.2708, 0.915],\n",
    "[0.2802, 0.2764, 0.9204],\n",
    "[0.2806, 0.2819, 0.9255],\n",
    "[0.2809, 0.2875, 0.9305],\n",
    "[0.2811, 0.293, 0.9352],\n",
    "[0.2813, 0.2985, 0.9397],\n",
    "[0.2814, 0.304, 0.9441],\n",
    "[0.2814, 0.3095, 0.9483],\n",
    "[0.2813, 0.315, 0.9524],\n",
    "[0.2811, 0.3204, 0.9563],\n",
    "[0.2809, 0.3259, 0.96],\n",
    "[0.2807, 0.3313, 0.9636],\n",
    "[0.2803, 0.3367, 0.967],\n",
    "[0.2798, 0.3421, 0.9702],\n",
    "[0.2791, 0.3475, 0.9733],\n",
    "[0.2784, 0.3529, 0.9763],\n",
    "[0.2776, 0.3583, 0.9791],\n",
    "[0.2766, 0.3638, 0.9817],\n",
    "[0.2754, 0.3693, 0.984],\n",
    "[0.2741, 0.3748, 0.9862],\n",
    "[0.2726, 0.3804, 0.9881],\n",
    "[0.271, 0.386, 0.9898],\n",
    "[0.2691, 0.3916, 0.9912],\n",
    "[0.267, 0.3973, 0.9924],\n",
    "[0.2647, 0.403, 0.9935],\n",
    "[0.2621, 0.4088, 0.9946],\n",
    "[0.2591, 0.4145, 0.9955],\n",
    "[0.2556, 0.4203, 0.9965],\n",
    "[0.2517, 0.4261, 0.9974],\n",
    "[0.2473, 0.4319, 0.9983],\n",
    "[0.2424, 0.4378, 0.9991],\n",
    "[0.2369, 0.4437, 0.9996],\n",
    "[0.2311, 0.4497, 0.9995],\n",
    "[0.225, 0.4559, 0.9985],\n",
    "[0.2189, 0.462, 0.9968],\n",
    "[0.2128, 0.4682, 0.9948],\n",
    "[0.2066, 0.4743, 0.9926],\n",
    "[0.2006, 0.4803, 0.9906],\n",
    "[0.195, 0.4861, 0.9887],\n",
    "[0.1903, 0.4919, 0.9867],\n",
    "[0.1869, 0.4975, 0.9844],\n",
    "[0.1847, 0.503, 0.9819],\n",
    "[0.1831, 0.5084, 0.9793],\n",
    "[0.1818, 0.5138, 0.9766],\n",
    "[0.1806, 0.5191, 0.9738],\n",
    "[0.1795, 0.5244, 0.9709],\n",
    "[0.1785, 0.5296, 0.9677],\n",
    "[0.1778, 0.5349, 0.9641],\n",
    "[0.1773, 0.5401, 0.9602],\n",
    "[0.1768, 0.5452, 0.956],\n",
    "[0.1764, 0.5504, 0.9516],\n",
    "[0.1755, 0.5554, 0.9473],\n",
    "[0.174, 0.5605, 0.9432],\n",
    "[0.1716, 0.5655, 0.9393],\n",
    "[0.1686, 0.5705, 0.9357],\n",
    "[0.1649, 0.5755, 0.9323],\n",
    "[0.161, 0.5805, 0.9289],\n",
    "[0.1573, 0.5854, 0.9254],\n",
    "[0.154, 0.5902, 0.9218],\n",
    "[0.1513, 0.595, 0.9182],\n",
    "[0.1492, 0.5997, 0.9147],\n",
    "[0.1475, 0.6043, 0.9113],\n",
    "[0.1461, 0.6089, 0.908],\n",
    "[0.1446, 0.6135, 0.905],\n",
    "[0.1429, 0.618, 0.9022],\n",
    "[0.1408, 0.6226, 0.8998],\n",
    "[0.1383, 0.6272, 0.8975],\n",
    "[0.1354, 0.6317, 0.8953],\n",
    "[0.1321, 0.6363, 0.8932],\n",
    "[0.1288, 0.6408, 0.891],\n",
    "[0.1253, 0.6453, 0.8887],\n",
    "[0.1219, 0.6497, 0.8862],\n",
    "[0.1185, 0.6541, 0.8834],\n",
    "[0.1152, 0.6584, 0.8804],\n",
    "[0.1119, 0.6627, 0.877],\n",
    "[0.1085, 0.6669, 0.8734],\n",
    "[0.1048, 0.671, 0.8695],\n",
    "[0.1009, 0.675, 0.8653],\n",
    "[0.0964, 0.6789, 0.8609],\n",
    "[0.0914, 0.6828, 0.8562],\n",
    "[0.0855, 0.6865, 0.8513],\n",
    "[0.0789, 0.6902, 0.8462],\n",
    "[0.0713, 0.6938, 0.8409],\n",
    "[0.0628, 0.6972, 0.8355],\n",
    "[0.0535, 0.7006, 0.8299],\n",
    "[0.0433, 0.7039, 0.8242],\n",
    "[0.0328, 0.7071, 0.8183],\n",
    "[0.0234, 0.7103, 0.8124],\n",
    "[0.0155, 0.7133, 0.8064],\n",
    "[0.0091, 0.7163, 0.8003],\n",
    "[0.0046, 0.7192, 0.7941],\n",
    "[0.0019, 0.722, 0.7878],\n",
    "[0.0009, 0.7248, 0.7815],\n",
    "[0.0018, 0.7275, 0.7752],\n",
    "[0.0046, 0.7301, 0.7688],\n",
    "[0.0094, 0.7327, 0.7623],\n",
    "[0.0162, 0.7352, 0.7558],\n",
    "[0.0253, 0.7376, 0.7492],\n",
    "[0.0369, 0.74, 0.7426],\n",
    "[0.0504, 0.7423, 0.7359],\n",
    "[0.0638, 0.7446, 0.7292],\n",
    "[0.077, 0.7468, 0.7224],\n",
    "[0.0899, 0.7489, 0.7156],\n",
    "[0.1023, 0.751, 0.7088],\n",
    "[0.1141, 0.7531, 0.7019],\n",
    "[0.1252, 0.7552, 0.695],\n",
    "[0.1354, 0.7572, 0.6881],\n",
    "[0.1448, 0.7593, 0.6812],\n",
    "[0.1532, 0.7614, 0.6741],\n",
    "[0.1609, 0.7635, 0.6671],\n",
    "[0.1678, 0.7656, 0.6599],\n",
    "[0.1741, 0.7678, 0.6527],\n",
    "[0.1799, 0.7699, 0.6454],\n",
    "[0.1853, 0.7721, 0.6379],\n",
    "[0.1905, 0.7743, 0.6303],\n",
    "[0.1954, 0.7765, 0.6225],\n",
    "[0.2003, 0.7787, 0.6146],\n",
    "[0.2061, 0.7808, 0.6065],\n",
    "[0.2118, 0.7828, 0.5983],\n",
    "[0.2178, 0.7849, 0.5899],\n",
    "[0.2244, 0.7869, 0.5813],\n",
    "[0.2318, 0.7887, 0.5725],\n",
    "[0.2401, 0.7905, 0.5636],\n",
    "[0.2491, 0.7922, 0.5546],\n",
    "[0.2589, 0.7937, 0.5454],\n",
    "[0.2695, 0.7951, 0.536],\n",
    "[0.2809, 0.7964, 0.5266],\n",
    "[0.2929, 0.7975, 0.517],\n",
    "[0.3052, 0.7985, 0.5074],\n",
    "[0.3176, 0.7994, 0.4975],\n",
    "[0.3301, 0.8002, 0.4876],\n",
    "[0.3424, 0.8009, 0.4774],\n",
    "[0.3548, 0.8016, 0.4669],\n",
    "[0.3671, 0.8021, 0.4563],\n",
    "[0.3795, 0.8026, 0.4454],\n",
    "[0.3921, 0.8029, 0.4344],\n",
    "[0.405, 0.8031, 0.4233],\n",
    "[0.4184, 0.803, 0.4122],\n",
    "[0.4322, 0.8028, 0.4013],\n",
    "[0.4463, 0.8024, 0.3904],\n",
    "[0.4608, 0.8018, 0.3797],\n",
    "[0.4753, 0.8011, 0.3691],\n",
    "[0.4899, 0.8002, 0.3586],\n",
    "[0.5044, 0.7993, 0.348],\n",
    "[0.5187, 0.7982, 0.3374],\n",
    "[0.5329, 0.797, 0.3267],\n",
    "[0.547, 0.7957, 0.3159],\n",
    "[0.5609, 0.7943, 0.305],\n",
    "[0.5748, 0.7929, 0.2941],\n",
    "[0.5886, 0.7913, 0.2833],\n",
    "[0.6024, 0.7896, 0.2726],\n",
    "[0.6161, 0.7878, 0.2622],\n",
    "[0.6297, 0.7859, 0.2521],\n",
    "[0.6433, 0.7839, 0.2423],\n",
    "[0.6567, 0.7818, 0.2329],\n",
    "[0.6701, 0.7796, 0.2239],\n",
    "[0.6833, 0.7773, 0.2155],\n",
    "[0.6963, 0.775, 0.2075],\n",
    "[0.7091, 0.7727, 0.1998],\n",
    "[0.7218, 0.7703, 0.1924],\n",
    "[0.7344, 0.7679, 0.1852],\n",
    "[0.7468, 0.7654, 0.1782],\n",
    "[0.759, 0.7629, 0.1717],\n",
    "[0.771, 0.7604, 0.1658],\n",
    "[0.7829, 0.7579, 0.1608],\n",
    "[0.7945, 0.7554, 0.157],\n",
    "[0.806, 0.7529, 0.1546],\n",
    "[0.8172, 0.7505, 0.1535],\n",
    "[0.8281, 0.7481, 0.1536],\n",
    "[0.8389, 0.7457, 0.1546],\n",
    "[0.8495, 0.7435, 0.1564],\n",
    "[0.86, 0.7413, 0.1587],\n",
    "[0.8703, 0.7392, 0.1615],\n",
    "[0.8804, 0.7372, 0.165],\n",
    "[0.8903, 0.7353, 0.1695],\n",
    "[0.9, 0.7336, 0.1749],\n",
    "[0.9093, 0.7321, 0.1815],\n",
    "[0.9184, 0.7308, 0.189],\n",
    "[0.9272, 0.7298, 0.1973],\n",
    "[0.9357, 0.729, 0.2061],\n",
    "[0.944, 0.7285, 0.2151],\n",
    "[0.9523, 0.7284, 0.2237],\n",
    "[0.9606, 0.7285, 0.2312],\n",
    "[0.9689, 0.7292, 0.2373],\n",
    "[0.977, 0.7304, 0.2418],\n",
    "[0.9842, 0.733, 0.2446],\n",
    "[0.99, 0.7365, 0.2429],\n",
    "[0.9946, 0.7407, 0.2394],\n",
    "[0.9966, 0.7458, 0.2351],\n",
    "[0.9971, 0.7513, 0.2309],\n",
    "[0.9972, 0.7569, 0.2267],\n",
    "[0.9971, 0.7626, 0.2224],\n",
    "[0.9969, 0.7683, 0.2181],\n",
    "[0.9966, 0.774, 0.2138],\n",
    "[0.9962, 0.7798, 0.2095],\n",
    "[0.9957, 0.7856, 0.2053],\n",
    "[0.9949, 0.7915, 0.2012],\n",
    "[0.9938, 0.7974, 0.1974],\n",
    "[0.9923, 0.8034, 0.1939],\n",
    "[0.9906, 0.8095, 0.1906],\n",
    "[0.9885, 0.8156, 0.1875],\n",
    "[0.9861, 0.8218, 0.1846],\n",
    "[0.9835, 0.828, 0.1817],\n",
    "[0.9807, 0.8342, 0.1787],\n",
    "[0.9778, 0.8404, 0.1757],\n",
    "[0.9748, 0.8467, 0.1726],\n",
    "[0.972, 0.8529, 0.1695],\n",
    "[0.9694, 0.8591, 0.1665],\n",
    "[0.9671, 0.8654, 0.1636],\n",
    "[0.9651, 0.8716, 0.1608],\n",
    "[0.9634, 0.8778, 0.1582],\n",
    "[0.9619, 0.884, 0.1557],\n",
    "[0.9608, 0.8902, 0.1532],\n",
    "[0.9601, 0.8963, 0.1507],\n",
    "[0.9596, 0.9023, 0.148],\n",
    "[0.9595, 0.9084, 0.145],\n",
    "[0.9597, 0.9143, 0.1418],\n",
    "[0.9601, 0.9203, 0.1382],\n",
    "[0.9608, 0.9262, 0.1344],\n",
    "[0.9618, 0.932, 0.1304],\n",
    "[0.9629, 0.9379, 0.1261],\n",
    "[0.9642, 0.9437, 0.1216],\n",
    "[0.9657, 0.9494, 0.1168],\n",
    "[0.9674, 0.9552, 0.1116],\n",
    "[0.9692, 0.9609, 0.1061],\n",
    "[0.9711, 0.9667, 0.1001],\n",
    "[0.973, 0.9724, 0.0938],\n",
    "[0.9749, 0.9782, 0.0872],\n",
    "[0.9769, 0.9839, 0.0805]]"
   ]
  },
  {
   "cell_type": "code",
   "execution_count": 23,
   "metadata": {
    "collapsed": true
   },
   "outputs": [],
   "source": [
    "parula = mcolors.LinearSegmentedColormap.from_list('my_colormap', parula_data)"
   ]
  },
  {
   "cell_type": "code",
   "execution_count": 41,
   "metadata": {
    "collapsed": true
   },
   "outputs": [],
   "source": [
    "def cut_out_roi(temporal_map,roi,z):\n",
    "    hor_slice = False\n",
    "    y=50\n",
    "    extra_slices = 1\n",
    "    \n",
    "    # make everything black except ROI\n",
    "    mask = np.zeros(atlas_clean.shape)\n",
    "    mask[np.where(atlas_clean == roi)] = 1\n",
    "    mask_eroded = binary_erosion(mask, structure=np.ones((2,2,2)))\n",
    "    mask_dilated = binary_dilation(mask_eroded, iterations=2)\n",
    "    masked_roi = mask_dilated*temporal_map ### for single color\n",
    "\n",
    "    #\n",
    "    if hor_slice:\n",
    "        _, mask_binary = cv2.threshold(np.max(mask_dilated[:,y-extra_slices:y+extra_slices,:],axis=1).astype('uint8'), 0, 1, cv2.THRESH_BINARY) \n",
    "    else:\n",
    "        _, mask_binary = cv2.threshold(np.max(mask_dilated[:,:,z-extra_slices:z+extra_slices],axis=2).astype('uint8'), 0, 1, cv2.THRESH_BINARY) \n",
    "    contours, _ = cv2.findContours(mask_binary, cv2.RETR_EXTERNAL, cv2.CHAIN_APPROX_SIMPLE)#cv2.RETR_TREE\n",
    "\n",
    "    canvas = np.ones(atlas_clean[:,:,0].shape)\n",
    "    out = cv2.drawContours(canvas, contours, -1, (0,255,0), 1)\n",
    "    roi_contour = np.abs(out-1) #flip 0/1\n",
    "    #roi_contour = np.repeat(out[:,:,np.newaxis],repeats=4,axis=-1) ### copy into rgba channels to make white\n",
    "\n",
    "    # get edges\n",
    "    left_edge = np.where(np.sum(np.nan_to_num(roi_contour),axis=0)>0)[0][0] - 1\n",
    "    right_edge = np.where(np.sum(np.nan_to_num(roi_contour),axis=0)>0)[0][-1] + 2\n",
    "    top_edge = np.where(np.sum(np.nan_to_num(roi_contour),axis=1)>0)[0][0] - 1\n",
    "    bottom_edge = np.where(np.sum(np.nan_to_num(roi_contour),axis=1)>0)[0][-1] + 2\n",
    "\n",
    "\n",
    "    # cut out ROI\n",
    "    if hor_slice:\n",
    "        cut_roi = np.swapaxes(np.max(masked_roi[top_edge:bottom_edge,y-extra_slices:y+extra_slices,left_edge:right_edge],axis=1),0,1)\n",
    "    else:\n",
    "        cut_roi = np.swapaxes(np.max(masked_roi[top_edge:bottom_edge,left_edge:right_edge,z-extra_slices:z+extra_slices],axis=2),0,1)\n",
    "    cut_roi[np.where(cut_roi==0)] = np.nan\n",
    "    \n",
    "    # convert to cmap\n",
    "    #put_in_cmap = normalize(cut_roi,200,265) #min and max\n",
    "    put_in_cmap = normalize(cut_roi,220,260) #min and max #220 good # 5is 100ms, so this covers 800ms\n",
    "    put_in_cmap = normalize(cut_roi,180,240) #min and max #220 good # 5is 100ms, so this covers 800ms\n",
    "    #to_plot = cm.terrain(put_in_cmap)\n",
    "    to_plot = parula(put_in_cmap)\n",
    "\n",
    "    \n",
    "    # add black background\n",
    "    make_black = np.argwhere(np.isnan(cut_roi))\n",
    "    to_plot[make_black[:,0],make_black[:,1],:3]=0\n",
    "    \n",
    "    # add white contour\n",
    "    roi_contour = roi_contour[top_edge:bottom_edge,left_edge:right_edge]\n",
    "    ys = np.where(roi_contour>0)[0]\n",
    "    xs = np.where(roi_contour>0)[1]\n",
    "    to_plot[xs,ys,:3]=1\n",
    "    return to_plot\n",
    "\n",
    "def normalize(arr,vmin,vmax):\n",
    "    t_min = 0\n",
    "    t_max = 1\n",
    "    norm_arr = []\n",
    "    diff = t_max - t_min\n",
    "    diff_arr = vmax - vmin   \n",
    "    for i in arr:\n",
    "        temp = (((i - vmin)*diff)/diff_arr) + t_min\n",
    "        norm_arr.append(temp)\n",
    "    return np.asarray(norm_arr)"
   ]
  },
  {
   "cell_type": "code",
   "execution_count": null,
   "metadata": {
    "collapsed": true
   },
   "outputs": [],
   "source": [
    "#IPS\n",
    "roi = [83,38]\n",
    "z = 62\n",
    "\n",
    "#LH\n",
    "roi = [7,55]\n",
    "z = 66\n",
    "\n",
    "#GNG\n",
    "roi = 49\n",
    "z=54\n",
    "\n",
    "#SPS\n",
    "roi = [37,82]\n",
    "z=74\n",
    "\n",
    "#SAD\n",
    "roi = 9\n",
    "z=45\n",
    "\n",
    "#PLP\n",
    "roi = [33,78]\n",
    "z=66\n",
    "\n",
    "#AMMC\n",
    "roi = [11,58]\n",
    "z=44\n",
    "\n",
    "#SMP\n",
    "roi = [29,74]\n",
    "z=54\n",
    "\n",
    "#Lobula\n",
    "roi = [3,53]\n",
    "z=66\n",
    "y=80\n",
    "\n",
    "#FB\n",
    "roi = 26\n",
    "z=54\n",
    "y=55\n",
    "\n",
    "#PB\n",
    "roi = 6\n",
    "z=74\n",
    "\n",
    "#EB\n",
    "roi = 23\n",
    "z=49\n",
    "\n",
    "#LAL\n",
    "roi = [8,56]\n",
    "z=42\n",
    "y=68\n",
    "\n",
    "#NO\n",
    "roi = 4\n",
    "z=47\n",
    "y=74"
   ]
  },
  {
   "cell_type": "code",
   "execution_count": null,
   "metadata": {
    "collapsed": true
   },
   "outputs": [],
   "source": []
  },
  {
   "cell_type": "code",
   "execution_count": 38,
   "metadata": {
    "collapsed": true
   },
   "outputs": [],
   "source": [
    "# LH\n",
    "left_roi = 7\n",
    "right_roi = 55\n",
    "z = 66\n",
    "\n",
    "# # MED\n",
    "left_roi = 25\n",
    "right_roi = 71\n",
    "z = 58\n",
    "\n",
    "# # IPS\n",
    "left_roi = 38\n",
    "right_roi = 83\n",
    "z = 62\n",
    "\n",
    "# # SMP\n",
    "# left_roi = 29\n",
    "# right_roi = 74\n",
    "# z = 54\n",
    "\n",
    "# # LAL\n",
    "# left_roi = 8\n",
    "# right_roi = 56\n",
    "# z=42\n",
    "\n",
    "# # PLP\n",
    "# left_roi = 33\n",
    "# right_roi = 78\n",
    "# z=66\n",
    "\n",
    "# # SPS\n",
    "# left_roi = 37\n",
    "# right_roi = 82\n",
    "# z=74\n",
    "\n",
    "# #Lobula\n",
    "# left_roi = 3\n",
    "# right_roi = 53\n",
    "# z=66\n",
    "\n",
    "# # #FB\n",
    "# left_roi = 26\n",
    "# z=54\n",
    "\n",
    "# # #PB\n",
    "# left_roi = 6\n",
    "# z=74\n",
    "\n",
    "# # #EB\n",
    "# left_roi = 23\n",
    "# z=49\n",
    "\n",
    "# # #NO\n",
    "# left_roi = 4\n",
    "# z=47\n",
    "\n"
   ]
  },
  {
   "cell_type": "code",
   "execution_count": 36,
   "metadata": {
    "collapsed": true
   },
   "outputs": [],
   "source": [
    "# MB\n",
    "left_roi = 19\n",
    "right_roi = 66\n",
    "z=33\n",
    "\n",
    "#SIP\n",
    "left_roi = 28\n",
    "right_roi = 73\n",
    "z=52\n",
    "\n",
    "#LP\n",
    "# left_roi = 22\n",
    "# right_roi = 69\n",
    "# z=80 #and 3 extra slices"
   ]
  },
  {
   "cell_type": "code",
   "execution_count": 50,
   "metadata": {
    "collapsed": true
   },
   "outputs": [],
   "source": [
    "rois = {\n",
    "    'LH': {'l_roi': 7, 'r_roi': 55,'z': 66},\n",
    "    'MED': {'l_roi': 25, 'r_roi': 71,'z': 58},\n",
    "    'IPS': {'l_roi': 38, 'r_roi': 83,'z': 62},\n",
    "    'SMP': {'l_roi': 29, 'r_roi': 74,'z': 54},\n",
    "    'LAL': {'l_roi': 8, 'r_roi': 56,'z': 42},\n",
    "    'PLP': {'l_roi': 33, 'r_roi': 78,'z': 66},\n",
    "    'SPS': {'l_roi': 37, 'r_roi': 82,'z': 74},\n",
    "    'LO': {'l_roi': 3, 'r_roi': 53,'z': 66},\n",
    "    'FB': {'l_roi': 26, 'r_roi': 26,'z': 54},\n",
    "    'MB': {'l_roi': 19, 'r_roi': 66,'z': 33},\n",
    "    'SIP': {'l_roi': 28, 'r_roi': 73,'z': 52}\n",
    "}"
   ]
  },
  {
   "cell_type": "code",
   "execution_count": 67,
   "metadata": {
    "collapsed": true
   },
   "outputs": [],
   "source": [
    "rois = {\n",
    "    'GNG': {'l_roi': 49, 'r_roi': 49,'z': 54},\n",
    "    'SAD': {'l_roi': 9, 'r_roi': 9,'z': 46},\n",
    "    'PB': {'l_roi': 6, 'r_roi': 6,'z': 74},\n",
    "    'NO': {'l_roi': 4, 'r_roi': 4,'z': 47},\n",
    "    'SPS': {'l_roi': 37, 'r_roi': 82,'z': 74},\n",
    "    'AMMC': {'l_roi': 11, 'r_roi': 58,'z': 44},\n",
    "    'VES': {'l_roi': 13, 'r_roi': 60,'z': 45},\n",
    "    'MBCA': {'l_roi': 81, 'r_roi': 36,'z': 79}\n",
    "}"
   ]
  },
  {
   "cell_type": "code",
   "execution_count": 88,
   "metadata": {
    "collapsed": true
   },
   "outputs": [],
   "source": [
    "rois = {'MBPED': {'l_roi': 17, 'r_roi': 64,'z': 40}}"
   ]
  },
  {
   "cell_type": "code",
   "execution_count": 25,
   "metadata": {
    "collapsed": true
   },
   "outputs": [],
   "source": [
    "rois = {'IPS': {'l_roi': 38, 'r_roi': 83,'z': 62}}"
   ]
  },
  {
   "cell_type": "code",
   "execution_count": null,
   "metadata": {},
   "outputs": [],
   "source": [
    "for roi in rois.keys():\n",
    "    left_roi = rois[roi]['l_roi']\n",
    "    right_roi = rois[roi]['r_roi']\n",
    "    z =  rois[roi]['z']\n",
    "\n",
    "    fig = plt.figure(figsize=(10,10))\n",
    "\n",
    "    ########## VF\n",
    "    fig.add_axes([0,1,.3,.3])\n",
    "    cut_roi = cut_out_roi(vf_map,left_roi,z)\n",
    "    plt.imshow(cut_roi)\n",
    "    plt.axis('off')\n",
    "\n",
    "    fig.add_axes([.3,1,.3,.3])\n",
    "    cut_roi = cut_out_roi(vf_map,right_roi,z)\n",
    "    plt.imshow(cut_roi)\n",
    "    plt.axis('off')\n",
    "\n",
    "    ########### VL\n",
    "    fig.add_axes([0,.7,.3,.3])\n",
    "    cut_roi = cut_out_roi(vl_map,left_roi,z)\n",
    "    plt.imshow(cut_roi)\n",
    "    plt.axis('off')\n",
    "\n",
    "    fig.add_axes([.3,.7,.3,.3])\n",
    "    cut_roi = cut_out_roi(vl_map,right_roi,z)\n",
    "    plt.imshow(cut_roi)\n",
    "    plt.axis('off')\n",
    "\n",
    "    ########### VR\n",
    "    fig.add_axes([0,.4,.3,.3])\n",
    "    cut_roi = cut_out_roi(vr_map,left_roi,z)\n",
    "    plt.imshow(cut_roi)\n",
    "    plt.axis('off')\n",
    "\n",
    "    fig.add_axes([.3,.4,.3,.3])\n",
    "    cut_roi = cut_out_roi(vr_map,right_roi,z)\n",
    "    plt.imshow(cut_roi)\n",
    "    plt.axis('off')\n",
    "\n",
    "    save_path = '/oak/stanford/groups/trc/data/Brezovec/2P_Imaging/figs'\n",
    "    timestr = time.strftime(\"%Y%m%d-%H%M%S\")\n",
    "    fname = os.path.join(save_path, f'{timestr}')\n",
    "    #plt.savefig(fname,dpi=300,bbox_inches='tight')#,transparent=True)"
   ]
  },
  {
   "cell_type": "code",
   "execution_count": null,
   "metadata": {
    "collapsed": true
   },
   "outputs": [],
   "source": []
  },
  {
   "cell_type": "code",
   "execution_count": 158,
   "metadata": {},
   "outputs": [
    {
     "data": {
      "image/png": "[encoded data removed]",
      "text/plain": [
       "<Figure size 504x720 with 6 Axes>"
      ]
     },
     "metadata": {},
     "output_type": "display_data"
    }
   ],
   "source": [
    "left_roi = 25\n",
    "right_roi = 71\n",
    "z = 58\n",
    "\n",
    "#for ratio\n",
    "cut_roi = cut_out_roi(vf_map,left_roi,z)\n",
    "\n",
    "\n",
    "plt.figure(figsize=(7,10))\n",
    "plt.subplot(321)\n",
    "cut_roi = cut_out_roi(vf_map,left_roi,z)\n",
    "plt.imshow(cut_roi)\n",
    "plt.axis('off')\n",
    "\n",
    "plt.subplot(322)\n",
    "cut_roi = cut_out_roi(vf_map,right_roi,z)\n",
    "plt.imshow(cut_roi)\n",
    "plt.axis('off')\n",
    "\n",
    "plt.subplot(323)\n",
    "cut_roi = cut_out_roi(vl_map,left_roi,z)\n",
    "plt.imshow(cut_roi)\n",
    "plt.axis('off')\n",
    "\n",
    "plt.subplot(324)\n",
    "cut_roi = cut_out_roi(vl_map,right_roi,z)\n",
    "plt.imshow(cut_roi)\n",
    "plt.axis('off')\n",
    "\n",
    "plt.subplot(325)\n",
    "cut_roi = cut_out_roi(vr_map,left_roi,z)\n",
    "plt.imshow(cut_roi)\n",
    "plt.axis('off')\n",
    "\n",
    "plt.subplot(326)\n",
    "cut_roi = cut_out_roi(vr_map,right_roi,z)\n",
    "plt.imshow(cut_roi)\n",
    "plt.axis('off')\n",
    "\n",
    "plt.subplots_adjust(wspace=0, hspace=0)\n",
    "\n"
   ]
  },
  {
   "cell_type": "code",
   "execution_count": null,
   "metadata": {
    "collapsed": true
   },
   "outputs": [],
   "source": []
  },
  {
   "cell_type": "code",
   "execution_count": 114,
   "metadata": {
    "collapsed": true
   },
   "outputs": [],
   "source": [
    "out = np.argwhere(np.isnan(temp))"
   ]
  },
  {
   "cell_type": "code",
   "execution_count": 115,
   "metadata": {},
   "outputs": [
    {
     "data": {
      "text/plain": [
       "(683, 2)"
      ]
     },
     "execution_count": 115,
     "metadata": {},
     "output_type": "execute_result"
    }
   ],
   "source": [
    "out.shape"
   ]
  },
  {
   "cell_type": "code",
   "execution_count": null,
   "metadata": {
    "collapsed": true
   },
   "outputs": [],
   "source": []
  },
  {
   "cell_type": "code",
   "execution_count": null,
   "metadata": {
    "collapsed": true
   },
   "outputs": [],
   "source": []
  },
  {
   "cell_type": "code",
   "execution_count": null,
   "metadata": {
    "collapsed": true
   },
   "outputs": [],
   "source": []
  },
  {
   "cell_type": "code",
   "execution_count": null,
   "metadata": {
    "collapsed": true
   },
   "outputs": [],
   "source": []
  },
  {
   "cell_type": "code",
   "execution_count": 79,
   "metadata": {
    "collapsed": true
   },
   "outputs": [],
   "source": [
    "# explicit function to normalize array\n",
    "\n",
    "\n",
    "out = normalize(cut_roi,0,1)"
   ]
  },
  {
   "cell_type": "code",
   "execution_count": 80,
   "metadata": {},
   "outputs": [
    {
     "data": {
      "text/plain": [
       "(array([  1.,   1.,   5., 106., 107., 201.,  68., 111.,  38., 215.]),\n",
       " array([-0.04615385,  0.06153846,  0.16923077,  0.27692308,  0.38461538,\n",
       "         0.49230769,  0.6       ,  0.70769231,  0.81538461,  0.92307692,\n",
       "         1.03076923]),\n",
       " <a list of 10 Patch objects>)"
      ]
     },
     "execution_count": 80,
     "metadata": {},
     "output_type": "execute_result"
    },
    {
     "data": {
      "image/png": "[encoded data removed]",
      "text/plain": [
       "<Figure size 432x288 with 1 Axes>"
      ]
     },
     "metadata": {},
     "output_type": "display_data"
    }
   ],
   "source": [
    "plt.hist(out.flatten())"
   ]
  },
  {
   "cell_type": "code",
   "execution_count": 81,
   "metadata": {},
   "outputs": [
    {
     "data": {
      "text/plain": [
       "(38, 40, 4)"
      ]
     },
     "execution_count": 81,
     "metadata": {},
     "output_type": "execute_result"
    }
   ],
   "source": [
    "to_plot = cm.jet(out)\n",
    "to_plot.shape"
   ]
  },
  {
   "cell_type": "code",
   "execution_count": 83,
   "metadata": {},
   "outputs": [
    {
     "data": {
      "text/plain": [
       "(38, 40, 4)"
      ]
     },
     "execution_count": 83,
     "metadata": {},
     "output_type": "execute_result"
    }
   ],
   "source": [
    "to_plot.shape"
   ]
  },
  {
   "cell_type": "code",
   "execution_count": 82,
   "metadata": {},
   "outputs": [
    {
     "data": {
      "text/plain": [
       "<matplotlib.image.AxesImage at 0x7fe51c7bff60>"
      ]
     },
     "execution_count": 82,
     "metadata": {},
     "output_type": "execute_result"
    },
    {
     "data": {
      "image/png": "[encoded data removed]",
      "text/plain": [
       "<Figure size 432x288 with 1 Axes>"
      ]
     },
     "metadata": {},
     "output_type": "display_data"
    }
   ],
   "source": [
    "plt.imshow(to_plot)"
   ]
  },
  {
   "cell_type": "code",
   "execution_count": null,
   "metadata": {
    "collapsed": true
   },
   "outputs": [],
   "source": []
  },
  {
   "cell_type": "code",
   "execution_count": 71,
   "metadata": {},
   "outputs": [
    {
     "data": {
      "image/png": "[encoded data removed]",
      "text/plain": [
       "<Figure size 432x288 with 1 Axes>"
      ]
     },
     "metadata": {},
     "output_type": "display_data"
    }
   ],
   "source": [
    "plt.hist(out.flatten());"
   ]
  },
  {
   "cell_type": "code",
   "execution_count": 66,
   "metadata": {},
   "outputs": [
    {
     "data": {
      "text/plain": [
       "()"
      ]
     },
     "execution_count": 66,
     "metadata": {},
     "output_type": "execute_result"
    }
   ],
   "source": [
    "out = np.min(vf_map) / (np.max(vf_map) - np.min(vf_map))\n",
    "out.shape"
   ]
  },
  {
   "cell_type": "code",
   "execution_count": 61,
   "metadata": {
    "collapsed": true
   },
   "outputs": [],
   "source": [
    "out = cm.jet(cut_roi)"
   ]
  },
  {
   "cell_type": "code",
   "execution_count": 41,
   "metadata": {},
   "outputs": [
    {
     "data": {
      "text/plain": [
       "array([[nan, nan, nan, ..., nan, nan, nan],\n",
       "       [nan, nan, nan, ..., nan, nan, nan],\n",
       "       [nan, nan, nan, ..., nan, nan, nan],\n",
       "       ...,\n",
       "       [nan, nan, nan, ..., nan, nan, nan],\n",
       "       [nan, nan, nan, ..., nan, nan, nan],\n",
       "       [nan, nan, nan, ..., nan, nan, nan]], dtype=float32)"
      ]
     },
     "execution_count": 41,
     "metadata": {},
     "output_type": "execute_result"
    }
   ],
   "source": [
    "plt.hist(cut_roi"
   ]
  },
  {
   "cell_type": "code",
   "execution_count": null,
   "metadata": {
    "collapsed": true
   },
   "outputs": [],
   "source": []
  },
  {
   "cell_type": "code",
   "execution_count": 277,
   "metadata": {},
   "outputs": [
    {
     "data": {
      "image/png": "[encoded data removed]",
      "text/plain": [
       "<Figure size 720x720 with 1 Axes>"
      ]
     },
     "metadata": {},
     "output_type": "display_data"
    }
   ],
   "source": [
    "roi = [37]\n",
    "z = 74\n",
    "extra_slices = 1\n",
    "\n",
    "# make everything black except ROI\n",
    "mask = np.zeros(atlas_clean.shape)\n",
    "mask[np.where(atlas_clean == roi)] = 1\n",
    "mask_eroded = binary_erosion(mask, structure=np.ones((2,2,2)))\n",
    "mask_dilated = binary_dilation(mask_eroded, iterations=2)\n",
    "masked_roi = mask_dilated*temporal_map ### FOR ANATOMY (or single color)\n",
    "#masked_roi = mask_dilated[...,np.newaxis]*corr_map # FOR CORRELATIONS\n",
    "\n",
    "\n",
    "#\n",
    "_, mask_binary = cv2.threshold(np.max(mask_dilated[:,:,z-extra_slices:z+extra_slices],axis=2).astype('uint8'), 0, 1, cv2.THRESH_BINARY) \n",
    "contours, _ = cv2.findContours(mask_binary, cv2.RETR_EXTERNAL, cv2.CHAIN_APPROX_SIMPLE)#cv2.RETR_TREE\n",
    "\n",
    "canvas = np.ones(atlas_clean[:,:,0].shape)\n",
    "out = cv2.drawContours(canvas, contours, -1, (0,255,0), 1)\n",
    "out = np.abs(out-1) #flip 0/1\n",
    "roi_contour = np.repeat(out[:,:,np.newaxis],repeats=4,axis=-1) ### copy into rgba channels to make white\n",
    "\n",
    "# get edges\n",
    "left_edge = np.where(np.sum(np.nan_to_num(roi_contour),axis=0)>0)[0][0] - 1\n",
    "right_edge = np.where(np.sum(np.nan_to_num(roi_contour),axis=0)>0)[0][-1] + 2\n",
    "top_edge = np.where(np.sum(np.nan_to_num(roi_contour),axis=1)>0)[0][0] - 1\n",
    "bottom_edge = np.where(np.sum(np.nan_to_num(roi_contour),axis=1)>0)[0][-1] + 2\n",
    "\n",
    "# add contour\n",
    "ys = np.where(roi_contour[:,:,0]>0)[0]\n",
    "xs = np.where(roi_contour[:,:,0]>0)[1]\n",
    "masked_roi[ys,xs]=250 #250 is white\n",
    "\n",
    "\n",
    "plt.figure(figsize=(10,10))\n",
    "to_plot = np.swapaxes(np.max(masked_roi[top_edge:bottom_edge,left_edge:right_edge,z-extra_slices:z+extra_slices],axis=2),0,1)\n",
    "to_plot[np.where(to_plot==0)] = np.nan\n",
    "plt.imshow(to_plot,cmap=mymap,vmin=end,vmax=start)\n",
    "plt.axis('off')\n",
    "\n",
    "save_path = '/oak/stanford/groups/trc/data/Brezovec/2P_Imaging/figs'\n",
    "timestr = time.strftime(\"%Y%m%d-%H%M%S\")\n",
    "fname = os.path.join(save_path, f'{timestr}')\n",
    "plt.savefig(fname,dpi=300,bbox_inches='tight',transparent=True)\n"
   ]
  },
  {
   "cell_type": "code",
   "execution_count": 278,
   "metadata": {},
   "outputs": [
    {
     "data": {
      "image/png": "[encoded data removed]",
      "text/plain": [
       "<Figure size 720x720 with 1 Axes>"
      ]
     },
     "metadata": {},
     "output_type": "display_data"
    }
   ],
   "source": [
    "roi = [82]\n",
    "z = 74\n",
    "extra_slices = 1\n",
    "\n",
    "# make everything black except ROI\n",
    "mask = np.zeros(atlas_clean.shape)\n",
    "mask[np.where(atlas_clean == roi)] = 1\n",
    "mask_eroded = binary_erosion(mask, structure=np.ones((2,2,2)))\n",
    "mask_dilated = binary_dilation(mask_eroded, iterations=2)\n",
    "masked_roi = mask_dilated*temporal_map\n",
    "\n",
    "#\n",
    "_, mask_binary = cv2.threshold(np.max(mask_dilated[:,:,z-extra_slices:z+extra_slices],axis=2).astype('uint8'), 0, 1, cv2.THRESH_BINARY) \n",
    "contours, _ = cv2.findContours(mask_binary, cv2.RETR_EXTERNAL, cv2.CHAIN_APPROX_SIMPLE)#cv2.RETR_TREE\n",
    "\n",
    "canvas = np.ones(atlas_clean[:,:,0].shape)\n",
    "out = cv2.drawContours(canvas, contours, -1, (0,255,0), 1)\n",
    "out = np.abs(out-1) #flip 0/1\n",
    "roi_contour = np.repeat(out[:,:,np.newaxis],repeats=4,axis=-1) ### copy into rgba channels to make white\n",
    "\n",
    "# get edges\n",
    "left_edge = np.where(np.sum(np.nan_to_num(roi_contour),axis=0)>0)[0][0] - 1\n",
    "right_edge = np.where(np.sum(np.nan_to_num(roi_contour),axis=0)>0)[0][-1] + 2\n",
    "top_edge = np.where(np.sum(np.nan_to_num(roi_contour),axis=1)>0)[0][0] - 1\n",
    "bottom_edge = np.where(np.sum(np.nan_to_num(roi_contour),axis=1)>0)[0][-1] + 2\n",
    "\n",
    "# add contour\n",
    "ys = np.where(roi_contour[:,:,0]>0)[0]\n",
    "xs = np.where(roi_contour[:,:,0]>0)[1]\n",
    "masked_roi[ys,xs]=250\n",
    "\n",
    "plt.figure(figsize=(10,10))\n",
    "to_plot = np.swapaxes(np.max(masked_roi[top_edge:bottom_edge,left_edge:right_edge,z-extra_slices:z+extra_slices],axis=2),0,1)\n",
    "to_plot[np.where(to_plot==0)] = np.nan\n",
    "plt.imshow(to_plot,cmap=mymap,vmin=end,vmax=start)\n",
    "plt.axis('off')\n",
    "\n",
    "save_path = '/oak/stanford/groups/trc/data/Brezovec/2P_Imaging/figs'\n",
    "timestr = time.strftime(\"%Y%m%d-%H%M%S\")\n",
    "fname = os.path.join(save_path, f'{timestr}')\n",
    "plt.savefig(fname,dpi=300,bbox_inches='tight',transparent=True)\n"
   ]
  },
  {
   "cell_type": "markdown",
   "metadata": {},
   "source": [
    "# Horizontal slices"
   ]
  },
  {
   "cell_type": "code",
   "execution_count": null,
   "metadata": {
    "collapsed": true
   },
   "outputs": [],
   "source": [
    "#IPS\n",
    "roi = [83,38]\n",
    "y = 92\n",
    "\n",
    "#LH\n",
    "roi = [7,55]\n",
    "y = 43\n",
    "\n",
    "#SPS\n",
    "roi = [37,82]\n",
    "z=75 #?\n",
    "\n",
    "#SAD\n",
    "roi = 9\n",
    "y=105\n",
    "\n",
    "#PLP\n",
    "roi = [33,78]\n",
    "y=75\n",
    "\n",
    "#AMMC\n",
    "roi = [11,58]\n",
    "y=100\n",
    "\n",
    "#SMP\n",
    "roi = [29,74]\n",
    "y=30\n",
    "\n",
    "#GNG\n",
    "roi = 49\n",
    "y=20\n"
   ]
  },
  {
   "cell_type": "code",
   "execution_count": 283,
   "metadata": {},
   "outputs": [
    {
     "name": "stderr",
     "output_type": "stream",
     "text": [
      "Clipping input data to the valid range for imshow with RGB data ([0..1] for floats or [0..255] for integers).\n"
     ]
    },
    {
     "data": {
      "image/png": "[encoded data removed]",
      "text/plain": [
       "<Figure size 720x720 with 1 Axes>"
      ]
     },
     "metadata": {},
     "output_type": "display_data"
    }
   ],
   "source": [
    "roi = [83]\n",
    "y = 92\n",
    "extra_slices = 6\n",
    "\n",
    "# make everything black except ROI\n",
    "mask = np.zeros(atlas_clean.shape)\n",
    "mask[np.where(atlas_clean == roi)] = 1\n",
    "mask_eroded = binary_erosion(mask, structure=np.ones((2,2,2)))\n",
    "mask_dilated = binary_dilation(mask_eroded, iterations=2)\n",
    "masked_roi = mask_dilated[...,np.newaxis]*corr_map\n",
    "\n",
    "#\n",
    "_, mask_binary = cv2.threshold(np.max(mask_dilated[:,y-extra_slices:y+extra_slices,:],axis=1).astype('uint8'), 0, 1, cv2.THRESH_BINARY) \n",
    "contours, _ = cv2.findContours(mask_binary, cv2.RETR_EXTERNAL, cv2.CHAIN_APPROX_SIMPLE)#cv2.RETR_TREE\n",
    "\n",
    "canvas = np.ones(atlas_clean[:,0,:].shape)\n",
    "out = cv2.drawContours(canvas, contours, -1, (0,255,0), 1)\n",
    "out = np.abs(out-1) #flip 0/1\n",
    "roi_contour = np.repeat(out[:,:,np.newaxis],repeats=4,axis=-1) ### copy into rgba channels to make white\n",
    "\n",
    "# get edges\n",
    "left_edge = np.where(np.sum(np.nan_to_num(roi_contour),axis=0)>0)[0][0] - 1\n",
    "right_edge = np.where(np.sum(np.nan_to_num(roi_contour),axis=0)>0)[0][-1] + 2\n",
    "top_edge = np.where(np.sum(np.nan_to_num(roi_contour),axis=1)>0)[0][0] - 1\n",
    "bottom_edge = np.where(np.sum(np.nan_to_num(roi_contour),axis=1)>0)[0][-1] + 2\n",
    "\n",
    "# add contour\n",
    "ys = np.where(roi_contour[:,:,0]>0)[0]\n",
    "xs = np.where(roi_contour[:,:,0]>0)[1]\n",
    "masked_roi[ys,y,xs]=1\n",
    "\n",
    "plt.figure(figsize=(10,10))\n",
    "plt.imshow(np.swapaxes(np.max(masked_roi[top_edge:bottom_edge,y-extra_slices:y+extra_slices,left_edge:right_edge,:],axis=1),0,1)*20)\n",
    "plt.axis('off')\n",
    "\n",
    "save_path = '/oak/stanford/groups/trc/data/Brezovec/2P_Imaging/figs'\n",
    "timestr = time.strftime(\"%Y%m%d-%H%M%S\")\n",
    "fname = os.path.join(save_path, f'{timestr}')\n",
    "plt.savefig(fname,dpi=300,bbox_inches='tight',transparent=True)\n"
   ]
  },
  {
   "cell_type": "code",
   "execution_count": 284,
   "metadata": {},
   "outputs": [
    {
     "name": "stderr",
     "output_type": "stream",
     "text": [
      "Clipping input data to the valid range for imshow with RGB data ([0..1] for floats or [0..255] for integers).\n"
     ]
    },
    {
     "data": {
      "image/png": "[encoded data removed]",
      "text/plain": [
       "<Figure size 720x720 with 1 Axes>"
      ]
     },
     "metadata": {},
     "output_type": "display_data"
    }
   ],
   "source": [
    "roi = [38]\n",
    "y = 92\n",
    "extra_slices = 6\n",
    "\n",
    "# make everything black except ROI\n",
    "mask = np.zeros(atlas_clean.shape)\n",
    "mask[np.where(atlas_clean == roi)] = 1\n",
    "mask_eroded = binary_erosion(mask, structure=np.ones((2,2,2)))\n",
    "mask_dilated = binary_dilation(mask_eroded, iterations=2)\n",
    "masked_roi = mask_dilated[...,np.newaxis]*corr_map\n",
    "\n",
    "#\n",
    "_, mask_binary = cv2.threshold(np.max(mask_dilated[:,y-extra_slices:y+extra_slices,:],axis=1).astype('uint8'), 0, 1, cv2.THRESH_BINARY) \n",
    "contours, _ = cv2.findContours(mask_binary, cv2.RETR_EXTERNAL, cv2.CHAIN_APPROX_SIMPLE)#cv2.RETR_TREE\n",
    "\n",
    "canvas = np.ones(atlas_clean[:,0,:].shape)\n",
    "out = cv2.drawContours(canvas, contours, -1, (0,255,0), 1)\n",
    "out = np.abs(out-1) #flip 0/1\n",
    "roi_contour = np.repeat(out[:,:,np.newaxis],repeats=4,axis=-1) ### copy into rgba channels to make white\n",
    "\n",
    "# get edges\n",
    "left_edge = np.where(np.sum(np.nan_to_num(roi_contour),axis=0)>0)[0][0] - 1\n",
    "right_edge = np.where(np.sum(np.nan_to_num(roi_contour),axis=0)>0)[0][-1] + 2\n",
    "top_edge = np.where(np.sum(np.nan_to_num(roi_contour),axis=1)>0)[0][0] - 1\n",
    "bottom_edge = np.where(np.sum(np.nan_to_num(roi_contour),axis=1)>0)[0][-1] + 2\n",
    "\n",
    "# add contour\n",
    "ys = np.where(roi_contour[:,:,0]>0)[0]\n",
    "xs = np.where(roi_contour[:,:,0]>0)[1]\n",
    "masked_roi[ys,y,xs]=1\n",
    "\n",
    "plt.figure(figsize=(10,10))\n",
    "plt.imshow(np.swapaxes(np.max(masked_roi[top_edge:bottom_edge,y-extra_slices:y+extra_slices,left_edge:right_edge,:],axis=1),0,1)*20)\n",
    "plt.axis('off')\n",
    "\n",
    "save_path = '/oak/stanford/groups/trc/data/Brezovec/2P_Imaging/figs'\n",
    "timestr = time.strftime(\"%Y%m%d-%H%M%S\")\n",
    "fname = os.path.join(save_path, f'{timestr}')\n",
    "plt.savefig(fname,dpi=300,bbox_inches='tight',transparent=True)\n"
   ]
  },
  {
   "cell_type": "code",
   "execution_count": null,
   "metadata": {
    "collapsed": true
   },
   "outputs": [],
   "source": []
  },
  {
   "cell_type": "markdown",
   "metadata": {},
   "source": [
    "# Trying to look at FB alignment"
   ]
  },
  {
   "cell_type": "code",
   "execution_count": 356,
   "metadata": {},
   "outputs": [
    {
     "data": {
      "text/plain": [
       "<matplotlib.lines.Line2D at 0x7fa127caf438>"
      ]
     },
     "execution_count": 356,
     "metadata": {},
     "output_type": "execute_result"
    },
    {
     "data": {
      "image/png": "[encoded data removed]",
      "text/plain": [
       "<Figure size 720x720 with 1 Axes>"
      ]
     },
     "metadata": {},
     "output_type": "display_data"
    }
   ],
   "source": [
    "plt.figure(figsize=(10,10))\n",
    "plt.imshow(out['warpedmovout'][:,:,54].T,cmap='gray')\n",
    "plt.xlim(100,200)\n",
    "plt.ylim(80,20)\n",
    "plt.axhline(32,lw=5)\n",
    "plt.axhline(65,lw=5,color='r')\n",
    "plt.axhline(45,lw=5,color='pink')\n"
   ]
  },
  {
   "cell_type": "code",
   "execution_count": 355,
   "metadata": {},
   "outputs": [
    {
     "name": "stderr",
     "output_type": "stream",
     "text": [
      "Clipping input data to the valid range for imshow with RGB data ([0..1] for floats or [0..255] for integers).\n"
     ]
    },
    {
     "data": {
      "text/plain": [
       "<matplotlib.lines.Line2D at 0x7fa127d52ba8>"
      ]
     },
     "execution_count": 355,
     "metadata": {},
     "output_type": "execute_result"
    },
    {
     "data": {
      "image/png": "[encoded data removed]",
      "text/plain": [
       "<Figure size 720x720 with 1 Axes>"
      ]
     },
     "metadata": {},
     "output_type": "display_data"
    }
   ],
   "source": [
    "\n",
    "\n",
    "plt.figure(figsize=(10,10))\n",
    "plt.imshow(np.swapaxes(maps_voxel_res.numpy()[:,:,54,:],0,1)*20)\n",
    "plt.xlim(100,200)\n",
    "plt.ylim(80,20)\n",
    "plt.axhline(32,lw=5)\n",
    "plt.axhline(65,lw=5,color='r')\n",
    "plt.axhline(45,lw=5,color='pink')\n"
   ]
  },
  {
   "cell_type": "code",
   "execution_count": 345,
   "metadata": {},
   "outputs": [
    {
     "data": {
      "text/plain": [
       "<matplotlib.lines.Line2D at 0x7fa12d45a470>"
      ]
     },
     "execution_count": 345,
     "metadata": {},
     "output_type": "execute_result"
    },
    {
     "data": {
      "image/png": "[encoded data removed]",
      "text/plain": [
       "<Figure size 720x720 with 1 Axes>"
      ]
     },
     "metadata": {},
     "output_type": "display_data"
    }
   ],
   "source": [
    "plt.figure(figsize=(10,10))\n",
    "plt.imshow(corr_map[:,:,54].T,cmap='gray')\n",
    "plt.xlim(100,200)\n",
    "plt.ylim(80,20)\n",
    "plt.axhline(32,lw=5)\n",
    "plt.axhline(65,lw=5,color='r')"
   ]
  },
  {
   "cell_type": "code",
   "execution_count": 346,
   "metadata": {},
   "outputs": [
    {
     "data": {
      "text/plain": [
       "<matplotlib.lines.Line2D at 0x7fa127f52dd8>"
      ]
     },
     "execution_count": 346,
     "metadata": {},
     "output_type": "execute_result"
    },
    {
     "data": {
      "image/png": "[encoded data removed]",
      "text/plain": [
       "<Figure size 720x720 with 1 Axes>"
      ]
     },
     "metadata": {},
     "output_type": "display_data"
    }
   ],
   "source": [
    "plt.figure(figsize=(10,10))\n",
    "plt.imshow(atlas[:,:,54].T,cmap='gray')\n",
    "plt.xlim(100,200)\n",
    "plt.ylim(80,20)\n",
    "plt.axhline(32,lw=5)\n",
    "plt.axhline(65,lw=5,color='r')"
   ]
  },
  {
   "cell_type": "code",
   "execution_count": 336,
   "metadata": {},
   "outputs": [
    {
     "data": {
      "text/plain": [
       "<matplotlib.lines.Line2D at 0x7fa183fec940>"
      ]
     },
     "execution_count": 336,
     "metadata": {},
     "output_type": "execute_result"
    },
    {
     "data": {
      "image/png": "[encoded data removed]",
      "text/plain": [
       "<Figure size 720x720 with 1 Axes>"
      ]
     },
     "metadata": {},
     "output_type": "display_data"
    }
   ],
   "source": [
    "plt.figure(figsize=(10,10))\n",
    "plt.imshow(atlas_clean[:,:,54].T,cmap='gray')\n",
    "plt.xlim(100,200)\n",
    "plt.ylim(80,20)\n",
    "plt.axhline(32,lw=5)"
   ]
  }
 ],
 "metadata": {
  "kernelspec": {
   "display_name": "Python 3",
   "language": "python",
   "name": "python3"
  },
  "language_info": {
   "codemirror_mode": {
    "name": "ipython",
    "version": 3
   },
   "file_extension": ".py",
   "mimetype": "text/x-python",
   "name": "python",
   "nbconvert_exporter": "python",
   "pygments_lexer": "ipython3",
   "version": "3.6.1"
  }
 },
 "nbformat": 4,
 "nbformat_minor": 2
}
