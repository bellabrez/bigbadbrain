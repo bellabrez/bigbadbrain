{
 "cells": [
  {
   "cell_type": "code",
   "execution_count": 1,
   "metadata": {
    "collapsed": true
   },
   "outputs": [],
   "source": [
    "import sys\n",
    "sys.path.insert(0, '/home/users/brezovec/.local/lib/python3.6/site-packages/lib/python/')\n",
    "import ants\n",
    "import os\n",
    "import brainsss\n",
    "import numpy as np\n",
    "import matplotlib.pyplot as plt\n",
    "import time\n",
    "import scipy\n",
    "from scipy.ndimage.filters import gaussian_filter\n",
    "from scipy.signal import savgol_filter\n",
    "from scipy.interpolate import interp1d\n",
    "from skimage.filters import threshold_triangle\n",
    "sys.path.insert(0, '/home/users/brezovec/.local/lib/python3.6/site-packages')\n",
    "import os\n",
    "import statsmodels.api as sm\n",
    "import cv2\n",
    "import matplotlib.patches as mpatches\n",
    "import psutil\n",
    "from mpl_toolkits.axes_grid1 import ImageGrid\n",
    "from matplotlib.colors import Normalize\n",
    "%matplotlib inline\n",
    "plt.rcParams.update({'font.size': 20})\n",
    "from sklearn.feature_extraction.image import grid_to_graph\n",
    "from mpl_toolkits.axes_grid1 import ImageGrid\n",
    "import json\n",
    "from matplotlib.ticker import FuncFormatter\n",
    "import nibabel as nib\n",
    "from sklearn.cluster import AgglomerativeClustering\n",
    "from scipy.cluster.hierarchy import dendrogram\n",
    "import itertools\n",
    "import random\n",
    "from scipy.cluster import hierarchy\n",
    "import matplotlib as mpl\n",
    "from matplotlib.pyplot import cm\n",
    "from scipy.interpolate import UnivariateSpline\n",
    "from sklearn.linear_model import LinearRegression\n",
    "from scipy.fftpack import fft,fftshift,ifft\n",
    "import tqdm\n",
    "import matplotlib"
   ]
  },
  {
   "cell_type": "code",
   "execution_count": 2,
   "metadata": {},
   "outputs": [
    {
     "data": {
      "text/plain": [
       "(30456, 501)"
      ]
     },
     "execution_count": 2,
     "metadata": {},
     "output_type": "execute_result"
    }
   ],
   "source": [
    "cluster_dir = \"/oak/stanford/groups/trc/data/Brezovec/2P_Imaging/20221109_cluster_pca/\"\n",
    "### Load Supercluster Signals ###\n",
    "file = os.path.join(cluster_dir, \"20221202_SC_signals.npy\")\n",
    "supercluster_signals = np.load(file)\n",
    "supercluster_signals = supercluster_signals.T\n",
    "supercluster_signals.shape"
   ]
  },
  {
   "cell_type": "code",
   "execution_count": 3,
   "metadata": {
    "collapsed": true
   },
   "outputs": [],
   "source": [
    "supercluster_signals_fly = np.reshape(supercluster_signals,([9,3384,501]))"
   ]
  },
  {
   "cell_type": "code",
   "execution_count": 4,
   "metadata": {},
   "outputs": [
    {
     "name": "stderr",
     "output_type": "stream",
     "text": [
      "100%|██████████| 9/9 [00:05<00:00,  1.51it/s]\n",
      "100%|██████████| 9/9 [00:23<00:00,  2.64s/it]\n"
     ]
    }
   ],
   "source": [
    "### for a given supercluster, i need to know the original median z-depth for each fly ###\n",
    "\n",
    "dataset_path = \"/oak/stanford/groups/trc/data/Brezovec/2P_Imaging/20190101_walking_dataset\"\n",
    "fly_names = ['fly_087', 'fly_089', 'fly_094', 'fly_097', 'fly_098', 'fly_099', 'fly_100', 'fly_101', 'fly_105']\n",
    "\n",
    "z_corrections = []\n",
    "for fly in tqdm.tqdm(fly_names):\n",
    "    to_load = os.path.join(dataset_path, fly, 'warp', '20201220_warped_z_depth.nii')\n",
    "    z_corrections.append(np.array(nib.load(to_load).get_data(), copy=True))\n",
    "z_corrections = np.asarray(z_corrections)\n",
    "\n",
    "superclusters_3d = np.load(os.path.join(cluster_dir, \"20221130_pca_clsuters_in_luke_OG.npy\"))\n",
    "superclusters_3d = superclusters_3d[...,::-1] ### FLIP Z !!!!!!!!!!!!\n",
    "superclusters_3d.shape\n",
    "\n",
    "original_z_depth = []\n",
    "for fly in tqdm.tqdm(range(9)):\n",
    "    for cluster in range(501):\n",
    "        ind = np.where(superclusters_3d==cluster)\n",
    "        original_z_depth.append(np.median(z_corrections[fly,ind[0],ind[1],ind[2]]))\n",
    "original_z_depth = np.asarray(original_z_depth)\n",
    "original_z_depth = np.reshape(original_z_depth,(9,501))\n",
    "original_z_depth = original_z_depth.astype('int')"
   ]
  },
  {
   "cell_type": "code",
   "execution_count": 5,
   "metadata": {
    "collapsed": true
   },
   "outputs": [],
   "source": [
    "### maybe the easiest way to do this is have a single behavior trace at original res (50Hz)\n",
    "### I think it will be safest to use the raw neural data (not interpolated) and assign to bins"
   ]
  },
  {
   "cell_type": "code",
   "execution_count": 6,
   "metadata": {
    "collapsed": true
   },
   "outputs": [],
   "source": [
    "fly_names = ['fly_087', 'fly_089', 'fly_094', 'fly_097', 'fly_098', 'fly_099', 'fly_100', 'fly_101', 'fly_105']\n",
    "dataset_path = \"/oak/stanford/groups/trc/data/Brezovec/2P_Imaging/20190101_walking_dataset\""
   ]
  },
  {
   "cell_type": "code",
   "execution_count": 7,
   "metadata": {
    "collapsed": true
   },
   "outputs": [],
   "source": [
    "fictrac = []\n",
    "for fly in fly_names:\n",
    "    \n",
    "    fictrac_raw = brainsss.load_fictrac(os.path.join(dataset_path, fly, 'func_0', 'fictrac'))\n",
    "\n",
    "    # Smooth raw fictrac data\n",
    "    behavior = 'dRotLabZ'\n",
    "    fictrac_smoothed = scipy.signal.savgol_filter(np.asarray(fictrac_raw[behavior]),25,3)\n",
    "    fps=50\n",
    "    fictrac_smoothed = fictrac_smoothed * 180 / np.pi * fps # now in deg/sec\n",
    "    fictrac.append(fictrac_smoothed)"
   ]
  },
  {
   "cell_type": "code",
   "execution_count": 8,
   "metadata": {},
   "outputs": [
    {
     "name": "stdout",
     "output_type": "stream",
     "text": [
      "Trying to load timestamp data from hdf5 file.\n",
      "Success.\n"
     ]
    }
   ],
   "source": [
    "fictrac_timestamps = np.arange(0,30*60*1000,20)\n",
    "file = os.path.join(dataset_path, 'fly_087', 'func_0', 'imaging')\n",
    "neural_timestamps = brainsss.load_timestamps(file)"
   ]
  },
  {
   "cell_type": "code",
   "execution_count": 9,
   "metadata": {
    "collapsed": true
   },
   "outputs": [],
   "source": [
    "turn_thresh = 200\n",
    "\n",
    "peaks_all_fly = []\n",
    "peak_heights_all_fly = []\n",
    "for fly in range(9):\n",
    "    peaks = {'L':[],'R':[]}\n",
    "    heights = {'L':[],'R':[]}\n",
    "    for turn,scalar in zip(['L', 'R'],[1,-1]):\n",
    "        \n",
    "        found_peaks = scipy.signal.find_peaks(fictrac[fly]*scalar, height=turn_thresh)\n",
    "        pks = found_peaks[0]\n",
    "        pk_height = found_peaks[1]['peak_heights']\n",
    "        \n",
    "        ### remove peaks that are too close to beginning or end\n",
    "        # will do 20sec window\n",
    "        # here 20sec is 1000 tps\n",
    "        ind = np.where(pks>88000)[0]\n",
    "        pks = np.delete(pks,ind)\n",
    "        pk_height = np.delete(pk_height,ind)\n",
    "        \n",
    "        ind = np.where(pks<2000)[0]\n",
    "        pks = np.delete(pks,ind)\n",
    "        pk_height = np.delete(pk_height,ind)\n",
    "        \n",
    "        peaks[turn] = pks\n",
    "        heights[turn] = pk_height\n",
    "    peaks_all_fly.append(peaks)\n",
    "    peak_heights_all_fly.append(heights)"
   ]
  },
  {
   "cell_type": "code",
   "execution_count": 10,
   "metadata": {
    "collapsed": true
   },
   "outputs": [],
   "source": [
    "xs = np.arange(0,532*40,532)+(532/2)\n",
    "xs = np.concatenate((xs[::-1]*-1, xs))"
   ]
  },
  {
   "cell_type": "code",
   "execution_count": 11,
   "metadata": {},
   "outputs": [
    {
     "name": "stdout",
     "output_type": "stream",
     "text": [
      "222; 519\n",
      "38; 33\n",
      "140; 2\n",
      "47; 105\n",
      "178; 291\n",
      "27; 543\n",
      "364; 601\n",
      "276; 219\n",
      "70; 111\n"
     ]
    }
   ],
   "source": [
    "for fly in range(9):\n",
    "    print(F\"{len(peaks_all_fly[fly]['L'])}; {len(peaks_all_fly[fly]['R'])}\")\n",
    "    #print(len(peaks_all_fly[fly]['L'])+len(peaks_all_fly[fly]['R']))\n",
    "    \n",
    "# a=0\n",
    "# b=0\n",
    "# for fly in range(9):\n",
    "#     a+=len(peaks_all_fly[fly]['L'])\n",
    "#     b+=len(peaks_all_fly[fly]['R'])\n",
    "# print(F\"Total {a}; {b}\")\n",
    "\n",
    "#[0,3,4,6,7,8]\n"
   ]
  },
  {
   "cell_type": "code",
   "execution_count": 12,
   "metadata": {
    "collapsed": true
   },
   "outputs": [],
   "source": [
    "##################################################\n",
    "### VERSION WITH FIRST NEURAL POINT AFTER TURN ###\n",
    "##################################################\n",
    "\n",
    "neural_traces_all_fly = []\n",
    "for fly in range(9):\n",
    "    neural_traces = {'L77': [], 'R77': [], 'L327': [], 'R327': []}\n",
    "    for cluster in [77,327]:\n",
    "        z = original_z_depth[fly,cluster]\n",
    "        neural_timestamps_cluster = neural_timestamps[:,z]\n",
    "        for beh in ['L', 'R']:\n",
    "            peaks_in_ms = fictrac_timestamps[peaks_all_fly[fly][beh]]\n",
    "            for peak in peaks_in_ms:\n",
    "                #this will give the index of the first neural data after the peak\n",
    "                # 40 index will be the bin from 0 to 532ms after the peak\n",
    "                middle = np.searchsorted(neural_timestamps_cluster,peak) \n",
    "                neural_traces[F\"{beh}{cluster}\"].append(supercluster_signals_fly[fly,middle-40:middle+40,cluster])\n",
    "            neural_traces[F\"{beh}{cluster}\"] = np.asarray(neural_traces[F\"{beh}{cluster}\"])\n",
    "    neural_traces_all_fly.append(neural_traces)\n",
    "    \n",
    "neural_traces_all_fly_stack = {'L77': [], 'R77': [], 'L327': [], 'R327': []}\n",
    "for signal in ['L77','R77','L327','R327']:\n",
    "    for fly in range(9):\n",
    "        neural_traces_all_fly_stack[signal].extend(neural_traces_all_fly[fly][signal])\n",
    "    neural_traces_all_fly_stack[signal] = np.asarray(neural_traces_all_fly_stack[signal])"
   ]
  },
  {
   "cell_type": "code",
   "execution_count": 13,
   "metadata": {},
   "outputs": [
    {
     "name": "stdout",
     "output_type": "stream",
     "text": [
      "Ttest_indResult(statistic=-4.536936278872314, pvalue=5.884834504858544e-06)\n",
      "-0.01204497331252804 0.005592925182573299\n"
     ]
    },
    {
     "data": {
      "image/png": "[encoded data removed]",
      "text/plain": [
       "<Figure size 432x288 with 1 Axes>"
      ]
     },
     "metadata": {},
     "output_type": "display_data"
    }
   ],
   "source": [
    "start = 13\n",
    "stop = 25\n",
    "\n",
    "plt.axhline(0,color='k')\n",
    "ax = plt.gca()\n",
    "\n",
    "a = neural_traces_all_fly_stack['L77'][:,start:stop] - neural_traces_all_fly_stack['L327'][:,start:stop]\n",
    "a = np.mean(a,axis=1)\n",
    "plt.scatter([0]*len(a),a,s=1)\n",
    "plt.scatter([0],np.mean(a),color='k')\n",
    "parts = ax.violinplot(a,positions=[0],showextrema=False)\n",
    "for pc in parts['bodies']:\n",
    "    pc.set_facecolor('#BB4141')\n",
    "    pc.set_edgecolor('black')\n",
    "    pc.set_alpha(.5)\n",
    "    pc.set\n",
    "\n",
    "b = neural_traces_all_fly_stack['R77'][:,start:stop] - neural_traces_all_fly_stack['R327'][:,start:stop]\n",
    "b = np.mean(b,axis=1)\n",
    "plt.scatter([1]*len(b),b,s=1)\n",
    "plt.scatter([1],np.mean(b),color='k')\n",
    "parts = ax.violinplot(b,positions=[1],showextrema=False)\n",
    "for pc in parts['bodies']:\n",
    "    pc.set_facecolor('#BB4141')\n",
    "    pc.set_edgecolor('black')\n",
    "    pc.set_alpha(.5)\n",
    "    pc.set\n",
    "\n",
    "plt.xlim(-1,2)\n",
    "\n",
    "plt.axhline(-.15)\n",
    "\n",
    "print(scipy.stats.ttest_ind(a, b))\n",
    "print(np.mean(a),np.mean(b))"
   ]
  },
  {
   "cell_type": "code",
   "execution_count": 14,
   "metadata": {
    "collapsed": true
   },
   "outputs": [],
   "source": [
    "pre_beh = {'L':[],'R':[]}\n",
    "for fly in range(9):\n",
    "    for signal in ['L','R']:\n",
    "        for peak in peaks_all_fly[fly][signal]:\n",
    "            beh = fictrac[fly][peak-1500:peak+1500]\n",
    "            pre_beh[signal].append(beh)"
   ]
  },
  {
   "cell_type": "code",
   "execution_count": 15,
   "metadata": {},
   "outputs": [
    {
     "data": {
      "text/plain": [
       "[<matplotlib.lines.Line2D at 0x7f320e329278>]"
      ]
     },
     "execution_count": 15,
     "metadata": {},
     "output_type": "execute_result"
    },
    {
     "data": {
      "image/png": "[encoded data removed]",
      "text/plain": [
       "<Figure size 432x288 with 1 Axes>"
      ]
     },
     "metadata": {},
     "output_type": "display_data"
    }
   ],
   "source": [
    "beh_traces = {}\n",
    "\n",
    "high_res_tp = np.arange(-30000,30000,20)\n",
    "\n",
    "xs = np.arange(0,532*40,532)+(532/2)\n",
    "xs = np.concatenate((xs[::-1]*-1, xs))\n",
    "low_res_tp = xs\n",
    "\n",
    "\n",
    "obj = interp1d(high_res_tp,pre_beh['L'],bounds_error=False)\n",
    "beh_traces['L'] = obj(low_res_tp)\n",
    "plt.plot(np.mean(beh_traces['L'],axis=0))\n",
    "\n",
    "obj = interp1d(high_res_tp,pre_beh['R'],bounds_error=False)\n",
    "beh_traces['R'] = obj(low_res_tp)\n",
    "plt.plot(np.mean(beh_traces['R'],axis=0))"
   ]
  },
  {
   "cell_type": "code",
   "execution_count": null,
   "metadata": {
    "collapsed": true
   },
   "outputs": [],
   "source": []
  },
  {
   "cell_type": "code",
   "execution_count": 23,
   "metadata": {},
   "outputs": [
    {
     "data": {
      "text/plain": [
       "(1362, 2424)"
      ]
     },
     "execution_count": 23,
     "metadata": {},
     "output_type": "execute_result"
    }
   ],
   "source": [
    "len(pre_beh['L']), len(pre_beh['R'])"
   ]
  },
  {
   "cell_type": "code",
   "execution_count": 27,
   "metadata": {},
   "outputs": [
    {
     "data": {
      "text/plain": [
       "(1362, 3000)"
      ]
     },
     "execution_count": 27,
     "metadata": {},
     "output_type": "execute_result"
    }
   ],
   "source": [
    "np.asarray(pre_beh['L']).shape"
   ]
  },
  {
   "cell_type": "code",
   "execution_count": 20,
   "metadata": {},
   "outputs": [
    {
     "data": {
      "text/plain": [
       "[<matplotlib.lines.Line2D at 0x7f73cc6b3cf8>]"
      ]
     },
     "execution_count": 20,
     "metadata": {},
     "output_type": "execute_result"
    },
    {
     "data": {
      "image/png": "[encoded data removed]",
      "text/plain": [
       "<Figure size 432x288 with 1 Axes>"
      ]
     },
     "metadata": {},
     "output_type": "display_data"
    }
   ],
   "source": [
    "plt.axhline(0,color='k')\n",
    "meantrace_L = np.mean(np.asarray(pre_beh['L']),axis=0)\n",
    "plt.plot(meantrace_L)\n",
    "meantrace_R = np.mean(np.asarray(pre_beh['R']),axis=0)\n",
    "plt.plot(meantrace_R)\n",
    "#plt.xlim(900,1100)\n",
    "#plt.axvline(987)"
   ]
  },
  {
   "cell_type": "code",
   "execution_count": 16,
   "metadata": {
    "collapsed": true
   },
   "outputs": [],
   "source": [
    "neural_traces = {}\n",
    "neural_traces['L'] = neural_traces_all_fly_stack['L77'] - neural_traces_all_fly_stack['L327']\n",
    "neural_traces['R'] = neural_traces_all_fly_stack['R77'] - neural_traces_all_fly_stack['R327']"
   ]
  },
  {
   "cell_type": "code",
   "execution_count": 17,
   "metadata": {},
   "outputs": [
    {
     "data": {
      "text/plain": [
       "((1362, 80), (1362, 80))"
      ]
     },
     "execution_count": 17,
     "metadata": {},
     "output_type": "execute_result"
    }
   ],
   "source": [
    "neural_traces['L'].shape, beh_traces['L'].shape"
   ]
  },
  {
   "cell_type": "code",
   "execution_count": null,
   "metadata": {
    "collapsed": true
   },
   "outputs": [],
   "source": [
    "### this is looking good; next I just need to do the binning"
   ]
  },
  {
   "cell_type": "code",
   "execution_count": 18,
   "metadata": {},
   "outputs": [
    {
     "data": {
      "text/plain": [
       "(1362,)"
      ]
     },
     "execution_count": 18,
     "metadata": {},
     "output_type": "execute_result"
    }
   ],
   "source": [
    "np.mean(neural_traces['L'][:,13:25],axis=1).shape"
   ]
  },
  {
   "cell_type": "code",
   "execution_count": 24,
   "metadata": {
    "collapsed": true
   },
   "outputs": [],
   "source": [
    "bins = "
   ]
  },
  {
   "cell_type": "code",
   "execution_count": 38,
   "metadata": {},
   "outputs": [
    {
     "data": {
      "text/plain": [
       "Text(0, 0.5, 'beh')"
      ]
     },
     "execution_count": 38,
     "metadata": {},
     "output_type": "execute_result"
    },
    {
     "data": {
      "image/png": "[encoded data removed]",
      "text/plain": [
       "<Figure size 432x288 with 1 Axes>"
      ]
     },
     "metadata": {},
     "output_type": "display_data"
    }
   ],
   "source": [
    "a = np.mean(neural_traces['L'][:,13:25],axis=1)\n",
    "b = np.mean(beh_traces['L'][:,13:25],axis=1)\n",
    "\n",
    "x_bins = np.linspace(-.5,.5,15)\n",
    "y_bins = np.linspace(-300,300,15)\n",
    "\n",
    "out = np.histogram2d(a, b, bins=[x_bins,y_bins])[0]\n",
    "plt.imshow(out,extent=[-.5,.5,-300,300],aspect=.0015)\n",
    "plt.xlabel('neural')\n",
    "plt.ylabel('beh')"
   ]
  },
  {
   "cell_type": "code",
   "execution_count": null,
   "metadata": {
    "collapsed": true
   },
   "outputs": [],
   "source": []
  },
  {
   "cell_type": "code",
   "execution_count": 20,
   "metadata": {},
   "outputs": [
    {
     "data": {
      "text/plain": [
       "Text(0, 0.5, 'beh')"
      ]
     },
     "execution_count": 20,
     "metadata": {},
     "output_type": "execute_result"
    },
    {
     "data": {
      "image/png": "[encoded data removed]",
      "text/plain": [
       "<Figure size 432x288 with 1 Axes>"
      ]
     },
     "metadata": {},
     "output_type": "display_data"
    }
   ],
   "source": [
    "#[[xmin, xmax], [ymin, ymax]]\n",
    "a = np.mean(neural_traces['R'][:,13:25],axis=1)\n",
    "b = np.mean(beh_traces['R'][:,13:25],axis=1)\n",
    "\n",
    "out = np.histogram2d(a, b, bins=15, range=[[-.5, .5], [-300, 300]])[0]\n",
    "plt.imshow(out)\n",
    "plt.xlabel('neural')\n",
    "plt.ylabel('beh')"
   ]
  },
  {
   "cell_type": "code",
   "execution_count": 21,
   "metadata": {},
   "outputs": [
    {
     "data": {
      "text/plain": [
       "Text(0, 0.5, 'beh')"
      ]
     },
     "execution_count": 21,
     "metadata": {},
     "output_type": "execute_result"
    },
    {
     "data": {
      "image/png": "[encoded data removed]",
      "text/plain": [
       "<Figure size 432x288 with 1 Axes>"
      ]
     },
     "metadata": {},
     "output_type": "display_data"
    }
   ],
   "source": [
    "out = np.histogram2d(neural_traces['R'][:,39], beh_traces['R'][:,39], bins=15, range=[[-.5, .5], [-300, 300]])[0]\n",
    "plt.imshow(out)\n",
    "plt.xlabel('neural')\n",
    "plt.ylabel('beh')"
   ]
  },
  {
   "cell_type": "code",
   "execution_count": 43,
   "metadata": {},
   "outputs": [
    {
     "data": {
      "text/plain": [
       "Text(0, 0.5, 'beh')"
      ]
     },
     "execution_count": 43,
     "metadata": {},
     "output_type": "execute_result"
    },
    {
     "data": {
      "image/png": "[encoded data removed]",
      "text/plain": [
       "<Figure size 432x288 with 1 Axes>"
      ]
     },
     "metadata": {},
     "output_type": "display_data"
    }
   ],
   "source": [
    "a = np.mean(neural_traces['R'][:,39:40],axis=1)\n",
    "b = np.mean(beh_traces['R'][:,39:40],axis=1)\n",
    "\n",
    "x_bins = np.linspace(-.5,.5,15)\n",
    "y_bins = np.linspace(-300,300,15)\n",
    "\n",
    "out = np.histogram2d(a, b, bins=[x_bins,y_bins])[0]\n",
    "plt.imshow(out,extent=[-.5,.5,-300,300],aspect=.0015)\n",
    "plt.xlabel('neural')\n",
    "plt.ylabel('beh')"
   ]
  },
  {
   "cell_type": "code",
   "execution_count": 163,
   "metadata": {},
   "outputs": [
    {
     "data": {
      "text/plain": [
       "<matplotlib.lines.Line2D at 0x7f3212b364a8>"
      ]
     },
     "execution_count": 163,
     "metadata": {},
     "output_type": "execute_result"
    },
    {
     "data": {
      "image/png": "[encoded data removed]",
      "text/plain": [
       "<Figure size 432x288 with 2 Axes>"
      ]
     },
     "metadata": {},
     "output_type": "display_data"
    }
   ],
   "source": [
    "tp1 = 13\n",
    "tp2 = 25\n",
    "\n",
    "# tp1 = 38\n",
    "# tp2 = 41\n",
    "\n",
    "# tp1 = 50\n",
    "# tp2 = 70\n",
    "\n",
    "x_bins = np.linspace(-.5,.5,21)\n",
    "y_bins = np.linspace(-300,300,21)\n",
    "\n",
    "a = np.mean(neural_traces['L'][:,tp1:tp2],axis=1)\n",
    "b = np.mean(beh_traces['L'][:,tp1:tp2],axis=1)\n",
    "hist_L = np.histogram2d(a, b, bins=[x_bins,y_bins])[0]\n",
    "hist_L/=len(a)\n",
    "\n",
    "a = np.mean(neural_traces['R'][:,tp1:tp2],axis=1)\n",
    "b = np.mean(beh_traces['R'][:,tp1:tp2],axis=1)\n",
    "hist_R = np.histogram2d(a, b, bins=[x_bins,y_bins])[0]\n",
    "hist_R/=len(a)\n",
    "\n",
    "plt.imshow((hist_L),extent=[-.5,.5,-300,300],aspect=.0015,cmap='seismic',vmin=-.03,vmax=.03)\n",
    "\n",
    "plt.xlabel('neural')\n",
    "plt.ylabel('beh')\n",
    "plt.colorbar()\n",
    "ax = plt.gca()\n",
    "#ax.invert_xaxis()\n",
    "\n",
    "plt.axvline(0,color='k',lw=3,linestyle='--')\n",
    "plt.axhline(0,color='k',lw=3,linestyle='--')"
   ]
  },
  {
   "cell_type": "code",
   "execution_count": 164,
   "metadata": {},
   "outputs": [
    {
     "data": {
      "text/plain": [
       "<matplotlib.lines.Line2D at 0x7f3212dff898>"
      ]
     },
     "execution_count": 164,
     "metadata": {},
     "output_type": "execute_result"
    },
    {
     "data": {
      "image/png": "[encoded data removed]",
      "text/plain": [
       "<Figure size 432x288 with 2 Axes>"
      ]
     },
     "metadata": {},
     "output_type": "display_data"
    }
   ],
   "source": [
    "tp1 = 13\n",
    "tp2 = 25\n",
    "\n",
    "# tp1 = 38\n",
    "# tp2 = 41\n",
    "\n",
    "# tp1 = 50\n",
    "# tp2 = 70\n",
    "\n",
    "x_bins = np.linspace(-.5,.5,21)\n",
    "y_bins = np.linspace(-300,300,21)\n",
    "\n",
    "a = np.mean(neural_traces['L'][:,tp1:tp2],axis=1)\n",
    "b = np.mean(beh_traces['L'][:,tp1:tp2],axis=1)\n",
    "hist_L = np.histogram2d(a, b, bins=[x_bins,y_bins])[0]\n",
    "hist_L/=len(a)\n",
    "\n",
    "a = np.mean(neural_traces['R'][:,tp1:tp2],axis=1)\n",
    "b = np.mean(beh_traces['R'][:,tp1:tp2],axis=1)\n",
    "hist_R = np.histogram2d(a, b, bins=[x_bins,y_bins])[0]\n",
    "hist_R/=len(a)\n",
    "\n",
    "plt.imshow((hist_R),extent=[-.5,.5,-300,300],aspect=.0015,cmap='seismic',vmin=-.03,vmax=.03)\n",
    "\n",
    "plt.xlabel('neural')\n",
    "plt.ylabel('beh')\n",
    "plt.colorbar()\n",
    "ax = plt.gca()\n",
    "#ax.invert_xaxis()\n",
    "\n",
    "plt.axvline(0,color='k',lw=3,linestyle='--')\n",
    "plt.axhline(0,color='k',lw=3,linestyle='--')"
   ]
  },
  {
   "cell_type": "code",
   "execution_count": null,
   "metadata": {
    "collapsed": true
   },
   "outputs": [],
   "source": [
    "# red is preference for left turn"
   ]
  },
  {
   "cell_type": "code",
   "execution_count": 160,
   "metadata": {},
   "outputs": [
    {
     "name": "stdout",
     "output_type": "stream",
     "text": [
      "0.04011995267682468 -0.021202288930029893\n"
     ]
    }
   ],
   "source": [
    "tp1 = 38\n",
    "tp2 = 41\n",
    "a = np.mean(neural_traces['L'][:,tp1:tp2])\n",
    "b = np.mean(neural_traces['R'][:,tp1:tp2])\n",
    "print(a,b)"
   ]
  },
  {
   "cell_type": "code",
   "execution_count": 161,
   "metadata": {},
   "outputs": [
    {
     "name": "stdout",
     "output_type": "stream",
     "text": [
      "-0.012044973312528042 0.005592925182573299\n"
     ]
    }
   ],
   "source": [
    "tp1 = 13\n",
    "tp2 = 25\n",
    "a = np.mean(neural_traces['L'][:,tp1:tp2])\n",
    "b = np.mean(neural_traces['R'][:,tp1:tp2])\n",
    "print(a,b)"
   ]
  },
  {
   "cell_type": "code",
   "execution_count": null,
   "metadata": {
    "collapsed": true
   },
   "outputs": [],
   "source": []
  }
 ],
 "metadata": {
  "kernelspec": {
   "display_name": "Python 3",
   "language": "python",
   "name": "python3"
  },
  "language_info": {
   "codemirror_mode": {
    "name": "ipython",
    "version": 3
   },
   "file_extension": ".py",
   "mimetype": "text/x-python",
   "name": "python",
   "nbconvert_exporter": "python",
   "pygments_lexer": "ipython3",
   "version": "3.6.1"
  }
 },
 "nbformat": 4,
 "nbformat_minor": 2
}
