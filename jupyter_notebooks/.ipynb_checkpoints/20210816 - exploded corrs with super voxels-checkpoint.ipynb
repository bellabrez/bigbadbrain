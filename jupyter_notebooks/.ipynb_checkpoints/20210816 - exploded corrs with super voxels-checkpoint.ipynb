{
 "cells": [
  {
   "cell_type": "code",
   "execution_count": 1,
   "metadata": {
    "collapsed": true
   },
   "outputs": [],
   "source": [
    "import sys\n",
    "sys.path.insert(0, '/home/users/brezovec/.local/lib/python3.6/site-packages/lib/python/')\n",
    "import ants\n",
    "import os\n",
    "import bigbadbrain as bbb\n",
    "import numpy as np\n",
    "import matplotlib.pyplot as plt\n",
    "import time\n",
    "import scipy\n",
    "from scipy.ndimage.filters import gaussian_filter\n",
    "from scipy.ndimage.filters import gaussian_filter1d\n",
    "from scipy.signal import savgol_filter\n",
    "from scipy.interpolate import interp1d\n",
    "\n",
    "from skimage.filters import threshold_triangle\n",
    "sys.path.insert(0, '/home/users/brezovec/.local/lib/python3.6/site-packages')\n",
    "import os\n",
    "import statsmodels.api as sm\n",
    "import cv2\n",
    "import matplotlib.patches as mpatches\n",
    "import psutil\n",
    "from mpl_toolkits.axes_grid1 import ImageGrid\n",
    "from matplotlib.colors import Normalize\n",
    "import matplotlib.colors as mcolors\n",
    "from matplotlib import colors\n",
    "\n",
    "%matplotlib inline\n",
    "plt.rcParams.update({'font.size': 20})\n",
    "\n",
    "from sklearn.feature_extraction.image import grid_to_graph\n",
    "from mpl_toolkits.axes_grid1 import ImageGrid\n",
    "import json\n",
    "from matplotlib.ticker import FuncFormatter\n",
    "\n",
    "import nibabel as nib\n",
    "\n",
    "from sklearn.cluster import AgglomerativeClustering\n",
    "from scipy.cluster.hierarchy import dendrogram\n",
    "from scipy.cluster.hierarchy import fcluster\n",
    "from scipy.cluster import hierarchy\n",
    "import itertools\n",
    "import random\n",
    "import matplotlib as mpl\n",
    "from matplotlib.pyplot import cm\n",
    "\n",
    "from scipy.interpolate import UnivariateSpline\n",
    "from sklearn.linear_model import LinearRegression\n",
    "import matplotlib.patches as patches\n",
    "\n",
    "from sklearn.linear_model import RidgeCV\n",
    "from sklearn.linear_model import LassoCV\n",
    "\n",
    "from scipy.fftpack import fft,fftshift,ifft\n",
    "from scipy import signal\n",
    "import pickle\n",
    "from random import random\n",
    "\n",
    "import colorsys\n",
    "from matplotlib.colors import LinearSegmentedColormap\n",
    "import matplotlib.patches as mpatches\n",
    "from matplotlib.collections import PatchCollection\n",
    "import matplotlib\n",
    "from numpy import inf\n",
    "from scipy.ndimage.morphology import binary_erosion\n",
    "from scipy.ndimage.morphology import binary_dilation"
   ]
  },
  {
   "cell_type": "code",
   "execution_count": 2,
   "metadata": {
    "collapsed": true
   },
   "outputs": [],
   "source": [
    "dataset_path = \"/oak/stanford/groups/trc/data/Brezovec/2P_Imaging/20210101_correlation/\""
   ]
  },
  {
   "cell_type": "code",
   "execution_count": 3,
   "metadata": {
    "collapsed": true
   },
   "outputs": [],
   "source": [
    "n_clusters = 2000\n",
    "labels_file = '/oak/stanford/groups/trc/data/Brezovec/2P_Imaging/20201129_super_slices/final_9_cluster_labels_2000.npy'\n",
    "cluster_model_labels = np.load(labels_file)"
   ]
  },
  {
   "cell_type": "code",
   "execution_count": 7,
   "metadata": {},
   "outputs": [],
   "source": [
    "behaviors = ['Y_pos', 'Z_pos', 'Z_neg']\n",
    "maps = {}\n",
    "for behavior in behaviors:\n",
    "    rvalues_to_load = [os.path.join(dataset_path, x) for x in os.listdir(dataset_path) if 'rvalues_{}'.format(behavior) in x]\n",
    "    bbb.sort_nicely(rvalues_to_load)\n",
    "\n",
    "    pvalues_to_load = [os.path.join(dataset_path, x) for x in os.listdir(dataset_path) if 'pvalues_{}'.format(behavior) in x]\n",
    "    bbb.sort_nicely(pvalues_to_load)\n",
    "    \n",
    "    r_map = []\n",
    "    p_map = []\n",
    "    for z in range(49):\n",
    "        r_map.append(np.load(rvalues_to_load[z]))\n",
    "        p_map.append(np.load(pvalues_to_load[z]))\n",
    "\n",
    "    r_map = np.asarray(r_map)\n",
    "    p_map = np.asarray(p_map)\n",
    "    \n",
    "    final_map = []\n",
    "    for z in range(49):\n",
    "        colored_by_betas = np.zeros(256*128)\n",
    "        for cluster_num in range(n_clusters):\n",
    "            cluster_indicies = np.where(cluster_model_labels[z,:]==cluster_num)[0]\n",
    "\n",
    "            if p_map[z,cluster_num] <= 5e-7:#1e-8 :\n",
    "                sig = 1\n",
    "            else:\n",
    "                sig = 0\n",
    "\n",
    "            if len(cluster_indicies) > 100:\n",
    "                sig = np.nan\n",
    "            colored_by_betas[cluster_indicies] = r_map[z,cluster_num]*sig\n",
    "        colored_by_betas = colored_by_betas.reshape(256,128)\n",
    "        final_map.append(colored_by_betas)\n",
    "    final_map = np.asarray(final_map)\n",
    "    maps[behavior] = final_map"
   ]
  },
  {
   "cell_type": "code",
   "execution_count": 9,
   "metadata": {
    "collapsed": true
   },
   "outputs": [],
   "source": [
    "norm_min = 0\n",
    "norm_max = np.max(np.nan_to_num(maps['Y_pos']))\n",
    "norm_max = 1#0.15\n",
    "slices = []\n",
    "for z in range(49):\n",
    "    colors1 = Normalize(norm_min, norm_max)(maps['Z_neg'][z,:,:].T)\n",
    "    colors2 = Normalize(norm_min, norm_max)(maps['Z_pos'][z,:,:].T)\n",
    "    colors3 = Normalize(norm_min, norm_max)(maps['Y_pos'][z,:,:].T)\n",
    "    to_plot = np.stack((colors1,colors2,colors3),axis=2)\n",
    "    slices.append(to_plot)"
   ]
  },
  {
   "cell_type": "code",
   "execution_count": 11,
   "metadata": {},
   "outputs": [
    {
     "data": {
      "text/plain": [
       "(49, 128, 256, 3)"
      ]
     },
     "execution_count": 11,
     "metadata": {},
     "output_type": "execute_result"
    }
   ],
   "source": [
    "slices = np.asarray(slices)\n",
    "slices.shape"
   ]
  },
  {
   "cell_type": "code",
   "execution_count": 12,
   "metadata": {},
   "outputs": [
    {
     "data": {
      "text/plain": [
       "(256, 128, 49, 3)"
      ]
     },
     "execution_count": 12,
     "metadata": {},
     "output_type": "execute_result"
    }
   ],
   "source": [
    "# want (256, 128, 49)\n",
    "to_plot = np.swapaxes(slices,0,2)\n",
    "to_plot.shape"
   ]
  },
  {
   "cell_type": "code",
   "execution_count": 10,
   "metadata": {
    "collapsed": true
   },
   "outputs": [],
   "source": [
    "### Load Luke Mean ###\n",
    "luke_path = \"/oak/stanford/groups/trc/data/Brezovec/2P_Imaging/anat_templates/20210310_luke_exp_thresh.nii\"\n",
    "res_luke_mean = (0.65,0.65,1)\n",
    "luke_mean = np.asarray(nib.load(luke_path).get_data().squeeze(), dtype='float32')\n",
    "luke_mean = luke_mean[:,:,::-1] #flipz\n",
    "luke_mean = ants.from_numpy(luke_mean)\n",
    "luke_mean.set_spacing(res_luke_mean)\n",
    "luke_mean_lowres =  ants.resample_image(luke_mean,(256,128,49),use_voxels=True)\n",
    "\n",
    "### Load JFRC2018 ###\n",
    "fixed_path = \"/oak/stanford/groups/trc/data/Brezovec/2P_Imaging/anat_templates/JRC2018_FEMALE_38um_iso_16bit.nii\"\n",
    "res_JRC2018 = (0.38, 0.38, 0.38)\n",
    "fixed = np.asarray(nib.load(fixed_path).get_data().squeeze(), dtype='float32')\n",
    "fixed = ants.from_numpy(fixed)\n",
    "fixed.set_spacing(res_JRC2018)\n",
    "fixed_lowres = ants.resample_image(fixed,(2,2,2),use_voxels=False)\n",
    "\n",
    "### Load Atlas ###\n",
    "atlas_path = \"/oak/stanford/groups/trc/data/Brezovec/2P_Imaging/anat_templates/jfrc_2018_rois_improve_reorient_transformed.nii\"\n",
    "atlas = np.asarray(nib.load(atlas_path).get_data().squeeze(), dtype='float32')\n",
    "atlas = ants.from_numpy(atlas)\n",
    "atlas.set_spacing((.76,.76,.76))\n",
    "atlas = ants.resample_image(atlas,(2,2,2),use_voxels=False)"
   ]
  },
  {
   "cell_type": "code",
   "execution_count": null,
   "metadata": {
    "collapsed": true
   },
   "outputs": [],
   "source": []
  },
  {
   "cell_type": "code",
   "execution_count": 16,
   "metadata": {},
   "outputs": [],
   "source": [
    "moving = ants.from_numpy(to_plot[:,:,::-1])\n",
    "moving.set_spacing((2.6076, 2.6154, 5.3125, 1)) ### matching this to the slightly off luke mean"
   ]
  },
  {
   "cell_type": "code",
   "execution_count": 17,
   "metadata": {
    "collapsed": true
   },
   "outputs": [],
   "source": [
    "out = ants.registration(fixed_lowres, luke_mean_lowres, type_of_transform='Affine')"
   ]
  },
  {
   "cell_type": "code",
   "execution_count": 19,
   "metadata": {},
   "outputs": [],
   "source": [
    "maps_voxel_res = ants.apply_transforms(fixed_lowres, moving, out['fwdtransforms'][0], imagetype=3, interpolator='nearestNeighbor')"
   ]
  },
  {
   "cell_type": "code",
   "execution_count": 20,
   "metadata": {
    "collapsed": true
   },
   "outputs": [],
   "source": [
    "corr = maps_voxel_res.numpy()"
   ]
  },
  {
   "cell_type": "code",
   "execution_count": 21,
   "metadata": {},
   "outputs": [
    {
     "data": {
      "text/plain": [
       "(314, 146, 91, 3)"
      ]
     },
     "execution_count": 21,
     "metadata": {},
     "output_type": "execute_result"
    }
   ],
   "source": [
    "corr.shape"
   ]
  },
  {
   "cell_type": "code",
   "execution_count": 24,
   "metadata": {},
   "outputs": [
    {
     "data": {
      "text/plain": [
       "(-0.5, 313.5, 145.5, -0.5)"
      ]
     },
     "execution_count": 24,
     "metadata": {},
     "output_type": "execute_result"
    },
    {
     "data": {
      "image/png": "[encoded data removed]",
      "text/plain": [
       "<Figure size 720x720 with 2 Axes>"
      ]
     },
     "metadata": {},
     "output_type": "display_data"
    }
   ],
   "source": [
    "atlas = atlas.numpy()\n",
    "atlas_int = np.rint(atlas)\n",
    "atlas_clean = np.copy(atlas_int)\n",
    "diff_atlas = atlas_int - atlas\n",
    "thresh = 0.001\n",
    "atlas_clean[np.where(np.abs(diff_atlas)>thresh)] = 0\n",
    "\n",
    "plt.figure(figsize=(10,10))\n",
    "plt.subplot(211)\n",
    "plt.imshow(atlas[:,:,50].T)\n",
    "plt.axis('off')\n",
    "\n",
    "plt.subplot(212)\n",
    "plt.imshow(atlas_clean[:,:,50].T)\n",
    "plt.axis('off')"
   ]
  },
  {
   "cell_type": "code",
   "execution_count": 80,
   "metadata": {
    "collapsed": true
   },
   "outputs": [],
   "source": [
    "### 3 COLOR ###\n",
    "\n",
    "def plot_grouped_roi_image(rois,plot=True):\n",
    "    roi_data = []\n",
    "    roi_contours = []\n",
    "\n",
    "    left_edges = []\n",
    "    right_edges = []\n",
    "    bottom_edges = []\n",
    "    top_edges = []\n",
    "\n",
    "    for roi in rois:\n",
    "        ####################\n",
    "        ### Get roi mask ###\n",
    "        ####################\n",
    "\n",
    "        mask = np.zeros(atlas_clean.shape)\n",
    "        mask[np.where(atlas_clean == roi)] = 1\n",
    "\n",
    "        mask_eroded = binary_erosion(mask, structure=np.ones((2,2,2)))\n",
    "        mask_dilated = binary_dilation(mask_eroded, iterations=2)\n",
    "\n",
    "        masked_roi = mask_dilated[...,np.newaxis]*np.nan_to_num(to_plot)\n",
    "\n",
    "#         # for plotting\n",
    "#         left_edges.append(np.where(np.sum(np.nan_to_num(masked_roi),axis=0)>0)[0][0])\n",
    "#         right_edges.append(np.where(np.sum(np.nan_to_num(masked_roi),axis=0)>0)[0][-1])\n",
    "#         top_edges.append(np.where(np.sum(np.nan_to_num(masked_roi),axis=1)>0)[0][0])\n",
    "#         bottom_edges.append(np.where(np.sum(np.nan_to_num(masked_roi),axis=1)>0)[0][-1])\n",
    "\n",
    "        masked_roi_flat = np.max(masked_roi,axis=2)\n",
    "        roi_data.append(masked_roi_flat)\n",
    "\n",
    "        #######################\n",
    "        ### Get roi contour ###\n",
    "        #######################\n",
    "        \n",
    "        _, mask_binary = cv2.threshold(np.max(mask_dilated,axis=-1).astype('uint8'), 0, 1, cv2.THRESH_BINARY) \n",
    "        contours, _ = cv2.findContours(mask_binary, cv2.RETR_EXTERNAL, cv2.CHAIN_APPROX_SIMPLE)#cv2.RETR_TREE\n",
    "\n",
    "        canvas = np.ones(atlas_clean[:,:,0].shape)\n",
    "        out = cv2.drawContours(canvas, contours, -1, (0,255,0), 1)\n",
    "        out = np.abs(out-1) #flip 0/1\n",
    "        roi_contour = np.repeat(out[:,:,np.newaxis],repeats=4,axis=-1) ### copy into rgba channels to make white\n",
    "        roi_contours.append(roi_contour)\n",
    "\n",
    "        # for plotting\n",
    "        left_edges.append(np.where(np.sum(np.nan_to_num(roi_contour),axis=0)>0)[0][0])\n",
    "        right_edges.append(np.where(np.sum(np.nan_to_num(roi_contour),axis=0)>0)[0][-1])\n",
    "        top_edges.append(np.where(np.sum(np.nan_to_num(roi_contour),axis=1)>0)[0][0])\n",
    "        bottom_edges.append(np.where(np.sum(np.nan_to_num(roi_contour),axis=1)>0)[0][-1])\n",
    "        \n",
    "    # get extreme edges from all rois used\n",
    "    left_edge = np.min(left_edges) - 1\n",
    "    right_edge = np.max(right_edges) + 1\n",
    "    top_edge = np.min(top_edges) - 1\n",
    "    bottom_edge = np.max(bottom_edges) + 1\n",
    "\n",
    "    ############\n",
    "    ### PLOT ###\n",
    "    ############\n",
    "    \n",
    "    roi_datas = np.max(np.asarray(roi_data),axis=0)\n",
    "    data_map = np.swapaxes(roi_datas[top_edge:bottom_edge,left_edge:right_edge,:],0,1)*13#*10000#*20 #here\n",
    "\n",
    "    if plot:\n",
    "        plt.figure(figsize=(10,10))\n",
    "        plt.imshow(data_map)\n",
    "\n",
    "    contours_to_export = []\n",
    "    for i in range(len(roi_contours)):\n",
    "        single_contour = np.swapaxes(roi_contours[i][top_edge:bottom_edge,left_edge:right_edge],0,1)\n",
    "        contours_to_export.append(single_contour)\n",
    "        if plot:\n",
    "            plt.imshow(single_contour)\n",
    "        \n",
    "    return data_map, contours_to_export\n",
    "\n",
    "def place_on_canvas(input_canvas, to_plot, is_contour=False, is_midline=True, x_shift=0, y_shift=0):\n",
    "    full_y_mid = int(input_canvas.shape[0]/2)\n",
    "    full_x_mid = int(input_canvas.shape[1]/2)\n",
    "\n",
    "    y_mid = int(to_plot.shape[0]/2)\n",
    "    x_mid = int(to_plot.shape[1]/2)\n",
    "\n",
    "    height = to_plot.shape[0]\n",
    "    width = to_plot.shape[1]\n",
    "\n",
    "    left = full_x_mid-x_mid\n",
    "    right = left + width\n",
    "\n",
    "    top = full_y_mid-y_mid\n",
    "    bottom = top + height\n",
    "\n",
    "    if is_contour:\n",
    "        ys = np.where(to_plot[:,:,0]>0)[0] + full_y_mid - y_mid + y_shift\n",
    "        xs = np.where(to_plot[:,:,0]>0)[1] + full_x_mid - x_mid + x_shift\n",
    "        input_canvas[ys,xs]=1\n",
    "    else:\n",
    "        #input_canvas[top+y_shift:bottom+y_shift,left+x_shift:right+x_shift,:3] = to_plot\n",
    "        input_canvas[top+y_shift:bottom+y_shift,left+x_shift:right+x_shift] = to_plot #pca\n",
    "    return input_canvas\n",
    "\n",
    "def place_on_canvas_wrapper(canvas, data_map, contours, y_shift, x_shift):\n",
    "    canvas = place_on_canvas(canvas, to_plot=data_map, y_shift=y_shift, x_shift=x_shift)\n",
    "    for i in range(len(contours)):\n",
    "        canvas = place_on_canvas(canvas, to_plot=contours[i], is_contour=True, y_shift=y_shift, x_shift=x_shift)\n",
    "    return canvas\n",
    "\n",
    "def wraper_wraper(canvas, roi_ids, y_shift, x_shift):\n",
    "    data_map, contours = plot_grouped_roi_image(roi_ids, plot=False)\n",
    "    canvas = place_on_canvas_wrapper(input_canvas, data_map, contours, y_shift=y_shift, x_shift=x_shift)\n",
    "    return canvas"
   ]
  },
  {
   "cell_type": "code",
   "execution_count": 81,
   "metadata": {
    "collapsed": true
   },
   "outputs": [],
   "source": [
    "##################\n",
    "### ROI GROUPS ###\n",
    "##################\n",
    "\n",
    "FB_group = {\n",
    "26: 'FB',\n",
    "4: 'NO',\n",
    "5: 'BU_R',\n",
    "54: 'BU_L',\n",
    "8: 'LAL_R',\n",
    "56: 'LAL_L',\n",
    "31: 'PVLP_R',\n",
    "76: 'PVLP_L'}\n",
    "\n",
    "ventromedial_r_group = {\n",
    "13: 'VES_R',  \n",
    "40: 'EPA_R',\n",
    "35: 'GOR_R',\n",
    "11: 'AMMC_R'}\n",
    "\n",
    "ventromedial_l_group = {\n",
    "60: 'VES_L', \n",
    "85: 'EPA_L',\n",
    "80: 'GOR_L',\n",
    "58: 'AMMC_L'}\n",
    "\n",
    "PB = {6: 'PB'}\n",
    "EB = {23: 'EB'}\n",
    "\n",
    "anterior_group = {\n",
    "50: 'PRW',\n",
    "9: 'SAD',\n",
    "49: 'GNG',\n",
    "30: 'AVLP_R',\n",
    "75: 'AVLP_L',\n",
    "24: 'AL_R',\n",
    "70: 'AL_L',\n",
    "64: 'MB_PED_L',\n",
    "65: 'MB_VL_L',\n",
    "66: 'MB_ML_L',\n",
    "81: 'MB_CA_L',\n",
    "17: 'MB_PED_R',\n",
    "18: 'MB_VL_R',\n",
    "19: 'MB_ML_R',\n",
    "36: 'MB_CA_R',\n",
    "32: 'IVLP_R',\n",
    "77: 'IVLP_L',\n",
    "10: 'CAN_R',\n",
    "20: 'FLA_R',\n",
    "57: 'CAN_L',\n",
    "67: 'FLA_L'}\n",
    "\n",
    "big_r_group = {\n",
    "27: 'SLP_R',\n",
    "29: 'SMP_R',\n",
    "33: 'PLP_R',\n",
    "7: 'LH_R',\n",
    "38: 'IPS_R',\n",
    "37: 'SPS_R',\n",
    "16: 'CRE_R',\n",
    "39: 'SCL_R',\n",
    "12: 'ICL_R',\n",
    "15: 'ATL_R',\n",
    "14: 'IB_R',\n",
    "28: 'SIP_R'}\n",
    "    \n",
    "big_l_group = {\n",
    "72: 'SLP_L',   \n",
    "74: 'SMP_L',\n",
    "78: 'PLP_L',\n",
    "55: 'LH_L',\n",
    "83: 'IPS_L',\n",
    "82: 'SPS_L',\n",
    "63: 'CRE_L',\n",
    "84: 'SCL_L',  \n",
    "59: 'ICL_L',\n",
    "62: 'ATL_L',\n",
    "61: 'IB_L',\n",
    "73: 'SIP_L'}"
   ]
  },
  {
   "cell_type": "code",
   "execution_count": 94,
   "metadata": {},
   "outputs": [
    {
     "name": "stderr",
     "output_type": "stream",
     "text": [
      "Clipping input data to the valid range for imshow with RGB data ([0..1] for floats or [0..255] for integers).\n"
     ]
    },
    {
     "data": {
      "image/png": "[encoded data removed]",
      "text/plain": [
       "<Figure size 720x720 with 1 Axes>"
      ]
     },
     "metadata": {},
     "output_type": "display_data"
    }
   ],
   "source": [
    "input_canvas = np.zeros((500,500,3))\n",
    "\n",
    "\n",
    "x_shift=0; y_shift=0\n",
    "data_map, contours = plot_grouped_roi_image(FB_group.keys(), plot=False)\n",
    "canvas = place_on_canvas_wrapper(input_canvas, data_map, contours, y_shift=y_shift, x_shift=x_shift)\n",
    "\n",
    "x_shift=0; y_shift=-45\n",
    "data_map, contours = plot_grouped_roi_image(PB.keys(), plot=False)\n",
    "canvas = place_on_canvas_wrapper(canvas, data_map, contours, y_shift=y_shift, x_shift=x_shift)\n",
    "\n",
    "x_shift=0; y_shift=35\n",
    "data_map, contours = plot_grouped_roi_image({23: 'EB'}.keys(), plot=False)\n",
    "canvas = place_on_canvas_wrapper(canvas, data_map, contours, y_shift=y_shift, x_shift=x_shift)\n",
    "\n",
    "##########\n",
    "### MB ###\n",
    "##########\n",
    "\n",
    "# x_shift=60; y_shift=-50\n",
    "# data_map, contours = plot_grouped_roi_image(MB_left_group.keys(), plot=False)\n",
    "# canvas = place_on_canvas_wrapper(input_canvas, data_map, contours, y_shift=y_shift, x_shift=x_shift)\n",
    "# x_shift=-60; y_shift=-50\n",
    "# data_map, contours = plot_grouped_roi_image(MB_right_group.keys(), plot=False)\n",
    "# canvas = place_on_canvas_wrapper(input_canvas, data_map, contours, y_shift=y_shift, x_shift=x_shift)\n",
    "\n",
    "#################\n",
    "### BIG GROUP ###\n",
    "#################\n",
    "\n",
    "x_shift=-130; y_shift=30\n",
    "data_map, contours = plot_grouped_roi_image(big_r_group.keys(), plot=False)\n",
    "canvas = place_on_canvas_wrapper(input_canvas, data_map, contours, y_shift=y_shift, x_shift=x_shift)\n",
    "x_shift=130; y_shift=30\n",
    "data_map, contours = plot_grouped_roi_image(big_l_group.keys(), plot=False)\n",
    "canvas = place_on_canvas_wrapper(input_canvas, data_map, contours, y_shift=y_shift, x_shift=x_shift)\n",
    "\n",
    "##############\n",
    "### VISUAL ###\n",
    "##############\n",
    "\n",
    "x_shift=-200; y_shift=175\n",
    "data_map, contours = plot_grouped_roi_image({25: 'MED_R'}.keys(), plot=False)\n",
    "canvas = place_on_canvas_wrapper(input_canvas, data_map, contours, y_shift=y_shift, x_shift=x_shift)\n",
    "x_shift=200; y_shift=175\n",
    "data_map, contours = plot_grouped_roi_image({71: 'MED_L'}.keys(), plot=False)\n",
    "canvas = place_on_canvas_wrapper(input_canvas, data_map, contours, y_shift=y_shift, x_shift=x_shift)\n",
    "\n",
    "x_shift=-140; y_shift=40+175\n",
    "data_map, contours = plot_grouped_roi_image({3: 'LO_R'}.keys(), plot=False)\n",
    "canvas = place_on_canvas_wrapper(input_canvas, data_map, contours, y_shift=y_shift, x_shift=x_shift)\n",
    "x_shift=140; y_shift=40+175\n",
    "data_map, contours = plot_grouped_roi_image({53: 'LO_L'}.keys(), plot=False)\n",
    "canvas = place_on_canvas_wrapper(input_canvas, data_map, contours, y_shift=y_shift, x_shift=x_shift)\n",
    "\n",
    "x_shift=-140; y_shift=-30+175\n",
    "data_map, contours = plot_grouped_roi_image({22: 'LP_R'}.keys(), plot=False)\n",
    "canvas = place_on_canvas_wrapper(input_canvas, data_map, contours, y_shift=y_shift, x_shift=x_shift)\n",
    "x_shift=140; y_shift=-30+175\n",
    "data_map, contours = plot_grouped_roi_image({69: 'LP_L'}.keys(), plot=False)\n",
    "canvas = place_on_canvas_wrapper(input_canvas, data_map, contours, y_shift=y_shift, x_shift=x_shift)\n",
    "\n",
    "canvas = wraper_wraper(canvas, ventromedial_r_group.keys(), y_shift=55, x_shift=-50)\n",
    "canvas = wraper_wraper(canvas, ventromedial_l_group.keys(), y_shift=55, x_shift=50)\n",
    "\n",
    "canvas = wraper_wraper(canvas, anterior_group.keys(), y_shift=150, x_shift=0)\n",
    "\n",
    "canvas = wraper_wraper(canvas, {34: 'AOTU_R'}.keys(), y_shift=-50+175-15, x_shift=-80)\n",
    "canvas = wraper_wraper(canvas, {79: 'AOTU_L'}.keys(), y_shift=-50+175-15, x_shift=80)\n",
    "    \n",
    "canvas[np.where(canvas==0)] = np.nan\n",
    "\n",
    "plt.figure(figsize=(10,10))\n",
    "plt.imshow(canvas[150:,:])\n",
    "plt.axis('off')\n",
    "\n",
    "save_path = '/oak/stanford/groups/trc/data/Brezovec/2P_Imaging/figs'\n",
    "timestr = time.strftime(\"%Y%m%d-%H%M%S\")\n",
    "fname = os.path.join(save_path, f'{timestr}')\n",
    "#plt.savefig(fname,dpi=300,bbox_inches='tight')"
   ]
  },
  {
   "cell_type": "markdown",
   "metadata": {},
   "source": [
    "# View Isolated"
   ]
  },
  {
   "cell_type": "code",
   "execution_count": 60,
   "metadata": {},
   "outputs": [
    {
     "data": {
      "text/plain": [
       "(49, 128, 256, 3)"
      ]
     },
     "execution_count": 60,
     "metadata": {},
     "output_type": "execute_result"
    }
   ],
   "source": [
    "slices.shape"
   ]
  },
  {
   "cell_type": "code",
   "execution_count": 62,
   "metadata": {},
   "outputs": [
    {
     "name": "stderr",
     "output_type": "stream",
     "text": [
      "Clipping input data to the valid range for imshow with RGB data ([0..1] for floats or [0..255] for integers).\n"
     ]
    },
    {
     "data": {
      "text/plain": [
       "<matplotlib.image.AxesImage at 0x7fe1d90ca2b0>"
      ]
     },
     "execution_count": 62,
     "metadata": {},
     "output_type": "execute_result"
    },
    {
     "data": {
      "image/png": "[encoded data removed]",
      "text/plain": [
       "<Figure size 432x288 with 1 Axes>"
      ]
     },
     "metadata": {},
     "output_type": "display_data"
    }
   ],
   "source": [
    "plt.imshow(slices[20,:,:,:]*20)"
   ]
  },
  {
   "cell_type": "code",
   "execution_count": 49,
   "metadata": {},
   "outputs": [],
   "source": [
    "####################\n",
    "### MAKE HSV VOL ###\n",
    "####################\n",
    "vol = slices\n",
    "vol_flat = np.reshape(vol, (-1,3))\n",
    "vol_flat = np.clip(vol_flat,0,1) # there are some negative corrs. remove these.\n",
    "hsv_vol = []\n",
    "to_delete = []\n",
    "to_keep = []\n",
    "for i in range(vol_flat.shape[0]):\n",
    "    if np.sum(vol_flat[i]) != 0: # exclude black pixels (0,0,0)\n",
    "        hsv_vol.append(colorsys.rgb_to_hsv(*vol_flat[i]))\n",
    "        to_keep.append(i)\n",
    "    else:\n",
    "        to_delete.append(i)\n",
    "hsv_vol = np.asarray(hsv_vol)"
   ]
  },
  {
   "cell_type": "code",
   "execution_count": 50,
   "metadata": {},
   "outputs": [
    {
     "data": {
      "image/png": "[encoded data removed]",
      "text/plain": [
       "<Figure size 720x720 with 1 Axes>"
      ]
     },
     "metadata": {},
     "output_type": "display_data"
    }
   ],
   "source": [
    "cm_grey = matplotlib.cm.get_cmap('Greys')\n",
    "cm_hsv = matplotlib.cm.get_cmap('hsv')\n",
    "\n",
    "\n",
    "patches = []\n",
    "values = []\n",
    "\n",
    "rotation = 25\n",
    "\n",
    "ntheta = 48; dtheta = 360/ntheta;\n",
    "nradius = 5; dradius = 10/nradius;\n",
    "\n",
    "colors = np.linspace(0,255,ntheta+1)\n",
    "colors = [int(i) for i in colors]\n",
    "\n",
    "saturations = np.linspace(0,1,nradius)\n",
    "\n",
    "#####################\n",
    "### Make Hue Bins ###\n",
    "#####################\n",
    "\n",
    "hue_bin_centers = [i/255 for i in colors]\n",
    "bin_width = hue_bin_centers[1] - hue_bin_centers[0]\n",
    "\n",
    "# hue_bin_starts = [i-bin_width/2 for i in hue_bin_centers]\n",
    "# hue_bin_ends = np.delete(hue_bin_starts,0).extend(1)\n",
    "#hue_bin_ends = [i+bin_width/2 for i in hue_bin_centers]\n",
    "# deal with wrapping red around zero\n",
    "# hue_bin_starts[0] = 0\n",
    "# hue_bin_ends[-1] = 1\n",
    "\n",
    "hue_bin_starts = [i-bin_width/2 for i in hue_bin_centers]\n",
    "hue_bin_starts[0] = 0\n",
    "hue_bin_ends = list(np.delete(hue_bin_starts,0))\n",
    "hue_bin_ends.append(1)\n",
    "\n",
    "#####################\n",
    "### Make Sat Bins ###\n",
    "#####################\n",
    "sat_bin_starts = [.8,.6,.4,.2,0]\n",
    "sat_bin_ends = [1,.8,.6,.4,.2]\n",
    "\n",
    "##############################\n",
    "### Get Hue/Sat Bin Counts ###\n",
    "##############################\n",
    "\n",
    "bin_cnts = []\n",
    "\n",
    "for sat_bn in range(len(sat_bin_starts)):\n",
    "    sat_bin = np.where(np.logical_and(sat_bin_starts[sat_bn]<hsv_vol[:,1],\n",
    "                              hsv_vol[:,1]<=sat_bin_ends[sat_bn]))[0]\n",
    "    for hue_bn in range(len(hue_bin_starts)):\n",
    "        hue_bin = np.where(np.logical_and(hue_bin_starts[hue_bn]<=hsv_vol[:,0],\n",
    "                                          hsv_vol[:,0]<hue_bin_ends[hue_bn]))[0]\n",
    "        bin_cnts.append(len(set(hue_bin) & set(sat_bin)))\n",
    "\n",
    "### Log transform ###\n",
    "bin_cnts_log = np.log(bin_cnts)\n",
    "bin_cnts_log[bin_cnts_log==-inf]=0\n",
    "        \n",
    "bin_cnts_max = np.max(bin_cnts_log) ### ADJUST THIS TO CLIP\n",
    "bin_cnts_norm = [i/bin_cnts_max for i in bin_cnts_log]\n",
    "\n",
    "cnt = 0\n",
    "for nr in range(nradius,0,-1):\n",
    "    start_r = (nr-1)*dradius\n",
    "    end_r = (nr)*dradius\n",
    "    for nt in range(0,ntheta):\n",
    "        start_t = nt*dtheta\n",
    "        end_t = (nt+1)*dtheta\n",
    "        if nr == 6:\n",
    "            values.append(cm_hsv(int(nt*(255/ntheta))))\n",
    "        else:\n",
    "            values.append(cm_grey(bin_cnts_norm[cnt]))\n",
    "            cnt+=1\n",
    "        \n",
    "        wedge = mpatches.Wedge(0,end_r, start_t+rotation, end_t+rotation)\n",
    "        patches.append(wedge)\n",
    "        \n",
    "        \n",
    "collection = PatchCollection(patches,linewidth=0,\n",
    "edgecolor=['#000000' for x in values], \n",
    "facecolor=values)\n",
    "\n",
    "fig = plt.figure(figsize=(10,10), edgecolor='w',facecolor='w')\n",
    "ax = plt.subplot(2, 2, 1)\n",
    "ax.add_collection(collection)\n",
    "\n",
    "plt.axis('equal')\n",
    "plt.axis('off')\n",
    "plt.tight_layout()\n",
    "\n",
    "save_path = '/oak/stanford/groups/trc/data/Brezovec/2P_Imaging/figs'\n",
    "timestr = time.strftime(\"%Y%m%d-%H%M%S\")\n",
    "fname = os.path.join(save_path, f'{timestr}')\n",
    "#plt.savefig(fname,dpi=300,bbox_inches='tight')"
   ]
  },
  {
   "cell_type": "code",
   "execution_count": 51,
   "metadata": {
    "collapsed": true
   },
   "outputs": [],
   "source": [
    "red_cnt = bin_cnts[0]\n",
    "green_cnt = bin_cnts[16]\n",
    "blue_cnt = bin_cnts[32]\n",
    "\n",
    "rg_cnt = np.sum(bin_cnts[1:16])\n",
    "gb_cnt = np.sum(bin_cnts[17:32])\n",
    "br_cnt = np.sum(bin_cnts[33:48])\n",
    "rgb_cnt = np.sum(bin_cnts[49:])"
   ]
  },
  {
   "cell_type": "code",
   "execution_count": 52,
   "metadata": {},
   "outputs": [
    {
     "name": "stdout",
     "output_type": "stream",
     "text": [
      "7460 5731 81852 261 69713 39197 45277\n",
      "249491\n",
      "(1078945, 3)\n",
      "49\n"
     ]
    }
   ],
   "source": [
    "print(\n",
    "    red_cnt, \n",
    "    green_cnt,\n",
    "    blue_cnt,\n",
    "    rg_cnt,\n",
    "    gb_cnt,\n",
    "    br_cnt,\n",
    "    rgb_cnt\n",
    "     )\n",
    "print(red_cnt+green_cnt+blue_cnt+rg_cnt+gb_cnt+br_cnt+rgb_cnt)\n",
    "print(hsv_vol.shape)\n",
    "print(len(hue_bin_starts))"
   ]
  },
  {
   "cell_type": "code",
   "execution_count": null,
   "metadata": {
    "collapsed": true
   },
   "outputs": [],
   "source": []
  },
  {
   "cell_type": "code",
   "execution_count": 84,
   "metadata": {},
   "outputs": [
    {
     "data": {
      "text/plain": [
       "5731"
      ]
     },
     "execution_count": 84,
     "metadata": {},
     "output_type": "execute_result"
    }
   ],
   "source": [
    "sat_bin = np.where(np.logical_and(.8<hsv_vol[:,1],hsv_vol[:,1]<=1))\n",
    "\n",
    "hue_bn=0 # red\n",
    "hue_bn=16 # green\n",
    "#hue_bn=32 # blue\n",
    "\n",
    "hue_bin = np.where(np.logical_and(hue_bin_starts[hue_bn]<=hsv_vol[:,0],\n",
    "            hsv_vol[:,0]<hue_bin_ends[hue_bn]))\n",
    "\n",
    "isolated_voxels = set(hue_bin[0]) & set(sat_bin[0])\n",
    "isolated_voxels = list(isolated_voxels)\n",
    "len(isolated_voxels)"
   ]
  },
  {
   "cell_type": "code",
   "execution_count": 85,
   "metadata": {
    "collapsed": true
   },
   "outputs": [],
   "source": [
    "### This one is right ###\n",
    "\n",
    "empty = np.zeros(len(to_keep))\n",
    "empty[isolated_voxels] = 1\n",
    "full_vol = np.zeros(len(to_keep)+len(to_delete))\n",
    "full_vol[to_keep] = empty\n",
    "to_plot = np.reshape(full_vol, (49,128,256))"
   ]
  },
  {
   "cell_type": "code",
   "execution_count": 86,
   "metadata": {},
   "outputs": [
    {
     "data": {
      "text/plain": [
       "(49, 128, 256)"
      ]
     },
     "execution_count": 86,
     "metadata": {},
     "output_type": "execute_result"
    }
   ],
   "source": [
    "to_plot.shape"
   ]
  },
  {
   "cell_type": "code",
   "execution_count": 87,
   "metadata": {},
   "outputs": [
    {
     "data": {
      "text/plain": [
       "<matplotlib.image.AxesImage at 0x7fe18389eb70>"
      ]
     },
     "execution_count": 87,
     "metadata": {},
     "output_type": "execute_result"
    },
    {
     "data": {
      "image/png": "[encoded data removed]",
      "text/plain": [
       "<Figure size 432x288 with 1 Axes>"
      ]
     },
     "metadata": {},
     "output_type": "display_data"
    }
   ],
   "source": [
    "plt.imshow(np.max(to_plot,axis=0))"
   ]
  },
  {
   "cell_type": "code",
   "execution_count": 57,
   "metadata": {},
   "outputs": [
    {
     "data": {
      "text/plain": [
       "(49, 128, 256)"
      ]
     },
     "execution_count": 57,
     "metadata": {},
     "output_type": "execute_result"
    }
   ],
   "source": [
    "to_plot.shape"
   ]
  },
  {
   "cell_type": "code",
   "execution_count": 88,
   "metadata": {},
   "outputs": [
    {
     "data": {
      "text/plain": [
       "(256, 128, 49)"
      ]
     },
     "execution_count": 88,
     "metadata": {},
     "output_type": "execute_result"
    }
   ],
   "source": [
    "# want (256, 128, 49)\n",
    "to_plot = np.swapaxes(to_plot,0,2)\n",
    "to_plot.shape"
   ]
  },
  {
   "cell_type": "code",
   "execution_count": 89,
   "metadata": {
    "collapsed": true
   },
   "outputs": [],
   "source": [
    "moving = ants.from_numpy(to_plot[:,:,::-1])\n",
    "moving.set_spacing((2.6076, 2.6154, 5.3125)) ### matching this to the slightly off luke mean"
   ]
  },
  {
   "cell_type": "code",
   "execution_count": 90,
   "metadata": {
    "collapsed": true
   },
   "outputs": [],
   "source": [
    "out = ants.registration(fixed_lowres, luke_mean_lowres, type_of_transform='Affine')"
   ]
  },
  {
   "cell_type": "code",
   "execution_count": 91,
   "metadata": {
    "collapsed": true
   },
   "outputs": [],
   "source": [
    "maps_voxel_res = ants.apply_transforms(fixed_lowres, moving, out['fwdtransforms'][0], interpolator='nearestNeighbor')"
   ]
  },
  {
   "cell_type": "code",
   "execution_count": 92,
   "metadata": {
    "collapsed": true
   },
   "outputs": [],
   "source": [
    "isolated_map = maps_voxel_res.numpy()"
   ]
  },
  {
   "cell_type": "code",
   "execution_count": 78,
   "metadata": {},
   "outputs": [
    {
     "data": {
      "text/plain": [
       "(314, 146, 91)"
      ]
     },
     "execution_count": 78,
     "metadata": {},
     "output_type": "execute_result"
    }
   ],
   "source": [
    "isolated_map.shape"
   ]
  },
  {
   "cell_type": "code",
   "execution_count": 83,
   "metadata": {
    "collapsed": true
   },
   "outputs": [],
   "source": [
    "isolated_map_red = isolated_map.copy()"
   ]
  },
  {
   "cell_type": "code",
   "execution_count": 93,
   "metadata": {},
   "outputs": [
    {
     "data": {
      "text/plain": [
       "(314, 146, 91, 3)"
      ]
     },
     "execution_count": 93,
     "metadata": {},
     "output_type": "execute_result"
    }
   ],
   "source": [
    "empty = np.zeros(isolated_map.shape)\n",
    "to_plot = np.stack((isolated_map_red,isolated_map,empty),axis=3)\n",
    "to_plot.shape"
   ]
  },
  {
   "cell_type": "code",
   "execution_count": null,
   "metadata": {
    "collapsed": true
   },
   "outputs": [],
   "source": []
  }
 ],
 "metadata": {
  "kernelspec": {
   "display_name": "Python 3",
   "language": "python",
   "name": "python3"
  },
  "language_info": {
   "codemirror_mode": {
    "name": "ipython",
    "version": 3
   },
   "file_extension": ".py",
   "mimetype": "text/x-python",
   "name": "python",
   "nbconvert_exporter": "python",
   "pygments_lexer": "ipython3",
   "version": "3.6.1"
  }
 },
 "nbformat": 4,
 "nbformat_minor": 2
}
