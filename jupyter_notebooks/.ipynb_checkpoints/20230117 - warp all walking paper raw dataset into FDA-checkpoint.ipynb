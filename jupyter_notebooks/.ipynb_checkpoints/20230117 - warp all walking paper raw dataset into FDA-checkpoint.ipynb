{
 "cells": [
  {
   "cell_type": "code",
   "execution_count": null,
   "metadata": {},
   "outputs": [
    {
     "name": "stderr",
     "output_type": "stream",
     "text": [
      "/home/users/brezovec/.local/lib/python3.6/site-packages/ants/viz/render_surface_function.py:16: UserWarning: Cant import Plotly. Install it `pip install chart_studio` if you want to use ants.render_surface_function\n",
      "  \"Cant import Plotly. Install it `pip install chart_studio` if you want to use ants.render_surface_function\"\n"
     ]
    }
   ],
   "source": [
    "import numpy as np\n",
    "import pandas as pd\n",
    "import ants\n",
    "import nibabel as nib\n",
    "import os\n",
    "import pickle\n",
    "import scipy\n",
    "import matplotlib\n",
    "import matplotlib.pyplot as plt\n",
    "from mpl_toolkits.axes_grid1 import ImageGrid\n",
    "%matplotlib inline\n",
    "import warnings\n",
    "warnings.filterwarnings(\"ignore\")\n",
    "import networkx as nx\n",
    "from fa2 import ForceAtlas2\n",
    "from nxviz import CircosPlot\n",
    "import nxviz as nv\n",
    "import tqdm\n",
    "import time\n",
    "from scipy.ndimage.morphology import binary_erosion\n",
    "from scipy.ndimage.morphology import binary_dilation\n",
    "from sklearn.cluster import AgglomerativeClustering\n",
    "from scipy.cluster.hierarchy import dendrogram\n",
    "from scipy.cluster.hierarchy import fcluster\n",
    "from scipy.cluster import hierarchy\n",
    "from scipy.fftpack import fft,fftshift,ifft\n",
    "from scipy import signal\n",
    "import bigbadbrain as bbb\n",
    "from scipy.ndimage.filters import gaussian_filter1d\n",
    "import matplotlib.colors as mcolors\n",
    "import brainsss"
   ]
  },
  {
   "cell_type": "code",
   "execution_count": null,
   "metadata": {
    "collapsed": true
   },
   "outputs": [],
   "source": [
    "### Load Luke Mean ###\n",
    "luke_path = \"/oak/stanford/groups/trc/data/Brezovec/2P_Imaging/anat_templates/20210310_luke_exp_thresh.nii\"\n",
    "res_luke_mean = (0.65,0.65,1)\n",
    "luke_mean = np.asarray(nib.load(luke_path).get_data().squeeze(), dtype='float32')\n",
    "luke_mean = luke_mean[:,:,::-1] #flipz\n",
    "luke_mean = ants.from_numpy(luke_mean)\n",
    "luke_mean.set_spacing(res_luke_mean)\n",
    "luke_mean_lowres =  ants.resample_image(luke_mean,(256,128,49),use_voxels=True)\n",
    "\n",
    "### Load JFRC2018 ###\n",
    "fixed_path = \"/oak/stanford/groups/trc/data/Brezovec/2P_Imaging/anat_templates/JRC2018_FEMALE_38um_iso_16bit.nii\"\n",
    "res_JRC2018 = (0.38, 0.38, 0.38)\n",
    "fixed = np.asarray(nib.load(fixed_path).get_data().squeeze(), dtype='float32')\n",
    "fixed = ants.from_numpy(fixed)\n",
    "fixed.set_spacing(res_JRC2018)\n",
    "#fixed_lowres = ants.resample_image(fixed,(2,2,2),use_voxels=False)\n",
    "fixed_lowres = ants.resample_image(fixed,(2.6,2.6,5),use_voxels=False)"
   ]
  },
  {
   "cell_type": "code",
   "execution_count": null,
   "metadata": {
    "collapsed": true
   },
   "outputs": [],
   "source": [
    "dataset_path = \"/oak/stanford/groups/trc/data/Brezovec/2P_Imaging/20190101_walking_dataset\"\n",
    "flies = ['fly_087', 'fly_089', 'fly_094', 'fly_095', 'fly_097', 'fly_098', 'fly_099', 'fly_100', 'fly_101', 'fly_105']\n",
    "fly = flies[0]\n",
    "file = os.path.join(dataset_path, fly, 'func_0', 'brain_zscored_green_high_pass_masked_warped.nii')\n"
   ]
  },
  {
   "cell_type": "code",
   "execution_count": null,
   "metadata": {},
   "outputs": [],
   "source": [
    "### Load neural data ###\n",
    "# this has already been warped from individual brains into the local meanbrain.\n",
    "brain = ants.image_read(file)\n",
    "brain.shape"
   ]
  },
  {
   "cell_type": "code",
   "execution_count": null,
   "metadata": {
    "collapsed": true
   },
   "outputs": [],
   "source": [
    "moving = ants.from_numpy(brain[:,:,::-1,:])\n",
    "moving.set_spacing((2.6076, 2.6154, 5.3125, 1)) ### matching this to the slightly off luke mean\n",
    "out = ants.registration(fixed_lowres, luke_mean_lowres, type_of_transform='Affine')\n",
    "warped_out = ants.apply_transforms(fixed_lowres, moving, out['fwdtransforms'][0], imagetype=3, interpolator='nearestNeighbor')"
   ]
  },
  {
   "cell_type": "code",
   "execution_count": null,
   "metadata": {
    "collapsed": true
   },
   "outputs": [],
   "source": []
  }
 ],
 "metadata": {
  "kernelspec": {
   "display_name": "Python 3",
   "language": "python",
   "name": "python3"
  },
  "language_info": {
   "codemirror_mode": {
    "name": "ipython",
    "version": 3
   },
   "file_extension": ".py",
   "mimetype": "text/x-python",
   "name": "python",
   "nbconvert_exporter": "python",
   "pygments_lexer": "ipython3",
   "version": "3.6.1"
  }
 },
 "nbformat": 4,
 "nbformat_minor": 2
}
