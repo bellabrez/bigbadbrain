{
 "cells": [
  {
   "cell_type": "code",
   "execution_count": 1,
   "metadata": {},
   "outputs": [
    {
     "name": "stderr",
     "output_type": "stream",
     "text": [
      "/home/users/brezovec/.local/lib/python3.6/site-packages/ants/viz/render_surface_function.py:16: UserWarning: Cant import Plotly. Install it `pip install chart_studio` if you want to use ants.render_surface_function\n",
      "  \"Cant import Plotly. Install it `pip install chart_studio` if you want to use ants.render_surface_function\"\n"
     ]
    }
   ],
   "source": [
    "import numpy as np\n",
    "import os\n",
    "import nibabel as nib\n",
    "import ants\n",
    "import brainsss\n",
    "import matplotlib.pyplot as plt\n",
    "import psutil\n",
    "from sklearn.cluster import AgglomerativeClustering\n",
    "from sklearn.feature_extraction.image import grid_to_graph\n",
    "import time\n",
    "import scipy\n",
    "import itertools\n",
    "import random\n",
    "import h5py\n",
    "from mpl_toolkits.axes_grid1 import ImageGrid\n",
    "%matplotlib inline"
   ]
  },
  {
   "cell_type": "code",
   "execution_count": 5,
   "metadata": {
    "collapsed": true
   },
   "outputs": [],
   "source": [
    "def load_FDA():\n",
    "    FDA_file = '/oak/stanford/groups/trc/data/Brezovec/2P_Imaging/anat_templates/20220301_luke_2_jfrc_affine.nii'\n",
    "    FDA = np.asarray(nib.load(FDA_file).get_fdata().squeeze(), dtype='float32')\n",
    "    FDA = ants.from_numpy(FDA)\n",
    "    FDA.set_spacing((.38,.38,.38))\n",
    "    FDA_lowres = ants.resample_image(FDA,(2.6,2.6,5),use_voxels=False)\n",
    "    return FDA, FDA_lowres"
   ]
  },
  {
   "cell_type": "code",
   "execution_count": 6,
   "metadata": {
    "collapsed": true
   },
   "outputs": [],
   "source": [
    "def load_synapses_in_FDA():\n",
    "    synapses_in_FDA_file = '/oak/stanford/groups/trc/data/Yukun/syn_transformed_to_FDA.nii'\n",
    "    synapses_in_FDA = np.asarray(nib.load(synapses_in_FDA_file).get_fdata().squeeze(), dtype='float32')\n",
    "    return synapses_in_FDA"
   ]
  },
  {
   "cell_type": "code",
   "execution_count": 7,
   "metadata": {
    "collapsed": true
   },
   "outputs": [],
   "source": [
    "def get_hemibrain_bounding_box(synapses_in_FDA):\n",
    "    # get axes edges in um space of hemibrain withing FDA space\n",
    "    synapses_in_FDA = ants.from_numpy(synapses_in_FDA)\n",
    "    synapses_in_FDA.set_spacing((.76,.76,.76))\n",
    "    synapses_in_FDA_lowres = ants.resample_image(synapses_in_FDA,(2.6,2.6,5),use_voxels=False)\n",
    "    synapses_in_FDA_lowres = synapses_in_FDA_lowres.numpy()\n",
    "    \n",
    "    start = {}\n",
    "    stop = {}\n",
    "    for axis, name in zip([0,1,2],['x','y','z']):\n",
    "        \n",
    "        start[name] = np.min(np.where(synapses_in_FDA_lowres != 0)[axis])\n",
    "        start[name] = int(np.floor(start[name]))\n",
    "        \n",
    "        stop[name] = np.max(np.where(synapses_in_FDA_lowres != 0)[axis])\n",
    "        stop[name] = int(np.ceil(stop[name]))\n",
    "        \n",
    "    return start, stop"
   ]
  },
  {
   "cell_type": "code",
   "execution_count": 8,
   "metadata": {
    "collapsed": true
   },
   "outputs": [],
   "source": [
    "synapses_in_FDA = load_synapses_in_FDA()"
   ]
  },
  {
   "cell_type": "code",
   "execution_count": 9,
   "metadata": {
    "collapsed": true
   },
   "outputs": [],
   "source": [
    "synapses_in_FDA = ants.from_numpy(synapses_in_FDA)\n",
    "synapses_in_FDA.set_spacing((.76,.76,.76))\n",
    "synapses_in_FDA_lowres = ants.resample_image(synapses_in_FDA,(2.6,2.6,5),use_voxels=False)\n",
    "synapses_in_FDA_lowres = synapses_in_FDA_lowres.numpy()"
   ]
  },
  {
   "cell_type": "code",
   "execution_count": 10,
   "metadata": {
    "collapsed": true
   },
   "outputs": [],
   "source": [
    "FDA, FDA_lowres = load_FDA()"
   ]
  },
  {
   "cell_type": "code",
   "execution_count": 11,
   "metadata": {
    "collapsed": true
   },
   "outputs": [],
   "source": [
    "start, stop = get_hemibrain_bounding_box(synapses_in_FDA.numpy())"
   ]
  },
  {
   "cell_type": "code",
   "execution_count": 12,
   "metadata": {
    "collapsed": true
   },
   "outputs": [],
   "source": [
    "FDA_cropped_to_hemi = FDA_lowres[start['x']:stop['x'],\n",
    "                                 start['y']:stop['y'],\n",
    "                                 start['z']:stop['z']]"
   ]
  },
  {
   "cell_type": "code",
   "execution_count": 13,
   "metadata": {
    "collapsed": true
   },
   "outputs": [],
   "source": [
    "dim_c = {'x': FDA_cropped_to_hemi.shape[0],\n",
    "         'y': FDA_cropped_to_hemi.shape[1],\n",
    "         'z': FDA_cropped_to_hemi.shape[2]}"
   ]
  },
  {
   "cell_type": "code",
   "execution_count": 14,
   "metadata": {},
   "outputs": [],
   "source": [
    "n_clusters = 5000\n",
    "clustering_dir = \"/oak/stanford/groups/trc/data/Brezovec/2P_Imaging/20210128_superv_simul_full_vol\"\n",
    "save_file = os.path.join(clustering_dir, '20220624_cluster_labels_flat.npy')\n",
    "labels_flat = np.load(save_file)\n",
    "labels_3d = np.reshape(labels_flat,(dim_c['x'],dim_c['y'],dim_c['z']))\n",
    "\n",
    "cluster_sizes = []\n",
    "for cluster in range(n_clusters):\n",
    "    cluster_sizes.append(len(np.where(labels_flat==cluster)[0]))\n",
    "background_cluster = np.argmax(cluster_sizes)\n",
    "\n",
    "labels_3d = labels_3d.astype('float32')\n",
    "labels_3d[np.where(labels_3d==background_cluster)] = np.nan\n",
    "\n",
    "#now that we removed background cluster, lets give it to 0 so we can get rid of \"0\" as well\n",
    "labels_3d[np.where(labels_3d==0)] = background_cluster\n",
    "labels_flat = labels_3d.flatten()"
   ]
  },
  {
   "cell_type": "code",
   "execution_count": 2,
   "metadata": {
    "collapsed": true
   },
   "outputs": [],
   "source": [
    "save_dir = '/oak/stanford/groups/trc/data/Brezovec/2P_Imaging/20220624_supervoxels_in_FDA'\n",
    "\n",
    "save_file = os.path.join(save_dir, '20220624_ipsi_turn_corrs.npy')\n",
    "ipsi_turn_corrs = np.load(save_file)\n",
    "\n",
    "save_file = os.path.join(save_dir, '20220624_contra_turn_corrs.npy')\n",
    "contra_turn_corrs = np.load(save_file)\n",
    "\n",
    "save_file = os.path.join(save_dir, '20220624_fwd_corrs.npy')\n",
    "fwd_corrs = np.load(save_file)"
   ]
  },
  {
   "cell_type": "code",
   "execution_count": 17,
   "metadata": {
    "collapsed": true
   },
   "outputs": [],
   "source": [
    "save_file = os.path.join(save_dir, 'adjacent_supervoxel.h5')\n",
    "\n",
    "with h5py.File(save_file, 'r') as f:\n",
    "    #print(list(f.keys()))\n",
    "    adj = f['adjacent_supervoxel'][:]\n",
    "    \n",
    "# Feng removed the \"0\" entry so adding back\n",
    "adj = np.pad(adj, (1,0), 'constant', constant_values=(0))\n",
    "\n",
    "# Symmeterize\n",
    "adj = (adj + adj.T) / 2"
   ]
  },
  {
   "cell_type": "code",
   "execution_count": 70,
   "metadata": {},
   "outputs": [
    {
     "name": "stdout",
     "output_type": "stream",
     "text": [
      "56\n",
      "(1540,)\n"
     ]
    },
    {
     "name": "stderr",
     "output_type": "stream",
     "text": [
      "/share/software/user/open/py-jupyter/1.0.0_py36/lib/python3.6/site-packages/ipykernel_launcher.py:8: RuntimeWarning: invalid value encountered in greater\n",
      "  \n"
     ]
    }
   ],
   "source": [
    "##############################\n",
    "### DEFINE YES SUPERVOXELS ###\n",
    "##############################\n",
    "\n",
    "threshold = .2\n",
    "#supervoxels_yes = list(np.where(contra_turn_corrs>threshold)[0])\n",
    "#supervoxels_yes = list(np.where(fwd_corrs>threshold)[0])\n",
    "supervoxels_yes = list(np.where(ipsi_turn_corrs>threshold)[0])\n",
    "print(len(supervoxels_yes))\n",
    "\n",
    "### get supervoxel_yes pairs which are within the desired centroid distance range ###\n",
    "\n",
    "centroids = []\n",
    "for cluster_num in supervoxels_yes:\n",
    "    xyz_voxel_space = np.asarray(np.where(labels_3d==cluster_num)).mean(axis=-1)\n",
    "    centroids.append(list(xyz_voxel_space * (2.6,2.6,5)[0]))\n",
    "centroids = np.asarray(centroids)\n",
    "\n",
    "yes_distances = []\n",
    "yes_combs = []\n",
    "for comb in itertools.combinations(list(range(len(centroids))), 2):\n",
    "    yes_combs.append(comb)\n",
    "    id1 = comb[0]; id2 = comb[1]\n",
    "    \n",
    "    x_dist = (centroids[id1,0] - centroids[id2,0])**2\n",
    "    y_dist = (centroids[id1,1] - centroids[id2,1])**2\n",
    "    z_dist = (centroids[id1,2] - centroids[id2,2])**2\n",
    "    dist = (x_dist + y_dist + z_dist)**.5\n",
    "    yes_distances.append(dist)\n",
    "yes_distances = np.asarray(yes_distances)\n",
    "print(yes_distances.shape)"
   ]
  },
  {
   "cell_type": "code",
   "execution_count": 71,
   "metadata": {},
   "outputs": [],
   "source": [
    "######################\n",
    "### START YES HERE ###\n",
    "######################\n",
    "\n",
    "lowers = np.arange(0,150,10)\n",
    "uppers = np.arange(10,160,10)\n",
    "sub_bin_width = 10\n",
    "\n",
    "yes_connectivities = []\n",
    "n_edges = []\n",
    "for y in range(len(lowers)):\n",
    "    labels_yes = list(np.where(((yes_distances > lowers[y]) & (yes_distances < uppers[y])))[0])\n",
    "    n_edges.append(len(labels_yes))\n",
    "    #labels_yes must first index into \n",
    "\n",
    "    yes_sample_connectivity = []\n",
    "    for i in labels_yes:\n",
    "        id1 = supervoxels_yes[yes_combs[i][0]]\n",
    "        id2 = supervoxels_yes[yes_combs[i][1]]\n",
    "        \n",
    "        # correct for supervoxel size\n",
    "        size = cluster_sizes[id1] + cluster_sizes[id2]\n",
    "        \n",
    "        yes_sample_connectivity.append(adj[id1,id2]/size)\n",
    "        #yes_sample_connectivity.append(adj[id1,id2])\n",
    "    # yes_sample_connectivity = np.mean(yes_sample_connectivity)\n",
    "    # yes_sample_connectivity\n",
    "#     print(np.mean(yes_sample_connectivity))\n",
    "#     print(np.percentile(yes_sample_connectivity,50))\n",
    "    #yes_connectivities.append(np.percentile(yes_sample_connectivity,50))\n",
    "    yes_connectivities.append(np.mean(yes_sample_connectivity))"
   ]
  },
  {
   "cell_type": "code",
   "execution_count": 72,
   "metadata": {
    "collapsed": true
   },
   "outputs": [],
   "source": [
    "### GET NO DISTRIBUTION"
   ]
  },
  {
   "cell_type": "code",
   "execution_count": 73,
   "metadata": {
    "collapsed": true
   },
   "outputs": [],
   "source": [
    "# get list of supervoxel ids that contain synapses\n",
    "valid_clusters = list(np.where(np.sum(adj,axis=0) != 0)[0])\n",
    "valid_clusters.remove(background_cluster)"
   ]
  },
  {
   "cell_type": "code",
   "execution_count": 74,
   "metadata": {
    "collapsed": true
   },
   "outputs": [],
   "source": [
    "### get distribution of distances between all supervoxels (VALID! supervoxels)\n",
    "\n",
    "centroids = []\n",
    "for cluster_num in valid_clusters:\n",
    "    xyz_voxel_space = np.asarray(np.where(labels_3d==cluster_num)).mean(axis=-1)\n",
    "    centroids.append(list(xyz_voxel_space * (2.6,2.6,5)[0]))\n",
    "centroids = np.asarray(centroids)\n",
    "\n",
    "combs = []\n",
    "distances = []\n",
    "for comb in itertools.combinations(list(range(len(centroids))), 2):\n",
    "    combs.append(comb)\n",
    "    id1 = comb[0]; id2 = comb[1]\n",
    "    \n",
    "    x_dist = (centroids[id1,0] - centroids[id2,0])**2\n",
    "    y_dist = (centroids[id1,1] - centroids[id2,1])**2\n",
    "    z_dist = (centroids[id1,2] - centroids[id2,2])**2\n",
    "    dist = (x_dist + y_dist + z_dist)**.5\n",
    "    distances.append(dist)\n",
    "distances = np.asarray(distances)\n",
    "\n",
    "### NOW ID1 and ID2 must be used to index into VALID_CLUSTERS"
   ]
  },
  {
   "cell_type": "code",
   "execution_count": 75,
   "metadata": {
    "collapsed": true
   },
   "outputs": [],
   "source": [
    "# get a control list of all supervoxel combos that are within a specified distance from eachother\n",
    "convert_to_syn_per_micron = 1#34 #added this 20230619\n",
    "#Voxel is (2.6,2.6,5), ie 2.6*2.6*5=33.8um^3\n",
    "\n",
    "bootstrap_num = 1000\n",
    "no_connectivities = []\n",
    "for y in range(len(lowers)):\n",
    "    \n",
    "    supervoxels_no = ((distances > lowers[y]) & (distances < uppers[y]))\n",
    "\n",
    "    # now I will want to take a specific number of these combos, randomly, n times\n",
    "    labels_no = np.where(supervoxels_no)[0]\n",
    "    sample_size = n_edges[y]\n",
    "    \n",
    "    no_connectivities_one_sample = []\n",
    "    for n in range(bootstrap_num):\n",
    "        one_sample_set = random.choices(labels_no,k=sample_size)\n",
    "        sample_connectivity = []\n",
    "        for i in range(sample_size):\n",
    "            id1 = combs[one_sample_set[i]][0]\n",
    "            id2 = combs[one_sample_set[i]][1]\n",
    "            id1 = valid_clusters[id1]\n",
    "            id2 = valid_clusters[id2]\n",
    "\n",
    "            # correct for supervoxel size\n",
    "            size = cluster_sizes[id1] + cluster_sizes[id2]\n",
    "            \n",
    "            #sample_connectivity.append(adj[id1,id2]/convert_to_syn_per_micron*size)\n",
    "            sample_connectivity.append(adj[id1,id2]/size)\n",
    "            #sample_connectivity.append(adj[id1,id2])\n",
    "\n",
    "        no_connectivities_one_sample.append(np.mean(sample_connectivity))\n",
    "    no_connectivities.append(np.asarray(no_connectivities_one_sample))\n",
    "    #no_connectivities.append(np.asarray(no_connectivities_one_sample)/convert_to_syn_per_micron*size)"
   ]
  },
  {
   "cell_type": "code",
   "execution_count": 76,
   "metadata": {},
   "outputs": [
    {
     "data": {
      "text/plain": [
       "Text(0, 0.5, 'Connectivity')"
      ]
     },
     "execution_count": 76,
     "metadata": {},
     "output_type": "execute_result"
    },
    {
     "data": {
      "image/png": "[encoded data removed]",
      "text/plain": [
       "<Figure size 720x720 with 1 Axes>"
      ]
     },
     "metadata": {},
     "output_type": "display_data"
    }
   ],
   "source": [
    "plt.figure(figsize=(10,10))\n",
    "#plt.plot(no_connectivities,marker='x',linestyle='',color='k');\n",
    "plt.boxplot(no_connectivities, showfliers=False, whis=(5, 95))\n",
    "plt.plot(np.arange(1,16,1), yes_connectivities,'o',color='c',linestyle='-')\n",
    "plt.xticks(np.arange(1,16,1), np.arange(5,160,10));\n",
    "plt.xlabel('Distance between supervoxels, um')\n",
    "plt.ylabel('Connectivity')"
   ]
  },
  {
   "cell_type": "code",
   "execution_count": 80,
   "metadata": {},
   "outputs": [
    {
     "data": {
      "text/plain": [
       "0.17600930899890194"
      ]
     },
     "execution_count": 80,
     "metadata": {},
     "output_type": "execute_result"
    }
   ],
   "source": [
    "np.mean(yes_connectivities[9])/10000"
   ]
  },
  {
   "cell_type": "code",
   "execution_count": null,
   "metadata": {
    "collapsed": true
   },
   "outputs": [],
   "source": []
  }
 ],
 "metadata": {
  "kernelspec": {
   "display_name": "Python 3",
   "language": "python",
   "name": "python3"
  },
  "language_info": {
   "codemirror_mode": {
    "name": "ipython",
    "version": 3
   },
   "file_extension": ".py",
   "mimetype": "text/x-python",
   "name": "python",
   "nbconvert_exporter": "python",
   "pygments_lexer": "ipython3",
   "version": "3.6.1"
  }
 },
 "nbformat": 4,
 "nbformat_minor": 2
}
