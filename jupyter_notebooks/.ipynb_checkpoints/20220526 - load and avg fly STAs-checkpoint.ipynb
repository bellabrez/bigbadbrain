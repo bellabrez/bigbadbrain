{
 "cells": [
  {
   "cell_type": "code",
   "execution_count": 1,
   "metadata": {
    "collapsed": true
   },
   "outputs": [],
   "source": [
    "import brainsss\n",
    "import os\n",
    "import numpy as np\n",
    "import matplotlib.pyplot as plt\n",
    "%matplotlib inline\n",
    "from sklearn.cluster import AgglomerativeClustering\n",
    "import scipy\n",
    "from scipy.cluster.hierarchy import dendrogram\n",
    "from scipy.cluster.hierarchy import fcluster\n",
    "from scipy.cluster import hierarchy\n",
    "import matplotlib as mpl\n",
    "from matplotlib.pyplot import cm\n",
    "import random\n",
    "from scipy.stats import sem\n",
    "import time\n",
    "import h5py\n",
    "import ants\n",
    "import nibabel as nib\n",
    "import matplotlib\n",
    "from scipy.ndimage import gaussian_filter1d\n",
    "from scipy.fftpack import fft,fftshift,ifft\n",
    "from scipy import signal\n",
    "import pickle"
   ]
  },
  {
   "cell_type": "code",
   "execution_count": 17,
   "metadata": {},
   "outputs": [
    {
     "name": "stdout",
     "output_type": "stream",
     "text": [
      "152\n",
      "153\n",
      "147\n",
      "134\n",
      "149\n",
      "143\n"
     ]
    }
   ],
   "source": [
    "all_warps_all_flies = []\n",
    "flies = [152,153,147,134,149,143]\n",
    "for fly in flies:\n",
    "    print(fly)\n",
    "    func_path = f'/oak/stanford/groups/trc/data/Brezovec/2P_Imaging/20190101_walking_dataset/fly_{fly}/func_0/'\n",
    "    filename = os.path.join(func_path, 'STA', '20220524_luke_STA_all_warps.pickle')\n",
    "    with open(filename, 'rb') as handle:\n",
    "        all_warps = pickle.load(handle)\n",
    "    all_warps_all_flies.append(all_warps)"
   ]
  },
  {
   "cell_type": "code",
   "execution_count": 19,
   "metadata": {
    "collapsed": true
   },
   "outputs": [],
   "source": [
    "bin_start = -1100; bin_end = 2000; bin_size = 100\n",
    "neural_bins = np.arange(bin_start,bin_end,bin_size)"
   ]
  },
  {
   "cell_type": "code",
   "execution_count": 23,
   "metadata": {},
   "outputs": [],
   "source": [
    "fixed = brainsss.load_fda_meanbrain()\n",
    "atlas = brainsss.load_roi_atlas()\n",
    "explosion_rois = brainsss.load_explosion_groups()\n",
    "all_rois = brainsss.unnest_roi_groups(explosion_rois)\n",
    "roi_masks = brainsss.make_single_roi_masks(all_rois, atlas)\n",
    "roi_contours = brainsss.make_single_roi_contours(roi_masks, atlas)"
   ]
  },
  {
   "cell_type": "code",
   "execution_count": 24,
   "metadata": {},
   "outputs": [
    {
     "name": "stdout",
     "output_type": "stream",
     "text": [
      "Explosion 39.253742694854736\n",
      "Explosion 39.47467088699341\n",
      "Explosion 39.68721795082092\n",
      "Explosion 39.553207874298096\n"
     ]
    }
   ],
   "source": [
    "all_explosions = {}\n",
    "for condition in ['ve_no_0','ve_no_180','ve_0','ve_180']:\n",
    "    explosions = []\n",
    "    t0 = time.time()\n",
    "    \n",
    "    average_warps = np.zeros((30, 314, 146, 91))\n",
    "    for i in range(len(all_warps_all_flies)):\n",
    "        average_warps += all_warps_all_flies[i][condition]\n",
    "    average_warps /= 6\n",
    "    \n",
    "    for tp in range(len(neural_bins)-1):\n",
    "        input_canvas = np.ones((500,500,3))\n",
    "        data_to_plot = all_warps[condition][tp,:,:,::-1]\n",
    "        vmax = 0.7\n",
    "        explosion_map = brainsss.place_roi_groups_on_canvas(explosion_rois,\n",
    "                                                            roi_masks,\n",
    "                                                            roi_contours,\n",
    "                                                            data_to_plot,\n",
    "                                                            input_canvas,\n",
    "                                                            vmax=vmax,\n",
    "                                                            cmap='seismic',\n",
    "                                                           diverging=True)#'hot')\n",
    "        explosions.append(explosion_map)\n",
    "    print(F'Explosion {time.time()-t0}')\n",
    "    all_explosions[condition] = explosions"
   ]
  },
  {
   "cell_type": "code",
   "execution_count": 25,
   "metadata": {
    "collapsed": true
   },
   "outputs": [],
   "source": [
    "def plot_panel(condition, tp, plt_num):\n",
    "    plt.subplot(2,2,plt_num)\n",
    "    plt.imshow(all_explosions[condition][tp][170:,:])\n",
    "    plt.title(condition,color='k',y=.93,fontsize=12)\n",
    "    plt.axis('off')"
   ]
  },
  {
   "cell_type": "code",
   "execution_count": 26,
   "metadata": {},
   "outputs": [
    {
     "name": "stdout",
     "output_type": "stream",
     "text": [
      "0\n",
      "1\n",
      "2\n",
      "3\n",
      "4\n",
      "5\n",
      "6\n",
      "7\n",
      "8\n",
      "9\n",
      "10\n",
      "11\n",
      "12\n",
      "13\n",
      "14\n",
      "15\n",
      "16\n",
      "17\n",
      "18\n",
      "19\n",
      "20\n",
      "21\n",
      "22\n",
      "23\n",
      "24\n",
      "25\n",
      "26\n",
      "27\n",
      "28\n",
      "29\n"
     ]
    }
   ],
   "source": [
    "for tp in range(len(neural_bins)-1):\n",
    "    print(tp)\n",
    "    fig = plt.figure(figsize=(14.8,10))\n",
    "\n",
    "    plot_panel('ve_no_0', tp, 1)\n",
    "    plt.text(5,30,'Time: {}ms'.format(neural_bins[tp]),fontsize=14,color='k')\n",
    "    plot_panel('ve_no_180', tp, 2)\n",
    "    plot_panel('ve_0', tp, 3)\n",
    "    plot_panel('ve_180', tp, 4)\n",
    "    plt.subplots_adjust(hspace=0,wspace=0)\n",
    "    plt.suptitle(f'20220526',y=.9)\n",
    "\n",
    "\n",
    "#     cax = fig.add_axes([0.47, 0.66, 0.01, 0.2])\n",
    "#     cmap = matplotlib.cm.hot\n",
    "#     norm = matplotlib.colors.Normalize(vmin=0, vmax=vmax)\n",
    "#     cb = matplotlib.colorbar.ColorbarBase(ax=cax, cmap=cmap,\n",
    "#                                     norm=norm,\n",
    "#                                     orientation='vertical')\n",
    "\n",
    "#     cb.ax.yaxis.set_tick_params(color='k')\n",
    "#     plt.setp(plt.getp(cb.ax.axes, 'yticklabels'), color='k',fontsize=12);\n",
    "#     cb.outline.set_edgecolor('white')\n",
    "    \n",
    "    save_path = f'/oak/stanford/groups/trc/data/Brezovec/2P_Imaging/figs/20220526_movie'\n",
    "    if not os.path.exists(save_path):\n",
    "        os.mkdir(save_path)\n",
    "    fname = os.path.join(save_path, '{0:05d}.png'.format(tp))\n",
    "    plt.savefig(fname,dpi=300,bbox_inches='tight')\n",
    "    plt.close()"
   ]
  },
  {
   "cell_type": "code",
   "execution_count": null,
   "metadata": {
    "collapsed": true
   },
   "outputs": [],
   "source": []
  }
 ],
 "metadata": {
  "kernelspec": {
   "display_name": "Python 3",
   "language": "python",
   "name": "python3"
  },
  "language_info": {
   "codemirror_mode": {
    "name": "ipython",
    "version": 3
   },
   "file_extension": ".py",
   "mimetype": "text/x-python",
   "name": "python",
   "nbconvert_exporter": "python",
   "pygments_lexer": "ipython3",
   "version": "3.6.1"
  }
 },
 "nbformat": 4,
 "nbformat_minor": 2
}
