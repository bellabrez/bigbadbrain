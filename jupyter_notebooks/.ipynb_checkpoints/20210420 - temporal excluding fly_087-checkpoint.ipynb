{
 "cells": [
  {
   "cell_type": "code",
   "execution_count": 1,
   "metadata": {
    "collapsed": true
   },
   "outputs": [],
   "source": [
    "import sys\n",
    "sys.path.insert(0, '/home/users/brezovec/.local/lib/python3.6/site-packages/lib/python/')\n",
    "import ants\n",
    "import os\n",
    "import bigbadbrain as bbb\n",
    "import numpy as np\n",
    "import matplotlib.pyplot as plt\n",
    "import time\n",
    "import scipy\n",
    "from scipy.ndimage.filters import gaussian_filter\n",
    "from scipy.ndimage.filters import gaussian_filter1d\n",
    "from scipy.signal import savgol_filter\n",
    "from scipy.interpolate import interp1d\n",
    "\n",
    "from skimage.filters import threshold_triangle\n",
    "sys.path.insert(0, '/home/users/brezovec/.local/lib/python3.6/site-packages')\n",
    "import os\n",
    "import statsmodels.api as sm\n",
    "import cv2\n",
    "import matplotlib.patches as mpatches\n",
    "import psutil\n",
    "from mpl_toolkits.axes_grid1 import ImageGrid\n",
    "from matplotlib.colors import Normalize\n",
    "import matplotlib.colors as mcolors\n",
    "from matplotlib import colors\n",
    "\n",
    "%matplotlib inline\n",
    "plt.rcParams.update({'font.size': 20})\n",
    "\n",
    "from sklearn.feature_extraction.image import grid_to_graph\n",
    "from mpl_toolkits.axes_grid1 import ImageGrid\n",
    "import json\n",
    "from matplotlib.ticker import FuncFormatter\n",
    "\n",
    "import nibabel as nib\n",
    "\n",
    "from sklearn.cluster import AgglomerativeClustering\n",
    "from scipy.cluster.hierarchy import dendrogram\n",
    "from scipy.cluster.hierarchy import fcluster\n",
    "from scipy.cluster import hierarchy\n",
    "import itertools\n",
    "import random\n",
    "import matplotlib as mpl\n",
    "from matplotlib.pyplot import cm\n",
    "\n",
    "from scipy.interpolate import UnivariateSpline\n",
    "from sklearn.linear_model import LinearRegression\n",
    "import matplotlib.patches as patches\n",
    "\n",
    "from sklearn.linear_model import RidgeCV\n",
    "from sklearn.linear_model import LassoCV\n",
    "\n",
    "from scipy.fftpack import fft,fftshift,ifft\n",
    "from scipy import signal\n",
    "import pickle"
   ]
  },
  {
   "cell_type": "code",
   "execution_count": 6,
   "metadata": {},
   "outputs": [
    {
     "name": "stdout",
     "output_type": "stream",
     "text": [
      "(512, 1024, 256)\n"
     ]
    }
   ],
   "source": [
    "######################\n",
    "### Load Anat ROIs ###\n",
    "######################\n",
    "\n",
    "res_LUKE = (0.65, 0.65, 1)\n",
    "load_file = '/oak/stanford/groups/trc/data/Brezovec/2P_Imaging/anat_templates/20210412_crude_rois_in_luke.nii'\n",
    "mimic_moco = np.asarray(nib.load(load_file).get_data().squeeze(), dtype='float32')\n",
    "\n",
    "# Want 512,1024,256\n",
    "anat = np.swapaxes(mimic_moco,0,1)\n",
    "print(anat.shape)\n",
    "\n",
    "anat_iso = ants.resample_image(ants.from_numpy(anat),(int(512*0.65), int(1024*0.65), int(256*1)),1,0).numpy()"
   ]
  },
  {
   "cell_type": "code",
   "execution_count": 7,
   "metadata": {
    "collapsed": true
   },
   "outputs": [],
   "source": [
    "FB = 26\n",
    "rois = {'FB': 26, 'Medulla': 71, 'Lobula': 53, 'SLP_r': 27}\n",
    "roi = 'FB'\n",
    "anat_iso_mask = anat_iso.copy()\n",
    "anat_iso_mask[np.where(anat_iso_mask != rois[roi])]=0\n",
    "anat_iso_mask[np.where(anat_iso_mask != 0)]=1"
   ]
  },
  {
   "cell_type": "code",
   "execution_count": 2,
   "metadata": {},
   "outputs": [
    {
     "name": "stdout",
     "output_type": "stream",
     "text": [
      "0\n",
      "1\n",
      "2\n",
      "3\n",
      "0\n",
      "1\n",
      "2\n",
      "3\n"
     ]
    },
    {
     "data": {
      "image/png": "[encoded data removed]",
      "text/plain": [
       "<Figure size 432x288 with 1 Axes>"
      ]
     },
     "metadata": {},
     "output_type": "display_data"
    }
   ],
   "source": [
    "############################\n",
    "### Load super voxel ids ###\n",
    "############################\n",
    "\n",
    "n_clusters = 2000\n",
    "labels_file = '/oak/stanford/groups/trc/data/Brezovec/2P_Imaging/20201129_super_slices/cluster_labels.npy'\n",
    "cluster_model_labels = np.load(labels_file)\n",
    "\n",
    "###########################\n",
    "### Create Notch Filter ###\n",
    "###########################\n",
    "\n",
    "fs = 50.0  # Sample frequency (Hz)\n",
    "f0 = 1.8797  # Frequency to be removed from signal (Hz)\n",
    "Q = 0.2  # Quality factor <---- IMPORTANT\n",
    "w0 = f0/(fs/2)  # Normalized Frequency\n",
    "\n",
    "# Design notch filter\n",
    "b_notch, a_notch = signal.iirnotch(w0, Q)\n",
    "\n",
    "# Frequency response\n",
    "w, h = signal.freqz(b_notch, a_notch)\n",
    "\n",
    "# Generate frequency axis\n",
    "freq = w*fs/(2*np.pi)\n",
    "\n",
    "###########################################\n",
    "### Create estimate of gcamp6f kinetics ###\n",
    "###########################################\n",
    "\n",
    "def fit_eq(x, a, b, c, d, e):\n",
    "    return a*(1-np.exp(-x/b))*(c*np.exp(-x/d)) + e\n",
    "\n",
    "x = np.arange(0, 50, 1)\n",
    "y = fit_eq(x, 1, 4, -1, 8, 0)\n",
    "\n",
    "filter_ = y*-1\n",
    "filter_padded = np.pad(filter_, (0, 450), 'constant')\n",
    "\n",
    "toe = scipy.linalg.toeplitz(filter_padded,r=[0]*500)\n",
    "plt.imshow(toe)\n",
    "\n",
    "####################\n",
    "### Load filters ###\n",
    "####################\n",
    "#main_path = \"/oak/stanford/groups/trc/data/Brezovec/2P_Imaging/20210316_neural_weighted_behavior\"\n",
    "main_path = \"/oak/stanford/groups/trc/data/Brezovec/2P_Imaging/20210419_neural_weighted_behavior_exclude_fly_087\"\n",
    "\n",
    "\n",
    "response_files = [os.path.join(main_path, file) for file in os.listdir(main_path) if 'responses' in file]\n",
    "bbb.sort_nicely(response_files)\n",
    "\n",
    "responses = []\n",
    "for file in response_files:\n",
    "    responses.append(np.load(file))\n",
    "responses = np.asarray(responses)\n",
    "responses_split = np.reshape(responses, (49-18,2000,4,500))\n",
    "\n",
    "##########################\n",
    "### Apply notch filter ###\n",
    "##########################\n",
    "responses_notch = signal.filtfilt(b_notch, a_notch, responses_split, axis=-1)\n",
    "\n",
    "########################\n",
    "### Deconvolve gcamp ###\n",
    "########################\n",
    "\n",
    "all_signals_unfiltered = np.reshape(responses_split[:,:,:,:],(31*2000,4,500))\n",
    "all_signals = np.reshape(responses_notch,(31*2000,4,500))\n",
    "\n",
    "all_signals_flipped = all_signals[:,:,::-1]\n",
    "all_signals_deconv = []\n",
    "for beh_idx in [0,1,2,3]:\n",
    "    print(beh_idx)\n",
    "    # flip filters in time\n",
    "    temp = all_signals_flipped[:,beh_idx,:]\n",
    "\n",
    "    # deconvolve\n",
    "    deconv = np.linalg.lstsq(toe, temp.T)[0]\n",
    "    deconv_smooth = gaussian_filter1d(deconv,sigma=3,axis=0)\n",
    "\n",
    "    # Remove edge artifact\n",
    "    deconv_smooth[:5,:] = deconv_smooth[5,:]\n",
    "    deconv_smooth[-5:,:] = deconv_smooth[-5,:]\n",
    "\n",
    "    # Flip back to being backwards in time\n",
    "    deconv_smooth = deconv_smooth[::-1,:]\n",
    "    all_signals_deconv.append(deconv_smooth)\n",
    "all_signals_deconv = np.asarray(all_signals_deconv)\n",
    "all_signals_deconv = np.swapaxes(all_signals_deconv,0,1)\n",
    "all_signals_deconv = np.swapaxes(all_signals_deconv,0,2)\n",
    "\n",
    "######################\n",
    "### Get peaks, etc ###\n",
    "######################\n",
    "\n",
    "all_maxs = np.max(np.abs(all_signals_deconv),axis=-1)\n",
    "thresholds = np.percentile(all_maxs,60,axis=0)\n",
    "\n",
    "peaks = {}\n",
    "peaks_ms = {}\n",
    "peaks_unfiltered = {}\n",
    "thresholded_filters_norm = {}\n",
    "thresholded_filters_norm_unfiltered = {}\n",
    "to_delete = {}\n",
    "decay_times = {}\n",
    "maxss = {}\n",
    "for beh_idx in [0,1,2,3]:\n",
    "    print(beh_idx)\n",
    "    to_delete_ = np.where(all_maxs[:,beh_idx]<thresholds[beh_idx])\n",
    "    thresholded_filters = np.delete(all_signals_deconv[:,beh_idx,:], to_delete_, axis=0)\n",
    "    \n",
    "    # add gaussian smoothing\n",
    "    thresholded_filters = gaussian_filter1d(thresholded_filters,sigma=2,axis=-1)\n",
    "    \n",
    "    peaks_ = np.argmax(thresholded_filters,axis=-1)\n",
    "    #idx_sort = np.argsort(peaks)\n",
    "    maxs = np.max(thresholded_filters,axis=-1)\n",
    "    maxss[beh_idx] = maxs\n",
    "    \n",
    "    thresholded_filters_norm_ = thresholded_filters/maxs[:,np.newaxis]\n",
    "    \n",
    "    peaks[beh_idx] = peaks_\n",
    "    peaks_ms[beh_idx] = (peaks_-250)*20\n",
    "    thresholded_filters_norm[beh_idx] = thresholded_filters_norm_\n",
    "    to_delete[beh_idx] = to_delete_\n",
    "    \n",
    "    thresholded_filters_unfiltered = np.delete(all_signals_unfiltered[:,beh_idx,:], to_delete_, axis=0)\n",
    "    maxs = np.max(thresholded_filters_unfiltered,axis=-1)\n",
    "    thresholded_filters_norm_ = thresholded_filters_unfiltered/maxs[:,np.newaxis]\n",
    "    thresholded_filters_norm_unfiltered[beh_idx] = thresholded_filters_norm_\n",
    "    \n",
    "    peaks_ = np.argmax(thresholded_filters_unfiltered,axis=-1)\n",
    "    peaks_unfiltered[beh_idx] = peaks_\n",
    "    \n",
    "    # add tau finding\n",
    "    decay_times_ = []\n",
    "    decay_amount = .5\n",
    "    for i in range(len(peaks[beh_idx])):\n",
    "        trace = thresholded_filters_norm[beh_idx][i,:]\n",
    "        try:\n",
    "            decay_time = np.where((np.where(trace<decay_amount)[0] < peaks[beh_idx][i]) == False)[0][0]-1\n",
    "        except:\n",
    "            decay_time = 0\n",
    "        decay_times_.append(decay_time)\n",
    "    decay_times[beh_idx] = decay_times_\n",
    "    \n",
    "### Save output ###\n",
    "to_save = ['thresholded_filters_norm', 'maxss', 'decay_times', 'peaks', 'to_delete']\n",
    "for data in to_save:\n",
    "    save_path = os.path.join(main_path, data + '.pickle')\n",
    "    with open(save_path, 'wb') as handle:\n",
    "        pickle.dump(eval(data), handle, protocol=pickle.HIGHEST_PROTOCOL)"
   ]
  },
  {
   "cell_type": "code",
   "execution_count": 21,
   "metadata": {},
   "outputs": [
    {
     "name": "stdout",
     "output_type": "stream",
     "text": [
      "thresholded_filters_norm\n",
      "maxss\n",
      "decay_times\n",
      "peaks\n",
      "to_delete\n"
     ]
    }
   ],
   "source": [
    "### load pooled fly ###\n",
    "to_load = ['thresholded_filters_norm', 'maxss', 'decay_times', 'peaks', 'to_delete']\n",
    "all_data = {}\n",
    "fly = 'pooled'\n",
    "for load in to_load:\n",
    "    print(load)\n",
    "    all_data[load] = {}\n",
    "    main_path = \"/oak/stanford/groups/trc/data/Brezovec/2P_Imaging/20210419_neural_weighted_behavior_exclude_fly_087\"\n",
    "    load_path = os.path.join(main_path, load + '.pickle')\n",
    "    with open(load_path, 'rb') as handle:\n",
    "        data = pickle.load(handle)\n",
    "    all_data[load][fly] = data"
   ]
  },
  {
   "cell_type": "code",
   "execution_count": 22,
   "metadata": {},
   "outputs": [],
   "source": [
    "fly = 'pooled'\n",
    "masked_XYs = {}\n",
    "masked_XYs[fly] = {}\n",
    "for beh_idx in [0,1,2]:\n",
    "    behs = ['Vf', 'Vr+', 'Vr-']\n",
    "    add_deleted_voxels = np.zeros(62000)\n",
    "    to_replace = [i for i in range(62000) if i not in all_data['to_delete'][fly][beh_idx][0]]\n",
    "    add_deleted_voxels[to_replace] = all_data['maxss'][fly][beh_idx]\n",
    "    #add_deleted_voxels[to_replace] = all_data['peaks'][fly][beh_idx]\n",
    "    to_plot = np.reshape(add_deleted_voxels, (31,2000))\n",
    "\n",
    "    all_colored_by_betas = []\n",
    "    for z in range(9,49-9):\n",
    "        colored_by_betas = np.zeros(256*128)\n",
    "        for cluster_num in range(len(np.unique(cluster_model_labels[z]))):\n",
    "            cluster_indicies = np.where(cluster_model_labels[z]==cluster_num)[0]\n",
    "            colored_by_betas[cluster_indicies] = to_plot[z-9,cluster_num]\n",
    "        colored_by_betas = colored_by_betas.reshape(256,128)\n",
    "        all_colored_by_betas.append(colored_by_betas)\n",
    "    all_colored_by_betas = np.asarray(all_colored_by_betas)\n",
    "\n",
    "    ### Pad missing top and bottom z-slices\n",
    "    padding = np.zeros((9,256,128))\n",
    "    all_colored_by_betas = np.concatenate((padding, all_colored_by_betas, padding))\n",
    "    #all_colored_by_betas[all_colored_by_betas==0] = np.nan\n",
    "    all_colored_by_betas.shape\n",
    "\n",
    "    # want 128,256,49\n",
    "    func = np.swapaxes(all_colored_by_betas,0,2)\n",
    "    func_iso = ants.resample_image(ants.from_numpy(func),(int(512*0.65), int(1024*0.65), int(256*1)),1,1,).numpy()\n",
    "\n",
    "    masked_XY = np.max(func_iso*anat_iso_mask,axis=2)\n",
    "    masked_XY[np.where(masked_XY==0)] = np.nan\n",
    "    masked_XYs[fly][beh_idx] = masked_XY"
   ]
  },
  {
   "cell_type": "code",
   "execution_count": 23,
   "metadata": {
    "collapsed": true
   },
   "outputs": [],
   "source": [
    "# for plotting\n",
    "left_edge = np.where(np.sum(np.nan_to_num(masked_XY),axis=0)>0)[0][0]\n",
    "right_edge = np.where(np.sum(np.nan_to_num(masked_XY),axis=0)>0)[0][-1]\n",
    "top_edge = np.where(np.sum(np.nan_to_num(masked_XY),axis=1)>0)[0][0]\n",
    "bottom_edge = np.where(np.sum(np.nan_to_num(masked_XY),axis=1)>0)[0][-1]\n",
    "# deep_edge = np.where(np.sum(np.nan_to_num(masked_XZ),axis=0)>0)[0][0]\n",
    "# shallow_edge = np.where(np.sum(np.nan_to_num(masked_XZ),axis=0)>0)[0][-1]\n",
    "dim_x = right_edge-left_edge\n",
    "dim_y = bottom_edge-top_edge\n",
    "# dim_z = shallow_edge-deep_edge\n",
    "dim_x = dim_x / 100\n",
    "dim_y = dim_y / 100\n",
    "# dim_z = dim_z / 100"
   ]
  },
  {
   "cell_type": "code",
   "execution_count": 26,
   "metadata": {},
   "outputs": [
    {
     "data": {
      "text/plain": [
       "<matplotlib.image.AxesImage at 0x7fe181ff89e8>"
      ]
     },
     "execution_count": 26,
     "metadata": {},
     "output_type": "execute_result"
    },
    {
     "data": {
      "image/png": "[encoded data removed]",
      "text/plain": [
       "<Figure size 432x288 with 1 Axes>"
      ]
     },
     "metadata": {},
     "output_type": "display_data"
    }
   ],
   "source": [
    "beh_idx=2\n",
    "plt.imshow(masked_XYs[fly][beh_idx][top_edge:bottom_edge,left_edge:right_edge],cmap='BuPu',vmin=0,vmax=3)"
   ]
  },
  {
   "cell_type": "code",
   "execution_count": null,
   "metadata": {},
   "outputs": [
    {
     "name": "stdout",
     "output_type": "stream",
     "text": [
      "loading /oak/stanford/groups/trc/data/Brezovec/2P_Imaging/20210316_neural_weighted_behavior/master_X.npy\n"
     ]
    }
   ],
   "source": [
    "file = \"/oak/stanford/groups/trc/data/Brezovec/2P_Imaging/20210316_neural_weighted_behavior/master_X.npy\"\n",
    "print(f'loading {file}')\n",
    "X = np.load(file)"
   ]
  },
  {
   "cell_type": "code",
   "execution_count": null,
   "metadata": {
    "collapsed": true
   },
   "outputs": [],
   "source": [
    "X.shape"
   ]
  },
  {
   "cell_type": "code",
   "execution_count": null,
   "metadata": {
    "collapsed": true
   },
   "outputs": [],
   "source": []
  }
 ],
 "metadata": {
  "kernelspec": {
   "display_name": "Python 3",
   "language": "python",
   "name": "python3"
  },
  "language_info": {
   "codemirror_mode": {
    "name": "ipython",
    "version": 3
   },
   "file_extension": ".py",
   "mimetype": "text/x-python",
   "name": "python",
   "nbconvert_exporter": "python",
   "pygments_lexer": "ipython3",
   "version": "3.6.1"
  }
 },
 "nbformat": 4,
 "nbformat_minor": 2
}
