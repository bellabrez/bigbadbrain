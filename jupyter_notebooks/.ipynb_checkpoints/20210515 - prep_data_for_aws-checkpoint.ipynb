{
 "cells": [
  {
   "cell_type": "code",
   "execution_count": 1,
   "metadata": {
    "collapsed": true
   },
   "outputs": [],
   "source": [
    "import sys\n",
    "sys.path.insert(0, '/home/users/brezovec/.local/lib/python3.6/site-packages/lib/python/')\n",
    "import ants\n",
    "import os\n",
    "import bigbadbrain as bbb\n",
    "import numpy as np\n",
    "import matplotlib.pyplot as plt\n",
    "import time\n",
    "import scipy\n",
    "from scipy.ndimage.filters import gaussian_filter\n",
    "from scipy.signal import savgol_filter\n",
    "from scipy.interpolate import interp1d\n",
    "\n",
    "from skimage.filters import threshold_triangle\n",
    "sys.path.insert(0, '/home/users/brezovec/.local/lib/python3.6/site-packages')\n",
    "import os\n",
    "import statsmodels.api as sm\n",
    "import cv2\n",
    "import matplotlib.patches as mpatches\n",
    "import psutil\n",
    "from mpl_toolkits.axes_grid1 import ImageGrid\n",
    "from matplotlib.colors import Normalize\n",
    "\n",
    "\n",
    "%matplotlib inline\n",
    "plt.rcParams.update({'font.size': 20})\n",
    "\n",
    "from sklearn.feature_extraction.image import grid_to_graph\n",
    "from mpl_toolkits.axes_grid1 import ImageGrid\n",
    "import json\n",
    "from matplotlib.ticker import FuncFormatter\n",
    "\n",
    "import nibabel as nib\n",
    "\n",
    "from sklearn.cluster import AgglomerativeClustering\n",
    "from scipy.cluster.hierarchy import dendrogram\n",
    "import itertools\n",
    "import random\n",
    "from scipy.cluster import hierarchy\n",
    "import matplotlib as mpl\n",
    "from matplotlib.pyplot import cm\n",
    "\n",
    "from scipy.interpolate import UnivariateSpline\n",
    "from sklearn.linear_model import LinearRegression\n",
    "import matplotlib.patches as patches\n",
    "\n",
    "from sklearn.linear_model import RidgeCV\n",
    "from sklearn.linear_model import LassoCV\n",
    "from sklearn.linear_model import ElasticNetCV\n",
    "\n",
    "from scipy.fftpack import fft,fftshift,ifft\n",
    "from scipy import signal"
   ]
  },
  {
   "cell_type": "code",
   "execution_count": 2,
   "metadata": {
    "collapsed": true
   },
   "outputs": [],
   "source": [
    "fly_names = ['fly_087', 'fly_089', 'fly_094', 'fly_097', 'fly_098', 'fly_099', 'fly_100', 'fly_101', 'fly_105']\n",
    "dataset_path = \"/oak/stanford/groups/trc/data/Brezovec/2P_Imaging/20190101_walking_dataset\"\n",
    "expt_len = 1000*30*60\n",
    "resolution = 10\n",
    "high_res_timepoints = np.arange(0,expt_len,resolution) #0 to last time at subsample res\n",
    "\n",
    "class Fly:\n",
    "    def __init__ (self, fly_name, fly_idx):\n",
    "        self.dir = os.path.join(dataset_path, fly_name, 'func_0')\n",
    "        self.fly_idx = fly_idx\n",
    "        self.fly_name = fly_name\n",
    "        self.maps = {}\n",
    "    def load_timestamps (self):\n",
    "        self.timestamps = bbb.load_timestamps(os.path.join(self.dir, 'imaging'))\n",
    "    def load_fictrac (self):\n",
    "        self.fictrac = Fictrac(self.dir, self.timestamps)\n",
    "    def load_brain_slice (self):\n",
    "        self.brain = brain[:,:,:,self.fly_idx]\n",
    "    def load_anatomy (self):\n",
    "        to_load = os.path.join(dataset_path, self.fly_name, 'warp', 'anat-to-meanbrain.nii')\n",
    "        self.anatomy = np.array(nib.load(to_load).get_data(), copy=True)\n",
    "    def load_z_depth_correction (self):\n",
    "        to_load = os.path.join(dataset_path, self.fly_name, 'warp', '20201220_warped_z_depth.nii')\n",
    "        self.z_correction = np.array(nib.load(to_load).get_data(), copy=True)\n",
    "    def get_cluster_averages (self, cluster_model_labels, n_clusters):\n",
    "        neural_data = self.brain.reshape(-1, 3384)\n",
    "        signals = []\n",
    "        self.cluster_indicies = []\n",
    "        for cluster_num in range(n_clusters):\n",
    "            cluster_indicies = np.where(cluster_model_labels==cluster_num)[0]\n",
    "            mean_signal = np.mean(neural_data[cluster_indicies,:], axis=0)\n",
    "            signals.append(mean_signal)\n",
    "            self.cluster_indicies.append(cluster_indicies) # store for later\n",
    "        self.cluster_signals=np.asarray(signals)\n",
    "    def get_cluster_id (self, x, y):\n",
    "        ax_vec = x*128 + y\n",
    "        for i in range(n_clusters):\n",
    "            if ax_vec in self.cluster_indicies[i]:\n",
    "                cluster_id = i\n",
    "                break\n",
    "        return cluster_id"
   ]
  },
  {
   "cell_type": "code",
   "execution_count": 3,
   "metadata": {},
   "outputs": [
    {
     "name": "stdout",
     "output_type": "stream",
     "text": [
      "\n",
      "~~ load_timestamps ~~\n",
      "Trying to load timestamp data from hdf5 file.\n",
      "Success.\n",
      "load_timestamps done. Duration: 72.03 ms\n",
      "\n",
      "~~ load_timestamps ~~\n",
      "Trying to load timestamp data from hdf5 file.\n",
      "Success.\n",
      "load_timestamps done. Duration: 53.62 ms\n",
      "\n",
      "~~ load_timestamps ~~\n",
      "Trying to load timestamp data from hdf5 file.\n",
      "Success.\n",
      "load_timestamps done. Duration: 45.93 ms\n",
      "\n",
      "~~ load_timestamps ~~\n",
      "Trying to load timestamp data from hdf5 file.\n",
      "Success.\n",
      "load_timestamps done. Duration: 52.78 ms\n",
      "\n",
      "~~ load_timestamps ~~\n",
      "Trying to load timestamp data from hdf5 file.\n",
      "Success.\n",
      "load_timestamps done. Duration: 53.92 ms\n",
      "\n",
      "~~ load_timestamps ~~\n",
      "Trying to load timestamp data from hdf5 file.\n",
      "Success.\n",
      "load_timestamps done. Duration: 60.40 ms\n",
      "\n",
      "~~ load_timestamps ~~\n",
      "Trying to load timestamp data from hdf5 file.\n",
      "Success.\n",
      "load_timestamps done. Duration: 52.87 ms\n",
      "\n",
      "~~ load_timestamps ~~\n",
      "Trying to load timestamp data from hdf5 file.\n",
      "Success.\n",
      "load_timestamps done. Duration: 42.89 ms\n",
      "\n",
      "~~ load_timestamps ~~\n",
      "Trying to load timestamp data from hdf5 file.\n",
      "Success.\n",
      "load_timestamps done. Duration: 63.28 ms\n"
     ]
    }
   ],
   "source": [
    "#####################\n",
    "### Load Master X ###\n",
    "#####################\n",
    "file = \"/oak/stanford/groups/trc/data/Brezovec/2P_Imaging/20210316_neural_weighted_behavior/master_X.npy\"\n",
    "X = np.load(file)\n",
    "\n",
    "#####################\n",
    "### Make Clusters ###\n",
    "#####################\n",
    "n_clusters = 2000\n",
    "labels_file = '/oak/stanford/groups/trc/data/Brezovec/2P_Imaging/20201129_super_slices/cluster_labels.npy'\n",
    "cluster_model_labels_all = np.load(labels_file)\n",
    "\n",
    "###################\n",
    "### Build Flies ###\n",
    "###################\n",
    "flies = {}\n",
    "for i, fly in enumerate(fly_names):\n",
    "    flies[fly] = Fly(fly_name=fly, fly_idx=i)\n",
    "    flies[fly].load_timestamps()\n",
    "    flies[fly].load_z_depth_correction()"
   ]
  },
  {
   "cell_type": "code",
   "execution_count": 12,
   "metadata": {
    "collapsed": true
   },
   "outputs": [],
   "source": [
    "z = 29\n",
    "\n",
    "#######################\n",
    "### Load Superslice ###\n",
    "#######################\n",
    "brain_file = \"/oak/stanford/groups/trc/data/Brezovec/2P_Imaging/20201129_super_slices/superslice_{}.nii\".format(z) #<---------- !!!\n",
    "brain = np.array(nib.load(brain_file).get_data(), copy=True)\n",
    "fly_idx_delete = 3 #(fly_095)\n",
    "brain = np.delete(brain, fly_idx_delete, axis=-1) #### DELETING FLY_095 ####\n",
    "\n",
    "# Get cluster responses for this slice\n",
    "for fly in fly_names:\n",
    "    flies[fly].load_brain_slice()\n",
    "    flies[fly].get_cluster_averages(cluster_model_labels_all[z,:], n_clusters)"
   ]
  },
  {
   "cell_type": "code",
   "execution_count": 5,
   "metadata": {
    "collapsed": true
   },
   "outputs": [],
   "source": [
    "#################\n",
    "### Main Loop ###\n",
    "#################\n",
    "cluster_num = 7\n",
    "\n",
    "###############################################################\n",
    "### Build Y vector for a single supervoxel (with all flies) ###\n",
    "###############################################################\n",
    "all_fly_neural = []\n",
    "for fly in fly_names:\n",
    "    signal = flies[fly].cluster_signals[cluster_num,:]\n",
    "    all_fly_neural.extend(signal)\n",
    "Y = np.asarray(all_fly_neural)\n",
    "\n",
    "###########################################\n",
    "### Build the X matrix for this cluster ###\n",
    "###########################################\n",
    "# For each fly, this cluster could have originally come from a different z-depth\n",
    "# Get correct original z-depth\n",
    "Xs_new = []\n",
    "for i, fly in enumerate(fly_names):\n",
    "    cluster_indicies = flies[fly].cluster_indicies[cluster_num]\n",
    "    z_map = flies[fly].z_correction[:,:,z].ravel()\n",
    "    original_z = int(np.median(z_map[cluster_indicies]))\n",
    "    Xs_new.append(X[original_z,i,:,:])\n",
    "Xs_new = np.asarray(Xs_new)\n",
    "X_cluster = np.reshape(np.moveaxis(Xs_new,0,1),(-1,30456))\n",
    "\n",
    "###################\n",
    "### Dot Product ###\n",
    "###################\n",
    "cluster_response = np.dot(X_cluster,Y)"
   ]
  },
  {
   "cell_type": "code",
   "execution_count": 6,
   "metadata": {},
   "outputs": [
    {
     "data": {
      "text/plain": [
       "((2000, 30456), (30456,))"
      ]
     },
     "execution_count": 6,
     "metadata": {},
     "output_type": "execute_result"
    }
   ],
   "source": [
    "X_cluster.shape, Y.shape"
   ]
  },
  {
   "cell_type": "code",
   "execution_count": 8,
   "metadata": {
    "collapsed": true
   },
   "outputs": [],
   "source": [
    "save_file = '/oak/stanford/groups/trc/data/Brezovec/2P_Imaging/20210514_for_aws/X'\n",
    "np.save(save_file, X_cluster[:500,:].T)\n",
    "save_file = '/oak/stanford/groups/trc/data/Brezovec/2P_Imaging/20210514_for_aws/Y'\n",
    "np.save(save_file, Y)"
   ]
  },
  {
   "cell_type": "code",
   "execution_count": 9,
   "metadata": {},
   "outputs": [
    {
     "data": {
      "text/plain": [
       "(30456, 500)"
      ]
     },
     "execution_count": 9,
     "metadata": {},
     "output_type": "execute_result"
    }
   ],
   "source": [
    "X_cluster[:500,:].T.shape"
   ]
  },
  {
   "cell_type": "code",
   "execution_count": null,
   "metadata": {
    "collapsed": true
   },
   "outputs": [],
   "source": []
  },
  {
   "cell_type": "markdown",
   "metadata": {
    "collapsed": true
   },
   "source": [
    "# prep X neural for a single voxel to debug"
   ]
  },
  {
   "cell_type": "code",
   "execution_count": 4,
   "metadata": {
    "collapsed": true
   },
   "outputs": [],
   "source": [
    "z = 29\n",
    "\n",
    "#######################\n",
    "### Load Superslice ###\n",
    "#######################\n",
    "brain_file = \"/oak/stanford/groups/trc/data/Brezovec/2P_Imaging/20201129_super_slices/superslice_{}.nii\".format(z) #<---------- !!!\n",
    "brain = np.array(nib.load(brain_file).get_data(), copy=True)\n",
    "fly_idx_delete = 3 #(fly_095)\n",
    "brain = np.delete(brain, fly_idx_delete, axis=-1) #### DELETING FLY_095 ####\n",
    "\n",
    "# Get cluster responses for this slice\n",
    "for fly in fly_names:\n",
    "    flies[fly].load_brain_slice()\n",
    "    flies[fly].get_cluster_averages(cluster_model_labels_all[z,:], n_clusters)"
   ]
  },
  {
   "cell_type": "code",
   "execution_count": 7,
   "metadata": {
    "collapsed": true
   },
   "outputs": [],
   "source": [
    "cluster_num = 7\n",
    "\n",
    "###############################################################\n",
    "### Build Y vector for a single supervoxel (with all flies) ###\n",
    "###############################################################\n",
    "all_fly_neural = []\n",
    "for fly in fly_names:\n",
    "    signal = flies[fly].cluster_signals[cluster_num,:]\n",
    "    all_fly_neural.extend(signal)\n",
    "Y = np.asarray(all_fly_neural)"
   ]
  },
  {
   "cell_type": "code",
   "execution_count": 8,
   "metadata": {},
   "outputs": [
    {
     "data": {
      "text/plain": [
       "(30456,)"
      ]
     },
     "execution_count": 8,
     "metadata": {},
     "output_type": "execute_result"
    }
   ],
   "source": [
    "Y.shape"
   ]
  },
  {
   "cell_type": "code",
   "execution_count": 9,
   "metadata": {},
   "outputs": [
    {
     "data": {
      "text/plain": [
       "[<matplotlib.lines.Line2D at 0x7fb490221a90>]"
      ]
     },
     "execution_count": 9,
     "metadata": {},
     "output_type": "execute_result"
    },
    {
     "data": {
      "image/png": "[encoded data removed]",
      "text/plain": [
       "<Figure size 432x288 with 1 Axes>"
      ]
     },
     "metadata": {},
     "output_type": "display_data"
    }
   ],
   "source": [
    "plt.plot(Y)"
   ]
  },
  {
   "cell_type": "code",
   "execution_count": null,
   "metadata": {
    "collapsed": true
   },
   "outputs": [],
   "source": []
  },
  {
   "cell_type": "code",
   "execution_count": null,
   "metadata": {
    "collapsed": true
   },
   "outputs": [],
   "source": [
    "all_data = []\n",
    "z=29\n",
    "\n",
    "brain_file = \"/oak/stanford/groups/trc/data/Brezovec/2P_Imaging/20201129_super_slices/superslice_{}.nii\".format(z) #<---------- !!!\n",
    "brain = np.array(nib.load(brain_file).get_data(), copy=True)\n",
    "fly_idx_delete = 3 #(fly_095)\n",
    "brain = np.delete(brain, fly_idx_delete, axis=-1) #### DELETING FLY_095 ####\n",
    "\n",
    "# Get cluster responses for this slice\n",
    "for fly in fly_names:\n",
    "    flies[fly].load_brain_slice()\n",
    "    flies[fly].get_cluster_averages(cluster_model_labels_all[z,:], n_clusters)\n",
    "\n",
    "all_neural_slice = []\n",
    "for fly in fly_names:\n",
    "    all_neural_slice.append(flies[fly].cluster_signals)\n",
    "all_neural_slice = np.asarray(all_neural_slice)\n",
    "\n",
    "slice_data = np.reshape(all_neural_slice,(2000,3384*9))\n",
    "all_data.append(slice_data)"
   ]
  },
  {
   "cell_type": "code",
   "execution_count": null,
   "metadata": {
    "collapsed": true
   },
   "outputs": [],
   "source": []
  },
  {
   "cell_type": "code",
   "execution_count": null,
   "metadata": {
    "collapsed": true
   },
   "outputs": [],
   "source": []
  },
  {
   "cell_type": "code",
   "execution_count": null,
   "metadata": {
    "collapsed": true
   },
   "outputs": [],
   "source": []
  },
  {
   "cell_type": "code",
   "execution_count": null,
   "metadata": {
    "collapsed": true
   },
   "outputs": [],
   "source": []
  },
  {
   "cell_type": "code",
   "execution_count": null,
   "metadata": {
    "collapsed": true
   },
   "outputs": [],
   "source": []
  },
  {
   "cell_type": "code",
   "execution_count": null,
   "metadata": {
    "collapsed": true
   },
   "outputs": [],
   "source": []
  },
  {
   "cell_type": "markdown",
   "metadata": {
    "collapsed": true
   },
   "source": [
    "# prep full X neural matrix"
   ]
  },
  {
   "cell_type": "code",
   "execution_count": null,
   "metadata": {
    "collapsed": true
   },
   "outputs": [],
   "source": [
    "# behavior X is of shape (z,fly,time_shifted_behaviors,timepoint)"
   ]
  },
  {
   "cell_type": "code",
   "execution_count": 5,
   "metadata": {},
   "outputs": [
    {
     "data": {
      "text/plain": [
       "49000000"
      ]
     },
     "execution_count": 5,
     "metadata": {},
     "output_type": "execute_result"
    }
   ],
   "source": [
    "# neural X will actually be 2000x larger to include indiv voxels. but behavior X is already 22Gb\n",
    "# 49*2000*500 = 50 million features\n",
    "\n",
    "# an alternative is to fit filters individually, and then convolve and fit those\n",
    "# can also reduce number of supervoxels further, and/or reduce number of timepoints\n",
    "\n",
    "# will a single sample fit into GPU memory? it would be 2000*49*500. yes this would fit.\n",
    "# if I try to make the full neural X matrix, how big would this be?\n",
    "# it would be (49,500,2000,30000) (z,timeshifts,voxel,sample) 59*22 = 1.3Tb\n",
    "# having all these timeshifts is extremely wasteful - perhaps I can interp \"online\" while model is fit\n",
    "# because then it would only be 2.6Gb... Wow!\n",
    "\n",
    "# ok lets try this\n",
    "# so I want to build a neural X matrix of (49,2000,30000) - this is simply all the neural data\n",
    "# behavior Y is going to be a fixed vector of length 30000\n",
    "# actually, may as well use a higher res; 50ms seems pretty good\n",
    "\n",
    "# ok how do I do this?\n",
    "# will have a known master time of 50ms * 30min * 9 with which to pull from interp objects\n",
    "# actaully lets just start with 100ms\n",
    "# lets also scrap the z-depth-correction for now to simplify, but will need to add later!"
   ]
  },
  {
   "cell_type": "code",
   "execution_count": null,
   "metadata": {
    "collapsed": true
   },
   "outputs": [],
   "source": [
    "# ok so now I have neural X (49,2000,30000)\n",
    "# lets test making this an interp_object and pulling from it\n",
    "# can I concatenate flies by adding 30min to timestamps?\n",
    "# as long as I add exactly the same amount of time to neural timestamps as fictrac timestamps should be good"
   ]
  },
  {
   "cell_type": "code",
   "execution_count": 3,
   "metadata": {
    "collapsed": true
   },
   "outputs": [],
   "source": [
    "#####################\n",
    "### Make Clusters ###\n",
    "#####################\n",
    "n_clusters = 2000\n",
    "labels_file = '/oak/stanford/groups/trc/data/Brezovec/2P_Imaging/20201129_super_slices/cluster_labels.npy'\n",
    "cluster_model_labels_all = np.load(labels_file)\n",
    "\n",
    "###################\n",
    "### Build Flies ###\n",
    "###################\n",
    "flies = {}\n",
    "for i, fly in enumerate(fly_names):\n",
    "    flies[fly] = Fly(fly_name=fly, fly_idx=i)"
   ]
  },
  {
   "cell_type": "code",
   "execution_count": 9,
   "metadata": {},
   "outputs": [
    {
     "name": "stdout",
     "output_type": "stream",
     "text": [
      "0\n",
      "Current memory usage: 10.66GB\n",
      "1\n",
      "Current memory usage: 10.66GB\n",
      "2\n",
      "Current memory usage: 11.15GB\n",
      "3\n",
      "Current memory usage: 11.65GB\n",
      "4\n",
      "Current memory usage: 12.14GB\n",
      "5\n",
      "Current memory usage: 12.63GB\n",
      "6\n",
      "Current memory usage: 13.12GB\n",
      "7\n",
      "Current memory usage: 13.60GB\n",
      "8\n",
      "Current memory usage: 14.09GB\n",
      "9\n",
      "Current memory usage: 14.58GB\n",
      "10\n",
      "Current memory usage: 15.07GB\n",
      "11\n",
      "Current memory usage: 15.55GB\n",
      "12\n",
      "Current memory usage: 16.04GB\n",
      "13\n",
      "Current memory usage: 16.53GB\n",
      "14\n",
      "Current memory usage: 17.02GB\n",
      "15\n",
      "Current memory usage: 17.50GB\n",
      "16\n",
      "Current memory usage: 17.99GB\n",
      "17\n",
      "Current memory usage: 18.48GB\n",
      "18\n",
      "Current memory usage: 18.96GB\n",
      "19\n",
      "Current memory usage: 19.45GB\n",
      "20\n",
      "Current memory usage: 19.94GB\n",
      "21\n",
      "Current memory usage: 20.43GB\n",
      "22\n",
      "Current memory usage: 20.91GB\n",
      "23\n",
      "Current memory usage: 21.40GB\n",
      "24\n",
      "Current memory usage: 21.90GB\n",
      "25\n",
      "Current memory usage: 22.38GB\n",
      "26\n",
      "Current memory usage: 22.87GB\n",
      "27\n",
      "Current memory usage: 23.36GB\n",
      "28\n",
      "Current memory usage: 23.85GB\n",
      "29\n",
      "Current memory usage: 24.33GB\n",
      "30\n",
      "Current memory usage: 24.82GB\n",
      "31\n",
      "Current memory usage: 25.31GB\n",
      "32\n",
      "Current memory usage: 25.80GB\n",
      "33\n",
      "Current memory usage: 26.29GB\n",
      "34\n",
      "Current memory usage: 26.78GB\n",
      "35\n",
      "Current memory usage: 27.26GB\n",
      "36\n",
      "Current memory usage: 27.75GB\n",
      "37\n",
      "Current memory usage: 28.24GB\n",
      "38\n",
      "Current memory usage: 28.73GB\n",
      "39\n",
      "Current memory usage: 29.21GB\n",
      "40\n",
      "Current memory usage: 29.70GB\n",
      "41\n",
      "Current memory usage: 30.19GB\n",
      "42\n",
      "Current memory usage: 30.67GB\n",
      "43\n",
      "Current memory usage: 31.16GB\n",
      "44\n",
      "Current memory usage: 31.65GB\n",
      "45\n",
      "Current memory usage: 32.14GB\n",
      "46\n",
      "Current memory usage: 32.62GB\n",
      "47\n",
      "Current memory usage: 33.11GB\n",
      "48\n",
      "Current memory usage: 33.60GB\n"
     ]
    }
   ],
   "source": [
    "all_data = []\n",
    "for z in range(49):\n",
    "    print(z)\n",
    "    memory_usage = psutil.Process(os.getpid()).memory_info().rss*10**-9\n",
    "    print('Current memory usage: {:.2f}GB'.format(memory_usage))\n",
    "    brain_file = \"/oak/stanford/groups/trc/data/Brezovec/2P_Imaging/20201129_super_slices/superslice_{}.nii\".format(z) #<---------- !!!\n",
    "    brain = np.array(nib.load(brain_file).get_data(), copy=True)\n",
    "    fly_idx_delete = 3 #(fly_095)\n",
    "    brain = np.delete(brain, fly_idx_delete, axis=-1) #### DELETING FLY_095 ####\n",
    "\n",
    "    # Get cluster responses for this slice\n",
    "    for fly in fly_names:\n",
    "        flies[fly].load_brain_slice()\n",
    "        flies[fly].get_cluster_averages(cluster_model_labels_all[z,:], n_clusters)\n",
    "\n",
    "    all_neural_slice = []\n",
    "    for fly in fly_names:\n",
    "        all_neural_slice.append(flies[fly].cluster_signals)\n",
    "    all_neural_slice = np.asarray(all_neural_slice)\n",
    "\n",
    "    all_neural_slice = np.swapaxes(all_neural_slice,0,1) ### WAS MISSING THIS LINE BEFORE\n",
    "    slice_data = np.reshape(all_neural_slice,(2000,3384*9))\n",
    "    all_data.append(slice_data)"
   ]
  },
  {
   "cell_type": "code",
   "execution_count": 11,
   "metadata": {
    "collapsed": true
   },
   "outputs": [],
   "source": [
    "all_data = np.asarray(all_data)\n",
    "save_dir = \"/oak/stanford/groups/trc/data/Brezovec/2P_Imaging/20210514_for_aws\"\n",
    "save_file = os.path.join(save_dir, 'X_all_neural_z_vox_t_correct')\n",
    "np.save(save_file, all_data)"
   ]
  },
  {
   "cell_type": "code",
   "execution_count": 12,
   "metadata": {},
   "outputs": [
    {
     "data": {
      "text/plain": [
       "(49, 2000, 30456)"
      ]
     },
     "execution_count": 12,
     "metadata": {},
     "output_type": "execute_result"
    }
   ],
   "source": [
    "all_data.shape"
   ]
  },
  {
   "cell_type": "code",
   "execution_count": 5,
   "metadata": {
    "collapsed": true
   },
   "outputs": [],
   "source": [
    "### 20210607 - reload saved matrix and upsample so I dont have to do it on AWS"
   ]
  },
  {
   "cell_type": "code",
   "execution_count": 3,
   "metadata": {
    "collapsed": true
   },
   "outputs": [],
   "source": [
    "X_all_neural_z_vox_t = np.load(\"/oak/stanford/groups/trc/data/Brezovec/2P_Imaging/20210514_for_aws/X_all_neural_z_vox_t_correct.npy\")\n",
    "X_all_neural_timestamps_z_t = np.load(\"/oak/stanford/groups/trc/data/Brezovec/2P_Imaging/20210514_for_aws/X_all_neural_timestamps_z_t.npy\")"
   ]
  },
  {
   "cell_type": "code",
   "execution_count": 5,
   "metadata": {},
   "outputs": [
    {
     "name": "stdout",
     "output_type": "stream",
     "text": [
      "Current memory usage: 24.52GB\n"
     ]
    }
   ],
   "source": [
    "print_mem()"
   ]
  },
  {
   "cell_type": "code",
   "execution_count": 6,
   "metadata": {},
   "outputs": [
    {
     "data": {
      "text/plain": [
       "162001"
      ]
     },
     "execution_count": 6,
     "metadata": {},
     "output_type": "execute_result"
    }
   ],
   "source": [
    "### new: generate tp every x-ms\n",
    "last_tp = int(X_all_neural_timestamps_z_t[-1,29])\n",
    "step = 100 #ms\n",
    "timepoints_to_pull = np.arange(0,last_tp,step)\n",
    "len(timepoints_to_pull)"
   ]
  },
  {
   "cell_type": "code",
   "execution_count": 7,
   "metadata": {},
   "outputs": [
    {
     "name": "stdout",
     "output_type": "stream",
     "text": [
      "0\n",
      "Duration: 22.6603946685791\n",
      "Current memory usage: 30.20GB\n",
      "1\n",
      "Duration: 22.77529239654541\n",
      "Current memory usage: 32.79GB\n",
      "2\n",
      "Duration: 22.767664909362793\n",
      "Current memory usage: 35.38GB\n",
      "3\n",
      "Duration: 22.777936458587646\n",
      "Current memory usage: 37.97GB\n",
      "4\n",
      "Duration: 22.86493229866028\n",
      "Current memory usage: 40.57GB\n",
      "5\n",
      "Duration: 23.356908321380615\n",
      "Current memory usage: 43.16GB\n",
      "6\n",
      "Duration: 22.69266104698181\n",
      "Current memory usage: 45.75GB\n",
      "7\n",
      "Duration: 22.69460916519165\n",
      "Current memory usage: 48.34GB\n",
      "8\n",
      "Duration: 23.20456838607788\n",
      "Current memory usage: 50.93GB\n",
      "9\n",
      "Duration: 22.729398012161255\n",
      "Current memory usage: 53.53GB\n",
      "10\n",
      "Duration: 23.18796181678772\n",
      "Current memory usage: 56.12GB\n",
      "11\n",
      "Duration: 23.13534665107727\n",
      "Current memory usage: 58.71GB\n",
      "12\n",
      "Duration: 22.74211049079895\n",
      "Current memory usage: 61.30GB\n",
      "13\n",
      "Duration: 23.205376625061035\n",
      "Current memory usage: 63.89GB\n",
      "14\n",
      "Duration: 22.813921451568604\n",
      "Current memory usage: 66.49GB\n",
      "15\n",
      "Duration: 24.006721019744873\n",
      "Current memory usage: 69.08GB\n",
      "16\n",
      "Duration: 26.245530366897583\n",
      "Current memory usage: 71.67GB\n",
      "17\n",
      "Duration: 27.14187264442444\n",
      "Current memory usage: 74.26GB\n",
      "18\n",
      "Duration: 31.310077905654907\n",
      "Current memory usage: 76.85GB\n",
      "19\n",
      "Duration: 32.13545083999634\n",
      "Current memory usage: 79.45GB\n",
      "20\n",
      "Duration: 32.46475601196289\n",
      "Current memory usage: 82.04GB\n",
      "21\n",
      "Duration: 32.975592374801636\n",
      "Current memory usage: 84.63GB\n",
      "22\n",
      "Duration: 33.04387092590332\n",
      "Current memory usage: 87.22GB\n",
      "23\n",
      "Duration: 32.68120884895325\n",
      "Current memory usage: 89.81GB\n",
      "24\n",
      "Duration: 32.50194001197815\n",
      "Current memory usage: 92.41GB\n",
      "25\n",
      "Duration: 32.450196743011475\n",
      "Current memory usage: 95.00GB\n",
      "26\n",
      "Duration: 28.557175874710083\n",
      "Current memory usage: 97.59GB\n",
      "27\n",
      "Duration: 24.11236596107483\n",
      "Current memory usage: 100.18GB\n",
      "28\n",
      "Duration: 23.914196014404297\n",
      "Current memory usage: 102.77GB\n",
      "29\n",
      "Duration: 23.5122971534729\n",
      "Current memory usage: 105.37GB\n",
      "30\n",
      "Duration: 23.42790174484253\n",
      "Current memory usage: 107.96GB\n",
      "31\n",
      "Duration: 27.55203151702881\n",
      "Current memory usage: 110.55GB\n",
      "32\n",
      "Duration: 32.11471104621887\n",
      "Current memory usage: 113.14GB\n",
      "33\n",
      "Duration: 31.826364040374756\n",
      "Current memory usage: 115.73GB\n",
      "34\n",
      "Duration: 32.6066575050354\n",
      "Current memory usage: 118.33GB\n",
      "35\n",
      "Duration: 32.15866208076477\n",
      "Current memory usage: 120.92GB\n",
      "36\n",
      "Duration: 32.45496106147766\n",
      "Current memory usage: 123.51GB\n",
      "37\n",
      "Duration: 32.11267805099487\n",
      "Current memory usage: 126.10GB\n",
      "38\n",
      "Duration: 27.580034017562866\n",
      "Current memory usage: 128.69GB\n",
      "39\n",
      "Duration: 25.07916498184204\n",
      "Current memory usage: 131.29GB\n",
      "40\n",
      "Duration: 24.010486364364624\n",
      "Current memory usage: 133.88GB\n",
      "41\n",
      "Duration: 23.38745903968811\n",
      "Current memory usage: 136.47GB\n",
      "42\n",
      "Duration: 24.009441375732422\n",
      "Current memory usage: 139.06GB\n",
      "43\n",
      "Duration: 25.881770133972168\n",
      "Current memory usage: 141.66GB\n",
      "44\n",
      "Duration: 32.37878680229187\n",
      "Current memory usage: 144.25GB\n",
      "45\n",
      "Duration: 31.93569564819336\n",
      "Current memory usage: 146.84GB\n",
      "46\n",
      "Duration: 31.949726819992065\n",
      "Current memory usage: 149.43GB\n",
      "47\n",
      "Duration: 31.932692527770996\n",
      "Current memory usage: 152.02GB\n",
      "48\n",
      "Duration: 31.993918895721436\n",
      "Current memory usage: 154.62GB\n"
     ]
    }
   ],
   "source": [
    "all_neural = np.zeros((49,2000,162001))\n",
    "for z in range(49):\n",
    "    print(z)\n",
    "    t0 = time.time()\n",
    "    neural_interp_obj = interp1d(X_all_neural_timestamps_z_t[:,z],\n",
    "                                 X_all_neural_z_vox_t[z,:,:],\n",
    "                                 bounds_error = False,\n",
    "                                 axis=1)\n",
    "\n",
    "    neural_high_res = neural_interp_obj(timepoints_to_pull)\n",
    "    neural_high_res = neural_high_res/10 #better input range\n",
    "    neural_high_res = np.nan_to_num(neural_high_res)\n",
    "    all_neural[z,:,:] = neural_high_res\n",
    "    print(F'Duration: {time.time()-t0}')\n",
    "    print_mem()"
   ]
  },
  {
   "cell_type": "code",
   "execution_count": 8,
   "metadata": {
    "collapsed": true
   },
   "outputs": [],
   "source": [
    "save_file = \"/oak/stanford/groups/trc/data/Brezovec/2P_Imaging/20210514_for_aws/X_all_neural_z_vox_t_10hz.npy\"\n",
    "np.save(save_file, all_neural)"
   ]
  },
  {
   "cell_type": "code",
   "execution_count": 6,
   "metadata": {
    "collapsed": true
   },
   "outputs": [],
   "source": [
    "def print_mem():\n",
    "    memory_usage = psutil.Process(os.getpid()).memory_info().rss*10**-9\n",
    "    print('Current memory usage: {:.2f}GB'.format(memory_usage))"
   ]
  },
  {
   "cell_type": "code",
   "execution_count": null,
   "metadata": {
    "collapsed": true
   },
   "outputs": [],
   "source": [
    "##### reshape into one long vector"
   ]
  },
  {
   "cell_type": "code",
   "execution_count": 2,
   "metadata": {},
   "outputs": [
    {
     "data": {
      "text/plain": [
       "(49, 2000, 162001)"
      ]
     },
     "execution_count": 2,
     "metadata": {},
     "output_type": "execute_result"
    }
   ],
   "source": [
    "load_file = \"/oak/stanford/groups/trc/data/Brezovec/2P_Imaging/20210514_for_aws/X_all_neural_z_vox_t_10hz.npy\"\n",
    "data = np.load(load_file)\n",
    "data.shape"
   ]
  },
  {
   "cell_type": "code",
   "execution_count": 4,
   "metadata": {
    "collapsed": true
   },
   "outputs": [],
   "source": [
    "# will be (49, 2000, 162001)\n",
    "data = np.reshape(data,(49*2000,162001))"
   ]
  },
  {
   "cell_type": "code",
   "execution_count": 5,
   "metadata": {},
   "outputs": [
    {
     "data": {
      "text/plain": [
       "(98000, 162001)"
      ]
     },
     "execution_count": 5,
     "metadata": {},
     "output_type": "execute_result"
    }
   ],
   "source": [
    "data.shape"
   ]
  },
  {
   "cell_type": "code",
   "execution_count": 18,
   "metadata": {},
   "outputs": [
    {
     "data": {
      "text/plain": [
       "(98000, 162001)"
      ]
     },
     "execution_count": 18,
     "metadata": {},
     "output_type": "execute_result"
    }
   ],
   "source": [
    "data = data.T\n",
    "data.shape"
   ]
  },
  {
   "cell_type": "code",
   "execution_count": 20,
   "metadata": {},
   "outputs": [
    {
     "data": {
      "text/plain": [
       "(98000, 162001)"
      ]
     },
     "execution_count": 20,
     "metadata": {},
     "output_type": "execute_result"
    }
   ],
   "source": [
    "data.shape"
   ]
  },
  {
   "cell_type": "code",
   "execution_count": 21,
   "metadata": {},
   "outputs": [
    {
     "data": {
      "text/plain": [
       "  C_CONTIGUOUS : True\n",
       "  F_CONTIGUOUS : False\n",
       "  OWNDATA : False\n",
       "  WRITEABLE : True\n",
       "  ALIGNED : True\n",
       "  WRITEBACKIFCOPY : False\n",
       "  UPDATEIFCOPY : False"
      ]
     },
     "execution_count": 21,
     "metadata": {},
     "output_type": "execute_result"
    }
   ],
   "source": [
    "data.flags\n",
    "# c order, so rows are stored together. Here a row is all voxels for a given timepoint."
   ]
  },
  {
   "cell_type": "code",
   "execution_count": 22,
   "metadata": {
    "collapsed": true
   },
   "outputs": [],
   "source": [
    "save_file = \"/oak/stanford/groups/trc/data/Brezovec/2P_Imaging/20210514_for_aws/X_all_neural_zv_t_10hz.npy\"\n",
    "np.save(save_file, data)"
   ]
  },
  {
   "cell_type": "code",
   "execution_count": 3,
   "metadata": {},
   "outputs": [
    {
     "name": "stdout",
     "output_type": "stream",
     "text": [
      "(98000, 162001)\n",
      "  C_CONTIGUOUS : True\n",
      "  F_CONTIGUOUS : False\n",
      "  OWNDATA : False\n",
      "  WRITEABLE : False\n",
      "  ALIGNED : True\n",
      "  WRITEBACKIFCOPY : False\n",
      "  UPDATEIFCOPY : False\n"
     ]
    }
   ],
   "source": [
    "save_file = \"/oak/stanford/groups/trc/data/Brezovec/2P_Imaging/20210514_for_aws/X_all_neural_zv_t_10hz.npy\"\n",
    "test = np.load(save_file,mmap_mode='r')\n",
    "print(test.shape)\n",
    "print(test.flags)"
   ]
  },
  {
   "cell_type": "code",
   "execution_count": 24,
   "metadata": {},
   "outputs": [
    {
     "ename": "KeyboardInterrupt",
     "evalue": "",
     "output_type": "error",
     "traceback": [
      "\u001b[0;31m---------------------------------------------------------------------------\u001b[0m",
      "\u001b[0;31mKeyboardInterrupt\u001b[0m                         Traceback (most recent call last)",
      "\u001b[0;32m<ipython-input-24-f1fbc283d14b>\u001b[0m in \u001b[0;36m<module>\u001b[0;34m()\u001b[0m\n\u001b[0;32m----> 1\u001b[0;31m \u001b[0ma\u001b[0m \u001b[0;34m=\u001b[0m \u001b[0mtest\u001b[0m\u001b[0;34m[\u001b[0m\u001b[0;34m:\u001b[0m\u001b[0;34m,\u001b[0m\u001b[0;36m100\u001b[0m\u001b[0;34m:\u001b[0m\u001b[0;36m200\u001b[0m\u001b[0;34m]\u001b[0m\u001b[0;34m.\u001b[0m\u001b[0mcopy\u001b[0m\u001b[0;34m(\u001b[0m\u001b[0;34m)\u001b[0m\u001b[0;34m\u001b[0m\u001b[0m\n\u001b[0m",
      "\u001b[0;31mKeyboardInterrupt\u001b[0m: "
     ]
    }
   ],
   "source": [
    "a = test[:,100:200].copy()"
   ]
  },
  {
   "cell_type": "code",
   "execution_count": null,
   "metadata": {
    "collapsed": true
   },
   "outputs": [],
   "source": [
    "t0 = time.time()\n",
    "a = test[100:9800000+100].copy()\n",
    "print(F'Duration: {time.time()-t0}')"
   ]
  },
  {
   "cell_type": "code",
   "execution_count": null,
   "metadata": {
    "collapsed": true
   },
   "outputs": [],
   "source": [
    "a = test[:,100:200]*2"
   ]
  },
  {
   "cell_type": "code",
   "execution_count": null,
   "metadata": {},
   "outputs": [
    {
     "name": "stdout",
     "output_type": "stream",
     "text": [
      "Duration: 705.2374374866486\n"
     ]
    }
   ],
   "source": [
    "t0 = time.time()\n",
    "a = test[:,100:200].copy()\n",
    "print(F'Duration: {time.time()-t0}')\n",
    "\n",
    "t0 = time.time()\n",
    "b = test[:,10000:10100].copy()\n",
    "print(F'Duration: {time.time()-t0}')\n",
    "\n",
    "t0 = time.time()\n",
    "c = test[:,150000:150100].copy()\n",
    "print(F'Duration: {time.time()-t0}')"
   ]
  },
  {
   "cell_type": "code",
   "execution_count": null,
   "metadata": {
    "collapsed": true
   },
   "outputs": [],
   "source": [
    "1"
   ]
  },
  {
   "cell_type": "code",
   "execution_count": 9,
   "metadata": {
    "collapsed": true
   },
   "outputs": [
    {
     "ename": "MemoryError",
     "evalue": "",
     "output_type": "error",
     "traceback": [
      "\u001b[0;31m---------------------------------------------------------------------------\u001b[0m",
      "\u001b[0;31mMemoryError\u001b[0m                               Traceback (most recent call last)",
      "\u001b[0;32m<ipython-input-9-b886389158bb>\u001b[0m in \u001b[0;36m<module>\u001b[0;34m()\u001b[0m\n\u001b[0;32m----> 1\u001b[0;31m \u001b[0mdata\u001b[0m \u001b[0;34m=\u001b[0m \u001b[0mnp\u001b[0m\u001b[0;34m.\u001b[0m\u001b[0mreshape\u001b[0m\u001b[0;34m(\u001b[0m\u001b[0mdata\u001b[0m\u001b[0;34m,\u001b[0m\u001b[0;34m(\u001b[0m\u001b[0;34m-\u001b[0m\u001b[0;36m1\u001b[0m\u001b[0;34m)\u001b[0m\u001b[0;34m)\u001b[0m\u001b[0;34m\u001b[0m\u001b[0m\n\u001b[0m",
      "\u001b[0;32m/share/software/user/open/py-numpy/1.14.3_py36/lib/python3.6/site-packages/numpy/core/fromnumeric.py\u001b[0m in \u001b[0;36mreshape\u001b[0;34m(a, newshape, order)\u001b[0m\n\u001b[1;32m    255\u001b[0m            [5, 6]])\n\u001b[1;32m    256\u001b[0m     \"\"\"\n\u001b[0;32m--> 257\u001b[0;31m     \u001b[0;32mreturn\u001b[0m \u001b[0m_wrapfunc\u001b[0m\u001b[0;34m(\u001b[0m\u001b[0ma\u001b[0m\u001b[0;34m,\u001b[0m \u001b[0;34m'reshape'\u001b[0m\u001b[0;34m,\u001b[0m \u001b[0mnewshape\u001b[0m\u001b[0;34m,\u001b[0m \u001b[0morder\u001b[0m\u001b[0;34m=\u001b[0m\u001b[0morder\u001b[0m\u001b[0;34m)\u001b[0m\u001b[0;34m\u001b[0m\u001b[0m\n\u001b[0m\u001b[1;32m    258\u001b[0m \u001b[0;34m\u001b[0m\u001b[0m\n\u001b[1;32m    259\u001b[0m \u001b[0;34m\u001b[0m\u001b[0m\n",
      "\u001b[0;32m/share/software/user/open/py-numpy/1.14.3_py36/lib/python3.6/site-packages/numpy/core/fromnumeric.py\u001b[0m in \u001b[0;36m_wrapfunc\u001b[0;34m(obj, method, *args, **kwds)\u001b[0m\n\u001b[1;32m     50\u001b[0m \u001b[0;32mdef\u001b[0m \u001b[0m_wrapfunc\u001b[0m\u001b[0;34m(\u001b[0m\u001b[0mobj\u001b[0m\u001b[0;34m,\u001b[0m \u001b[0mmethod\u001b[0m\u001b[0;34m,\u001b[0m \u001b[0;34m*\u001b[0m\u001b[0margs\u001b[0m\u001b[0;34m,\u001b[0m \u001b[0;34m**\u001b[0m\u001b[0mkwds\u001b[0m\u001b[0;34m)\u001b[0m\u001b[0;34m:\u001b[0m\u001b[0;34m\u001b[0m\u001b[0m\n\u001b[1;32m     51\u001b[0m     \u001b[0;32mtry\u001b[0m\u001b[0;34m:\u001b[0m\u001b[0;34m\u001b[0m\u001b[0m\n\u001b[0;32m---> 52\u001b[0;31m         \u001b[0;32mreturn\u001b[0m \u001b[0mgetattr\u001b[0m\u001b[0;34m(\u001b[0m\u001b[0mobj\u001b[0m\u001b[0;34m,\u001b[0m \u001b[0mmethod\u001b[0m\u001b[0;34m)\u001b[0m\u001b[0;34m(\u001b[0m\u001b[0;34m*\u001b[0m\u001b[0margs\u001b[0m\u001b[0;34m,\u001b[0m \u001b[0;34m**\u001b[0m\u001b[0mkwds\u001b[0m\u001b[0;34m)\u001b[0m\u001b[0;34m\u001b[0m\u001b[0m\n\u001b[0m\u001b[1;32m     53\u001b[0m \u001b[0;34m\u001b[0m\u001b[0m\n\u001b[1;32m     54\u001b[0m     \u001b[0;31m# An AttributeError occurs if the object does not have\u001b[0m\u001b[0;34m\u001b[0m\u001b[0;34m\u001b[0m\u001b[0m\n",
      "\u001b[0;31mMemoryError\u001b[0m: "
     ]
    }
   ],
   "source": [
    "data = np.reshape(data,(-1))"
   ]
  },
  {
   "cell_type": "code",
   "execution_count": null,
   "metadata": {
    "collapsed": true
   },
   "outputs": [],
   "source": [
    "all_neural = np.zeros((49*2000*162001))\n",
    "for z in range(49):\n",
    "    print(z)\n",
    "    t0 = time.time()\n",
    "    neural_interp_obj = interp1d(X_all_neural_timestamps_z_t[:,z],\n",
    "                                 X_all_neural_z_vox_t[z,:,:],\n",
    "                                 bounds_error = False,\n",
    "                                 axis=1)\n",
    "\n",
    "    neural_high_res = neural_interp_obj(timepoints_to_pull)\n",
    "    neural_high_res = neural_high_res/10 #better input range\n",
    "    neural_high_res = np.nan_to_num(neural_high_res)\n",
    "    all_neural[z,:,:] = neural_high_res\n",
    "    print(F'Duration: {time.time()-t0}')\n",
    "    print_mem()"
   ]
  },
  {
   "cell_type": "code",
   "execution_count": null,
   "metadata": {
    "collapsed": true
   },
   "outputs": [],
   "source": []
  },
  {
   "cell_type": "markdown",
   "metadata": {},
   "source": [
    "# make one giant vector"
   ]
  },
  {
   "cell_type": "code",
   "execution_count": 8,
   "metadata": {
    "collapsed": true
   },
   "outputs": [],
   "source": [
    "def print_mem():\n",
    "    memory_usage = psutil.Process(os.getpid()).memory_info().rss*10**-9\n",
    "    print('Current memory usage: {:.2f}GB'.format(memory_usage))"
   ]
  },
  {
   "cell_type": "code",
   "execution_count": null,
   "metadata": {
    "collapsed": true
   },
   "outputs": [],
   "source": [
    "X_all_neural_z_vox_t = np.load(\"/oak/stanford/groups/trc/data/Brezovec/2P_Imaging/20210514_for_aws/X_all_neural_z_vox_t_correct.npy\")\n",
    "X_all_neural_timestamps_z_t = np.load(\"/oak/stanford/groups/trc/data/Brezovec/2P_Imaging/20210514_for_aws/X_all_neural_timestamps_z_t.npy\")"
   ]
  },
  {
   "cell_type": "code",
   "execution_count": 6,
   "metadata": {},
   "outputs": [
    {
     "data": {
      "text/plain": [
       "162001"
      ]
     },
     "execution_count": 6,
     "metadata": {},
     "output_type": "execute_result"
    }
   ],
   "source": [
    "### new: generate tp every x-ms\n",
    "last_tp = int(X_all_neural_timestamps_z_t[-1,29])\n",
    "step = 100 #ms\n",
    "timepoints_to_pull = np.arange(0,last_tp,step)\n",
    "len(timepoints_to_pull)"
   ]
  },
  {
   "cell_type": "code",
   "execution_count": 2,
   "metadata": {
    "collapsed": true
   },
   "outputs": [],
   "source": [
    "all_neural = np.zeros((49*2000*162001))"
   ]
  },
  {
   "cell_type": "code",
   "execution_count": 9,
   "metadata": {},
   "outputs": [
    {
     "name": "stdout",
     "output_type": "stream",
     "text": [
      "0\n",
      "Duration: 18.240567922592163\n",
      "Current memory usage: 30.86GB\n",
      "1\n",
      "Duration: 19.04752516746521\n",
      "Current memory usage: 33.45GB\n",
      "2\n",
      "Duration: 19.154288053512573\n",
      "Current memory usage: 36.05GB\n",
      "3\n",
      "Duration: 19.06802272796631\n",
      "Current memory usage: 38.64GB\n",
      "4\n",
      "Duration: 19.055604457855225\n",
      "Current memory usage: 41.23GB\n",
      "5\n",
      "Duration: 19.157487154006958\n",
      "Current memory usage: 43.82GB\n",
      "6\n",
      "Duration: 19.049199104309082\n",
      "Current memory usage: 46.41GB\n",
      "7\n",
      "Duration: 19.077516317367554\n",
      "Current memory usage: 49.01GB\n",
      "8\n",
      "Duration: 19.163005352020264\n",
      "Current memory usage: 51.60GB\n",
      "9\n",
      "Duration: 19.061846494674683\n",
      "Current memory usage: 54.19GB\n",
      "10\n",
      "Duration: 19.102261066436768\n",
      "Current memory usage: 56.78GB\n",
      "11\n",
      "Duration: 19.392757892608643\n",
      "Current memory usage: 59.37GB\n",
      "12\n",
      "Duration: 19.24350142478943\n",
      "Current memory usage: 61.97GB\n",
      "13\n",
      "Duration: 20.053985357284546\n",
      "Current memory usage: 64.56GB\n",
      "14\n",
      "Duration: 21.33978533744812\n",
      "Current memory usage: 67.15GB\n",
      "15\n",
      "Duration: 22.89357018470764\n",
      "Current memory usage: 69.74GB\n",
      "16\n",
      "Duration: 25.253162384033203\n",
      "Current memory usage: 72.33GB\n",
      "17\n",
      "Duration: 26.434388875961304\n",
      "Current memory usage: 74.93GB\n",
      "18\n",
      "Duration: 26.19051194190979\n",
      "Current memory usage: 77.52GB\n",
      "19\n",
      "Duration: 26.053884029388428\n",
      "Current memory usage: 80.11GB\n",
      "20\n",
      "Duration: 26.551075220108032\n",
      "Current memory usage: 82.70GB\n",
      "21\n",
      "Duration: 25.9084153175354\n",
      "Current memory usage: 85.29GB\n",
      "22\n",
      "Duration: 25.90571427345276\n",
      "Current memory usage: 87.89GB\n",
      "23\n",
      "Duration: 25.849937915802002\n",
      "Current memory usage: 90.48GB\n",
      "24\n",
      "Duration: 25.81937074661255\n",
      "Current memory usage: 93.07GB\n",
      "25\n",
      "Duration: 25.780615091323853\n",
      "Current memory usage: 95.66GB\n",
      "26\n",
      "Duration: 26.45881724357605\n",
      "Current memory usage: 98.25GB\n",
      "27\n",
      "Duration: 25.782678365707397\n",
      "Current memory usage: 100.85GB\n",
      "28\n",
      "Duration: 26.347609043121338\n",
      "Current memory usage: 103.44GB\n",
      "29\n",
      "Duration: 25.715680599212646\n",
      "Current memory usage: 106.03GB\n",
      "30\n",
      "Duration: 26.32763123512268\n",
      "Current memory usage: 108.62GB\n",
      "31\n",
      "Duration: 26.08974313735962\n",
      "Current memory usage: 111.21GB\n",
      "32\n",
      "Duration: 26.597569942474365\n",
      "Current memory usage: 113.81GB\n",
      "33\n",
      "Duration: 26.006845235824585\n",
      "Current memory usage: 116.40GB\n",
      "34\n",
      "Duration: 25.799957990646362\n",
      "Current memory usage: 118.99GB\n",
      "35\n",
      "Duration: 26.692162036895752\n",
      "Current memory usage: 121.58GB\n",
      "36\n",
      "Duration: 26.53001093864441\n",
      "Current memory usage: 124.17GB\n",
      "37\n",
      "Duration: 25.74501395225525\n",
      "Current memory usage: 126.77GB\n",
      "38\n",
      "Duration: 24.265864849090576\n",
      "Current memory usage: 129.36GB\n",
      "39\n",
      "Duration: 24.951398611068726\n",
      "Current memory usage: 131.95GB\n",
      "40\n",
      "Duration: 25.509428024291992\n",
      "Current memory usage: 134.54GB\n",
      "41\n",
      "Duration: 25.4237699508667\n",
      "Current memory usage: 137.13GB\n",
      "42\n",
      "Duration: 25.46754503250122\n",
      "Current memory usage: 139.73GB\n",
      "43\n",
      "Duration: 24.607112169265747\n",
      "Current memory usage: 142.32GB\n",
      "44\n",
      "Duration: 25.688267707824707\n",
      "Current memory usage: 144.91GB\n",
      "45\n",
      "Duration: 23.193907260894775\n",
      "Current memory usage: 147.50GB\n",
      "46\n",
      "Duration: 25.799630880355835\n",
      "Current memory usage: 150.09GB\n",
      "47\n",
      "Duration: 24.456185817718506\n",
      "Current memory usage: 152.69GB\n",
      "48\n",
      "Duration: 24.251036405563354\n",
      "Current memory usage: 154.61GB\n"
     ]
    }
   ],
   "source": [
    "# neural_high_res will be 2000x162001\n",
    "tp_jump = 2000*49 # eachtime point is separated by this many entries\n",
    "# each 2000 voxel block needs to be placed into the vector with tp_jump space between\n",
    "\n",
    "for z in range(49):\n",
    "    print(z)\n",
    "    t0 = time.time()\n",
    "    neural_interp_obj = interp1d(X_all_neural_timestamps_z_t[:,z],\n",
    "                                 X_all_neural_z_vox_t[z,:,:],\n",
    "                                 bounds_error = False,\n",
    "                                 axis=1)\n",
    "\n",
    "    neural_high_res = neural_interp_obj(timepoints_to_pull)\n",
    "    neural_high_res = neural_high_res/10 #better input range\n",
    "    neural_high_res = np.nan_to_num(neural_high_res)\n",
    "    #all_neural[z,:,:] = neural_high_res\n",
    "\n",
    "    for t in range(162001):\n",
    "        start = t*tp_jump + z*2000\n",
    "        end = t*tp_jump + z*2000 + 2000\n",
    "        all_neural[start:end] = neural_high_res[:,t]\n",
    "        \n",
    "    print(F'Duration: {time.time()-t0}')\n",
    "    print_mem()"
   ]
  },
  {
   "cell_type": "code",
   "execution_count": 18,
   "metadata": {},
   "outputs": [
    {
     "data": {
      "text/plain": [
       "[<matplotlib.lines.Line2D at 0x7f28b3976e80>]"
      ]
     },
     "execution_count": 18,
     "metadata": {},
     "output_type": "execute_result"
    },
    {
     "data": {
      "image/png": "[encoded data removed]",
      "text/plain": [
       "<Figure size 432x288 with 1 Axes>"
      ]
     },
     "metadata": {},
     "output_type": "display_data"
    }
   ],
   "source": [
    "### verify I can grab my voxel of interest:\n",
    "z=29\n",
    "v=7\n",
    "num_v = 2000\n",
    "tp_jump = 2000*49\n",
    "\n",
    "vox = []\n",
    "for t in range(162001):\n",
    "    vox.append(all_neural[(t*tp_jump)+(z*num_v)+v])\n",
    "vox = np.asarray(vox)\n",
    "plt.plot(vox)"
   ]
  },
  {
   "cell_type": "code",
   "execution_count": 11,
   "metadata": {
    "collapsed": true
   },
   "outputs": [],
   "source": [
    "save_file = \"/oak/stanford/groups/trc/data/Brezovec/2P_Imaging/20210514_for_aws/all_neural_vector_vzt_10hz.npy\"\n",
    "np.save(save_file, all_neural)"
   ]
  },
  {
   "cell_type": "code",
   "execution_count": 3,
   "metadata": {},
   "outputs": [
    {
     "name": "stdout",
     "output_type": "stream",
     "text": [
      "(15876098000,)\n",
      "  C_CONTIGUOUS : True\n",
      "  F_CONTIGUOUS : True\n",
      "  OWNDATA : False\n",
      "  WRITEABLE : False\n",
      "  ALIGNED : True\n",
      "  WRITEBACKIFCOPY : False\n",
      "  UPDATEIFCOPY : False\n"
     ]
    }
   ],
   "source": [
    "save_file = \"/oak/stanford/groups/trc/data/Brezovec/2P_Imaging/20210514_for_aws/all_neural_vector_vzt_10hz.npy\"\n",
    "test = np.load(save_file,mmap_mode='r')\n",
    "print(test.shape)\n",
    "print(test.flags)"
   ]
  },
  {
   "cell_type": "code",
   "execution_count": 2,
   "metadata": {},
   "outputs": [
    {
     "data": {
      "text/plain": [
       "9800000"
      ]
     },
     "execution_count": 2,
     "metadata": {},
     "output_type": "execute_result"
    }
   ],
   "source": [
    "49*2000*100"
   ]
  },
  {
   "cell_type": "code",
   "execution_count": 4,
   "metadata": {},
   "outputs": [
    {
     "name": "stdout",
     "output_type": "stream",
     "text": [
      "Duration: 0.12293481826782227\n",
      "Duration: 0.0001423358917236328\n",
      "Duration: 0.05642414093017578\n",
      "Duration: 0.12456607818603516\n"
     ]
    }
   ],
   "source": [
    "t0 = time.time()\n",
    "a = test[100:9800000+100].copy()\n",
    "print(F'Duration: {time.time()-t0}')\n",
    "\n",
    "t0 = time.time()\n",
    "b = test[10000:10100].copy()\n",
    "print(F'Duration: {time.time()-t0}')\n",
    "\n",
    "t0 = time.time()\n",
    "c = test[15876098000-100000:15876098000].copy()\n",
    "print(F'Duration: {time.time()-t0}')\n",
    "\n",
    "t0 = time.time()\n",
    "d = test[876098000:876098000+9800000].copy()\n",
    "print(F'Duration: {time.time()-t0}')"
   ]
  },
  {
   "cell_type": "code",
   "execution_count": 6,
   "metadata": {},
   "outputs": [
    {
     "name": "stdout",
     "output_type": "stream",
     "text": [
      "Duration: 0.09764838218688965\n"
     ]
    }
   ],
   "source": [
    "t0 = time.time()\n",
    "d = test[8798000:8798000+9800000].copy()\n",
    "print(F'Duration: {time.time()-t0}')"
   ]
  },
  {
   "cell_type": "code",
   "execution_count": 9,
   "metadata": {
    "collapsed": true
   },
   "outputs": [],
   "source": [
    "tp_jump = 2000*49"
   ]
  },
  {
   "cell_type": "code",
   "execution_count": 23,
   "metadata": {},
   "outputs": [
    {
     "name": "stdout",
     "output_type": "stream",
     "text": [
      "Duration: 2.0742416381835938e-05\n",
      "Duration: 9.775161743164062e-06\n",
      "Duration: 9.059906005859375e-06\n",
      "Duration: 8.344650268554688e-06\n",
      "Duration: 8.344650268554688e-06\n",
      "Duration: 6.9141387939453125e-06\n",
      "Duration: 7.152557373046875e-06\n",
      "Duration: 9.059906005859375e-06\n",
      "Duration: 6.67572021484375e-06\n",
      "Duration: 6.9141387939453125e-06\n",
      "Duration: 1.3113021850585938e-05\n",
      "Duration: 5.9604644775390625e-06\n",
      "Duration: 6.67572021484375e-06\n",
      "Duration: 7.152557373046875e-06\n",
      "Duration: 9.059906005859375e-06\n",
      "Duration: 3.6716461181640625e-05\n",
      "Duration: 8.58306884765625e-06\n",
      "Duration: 8.58306884765625e-06\n",
      "Duration: 6.198883056640625e-06\n",
      "Duration: 6.9141387939453125e-06\n",
      "Duration: 6.198883056640625e-06\n",
      "Duration: 6.67572021484375e-06\n",
      "Duration: 8.821487426757812e-06\n",
      "Duration: 5.9604644775390625e-06\n",
      "Duration: 6.9141387939453125e-06\n",
      "Duration: 5.9604644775390625e-06\n",
      "Duration: 6.67572021484375e-06\n",
      "Duration: 8.58306884765625e-06\n",
      "Duration: 6.198883056640625e-06\n",
      "Duration: 6.9141387939453125e-06\n",
      "Duration: 6.4373016357421875e-06\n",
      "Duration: 6.67572021484375e-06\n",
      "Duration: 8.106231689453125e-06\n",
      "Duration: 9.059906005859375e-06\n",
      "Duration: 3.5762786865234375e-05\n",
      "Duration: 7.867813110351562e-06\n",
      "Duration: 3.504753112792969e-05\n",
      "Duration: 6.9141387939453125e-06\n",
      "Duration: 8.106231689453125e-06\n",
      "Duration: 6.198883056640625e-06\n",
      "Duration: 7.62939453125e-06\n",
      "Duration: 3.4809112548828125e-05\n",
      "Duration: 7.152557373046875e-06\n",
      "Duration: 9.059906005859375e-06\n",
      "Duration: 8.821487426757812e-06\n",
      "Duration: 3.695487976074219e-05\n",
      "Duration: 8.106231689453125e-06\n",
      "Duration: 8.821487426757812e-06\n",
      "Duration: 8.344650268554688e-06\n",
      "Duration: 6.198883056640625e-06\n",
      "Duration: 0.004486083984375\n"
     ]
    }
   ],
   "source": [
    "indicies = np.random.randint(0,162001,50)\n",
    "t00 = time.time()\n",
    "temp = []\n",
    "for i in indicies:\n",
    "    t0 = time.time()\n",
    "    start = (i-50)*tp_jump\n",
    "    end = (i+50)*tp_jump\n",
    "    temp.append(test[start:end])\n",
    "    print(F'Duration: {time.time()-t0}')\n",
    "print(F'Duration: {time.time()-t00}')"
   ]
  },
  {
   "cell_type": "code",
   "execution_count": 13,
   "metadata": {},
   "outputs": [
    {
     "data": {
      "text/plain": [
       "9800000"
      ]
     },
     "execution_count": 13,
     "metadata": {},
     "output_type": "execute_result"
    }
   ],
   "source": [
    "49*2000*100"
   ]
  },
  {
   "cell_type": "code",
   "execution_count": 18,
   "metadata": {},
   "outputs": [
    {
     "data": {
      "text/plain": [
       "(50, 9800000)"
      ]
     },
     "execution_count": 18,
     "metadata": {},
     "output_type": "execute_result"
    }
   ],
   "source": [
    "temp = np.asarray(temp)\n",
    "temp.shape"
   ]
  },
  {
   "cell_type": "code",
   "execution_count": 5,
   "metadata": {
    "collapsed": true
   },
   "outputs": [],
   "source": [
    "save_dir = \"/oak/stanford/groups/trc/data/Brezovec/2P_Imaging/20210514_for_aws\"\n",
    "for z in range(49):\n",
    "    save_file = os.path.join(save_dir, str(z))\n",
    "    np.save(save_file, all_data[z])"
   ]
  },
  {
   "cell_type": "code",
   "execution_count": 6,
   "metadata": {
    "collapsed": true
   },
   "outputs": [],
   "source": [
    "all_data = np.asarray(all_data)"
   ]
  },
  {
   "cell_type": "code",
   "execution_count": 116,
   "metadata": {
    "collapsed": true
   },
   "outputs": [],
   "source": [
    "save_file = os.path.join(save_dir, 'X_all_neural_timestamps_z_t')\n",
    "np.save(save_file, all_timestamps)"
   ]
  },
  {
   "cell_type": "code",
   "execution_count": 114,
   "metadata": {},
   "outputs": [
    {
     "data": {
      "text/plain": [
       "(49, 2000, 30456)"
      ]
     },
     "execution_count": 114,
     "metadata": {},
     "output_type": "execute_result"
    }
   ],
   "source": [
    "# will have neural X (49,2000,30000), or ()\n",
    "all_data.shape"
   ]
  },
  {
   "cell_type": "code",
   "execution_count": 9,
   "metadata": {
    "collapsed": true
   },
   "outputs": [],
   "source": [
    "all_data_2d = np.reshape(all_data, (49*2000,30456))"
   ]
  },
  {
   "cell_type": "code",
   "execution_count": 10,
   "metadata": {},
   "outputs": [
    {
     "data": {
      "text/plain": [
       "(98000, 30456)"
      ]
     },
     "execution_count": 10,
     "metadata": {},
     "output_type": "execute_result"
    }
   ],
   "source": [
    "all_data_2d.shape"
   ]
  },
  {
   "cell_type": "code",
   "execution_count": 62,
   "metadata": {},
   "outputs": [
    {
     "name": "stdout",
     "output_type": "stream",
     "text": [
      "Current memory usage: 58.15GB\n"
     ]
    }
   ],
   "source": [
    "memory_usage = psutil.Process(os.getpid()).memory_info().rss*10**-9\n",
    "print('Current memory usage: {:.2f}GB'.format(memory_usage))"
   ]
  },
  {
   "cell_type": "code",
   "execution_count": null,
   "metadata": {
    "collapsed": true
   },
   "outputs": [],
   "source": [
    "# ok so lets say I want to grab a single sample for training\n",
    "# it would be like X[:,sample_num], X_timestamps[:,sample_num]\n",
    "# this will give me one volume of data, with different Zs having different timings\n",
    "# actually I cant do it this way because I need the neighboring vols for interping\n",
    "\n"
   ]
  },
  {
   "cell_type": "code",
   "execution_count": 63,
   "metadata": {
    "collapsed": true
   },
   "outputs": [],
   "source": [
    "from scipy.interpolate import interp1d"
   ]
  },
  {
   "cell_type": "code",
   "execution_count": 74,
   "metadata": {},
   "outputs": [
    {
     "data": {
      "text/plain": [
       "(98000, 30456)"
      ]
     },
     "execution_count": 74,
     "metadata": {},
     "output_type": "execute_result"
    }
   ],
   "source": [
    "all_data_2d.shape"
   ]
  },
  {
   "cell_type": "code",
   "execution_count": 102,
   "metadata": {},
   "outputs": [
    {
     "data": {
      "text/plain": [
       "((98000, 30456), (98000, 30456))"
      ]
     },
     "execution_count": 102,
     "metadata": {},
     "output_type": "execute_result"
    }
   ],
   "source": [
    "test.shape, all_data_2d.shape"
   ]
  },
  {
   "cell_type": "code",
   "execution_count": 99,
   "metadata": {},
   "outputs": [
    {
     "data": {
      "text/plain": [
       "((10, 30456), (10, 30456))"
      ]
     },
     "execution_count": 99,
     "metadata": {},
     "output_type": "execute_result"
    }
   ],
   "source": [
    "test[:10,:].shape, all_data_2d[:10,:].shape"
   ]
  },
  {
   "cell_type": "code",
   "execution_count": 108,
   "metadata": {
    "collapsed": true
   },
   "outputs": [],
   "source": [
    "### this gives me an interp-object for 1 z-slice\n",
    "\n",
    "neural_data_interp_object = interp1d(test[0,:],\n",
    "                                     all_data_2d[0,:2000,:],\n",
    "                                     bounds_error = False,\n",
    "                                     axis=1)\n",
    "\n",
    "### perhaps I do need to do it this way."
   ]
  },
  {
   "cell_type": "code",
   "execution_count": 118,
   "metadata": {},
   "outputs": [
    {
     "data": {
      "text/plain": [
       "((30456, 49), (49, 2000, 30456))"
      ]
     },
     "execution_count": 118,
     "metadata": {},
     "output_type": "execute_result"
    }
   ],
   "source": [
    "all_timestamps.shape, all_data.shape"
   ]
  },
  {
   "cell_type": "code",
   "execution_count": 119,
   "metadata": {
    "collapsed": true
   },
   "outputs": [],
   "source": [
    "z=0\n",
    "neural_data_interp_object = interp1d(all_timestamps[:,z],\n",
    "                                     all_data[z,:,:],\n",
    "                                     bounds_error = False,\n",
    "                                     axis=1)"
   ]
  },
  {
   "cell_type": "code",
   "execution_count": 121,
   "metadata": {
    "collapsed": true
   },
   "outputs": [],
   "source": [
    "neural_data_interp_objects = []\n",
    "for z in range(49):\n",
    "    interp_object = interp1d(all_timestamps[:,z],\n",
    "                             all_data[z,:,:],\n",
    "                             bounds_error = False,\n",
    "                             axis=1)\n",
    "    neural_data_interp_objects.append(interp_object)"
   ]
  },
  {
   "cell_type": "code",
   "execution_count": 120,
   "metadata": {},
   "outputs": [
    {
     "name": "stdout",
     "output_type": "stream",
     "text": [
      "Current memory usage: 59.19GB\n"
     ]
    }
   ],
   "source": [
    "memory_usage = psutil.Process(os.getpid()).memory_info().rss*10**-9\n",
    "print('Current memory usage: {:.2f}GB'.format(memory_usage))"
   ]
  },
  {
   "cell_type": "code",
   "execution_count": 122,
   "metadata": {},
   "outputs": [
    {
     "name": "stdout",
     "output_type": "stream",
     "text": [
      "Current memory usage: 83.06GB\n"
     ]
    }
   ],
   "source": [
    "memory_usage = psutil.Process(os.getpid()).memory_info().rss*10**-9\n",
    "print('Current memory usage: {:.2f}GB'.format(memory_usage))"
   ]
  },
  {
   "cell_type": "code",
   "execution_count": 131,
   "metadata": {
    "collapsed": true
   },
   "outputs": [],
   "source": [
    "def timepoint_to_window(timepoint):\n",
    "    time_shifts = list(range(-5000,5000,100)) # in ms\n",
    "    window = [x+timepoint for x in time_shifts]\n",
    "    return window"
   ]
  },
  {
   "cell_type": "code",
   "execution_count": 134,
   "metadata": {
    "collapsed": true
   },
   "outputs": [],
   "source": [
    "sample_num = 1000\n",
    "anchor_z = 20\n",
    "single_input = []\n",
    "for z in range(49):\n",
    "    temp = neural_data_interp_objects[z](timepoint_to_window(all_timestamps[sample_num,anchor_z]))\n",
    "    single_input.append(temp)\n",
    "single_input = np.asarray(single_input)"
   ]
  },
  {
   "cell_type": "code",
   "execution_count": 135,
   "metadata": {},
   "outputs": [
    {
     "data": {
      "text/plain": [
       "(49, 2000, 100)"
      ]
     },
     "execution_count": 135,
     "metadata": {},
     "output_type": "execute_result"
    }
   ],
   "source": [
    "single_input.shape"
   ]
  },
  {
   "cell_type": "code",
   "execution_count": 8,
   "metadata": {},
   "outputs": [
    {
     "data": {
      "text/plain": [
       "[<matplotlib.lines.Line2D at 0x7fca7c381da0>]"
      ]
     },
     "execution_count": 8,
     "metadata": {},
     "output_type": "execute_result"
    },
    {
     "data": {
      "image/png": "[encoded data removed]",
      "text/plain": [
       "<Figure size 432x288 with 1 Axes>"
      ]
     },
     "metadata": {},
     "output_type": "display_data"
    }
   ],
   "source": [
    "plt.plot(all_data[20,0,:])"
   ]
  },
  {
   "cell_type": "code",
   "execution_count": 15,
   "metadata": {},
   "outputs": [
    {
     "data": {
      "text/plain": [
       "[<matplotlib.lines.Line2D at 0x7fca7b535278>]"
      ]
     },
     "execution_count": 15,
     "metadata": {},
     "output_type": "execute_result"
    },
    {
     "data": {
      "image/png": "[encoded data removed]",
      "text/plain": [
       "<Figure size 432x288 with 1 Axes>"
      ]
     },
     "metadata": {},
     "output_type": "display_data"
    }
   ],
   "source": [
    "plt.plot(all_data_2d[20*2000,:])"
   ]
  },
  {
   "cell_type": "code",
   "execution_count": 109,
   "metadata": {},
   "outputs": [
    {
     "name": "stdout",
     "output_type": "stream",
     "text": [
      "\n",
      "~~ load_timestamps ~~\n",
      "Trying to load timestamp data from hdf5 file.\n",
      "Success.\n",
      "load_timestamps done. Duration: 40.32 ms\n",
      "\n",
      "~~ load_timestamps ~~\n",
      "Trying to load timestamp data from hdf5 file.\n",
      "Success.\n",
      "load_timestamps done. Duration: 52.60 ms\n",
      "\n",
      "~~ load_timestamps ~~\n",
      "Trying to load timestamp data from hdf5 file.\n",
      "Success.\n",
      "load_timestamps done. Duration: 8.21 ms\n",
      "\n",
      "~~ load_timestamps ~~\n",
      "Trying to load timestamp data from hdf5 file.\n",
      "Success.\n",
      "load_timestamps done. Duration: 611.05 ms\n",
      "\n",
      "~~ load_timestamps ~~\n",
      "Trying to load timestamp data from hdf5 file.\n",
      "Success.\n",
      "load_timestamps done. Duration: 8.47 ms\n",
      "\n",
      "~~ load_timestamps ~~\n",
      "Trying to load timestamp data from hdf5 file.\n",
      "Success.\n",
      "load_timestamps done. Duration: 32.39 ms\n",
      "\n",
      "~~ load_timestamps ~~\n",
      "Trying to load timestamp data from hdf5 file.\n",
      "Success.\n",
      "load_timestamps done. Duration: 30.24 ms\n",
      "\n",
      "~~ load_timestamps ~~\n",
      "Trying to load timestamp data from hdf5 file.\n",
      "Success.\n",
      "load_timestamps done. Duration: 38.05 ms\n",
      "\n",
      "~~ load_timestamps ~~\n",
      "Trying to load timestamp data from hdf5 file.\n",
      "Success.\n",
      "load_timestamps done. Duration: 8.26 ms\n"
     ]
    }
   ],
   "source": [
    "for i, fly in enumerate(fly_names):\n",
    "    flies[fly].load_timestamps()"
   ]
  },
  {
   "cell_type": "code",
   "execution_count": 110,
   "metadata": {
    "collapsed": true
   },
   "outputs": [],
   "source": [
    "expt_len = 1000*60*30\n",
    "all_timestamps = []\n",
    "for i, fly in enumerate(fly_names):\n",
    "    all_timestamps.append(flies['fly_087'].timestamps + expt_len*i)\n",
    "all_timestamps = np.asarray(all_timestamps)"
   ]
  },
  {
   "cell_type": "code",
   "execution_count": 111,
   "metadata": {},
   "outputs": [
    {
     "data": {
      "text/plain": [
       "(30456, 49)"
      ]
     },
     "execution_count": 111,
     "metadata": {},
     "output_type": "execute_result"
    }
   ],
   "source": [
    "all_timestamps = np.reshape(all_timestamps, (9*3384,49))\n",
    "all_timestamps.shape"
   ]
  },
  {
   "cell_type": "code",
   "execution_count": 48,
   "metadata": {},
   "outputs": [
    {
     "data": {
      "text/plain": [
       "array([1.04654892e+02, 6.36650593e+02, 1.16864629e+03, ...,\n",
       "       1.61987821e+07, 1.61993141e+07, 1.61998461e+07])"
      ]
     },
     "execution_count": 48,
     "metadata": {},
     "output_type": "execute_result"
    }
   ],
   "source": [
    "all_timestamps[:,0]"
   ]
  },
  {
   "cell_type": "code",
   "execution_count": 54,
   "metadata": {},
   "outputs": [
    {
     "data": {
      "text/plain": [
       "(30456, 98000)"
      ]
     },
     "execution_count": 54,
     "metadata": {},
     "output_type": "execute_result"
    }
   ],
   "source": [
    "test = np.repeat(all_timestamps, 2000, axis=-1)\n",
    "test.shape"
   ]
  },
  {
   "cell_type": "code",
   "execution_count": 55,
   "metadata": {
    "collapsed": true
   },
   "outputs": [],
   "source": [
    "save_file = os.path.join(save_dir, 'X_timestamps')\n",
    "np.save(save_file, test.T)"
   ]
  },
  {
   "cell_type": "code",
   "execution_count": 136,
   "metadata": {
    "collapsed": true
   },
   "outputs": [],
   "source": [
    "class Fictrac:\n",
    "    def __init__ (self, fly_dir, timestamps):\n",
    "        self.fictrac_raw = bbb.load_fictrac(os.path.join(fly_dir, 'fictrac'))\n",
    "        self.timestamps = timestamps\n",
    "    def make_interp_object(self, behavior,fly_idx):\n",
    "        # Create camera timepoints\n",
    "        fps=50\n",
    "        camera_rate = 1/fps * 1000 # camera frame rate in ms\n",
    "        expt_len = 1000*30*60\n",
    "        x_original = np.arange(0,expt_len,camera_rate)\n",
    "        x_original = x_original + expt_len * fly_idx\n",
    "\n",
    "        # Smooth raw fictrac data\n",
    "        fictrac_smoothed = scipy.signal.savgol_filter(np.asarray(self.fictrac_raw[behavior]),25,3)\n",
    "\n",
    "        # Create interp object with camera timepoints\n",
    "        fictrac_interp_object = interp1d(x_original, fictrac_smoothed, bounds_error = False)\n",
    "        return fictrac_smoothed, fictrac_interp_object\n",
    "\n",
    "    def pull_from_interp_object(self, interp_object, timepoints):\n",
    "        new_interp = interp_object(timepoints)\n",
    "        np.nan_to_num(new_interp, copy=False);\n",
    "        return new_interp\n",
    "\n",
    "    def interp_fictrac(self,fly_idx):\n",
    "        behaviors = ['dRotLabY', 'dRotLabZ']; shorts = ['Y', 'Z']\n",
    "        self.fictrac = {}\n",
    "\n",
    "        for behavior, short in zip(behaviors, shorts):\n",
    "            raw_smoothed, interp_object = self.make_interp_object(behavior,fly_idx)\n",
    "            self.fictrac[short + 'i'] = interp_object\n",
    "            self.fictrac[short] = raw_smoothed\n",
    "\n",
    "    def make_walking_vector(self):\n",
    "        self.fictrac['W'] = np.zeros(len(self.fictrac['Y']))\n",
    "        YZ = np.sqrt(np.power(self.fictrac['Y']/np.std(self.fictrac['Y']),2),\n",
    "             np.power(self.fictrac['Z']/np.std(self.fictrac['Z']),2))\n",
    "        self.fictrac['W'][np.where(YZ>.2)] = 1\n",
    "\n",
    "        fps=50\n",
    "        camera_rate = 1/fps * 1000 # camera frame rate in ms\n",
    "        expt_len = 1000*30*60\n",
    "        x_original = np.arange(0,expt_len,camera_rate)\n",
    "        self.fictrac['Wi'] = interp1d(x_original, self.fictrac['W'], bounds_error = False, kind = 'nearest')"
   ]
  },
  {
   "cell_type": "code",
   "execution_count": 137,
   "metadata": {},
   "outputs": [
    {
     "name": "stdout",
     "output_type": "stream",
     "text": [
      "\n",
      "~~ load_fictrac ~~\n",
      "load_fictrac done. Duration: 4.20 sec\n",
      "\n",
      "~~ load_fictrac ~~\n",
      "load_fictrac done. Duration: 3.43 sec\n",
      "\n",
      "~~ load_fictrac ~~\n",
      "load_fictrac done. Duration: 4.17 sec\n",
      "\n",
      "~~ load_fictrac ~~\n",
      "load_fictrac done. Duration: 3.57 sec\n",
      "\n",
      "~~ load_fictrac ~~\n",
      "load_fictrac done. Duration: 3.71 sec\n",
      "\n",
      "~~ load_fictrac ~~\n",
      "load_fictrac done. Duration: 3.82 sec\n",
      "\n",
      "~~ load_fictrac ~~\n",
      "load_fictrac done. Duration: 4.02 sec\n",
      "\n",
      "~~ load_fictrac ~~\n",
      "load_fictrac done. Duration: 4.16 sec\n",
      "\n",
      "~~ load_fictrac ~~\n",
      "load_fictrac done. Duration: 4.09 sec\n"
     ]
    }
   ],
   "source": [
    "for i, fly in enumerate(fly_names):\n",
    "    flies[fly].load_fictrac()\n",
    "    flies[fly].fictrac.interp_fictrac(i)"
   ]
  },
  {
   "cell_type": "code",
   "execution_count": 138,
   "metadata": {},
   "outputs": [
    {
     "data": {
      "text/plain": [
       "(30456, 49)"
      ]
     },
     "execution_count": 138,
     "metadata": {},
     "output_type": "execute_result"
    }
   ],
   "source": [
    "all_timestamps.shape"
   ]
  },
  {
   "cell_type": "code",
   "execution_count": 142,
   "metadata": {
    "collapsed": true
   },
   "outputs": [],
   "source": [
    "behavior = []\n",
    "for i,fly in enumerate(fly_names):\n",
    "    temp = flies[fly].fictrac.fictrac['Yi'](all_timestamps[i*3384:(i+1)*3384,anchor_z])\n",
    "    behavior.append(temp)\n",
    "behavior = np.asarray(behavior)"
   ]
  },
  {
   "cell_type": "code",
   "execution_count": 61,
   "metadata": {},
   "outputs": [
    {
     "data": {
      "text/plain": [
       "(3384, 49)"
      ]
     },
     "execution_count": 61,
     "metadata": {},
     "output_type": "execute_result"
    }
   ],
   "source": [
    "flies['fly_087'].timestamps.shape"
   ]
  },
  {
   "cell_type": "code",
   "execution_count": 144,
   "metadata": {
    "collapsed": true
   },
   "outputs": [],
   "source": [
    "behavior = np.reshape(behavior,(-1))"
   ]
  },
  {
   "cell_type": "code",
   "execution_count": 145,
   "metadata": {},
   "outputs": [
    {
     "data": {
      "text/plain": [
       "[<matplotlib.lines.Line2D at 0x7fca64a53860>]"
      ]
     },
     "execution_count": 145,
     "metadata": {},
     "output_type": "execute_result"
    },
    {
     "data": {
      "image/png": "[encoded data removed]",
      "text/plain": [
       "<Figure size 432x288 with 1 Axes>"
      ]
     },
     "metadata": {},
     "output_type": "display_data"
    }
   ],
   "source": [
    "plt.plot(behavior)"
   ]
  },
  {
   "cell_type": "code",
   "execution_count": 146,
   "metadata": {
    "collapsed": true
   },
   "outputs": [],
   "source": [
    "save_file = os.path.join(save_dir, 'Y_behavior')\n",
    "np.save(save_file, behavior)"
   ]
  },
  {
   "cell_type": "code",
   "execution_count": null,
   "metadata": {
    "collapsed": true
   },
   "outputs": [],
   "source": []
  },
  {
   "cell_type": "code",
   "execution_count": 53,
   "metadata": {},
   "outputs": [
    {
     "data": {
      "text/plain": [
       "array([1.04654892e+02, 6.36650593e+02, 1.16864629e+03, ...,\n",
       "       1.61987821e+07, 1.61993141e+07, 1.61998461e+07])"
      ]
     },
     "execution_count": 53,
     "metadata": {},
     "output_type": "execute_result"
    }
   ],
   "source": [
    "test[:,9]"
   ]
  },
  {
   "cell_type": "code",
   "execution_count": 45,
   "metadata": {},
   "outputs": [
    {
     "data": {
      "text/plain": [
       "[<matplotlib.lines.Line2D at 0x7fca736ba0f0>]"
      ]
     },
     "execution_count": 45,
     "metadata": {},
     "output_type": "execute_result"
    },
    {
     "data": {
      "image/png": "[encoded data removed]",
      "text/plain": [
       "<Figure size 432x288 with 1 Axes>"
      ]
     },
     "metadata": {},
     "output_type": "display_data"
    }
   ],
   "source": [
    "plt.plot(all_timestamps[0,:,0])\n",
    "plt.plot(all_timestamps[1,:,0])"
   ]
  },
  {
   "cell_type": "code",
   "execution_count": 47,
   "metadata": {},
   "outputs": [
    {
     "data": {
      "text/plain": [
       "[<matplotlib.lines.Line2D at 0x7fca736ba748>]"
      ]
     },
     "execution_count": 47,
     "metadata": {},
     "output_type": "execute_result"
    },
    {
     "data": {
      "image/png": "[encoded data removed]",
      "text/plain": [
       "<Figure size 432x288 with 1 Axes>"
      ]
     },
     "metadata": {},
     "output_type": "display_data"
    }
   ],
   "source": [
    "plt.plot(all_timestamps[:,0])"
   ]
  },
  {
   "cell_type": "code",
   "execution_count": 33,
   "metadata": {},
   "outputs": [
    {
     "data": {
      "text/plain": [
       "array([1.04654892e+02, 6.36650593e+02, 1.16864629e+03, ...,\n",
       "       1.79878212e+06, 1.79931412e+06, 1.79984611e+06])"
      ]
     },
     "execution_count": 33,
     "metadata": {},
     "output_type": "execute_result"
    }
   ],
   "source": [
    "all_timestamps[:,0]"
   ]
  },
  {
   "cell_type": "code",
   "execution_count": 35,
   "metadata": {},
   "outputs": [
    {
     "data": {
      "text/plain": [
       "array([1.13376133e+02, 6.45371834e+02, 1.17736753e+03, ...,\n",
       "       1.79879084e+06, 1.79932284e+06, 1.79985483e+06])"
      ]
     },
     "execution_count": 35,
     "metadata": {},
     "output_type": "execute_result"
    }
   ],
   "source": [
    "all_timestamps[:,1]"
   ]
  },
  {
   "cell_type": "code",
   "execution_count": null,
   "metadata": {
    "collapsed": true
   },
   "outputs": [],
   "source": [
    "expt_len = 1000*60*30*9\n",
    "resolution = 100\n",
    "high_res_timepoints = np.arange(0,expt_len,resolution) #0 to last time at subsample res"
   ]
  },
  {
   "cell_type": "code",
   "execution_count": null,
   "metadata": {
    "collapsed": true
   },
   "outputs": [],
   "source": []
  },
  {
   "cell_type": "code",
   "execution_count": null,
   "metadata": {
    "collapsed": true
   },
   "outputs": [],
   "source": []
  },
  {
   "cell_type": "code",
   "execution_count": null,
   "metadata": {
    "collapsed": true
   },
   "outputs": [],
   "source": []
  },
  {
   "cell_type": "code",
   "execution_count": null,
   "metadata": {
    "collapsed": true
   },
   "outputs": [],
   "source": []
  },
  {
   "cell_type": "code",
   "execution_count": 18,
   "metadata": {},
   "outputs": [
    {
     "data": {
      "text/plain": [
       "[<matplotlib.lines.Line2D at 0x7fd64a6bf7f0>]"
      ]
     },
     "execution_count": 18,
     "metadata": {},
     "output_type": "execute_result"
    },
    {
     "data": {
      "image/png": "[encoded data removed]",
      "text/plain": [
       "<Figure size 432x288 with 1 Axes>"
      ]
     },
     "metadata": {},
     "output_type": "display_data"
    }
   ],
   "source": [
    "plt.plot(all_neural_slice[0,0,:])"
   ]
  },
  {
   "cell_type": "code",
   "execution_count": 17,
   "metadata": {},
   "outputs": [
    {
     "data": {
      "text/plain": [
       "(9, 2000, 3384)"
      ]
     },
     "execution_count": 17,
     "metadata": {},
     "output_type": "execute_result"
    }
   ],
   "source": [
    "all_neural_slice.shape"
   ]
  },
  {
   "cell_type": "code",
   "execution_count": 19,
   "metadata": {
    "collapsed": true
   },
   "outputs": [],
   "source": []
  },
  {
   "cell_type": "code",
   "execution_count": 20,
   "metadata": {},
   "outputs": [
    {
     "data": {
      "text/plain": [
       "(2000, 30456)"
      ]
     },
     "execution_count": 20,
     "metadata": {},
     "output_type": "execute_result"
    }
   ],
   "source": [
    "test.shape"
   ]
  },
  {
   "cell_type": "code",
   "execution_count": 22,
   "metadata": {},
   "outputs": [
    {
     "data": {
      "text/plain": [
       "[<matplotlib.lines.Line2D at 0x7fd64a553518>]"
      ]
     },
     "execution_count": 22,
     "metadata": {},
     "output_type": "execute_result"
    },
    {
     "data": {
      "image/png": "[encoded data removed]",
      "text/plain": [
       "<Figure size 432x288 with 1 Axes>"
      ]
     },
     "metadata": {},
     "output_type": "display_data"
    }
   ],
   "source": [
    "plt.plot(test[0,:3384])"
   ]
  },
  {
   "cell_type": "code",
   "execution_count": 4,
   "metadata": {},
   "outputs": [
    {
     "data": {
      "text/plain": [
       "(49, 9, 2000, 3384)"
      ]
     },
     "execution_count": 4,
     "metadata": {},
     "output_type": "execute_result"
    }
   ],
   "source": [
    "X.shape"
   ]
  }
 ],
 "metadata": {
  "kernelspec": {
   "display_name": "Python 3",
   "language": "python",
   "name": "python3"
  },
  "language_info": {
   "codemirror_mode": {
    "name": "ipython",
    "version": 3
   },
   "file_extension": ".py",
   "mimetype": "text/x-python",
   "name": "python",
   "nbconvert_exporter": "python",
   "pygments_lexer": "ipython3",
   "version": "3.6.1"
  }
 },
 "nbformat": 4,
 "nbformat_minor": 2
}
