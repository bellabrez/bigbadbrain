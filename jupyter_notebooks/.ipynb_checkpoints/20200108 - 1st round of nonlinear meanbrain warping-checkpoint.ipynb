{
 "cells": [
  {
   "cell_type": "code",
   "execution_count": 1,
   "metadata": {
    "collapsed": true
   },
   "outputs": [],
   "source": [
    "import sys\n",
    "sys.path.insert(0, '/home/users/brezovec/.local/lib/python3.6/site-packages/lib/python/')\n",
    "import ants\n",
    "import os\n",
    "import bigbadbrain as bbb\n",
    "import numpy as np\n",
    "import matplotlib.pyplot as plt\n",
    "import time\n",
    "import scipy\n",
    "from scipy.ndimage.filters import gaussian_filter\n",
    "%matplotlib inline"
   ]
  },
  {
   "cell_type": "code",
   "execution_count": 3,
   "metadata": {
    "collapsed": true
   },
   "outputs": [],
   "source": [
    "plt.rcParams.update({'font.size': 20})"
   ]
  },
  {
   "cell_type": "code",
   "execution_count": 2,
   "metadata": {
    "collapsed": true
   },
   "outputs": [],
   "source": [
    "root_directory = '/oak/stanford/groups/trc/data/Brezovec/2P_Imaging/20190101_walking_dataset/20191204_anatomy_collection/20200107_collection'"
   ]
  },
  {
   "cell_type": "markdown",
   "metadata": {},
   "source": [
    "# Load ants warped brains"
   ]
  },
  {
   "cell_type": "code",
   "execution_count": 8,
   "metadata": {
    "collapsed": true
   },
   "outputs": [
    {
     "name": "stdout",
     "output_type": "stream",
     "text": [
      "f56a2.nii\n",
      "f48a0m.nii\n",
      "f63a1m.nii\n",
      "f68a1m.nii\n",
      "f22a0m.nii\n",
      "f56a2m.nii\n",
      "f58a0.nii\n",
      "f25a0.nii\n",
      "f24a0.nii\n",
      "f57a1m.nii\n",
      "f58a0m.nii\n",
      "f63a1.nii\n",
      "f24a0m.nii\n",
      "f22a0.nii\n",
      "f57a1.nii\n",
      "f25a0m.nii\n",
      "f48a0.nii\n",
      "f68a1.nii\n"
     ]
    }
   ],
   "source": [
    "to_load = os.listdir(os.path.join(root_directory,'ants_round_1'))\n",
    "to_load = [i for i in to_load if 'affine' not in i and '.nii' in i]\n",
    "anatomy = {}\n",
    "for brain in to_load:\n",
    "    print(brain)\n",
    "    file = os.path.join(root_directory,'ants_round_1',brain)\n",
    "    anatomy[brain] = ants.image_read(file)"
   ]
  },
  {
   "cell_type": "markdown",
   "metadata": {},
   "source": [
    "# Average to create meanbrain round 1"
   ]
  },
  {
   "cell_type": "code",
   "execution_count": 16,
   "metadata": {},
   "outputs": [
    {
     "name": "stdout",
     "output_type": "stream",
     "text": [
      "Shape: (18, 532, 512, 251)\n"
     ]
    }
   ],
   "source": [
    "brain_array = []\n",
    "for brain in anatomy:\n",
    "    brain_array.append(anatomy[brain].numpy())\n",
    "brain_array = np.asarray(brain_array)\n",
    "print('Shape: {}'.format(brain_array.shape))\n",
    "meanbrain = np.mean(brain_array,axis=0)"
   ]
  },
  {
   "cell_type": "code",
   "execution_count": 21,
   "metadata": {},
   "outputs": [],
   "source": [
    "meanbrain_ants = ants.from_numpy(meanbrain)\n",
    "meanbrain_ants.set_spacing((0.768, 0.768, 1.0))"
   ]
  },
  {
   "cell_type": "code",
   "execution_count": 24,
   "metadata": {},
   "outputs": [],
   "source": [
    "file = os.path.join(root_directory,'ants_round_1','meanbrain_1.nii')\n",
    "ants.image_write(meanbrain_ants, file)"
   ]
  },
  {
   "cell_type": "markdown",
   "metadata": {},
   "source": [
    "# Do same for cmtk warps"
   ]
  },
  {
   "cell_type": "code",
   "execution_count": 29,
   "metadata": {},
   "outputs": [
    {
     "name": "stdout",
     "output_type": "stream",
     "text": [
      "f63a1_2_affinemean.nii.gz\n",
      "f56a2_2_affinemean.nii.gz\n",
      "f48a0_2_affinemean.nii.gz\n",
      "f25a0_2_affinemean.nii.gz\n",
      "f22a0_2_affinemean.nii.gz\n",
      "f48a0m_2_affinemean.nii.gz\n",
      "f22a0m_2_affinemean.nii.gz\n",
      "f57a1m_2_affinemean.nii.gz\n",
      "f68a1m_2_affinemean.nii.gz\n",
      "f56a2m_2_affinemean.nii.gz\n",
      "f68a1_2_affinemean.nii.gz\n",
      "f57a1_2_affinemean.nii.gz\n",
      "f58a0m_2_affinemean.nii.gz\n",
      "f58a0_2_affinemean.nii.gz\n",
      "f24a0_2_affinemean.nii.gz\n",
      "f24a0m_2_affinemean.nii.gz\n",
      "f63a1m_2_affinemean.nii.gz\n",
      "f25a0m_2_affinemean.nii.gz\n"
     ]
    }
   ],
   "source": [
    "to_load = os.listdir(os.path.join(root_directory,'cmtk1'))\n",
    "to_load = [i for i in to_load if '.nii' in i]\n",
    "anatomy = {}\n",
    "for brain in to_load:\n",
    "    print(brain)\n",
    "    file = os.path.join(root_directory,'cmtk1',brain)\n",
    "    anatomy[brain] = ants.image_read(file)"
   ]
  },
  {
   "cell_type": "code",
   "execution_count": 31,
   "metadata": {},
   "outputs": [
    {
     "name": "stdout",
     "output_type": "stream",
     "text": [
      "Shape: (18, 532, 512, 251)\n"
     ]
    }
   ],
   "source": [
    "brain_array = []\n",
    "for brain in anatomy:\n",
    "    brain_array.append(anatomy[brain].numpy())\n",
    "brain_array = np.asarray(brain_array)\n",
    "print('Shape: {}'.format(brain_array.shape))\n",
    "meanbrain = np.mean(brain_array,axis=0)\n",
    "\n",
    "meanbrain_ants = ants.from_numpy(meanbrain)\n",
    "meanbrain_ants.set_spacing((0.768, 0.768, 1.0))\n",
    "\n",
    "file = os.path.join(root_directory,'cmtk1','meanbrain1.nii')\n",
    "ants.image_write(meanbrain_ants, file)"
   ]
  },
  {
   "cell_type": "markdown",
   "metadata": {},
   "source": [
    "# ok great. Now lets try to automatically iterate this process for ants"
   ]
  },
  {
   "cell_type": "code",
   "execution_count": 32,
   "metadata": {
    "collapsed": true
   },
   "outputs": [
    {
     "name": "stdout",
     "output_type": "stream",
     "text": [
      "f56a2.nii\n",
      "f48a0m.nii\n",
      "f63a1m.nii\n",
      "f68a1m.nii\n",
      "f22a0m.nii\n",
      "f56a2m.nii\n",
      "f58a0.nii\n",
      "f25a0.nii\n",
      "f24a0.nii\n",
      "f57a1m.nii\n",
      "f58a0m.nii\n",
      "f63a1.nii\n",
      "f24a0m.nii\n",
      "f22a0.nii\n",
      "f57a1.nii\n",
      "f25a0m.nii\n",
      "f48a0.nii\n",
      "f68a1.nii\n"
     ]
    }
   ],
   "source": [
    "# load original anatomys (once)\n",
    "to_load = os.listdir(root_directory)\n",
    "to_load = [i for i in to_load if 'affine' not in i and '.nii' in i]\n",
    "anatomy_original = {}\n",
    "for brain in to_load:\n",
    "    print(brain)\n",
    "    file = os.path.join(root_directory,brain)\n",
    "    anatomy_original[brain] = ants.image_read(file)"
   ]
  },
  {
   "cell_type": "code",
   "execution_count": null,
   "metadata": {
    "collapsed": true
   },
   "outputs": [],
   "source": [
    "NUM_ITERS = 4\n",
    "CURRENT_ITER = 1\n",
    "\n",
    "while CURRENT_ITER <= NUM_ITERS:\n",
    "    # load last meanbrain\n",
    "    meanbrain_file = os.path.join(root_directory,\n",
    "                                  'ants_round_{}'.format(CURRENT_ITER),\n",
    "                                  'meanbrain_{}'.format(CURRENT_ITER))\n",
    "    meanbrain_warp_to = ants.image_read(meanbrain_file)\n",
    "\n",
    "    # create next round folder\n",
    "    CURRENT_ITER += 1\n",
    "    CURRENT_WARP_FOLDER = os.path.join(root_directory, 'ants_round_{}'.format(CURRENT_ITER))\n",
    "    os.mkdir(CURRENT_WARP_FOLDER)\n",
    "\n",
    "    # warp all to last made mean and save to folder\n",
    "    new_warps = []\n",
    "    for anat in anatomy_original:\n",
    "        print(anat)\n",
    "        out = ants.registration(fixed=meanbrain_warp_to,\n",
    "                                moving=anatomy_original[anat],\n",
    "                                type_of_transform='SyN')\n",
    "\n",
    "        print('COMPLETE. Duration: {:0.0f} sec'.format(time.time()-t0))\n",
    "        save_file = os.path.join(root_directory, CURRENT_WARP_FOLDER, '{}.nii'.format(anat))\n",
    "        ants.image_write(out['warpedmovout'], save_file)\n",
    "        new_warps.append(out['warpedmovout'].numpy())\n",
    "\n",
    "    # average these and save mean to folder\n",
    "    new_warps = np.asarray(new_warps)\n",
    "    print('Shape: {}'.format(new_warps.shape))\n",
    "    meanbrain_new = np.mean(new_warps,axis=0)\n",
    "\n",
    "    meanbrain_new = ants.from_numpy(meanbrain_new)\n",
    "    meanbrain_new.set_spacing((0.768, 0.768, 1.0))\n",
    "    file = os.path.join(root_directory,\n",
    "                        'ants_round_{}'.format(CURRENT_ITER),\n",
    "                        'meanbrain_{}'.format(CURRENT_ITER))\n",
    "    ants.image_write(meanbrain_new, file)"
   ]
  }
 ],
 "metadata": {
  "kernelspec": {
   "display_name": "Python 3",
   "language": "python",
   "name": "python3"
  },
  "language_info": {
   "codemirror_mode": {
    "name": "ipython",
    "version": 3
   },
   "file_extension": ".py",
   "mimetype": "text/x-python",
   "name": "python",
   "nbconvert_exporter": "python",
   "pygments_lexer": "ipython3",
   "version": "3.6.1"
  }
 },
 "nbformat": 4,
 "nbformat_minor": 2
}
