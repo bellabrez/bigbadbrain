{
 "cells": [
  {
   "cell_type": "code",
   "execution_count": 1,
   "metadata": {
    "collapsed": true
   },
   "outputs": [],
   "source": [
    "import numpy as np\n",
    "from time import time\n",
    "import os\n",
    "import sys\n",
    "import scipy\n",
    "import matplotlib.pyplot as plt\n",
    "from scipy.interpolate import interp1d\n",
    "import pandas as pd\n",
    "import psutil\n",
    "from tqdm import tqdm\n",
    "sys.path.insert(0, '/home/users/brezovec/.local/lib/python3.6/site-packages/lib/python/')\n",
    "import ants\n",
    "import bigbadbrain as bbb\n",
    "from scipy.linalg import toeplitz\n",
    "import scipy.linalg as sl\n",
    "from scipy.signal import convolve2d\n",
    "from scipy.signal import convolve\n",
    "from sklearn.linear_model import LassoLarsIC\n",
    "from sklearn.linear_model import LinearRegression\n",
    "from sklearn.decomposition import PCA\n",
    "from sklearn.linear_model import RidgeCV\n",
    "from sklearn.linear_model import LassoCV\n",
    "%matplotlib inline"
   ]
  },
  {
   "cell_type": "code",
   "execution_count": 2,
   "metadata": {
    "collapsed": true
   },
   "outputs": [],
   "source": [
    "directory = '/oak/stanford/groups/trc/data/Brezovec/2P_Imaging/20190101_walking_dataset/fly_25/func_0'"
   ]
  },
  {
   "cell_type": "code",
   "execution_count": 3,
   "metadata": {},
   "outputs": [
    {
     "name": "stdout",
     "output_type": "stream",
     "text": [
      "\n",
      "~~ load_timestamps ~~\n",
      "Trying to load timestamp data from hdf5 file.\n",
      "Success.\n",
      "load_timestamps done. Duration: 1.17 sec\n",
      "\n",
      "~~ load_fictrac ~~\n",
      "load_fictrac done. Duration: 3.81 sec\n",
      "\n",
      "~~ load_numpy_brain ~~\n",
      "load_numpy_brain done. Duration: 22.55 sec\n"
     ]
    }
   ],
   "source": [
    "timestamps = bbb.load_timestamps(os.path.join(directory, 'imaging'))\n",
    "fictrac = bbb.load_fictrac(os.path.join(directory, 'fictrac'))\n",
    "brain_path = os.path.join(directory, 'brain_zscored_green.nii')\n",
    "brain = bbb.load_numpy_brain(brain_path)"
   ]
  },
  {
   "cell_type": "code",
   "execution_count": null,
   "metadata": {
    "collapsed": true
   },
   "outputs": [],
   "source": [
    "# Step through each behavior time window for a single column\n",
    "# No.\n",
    "# Make a vector of 0s, with 1s where the voxel activity should be inserted\n",
    "# The vector is the length of the behavior and desired temporal resolution\n",
    "# Put a 1 where a voxel reading will exist\n",
    "# Insert voxel activities\n",
    "# repeat for next slice"
   ]
  },
  {
   "cell_type": "code",
   "execution_count": null,
   "metadata": {
    "collapsed": true
   },
   "outputs": [],
   "source": [
    "def interp_fictrac(fictrac, fps, resolution, expt_len):\n",
    "    behavior = 'dRotLabY'\n",
    "    sigma = 3\n",
    "    camera_rate = 1/fps * 1000 # camera frame rate in ms\n",
    "    \n",
    "    x_original = np.arange(0,expt_len,camera_rate)\n",
    "    fictrac_smoothed = scipy.ndimage.filters.gaussian_filter(np.asarray(fictrac[behavior]),sigma=sigma)\n",
    "    fictrac_smoothed = np.abs(fictrac_smoothed)\n",
    "    fictrac_interp_temp = interp1d(x_original, fictrac_smoothed, bounds_error = False)\n",
    "    xnew = np.arange(0,expt_len,resolution) #0 to last time at subsample res\n",
    "    fictrac_interp = fictrac_interp_temp(xnew)\n",
    "\n",
    "    # Replace Nans with zeros (for later code)\n",
    "    np.nan_to_num(fictrac_interp, copy=False);\n",
    "    \n",
    "    return fictrac_interp"
   ]
  },
  {
   "cell_type": "code",
   "execution_count": null,
   "metadata": {
    "collapsed": true
   },
   "outputs": [],
   "source": [
    "def calc_event_triggered_delays(numpy_brain,\n",
    "                                movement_times,\n",
    "                                timestamps,\n",
    "                                search_before=2000,\n",
    "                                search_after=2000):\n",
    "    \n",
    "    useful_frames = []\n",
    "\n",
    "    # For each behavior timepoint, find brain slices that occur near in time\n",
    "    for i, movement_time in enumerate(movement_times):\n",
    "        print('{} of {}. '.format(i+1, len(movement_times)), end='')\n",
    "        # Define what time range to look across\n",
    "        search_start = movement_time - search_before\n",
    "        search_end = movement_time + search_after\n",
    "\n",
    "        # Look at each z-slice\n",
    "        for z in range(len(numpy_brain[0,0,:,0])):\n",
    "\n",
    "            # Get times of the current slice\n",
    "            slice_times = timestamps[:,z]\n",
    "\n",
    "            # Find slices near current movement time\n",
    "            for f, slice_time in enumerate(slice_times):\n",
    "                if search_start <= slice_time <= search_end:\n",
    "\n",
    "                    # Calculate delay\n",
    "                    delay = slice_time - movement_time\n",
    "\n",
    "                    # Save the index of the found slice, along with it's delay relative to movement\n",
    "                    useful_frames.append({'slice': z, 'frame': f, 'delay': delay})\n",
    "    return useful_frames"
   ]
  },
  {
   "cell_type": "code",
   "execution_count": null,
   "metadata": {
    "collapsed": true
   },
   "outputs": [],
   "source": [
    "def slice_moving_avg(voxel_slices, delays, start=-4000, stop=4000, step=100):\n",
    "    \n",
    "    means = []\n",
    "    centers = []\n",
    "    \n",
    "    for window in range(int((stop - start) / step)):\n",
    "        \n",
    "        window_start = start + window * step\n",
    "        window_end = window_start + step\n",
    "\n",
    "        above = np.asarray([delay > window_start for delay in delays])\n",
    "        below = np.asarray([delay < window_end for delay in delays])\n",
    "        indicies = np.where(above & below)[0]\n",
    "        \n",
    "        values = [voxel_slices[index,:,:] for index in indicies]\n",
    "        mean = np.mean(values, axis = 0)\n",
    "        means.append(mean)\n",
    "        \n",
    "    return means"
   ]
  },
  {
   "cell_type": "code",
   "execution_count": null,
   "metadata": {
    "collapsed": true
   },
   "outputs": [],
   "source": [
    "def single_moving_avg(voxels, delays, start=-2000, stop=2000, step=100):\n",
    "    means = []\n",
    "    centers = []\n",
    "    for window in range(int((stop - start) / step)):\n",
    "        window_start = start + window * step\n",
    "        window_end = window_start + step\n",
    "        center = window_start + (step / 2)\n",
    "        centers.append(center)\n",
    "        above = np.asarray([delay > window_start for delay in delays])\n",
    "        below = np.asarray([delay < window_end for delay in delays])\n",
    "        indicies = np.where(above & below)[0]\n",
    "        mean = np.mean([voxels[index] for index in indicies])\n",
    "        means.append(mean)\n",
    "    return means, centers"
   ]
  }
 ],
 "metadata": {
  "kernelspec": {
   "display_name": "Python 3",
   "language": "python",
   "name": "python3"
  },
  "language_info": {
   "codemirror_mode": {
    "name": "ipython",
    "version": 3
   },
   "file_extension": ".py",
   "mimetype": "text/x-python",
   "name": "python",
   "nbconvert_exporter": "python",
   "pygments_lexer": "ipython3",
   "version": "3.6.1"
  }
 },
 "nbformat": 4,
 "nbformat_minor": 2
}
