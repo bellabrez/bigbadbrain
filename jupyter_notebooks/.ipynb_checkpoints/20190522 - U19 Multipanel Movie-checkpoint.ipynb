{
 "cells": [
  {
   "cell_type": "code",
   "execution_count": 1,
   "metadata": {
    "collapsed": true
   },
   "outputs": [],
   "source": [
    "import numpy as np\n",
    "from time import time\n",
    "import os\n",
    "import sys\n",
    "import scipy\n",
    "import matplotlib.pyplot as plt\n",
    "from matplotlib.colors import Normalize\n",
    "from scipy.interpolate import interp1d\n",
    "import pandas as pd\n",
    "import psutil\n",
    "sys.path.insert(0, '/home/users/brezovec/.local/lib/python3.6/site-packages/lib/python/')\n",
    "import ants\n",
    "import bigbadbrain as bbb\n",
    "import sklearn"
   ]
  },
  {
   "cell_type": "code",
   "execution_count": 2,
   "metadata": {},
   "outputs": [
    {
     "name": "stdout",
     "output_type": "stream",
     "text": [
      "\n",
      "~~ load_numpy_brain ~~\n",
      "load_numpy_brain done. Duration: 534.51 ms\n",
      "\n",
      "~~ load_numpy_brain ~~\n",
      "load_numpy_brain done. Duration: 550.90 ms\n"
     ]
    }
   ],
   "source": [
    "### Load Brains ###\n",
    "\n",
    "path = '/oak/stanford/groups/trc/data/Brezovec/2P_Imaging/20190101_walking_dataset/fly_25/'\n",
    "brain_anatomy_file = 'anatomy.nii'\n",
    "brain_glm_file = 'alignment/glm2anat_round2.nii'\n",
    "\n",
    "brain_anatomy = bbb.load_numpy_brain(os.path.join(path, brain_anatomy_file))\n",
    "brain_glm = bbb.load_numpy_brain(os.path.join(path, brain_glm_file))"
   ]
  },
  {
   "cell_type": "code",
   "execution_count": null,
   "metadata": {
    "collapsed": true
   },
   "outputs": [],
   "source": [
    "fig = plt.figure(figsize=(15,10))\n",
    "save_path = '/oak/stanford/groups/trc/data/Brezovec/2P_Imaging/20190101_walking_dataset/fly_25/movie'\n",
    "\n",
    "for i in range(137, brain_anatomy.shape[-1]):\n",
    "#for i in [148]:\n",
    "    plt.subplot(131)\n",
    "    plt.axis('off')\n",
    "    plt.imshow(np.swapaxes(brain_anatomy[:,:,i],0,1),cmap='gray')\n",
    "\n",
    "    plt.subplot(132)\n",
    "    plt.axis('off')\n",
    "    plt.imshow(brain_glm[:,:,i],cmap='hot',vmax=0.07)\n",
    "\n",
    "    plt.subplot(133)\n",
    "    plt.axis('off')\n",
    "    plt.imshow(np.swapaxes(brain_anatomy[:,:,i],0,1),cmap='gray')\n",
    "\n",
    "    # Create an alpha channel based on weight values\n",
    "    # Any value whose absolute value is > value will have zero transparency\n",
    "    important_number = .03 # This value really changes how alpha channel overlay looks\n",
    "    alphas = Normalize(0, important_number, clip=True)(brain_glm)\n",
    "    alphas = np.clip(alphas, 0, 1)  # alpha value clipped at the bottom\n",
    "\n",
    "    # Normalize the colors b/w 0 and 1, we'll then pass an MxNx4 array to imshow\n",
    "    colors = Normalize(0, 0.07)(brain_glm)\n",
    "    cmap = plt.cm.hot\n",
    "    colors = cmap(colors)\n",
    "\n",
    "    # Now set the alpha channel to the one we created above\n",
    "    colors[..., -1] = alphas\n",
    "    plt.imshow(colors[:,:,i],alpha=1)\n",
    "\n",
    "    plt.subplots_adjust(wspace=0, hspace=0)\n",
    "    \n",
    "    fname = os.path.join(save_path, '{0:05d}.png'.format(i))\n",
    "    #plt.show()\n",
    "    plt.savefig(fname,dpi=300,bbox_inches='tight')"
   ]
  },
  {
   "cell_type": "code",
   "execution_count": 90,
   "metadata": {},
   "outputs": [
    {
     "name": "stdout",
     "output_type": "stream",
     "text": [
      "\n",
      "~~ load_numpy_brain ~~\n",
      "load_numpy_brain done. Duration: 6.67 ms\n"
     ]
    }
   ],
   "source": [
    "path = '/oak/stanford/groups/trc/data/Brezovec/2P_Imaging/20190101_walking_dataset/fly_25/'\n",
    "brain_central_glm_file = 'glm/multivariate_analysis_green_my_speedabs.nii'\n",
    "brain_central_glm = bbb.load_numpy_brain(os.path.join(path, brain_central_glm_file))"
   ]
  },
  {
   "cell_type": "code",
   "execution_count": null,
   "metadata": {
    "collapsed": true
   },
   "outputs": [],
   "source": [
    "brain_central_glm"
   ]
  }
 ],
 "metadata": {
  "kernelspec": {
   "display_name": "Python 3",
   "language": "python",
   "name": "python3"
  },
  "language_info": {
   "codemirror_mode": {
    "name": "ipython",
    "version": 3
   },
   "file_extension": ".py",
   "mimetype": "text/x-python",
   "name": "python",
   "nbconvert_exporter": "python",
   "pygments_lexer": "ipython3",
   "version": "3.6.1"
  }
 },
 "nbformat": 4,
 "nbformat_minor": 2
}
