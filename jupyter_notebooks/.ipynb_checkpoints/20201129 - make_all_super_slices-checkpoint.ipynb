{
 "cells": [
  {
   "cell_type": "code",
   "execution_count": 1,
   "metadata": {
    "collapsed": true
   },
   "outputs": [],
   "source": [
    "import sys\n",
    "sys.path.insert(0, '/home/users/brezovec/.local/lib/python3.6/site-packages/lib/python/')\n",
    "import ants\n",
    "import os\n",
    "import bigbadbrain as bbb\n",
    "import numpy as np\n",
    "import matplotlib.pyplot as plt\n",
    "import time\n",
    "import scipy\n",
    "from scipy.ndimage.filters import gaussian_filter\n",
    "from scipy.signal import savgol_filter\n",
    "from scipy.interpolate import interp1d\n",
    "\n",
    "from skimage.filters import threshold_triangle\n",
    "sys.path.insert(0, '/home/users/brezovec/.local/lib/python3.6/site-packages')\n",
    "import os\n",
    "import statsmodels.api as sm\n",
    "import cv2\n",
    "import matplotlib.patches as mpatches\n",
    "import psutil\n",
    "from mpl_toolkits.axes_grid1 import ImageGrid\n",
    "from matplotlib.colors import Normalize\n",
    "\n",
    "\n",
    "%matplotlib inline\n",
    "plt.rcParams.update({'font.size': 20})\n",
    "\n",
    "from sklearn.feature_extraction.image import grid_to_graph\n",
    "from mpl_toolkits.axes_grid1 import ImageGrid\n",
    "import json\n",
    "from matplotlib.ticker import FuncFormatter\n",
    "\n",
    "import nibabel as nib\n",
    "\n",
    "from sklearn.cluster import AgglomerativeClustering\n",
    "from scipy.cluster.hierarchy import dendrogram\n",
    "import itertools\n",
    "import random\n",
    "from scipy.cluster import hierarchy\n",
    "import matplotlib as mpl\n",
    "from matplotlib.pyplot import cm"
   ]
  },
  {
   "cell_type": "code",
   "execution_count": 2,
   "metadata": {
    "collapsed": true
   },
   "outputs": [],
   "source": [
    "dataset_path = \"/oak/stanford/groups/trc/data/Brezovec/2P_Imaging/20190101_walking_dataset\""
   ]
  },
  {
   "cell_type": "code",
   "execution_count": 3,
   "metadata": {
    "collapsed": true
   },
   "outputs": [],
   "source": [
    "flies = ['fly_087', 'fly_089', 'fly_094', 'fly_095', 'fly_097', 'fly_098', 'fly_099', 'fly_100', 'fly_101', 'fly_105']"
   ]
  },
  {
   "cell_type": "code",
   "execution_count": 4,
   "metadata": {
    "collapsed": true
   },
   "outputs": [],
   "source": [
    "save_path = \"/oak/stanford/groups/trc/data/Brezovec/2P_Imaging/20201129_super_slices/red\""
   ]
  },
  {
   "cell_type": "code",
   "execution_count": null,
   "metadata": {
    "collapsed": true
   },
   "outputs": [],
   "source": [
    "49/256"
   ]
  },
  {
   "cell_type": "code",
   "execution_count": null,
   "metadata": {
    "collapsed": true
   },
   "outputs": [],
   "source": [
    "z=9,28,22"
   ]
  },
  {
   "cell_type": "code",
   "execution_count": 8,
   "metadata": {
    "collapsed": true
   },
   "outputs": [],
   "source": [
    "complete = [28,9,22,26,30,8,10,24,32,0,1,2]"
   ]
  },
  {
   "cell_type": "code",
   "execution_count": 9,
   "metadata": {
    "collapsed": true
   },
   "outputs": [],
   "source": [
    "todo = [i for i in range(49) if i not in complete]"
   ]
  },
  {
   "cell_type": "code",
   "execution_count": null,
   "metadata": {},
   "outputs": [
    {
     "name": "stdout",
     "output_type": "stream",
     "text": [
      "Z: 0\n",
      "37.61543011665344\n",
      "44.6243097782135\n",
      "50.32638740539551\n",
      "49.576746702194214\n",
      "35.42644762992859\n",
      "40.08100724220276\n",
      "42.200122117996216\n",
      "35.74369287490845\n",
      "50.2086660861969\n",
      "34.83620834350586\n",
      "Z: 1\n",
      "36.689778089523315\n",
      "35.511120319366455\n",
      "32.72915196418762\n",
      "67.47011256217957\n",
      "32.89631009101868\n",
      "36.488120317459106\n",
      "42.190282583236694\n",
      "70.13412070274353\n",
      "34.46817398071289\n",
      "34.168216943740845\n",
      "Z: 2\n",
      "45.668896436691284\n",
      "47.07069444656372\n",
      "30.714838981628418\n",
      "32.205321073532104\n",
      "32.22354030609131\n",
      "38.89030361175537\n",
      "47.086761236190796\n",
      "35.920042753219604\n",
      "32.041247606277466\n",
      "38.080183267593384\n",
      "Z: 3\n",
      "37.30817890167236\n",
      "35.10503530502319\n",
      "36.78037214279175\n",
      "44.754831314086914\n",
      "32.47293210029602\n",
      "32.526615858078\n",
      "34.3427574634552\n",
      "66.27788615226746\n",
      "32.128244161605835\n",
      "32.682024002075195\n",
      "Z: 4\n",
      "39.666948080062866\n",
      "36.123403549194336\n",
      "32.75873374938965\n",
      "41.71748447418213\n",
      "33.369574308395386\n",
      "42.77526235580444\n",
      "38.189141511917114\n",
      "36.418412923812866\n",
      "32.291481733322144\n",
      "32.45213460922241\n",
      "Z: 5\n",
      "47.136252880096436\n",
      "34.08636474609375\n",
      "32.38883900642395\n",
      "32.23384428024292\n",
      "32.1624755859375\n",
      "35.2957489490509\n",
      "33.89972543716431\n",
      "42.850909948349\n",
      "65.96044278144836\n",
      "33.50132870674133\n",
      "Z: 6\n",
      "48.308825969696045\n",
      "32.6890652179718\n",
      "33.62408709526062\n",
      "33.84083437919617\n",
      "38.019307136535645\n",
      "32.84090805053711\n",
      "32.653377056121826\n",
      "33.58692264556885\n",
      "33.745431423187256\n",
      "39.08665418624878\n",
      "Z: 7\n",
      "36.30215811729431\n",
      "43.211305379867554\n",
      "41.317747354507446\n",
      "33.0308039188385\n",
      "33.12469720840454\n",
      "44.36175990104675\n",
      "33.78430533409119\n",
      "32.9576473236084\n",
      "31.846182107925415\n",
      "32.01997947692871\n",
      "Z: 8\n"
     ]
    }
   ],
   "source": [
    "for z in range(49):\n",
    "    print(f'Z: {z}')\n",
    "    superslice = np.zeros((256,128,3384,10))\n",
    "    for i, fly in enumerate(flies):\n",
    "        file = os.path.join(dataset_path, fly, 'func_0', 'brain_zscored_red_high_pass_masked_warped.nii')\n",
    "        t0=time.time()\n",
    "        superslice[:,:,:,i] = np.array(nib.load(file).get_data(), copy=True)[:,:,z,:]\n",
    "        print(time.time()-t0)\n",
    "    nib.Nifti1Image(superslice, np.eye(4)).to_filename(os.path.join(save_path, f'superslice_{z}.nii'))"
   ]
  },
  {
   "cell_type": "code",
   "execution_count": null,
   "metadata": {
    "collapsed": true
   },
   "outputs": [],
   "source": []
  }
 ],
 "metadata": {
  "kernelspec": {
   "display_name": "Python 3",
   "language": "python",
   "name": "python3"
  },
  "language_info": {
   "codemirror_mode": {
    "name": "ipython",
    "version": 3
   },
   "file_extension": ".py",
   "mimetype": "text/x-python",
   "name": "python",
   "nbconvert_exporter": "python",
   "pygments_lexer": "ipython3",
   "version": "3.6.1"
  }
 },
 "nbformat": 4,
 "nbformat_minor": 2
}
