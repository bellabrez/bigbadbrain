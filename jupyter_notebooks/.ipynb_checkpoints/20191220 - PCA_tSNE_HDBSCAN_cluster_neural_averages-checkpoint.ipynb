{
 "cells": [
  {
   "cell_type": "code",
   "execution_count": 1,
   "metadata": {
    "collapsed": true
   },
   "outputs": [],
   "source": [
    "import numpy as np\n",
    "import time\n",
    "import os\n",
    "import sys\n",
    "import scipy\n",
    "import math\n",
    "import matplotlib.pyplot as plt\n",
    "from matplotlib.colors import Normalize\n",
    "from scipy.interpolate import interp1d\n",
    "import pandas as pd\n",
    "import psutil\n",
    "import json\n",
    "from tqdm import tqdm\n",
    "sys.path.insert(0, '/home/users/brezovec/.local/lib/python3.6/site-packages/lib/python/')\n",
    "import ants\n",
    "import bigbadbrain as bbb\n",
    "from scipy.linalg import toeplitz\n",
    "import scipy.linalg as sl\n",
    "from scipy.signal import convolve2d\n",
    "from scipy.signal import convolve\n",
    "import sklearn\n",
    "from sklearn.linear_model import LassoLarsIC\n",
    "from sklearn.linear_model import LinearRegression\n",
    "from sklearn.decomposition import PCA\n",
    "from sklearn.linear_model import RidgeCV\n",
    "from sklearn.linear_model import LassoCV\n",
    "from sklearn.model_selection import KFold\n",
    "from sklearn.feature_selection import RFE\n",
    "from sklearn import linear_model\n",
    "\n",
    "#from skimage.filters import threshold_triangle\n",
    "sys.path.insert(0, '/home/users/brezovec/.local/lib/python3.6/site-packages')\n",
    "#import cv2\n",
    "import os\n",
    "import statsmodels.api as sm\n",
    "\n",
    "from matplotlib.animation import FuncAnimation\n",
    "from matplotlib import animation, rc\n",
    "from IPython.display import HTML\n",
    "\n",
    "%matplotlib inline"
   ]
  },
  {
   "cell_type": "code",
   "execution_count": 3,
   "metadata": {
    "collapsed": true
   },
   "outputs": [],
   "source": [
    "directory = '/oak/stanford/groups/trc/data/Brezovec/2P_Imaging/20190101_walking_dataset/fly_19/func_0'"
   ]
  },
  {
   "cell_type": "markdown",
   "metadata": {},
   "source": [
    "# Load fictrac and timestamps"
   ]
  },
  {
   "cell_type": "code",
   "execution_count": 4,
   "metadata": {
    "scrolled": true
   },
   "outputs": [
    {
     "name": "stdout",
     "output_type": "stream",
     "text": [
      "\n",
      "~~ load_timestamps ~~\n",
      "Trying to load timestamp data from hdf5 file.\n",
      "Success.\n",
      "load_timestamps done. Duration: 4.73 ms\n",
      "\n",
      "~~ load_fictrac ~~\n",
      "load_fictrac done. Duration: 3.10 sec\n"
     ]
    }
   ],
   "source": [
    "timestamps = bbb.load_timestamps(os.path.join(directory, 'imaging'))\n",
    "fictrac = bbb.load_fictrac(os.path.join(directory, 'fictrac'))"
   ]
  },
  {
   "cell_type": "markdown",
   "metadata": {},
   "source": [
    "# Load tSNE"
   ]
  },
  {
   "cell_type": "code",
   "execution_count": 5,
   "metadata": {
    "collapsed": true
   },
   "outputs": [],
   "source": [
    "file = os.path.join(directory, 'tsne', '20191114-165446.npy')\n",
    "with open(file) as json_file:\n",
    "    tsne = json.load(json_file)\n",
    "tsne_x = [pair[0] for pair in tsne]\n",
    "tsne_y = [pair[1] for pair in tsne]"
   ]
  },
  {
   "cell_type": "markdown",
   "metadata": {},
   "source": [
    "# Load neural data"
   ]
  },
  {
   "cell_type": "code",
   "execution_count": 6,
   "metadata": {},
   "outputs": [
    {
     "name": "stdout",
     "output_type": "stream",
     "text": [
      "\n",
      "~~ load_numpy_brain ~~\n",
      "load_numpy_brain done. Duration: 12.87 sec\n"
     ]
    }
   ],
   "source": [
    "brain = bbb.load_numpy_brain(os.path.join(directory, 'brain_zscored_green.nii'))"
   ]
  },
  {
   "cell_type": "code",
   "execution_count": 7,
   "metadata": {
    "collapsed": true
   },
   "outputs": [],
   "source": [
    "import hdbscan\n",
    "from random import randint\n",
    "colors = []\n",
    "\n",
    "for i in range(100):\n",
    "    colors.append('#%06X' % randint(0, 0xFFFFFF))"
   ]
  },
  {
   "cell_type": "code",
   "execution_count": 9,
   "metadata": {
    "collapsed": true
   },
   "outputs": [],
   "source": [
    "X=np.vstack((tsne_x,tsne_y)).T"
   ]
  },
  {
   "cell_type": "code",
   "execution_count": 10,
   "metadata": {
    "collapsed": true
   },
   "outputs": [],
   "source": [
    "def plotit(min_cluster_size=20,min_samples=10,cluster_selection_epsilon=1.5):\n",
    "    n_clusters = [100]\n",
    "    agglom = {}\n",
    "    for n_cluster in n_clusters:\n",
    "        t0 = time.time()\n",
    "        agglom[n_cluster] = hdbscan.HDBSCAN(min_cluster_size=min_cluster_size,\n",
    "                                            min_samples=min_samples,\n",
    "                                            cluster_selection_epsilon=cluster_selection_epsilon,\n",
    "                                            cluster_selection_method='leaf').fit(X)\n",
    "        print('Duration: {:0.0f}s'.format(time.time()-t0))\n",
    "\n",
    "    plt.figure(figsize=(10,20))\n",
    "    #colors = ['xkcd:aqua blue', 'xkcd:fuchsia', 'xkcd:seafoam',\n",
    "    #          'xkcd:light orange', 'xkcd:goldenrod', 'xkcd:scarlet',\n",
    "    #          'xkcd:rose pink', 'xkcd:orchid', 'xkcd:charcoal',\n",
    "    #          'xkcd:emerald']\n",
    "    #colors = \n",
    "    for w,j in enumerate(n_clusters):\n",
    "        ax = plt.subplot()\n",
    "        for i in range(len(X[:,0])):\n",
    "            #print('w:{} , j:{}, i: {}'.format(w,j,i))\n",
    "            ax.plot(X[i,0],\n",
    "                       X[i,1],\n",
    "                       linestyle='None',\n",
    "                       marker='o',\n",
    "                       color=colors[agglom[j].labels_[i]])\n",
    "            ax.axis('equal')\n",
    "            ax.axis('off')\n",
    "    plt.subplots_adjust(wspace=0,hspace=0)\n",
    "    timestr = time.strftime(\"%Y%m%d-%H%M%S\")\n",
    "    #fname = os.path.join(save_path, timestr + '_tsne70onrawpc_kmeansontsne.png'.format(i))\n",
    "    #plt.savefig(fname,dpi=300,bbox_inches='tight')"
   ]
  },
  {
   "cell_type": "code",
   "execution_count": null,
   "metadata": {},
   "outputs": [
    {
     "name": "stdout",
     "output_type": "stream",
     "text": [
      "Duration: 0s\n"
     ]
    }
   ],
   "source": [
    "plotit(min_cluster_size=10,min_samples=10,cluster_selection_epsilon=1.8) #BEST!"
   ]
  },
  {
   "cell_type": "code",
   "execution_count": null,
   "metadata": {
    "collapsed": true
   },
   "outputs": [],
   "source": []
  }
 ],
 "metadata": {
  "kernelspec": {
   "display_name": "Python 3",
   "language": "python",
   "name": "python3"
  },
  "language_info": {
   "codemirror_mode": {
    "name": "ipython",
    "version": 3
   },
   "file_extension": ".py",
   "mimetype": "text/x-python",
   "name": "python",
   "nbconvert_exporter": "python",
   "pygments_lexer": "ipython3",
   "version": "3.6.1"
  }
 },
 "nbformat": 4,
 "nbformat_minor": 2
}
