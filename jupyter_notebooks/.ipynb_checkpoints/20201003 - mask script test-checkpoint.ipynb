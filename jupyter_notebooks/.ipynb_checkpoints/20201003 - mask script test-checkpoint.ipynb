{
 "cells": [
  {
   "cell_type": "code",
   "execution_count": 1,
   "metadata": {
    "collapsed": true
   },
   "outputs": [],
   "source": [
    "import os\n",
    "import sys\n",
    "import numpy as np\n",
    "import argparse\n",
    "import subprocess\n",
    "import json\n",
    "import time\n",
    "import scipy\n",
    "from scipy import ndimage\n",
    "from scipy.ndimage import gaussian_filter1d\n",
    "\n",
    "import nibabel as nib\n",
    "import bigbadbrain as bbb\n",
    "import dataflow as flow\n",
    "\n",
    "from skimage.filters import threshold_triangle as tri_thresh\n",
    "from skimage.filters import threshold_yen as yen_thresh\n",
    "from skimage.filters import threshold_isodata as iso_thresh\n",
    "from skimage.filters import threshold_li as li_thresh"
   ]
  },
  {
   "cell_type": "code",
   "execution_count": 2,
   "metadata": {
    "collapsed": true
   },
   "outputs": [],
   "source": [
    "import matplotlib.pyplot as plt\n",
    "%matplotlib inline"
   ]
  },
  {
   "cell_type": "code",
   "execution_count": 3,
   "metadata": {
    "collapsed": true
   },
   "outputs": [],
   "source": [
    "directory = \"/oak/stanford/groups/trc/data/Brezovec/2P_Imaging/20190101_walking_dataset/fly_087/func_0\" # full fly func path\n",
    "file = \"brain_zscored_green_high_pass.nii\"\n",
    "\n",
    "brain_file = os.path.join(directory, file)\n",
    "\n",
    "### Load Brain ###\n",
    "brain = np.array(nib.load(brain_file).get_data(), copy=True)\n",
    "\n",
    "### Load brain to use as mask ###\n",
    "brain_file = os.path.join(directory, 'imaging', 'functional_channel_1_mean.nii')\n",
    "brain_mean = np.array(nib.load(brain_file).get_data(), copy=True)"
   ]
  },
  {
   "cell_type": "code",
   "execution_count": 4,
   "metadata": {
    "collapsed": true
   },
   "outputs": [],
   "source": [
    "# Custom auto-threshold finder; trained a linear model\n",
    "yen = yen_thresh(brain_mean,nbins=1000)\n",
    "tri = tri_thresh(brain_mean)\n",
    "iso = iso_thresh(brain_mean,nbins=1000)\n",
    "li = li_thresh(brain_mean)\n",
    "threshold = 0.00475597*tri + 0.01330587*yen + -0.04362137*iso + 0.1478071*li + 36.46\n",
    "brain_mean[np.where(brain_mean < threshold)] = 0"
   ]
  },
  {
   "cell_type": "code",
   "execution_count": 5,
   "metadata": {
    "collapsed": true
   },
   "outputs": [],
   "source": [
    "# Erode to remove extra-brain regions\n",
    "brain_mean = ndimage.binary_erosion(brain_mean, structure=np.ones((5,5,1)))\n",
    "\n",
    "# Find blobs not contiguous with largest blob\n",
    "labels, label_nb = scipy.ndimage.label(brain_mean)\n",
    "brain_label = np.bincount(labels.flatten())[1:].argmax()+1\n",
    "mask = np.ones(brain_mean.shape)\n",
    "mask[np.where(labels != brain_label)] = 0 # np.nan here failed with PCA"
   ]
  },
  {
   "cell_type": "code",
   "execution_count": 6,
   "metadata": {
    "collapsed": true
   },
   "outputs": [],
   "source": [
    "# Undo previous erosion\n",
    "mask = ndimage.binary_dilation(mask, structure=np.ones((5,5,1))).astype(int)"
   ]
  },
  {
   "cell_type": "code",
   "execution_count": 7,
   "metadata": {
    "collapsed": true
   },
   "outputs": [],
   "source": [
    "# Mask edges with zeros\n",
    "mask[:,(0,1,-1,-2),:] = 0\n",
    "mask[(0,1,-1,-2),:,:] = 0\n",
    "mask[:,:,(0,-1)] = 0"
   ]
  },
  {
   "cell_type": "code",
   "execution_count": 8,
   "metadata": {},
   "outputs": [],
   "source": [
    "### save mask ###\n",
    "brain_save_file = os.path.join(directory, 'mask.nii')\n",
    "nib.Nifti1Image(mask, np.eye(4)).to_filename(brain_save_file)"
   ]
  },
  {
   "cell_type": "code",
   "execution_count": 4,
   "metadata": {},
   "outputs": [
    {
     "data": {
      "text/plain": [
       "(256, 128, 49)"
      ]
     },
     "execution_count": 4,
     "metadata": {},
     "output_type": "execute_result"
    }
   ],
   "source": [
    "mask.shape"
   ]
  },
  {
   "cell_type": "code",
   "execution_count": 5,
   "metadata": {},
   "outputs": [
    {
     "data": {
      "text/plain": [
       "<matplotlib.image.AxesImage at 0x7f24f20ff198>"
      ]
     },
     "execution_count": 5,
     "metadata": {},
     "output_type": "execute_result"
    },
    {
     "data": {
      "image/png": "[encoded data removed]",
      "text/plain": [
       "<Figure size 720x720 with 1 Axes>"
      ]
     },
     "metadata": {},
     "output_type": "display_data"
    }
   ],
   "source": [
    "plt.figure(figsize=(10,10))\n",
    "plt.imshow(mask[:,:,20].T)"
   ]
  },
  {
   "cell_type": "code",
   "execution_count": 7,
   "metadata": {
    "collapsed": true
   },
   "outputs": [],
   "source": [
    "brain = brain*mask[:,:,:,None]"
   ]
  },
  {
   "cell_type": "code",
   "execution_count": 8,
   "metadata": {
    "collapsed": true
   },
   "outputs": [],
   "source": [
    "### Save Brain ###\n",
    "brain_save_file = os.path.join(directory, 'brain_zscored_green_high_pass_masked.nii')\n",
    "nib.Nifti1Image(brain, np.eye(4)).to_filename(brain_save_file)"
   ]
  },
  {
   "cell_type": "code",
   "execution_count": null,
   "metadata": {
    "collapsed": true
   },
   "outputs": [],
   "source": []
  }
 ],
 "metadata": {
  "kernelspec": {
   "display_name": "Python 3",
   "language": "python",
   "name": "python3"
  },
  "language_info": {
   "codemirror_mode": {
    "name": "ipython",
    "version": 3
   },
   "file_extension": ".py",
   "mimetype": "text/x-python",
   "name": "python",
   "nbconvert_exporter": "python",
   "pygments_lexer": "ipython3",
   "version": "3.6.1"
  }
 },
 "nbformat": 4,
 "nbformat_minor": 2
}
