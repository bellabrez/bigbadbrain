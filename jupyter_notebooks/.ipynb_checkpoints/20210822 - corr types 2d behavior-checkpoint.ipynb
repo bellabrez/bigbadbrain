{
 "cells": [
  {
   "cell_type": "code",
   "execution_count": 1,
   "metadata": {
    "collapsed": true
   },
   "outputs": [],
   "source": [
    "import sys\n",
    "sys.path.insert(0, '/home/users/brezovec/.local/lib/python3.6/site-packages/lib/python/')\n",
    "import ants\n",
    "import os\n",
    "import bigbadbrain as bbb\n",
    "import numpy as np\n",
    "import matplotlib.pyplot as plt\n",
    "import time\n",
    "import scipy\n",
    "from scipy.ndimage.filters import gaussian_filter\n",
    "from scipy.ndimage.filters import gaussian_filter1d\n",
    "from scipy.signal import savgol_filter\n",
    "from scipy.interpolate import interp1d\n",
    "\n",
    "from skimage.filters import threshold_triangle\n",
    "sys.path.insert(0, '/home/users/brezovec/.local/lib/python3.6/site-packages')\n",
    "import os\n",
    "import statsmodels.api as sm\n",
    "import cv2\n",
    "import matplotlib.patches as mpatches\n",
    "import psutil\n",
    "from mpl_toolkits.axes_grid1 import ImageGrid\n",
    "from matplotlib.colors import Normalize\n",
    "import matplotlib.colors as mcolors\n",
    "from matplotlib import colors\n",
    "\n",
    "%matplotlib inline\n",
    "plt.rcParams.update({'font.size': 20})\n",
    "\n",
    "from sklearn.feature_extraction.image import grid_to_graph\n",
    "from mpl_toolkits.axes_grid1 import ImageGrid\n",
    "import json\n",
    "from matplotlib.ticker import FuncFormatter\n",
    "\n",
    "import nibabel as nib\n",
    "\n",
    "from sklearn.cluster import AgglomerativeClustering\n",
    "from scipy.cluster.hierarchy import dendrogram\n",
    "from scipy.cluster.hierarchy import fcluster\n",
    "from scipy.cluster import hierarchy\n",
    "import itertools\n",
    "import random\n",
    "import matplotlib as mpl\n",
    "from matplotlib.pyplot import cm\n",
    "\n",
    "from scipy.interpolate import UnivariateSpline\n",
    "from sklearn.linear_model import LinearRegression\n",
    "import matplotlib.patches as patches\n",
    "\n",
    "from sklearn.linear_model import RidgeCV\n",
    "from sklearn.linear_model import LassoCV\n",
    "\n",
    "from scipy.fftpack import fft,fftshift,ifft\n",
    "from scipy import signal\n",
    "import pickle\n",
    "from random import random\n",
    "\n",
    "import colorsys\n",
    "from matplotlib.colors import LinearSegmentedColormap\n",
    "import matplotlib.patches as mpatches\n",
    "from matplotlib.collections import PatchCollection\n",
    "import matplotlib\n",
    "from numpy import inf\n",
    "from scipy.ndimage.morphology import binary_erosion\n",
    "from scipy.ndimage.morphology import binary_dilation"
   ]
  },
  {
   "cell_type": "code",
   "execution_count": 2,
   "metadata": {
    "collapsed": true
   },
   "outputs": [],
   "source": [
    "dataset_path = \"/oak/stanford/groups/trc/data/Brezovec/2P_Imaging/20210420_correlation/\""
   ]
  },
  {
   "cell_type": "code",
   "execution_count": 3,
   "metadata": {
    "collapsed": true
   },
   "outputs": [],
   "source": [
    "behaviors = ['Y_pos', 'Z_pos', 'Z_neg']\n",
    "maps = {}\n",
    "for behavior in behaviors:\n",
    "    rvalues_to_load = [os.path.join(dataset_path, x) for x in os.listdir(dataset_path) if 'rvalues_{}'.format(behavior) in x]\n",
    "    bbb.sort_nicely(rvalues_to_load)\n",
    "\n",
    "    pvalues_to_load = [os.path.join(dataset_path, x) for x in os.listdir(dataset_path) if 'pvalues_{}'.format(behavior) in x]\n",
    "    bbb.sort_nicely(pvalues_to_load)\n",
    "    \n",
    "    r_map = []\n",
    "    p_map = []\n",
    "    for z in range(49):\n",
    "        r_map.append(np.load(rvalues_to_load[z]))\n",
    "        p_map.append(np.load(pvalues_to_load[z]))\n",
    "\n",
    "    r_map = np.asarray(r_map)\n",
    "    p_map = np.asarray(p_map)\n",
    "    \n",
    "    r_map = np.reshape(r_map, (49,256,128))\n",
    "    p_map = np.reshape(p_map, (49,256,128))\n",
    "    \n",
    "    r_map[p_map >= 1e-8]=0\n",
    "    \n",
    "    maps[behavior] = r_map"
   ]
  },
  {
   "cell_type": "code",
   "execution_count": 4,
   "metadata": {},
   "outputs": [
    {
     "name": "stdout",
     "output_type": "stream",
     "text": [
      "(49, 128, 256, 3)\n"
     ]
    }
   ],
   "source": [
    "norm_min = 0\n",
    "norm_max = np.max(np.nan_to_num(maps['Y_pos']))\n",
    "norm_max = 1#0.1#0.15\n",
    "slices = []\n",
    "for z in range(49):\n",
    "    colors1 = Normalize(norm_min, norm_max)(maps['Z_neg'][z,:,:].T)\n",
    "    colors2 = Normalize(norm_min, norm_max)(maps['Z_pos'][z,:,:].T)\n",
    "    colors3 = Normalize(norm_min, norm_max)(maps['Y_pos'][z,:,:].T)\n",
    "    to_plot = np.stack((colors1,colors2,colors3),axis=2)\n",
    "    slices.append(to_plot)\n",
    "vol = np.asarray(slices)\n",
    "print(vol.shape)"
   ]
  },
  {
   "cell_type": "code",
   "execution_count": 5,
   "metadata": {},
   "outputs": [
    {
     "name": "stderr",
     "output_type": "stream",
     "text": [
      "Clipping input data to the valid range for imshow with RGB data ([0..1] for floats or [0..255] for integers).\n"
     ]
    },
    {
     "data": {
      "text/plain": [
       "<matplotlib.image.AxesImage at 0x7f9e80c6d8d0>"
      ]
     },
     "execution_count": 5,
     "metadata": {},
     "output_type": "execute_result"
    },
    {
     "data": {
      "image/png": "[encoded data removed]",
      "text/plain": [
       "<Figure size 432x288 with 1 Axes>"
      ]
     },
     "metadata": {},
     "output_type": "display_data"
    }
   ],
   "source": [
    "plt.imshow(vol[20,:,:,:]*20)"
   ]
  },
  {
   "cell_type": "code",
   "execution_count": 6,
   "metadata": {
    "collapsed": true
   },
   "outputs": [],
   "source": [
    "####################\n",
    "### MAKE HSV VOL ###\n",
    "####################\n",
    "\n",
    "vol_flat = np.reshape(vol, (-1,3))\n",
    "vol_flat = np.clip(vol_flat,0,1) # there are some negative corrs. remove these.\n",
    "hsv_vol = []\n",
    "to_delete = []\n",
    "to_keep = []\n",
    "for i in range(vol_flat.shape[0]):\n",
    "    if np.sum(vol_flat[i]) != 0: # exclude black pixels (0,0,0)\n",
    "        hsv_vol.append(colorsys.rgb_to_hsv(*vol_flat[i]))\n",
    "        to_keep.append(i)\n",
    "    else:\n",
    "        to_delete.append(i)\n",
    "hsv_vol = np.asarray(hsv_vol)"
   ]
  },
  {
   "cell_type": "code",
   "execution_count": 7,
   "metadata": {},
   "outputs": [
    {
     "data": {
      "image/png": "[encoded data removed]",
      "text/plain": [
       "<Figure size 720x720 with 1 Axes>"
      ]
     },
     "metadata": {},
     "output_type": "display_data"
    }
   ],
   "source": [
    "cm_grey = matplotlib.cm.get_cmap('Greys')\n",
    "cm_hsv = matplotlib.cm.get_cmap('hsv')\n",
    "\n",
    "\n",
    "patches = []\n",
    "values = []\n",
    "\n",
    "rotation = 25\n",
    "\n",
    "ntheta = 48; dtheta = 360/ntheta;\n",
    "nradius = 5; dradius = 10/nradius;\n",
    "\n",
    "colors = np.linspace(0,255,ntheta+1)\n",
    "colors = [int(i) for i in colors]\n",
    "\n",
    "saturations = np.linspace(0,1,nradius)\n",
    "\n",
    "#####################\n",
    "### Make Hue Bins ###\n",
    "#####################\n",
    "\n",
    "hue_bin_centers = [i/255 for i in colors]\n",
    "bin_width = hue_bin_centers[1] - hue_bin_centers[0]\n",
    "\n",
    "# hue_bin_starts = [i-bin_width/2 for i in hue_bin_centers]\n",
    "# hue_bin_ends = np.delete(hue_bin_starts,0).extend(1)\n",
    "#hue_bin_ends = [i+bin_width/2 for i in hue_bin_centers]\n",
    "# deal with wrapping red around zero\n",
    "# hue_bin_starts[0] = 0\n",
    "# hue_bin_ends[-1] = 1\n",
    "\n",
    "hue_bin_starts = [i-bin_width/2 for i in hue_bin_centers]\n",
    "hue_bin_starts[0] = 0\n",
    "hue_bin_ends = list(np.delete(hue_bin_starts,0))\n",
    "hue_bin_ends.append(1)\n",
    "\n",
    "#####################\n",
    "### Make Sat Bins ###\n",
    "#####################\n",
    "sat_bin_starts = [.8,.6,.4,.2,0]\n",
    "sat_bin_ends = [1,.8,.6,.4,.2]\n",
    "\n",
    "##############################\n",
    "### Get Hue/Sat Bin Counts ###\n",
    "##############################\n",
    "\n",
    "bin_cnts = []\n",
    "\n",
    "for sat_bn in range(len(sat_bin_starts)):\n",
    "    sat_bin = np.where(np.logical_and(sat_bin_starts[sat_bn]<hsv_vol[:,1],\n",
    "                              hsv_vol[:,1]<=sat_bin_ends[sat_bn]))[0]\n",
    "    for hue_bn in range(len(hue_bin_starts)):\n",
    "        hue_bin = np.where(np.logical_and(hue_bin_starts[hue_bn]<=hsv_vol[:,0],\n",
    "                                          hsv_vol[:,0]<hue_bin_ends[hue_bn]))[0]\n",
    "        bin_cnts.append(len(set(hue_bin) & set(sat_bin)))\n",
    "\n",
    "### Log transform ###\n",
    "bin_cnts_log = np.log(bin_cnts)\n",
    "bin_cnts_log[bin_cnts_log==-inf]=0\n",
    "        \n",
    "bin_cnts_max = np.max(bin_cnts_log) ### ADJUST THIS TO CLIP\n",
    "bin_cnts_norm = [i/bin_cnts_max for i in bin_cnts_log]\n",
    "\n",
    "cnt = 0\n",
    "for nr in range(nradius,0,-1):\n",
    "    start_r = (nr-1)*dradius\n",
    "    end_r = (nr)*dradius\n",
    "    for nt in range(0,ntheta):\n",
    "        start_t = nt*dtheta\n",
    "        end_t = (nt+1)*dtheta\n",
    "        if nr == 6:\n",
    "            values.append(cm_hsv(int(nt*(255/ntheta))))\n",
    "        else:\n",
    "            values.append(cm_grey(bin_cnts_norm[cnt]))\n",
    "            cnt+=1\n",
    "        \n",
    "        wedge = mpatches.Wedge(0,end_r, start_t+rotation, end_t+rotation)\n",
    "        patches.append(wedge)\n",
    "        \n",
    "        \n",
    "collection = PatchCollection(patches,linewidth=0,\n",
    "edgecolor=['#000000' for x in values], \n",
    "facecolor=values)\n",
    "\n",
    "fig = plt.figure(figsize=(10,10), edgecolor='w',facecolor='w')\n",
    "ax = plt.subplot(2, 2, 1)\n",
    "ax.add_collection(collection)\n",
    "\n",
    "plt.axis('equal')\n",
    "plt.axis('off')\n",
    "plt.tight_layout()\n",
    "\n",
    "save_path = '/oak/stanford/groups/trc/data/Brezovec/2P_Imaging/figs'\n",
    "timestr = time.strftime(\"%Y%m%d-%H%M%S\")\n",
    "fname = os.path.join(save_path, f'{timestr}')\n",
    "#plt.savefig(fname,dpi=300,bbox_inches='tight')"
   ]
  },
  {
   "cell_type": "code",
   "execution_count": 8,
   "metadata": {
    "collapsed": true
   },
   "outputs": [],
   "source": [
    "red_cnt = bin_cnts[0]\n",
    "green_cnt = bin_cnts[16]\n",
    "blue_cnt = bin_cnts[32]\n",
    "\n",
    "rg_cnt = np.sum(bin_cnts[1:16])\n",
    "gb_cnt = np.sum(bin_cnts[17:32])\n",
    "br_cnt = np.sum(bin_cnts[33:48])\n",
    "rgb_cnt = np.sum(bin_cnts[49:])"
   ]
  },
  {
   "cell_type": "code",
   "execution_count": 9,
   "metadata": {},
   "outputs": [
    {
     "name": "stdout",
     "output_type": "stream",
     "text": [
      "4416 3856 45407 85 14707 10079 1997\n",
      "80547\n",
      "(80547, 3)\n",
      "49\n"
     ]
    }
   ],
   "source": [
    "print(\n",
    "    red_cnt, \n",
    "    green_cnt,\n",
    "    blue_cnt,\n",
    "    rg_cnt,\n",
    "    gb_cnt,\n",
    "    br_cnt,\n",
    "    rgb_cnt\n",
    "     )\n",
    "print(red_cnt+green_cnt+blue_cnt+rg_cnt+gb_cnt+br_cnt+rgb_cnt)\n",
    "print(hsv_vol.shape)\n",
    "print(len(hue_bin_starts))"
   ]
  },
  {
   "cell_type": "code",
   "execution_count": 10,
   "metadata": {},
   "outputs": [
    {
     "data": {
      "text/plain": [
       "45407"
      ]
     },
     "execution_count": 10,
     "metadata": {},
     "output_type": "execute_result"
    }
   ],
   "source": [
    "sat_bin = np.where(np.logical_and(.8<hsv_vol[:,1],hsv_vol[:,1]<=1))\n",
    "\n",
    "hue_bn=0 # red\n",
    "#hue_bn=16 # green\n",
    "hue_bn=32 # blue\n",
    "\n",
    "hue_bin = np.where(np.logical_and(hue_bin_starts[hue_bn]<=hsv_vol[:,0],\n",
    "            hsv_vol[:,0]<hue_bin_ends[hue_bn]))\n",
    "\n",
    "isolated_voxels = set(hue_bin[0]) & set(sat_bin[0])\n",
    "isolated_voxels = list(isolated_voxels)\n",
    "len(isolated_voxels)"
   ]
  },
  {
   "cell_type": "code",
   "execution_count": 34,
   "metadata": {},
   "outputs": [
    {
     "data": {
      "text/plain": [
       "14707"
      ]
     },
     "execution_count": 34,
     "metadata": {},
     "output_type": "execute_result"
    }
   ],
   "source": [
    "# CYAN #\n",
    "sat_bin = np.where(np.logical_and(.8<hsv_vol[:,1],hsv_vol[:,1]<=1))\n",
    "\n",
    "#hue_bn=0 # red\n",
    "hue_bn=16 # green\n",
    "hue_bn=32 # blue\n",
    "\n",
    "hue_bin = np.where(np.logical_and(hue_bin_starts[17]<=hsv_vol[:,0],\n",
    "            hsv_vol[:,0]<hue_bin_ends[31]))\n",
    "\n",
    "isolated_voxels = set(hue_bin[0]) & set(sat_bin[0])\n",
    "isolated_voxels = list(isolated_voxels)\n",
    "len(isolated_voxels)"
   ]
  },
  {
   "cell_type": "code",
   "execution_count": 35,
   "metadata": {},
   "outputs": [
    {
     "data": {
      "text/plain": [
       "(49, 128, 256)"
      ]
     },
     "execution_count": 35,
     "metadata": {},
     "output_type": "execute_result"
    }
   ],
   "source": [
    "### This one is right ###\n",
    "\n",
    "empty = np.zeros(len(to_keep))\n",
    "empty[isolated_voxels] = 1\n",
    "full_vol = np.zeros(len(to_keep)+len(to_delete))\n",
    "full_vol[to_keep] = empty\n",
    "isolated_voxels = np.reshape(full_vol, (49,128,256))\n",
    "isolated_voxels.shape"
   ]
  },
  {
   "cell_type": "code",
   "execution_count": 36,
   "metadata": {},
   "outputs": [
    {
     "data": {
      "text/plain": [
       "(32768, 49)"
      ]
     },
     "execution_count": 36,
     "metadata": {},
     "output_type": "execute_result"
    }
   ],
   "source": [
    "isolated_voxels = np.swapaxes(isolated_voxels,0,2)\n",
    "isolated_voxels = np.reshape(isolated_voxels, (256*128,49))\n",
    "isolated_voxels.shape"
   ]
  },
  {
   "cell_type": "markdown",
   "metadata": {},
   "source": [
    "# behavior"
   ]
  },
  {
   "cell_type": "code",
   "execution_count": 13,
   "metadata": {
    "collapsed": true
   },
   "outputs": [],
   "source": [
    "dataset_path = \"/oak/stanford/groups/trc/data/Brezovec/2P_Imaging/20190101_walking_dataset\"\n",
    "fly_names = ['fly_087', 'fly_089', 'fly_094', 'fly_097', 'fly_098', 'fly_099', 'fly_100', 'fly_101', 'fly_105']\n",
    "expt_len = 1000*30*60\n",
    "resolution = 10\n",
    "high_res_timepoints = np.arange(0,expt_len,resolution) #0 to last time at subsample res"
   ]
  },
  {
   "cell_type": "code",
   "execution_count": 14,
   "metadata": {
    "collapsed": true
   },
   "outputs": [],
   "source": [
    "class Fictrac:\n",
    "    def __init__ (self, fly_dir, timestamps):\n",
    "        self.fictrac_raw = bbb.load_fictrac(os.path.join(fly_dir, 'fictrac'))\n",
    "        self.timestamps = timestamps\n",
    "    def make_interp_object(self, behavior):\n",
    "        # Create camera timepoints\n",
    "        fps=50\n",
    "        camera_rate = 1/fps * 1000 # camera frame rate in ms\n",
    "        expt_len = 1000*30*60\n",
    "        x_original = np.arange(0,expt_len,camera_rate)\n",
    "\n",
    "        # Smooth raw fictrac data\n",
    "        fictrac_smoothed = scipy.signal.savgol_filter(np.asarray(self.fictrac_raw[behavior]),25,3)\n",
    "\n",
    "        # Create interp object with camera timepoints\n",
    "        fictrac_interp_object = interp1d(x_original, fictrac_smoothed, bounds_error = False)\n",
    "        return fictrac_interp_object\n",
    "\n",
    "    def pull_from_interp_object(self, interp_object, timepoints):\n",
    "        new_interp = interp_object(timepoints)\n",
    "        np.nan_to_num(new_interp, copy=False);\n",
    "        return new_interp\n",
    "\n",
    "    def interp_fictrac(self, z):\n",
    "        behaviors = ['dRotLabY', 'dRotLabZ']; shorts = ['Y', 'Z']\n",
    "        self.fictrac = {}\n",
    "\n",
    "        for behavior, short in zip(behaviors, shorts):\n",
    "            interp_object = self.make_interp_object(behavior)\n",
    "            self.fictrac[short + 'i'] = interp_object\n",
    "\n",
    "            ### Velocity ###\n",
    "            low_res_behavior = self.pull_from_interp_object(interp_object, self.timestamps[:,z])\n",
    "            self.fictrac[short] = low_res_behavior#/np.std(low_res_behavior)\n",
    "            \n",
    "            ### Clipped Velocities ###\n",
    "            self.fictrac[short + '_pos'] = np.clip(self.fictrac[short], a_min=0, a_max=None)\n",
    "            self.fictrac[short + '_neg'] = np.clip(self.fictrac[short], a_min=None, a_max=0)*-1\n",
    "            \n",
    "            ### Strongly Clipped Velocities ###\n",
    "            # excludes points even close to 0\n",
    "            #self.fictrac[short + '_pos_very'] = np.clip(self.fictrac[short], a_min=0.3, a_max=None)\n",
    "            #self.fictrac[short + '_neg_very'] = np.clip(self.fictrac[short], a_min=None, a_max=-0.3)*-1\n",
    "\n",
    "            ### Acceleration ###\n",
    "            high_res_behavior = self.pull_from_interp_object(interp_object, high_res_timepoints)\n",
    "            self.fictrac[short + 'h'] = high_res_behavior/np.std(high_res_behavior)\n",
    "\n",
    "            accel = scipy.signal.savgol_filter(np.diff(high_res_behavior),25,3)\n",
    "            accel = np.append(accel, 0)\n",
    "            interp_object = interp1d(high_res_timepoints, accel, bounds_error = False)\n",
    "            acl = interp_object(self.timestamps[:,z])\n",
    "            acl[-1] = 0\n",
    "            self.fictrac[short + 'a'] = acl#/np.std(acl)\n",
    "            \n",
    "            ### Clipped Acceleration ###\n",
    "            self.fictrac[short + 'a' + '_pos'] = np.clip(self.fictrac[short + 'a'], a_min=0, a_max=None)\n",
    "            self.fictrac[short + 'a' + '_neg'] = np.clip(self.fictrac[short + 'a'], a_min=None, a_max=0)*-1\n",
    "\n",
    "        self.fictrac['YZ'] = np.sqrt(np.power(self.fictrac['Y'],2), np.power(self.fictrac['Z'],2))\n",
    "        self.fictrac['YZh'] = np.sqrt(np.power(self.fictrac['Yh'],2), np.power(self.fictrac['Zh'],2))\n",
    "\n",
    "class Fly:\n",
    "    def __init__ (self, fly_name, fly_idx):\n",
    "        self.dir = os.path.join(dataset_path, fly_name, 'func_0')\n",
    "        self.fly_idx = fly_idx\n",
    "        self.fly_name = fly_name\n",
    "        self.maps = {}\n",
    "    def load_timestamps (self):\n",
    "        self.timestamps = bbb.load_timestamps(os.path.join(self.dir, 'imaging'))\n",
    "    def load_fictrac (self):\n",
    "        self.fictrac = Fictrac(self.dir, self.timestamps)\n",
    "    def load_brain_slice (self):\n",
    "        self.brain = brain[:,:,:,self.fly_idx]\n",
    "    def load_anatomy (self):\n",
    "        to_load = os.path.join(dataset_path, self.fly_name, 'warp', 'anat-to-meanbrain.nii')\n",
    "        self.anatomy = np.array(nib.load(to_load).get_data(), copy=True)\n",
    "    def load_z_depth_correction (self):\n",
    "        to_load = os.path.join(dataset_path, self.fly_name, 'warp', '20201220_warped_z_depth.nii')\n",
    "        self.z_correction = np.array(nib.load(to_load).get_data(), copy=True)\n",
    "    def get_cluster_averages (self, cluster_model_labels, n_clusters):\n",
    "        neural_data = self.brain.reshape(-1, 3384)\n",
    "        signals = []\n",
    "        self.cluster_indicies = []\n",
    "        for cluster_num in range(n_clusters):\n",
    "            cluster_indicies = np.where(cluster_model_labels==cluster_num)[0]\n",
    "            mean_signal = np.mean(neural_data[cluster_indicies,:], axis=0)\n",
    "            signals.append(mean_signal)\n",
    "            self.cluster_indicies.append(cluster_indicies) # store for later\n",
    "        self.cluster_signals=np.asarray(signals)\n",
    "    def get_cluster_id (self, x, y):\n",
    "        ax_vec = x*128 + y\n",
    "        for i in range(n_clusters):\n",
    "            if ax_vec in self.cluster_indicies[i]:\n",
    "                cluster_id = i\n",
    "                break\n",
    "        return cluster_id"
   ]
  },
  {
   "cell_type": "code",
   "execution_count": 15,
   "metadata": {
    "collapsed": true
   },
   "outputs": [],
   "source": [
    "expt_len = 1000*30*60\n",
    "resolution = 10\n",
    "high_res_timepoints = np.arange(0,expt_len,resolution) #0 to last time at subsample res\n",
    "\n",
    "class Fictrac:\n",
    "    def __init__ (self, fly_dir, timestamps):\n",
    "        self.fictrac_raw = bbb.load_fictrac(os.path.join(fly_dir, 'fictrac'))\n",
    "        self.timestamps = timestamps\n",
    "    def make_interp_object(self, behavior):\n",
    "        # Create camera timepoints\n",
    "        fps=50\n",
    "        camera_rate = 1/fps * 1000 # camera frame rate in ms\n",
    "        expt_len = 1000*30*60\n",
    "        x_original = np.arange(0,expt_len,camera_rate)\n",
    "\n",
    "        # Smooth raw fictrac data\n",
    "        fictrac_smoothed = scipy.signal.savgol_filter(np.asarray(self.fictrac_raw[behavior]),25,3)\n",
    "\n",
    "        # Create interp object with camera timepoints\n",
    "        fictrac_interp_object = interp1d(x_original, fictrac_smoothed, bounds_error = False)\n",
    "        return fictrac_interp_object\n",
    "\n",
    "    def pull_from_interp_object(self, interp_object, timepoints):\n",
    "        new_interp = interp_object(timepoints)\n",
    "        np.nan_to_num(new_interp, copy=False);\n",
    "        return new_interp\n",
    "\n",
    "    def interp_fictrac(self):\n",
    "        behaviors = ['dRotLabY', 'dRotLabZ']; shorts = ['Y', 'Z']\n",
    "        self.fictrac = {}\n",
    "\n",
    "        ### Y and Z ###\n",
    "        for behavior, short in zip(behaviors, shorts):\n",
    "            interp_object = self.make_interp_object(behavior)\n",
    "            self.fictrac[short + 'i'] = interp_object\n",
    "\n",
    "            ### Interpolate to neural data\n",
    "            self.fictrac[short] = []\n",
    "            self.fictrac[short + '_pos'] = []\n",
    "            self.fictrac[short + '_neg'] = []\n",
    "            for z in range(49):\n",
    "                ### Velocity ###\n",
    "                low_res_behavior = self.pull_from_interp_object(interp_object, self.timestamps[:,z])\n",
    "                #self.fictrac[short].append(low_res_behavior/np.std(low_res_behavior))\n",
    "                self.fictrac[short].append(low_res_behavior)\n",
    "\n",
    "                ### Clipped Velocities ###\n",
    "                self.fictrac[short + '_pos'].append(np.clip(self.fictrac[short][-1], a_min=0, a_max=None))\n",
    "                self.fictrac[short + '_neg'].append(np.clip(self.fictrac[short][-1], a_min=None, a_max=0)*-1)\n",
    "                \n",
    "            ### 10Hz interp ###\n",
    "            expt_len = 1000*30*60\n",
    "            sample_in_ms = 100\n",
    "            x_hz10 = np.arange(0,expt_len,sample_in_ms)\n",
    "            hz10_res_behavior = self.pull_from_interp_object(interp_object, x_hz10)\n",
    "            self.fictrac[short + '_10hz'] = hz10_res_behavior\n",
    "            self.fictrac[short + '_pos_10hz'] = np.clip(hz10_res_behavior, a_min=0, a_max=None)\n",
    "            self.fictrac[short + '_neg_10hz'] = np.clip(hz10_res_behavior, a_min=None, a_max=0) * -1\n",
    "\n",
    "        ### Walking ###\n",
    "        self.fictrac['walking'] = []\n",
    "        for z in range(49):    \n",
    "            YZ = np.sqrt(np.power(self.fictrac['Y'][z],2), np.power(self.fictrac['Z'][z],2))        \n",
    "            self.fictrac['walking'].append(np.zeros(3384))\n",
    "            self.fictrac['walking'][-1][np.where(YZ>.2)] = 1\n",
    "\n",
    "class Fly:\n",
    "    def __init__ (self, fly_name, fly_idx):\n",
    "        self.dir = os.path.join(dataset_path, fly_name, 'func_0')\n",
    "        self.fly_idx = fly_idx\n",
    "        self.fly_name = fly_name\n",
    "        self.maps = {}\n",
    "    def load_timestamps (self):\n",
    "        self.timestamps = bbb.load_timestamps(os.path.join(self.dir, 'imaging'))\n",
    "    def load_fictrac (self):\n",
    "        self.fictrac = Fictrac(self.dir, self.timestamps)\n",
    "    def load_brain_slice (self):\n",
    "        self.brain = brain[:,:,:,self.fly_idx]\n",
    "    def load_anatomy (self):\n",
    "        to_load = os.path.join(dataset_path, self.fly_name, 'warp', 'anat-to-meanbrain.nii')\n",
    "        self.anatomy = np.array(nib.load(to_load).get_data(), copy=True)\n",
    "    def load_z_depth_correction (self):\n",
    "        to_load = os.path.join(dataset_path, self.fly_name, 'warp', '20201220_warped_z_depth.nii')\n",
    "        self.z_correction = np.array(nib.load(to_load).get_data(), copy=True)\n",
    "    def get_cluster_averages (self, cluster_model_labels, n_clusters):\n",
    "        neural_data = self.brain.reshape(-1, 3384)\n",
    "        signals = []\n",
    "        self.cluster_indicies = []\n",
    "        for cluster_num in range(n_clusters):\n",
    "            cluster_indicies = np.where(cluster_model_labels==cluster_num)[0]\n",
    "            mean_signal = np.mean(neural_data[cluster_indicies,:], axis=0)\n",
    "            signals.append(mean_signal)\n",
    "            self.cluster_indicies.append(cluster_indicies) # store for later\n",
    "        self.cluster_signals=np.asarray(signals)\n",
    "    def get_cluster_id (self, x, y):\n",
    "        ax_vec = x*128 + y\n",
    "        for i in range(n_clusters):\n",
    "            if ax_vec in self.cluster_indicies[i]:\n",
    "                cluster_id = i\n",
    "                break\n",
    "        return cluster_id"
   ]
  },
  {
   "cell_type": "code",
   "execution_count": 16,
   "metadata": {},
   "outputs": [
    {
     "name": "stdout",
     "output_type": "stream",
     "text": [
      "*** fly: fly_087 ***\n",
      "\n",
      "~~ load_timestamps ~~\n",
      "Trying to load timestamp data from hdf5 file.\n",
      "Success.\n",
      "load_timestamps done. Duration: 8.94 ms\n",
      "\n",
      "~~ load_fictrac ~~\n",
      "load_fictrac done. Duration: 5.87 sec\n",
      "*** fly: fly_089 ***\n",
      "\n",
      "~~ load_timestamps ~~\n",
      "Trying to load timestamp data from hdf5 file.\n",
      "Success.\n",
      "load_timestamps done. Duration: 11.61 ms\n",
      "\n",
      "~~ load_fictrac ~~\n",
      "load_fictrac done. Duration: 6.20 sec\n",
      "*** fly: fly_094 ***\n",
      "\n",
      "~~ load_timestamps ~~\n",
      "Trying to load timestamp data from hdf5 file.\n",
      "Success.\n",
      "load_timestamps done. Duration: 28.65 ms\n",
      "\n",
      "~~ load_fictrac ~~\n",
      "load_fictrac done. Duration: 5.91 sec\n",
      "*** fly: fly_097 ***\n",
      "\n",
      "~~ load_timestamps ~~\n",
      "Trying to load timestamp data from hdf5 file.\n",
      "Success.\n",
      "load_timestamps done. Duration: 12.12 ms\n",
      "\n",
      "~~ load_fictrac ~~\n",
      "load_fictrac done. Duration: 5.99 sec\n",
      "*** fly: fly_098 ***\n",
      "\n",
      "~~ load_timestamps ~~\n",
      "Trying to load timestamp data from hdf5 file.\n",
      "Success.\n",
      "load_timestamps done. Duration: 3.76 sec\n",
      "\n",
      "~~ load_fictrac ~~\n",
      "load_fictrac done. Duration: 6.23 sec\n",
      "*** fly: fly_099 ***\n",
      "\n",
      "~~ load_timestamps ~~\n",
      "Trying to load timestamp data from hdf5 file.\n",
      "Success.\n",
      "load_timestamps done. Duration: 8.50 ms\n",
      "\n",
      "~~ load_fictrac ~~\n",
      "load_fictrac done. Duration: 5.94 sec\n",
      "*** fly: fly_100 ***\n",
      "\n",
      "~~ load_timestamps ~~\n",
      "Trying to load timestamp data from hdf5 file.\n",
      "Success.\n",
      "load_timestamps done. Duration: 8.44 ms\n",
      "\n",
      "~~ load_fictrac ~~\n",
      "load_fictrac done. Duration: 6.05 sec\n",
      "*** fly: fly_101 ***\n",
      "\n",
      "~~ load_timestamps ~~\n",
      "Trying to load timestamp data from hdf5 file.\n",
      "Success.\n",
      "load_timestamps done. Duration: 10.29 ms\n",
      "\n",
      "~~ load_fictrac ~~\n",
      "load_fictrac done. Duration: 5.99 sec\n",
      "*** fly: fly_105 ***\n",
      "\n",
      "~~ load_timestamps ~~\n",
      "Trying to load timestamp data from hdf5 file.\n",
      "Success.\n",
      "load_timestamps done. Duration: 13.78 ms\n",
      "\n",
      "~~ load_fictrac ~~\n",
      "load_fictrac done. Duration: 5.92 sec\n"
     ]
    }
   ],
   "source": [
    "flies = {}\n",
    "for i, fly in enumerate(fly_names):\n",
    "    print(F'*** fly: {fly} ***')\n",
    "    flies[fly] = Fly(fly_name=fly, fly_idx=i)\n",
    "    flies[fly].load_timestamps()\n",
    "    flies[fly].load_fictrac()\n",
    "    flies[fly].fictrac.interp_fictrac()"
   ]
  },
  {
   "cell_type": "code",
   "execution_count": 17,
   "metadata": {
    "collapsed": true
   },
   "outputs": [],
   "source": [
    "z = 20\n",
    "sphere_radius = 4.5e-3 # in m\n",
    "fps=50\n",
    "behaviors = ['Y', 'Z', 'Y_pos', 'Z_pos', 'Z_neg']\n",
    "behavior_super = {}\n",
    "for behavior in behaviors:\n",
    "    behavior_super[behavior] = []\n",
    "    for fly in fly_names:\n",
    "        behavior_super[behavior].extend((flies[fly].fictrac.fictrac[behavior][z]))\n",
    "    behavior_super[behavior] = np.asarray(behavior_super[behavior])\n",
    "    behavior_super[behavior + '_std'] = behavior_super[behavior]/np.std(behavior_super[behavior])\n",
    "    \n",
    "    if behavior in ['Y', 'Y_pos']:\n",
    "        ''' starts with units of rad/frame\n",
    "        * sphere_radius(m); now in m/frame\n",
    "        * fps; now in m/sec\n",
    "        * 1000; now in mm/sec '''\n",
    "        behavior_super[behavior + '_units'] = behavior_super[behavior] * sphere_radius * fps * 1000 # mm/sec\n",
    "        \n",
    "    elif behavior in ['Z', 'Z_pos', 'Z_neg']:\n",
    "        ''' starts with units of rad/frame\n",
    "        * 180 / np.pi; now in deg/frame\n",
    "        * fps; now in deg/sec '''\n",
    "        behavior_super[behavior + '_units'] = behavior_super[behavior] * 180 / np.pi * fps ## deg/sec"
   ]
  },
  {
   "cell_type": "code",
   "execution_count": 18,
   "metadata": {},
   "outputs": [
    {
     "data": {
      "text/plain": [
       "(49, 2000, 30456)"
      ]
     },
     "execution_count": 18,
     "metadata": {},
     "output_type": "execute_result"
    }
   ],
   "source": [
    "### Load Neural Data ###\n",
    "all_neural = np.load('/oak/stanford/groups/trc/data/Brezovec/2P_Imaging/20210514_for_aws/X_all_neural_z_vox_t_correct.npy')\n",
    "all_neural.shape"
   ]
  },
  {
   "cell_type": "code",
   "execution_count": 19,
   "metadata": {
    "collapsed": true
   },
   "outputs": [],
   "source": [
    "def bin_2D(pc, num_bins_x, num_bins_y, idx_x ,idx_y):\n",
    "    #\"PC\" is just a holdover\n",
    "    pc_binned = []\n",
    "    pc_std = []\n",
    "    pc_count = []\n",
    "    pc_var = []\n",
    "    for i in range(num_bins_x):\n",
    "        mask_x = (idx_x == i)\n",
    "        for j in range(num_bins_y):\n",
    "            mask_y = (idx_y == j)\n",
    "            mask = mask_x & mask_y\n",
    "            pc_binned.append(np.mean(pc[mask]))\n",
    "            pc_std.append(np.std(pc[mask]))\n",
    "            pc_count.append(np.count_nonzero(~np.isnan(pc[mask])))\n",
    "            pc_var.append(np.var(pc[mask]))\n",
    "    pc_binned = np.flip(np.reshape(pc_binned,(num_bins_x, num_bins_y)).T,0)\n",
    "    pc_std = np.flip(np.reshape(pc_std,(num_bins_x, num_bins_y)).T,0)\n",
    "    pc_count = np.flip(np.reshape(pc_count,(num_bins_x, num_bins_y)).T,0)\n",
    "    pc_var = np.flip(np.reshape(pc_var,(num_bins_x, num_bins_y)).T,0)\n",
    "    pcs_binned = {'pc_binned': pc_binned,\n",
    "                  'pc_std': pc_std,\n",
    "                  'pc_count':pc_count,\n",
    "                  'pc_var':pc_var}\n",
    "    return pcs_binned\n",
    "\n",
    "def bin_2D_plot(x_data, y_data, value_data, num_bins_x, num_bins_y, start_x, end_x, start_y, end_y, min_num_samples):\n",
    "    # Define bins\n",
    "    bins_x, bins_y = np.linspace(start_x,end_x,num_bins_x), np.linspace(start_y,end_y,num_bins_y)\n",
    "    #bins_x = np.concatenate((np.linspace(start_x,0,num_bins_x)[:-1], np.linspace(0,end_x,num_bins_x)))\n",
    "    #bins_y = np.concatenate((np.linspace(start_y,0,num_bins_y)[:-1], np.linspace(0,end_y,num_bins_y)))\n",
    "    \n",
    "#     bins_x = [x / 10.0 for x in range(-20, 64, 4)]\n",
    "#     bins_y = [x / 10.0 for x in range(-40, 44, 4)]\n",
    "#     num_bins_x = 22\n",
    "#     num_bins_y = 22\n",
    "    \n",
    "    # Assign fictrac values to bin numbers\n",
    "    idx_x, idx_y = np.digitize(x_data,bins_x), np.digitize(y_data,bins_y)\n",
    "\n",
    "    test = bin_2D(value_data, num_bins_x, num_bins_y, idx_x ,idx_y)\n",
    "    \n",
    "    # Hide bins containing too few data points\n",
    "    test['pc_binned'][np.where(test['pc_count']<=min_num_samples)] = 0\n",
    "    return test['pc_binned'], test['pc_count'], bins_x, bins_y\n",
    "\n",
    "def plot_2D_hist(fig, fly, behavior_type, x_pos, y_pos):\n",
    "    ax = fig.add_axes([x_pos,y_pos,.05,.05])\n",
    "\n",
    "    if behavior_type == 'velocity':\n",
    "        X_var = flies[fly].fictrac.fictrac['Y']\n",
    "        Y_var = flies[fly].fictrac.fictrac['Z']\n",
    "        signal = flies[fly].cluster_signals[flies[fly].get_cluster_id(x, y), :]\n",
    "    if behavior_type == 'velocity_pooled':\n",
    "        X_var = pooled_behavior['Y']\n",
    "        Y_var = pooled_behavior['Z']\n",
    "        signal = temporal[:,0]\n",
    "    if behavior_type == 'acceleration':\n",
    "        X_var = flies[fly].fictrac.fictrac['Ya']\n",
    "        Y_var = flies[fly].fictrac.fictrac['Za']\n",
    "        signal = flies[fly].cluster_signals[flies[fly].get_cluster_id(x, y), :]\n",
    "    if behavior_type == 'acceleration_pooled':\n",
    "        X_var = pooled_behavior['Ya']\n",
    "        Y_var = pooled_behavior['Za']\n",
    "        signal = pooled_activity\n",
    "       \n",
    "    if behavior_type in ['velocity', 'velocity_pooled']:\n",
    "        start_x=-2; end_x=8; start_y=-5; end_y=5\n",
    "        ax.axhline(4.5,linestyle='--',color='k',linewidth=1)\n",
    "        ax.axvline(1.5,linestyle='--',color='k',linewidth=1)\n",
    "    if behavior_type in ['acceleration', 'acceleration_pooled']:\n",
    "        start_x=-5; end_x=5; start_y=-5; end_y=5\n",
    "        ax.axhline(4.5,linestyle='--',color='k',linewidth=1)\n",
    "        ax.axvline(4.5,linestyle='--',color='k',linewidth=1)\n",
    "    \n",
    "    fictrac_2d, bins_x, bins_y = bin_2D_plot(X_var, Y_var, signal,\n",
    "                                             num_bins_x=10, num_bins_y=10,\n",
    "                                             start_x=start_x, end_x=end_x, start_y=start_y, end_y=end_y)\n",
    "    \n",
    "    ax.imshow(fictrac_2d,cmap='seismic',vmin=-1,vmax=1)\n",
    "    ax.yaxis.set_visible(False)\n",
    "    ax.xaxis.set_visible(False)\n",
    "    \n",
    "def plot_2D_scatter(fig, fly, behavior_type, x_pos, y_pos):\n",
    "    ax = fig.add_axes([x_pos,y_pos,.05,.05])\n",
    "\n",
    "    if behavior_type == 'velocity':\n",
    "        X_var = flies[fly].fictrac.fictrac['Y']\n",
    "        Y_var = flies[fly].fictrac.fictrac['Z']\n",
    "        signal = flies[fly].cluster_signals[flies[fly].get_cluster_id(x, y), :]\n",
    "        ax.set_ylim(-5,5)\n",
    "        ax.set_xlim(-2,8)\n",
    "    if behavior_type == 'acceleration':\n",
    "        X_var = flies[fly].fictrac.fictrac['Ya']\n",
    "        Y_var = flies[fly].fictrac.fictrac['Za']\n",
    "        signal = flies[fly].cluster_signals[flies[fly].get_cluster_id(x, y), :]\n",
    "        ax.set_ylim(-5,5)\n",
    "        ax.set_xlim(-5,5)\n",
    "    if behavior_type == 'velocity_pooled':\n",
    "        X_var = pooled_behavior['Y']\n",
    "        Y_var = pooled_behavior['Z']\n",
    "        signal = pooled_activity\n",
    "        ax.set_ylim(-5,5)\n",
    "        ax.set_xlim(-2,8)\n",
    "    if behavior_type == 'acceleration_pooled':\n",
    "        X_var = pooled_behavior['Ya']\n",
    "        Y_var = pooled_behavior['Za']\n",
    "        signal = pooled_activity\n",
    "        ax.set_ylim(-5,5)\n",
    "        ax.set_xlim(-5,5)\n",
    "    \n",
    "    ax.scatter(x=X_var,\n",
    "               y=Y_var,\n",
    "               c=signal,\n",
    "               marker='x',cmap='seismic',vmin=-1,vmax=1,s=.5,linewidth=.1) #s,.2,lw=0\n",
    "    \n",
    "    ax.yaxis.set_visible(False)\n",
    "    ax.xaxis.set_visible(False)\n",
    "    ax.axhline(0,linestyle='--',color='k',linewidth=1)\n",
    "    ax.axvline(0,linestyle='--',color='k',linewidth=1)"
   ]
  },
  {
   "cell_type": "code",
   "execution_count": 20,
   "metadata": {
    "collapsed": true
   },
   "outputs": [],
   "source": [
    "### Load supervoxel labels ###\n",
    "n_clusters = 2000\n",
    "labels_file = '/oak/stanford/groups/trc/data/Brezovec/2P_Imaging/20201129_super_slices/cluster_labels.npy'\n",
    "cluster_model_labels = np.load(labels_file)"
   ]
  },
  {
   "cell_type": "code",
   "execution_count": 21,
   "metadata": {},
   "outputs": [
    {
     "name": "stdout",
     "output_type": "stream",
     "text": [
      "ready\n"
     ]
    }
   ],
   "source": [
    "print('ready')"
   ]
  },
  {
   "cell_type": "code",
   "execution_count": 37,
   "metadata": {},
   "outputs": [
    {
     "name": "stdout",
     "output_type": "stream",
     "text": [
      "0\n",
      "1\n",
      "2\n",
      "3\n",
      "4\n",
      "5\n",
      "6\n",
      "7\n",
      "8\n",
      "9\n",
      "10\n",
      "11\n",
      "12\n",
      "13\n",
      "14\n",
      "15\n",
      "16\n",
      "17\n",
      "18\n",
      "19\n",
      "20\n",
      "21\n",
      "22\n",
      "23\n",
      "24\n",
      "25\n",
      "26\n",
      "27\n",
      "28\n",
      "29\n",
      "30\n",
      "31\n",
      "32\n",
      "33\n",
      "34\n",
      "35\n",
      "36\n",
      "37\n",
      "38\n",
      "39\n",
      "40\n",
      "41\n",
      "42\n",
      "43\n",
      "44\n",
      "45\n",
      "46\n",
      "47\n",
      "48\n"
     ]
    }
   ],
   "source": [
    "slice_avgs = []\n",
    "slice_cnts = []\n",
    "for z in range(49):\n",
    "    print(z)\n",
    "    colored_by_betas = np.zeros((256*128,30456))\n",
    "    for cluster_num in range(len(np.unique(cluster_model_labels[z]))):\n",
    "        cluster_indicies = np.where(cluster_model_labels[z]==cluster_num)[0]\n",
    "        colored_by_betas[cluster_indicies,:] = all_neural[z,cluster_num,:]\n",
    "    colored_by_betas = colored_by_betas.reshape(256*128,30456)\n",
    "    slice_avg = np.dot(isolated_voxels[:,20],colored_by_betas)\n",
    "    slice_avgs.append(slice_avg)\n",
    "    slice_cnts.append(np.sum(isolated_voxels[:,z]))"
   ]
  },
  {
   "cell_type": "code",
   "execution_count": 38,
   "metadata": {},
   "outputs": [],
   "source": [
    "fwd_resp = np.average(slice_avgs,weights=slice_cnts,axis=0)"
   ]
  },
  {
   "cell_type": "code",
   "execution_count": null,
   "metadata": {
    "collapsed": true
   },
   "outputs": [],
   "source": [
    "# scores1 = 'scores_all'\n",
    "# unique = 'scores_zneg_unique'\n",
    "# thresh = 0.015\n",
    "# reponding_voxels = np.zeros((0,30456))\n",
    "\n",
    "# for z in range(49):\n",
    "#     a = all_scores[z][scores1]\n",
    "#     b = all_scores[z][unique]\n",
    "#     c = [a[i]-b[i] for i in range(2000)] # get unique glm score for each of 2000 supervoxels\n",
    "#     d = np.where(np.asarray(c)>thresh)[0] # which voxels have a high score\n",
    "#     e = all_neural[z,d,:] # get actual voxel values\n",
    "#     reponding_voxels = np.concatenate((reponding_voxels, e))\n",
    "# reponding_voxels.shape\n",
    "# fwd_resp = np.mean(reponding_voxels,axis=0)"
   ]
  },
  {
   "cell_type": "code",
   "execution_count": 20,
   "metadata": {},
   "outputs": [
    {
     "data": {
      "text/plain": [
       "(49, 2000, 30456)"
      ]
     },
     "execution_count": 20,
     "metadata": {},
     "output_type": "execute_result"
    }
   ],
   "source": [
    "all_neural.shape"
   ]
  },
  {
   "cell_type": "code",
   "execution_count": 43,
   "metadata": {},
   "outputs": [
    {
     "data": {
      "image/png": "[encoded data removed]",
      "text/plain": [
       "<Figure size 720x720 with 1 Axes>"
      ]
     },
     "metadata": {},
     "output_type": "display_data"
    }
   ],
   "source": [
    "X_var = behavior_super['Y_std']\n",
    "Y_var = behavior_super['Z_std']\n",
    "fig = plt.figure(figsize=(10,10))\n",
    "#ax = fig.add_axes([0,0,1,1])\n",
    "start_x=-2; end_x=6; start_y=-4; end_y=4\n",
    "\n",
    "signal = fwd_resp#temporal[:,k]\n",
    "#plt.subplot(5,5,k+1)\n",
    "fictrac_2d, bin_cnt, bins_x, bins_y = bin_2D_plot(X_var, Y_var, signal,\n",
    "                                 num_bins_x=25, num_bins_y=25,\n",
    "                                 start_x=start_x, end_x=end_x, start_y=start_y, end_y=end_y,\n",
    "                                 min_num_samples=9)\n",
    "\n",
    "\n",
    "plt.imshow(fictrac_2d[:,:],cmap='gray',vmin=0,vmax=30,extent=[-2.35,6,-4.35,4]) #.2\n",
    "#plt.imshow(fictrac_2d[:,:],cmap=orange_blue,vmin=-7,vmax=7,extent=[-2.35,6,-4.35,4])\n",
    "\n",
    "ax = plt.gca()\n",
    "\n",
    "ratio = np.max(behavior_super['Z_std'])/np.max(behavior_super['Z_units'])\n",
    "ax.set_yticklabels([-300, 0, 300])\n",
    "ax.set_yticks([-300*ratio, 0, 300*ratio])\n",
    "\n",
    "ratio = np.max(behavior_super['Y_std'])/np.max(behavior_super['Y_units'])\n",
    "ax.set_xticklabels([0, 10])\n",
    "ax.set_xticks([0, 10*ratio])\n",
    "\n",
    "plt.ylabel('Vr deg/sec')\n",
    "plt.xlabel('Vf mm/sec')\n",
    "\n",
    "#plt.colorbar()\n",
    "\n",
    "#ax.axhline(0,linestyle='--',color='k',linewidth=1)\n",
    "#ax.axvline(0,linestyle='--',color='k',linewidth=1)\n",
    "plt.subplots_adjust(wspace=0, hspace=0)\n",
    "save_path = '/oak/stanford/groups/trc/data/Brezovec/2P_Imaging/figs'\n",
    "timestr = time.strftime(\"%Y%m%d-%H%M%S\")\n",
    "fname = os.path.join(save_path, f'{timestr}')\n",
    "#plt.savefig(fname,dpi=300,bbox_inches='tight')"
   ]
  },
  {
   "cell_type": "code",
   "execution_count": 33,
   "metadata": {},
   "outputs": [
    {
     "data": {
      "image/png": "[encoded data removed]",
      "text/plain": [
       "<Figure size 720x720 with 1 Axes>"
      ]
     },
     "metadata": {},
     "output_type": "display_data"
    }
   ],
   "source": [
    "X_var = behavior_super['Y_std']\n",
    "Y_var = behavior_super['Z_std']\n",
    "fig = plt.figure(figsize=(10,10))\n",
    "#ax = fig.add_axes([0,0,1,1])\n",
    "start_x=-2; end_x=6; start_y=-4; end_y=4\n",
    "\n",
    "signal = fwd_resp#temporal[:,k]\n",
    "#plt.subplot(5,5,k+1)\n",
    "fictrac_2d, bin_cnt, bins_x, bins_y = bin_2D_plot(X_var, Y_var, signal,\n",
    "                                 num_bins_x=25, num_bins_y=25,\n",
    "                                 start_x=start_x, end_x=end_x, start_y=start_y, end_y=end_y,\n",
    "                                 min_num_samples=9)\n",
    "\n",
    "\n",
    "plt.imshow(fictrac_2d[:,:],cmap='gray',vmin=0,vmax=150,extent=[-2.35,6,-4.35,4]) #.2\n",
    "#plt.imshow(fictrac_2d[:,:],cmap=orange_blue,vmin=-7,vmax=7,extent=[-2.35,6,-4.35,4])\n",
    "\n",
    "ax = plt.gca()\n",
    "\n",
    "ratio = np.max(behavior_super['Z_std'])/np.max(behavior_super['Z_units'])\n",
    "ax.set_yticklabels([-300, 0, 300])\n",
    "ax.set_yticks([-300*ratio, 0, 300*ratio])\n",
    "\n",
    "ratio = np.max(behavior_super['Y_std'])/np.max(behavior_super['Y_units'])\n",
    "ax.set_xticklabels([0, 10])\n",
    "ax.set_xticks([0, 10*ratio])\n",
    "\n",
    "plt.ylabel('Vr deg/sec')\n",
    "plt.xlabel('Vf mm/sec')\n",
    "\n",
    "#plt.colorbar()\n",
    "\n",
    "#ax.axhline(0,linestyle='--',color='k',linewidth=1)\n",
    "#ax.axvline(0,linestyle='--',color='k',linewidth=1)\n",
    "plt.subplots_adjust(wspace=0, hspace=0)\n",
    "save_path = '/oak/stanford/groups/trc/data/Brezovec/2P_Imaging/figs'\n",
    "timestr = time.strftime(\"%Y%m%d-%H%M%S\")\n",
    "fname = os.path.join(save_path, f'{timestr}')\n",
    "#plt.savefig(fname,dpi=300,bbox_inches='tight')"
   ]
  },
  {
   "cell_type": "code",
   "execution_count": null,
   "metadata": {
    "collapsed": true
   },
   "outputs": [],
   "source": []
  }
 ],
 "metadata": {
  "kernelspec": {
   "display_name": "Python 3",
   "language": "python",
   "name": "python3"
  },
  "language_info": {
   "codemirror_mode": {
    "name": "ipython",
    "version": 3
   },
   "file_extension": ".py",
   "mimetype": "text/x-python",
   "name": "python",
   "nbconvert_exporter": "python",
   "pygments_lexer": "ipython3",
   "version": "3.6.1"
  }
 },
 "nbformat": 4,
 "nbformat_minor": 2
}
