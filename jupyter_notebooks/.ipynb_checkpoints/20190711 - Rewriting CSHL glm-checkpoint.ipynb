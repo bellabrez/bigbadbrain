{
 "cells": [
  {
   "cell_type": "code",
   "execution_count": 169,
   "metadata": {
    "collapsed": true
   },
   "outputs": [],
   "source": [
    "import numpy as np\n",
    "from time import time\n",
    "import os\n",
    "import sys\n",
    "import scipy\n",
    "import matplotlib.pyplot as plt\n",
    "from scipy.interpolate import interp1d\n",
    "import pandas as pd\n",
    "import psutil\n",
    "sys.path.insert(0, '/home/users/brezovec/.local/lib/python3.6/site-packages/lib/python/')\n",
    "import ants\n",
    "import bigbadbrain as bbb\n",
    "from scipy.linalg import toeplitz\n",
    "import scipy.linalg as sl\n",
    "from scipy.signal import convolve2d\n",
    "from scipy.signal import convolve\n",
    "from sklearn.linear_model import LassoLarsIC\n",
    "from tqdm import tqdm"
   ]
  },
  {
   "cell_type": "code",
   "execution_count": 2,
   "metadata": {
    "collapsed": true
   },
   "outputs": [],
   "source": [
    "directory = '/oak/stanford/groups/trc/data/Brezovec/2P_Imaging/20190101_walking_dataset/fly_27/func_0'"
   ]
  },
  {
   "cell_type": "code",
   "execution_count": 4,
   "metadata": {},
   "outputs": [
    {
     "name": "stdout",
     "output_type": "stream",
     "text": [
      "\n",
      "~~ load_numpy_brain ~~\n",
      "load_numpy_brain done. Duration: 21.57 sec\n"
     ]
    }
   ],
   "source": [
    "brain_path = os.path.join(directory, 'brain_zscored_green.nii')\n",
    "brain = bbb.load_numpy_brain(brain_path)"
   ]
  },
  {
   "cell_type": "code",
   "execution_count": 8,
   "metadata": {},
   "outputs": [
    {
     "name": "stdout",
     "output_type": "stream",
     "text": [
      "\n",
      "~~ load_timestamps ~~\n",
      "Trying to load timestamp data from hdf5 file.\n",
      "Success.\n",
      "load_timestamps done. Duration: 87.53 ms\n"
     ]
    }
   ],
   "source": [
    "timestamps = bbb.load_timestamps(os.path.join(directory, 'imaging'))"
   ]
  },
  {
   "cell_type": "code",
   "execution_count": null,
   "metadata": {
    "collapsed": true
   },
   "outputs": [],
   "source": [
    "# The goal\n",
    "# First need a vector of 0s, with 1s where onset of stimuli\n",
    "# Interp brain data to 100ms time points - do same interp on stimuli timing\n",
    "# Then it is easy!\n",
    "# Timestamps and stim times are all in ms and correctly aligned. Easy!!!\n",
    "# Then, with 01 vector, make into toeplitz to calculate canonical response."
   ]
  },
  {
   "cell_type": "code",
   "execution_count": 64,
   "metadata": {
    "collapsed": true
   },
   "outputs": [],
   "source": [
    "resolution = 100 #desired resolution in ms\n",
    "expt_len = 1000*30*60\n",
    "z = 17\n",
    "x = 40\n",
    "y = 68"
   ]
  },
  {
   "cell_type": "code",
   "execution_count": 42,
   "metadata": {
    "collapsed": true
   },
   "outputs": [],
   "source": [
    "timestamps_interp, brain_interp = interp_data(brain,resolution,z,expt_len)"
   ]
  },
  {
   "cell_type": "code",
   "execution_count": 41,
   "metadata": {
    "collapsed": true
   },
   "outputs": [],
   "source": [
    "def interp_data(brain, resolution, z, expt_len):\n",
    "    #resolution is in ms\n",
    "    interp = interp1d(timestamps[:,z], brain[:,:,z,:], fill_value='extrapolate')\n",
    "    #xnew = np.arange(0,timestamps[-1,z],resolution) #0 to last time at subsample res\n",
    "    xnew = np.arange(0,expt_len,resolution) #0 to last time at subsample res\n",
    "    y = interp(xnew)\n",
    "    return xnew, y"
   ]
  },
  {
   "cell_type": "code",
   "execution_count": 19,
   "metadata": {},
   "outputs": [
    {
     "name": "stdout",
     "output_type": "stream",
     "text": [
      "loading photodiode data... done\n",
      "loading visual stimuli data... done\n",
      "Successfully parsed all stimuli from photodiode output.\n"
     ]
    }
   ],
   "source": [
    "unique_stimuli = bbb.get_stimuli(os.path.join(directory,'visual'))"
   ]
  },
  {
   "cell_type": "markdown",
   "metadata": {},
   "source": [
    "###### Calculate canonical response"
   ]
  },
  {
   "cell_type": "code",
   "execution_count": 93,
   "metadata": {
    "collapsed": true
   },
   "outputs": [],
   "source": [
    "def make_01_vector(stimtimes, resolution, expt_len):\n",
    "    stimtimes01 = np.zeros(int(expt_len/resolution))\n",
    "    stim_ints = [int(i/resolution) for i in stimtimes]\n",
    "    stimtimes01[stim_ints] = 1\n",
    "    return stimtimes01"
   ]
  },
  {
   "cell_type": "code",
   "execution_count": 94,
   "metadata": {},
   "outputs": [],
   "source": [
    "stimtimes01 = make_01_vector(unique_stimuli[1]['times'], resolution, expt_len)"
   ]
  },
  {
   "cell_type": "code",
   "execution_count": 84,
   "metadata": {},
   "outputs": [
    {
     "name": "stdout",
     "output_type": "stream",
     "text": [
      "(18000, 30)\n",
      "(162000, 30)\n"
     ]
    }
   ],
   "source": [
    "# Form Toeplitz\n",
    "beta_len = 30 #in resolution units\n",
    "num_voxel_to_avg = 9\n",
    "X = toeplitz(stimtimes01,np.zeros(beta_len))\n",
    "print(np.shape(X))\n",
    "X = np.tile(X,(num_voxel_to_avg,1))\n",
    "print(np.shape(X))"
   ]
  },
  {
   "cell_type": "code",
   "execution_count": 85,
   "metadata": {},
   "outputs": [],
   "source": [
    "# Create response vector\n",
    "Y=[]\n",
    "for w in range(x,x+3):\n",
    "    for h in range(y,y+3):\n",
    "        Y.append(brain_interp[w,h,:])\n",
    "Y = np.reshape(Y,(np.size(Y)))\n",
    "\n",
    "# Solve linear algebra\n",
    "results = sl.lstsq(X, Y)\n",
    "canonical_resp = results[0]"
   ]
  },
  {
   "cell_type": "code",
   "execution_count": 86,
   "metadata": {},
   "outputs": [
    {
     "data": {
      "image/png": "[encoded data removed]",
      "text/plain": [
       "<Figure size 432x288 with 1 Axes>"
      ]
     },
     "metadata": {},
     "output_type": "display_data"
    }
   ],
   "source": [
    "#1 sec on, 2sec off\n",
    "plt.plot(canonical_resp)\n",
    "plt.show()"
   ]
  },
  {
   "cell_type": "markdown",
   "metadata": {},
   "source": [
    "###### Calculate direction betas"
   ]
  },
  {
   "cell_type": "code",
   "execution_count": 145,
   "metadata": {},
   "outputs": [],
   "source": [
    "stims01 = []\n",
    "for i in range(len(unique_stimuli)):\n",
    "    out = make_01_vector(unique_stimuli[i]['times'], resolution, expt_len)\n",
    "    stims01.append(out)\n",
    "stims01 = np.asarray(stims01).T"
   ]
  },
  {
   "cell_type": "code",
   "execution_count": 146,
   "metadata": {},
   "outputs": [],
   "source": [
    "#convolve\n",
    "resp2d = np.reshape(canonical_resp,(beta_len,1))\n",
    "X2 = convolve2d(stims01,resp2d)\n",
    "X2 = X2[:len(stimtimes01),:]"
   ]
  },
  {
   "cell_type": "code",
   "execution_count": 148,
   "metadata": {},
   "outputs": [
    {
     "name": "stderr",
     "output_type": "stream",
     "text": [
      "100%|██████████| 128/128 [00:55<00:00,  2.37it/s]\n"
     ]
    }
   ],
   "source": [
    "betas = []\n",
    "scores = []\n",
    "\n",
    "for w in tqdm(range(np.shape(brain_interp)[0])):\n",
    "    for h in range(np.shape(brain_interp)[1]):\n",
    "        Y = brain_interp[w,h,:]\n",
    "        model = LassoLarsIC(criterion='bic')\n",
    "        model.fit(X2, Y)\n",
    "        betas.append(model.coef_)\n",
    "        scores.append(model.score(X2,Y))\n",
    "        \n",
    "scores = np.reshape(scores, (128,80)).T\n",
    "betas = np.reshape(betas, (128,80,4))\n",
    "betas = np.swapaxes(betas,0,1)"
   ]
  },
  {
   "cell_type": "code",
   "execution_count": 149,
   "metadata": {},
   "outputs": [
    {
     "data": {
      "image/png": "[encoded data removed]",
      "text/plain": [
       "<Figure size 432x288 with 1 Axes>"
      ]
     },
     "metadata": {},
     "output_type": "display_data"
    }
   ],
   "source": [
    "plt.imshow(scores,vmax=.01)\n",
    "plt.show()"
   ]
  },
  {
   "cell_type": "code",
   "execution_count": 167,
   "metadata": {},
   "outputs": [
    {
     "data": {
      "image/png": "[encoded data removed]",
      "text/plain": [
       "<Figure size 432x288 with 1 Axes>"
      ]
     },
     "metadata": {},
     "output_type": "display_data"
    }
   ],
   "source": [
    "plt.imshow(betas[:,:,1])\n",
    "plt.show()"
   ]
  },
  {
   "cell_type": "code",
   "execution_count": 189,
   "metadata": {},
   "outputs": [
    {
     "name": "stderr",
     "output_type": "stream",
     "text": [
      "100%|██████████| 128/128 [00:32<00:00,  3.86it/s]\n",
      "100%|██████████| 128/128 [00:32<00:00,  3.88it/s]\n",
      "100%|██████████| 128/128 [00:32<00:00,  3.84it/s]\n",
      "100%|██████████| 128/128 [00:32<00:00,  3.90it/s]\n"
     ]
    }
   ],
   "source": [
    "# Alternative method - fit separately on each direction\n",
    "betas = []\n",
    "scores = []\n",
    "\n",
    "for i in range(4):\n",
    "    stim01 = make_01_vector(unique_stimuli[i]['times'], resolution, expt_len)\n",
    "    X = np.reshape(convolve(stim01, canonical_resp), (-1,1))\n",
    "    X = X[:len(stim01),:]\n",
    "    for w in tqdm(range(np.shape(brain_interp)[0])):\n",
    "        for h in range(np.shape(brain_interp)[1]):\n",
    "            Y = brain_interp[w,h,:]\n",
    "            model = LassoLarsIC(criterion='bic')\n",
    "            model.fit(X, Y)\n",
    "            betas.append(model.coef_)\n",
    "            scores.append(model.score(X,Y))"
   ]
  },
  {
   "cell_type": "code",
   "execution_count": 185,
   "metadata": {},
   "outputs": [
    {
     "data": {
      "text/plain": [
       "(40960,)"
      ]
     },
     "execution_count": 185,
     "metadata": {},
     "output_type": "execute_result"
    }
   ],
   "source": [
    "np.shape(scores)"
   ]
  },
  {
   "cell_type": "code",
   "execution_count": 190,
   "metadata": {},
   "outputs": [],
   "source": [
    "scores = np.reshape(scores, (4,128,80))"
   ]
  },
  {
   "cell_type": "code",
   "execution_count": 191,
   "metadata": {
    "collapsed": true
   },
   "outputs": [],
   "source": [
    "scores = np.swapaxes(scores,2,1)"
   ]
  },
  {
   "cell_type": "code",
   "execution_count": 199,
   "metadata": {},
   "outputs": [
    {
     "data": {
      "image/png": "[encoded data removed]",
      "text/plain": [
       "<Figure size 432x288 with 1 Axes>"
      ]
     },
     "metadata": {},
     "output_type": "display_data"
    }
   ],
   "source": [
    "plt.imshow(scores[2,:,:],vmax=.01)\n",
    "plt.show()"
   ]
  },
  {
   "cell_type": "code",
   "execution_count": null,
   "metadata": {
    "collapsed": true
   },
   "outputs": [],
   "source": [
    "#X2 = np.tile(X2,(1,brain.height*brain.width))"
   ]
  },
  {
   "cell_type": "code",
   "execution_count": null,
   "metadata": {
    "collapsed": true
   },
   "outputs": [],
   "source": [
    "dir_betas=[]\n",
    "\n",
    "for w in tqdm(range(brain.width)):\n",
    "    for h in range(brain.height):\n",
    "        Y = brain_interp[h,w,:]\n",
    "        results = sl.lstsq(X2, Y)\n",
    "        dir_betas.append(results[0])\n",
    "        \n",
    "dir_betas = np.reshape(dir_betas,(brain.width,brain.height,4))\n",
    "dir_betas = np.swapaxes(dir_betas,0,1)"
   ]
  },
  {
   "cell_type": "code",
   "execution_count": null,
   "metadata": {
    "collapsed": true
   },
   "outputs": [],
   "source": [
    "fig = plt.figure(figsize=(20,10))\n",
    "plt.suptitle('first half of data')\n",
    "plt.subplot(221)\n",
    "plt.imshow(dir_betas[:,:,0],cmap='inferno')\n",
    "plt.subplot(222)\n",
    "plt.imshow(dir_betas[:,:,1],cmap='inferno')\n",
    "plt.subplot(223)\n",
    "plt.imshow(dir_betas[:,:,2],cmap='inferno')\n",
    "plt.subplot(224)\n",
    "plt.imshow(dir_betas[:,:,3],cmap='inferno')"
   ]
  },
  {
   "cell_type": "markdown",
   "metadata": {},
   "source": [
    "###### Calculate R2"
   ]
  },
  {
   "cell_type": "code",
   "execution_count": null,
   "metadata": {
    "collapsed": true
   },
   "outputs": [],
   "source": [
    "r2s = []\n",
    "predictions = []\n",
    "for h in tqdm(range(brain.height)):\n",
    "    for w in range(brain.width):\n",
    "        predict = {}\n",
    "        for i, direction in enumerate(directions):\n",
    "            predict[direction] = np.convolve(stimtimes01_dir[direction],canonical_resp*dir_betas[h,w,i])\n",
    "            predict[direction] = predict[direction][:len(stimtimes01_dir[direction])]\n",
    "        prediction = predict['up']+predict['right']+predict['down']+predict['left'] ##FIX QUALITY\n",
    "        predictions.append(prediction) #for later visualization\n",
    "        \n",
    "        \n",
    "        Y = brain.vol_corrected[h,w,:]\n",
    "        cor = np.corrcoef(prediction, Y)\n",
    "        r2 = np.power(cor[0][1],2)\n",
    "        r2s.append(r2)\n",
    "\n",
    "r2s = np.reshape(r2s,(brain.height,brain.width))\n",
    "#predictions = np.reshape(predictions,(brain.height,brain.width,exp_duration)) #Put back later if was to visualize predictions"
   ]
  },
  {
   "cell_type": "code",
   "execution_count": null,
   "metadata": {
    "collapsed": true
   },
   "outputs": [],
   "source": [
    "fig = plt.figure(figsize=(20,10))\n",
    "threshold = 0.005\n",
    "plt.set_cmap('inferno')\n",
    "plt.subplot(221)\n",
    "plot = np.copy(dir_betas[:,:,0])\n",
    "plot[np.where(r2s<threshold)]=0\n",
    "plt.imshow(plot,vmax=1)\n",
    "\n",
    "plt.subplot(222)\n",
    "plot = np.copy(dir_betas[:,:,1])\n",
    "plot[np.where(r2s<threshold)]=0\n",
    "plt.imshow(plot,vmax=1)\n",
    "\n",
    "plt.subplot(223)\n",
    "plot = np.copy(dir_betas[:,:,2])\n",
    "plot[np.where(r2s<threshold)]=0\n",
    "plt.imshow(plot,vmax=1)\n",
    "\n",
    "plt.subplot(224)\n",
    "plot = np.copy(dir_betas[:,:,3])\n",
    "plot[np.where(r2s<threshold)]=0\n",
    "plt.imshow(plot,vmax=1)"
   ]
  },
  {
   "cell_type": "markdown",
   "metadata": {},
   "source": [
    "###### Calculate R2 for individual directions instead of pooling"
   ]
  },
  {
   "cell_type": "code",
   "execution_count": null,
   "metadata": {
    "collapsed": true
   },
   "outputs": [],
   "source": [
    "r2s_dir = {}\n",
    "\n",
    "for i, direction in enumerate(directions):\n",
    "    r2s_dir[direction] = []\n",
    "    for h in tqdm(range(brain.height)):\n",
    "        for w in range(brain.width):\n",
    "            prediction = np.convolve(stimtimes01_dir[direction],canonical_resp*dir_betas[h,w,i])\n",
    "            prediction = prediction[:len(stimtimes01_dir[direction])]\n",
    "            Y = brain.vol_corrected[h,w,:]\n",
    "            cor = np.corrcoef(prediction, Y)\n",
    "            r2 = np.power(cor[0][1],2)\n",
    "            r2s_dir[direction].append(r2)\n",
    "    r2s_dir[direction] = np.reshape(r2s_dir[direction],(brain.height,brain.width))"
   ]
  },
  {
   "cell_type": "code",
   "execution_count": null,
   "metadata": {
    "collapsed": true
   },
   "outputs": [],
   "source": [
    "fig = plt.figure(figsize = (20,10))\n",
    "threshold = 0.008\n",
    "plt.set_cmap('inferno')\n",
    "#plt.suptitle('second 5 min')\n",
    "\n",
    "for i, direction in enumerate(directions):\n",
    "    plt.subplot(2,2,i+1)\n",
    "    plot = np.copy(dir_betas[:,:,i])\n",
    "    plot[np.where(r2s_dir[direction]<threshold)]=0\n",
    "    plt.imshow(plot,vmin=-.5,vmax=1)\n",
    "    plt.colorbar()"
   ]
  }
 ],
 "metadata": {
  "kernelspec": {
   "display_name": "Python 3",
   "language": "python",
   "name": "python3"
  },
  "language_info": {
   "codemirror_mode": {
    "name": "ipython",
    "version": 3
   },
   "file_extension": ".py",
   "mimetype": "text/x-python",
   "name": "python",
   "nbconvert_exporter": "python",
   "pygments_lexer": "ipython3",
   "version": "3.6.1"
  }
 },
 "nbformat": 4,
 "nbformat_minor": 2
}
