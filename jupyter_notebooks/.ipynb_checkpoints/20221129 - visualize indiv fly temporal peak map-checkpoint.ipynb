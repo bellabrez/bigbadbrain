{
 "cells": [
  {
   "cell_type": "code",
   "execution_count": 1,
   "metadata": {},
   "outputs": [
    {
     "name": "stderr",
     "output_type": "stream",
     "text": [
      "/home/users/brezovec/.local/lib/python3.6/site-packages/ants/viz/render_surface_function.py:16: UserWarning: Cant import Plotly. Install it `pip install chart_studio` if you want to use ants.render_surface_function\n",
      "  \"Cant import Plotly. Install it `pip install chart_studio` if you want to use ants.render_surface_function\"\n"
     ]
    }
   ],
   "source": [
    "import pickle\n",
    "import os\n",
    "import time\n",
    "import numpy as np\n",
    "import matplotlib.pyplot as plt\n",
    "%matplotlib inline\n",
    "from sklearn.decomposition import FastICA\n",
    "from mpl_toolkits.axes_grid1 import ImageGrid\n",
    "from sklearn.cluster import AgglomerativeClustering\n",
    "from scipy.cluster.hierarchy import dendrogram\n",
    "import nibabel as nib\n",
    "import ants\n",
    "from scipy.ndimage.morphology import binary_erosion\n",
    "from scipy.ndimage.morphology import binary_dilation\n",
    "import cv2\n",
    "import bigbadbrain as bbb\n",
    "import scipy\n",
    "from scipy.interpolate import interp1d\n",
    "from matplotlib.colors import ListedColormap\n",
    "from matplotlib.pyplot import cm\n",
    "import matplotlib.colors as mcolors\n",
    "import matplotlib\n",
    "import tqdm\n",
    "import brainsss"
   ]
  },
  {
   "cell_type": "code",
   "execution_count": 2,
   "metadata": {
    "collapsed": true
   },
   "outputs": [],
   "source": [
    "cluster_dir = \"/oak/stanford/groups/trc/data/Brezovec/2P_Imaging/20221109_cluster_pca/\""
   ]
  },
  {
   "cell_type": "code",
   "execution_count": 3,
   "metadata": {},
   "outputs": [
    {
     "name": "stdout",
     "output_type": "stream",
     "text": [
      "(501, 9, 4, 500)\n"
     ]
    }
   ],
   "source": [
    "### TEMPORAL NEWEST ### (supercluster version)\n",
    "# not based on average supercluster signal, but rather averaged filters from supervoxels\n",
    "temporal_filters_indiv = []\n",
    "for fly in range(9):\n",
    "    file = os.path.join(cluster_dir,\"20221128_indiv_temporal_filters\", F\"fly_{fly}.npy\")\n",
    "    temporal_filters_indiv.append(np.load(file))\n",
    "temporal_filters_indiv = np.asarray(temporal_filters_indiv)\n",
    "temporal_filters_indiv = np.swapaxes(temporal_filters_indiv,0,1)\n",
    "temporal_filters_indiv = np.reshape(temporal_filters_indiv,(501,9,4,500))\n",
    "print(temporal_filters_indiv.shape)"
   ]
  },
  {
   "cell_type": "code",
   "execution_count": null,
   "metadata": {
    "collapsed": true
   },
   "outputs": [],
   "source": [
    "### average across flies\n",
    "temporal_filters = np.mean(temporal_filters_indiv,axis=1)"
   ]
  },
  {
   "cell_type": "code",
   "execution_count": 27,
   "metadata": {
    "collapsed": true
   },
   "outputs": [],
   "source": [
    "mean_map = None\n",
    "filters_in_FDA = None"
   ]
  },
  {
   "cell_type": "code",
   "execution_count": 24,
   "metadata": {},
   "outputs": [
    {
     "ename": "AttributeError",
     "evalue": "'NoneType' object has no attribute 'shape'",
     "output_type": "error",
     "traceback": [
      "\u001b[0;31m---------------------------------------------------------------------------\u001b[0m",
      "\u001b[0;31mAttributeError\u001b[0m                            Traceback (most recent call last)",
      "\u001b[0;32m<ipython-input-24-809fd01aa92d>\u001b[0m in \u001b[0;36m<module>\u001b[0;34m()\u001b[0m\n\u001b[0;32m----> 1\u001b[0;31m \u001b[0mmean_map\u001b[0m\u001b[0;34m.\u001b[0m\u001b[0mshape\u001b[0m\u001b[0;34m,\u001b[0m \u001b[0mfilters_in_FDA\u001b[0m\u001b[0;34m.\u001b[0m\u001b[0mshape\u001b[0m\u001b[0;34m\u001b[0m\u001b[0m\n\u001b[0m",
      "\u001b[0;31mAttributeError\u001b[0m: 'NoneType' object has no attribute 'shape'"
     ]
    }
   ],
   "source": [
    "mean_map.shape, filters_in_FDA.shape"
   ]
  },
  {
   "cell_type": "code",
   "execution_count": 38,
   "metadata": {},
   "outputs": [
    {
     "name": "stdout",
     "output_type": "stream",
     "text": [
      "loading...\n",
      "exploding\n",
      "exploding\n",
      "exploding\n",
      "loading...\n",
      "exploding\n",
      "exploding\n",
      "exploding\n",
      "loading...\n",
      "exploding\n",
      "exploding\n",
      "exploding\n",
      "loading...\n",
      "exploding\n",
      "exploding\n",
      "exploding\n",
      "loading...\n",
      "exploding\n",
      "exploding\n",
      "exploding\n",
      "loading...\n",
      "exploding\n",
      "exploding\n",
      "exploding\n",
      "loading...\n",
      "exploding\n",
      "exploding\n",
      "exploding\n",
      "loading...\n",
      "exploding\n",
      "exploding\n",
      "exploding\n",
      "loading...\n",
      "exploding\n",
      "exploding\n",
      "exploding\n"
     ]
    }
   ],
   "source": [
    "mean_map = np.zeros((314, 146, 91, 2000))\n",
    "maps = []\n",
    "#supervoxel version\n",
    "for fly in range(9):\n",
    "    print('loading...')\n",
    "    file = F\"/scratch/users/brezovec/20221127_indiv_filters_in_FDA/fly_{fly}.npy\"\n",
    "    filters_in_FDA = np.load(file)\n",
    "    \n",
    "    mean_map += filters_in_FDA\n",
    "    \n",
    "    for beh in [0,1,2]:\n",
    "        temporal_map = np.argmax(filters_in_FDA[...,500*beh:500*(beh+1)],axis=-1)\n",
    "        peak_values = np.max(filters_in_FDA[...,:500],axis=-1)\n",
    "        print('exploding')\n",
    "        for percentile in [0,60,80,90,95]:\n",
    "            thresh = np.percentile(peak_values.flatten(),percentile)\n",
    "            temporal_map[peak_values<thresh] = 0\n",
    "            \n",
    "            input_canvas = np.zeros((500,500))\n",
    "\n",
    "            x_shift=0; y_shift=0\n",
    "            data_map, contours = plot_grouped_roi_image(FB_group.keys(), plot=False)\n",
    "            canvas = place_on_canvas_wrapper(input_canvas, data_map, contours, y_shift=y_shift, x_shift=x_shift)\n",
    "\n",
    "            x_shift=0; y_shift=-45\n",
    "            data_map, contours = plot_grouped_roi_image(PB.keys(), plot=False)\n",
    "            canvas = place_on_canvas_wrapper(canvas, data_map, contours, y_shift=y_shift, x_shift=x_shift)\n",
    "\n",
    "            x_shift=0; y_shift=35\n",
    "            data_map, contours = plot_grouped_roi_image({23: 'EB'}.keys(), plot=False)\n",
    "            canvas = place_on_canvas_wrapper(canvas, data_map, contours, y_shift=y_shift, x_shift=x_shift)\n",
    "\n",
    "            ##########\n",
    "            ### MB ###\n",
    "            ##########\n",
    "\n",
    "            # x_shift=60; y_shift=-50\n",
    "            # data_map, contours = plot_grouped_roi_image(MB_left_group.keys(), plot=False)\n",
    "            # canvas = place_on_canvas_wrapper(input_canvas, data_map, contours, y_shift=y_shift, x_shift=x_shift)\n",
    "            # x_shift=-60; y_shift=-50\n",
    "            # data_map, contours = plot_grouped_roi_image(MB_right_group.keys(), plot=False)\n",
    "            # canvas = place_on_canvas_wrapper(input_canvas, data_map, contours, y_shift=y_shift, x_shift=x_shift)\n",
    "\n",
    "            #################\n",
    "            ### BIG GROUP ###\n",
    "            #################\n",
    "\n",
    "            x_shift=-130; y_shift=30\n",
    "            data_map, contours = plot_grouped_roi_image(big_r_group.keys(), plot=False)\n",
    "            canvas = place_on_canvas_wrapper(input_canvas, data_map, contours, y_shift=y_shift, x_shift=x_shift)\n",
    "            x_shift=130; y_shift=30\n",
    "            data_map, contours = plot_grouped_roi_image(big_l_group.keys(), plot=False)\n",
    "            canvas = place_on_canvas_wrapper(input_canvas, data_map, contours, y_shift=y_shift, x_shift=x_shift)\n",
    "\n",
    "            ##############\n",
    "            ### VISUAL ###\n",
    "            ##############\n",
    "\n",
    "            x_shift=-200; y_shift=175\n",
    "            data_map, contours = plot_grouped_roi_image({25: 'MED_R'}.keys(), plot=False)\n",
    "            canvas = place_on_canvas_wrapper(input_canvas, data_map, contours, y_shift=y_shift, x_shift=x_shift)\n",
    "            x_shift=200; y_shift=175\n",
    "            data_map, contours = plot_grouped_roi_image({71: 'MED_L'}.keys(), plot=False)\n",
    "            canvas = place_on_canvas_wrapper(input_canvas, data_map, contours, y_shift=y_shift, x_shift=x_shift)\n",
    "\n",
    "            x_shift=-140; y_shift=40+175\n",
    "            data_map, contours = plot_grouped_roi_image({3: 'LO_R'}.keys(), plot=False)\n",
    "            canvas = place_on_canvas_wrapper(input_canvas, data_map, contours, y_shift=y_shift, x_shift=x_shift)\n",
    "            x_shift=140; y_shift=40+175\n",
    "            data_map, contours = plot_grouped_roi_image({53: 'LO_L'}.keys(), plot=False)\n",
    "            canvas = place_on_canvas_wrapper(input_canvas, data_map, contours, y_shift=y_shift, x_shift=x_shift)\n",
    "\n",
    "            x_shift=-140; y_shift=-30+175\n",
    "            data_map, contours = plot_grouped_roi_image({22: 'LP_R'}.keys(), plot=False)\n",
    "            canvas = place_on_canvas_wrapper(input_canvas, data_map, contours, y_shift=y_shift, x_shift=x_shift)\n",
    "            x_shift=140; y_shift=-30+175\n",
    "            data_map, contours = plot_grouped_roi_image({69: 'LP_L'}.keys(), plot=False)\n",
    "            canvas = place_on_canvas_wrapper(input_canvas, data_map, contours, y_shift=y_shift, x_shift=x_shift)\n",
    "\n",
    "            canvas = wraper_wraper(canvas, ventromedial_r_group.keys(), y_shift=55, x_shift=-50)\n",
    "            canvas = wraper_wraper(canvas, ventromedial_l_group.keys(), y_shift=55, x_shift=50)\n",
    "\n",
    "            canvas = wraper_wraper(canvas, anterior_group.keys(), y_shift=150, x_shift=0)\n",
    "\n",
    "            canvas = wraper_wraper(canvas, {34: 'AOTU_R'}.keys(), y_shift=-50+175-15, x_shift=-80)\n",
    "            canvas = wraper_wraper(canvas, {79: 'AOTU_L'}.keys(), y_shift=-50+175-15, x_shift=80)\n",
    "\n",
    "            canvas[np.where(canvas==0)] = np.nan\n",
    "            \n",
    "            maps.append(canvas)\n",
    "            \n",
    "    filters_in_FDA = None\n",
    "    time.sleep(10)"
   ]
  },
  {
   "cell_type": "code",
   "execution_count": 40,
   "metadata": {},
   "outputs": [
    {
     "data": {
      "text/plain": [
       "(135, 500, 500)"
      ]
     },
     "execution_count": 40,
     "metadata": {},
     "output_type": "execute_result"
    }
   ],
   "source": [
    "maps = np.asarray(maps)\n",
    "maps.shape"
   ]
  },
  {
   "cell_type": "code",
   "execution_count": 43,
   "metadata": {},
   "outputs": [],
   "source": [
    "maps = np.reshape(maps,(9,3,5,500,500))"
   ]
  },
  {
   "cell_type": "code",
   "execution_count": 39,
   "metadata": {},
   "outputs": [
    {
     "data": {
      "text/plain": [
       "<matplotlib.image.AxesImage at 0x7fd06af77b70>"
      ]
     },
     "execution_count": 39,
     "metadata": {},
     "output_type": "execute_result"
    },
    {
     "data": {
      "image/png": "[encoded data removed]",
      "text/plain": [
       "<Figure size 432x288 with 1 Axes>"
      ]
     },
     "metadata": {},
     "output_type": "display_data"
    }
   ],
   "source": [
    "plt.imshow(maps[9][150:,:],cmap=mymap,vmin=end_c,vmax=start_c)"
   ]
  },
  {
   "cell_type": "code",
   "execution_count": 54,
   "metadata": {},
   "outputs": [
    {
     "data": {
      "image/png": "[encoded data removed]",
      "text/plain": [
       "<Figure size 720x720 with 27 Axes>"
      ]
     },
     "metadata": {},
     "output_type": "display_data"
    }
   ],
   "source": [
    "plt.figure(figsize=(10,10))\n",
    "idx = 0\n",
    "for beh in range(3):\n",
    "    for fly in range(9):\n",
    "        idx+=1\n",
    "        plt.subplot(3,9,idx)\n",
    "        plt.imshow(maps[fly,beh,0,150:,:],cmap=mymap,vmin=end_c,vmax=start_c)\n",
    "        plt.axis('off')\n",
    "plt.subplots_adjust(hspace=-.9)\n",
    "save_path = '/oak/stanford/groups/trc/data/Brezovec/2P_Imaging/figs'\n",
    "timestr = time.strftime(\"%Y%m%d-%H%M%S\")\n",
    "fname = os.path.join(save_path, f'{timestr}')\n",
    "plt.savefig(fname,dpi=300,bbox_inches='tight')"
   ]
  },
  {
   "cell_type": "code",
   "execution_count": 29,
   "metadata": {},
   "outputs": [
    {
     "data": {
      "text/plain": [
       "15"
      ]
     },
     "execution_count": 29,
     "metadata": {},
     "output_type": "execute_result"
    }
   ],
   "source": [
    "len(maps)"
   ]
  },
  {
   "cell_type": "code",
   "execution_count": 12,
   "metadata": {},
   "outputs": [
    {
     "data": {
      "text/plain": [
       "(500, 500)"
      ]
     },
     "execution_count": 12,
     "metadata": {},
     "output_type": "execute_result"
    }
   ],
   "source": [
    "maps[0].shape"
   ]
  },
  {
   "cell_type": "code",
   "execution_count": 30,
   "metadata": {},
   "outputs": [
    {
     "data": {
      "text/plain": [
       "<matplotlib.image.AxesImage at 0x7fd06b265fd0>"
      ]
     },
     "execution_count": 30,
     "metadata": {},
     "output_type": "execute_result"
    },
    {
     "data": {
      "image/png": "[encoded data removed]",
      "text/plain": [
       "<Figure size 432x288 with 1 Axes>"
      ]
     },
     "metadata": {},
     "output_type": "display_data"
    }
   ],
   "source": [
    "plt.imshow(maps[4][150:,:])"
   ]
  },
  {
   "cell_type": "code",
   "execution_count": 5,
   "metadata": {},
   "outputs": [
    {
     "data": {
      "text/plain": [
       "(314, 146, 91, 2000)"
      ]
     },
     "execution_count": 5,
     "metadata": {},
     "output_type": "execute_result"
    }
   ],
   "source": [
    "filters_in_FDA.shape"
   ]
  },
  {
   "cell_type": "code",
   "execution_count": 14,
   "metadata": {},
   "outputs": [],
   "source": [
    "temporal_map = np.argmax(filters_in_FDA[...,:500],axis=-1)\n",
    "peak_values = np.max(filters_in_FDA[...,:500],axis=-1)\n",
    "#temporal_map.shape"
   ]
  },
  {
   "cell_type": "code",
   "execution_count": 27,
   "metadata": {},
   "outputs": [],
   "source": [
    "thresh = np.percentile(peak_values.flatten(),80) #top 40% #this includes the background so lets thresh more\n",
    "temporal_map[peak_values<thresh] = 0"
   ]
  },
  {
   "cell_type": "code",
   "execution_count": 28,
   "metadata": {},
   "outputs": [
    {
     "data": {
      "text/plain": [
       "<matplotlib.image.AxesImage at 0x7fe669835d68>"
      ]
     },
     "execution_count": 28,
     "metadata": {},
     "output_type": "execute_result"
    },
    {
     "data": {
      "image/png": "[encoded data removed]",
      "text/plain": [
       "<Figure size 432x288 with 1 Axes>"
      ]
     },
     "metadata": {},
     "output_type": "display_data"
    }
   ],
   "source": [
    "plt.imshow(temporal_map[:,:,50].T)"
   ]
  },
  {
   "cell_type": "code",
   "execution_count": 36,
   "metadata": {},
   "outputs": [],
   "source": [
    "out = explode()"
   ]
  },
  {
   "cell_type": "code",
   "execution_count": 15,
   "metadata": {},
   "outputs": [
    {
     "data": {
      "image/png": "[encoded data removed]",
      "text/plain": [
       "<Figure size 432x288 with 1 Axes>"
      ]
     },
     "metadata": {},
     "output_type": "display_data"
    }
   ],
   "source": [
    "plt.hist(peak_values.flatten());"
   ]
  },
  {
   "cell_type": "code",
   "execution_count": 3,
   "metadata": {
    "collapsed": true
   },
   "outputs": [],
   "source": [
    "start_c = 265 ###\n",
    "end_c = 200 ######## most used\n",
    "middle_c = 250 ###\n",
    "\n",
    "# sample the colormaps that you want to use. Use 128 from each so we get 256\n",
    "# colors in total\n",
    "colors1 = plt.cm.Blues_r(np.linspace(0., 1, middle_c-end_c))\n",
    "colors2 = plt.cm.Reds(np.linspace(0, 1, start_c-middle_c))\n",
    "\n",
    "# combine them and build a new colormap\n",
    "colors = np.vstack((colors1, colors2))\n",
    "mymap = mcolors.LinearSegmentedColormap.from_list('my_colormap', colors)"
   ]
  },
  {
   "cell_type": "code",
   "execution_count": 4,
   "metadata": {},
   "outputs": [],
   "source": [
    "atlas_clean = brainsss.load_roi_atlas()\n",
    "explosion_rois = brainsss.load_explosion_groups()\n",
    "all_rois = brainsss.unnest_roi_groups(explosion_rois)\n",
    "roi_masks = brainsss.make_single_roi_masks(all_rois, atlas_clean)\n",
    "roi_contours = brainsss.make_single_roi_contours(roi_masks, atlas_clean)"
   ]
  },
  {
   "cell_type": "code",
   "execution_count": 5,
   "metadata": {
    "collapsed": true
   },
   "outputs": [],
   "source": [
    "def plot_grouped_roi_image(rois,plot=True):\n",
    "    roi_data = []\n",
    "    roi_contours = []\n",
    "\n",
    "    left_edges = []\n",
    "    right_edges = []\n",
    "    bottom_edges = []\n",
    "    top_edges = []\n",
    "\n",
    "    for roi in rois:\n",
    "        ####################\n",
    "        ### Get roi mask ###\n",
    "        ####################\n",
    "\n",
    "        mask = np.zeros(atlas_clean.shape)\n",
    "        mask[np.where(atlas_clean == roi)] = 1\n",
    "\n",
    "        mask_eroded = binary_erosion(mask, structure=np.ones((2,2,2)))\n",
    "        mask_dilated = binary_dilation(mask_eroded, iterations=2)\n",
    "\n",
    "        # temporal\n",
    "        masked_roi = mask_dilated*temporal_map #CORR\n",
    "        masked_roi_flat = np.max(masked_roi,axis=2)\n",
    "        roi_data.append(masked_roi_flat)\n",
    "        \n",
    "        #PCA\n",
    "#         masked_roi = mask_dilated*pca_map\n",
    "#         maxs = np.max(masked_roi,axis=2)\n",
    "#         mins = np.min(masked_roi,axis=2)\n",
    "#         maxs[np.where(np.abs(mins)>maxs)] = mins[np.where(np.abs(mins)>maxs)]\n",
    "#         masked_roi_flat = maxs\n",
    "#         roi_data.append(masked_roi_flat)\n",
    "    \n",
    "        #######################\n",
    "        ### Get roi contour ###\n",
    "        #######################\n",
    "        \n",
    "        _, mask_binary = cv2.threshold(np.max(mask_dilated,axis=-1).astype('uint8'), 0, 1, cv2.THRESH_BINARY) \n",
    "        contours, _ = cv2.findContours(mask_binary, cv2.RETR_EXTERNAL, cv2.CHAIN_APPROX_SIMPLE)#cv2.RETR_TREE\n",
    "\n",
    "        canvas = np.ones(atlas_clean[:,:,0].shape)\n",
    "        out = cv2.drawContours(canvas, contours, -1, (0,255,0), 1)\n",
    "        out = np.abs(out-1) #flip 0/1\n",
    "        roi_contour = np.repeat(out[:,:,np.newaxis],repeats=4,axis=-1) ### copy into rgba channels to make white\n",
    "        roi_contours.append(roi_contour)\n",
    "\n",
    "        # for plotting\n",
    "        left_edges.append(np.where(np.sum(np.nan_to_num(roi_contour),axis=0)>0)[0][0])\n",
    "        right_edges.append(np.where(np.sum(np.nan_to_num(roi_contour),axis=0)>0)[0][-1])\n",
    "        top_edges.append(np.where(np.sum(np.nan_to_num(roi_contour),axis=1)>0)[0][0])\n",
    "        bottom_edges.append(np.where(np.sum(np.nan_to_num(roi_contour),axis=1)>0)[0][-1])\n",
    "        \n",
    "    # get extreme edges from all rois used\n",
    "    left_edge = np.min(left_edges) - 1\n",
    "    right_edge = np.max(right_edges) + 1\n",
    "    top_edge = np.min(top_edges) - 1\n",
    "    bottom_edge = np.max(bottom_edges) + 1\n",
    "\n",
    "    ############\n",
    "    ### PLOT ###\n",
    "    ############\n",
    "    \n",
    "    roi_datas = np.max(np.asarray(roi_data),axis=0)\n",
    "    data_map = np.swapaxes(roi_datas[top_edge:bottom_edge,left_edge:right_edge],0,1)\n",
    "    \n",
    "    #PCA\n",
    "#     roi_data = np.asarray(roi_data)\n",
    "#     maxs = np.max(roi_data,axis=0)\n",
    "#     mins = np.min(roi_data,axis=0)\n",
    "#     maxs[np.where(np.abs(mins)>maxs)] = mins[np.where(np.abs(mins)>maxs)]\n",
    "#     data_map = np.swapaxes(maxs[top_edge:bottom_edge,left_edge:right_edge],0,1)\n",
    "\n",
    "    if plot:\n",
    "        plt.figure(figsize=(10,10))\n",
    "        plt.imshow(data_map)\n",
    "\n",
    "    contours_to_export = []\n",
    "    for i in range(len(roi_contours)):\n",
    "        single_contour = np.swapaxes(roi_contours[i][top_edge:bottom_edge,left_edge:right_edge],0,1)\n",
    "        contours_to_export.append(single_contour)\n",
    "        if plot:\n",
    "            plt.imshow(single_contour)\n",
    "        \n",
    "    return data_map, contours_to_export\n",
    "\n",
    "def place_on_canvas(input_canvas, to_plot, is_contour=False, is_midline=True, x_shift=0, y_shift=0):\n",
    "    full_y_mid = int(input_canvas.shape[0]/2)\n",
    "    full_x_mid = int(input_canvas.shape[1]/2)\n",
    "\n",
    "    y_mid = int(to_plot.shape[0]/2)\n",
    "    x_mid = int(to_plot.shape[1]/2)\n",
    "\n",
    "    height = to_plot.shape[0]\n",
    "    width = to_plot.shape[1]\n",
    "\n",
    "    left = full_x_mid-x_mid\n",
    "    right = left + width\n",
    "\n",
    "    top = full_y_mid-y_mid\n",
    "    bottom = top + height\n",
    "\n",
    "    if is_contour:\n",
    "        ys = np.where(to_plot[:,:,0]>0)[0] + full_y_mid - y_mid + y_shift\n",
    "        xs = np.where(to_plot[:,:,0]>0)[1] + full_x_mid - x_mid + x_shift\n",
    "        input_canvas[ys,xs]=1\n",
    "    else:\n",
    "        #input_canvas[top+y_shift:bottom+y_shift,left+x_shift:right+x_shift,:3] = to_plot\n",
    "        input_canvas[top+y_shift:bottom+y_shift,left+x_shift:right+x_shift] = to_plot #pca\n",
    "    return input_canvas\n",
    "\n",
    "def place_on_canvas_wrapper(canvas, data_map, contours, y_shift, x_shift):\n",
    "    canvas = place_on_canvas(canvas, to_plot=data_map, y_shift=y_shift, x_shift=x_shift)\n",
    "    for i in range(len(contours)):\n",
    "        canvas = place_on_canvas(canvas, to_plot=contours[i], is_contour=True, y_shift=y_shift, x_shift=x_shift)\n",
    "    return canvas\n",
    "\n",
    "def wraper_wraper(canvas, roi_ids, y_shift, x_shift):\n",
    "    data_map, contours = plot_grouped_roi_image(roi_ids, plot=False)\n",
    "    canvas = place_on_canvas_wrapper(input_canvas, data_map, contours, y_shift=y_shift, x_shift=x_shift)\n",
    "    return canvas"
   ]
  },
  {
   "cell_type": "code",
   "execution_count": 6,
   "metadata": {
    "collapsed": true
   },
   "outputs": [],
   "source": [
    "##################\n",
    "### ROI GROUPS ###\n",
    "##################\n",
    "\n",
    "FB_group = {\n",
    "26: 'FB',\n",
    "4: 'NO',\n",
    "5: 'BU_R',\n",
    "54: 'BU_L',\n",
    "8: 'LAL_R',\n",
    "56: 'LAL_L',\n",
    "31: 'PVLP_R',\n",
    "76: 'PVLP_L'}\n",
    "\n",
    "ventromedial_r_group = {\n",
    "13: 'VES_R',  \n",
    "40: 'EPA_R',\n",
    "35: 'GOR_R',\n",
    "11: 'AMMC_R'}\n",
    "\n",
    "ventromedial_l_group = {\n",
    "60: 'VES_L', \n",
    "85: 'EPA_L',\n",
    "80: 'GOR_L',\n",
    "58: 'AMMC_L'}\n",
    "\n",
    "PB = {6: 'PB'}\n",
    "EB = {23: 'EB'}\n",
    "\n",
    "anterior_group = {\n",
    "50: 'PRW',\n",
    "9: 'SAD',\n",
    "49: 'GNG',\n",
    "30: 'AVLP_R',\n",
    "75: 'AVLP_L',\n",
    "24: 'AL_R',\n",
    "70: 'AL_L',\n",
    "64: 'MB_PED_L',\n",
    "65: 'MB_VL_L',\n",
    "66: 'MB_ML_L',\n",
    "81: 'MB_CA_L',\n",
    "17: 'MB_PED_R',\n",
    "18: 'MB_VL_R',\n",
    "19: 'MB_ML_R',\n",
    "36: 'MB_CA_R',\n",
    "32: 'IVLP_R',\n",
    "77: 'IVLP_L',\n",
    "10: 'CAN_R',\n",
    "20: 'FLA_R',\n",
    "57: 'CAN_L',\n",
    "67: 'FLA_L'}\n",
    "\n",
    "big_r_group = {\n",
    "27: 'SLP_R',\n",
    "29: 'SMP_R',\n",
    "33: 'PLP_R',\n",
    "7: 'LH_R',\n",
    "38: 'IPS_R',\n",
    "37: 'SPS_R',\n",
    "16: 'CRE_R',\n",
    "39: 'SCL_R',\n",
    "12: 'ICL_R',\n",
    "15: 'ATL_R',\n",
    "14: 'IB_R',\n",
    "28: 'SIP_R'}\n",
    "    \n",
    "big_l_group = {\n",
    "72: 'SLP_L',   \n",
    "74: 'SMP_L',\n",
    "78: 'PLP_L',\n",
    "55: 'LH_L',\n",
    "83: 'IPS_L',\n",
    "82: 'SPS_L',\n",
    "63: 'CRE_L',\n",
    "84: 'SCL_L',  \n",
    "59: 'ICL_L',\n",
    "62: 'ATL_L',\n",
    "61: 'IB_L',\n",
    "73: 'SIP_L'}"
   ]
  },
  {
   "cell_type": "code",
   "execution_count": 7,
   "metadata": {},
   "outputs": [],
   "source": [
    "#input_canvas = np.zeros((500,500,3))\n",
    "def explode():\n",
    "\n",
    "    x_shift=0; y_shift=0\n",
    "    data_map, contours = plot_grouped_roi_image(FB_group.keys(), plot=False)\n",
    "    canvas = place_on_canvas_wrapper(input_canvas, data_map, contours, y_shift=y_shift, x_shift=x_shift)\n",
    "\n",
    "    x_shift=0; y_shift=-45\n",
    "    data_map, contours = plot_grouped_roi_image(PB.keys(), plot=False)\n",
    "    canvas = place_on_canvas_wrapper(canvas, data_map, contours, y_shift=y_shift, x_shift=x_shift)\n",
    "\n",
    "    x_shift=0; y_shift=35\n",
    "    data_map, contours = plot_grouped_roi_image({23: 'EB'}.keys(), plot=False)\n",
    "    canvas = place_on_canvas_wrapper(canvas, data_map, contours, y_shift=y_shift, x_shift=x_shift)\n",
    "\n",
    "    ##########\n",
    "    ### MB ###\n",
    "    ##########\n",
    "\n",
    "    # x_shift=60; y_shift=-50\n",
    "    # data_map, contours = plot_grouped_roi_image(MB_left_group.keys(), plot=False)\n",
    "    # canvas = place_on_canvas_wrapper(input_canvas, data_map, contours, y_shift=y_shift, x_shift=x_shift)\n",
    "    # x_shift=-60; y_shift=-50\n",
    "    # data_map, contours = plot_grouped_roi_image(MB_right_group.keys(), plot=False)\n",
    "    # canvas = place_on_canvas_wrapper(input_canvas, data_map, contours, y_shift=y_shift, x_shift=x_shift)\n",
    "\n",
    "    #################\n",
    "    ### BIG GROUP ###\n",
    "    #################\n",
    "\n",
    "    x_shift=-130; y_shift=30\n",
    "    data_map, contours = plot_grouped_roi_image(big_r_group.keys(), plot=False)\n",
    "    canvas = place_on_canvas_wrapper(input_canvas, data_map, contours, y_shift=y_shift, x_shift=x_shift)\n",
    "    x_shift=130; y_shift=30\n",
    "    data_map, contours = plot_grouped_roi_image(big_l_group.keys(), plot=False)\n",
    "    canvas = place_on_canvas_wrapper(input_canvas, data_map, contours, y_shift=y_shift, x_shift=x_shift)\n",
    "\n",
    "    ##############\n",
    "    ### VISUAL ###\n",
    "    ##############\n",
    "\n",
    "    x_shift=-200; y_shift=175\n",
    "    data_map, contours = plot_grouped_roi_image({25: 'MED_R'}.keys(), plot=False)\n",
    "    canvas = place_on_canvas_wrapper(input_canvas, data_map, contours, y_shift=y_shift, x_shift=x_shift)\n",
    "    x_shift=200; y_shift=175\n",
    "    data_map, contours = plot_grouped_roi_image({71: 'MED_L'}.keys(), plot=False)\n",
    "    canvas = place_on_canvas_wrapper(input_canvas, data_map, contours, y_shift=y_shift, x_shift=x_shift)\n",
    "\n",
    "    x_shift=-140; y_shift=40+175\n",
    "    data_map, contours = plot_grouped_roi_image({3: 'LO_R'}.keys(), plot=False)\n",
    "    canvas = place_on_canvas_wrapper(input_canvas, data_map, contours, y_shift=y_shift, x_shift=x_shift)\n",
    "    x_shift=140; y_shift=40+175\n",
    "    data_map, contours = plot_grouped_roi_image({53: 'LO_L'}.keys(), plot=False)\n",
    "    canvas = place_on_canvas_wrapper(input_canvas, data_map, contours, y_shift=y_shift, x_shift=x_shift)\n",
    "\n",
    "    x_shift=-140; y_shift=-30+175\n",
    "    data_map, contours = plot_grouped_roi_image({22: 'LP_R'}.keys(), plot=False)\n",
    "    canvas = place_on_canvas_wrapper(input_canvas, data_map, contours, y_shift=y_shift, x_shift=x_shift)\n",
    "    x_shift=140; y_shift=-30+175\n",
    "    data_map, contours = plot_grouped_roi_image({69: 'LP_L'}.keys(), plot=False)\n",
    "    canvas = place_on_canvas_wrapper(input_canvas, data_map, contours, y_shift=y_shift, x_shift=x_shift)\n",
    "\n",
    "    canvas = wraper_wraper(canvas, ventromedial_r_group.keys(), y_shift=55, x_shift=-50)\n",
    "    canvas = wraper_wraper(canvas, ventromedial_l_group.keys(), y_shift=55, x_shift=50)\n",
    "\n",
    "    canvas = wraper_wraper(canvas, anterior_group.keys(), y_shift=150, x_shift=0)\n",
    "\n",
    "    canvas = wraper_wraper(canvas, {34: 'AOTU_R'}.keys(), y_shift=-50+175-15, x_shift=-80)\n",
    "    canvas = wraper_wraper(canvas, {79: 'AOTU_L'}.keys(), y_shift=-50+175-15, x_shift=80)\n",
    "\n",
    "    canvas[np.where(canvas==0)] = np.nan\n",
    "    return canvas\n",
    "\n",
    "#     plt.figure(figsize=(10,10))\n",
    "#     plt.imshow(canvas[150:,:],cmap=mymap,vmin=end_c,vmax=start_c)\n",
    "#     plt.axis('off')\n",
    "\n",
    "#     save_path = '/oak/stanford/groups/trc/data/Brezovec/2P_Imaging/figs'\n",
    "#     timestr = time.strftime(\"%Y%m%d-%H%M%S\")\n",
    "#     fname = os.path.join(save_path, f'{timestr}')\n",
    "#     #plt.savefig(fname,dpi=300,bbox_inches='tight')"
   ]
  },
  {
   "cell_type": "code",
   "execution_count": null,
   "metadata": {
    "collapsed": true
   },
   "outputs": [],
   "source": []
  }
 ],
 "metadata": {
  "kernelspec": {
   "display_name": "Python 3",
   "language": "python",
   "name": "python3"
  },
  "language_info": {
   "codemirror_mode": {
    "name": "ipython",
    "version": 3
   },
   "file_extension": ".py",
   "mimetype": "text/x-python",
   "name": "python",
   "nbconvert_exporter": "python",
   "pygments_lexer": "ipython3",
   "version": "3.6.1"
  }
 },
 "nbformat": 4,
 "nbformat_minor": 2
}
