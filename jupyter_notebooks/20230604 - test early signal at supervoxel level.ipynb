{
 "cells": [
  {
   "cell_type": "code",
   "execution_count": 1,
   "metadata": {
    "collapsed": true
   },
   "outputs": [],
   "source": [
    "import sys\n",
    "sys.path.insert(0, '/home/users/brezovec/.local/lib/python3.6/site-packages/lib/python/')\n",
    "import ants\n",
    "import os\n",
    "import brainsss\n",
    "import numpy as np\n",
    "import matplotlib.pyplot as plt\n",
    "import time\n",
    "import scipy\n",
    "from scipy.ndimage.filters import gaussian_filter\n",
    "from scipy.signal import savgol_filter\n",
    "from scipy.interpolate import interp1d\n",
    "\n",
    "from skimage.filters import threshold_triangle\n",
    "sys.path.insert(0, '/home/users/brezovec/.local/lib/python3.6/site-packages')\n",
    "import os\n",
    "import statsmodels.api as sm\n",
    "import cv2\n",
    "import matplotlib.patches as mpatches\n",
    "import psutil\n",
    "from mpl_toolkits.axes_grid1 import ImageGrid\n",
    "from matplotlib.colors import Normalize\n",
    "\n",
    "\n",
    "%matplotlib inline\n",
    "plt.rcParams.update({'font.size': 20})\n",
    "\n",
    "from sklearn.feature_extraction.image import grid_to_graph\n",
    "from mpl_toolkits.axes_grid1 import ImageGrid\n",
    "import json\n",
    "from matplotlib.ticker import FuncFormatter\n",
    "\n",
    "import nibabel as nib\n",
    "\n",
    "from sklearn.cluster import AgglomerativeClustering\n",
    "from scipy.cluster.hierarchy import dendrogram\n",
    "import itertools\n",
    "import random\n",
    "from scipy.cluster import hierarchy\n",
    "import matplotlib as mpl\n",
    "from matplotlib.pyplot import cm\n",
    "\n",
    "from scipy.interpolate import UnivariateSpline\n",
    "from sklearn.linear_model import LinearRegression\n",
    "\n",
    "from scipy.fftpack import fft,fftshift,ifft\n",
    "import tqdm\n",
    "\n",
    "from scipy.ndimage.morphology import binary_erosion\n",
    "from scipy.ndimage.morphology import binary_dilation\n",
    "import re\n"
   ]
  },
  {
   "cell_type": "code",
   "execution_count": 5,
   "metadata": {
    "collapsed": true
   },
   "outputs": [],
   "source": [
    "fly_names = ['fly_087', 'fly_089', 'fly_094', 'fly_097', 'fly_098', 'fly_099', 'fly_100', 'fly_101', 'fly_105']\n",
    "dataset_path = \"/oak/stanford/groups/trc/data/Brezovec/2P_Imaging/20190101_walking_dataset\""
   ]
  },
  {
   "cell_type": "code",
   "execution_count": 6,
   "metadata": {
    "collapsed": true
   },
   "outputs": [],
   "source": [
    "fictrac = []\n",
    "for fly in fly_names:\n",
    "    \n",
    "    fictrac_raw = brainsss.load_fictrac(os.path.join(dataset_path, fly, 'func_0', 'fictrac'))\n",
    "\n",
    "    # Smooth raw fictrac data\n",
    "    behavior = 'dRotLabZ'\n",
    "    fictrac_smoothed = scipy.signal.savgol_filter(np.asarray(fictrac_raw[behavior]),25,3)\n",
    "    fps=50\n",
    "    fictrac_smoothed = fictrac_smoothed * 180 / np.pi * fps # now in deg/sec\n",
    "    fictrac.append(fictrac_smoothed)"
   ]
  },
  {
   "cell_type": "code",
   "execution_count": 7,
   "metadata": {},
   "outputs": [
    {
     "name": "stdout",
     "output_type": "stream",
     "text": [
      "Trying to load timestamp data from hdf5 file.\n",
      "Success.\n"
     ]
    }
   ],
   "source": [
    "fictrac_timestamps = np.arange(0,30*60*1000,20)\n",
    "file = os.path.join(dataset_path, 'fly_087', 'func_0', 'imaging')\n",
    "neural_timestamps = brainsss.load_timestamps(file)"
   ]
  },
  {
   "cell_type": "code",
   "execution_count": 8,
   "metadata": {
    "collapsed": true
   },
   "outputs": [],
   "source": [
    "turn_thresh = 200\n",
    "\n",
    "peaks_all_fly = []\n",
    "peak_heights_all_fly = []\n",
    "for fly in range(9): #[0,4,6,7,8]:#\n",
    "    peaks = {'L':[],'R':[]}\n",
    "    heights = {'L':[],'R':[]}\n",
    "    for turn,scalar in zip(['L', 'R'],[1,-1]):\n",
    "        \n",
    "        found_peaks = scipy.signal.find_peaks(fictrac[fly]*scalar, height=turn_thresh)\n",
    "        pks = found_peaks[0]\n",
    "        pk_height = found_peaks[1]['peak_heights']\n",
    "        \n",
    "        ### remove peaks that are too close to beginning or end\n",
    "        # will do 20sec window\n",
    "        # here 20sec is 1000 tps\n",
    "        ind = np.where(pks>88000)[0]\n",
    "        pks = np.delete(pks,ind)\n",
    "        pk_height = np.delete(pk_height,ind)\n",
    "        \n",
    "        ind = np.where(pks<2000)[0]\n",
    "        pks = np.delete(pks,ind)\n",
    "        pk_height = np.delete(pk_height,ind)\n",
    "        \n",
    "        peaks[turn] = pks\n",
    "        heights[turn] = pk_height\n",
    "    peaks_all_fly.append(peaks)\n",
    "    peak_heights_all_fly.append(heights)"
   ]
  },
  {
   "cell_type": "code",
   "execution_count": 12,
   "metadata": {},
   "outputs": [
    {
     "data": {
      "text/plain": [
       "(2000, 49, 3384, 9)"
      ]
     },
     "execution_count": 12,
     "metadata": {},
     "output_type": "execute_result"
    }
   ],
   "source": [
    "file = '/oak/stanford/groups/trc/data/Brezovec/2P_Imaging/20210115_super_brain/20210115_super_brain.npy'\n",
    "neural = np.load(file)\n",
    "neural.shape"
   ]
  },
  {
   "cell_type": "code",
   "execution_count": 17,
   "metadata": {},
   "outputs": [
    {
     "data": {
      "text/plain": [
       "(49, 32768)"
      ]
     },
     "execution_count": 17,
     "metadata": {},
     "output_type": "execute_result"
    }
   ],
   "source": [
    "labels_file = '/oak/stanford/groups/trc/data/Brezovec/2P_Imaging/20201129_super_slices/final_9_cluster_labels_2000.npy'\n",
    "cluster_model_labels = np.load(labels_file)\n",
    "cluster_model_labels.shape"
   ]
  },
  {
   "cell_type": "code",
   "execution_count": 89,
   "metadata": {},
   "outputs": [
    {
     "data": {
      "text/plain": [
       "(2000, 49, 3384, 9)"
      ]
     },
     "execution_count": 89,
     "metadata": {},
     "output_type": "execute_result"
    }
   ],
   "source": [
    "neural.shape"
   ]
  },
  {
   "cell_type": "code",
   "execution_count": 92,
   "metadata": {},
   "outputs": [
    {
     "name": "stdout",
     "output_type": "stream",
     "text": [
      "10\n",
      "11\n"
     ]
    }
   ],
   "source": [
    "for z in range(10,12):\n",
    "    print(z)"
   ]
  },
  {
   "cell_type": "code",
   "execution_count": 132,
   "metadata": {},
   "outputs": [
    {
     "name": "stderr",
     "output_type": "stream",
     "text": [
      "100%|██████████| 2000/2000 [00:11<00:00, 170.18it/s]\n",
      "100%|██████████| 2000/2000 [00:11<00:00, 169.88it/s]\n",
      "100%|██████████| 2000/2000 [00:12<00:00, 165.07it/s]\n",
      "100%|██████████| 2000/2000 [00:11<00:00, 169.71it/s]\n",
      "100%|██████████| 2000/2000 [00:12<00:00, 165.95it/s]\n",
      "100%|██████████| 2000/2000 [00:11<00:00, 170.97it/s]\n",
      "100%|██████████| 2000/2000 [00:11<00:00, 168.11it/s]\n",
      "100%|██████████| 2000/2000 [00:11<00:00, 170.90it/s]\n",
      "100%|██████████| 2000/2000 [00:11<00:00, 169.33it/s]\n",
      "100%|██████████| 2000/2000 [00:11<00:00, 166.79it/s]\n",
      "100%|██████████| 2000/2000 [00:11<00:00, 169.18it/s]\n",
      "100%|██████████| 2000/2000 [00:12<00:00, 166.01it/s]\n",
      "100%|██████████| 2000/2000 [00:11<00:00, 169.01it/s]\n",
      "100%|██████████| 2000/2000 [00:11<00:00, 166.89it/s]\n",
      "100%|██████████| 2000/2000 [00:11<00:00, 168.74it/s]\n",
      "100%|██████████| 2000/2000 [00:11<00:00, 168.70it/s]\n",
      "100%|██████████| 2000/2000 [00:11<00:00, 166.95it/s]\n",
      "100%|██████████| 2000/2000 [00:11<00:00, 168.43it/s]\n",
      "100%|██████████| 2000/2000 [00:12<00:00, 164.03it/s]\n",
      "100%|██████████| 2000/2000 [00:11<00:00, 169.45it/s]\n",
      "100%|██████████| 2000/2000 [00:11<00:00, 169.01it/s]\n",
      "100%|██████████| 2000/2000 [00:11<00:00, 169.76it/s]\n",
      "100%|██████████| 2000/2000 [00:11<00:00, 170.61it/s]\n",
      "100%|██████████| 2000/2000 [00:11<00:00, 170.44it/s]\n",
      "100%|██████████| 2000/2000 [00:11<00:00, 169.32it/s]\n",
      "100%|██████████| 2000/2000 [00:11<00:00, 166.79it/s]\n",
      "100%|██████████| 2000/2000 [00:11<00:00, 169.97it/s]\n",
      "100%|██████████| 2000/2000 [00:11<00:00, 169.32it/s]\n",
      "100%|██████████| 2000/2000 [00:11<00:00, 169.42it/s]\n",
      "100%|██████████| 2000/2000 [00:11<00:00, 170.94it/s]\n"
     ]
    }
   ],
   "source": [
    "##################################################\n",
    "### VERSION WITH FIRST NEURAL POINT AFTER TURN ###\n",
    "##################################################\n",
    "### change window to 60 instead of 40 for seeing full 30sec\n",
    "\n",
    "all_Ps_all_slice = {}\n",
    "beh = 'L'\n",
    "\n",
    "for z in range(10,40):\n",
    "    neural_timestamps_cluster = neural_timestamps[:,z]\n",
    "    neural_traces_L = {}\n",
    "    for cluster in tqdm.tqdm(range(2000)):\n",
    "        neural_traces_L[cluster] = []\n",
    "        for fly in range(len(peaks_all_fly)):\n",
    "            peaks_in_ms = fictrac_timestamps[peaks_all_fly[fly][beh]]\n",
    "            for peak in peaks_in_ms:\n",
    "                middle = np.searchsorted(neural_timestamps_cluster,peak)\n",
    "                neural_traces_L[cluster].append(neural[cluster,z,middle-60:middle+60,fly])\n",
    "        neural_traces_L[cluster] = np.asarray(neural_traces_L[cluster])\n",
    "\n",
    "    windows = [(0,31),(33,44),(44,59),(59,61)]\n",
    "\n",
    "    all_Ps = {}\n",
    "    all_means = {}\n",
    "    for k,window in enumerate(windows):\n",
    "        start = window[0]\n",
    "        stop = window[1]\n",
    "        Ps = []\n",
    "        Ts = []\n",
    "        means = []\n",
    "        for cluster in range(2000):\n",
    "            L = np.mean(neural_traces_L[cluster][:,start:stop],axis=1)\n",
    "            t,p = scipy.stats.ttest_1samp(L, 0)\n",
    "            Ps.append(p)\n",
    "\n",
    "        all_Ps[k] = Ps\n",
    "    all_Ps_all_slice[z] = all_Ps"
   ]
  },
  {
   "cell_type": "code",
   "execution_count": 154,
   "metadata": {},
   "outputs": [],
   "source": [
    "labels_2d = np.reshape(cluster_model_labels,(49,256,128))\n",
    "\n",
    "k=1\n",
    "\n",
    "slices = []\n",
    "for z in range(10,40):\n",
    "    empty = np.zeros((256,128))\n",
    "    for i in range(2000):\n",
    "        idx = np.where(labels_2d[z,:,:]==i)\n",
    "        if all_Ps_all_slice[z][k][i] < 0.01:\n",
    "            empty[idx[0],idx[1]] = 1\n",
    "        else:\n",
    "            empty[idx[0],idx[1]] = 0\n",
    "    slices.append(empty)"
   ]
  },
  {
   "cell_type": "code",
   "execution_count": 155,
   "metadata": {},
   "outputs": [
    {
     "data": {
      "image/png": "[encoded data removed]",
      "text/plain": [
       "<Figure size 1440x720 with 30 Axes>"
      ]
     },
     "metadata": {},
     "output_type": "display_data"
    }
   ],
   "source": [
    "plt.figure(figsize=(20,10))\n",
    "for i,z in enumerate(range(10,40)):\n",
    "    plt.subplot(6,6,i+1)\n",
    "    plt.imshow(slices[i].T)\n",
    "    plt.axis('off')"
   ]
  },
  {
   "cell_type": "code",
   "execution_count": 131,
   "metadata": {},
   "outputs": [
    {
     "data": {
      "text/plain": [
       "<matplotlib.image.AxesImage at 0x7f334918c080>"
      ]
     },
     "execution_count": 131,
     "metadata": {},
     "output_type": "execute_result"
    },
    {
     "data": {
      "image/png": "[encoded data removed]",
      "text/plain": [
       "<Figure size 432x288 with 1 Axes>"
      ]
     },
     "metadata": {},
     "output_type": "display_data"
    }
   ],
   "source": [
    "plt.imshow(empty.T)"
   ]
  },
  {
   "cell_type": "code",
   "execution_count": 67,
   "metadata": {},
   "outputs": [
    {
     "data": {
      "text/plain": [
       "<matplotlib.image.AxesImage at 0x7f334c01d208>"
      ]
     },
     "execution_count": 67,
     "metadata": {},
     "output_type": "execute_result"
    },
    {
     "data": {
      "image/png": "[encoded data removed]",
      "text/plain": [
       "<Figure size 432x288 with 1 Axes>"
      ]
     },
     "metadata": {},
     "output_type": "display_data"
    }
   ],
   "source": [
    "z = 3\n",
    "labels_2d = np.reshape(cluster_model_labels,(49,256,128))\n",
    "\n",
    "empty = np.zeros((256,128))\n",
    "for i in range(2000):\n",
    "    idx = np.where(labels_2d[z,:,:]==i)\n",
    "    empty[idx[0],idx[1]]=i\n",
    "plt.imshow(empty.T,)"
   ]
  },
  {
   "cell_type": "code",
   "execution_count": null,
   "metadata": {
    "collapsed": true
   },
   "outputs": [],
   "source": []
  }
 ],
 "metadata": {
  "kernelspec": {
   "display_name": "Python 3",
   "language": "python",
   "name": "python3"
  },
  "language_info": {
   "codemirror_mode": {
    "name": "ipython",
    "version": 3
   },
   "file_extension": ".py",
   "mimetype": "text/x-python",
   "name": "python",
   "nbconvert_exporter": "python",
   "pygments_lexer": "ipython3",
   "version": "3.6.1"
  }
 },
 "nbformat": 4,
 "nbformat_minor": 2
}
