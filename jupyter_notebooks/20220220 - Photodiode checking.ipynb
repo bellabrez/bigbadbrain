{
 "cells": [
  {
   "cell_type": "code",
   "execution_count": 1,
   "metadata": {
    "collapsed": true
   },
   "outputs": [],
   "source": [
    "import numpy as np\n",
    "import os\n",
    "import matplotlib.pyplot as plt\n",
    "%matplotlib inline\n",
    "import h5py"
   ]
  },
  {
   "cell_type": "code",
   "execution_count": 2,
   "metadata": {
    "collapsed": true
   },
   "outputs": [],
   "source": [
    "def pd_csv_to_h5py(directory, file):\n",
    "    \"\"\" Loads photodiode data from csv file and saves to h5py file.\n",
    "\n",
    "    Parameters\n",
    "    ----------\n",
    "    directory: full path to vision folder\n",
    "    file: csv file\n",
    "\n",
    "    Returns\n",
    "    -------\n",
    "    Nothing. \"\"\"\n",
    "\n",
    "    print('loading raw photodiode data... ',end='')\n",
    "    #load raw data from csv\n",
    "    load_file = os.path.join(directory, file)\n",
    "    temp = np.genfromtxt(load_file, delimiter=',',skip_header=1)\n",
    "    t = temp[:,0]\n",
    "    ft_triggers = temp[:,1]\n",
    "    pd1 = temp[:,2]\n",
    "    pd2 = temp[:,3]\n",
    "    print('done')\n",
    "\n",
    "    #save as h5py file\n",
    "    print('saving photodiode data as h5py file...',end='')\n",
    "    save_file = os.path.join(directory, 'photodiode.h5')\n",
    "    with h5py.File(save_file, 'w') as hf:\n",
    "        hf.create_dataset('time',  data=t)\n",
    "        hf.create_dataset('ft_triggers',  data=ft_triggers)\n",
    "        hf.create_dataset('pd1',  data=pd1)\n",
    "        hf.create_dataset('pd2',  data=pd2)\n",
    "    print('done')\n",
    "    \n",
    "def load_h5py_pd_data(directory):\n",
    "    \"\"\" Loads photodiode data from h5py file.\n",
    "\n",
    "    Parameters\n",
    "    ----------\n",
    "    directory: full path to vision folder\n",
    "\n",
    "    Returns\n",
    "    -------\n",
    "    t: 1D numpy array, times of photodiode measurement (in ms)\n",
    "    pd1: 1D numpy array, photodiode 1 measurements\n",
    "    pd2: 1D numpy array, photodiode 1 measurements \"\"\"\n",
    "\n",
    "    print('loading photodiode data... ',end='')\n",
    "    #load from h5py file\n",
    "    load_file = os.path.join(directory, 'photodiode.h5')\n",
    "    with h5py.File(load_file, 'r') as hf:\n",
    "        t = hf['time'][:]\n",
    "        ft_triggers = hf['ft_triggers'][:]\n",
    "        pd1 = hf['pd1'][:]\n",
    "        pd2 = hf['pd2'][:]\n",
    "    print('done')\n",
    "    return t, ft_triggers, pd1, pd2\n",
    "\n",
    "def load_photodiode(vision_path):\n",
    "    \"\"\" Tries to load photodiode data from h5py file, and if it doesn't exist loads from csv file.\n",
    "\n",
    "    Parameters\n",
    "    ----------\n",
    "    vision_path: full path to vision folder\n",
    "\n",
    "    Returns\n",
    "    -------\n",
    "    t: 1D numpy array, times of photodiode measurement (in ms)\n",
    "    pd1: 1D numpy array, photodiode 1 measurements\n",
    "    pd2: 1D numpy array, photodiode 1 measurements \"\"\"\n",
    "\n",
    "    # Try to load from h5py file\n",
    "    try:\n",
    "        t, ft_triggers, pd1, pd2 = load_h5py_pd_data(vision_path)\n",
    "        \n",
    "    # First convert from csv to h5py, then load h5py\n",
    "    except:\n",
    "        pd_csv_to_h5py(vision_path,'photodiode.csv')\n",
    "        t, ft_triggers, pd1, pd2 = load_h5py_pd_data(vision_path)\n",
    "    return t, ft_triggers, pd1, pd2\n",
    "\n",
    "\n",
    "def get_pd_thresh(pd):\n",
    "    \"\"\" Finds threshold for ON vs OFF photodiode.\n",
    "\n",
    "    Parameters\n",
    "    ----------\n",
    "    pd: photodiode values across time\n",
    "\n",
    "    Returns\n",
    "    -------\n",
    "    threshold: int, threshold of ON vs OFF for photodiode\n",
    "\n",
    "    \"\"\"\n",
    "    _, bins, _ = plt.hist(pd,bins=5)\n",
    "    plt.close()\n",
    "    threshold = (bins[0] + bins[-1]) / 2\n",
    "    return threshold\n",
    "\n",
    "def parse_stim_starts_photodiode(pd, stimuli):\n",
    "    \"\"\" Finds all times in the photodiode recording when a stimulus began.\n",
    "\n",
    "    Parameters\n",
    "    ----------\n",
    "    pd: photodiode values across time\n",
    "    stimuli: all stimuli presented. Used for checking length of stimuli starts to make sure all stimuli were found\n",
    "\n",
    "    Returns\n",
    "    -------\n",
    "    stimuli_starts: list of start times of all stimuli in order (in ms).\n",
    "\n",
    "    \"\"\"\n",
    "    # Get threshold for on/off\n",
    "    threshold = get_pd_thresh(pd)\n",
    "\n",
    "    # Find timepoints when the light is off (and convert to ms)\n",
    "    pd_sampling_to_ms_conversion = 10\n",
    "    pd_off = np.where(pd<threshold)[0]/pd_sampling_to_ms_conversion\n",
    "\n",
    "    # Find timepoints of rising edges\n",
    "    min_gap = 1 # Lets give a 1 ms window for defining edges\n",
    "    pd_on_edges = pd_off[np.where(np.diff(pd_off)>min_gap)[0]]\n",
    "\n",
    "    # Remove any very early on edges cause by projector still getting ready etc.\n",
    "    remove_on_before = 5*1000 # Currently a 30 sec minimum\n",
    "    pd_on_edges = [x for x in pd_on_edges if x > remove_on_before]\n",
    "    \n",
    "    # Add on edge at 0\n",
    "    pd_on_edges = np.insert(pd_on_edges,0,0)\n",
    "\n",
    "    # Find on_edges that correspond to stimuli presentation\n",
    "    min_gap = 100 # Edges greater than 100ms apart are counted as stimuli starts\n",
    "    stimuli_starts = pd_on_edges[np.where(np.diff(pd_on_edges)>min_gap)[0]+1]\n",
    "    \n",
    "    # Make sure we have successfully found all stimuli\n",
    "#     if len(stimuli_starts) == len(stimuli):\n",
    "#         print('Successfully parsed all stimuli from photodiode output.')\n",
    "#     else:\n",
    "#         print(len(stimuli_starts))\n",
    "#         print(len(stimuli))\n",
    "#         raise Exception('Failed to successfully parse stimuli from photodiode output')\n",
    "    return stimuli_starts #in ms"
   ]
  },
  {
   "cell_type": "code",
   "execution_count": null,
   "metadata": {
    "collapsed": true
   },
   "outputs": [],
   "source": [
    "stimuli = 'a'\n",
    "stimuli_starts = parse_stim_starts_photodiode(pd1, stimuli)"
   ]
  },
  {
   "cell_type": "code",
   "execution_count": 3,
   "metadata": {},
   "outputs": [
    {
     "name": "stdout",
     "output_type": "stream",
     "text": [
      "loading photodiode data... done\n"
     ]
    }
   ],
   "source": [
    "vision_path = '/oak/stanford/groups/trc/data/Brezovec/20220218/'\n",
    "t, ft_triggers, pd1, pd2 = load_photodiode(vision_path)"
   ]
  },
  {
   "cell_type": "code",
   "execution_count": 9,
   "metadata": {},
   "outputs": [
    {
     "data": {
      "text/plain": [
       "18000000"
      ]
     },
     "execution_count": 9,
     "metadata": {},
     "output_type": "execute_result"
    }
   ],
   "source": [
    "len(ft_triggers)"
   ]
  },
  {
   "cell_type": "code",
   "execution_count": 14,
   "metadata": {},
   "outputs": [
    {
     "data": {
      "text/plain": [
       "(3.3026123046875, 0.0030517578125)"
      ]
     },
     "execution_count": 14,
     "metadata": {},
     "output_type": "execute_result"
    }
   ],
   "source": [
    "ft_triggers[0], ft_triggers[-1]"
   ]
  },
  {
   "cell_type": "code",
   "execution_count": 13,
   "metadata": {},
   "outputs": [
    {
     "data": {
      "text/plain": [
       "(17999000, 18000000)"
      ]
     },
     "execution_count": 13,
     "metadata": {},
     "output_type": "execute_result"
    },
    {
     "data": {
      "image/png": "[encoded data removed]",
      "text/plain": [
       "<Figure size 720x720 with 2 Axes>"
      ]
     },
     "metadata": {},
     "output_type": "display_data"
    }
   ],
   "source": [
    "plt.figure(figsize=(10,10))\n",
    "\n",
    "plt.subplot(121)\n",
    "plt.plot(ft_triggers)\n",
    "plt.xlim(0,1000)\n",
    "\n",
    "plt.subplot(122)\n",
    "plt.plot(ft_triggers)\n",
    "plt.xlim(18000000-1000,18000000)"
   ]
  },
  {
   "cell_type": "code",
   "execution_count": 8,
   "metadata": {},
   "outputs": [
    {
     "data": {
      "text/plain": [
       "3.3026123046875"
      ]
     },
     "execution_count": 8,
     "metadata": {},
     "output_type": "execute_result"
    }
   ],
   "source": [
    "ft_triggers[0]"
   ]
  },
  {
   "cell_type": "code",
   "execution_count": 59,
   "metadata": {
    "collapsed": true
   },
   "outputs": [],
   "source": [
    "pd = pd2"
   ]
  },
  {
   "cell_type": "code",
   "execution_count": 94,
   "metadata": {
    "collapsed": true
   },
   "outputs": [],
   "source": [
    "threshold = get_pd_thresh(pd2)"
   ]
  },
  {
   "cell_type": "code",
   "execution_count": 99,
   "metadata": {
    "collapsed": true
   },
   "outputs": [],
   "source": [
    "pd_sampling_to_ms_conversion = 10\n",
    "pd_off = np.where(pd2<threshold)[0]/pd_sampling_to_ms_conversion"
   ]
  },
  {
   "cell_type": "code",
   "execution_count": 100,
   "metadata": {
    "collapsed": true
   },
   "outputs": [],
   "source": [
    "min_gap = 1 # Lets give a 1 ms window for defining edges\n",
    "pd_on_edges = pd_off[np.where(np.diff(pd_off)>min_gap)[0]]"
   ]
  },
  {
   "cell_type": "code",
   "execution_count": 107,
   "metadata": {},
   "outputs": [
    {
     "data": {
      "text/plain": [
       "array([ 1, -1])"
      ]
     },
     "execution_count": 107,
     "metadata": {},
     "output_type": "execute_result"
    }
   ],
   "source": [
    "np.diff([0,1,0])"
   ]
  },
  {
   "cell_type": "code",
   "execution_count": 108,
   "metadata": {},
   "outputs": [
    {
     "data": {
      "text/plain": [
       "array([   3061.7,    3078.4,    3095.1, ..., 1797022.7, 1797039.4,\n",
       "       1797056. ])"
      ]
     },
     "execution_count": 108,
     "metadata": {},
     "output_type": "execute_result"
    }
   ],
   "source": [
    "pd_on_edges"
   ]
  },
  {
   "cell_type": "code",
   "execution_count": 109,
   "metadata": {},
   "outputs": [
    {
     "data": {
      "text/plain": [
       "array([16.7, 16.7, 16.6, ..., 16.7, 16.7, 16.6])"
      ]
     },
     "execution_count": 109,
     "metadata": {},
     "output_type": "execute_result"
    }
   ],
   "source": [
    "np.diff(pd_on_edges) "
   ]
  },
  {
   "cell_type": "code",
   "execution_count": null,
   "metadata": {
    "collapsed": true
   },
   "outputs": [],
   "source": []
  },
  {
   "cell_type": "code",
   "execution_count": 105,
   "metadata": {},
   "outputs": [
    {
     "data": {
      "text/plain": [
       "50857"
      ]
     },
     "execution_count": 105,
     "metadata": {},
     "output_type": "execute_result"
    }
   ],
   "source": [
    "len(pd_on_edges)"
   ]
  },
  {
   "cell_type": "code",
   "execution_count": 85,
   "metadata": {
    "collapsed": true
   },
   "outputs": [],
   "source": [
    "test = pd_on_edges[np.where(np.diff(pd_on_edges)>remove_flips)[0]]"
   ]
  },
  {
   "cell_type": "code",
   "execution_count": null,
   "metadata": {
    "collapsed": true
   },
   "outputs": [],
   "source": []
  },
  {
   "cell_type": "code",
   "execution_count": 101,
   "metadata": {},
   "outputs": [
    {
     "data": {
      "text/plain": [
       "array([   3061.7,    3078.4,    3095.1, ..., 1797022.7, 1797039.4,\n",
       "       1797056. ])"
      ]
     },
     "execution_count": 101,
     "metadata": {},
     "output_type": "execute_result"
    }
   ],
   "source": [
    "pd_on_edges"
   ]
  },
  {
   "cell_type": "code",
   "execution_count": 106,
   "metadata": {},
   "outputs": [
    {
     "data": {
      "text/plain": [
       "311"
      ]
     },
     "execution_count": 106,
     "metadata": {},
     "output_type": "execute_result"
    }
   ],
   "source": [
    "len(test)\n",
    "#should be 318 stim"
   ]
  },
  {
   "cell_type": "code",
   "execution_count": 161,
   "metadata": {},
   "outputs": [
    {
     "data": {
      "image/png": "[encoded data removed]",
      "text/plain": [
       "<Figure size 720x720 with 1 Axes>"
      ]
     },
     "metadata": {},
     "output_type": "display_data"
    }
   ],
   "source": [
    "plt.figure(figsize=(10,10))\n",
    "for i in range(len(test)):\n",
    "    plt.axvline(test[i])\n",
    "#plt.xlim(400000,500000)"
   ]
  },
  {
   "cell_type": "code",
   "execution_count": 163,
   "metadata": {},
   "outputs": [
    {
     "data": {
      "text/plain": [
       "106"
      ]
     },
     "execution_count": 163,
     "metadata": {},
     "output_type": "execute_result"
    }
   ],
   "source": [
    "len(np.where(test<700000)[0])"
   ]
  },
  {
   "cell_type": "code",
   "execution_count": 171,
   "metadata": {},
   "outputs": [
    {
     "data": {
      "text/plain": [
       "106"
      ]
     },
     "execution_count": 171,
     "metadata": {},
     "output_type": "execute_result"
    }
   ],
   "source": [
    "len(np.where(np.logical_and(test>700000,test<1300000))[0])"
   ]
  },
  {
   "cell_type": "code",
   "execution_count": 172,
   "metadata": {},
   "outputs": [
    {
     "data": {
      "text/plain": [
       "99"
      ]
     },
     "execution_count": 172,
     "metadata": {},
     "output_type": "execute_result"
    }
   ],
   "source": [
    "len(np.where(test>1300000)[0])"
   ]
  },
  {
   "cell_type": "code",
   "execution_count": 180,
   "metadata": {},
   "outputs": [
    {
     "data": {
      "text/plain": [
       "4038.7282467532464"
      ]
     },
     "execution_count": 180,
     "metadata": {},
     "output_type": "execute_result"
    }
   ],
   "source": [
    "np.mean([i for i in np.diff(test) if i<5000])"
   ]
  },
  {
   "cell_type": "code",
   "execution_count": 181,
   "metadata": {},
   "outputs": [
    {
     "data": {
      "text/plain": [
       "32"
      ]
     },
     "execution_count": 181,
     "metadata": {},
     "output_type": "execute_result"
    }
   ],
   "source": [
    "16*2"
   ]
  },
  {
   "cell_type": "code",
   "execution_count": 179,
   "metadata": {},
   "outputs": [
    {
     "data": {
      "text/plain": [
       "Text(0, 0.5, 'number of presentations')"
      ]
     },
     "execution_count": 179,
     "metadata": {},
     "output_type": "execute_result"
    },
    {
     "data": {
      "image/png": "[encoded data removed]",
      "text/plain": [
       "<Figure size 720x720 with 1 Axes>"
      ]
     },
     "metadata": {},
     "output_type": "display_data"
    }
   ],
   "source": [
    "plt.figure(figsize=(10,10))\n",
    "plt.hist([i for i in np.diff(test) if i<5000]);\n",
    "plt.xlabel('Stim duration (ms)',fontsize=20)\n",
    "plt.ylabel('number of presentations',fontsize=20)"
   ]
  },
  {
   "cell_type": "code",
   "execution_count": 93,
   "metadata": {},
   "outputs": [
    {
     "data": {
      "text/plain": [
       "array([10695, 10756, 10816, 10876, 10936, 10997, 11057, 11116, 11176,\n",
       "       11236, 11296, 11356, 11416, 11476, 11536, 11596, 11657, 11717,\n",
       "       11777, 11836, 11896, 11956, 12017, 12077, 12138, 12198, 12259,\n",
       "       12319, 12379, 12439, 12499, 12559, 12619, 12680, 12740, 12800,\n",
       "       12860, 12921, 12981, 13041, 13102, 13162, 13222, 13283, 13343,\n",
       "       13404, 13465, 13525, 13585, 13645, 13706, 13766, 13827, 13887,\n",
       "       13946, 14007, 14067, 14127, 14187, 14247, 14307, 14367, 14427,\n",
       "       14487, 14548, 14608, 14669, 14730, 14790, 14850, 14910, 14970,\n",
       "       15030, 15090, 15143, 15203, 15263, 15324, 15384, 15444, 15505,\n",
       "       15565, 15625, 15685, 15745, 15805, 15865, 15925, 15985, 16045,\n",
       "       16105, 16166, 16227, 16287, 16347, 16407, 16467, 16527, 16588,\n",
       "       16648, 16708, 16768, 16829, 16889, 16949, 17010, 27808, 27868,\n",
       "       27928, 27988, 28048, 28108, 28168, 28228, 28289, 28349, 28410,\n",
       "       28470, 28530, 28590, 28650, 28710, 28770, 28830, 28890, 28950,\n",
       "       29010, 29070, 29130, 29191, 29251, 29311, 29371, 29431, 29491,\n",
       "       29551, 29612, 29672, 29732, 29793, 29853, 29913, 29973, 30033,\n",
       "       30093, 30153, 30214, 30275, 30336, 30396, 30456, 30516, 30577,\n",
       "       30637, 30697, 30758, 30819, 30879, 30940, 31001, 31061, 31121,\n",
       "       31181, 31241, 31301, 31361, 31421, 31481, 31541, 31601, 31661,\n",
       "       31721, 31782, 31842, 31902, 31962, 32022, 32082, 32143, 32203,\n",
       "       32263, 32323, 32383, 32445, 32505, 32565, 32625, 32685, 32745,\n",
       "       32804, 32864, 32924, 32983, 33043, 33103, 33163, 33223, 33283,\n",
       "       33343, 33403, 33463, 33523, 33583, 33643, 33703, 33763, 33823,\n",
       "       33883, 33943, 34003, 34063, 34123, 44922, 44982, 45042, 45102,\n",
       "       45162, 45223, 45284, 45344, 45404, 45465, 45525, 45585, 45646,\n",
       "       45706, 45766, 45826, 45887, 45947, 46008, 46068, 46129, 46189,\n",
       "       46249, 46308, 46368, 46428, 46488, 46548, 46608, 46668, 46729,\n",
       "       46789, 46850, 46909, 46969, 47029, 47089, 47149, 47209, 47269,\n",
       "       47329, 47389, 47449, 47509, 47570, 47628, 47687, 47747, 47807,\n",
       "       47867, 47927, 47987, 48047, 48106, 48166, 48226, 48286, 48346,\n",
       "       48406, 48466, 48526, 48586, 48646, 48706, 48766, 48827, 48882,\n",
       "       48941, 49001, 49053, 49110, 49170, 49230, 49290, 49350, 49410,\n",
       "       49470, 49531, 49591, 49651, 49712, 49772, 49832, 49893, 49953,\n",
       "       50013, 50073, 50133, 50193, 50253, 50313, 50374, 50434, 50494,\n",
       "       50554, 50614, 50675, 50735, 50795])"
      ]
     },
     "execution_count": 93,
     "metadata": {},
     "output_type": "execute_result"
    }
   ],
   "source": [
    "np.where(np.diff(pd_on_edges)>remove_flips)[0]"
   ]
  },
  {
   "cell_type": "code",
   "execution_count": null,
   "metadata": {
    "collapsed": true
   },
   "outputs": [],
   "source": []
  },
  {
   "cell_type": "code",
   "execution_count": 82,
   "metadata": {},
   "outputs": [
    {
     "data": {
      "text/plain": [
       "[<matplotlib.lines.Line2D at 0x7f7c5540ce48>]"
      ]
     },
     "execution_count": 82,
     "metadata": {},
     "output_type": "execute_result"
    },
    {
     "data": {
      "image/png": "[encoded data removed]",
      "text/plain": [
       "<Figure size 432x288 with 1 Axes>"
      ]
     },
     "metadata": {},
     "output_type": "display_data"
    }
   ],
   "source": [
    "# These on edges include frame flips but we want just the starts of stimuli\n",
    "remove_flips = 500 # this is 500ms\n",
    "plt.plot(np.diff(pd_on_edges))"
   ]
  },
  {
   "cell_type": "code",
   "execution_count": 77,
   "metadata": {},
   "outputs": [
    {
     "data": {
      "text/plain": [
       "(3061.7, 3078.4)"
      ]
     },
     "execution_count": 77,
     "metadata": {},
     "output_type": "execute_result"
    }
   ],
   "source": [
    "pd_on_edges[0], pd_on_edges[1]"
   ]
  },
  {
   "cell_type": "code",
   "execution_count": 63,
   "metadata": {},
   "outputs": [
    {
     "data": {
      "text/plain": [
       "[<matplotlib.lines.Line2D at 0x7f79b4cff3c8>]"
      ]
     },
     "execution_count": 63,
     "metadata": {},
     "output_type": "execute_result"
    },
    {
     "data": {
      "image/png": "[encoded data removed]",
      "text/plain": [
       "<Figure size 432x288 with 1 Axes>"
      ]
     },
     "metadata": {},
     "output_type": "display_data"
    }
   ],
   "source": [
    "plt.plot(pd_on_edges)"
   ]
  },
  {
   "cell_type": "code",
   "execution_count": null,
   "metadata": {
    "collapsed": true
   },
   "outputs": [],
   "source": []
  },
  {
   "cell_type": "code",
   "execution_count": 53,
   "metadata": {},
   "outputs": [
    {
     "data": {
      "text/plain": [
       "(18000000,)"
      ]
     },
     "execution_count": 53,
     "metadata": {},
     "output_type": "execute_result"
    }
   ],
   "source": [
    "ft_triggers.shape"
   ]
  },
  {
   "cell_type": "code",
   "execution_count": 103,
   "metadata": {},
   "outputs": [
    {
     "data": {
      "text/plain": [
       "<matplotlib.lines.Line2D at 0x7f7c55161b38>"
      ]
     },
     "execution_count": 103,
     "metadata": {},
     "output_type": "execute_result"
    },
    {
     "data": {
      "image/png": "[encoded data removed]",
      "text/plain": [
       "<Figure size 432x288 with 1 Axes>"
      ]
     },
     "metadata": {},
     "output_type": "display_data"
    }
   ],
   "source": [
    "plt.plot(pd2)\n",
    "plt.xlim(30000-1000,30000+1000)\n",
    "plt.axvline(pd_on_edges[0]*10,color='k')\n",
    "plt.axvline(30617+83)\n",
    "plt.axvline(30784)"
   ]
  },
  {
   "cell_type": "code",
   "execution_count": 114,
   "metadata": {},
   "outputs": [
    {
     "data": {
      "text/plain": [
       "<matplotlib.lines.Line2D at 0x7f7c54fecf28>"
      ]
     },
     "execution_count": 114,
     "metadata": {},
     "output_type": "execute_result"
    },
    {
     "data": {
      "image/png": "[encoded data removed]",
      "text/plain": [
       "<Figure size 432x288 with 1 Axes>"
      ]
     },
     "metadata": {},
     "output_type": "display_data"
    }
   ],
   "source": [
    "plt.plot(pd2)\n",
    "start = ((3 + 60*3) * 10000)\n",
    "end = start + (5*10000)\n",
    "plt.xlim(start-10000*6,end+10000*4)\n",
    "\n",
    "plt.axvline(183036.2*10,color='k')\n",
    "plt.axvline(187086.5*10,color='k')\n"
   ]
  },
  {
   "cell_type": "code",
   "execution_count": 182,
   "metadata": {
    "collapsed": true
   },
   "outputs": [],
   "source": [
    "one_stim = pd2[1800000:1900000]"
   ]
  },
  {
   "cell_type": "code",
   "execution_count": 183,
   "metadata": {},
   "outputs": [
    {
     "data": {
      "text/plain": [
       "[<matplotlib.lines.Line2D at 0x7f7b21851780>]"
      ]
     },
     "execution_count": 183,
     "metadata": {},
     "output_type": "execute_result"
    },
    {
     "data": {
      "image/png": "[encoded data removed]",
      "text/plain": [
       "<Figure size 432x288 with 1 Axes>"
      ]
     },
     "metadata": {},
     "output_type": "display_data"
    }
   ],
   "source": [
    "plt.plot(one_stim)"
   ]
  },
  {
   "cell_type": "code",
   "execution_count": 214,
   "metadata": {},
   "outputs": [
    {
     "data": {
      "text/plain": [
       "<matplotlib.lines.Line2D at 0x7f7b21893fd0>"
      ]
     },
     "execution_count": 214,
     "metadata": {},
     "output_type": "execute_result"
    },
    {
     "data": {
      "image/png": "[encoded data removed]",
      "text/plain": [
       "<Figure size 432x288 with 1 Axes>"
      ]
     },
     "metadata": {},
     "output_type": "display_data"
    }
   ],
   "source": [
    "plt.plot(one_stim)\n",
    "#plt.xlim(30400,30475)\n",
    "#plt.xlim(60850,60900)\n",
    "#plt.xlim(70900,71000)\n",
    "plt.axvline(30445,color='k')\n",
    "plt.axvline(60864,color='k')\n",
    "plt.axvline(70950,color='k')"
   ]
  },
  {
   "cell_type": "code",
   "execution_count": null,
   "metadata": {
    "collapsed": true
   },
   "outputs": [],
   "source": [
    "# grey period started at 30445 (or 30446)\n",
    "# stim starts at 60864 (or 60865)\n",
    "# stim ends at 70950"
   ]
  },
  {
   "cell_type": "code",
   "execution_count": 205,
   "metadata": {},
   "outputs": [
    {
     "data": {
      "text/plain": [
       "30420"
      ]
     },
     "execution_count": 205,
     "metadata": {},
     "output_type": "execute_result"
    }
   ],
   "source": [
    "60865-30445"
   ]
  },
  {
   "cell_type": "code",
   "execution_count": 213,
   "metadata": {},
   "outputs": [
    {
     "data": {
      "text/plain": [
       "10085"
      ]
     },
     "execution_count": 213,
     "metadata": {},
     "output_type": "execute_result"
    }
   ],
   "source": [
    "70950-60865"
   ]
  },
  {
   "cell_type": "code",
   "execution_count": 215,
   "metadata": {},
   "outputs": [
    {
     "data": {
      "text/plain": [
       "0.008333333333333333"
      ]
     },
     "execution_count": 215,
     "metadata": {},
     "output_type": "execute_result"
    }
   ],
   "source": [
    "1/120"
   ]
  },
  {
   "cell_type": "code",
   "execution_count": 132,
   "metadata": {},
   "outputs": [
    {
     "data": {
      "text/plain": [
       "<matplotlib.lines.Line2D at 0x7f7c54869e10>"
      ]
     },
     "execution_count": 132,
     "metadata": {},
     "output_type": "execute_result"
    },
    {
     "data": {
      "image/png": "[encoded data removed]",
      "text/plain": [
       "<Figure size 432x288 with 1 Axes>"
      ]
     },
     "metadata": {},
     "output_type": "display_data"
    }
   ],
   "source": [
    "# this is the first trigger from above\n",
    "plt.plot(pd2)\n",
    "start = ((60*3+3) * 10000)+10000\n",
    "end = start + (5000)-10000\n",
    "plt.xlim(start-10000,end)\n",
    "\n",
    "plt.axvline(183036.2*10,color='k')\n",
    "plt.axvline(187086.5*10,color='k')\n"
   ]
  },
  {
   "cell_type": "code",
   "execution_count": 133,
   "metadata": {},
   "outputs": [
    {
     "data": {
      "text/plain": [
       "<matplotlib.lines.Line2D at 0x7f7c5489d240>"
      ]
     },
     "execution_count": 133,
     "metadata": {},
     "output_type": "execute_result"
    },
    {
     "data": {
      "image/png": "[encoded data removed]",
      "text/plain": [
       "<Figure size 432x288 with 1 Axes>"
      ]
     },
     "metadata": {},
     "output_type": "display_data"
    }
   ],
   "source": [
    "# this is the 2nd trigger from above\n",
    "plt.plot(pd2)\n",
    "start = ((60*3+3+4) * 10000)+10000\n",
    "end = start + (5000)-10000\n",
    "plt.xlim(start-10000,end)\n",
    "\n",
    "plt.axvline(183036.2*10,color='k')\n",
    "plt.axvline(187086.5*10,color='k')\n"
   ]
  },
  {
   "cell_type": "code",
   "execution_count": null,
   "metadata": {
    "collapsed": true
   },
   "outputs": [],
   "source": []
  },
  {
   "cell_type": "code",
   "execution_count": 115,
   "metadata": {},
   "outputs": [
    {
     "data": {
      "text/plain": [
       "4050.2999999999884"
      ]
     },
     "execution_count": 115,
     "metadata": {},
     "output_type": "execute_result"
    }
   ],
   "source": [
    "187086.5-183036.2"
   ]
  },
  {
   "cell_type": "code",
   "execution_count": 73,
   "metadata": {},
   "outputs": [
    {
     "data": {
      "text/plain": [
       "0.008333333333333333"
      ]
     },
     "execution_count": 73,
     "metadata": {},
     "output_type": "execute_result"
    }
   ],
   "source": [
    "# 120 hz display is \n",
    "1/120\n",
    "#0.00833s\n"
   ]
  },
  {
   "cell_type": "code",
   "execution_count": 68,
   "metadata": {},
   "outputs": [
    {
     "data": {
      "text/plain": [
       "10000.0"
      ]
     },
     "execution_count": 68,
     "metadata": {},
     "output_type": "execute_result"
    }
   ],
   "source": [
    "#sampling rate is \n",
    "# aquired 18000000 samples over 30min\n",
    "18000000/30/60\n",
    "#that is 10000 samples a second\n",
    "#or one sample every 0.1ms\n",
    "# so 3 sec would have 30000 samples"
   ]
  },
  {
   "cell_type": "code",
   "execution_count": 39,
   "metadata": {},
   "outputs": [
    {
     "data": {
      "text/plain": [
       "[<matplotlib.lines.Line2D at 0x7f7c61a70978>]"
      ]
     },
     "execution_count": 39,
     "metadata": {},
     "output_type": "execute_result"
    },
    {
     "data": {
      "image/png": "[encoded data removed]",
      "text/plain": [
       "<Figure size 432x288 with 1 Axes>"
      ]
     },
     "metadata": {},
     "output_type": "display_data"
    }
   ],
   "source": [
    "plt.plot(temp[40000:45000,2])"
   ]
  },
  {
   "cell_type": "code",
   "execution_count": 40,
   "metadata": {},
   "outputs": [
    {
     "data": {
      "text/plain": [
       "[<matplotlib.lines.Line2D at 0x7f7c61a54828>]"
      ]
     },
     "execution_count": 40,
     "metadata": {},
     "output_type": "execute_result"
    },
    {
     "data": {
      "image/png": "[encoded data removed]",
      "text/plain": [
       "<Figure size 432x288 with 1 Axes>"
      ]
     },
     "metadata": {},
     "output_type": "display_data"
    }
   ],
   "source": [
    "plt.plot(temp[:,2])"
   ]
  },
  {
   "cell_type": "code",
   "execution_count": 41,
   "metadata": {},
   "outputs": [
    {
     "data": {
      "text/plain": [
       "[<matplotlib.lines.Line2D at 0x7f7c59062668>]"
      ]
     },
     "execution_count": 41,
     "metadata": {},
     "output_type": "execute_result"
    },
    {
     "data": {
      "image/png": "[encoded data removed]",
      "text/plain": [
       "<Figure size 432x288 with 1 Axes>"
      ]
     },
     "metadata": {},
     "output_type": "display_data"
    }
   ],
   "source": [
    "plt.plot(temp[:,3])"
   ]
  },
  {
   "cell_type": "code",
   "execution_count": null,
   "metadata": {
    "collapsed": true
   },
   "outputs": [],
   "source": []
  },
  {
   "cell_type": "code",
   "execution_count": 233,
   "metadata": {
    "collapsed": true
   },
   "outputs": [],
   "source": [
    "# frame_monitor_channels, time_vector, sample_rate = self.getPhotodiodeData()\n",
    "# run_parameters = self.getRunParameters()\n",
    "# epoch_parameters = self.getEpochParameters()\n",
    "\n",
    "threshold=0.8,\n",
    "command_frame_rate=120\n",
    "\n",
    "frame_monitor = pd2\n",
    "time_vector = t\n",
    "sample_rate = 10000\n",
    "\n",
    "\n",
    "#if len(frame_monitor_channels.shape) == 1:\n",
    "#    frame_monitor_channels = frame_monitor_channels[np.newaxis, :]\n",
    "\n",
    "minimum_epoch_separation = 0.9 * (3 + 0) * sample_rate\n",
    "\n",
    "\n",
    "#frame_monitor = frame_monitor_channels[ch, :]\n",
    "\n",
    "# Low-pass filter frame_monitor trace\n",
    "#     b, a = scipy.signal.butter(4, 10*command_frame_rate, btype='low', fs=sample_rate)\n",
    "#     frame_monitor = signal.filtfilt(b, a, frame_monitor)\n",
    "\n",
    "# shift & normalize so frame monitor trace lives on [0 1]\n",
    "frame_monitor = frame_monitor - np.min(frame_monitor)\n",
    "frame_monitor = frame_monitor / np.max(frame_monitor)\n",
    "\n",
    "# find frame flip times\n",
    "V_orig = frame_monitor[0:-2]\n",
    "V_shift = frame_monitor[1:-1]\n",
    "ups = np.where(np.logical_and(V_orig < threshold, V_shift >= threshold))[0] + 1\n",
    "downs = np.where(np.logical_and(V_orig >= threshold, V_shift < threshold))[0] + 1\n",
    "frame_times = np.sort(np.append(ups, downs))\n",
    "\n",
    "# Use frame flip times to find stimulus start times\n",
    "stimulus_start_frames = np.append(0, np.where(np.diff(frame_times) > minimum_epoch_separation)[0] + 1)\n",
    "stimulus_end_frames = np.append(np.where(np.diff(frame_times) > minimum_epoch_separation)[0], len(frame_times)-1)\n",
    "stimulus_start_times = frame_times[stimulus_start_frames] / sample_rate  # datapoints -> sec\n",
    "stimulus_end_times = frame_times[stimulus_end_frames] / sample_rate  # datapoints -> sec\n",
    "\n",
    "stim_durations = stimulus_end_times - stimulus_start_times # sec"
   ]
  },
  {
   "cell_type": "code",
   "execution_count": 232,
   "metadata": {},
   "outputs": [
    {
     "data": {
      "text/plain": [
       "(0, 100000)"
      ]
     },
     "execution_count": 232,
     "metadata": {},
     "output_type": "execute_result"
    },
    {
     "data": {
      "image/png": "[encoded data removed]",
      "text/plain": [
       "<Figure size 432x288 with 1 Axes>"
      ]
     },
     "metadata": {},
     "output_type": "display_data"
    }
   ],
   "source": [
    "plt.plot(frame_monitor)\n",
    "plt.xlim(0,100000)"
   ]
  },
  {
   "cell_type": "code",
   "execution_count": 234,
   "metadata": {},
   "outputs": [
    {
     "data": {
      "image/png": "[encoded data removed]",
      "text/plain": [
       "<Figure size 432x288 with 1 Axes>"
      ]
     },
     "metadata": {},
     "output_type": "display_data"
    }
   ],
   "source": [
    "for i in range(len(stimulus_start_times)):\n",
    "    plt.axvline(stimulus_start_times[i])"
   ]
  },
  {
   "cell_type": "code",
   "execution_count": 237,
   "metadata": {},
   "outputs": [
    {
     "data": {
      "text/plain": [
       "312"
      ]
     },
     "execution_count": 237,
     "metadata": {},
     "output_type": "execute_result"
    }
   ],
   "source": [
    "len(stimulus_start_times)"
   ]
  },
  {
   "cell_type": "code",
   "execution_count": 236,
   "metadata": {},
   "outputs": [
    {
     "data": {
      "text/plain": [
       "array([183.0247,   4.0421,   4.042 ,   4.042 ,   4.0337,   4.042 ,\n",
       "         4.0504,   4.0254,   4.042 ,   4.0352,   4.0405,   4.0421,\n",
       "         4.042 ,   4.0337,   4.042 ,   4.0337,   4.042 ,   4.0421,\n",
       "         4.0503,   4.0337,   4.0337,   4.0337,   4.042 ,   4.0338,\n",
       "         4.042 ,   4.0337,   4.0503,   4.0337,   4.0504,   4.0253,\n",
       "         4.0504,   4.042 ,   4.0337,   4.0421,   4.042 ,   4.0337,\n",
       "         4.0337,   4.0503,   4.0337,   4.0337,   4.0421,   4.042 ,\n",
       "         4.0253,   4.0504,   4.0254,   4.042 ,   4.0504,   4.0253,\n",
       "         4.0337,   4.0337,   4.042 ,   4.0421,   4.042 ,   4.0504,\n",
       "         4.0253,   4.0504,   4.042 ,   4.0504,   4.042 ,   4.0337,\n",
       "         4.042 ,   4.0421,   4.042 ,   4.0337,   4.042 ,   4.0337,\n",
       "         4.0421,   4.042 ,   4.0337,   4.042 ,   4.0337,   4.0337,\n",
       "         4.042 ,   4.0587,   4.0421,   4.0336,   4.0338,   4.0503,\n",
       "         4.0337,   4.0337,   4.042 ,   4.0421,   4.042 ,   4.0337,\n",
       "         4.0503,   4.0337,   4.0587,   4.0421,   4.0337,   4.042 ,\n",
       "         4.042 ,   4.0421,   4.042 ,   4.0337,   4.042 ,   4.0337,\n",
       "         4.0337,   4.042 ,   4.0421,   4.042 ,   4.0253,   4.0421,\n",
       "         4.042 ,   4.042 ,   4.0337,   4.0421, 183.0331,   4.042 ,\n",
       "         4.0337,   4.0503,   4.0421,   4.042 ,   4.0337,   4.042 ,\n",
       "         4.0337,   4.0337,   4.0504,   4.0254,   4.042 ,   4.0337,\n",
       "         4.042 ,   4.042 ,   4.0421,   4.0336,   4.0421,   4.042 ,\n",
       "         4.0337,   4.042 ,   4.0337,   4.0504,   4.0337,   4.042 ,\n",
       "         4.0337,   4.042 ,   4.0421,   4.0337,   4.042 ,   4.042 ,\n",
       "         4.0254,   4.042 ,   4.042 ,   4.0421,   4.0337,   4.042 ,\n",
       "         4.0337,   4.042 ,   4.0337,   4.0337,   4.042 ,   4.0421,\n",
       "         4.0337,   4.042 ,   4.042 ,   4.0504,   4.0254,   4.042 ,\n",
       "         4.0503,   4.0254,   4.042 ,   4.0421,   4.0253,   4.0587,\n",
       "         4.0254,   4.042 ,   4.0421,   4.0336,   4.0421,   4.0337,\n",
       "         4.042 ,   4.0504,   4.0337,   4.042 ,   4.042 ,   4.0421,\n",
       "         4.0336,   4.0421,   4.042 ,   4.0337,   4.042 ,   4.0337,\n",
       "         4.0337,   4.0421,   4.0336,   4.0421,   4.0337,   4.0337,\n",
       "         4.0253,   4.0254,   4.0337,   4.0253,   4.0254,   4.0254,\n",
       "         4.0253,   4.0254,   4.0254,   4.0337,   4.0336,   4.0254,\n",
       "         4.0254,   4.042 ,   4.042 ,   4.0369,   4.0305,   4.0254,\n",
       "         4.042 ,   4.0337,   4.0337,   4.042 ,   4.0337,   4.0421,\n",
       "         4.042 ,   4.0337, 183.0247,   4.0421,   4.0337,   4.042 ,\n",
       "         4.0504,   4.0337,   4.042 ,   4.042 ,   4.0337,   4.0504,\n",
       "         4.0337,   4.0337,   4.042 ,   4.042 ,   4.0421,   4.0336,\n",
       "         4.0421,   4.0337,   4.042 ,   4.042 ,   4.0337,   4.0421,\n",
       "         4.0339,   4.0418,   4.042 ,   4.0337,   4.042 ,   4.0337,\n",
       "         4.0421,   4.0253,   4.0421,   4.0336,   4.0421,   4.042 ,\n",
       "         4.042 ,   4.0337,   4.0421,   4.0337,   4.042 ,   4.042 ,\n",
       "         4.0337,   4.042 ,   4.0421,   4.0337,   4.042 ,   4.042 ,\n",
       "         4.0337,   4.0421,   4.0503,   4.0337,   4.042 ,   4.0337,\n",
       "         4.0504,   4.0254,   4.0503,   4.0337,   4.0337,   4.0421,\n",
       "         4.042 ,   4.042 ,   4.042 ,   4.0421,   4.0337,   4.042 ,\n",
       "         4.0337,   4.0504,   4.0337,   4.042 ,   4.0337,   4.0337,\n",
       "         4.042 ,   4.0504,   4.0337,   4.0337,   4.042 ,   4.0503,\n",
       "         4.0337,   4.0587,   4.0421,   4.0253,   4.0421,   4.042 ,\n",
       "         4.0337,   4.042 ,   4.042 ,   4.0421,   4.0337,   4.042 ,\n",
       "         4.0337,   4.042 ,   4.0254,   4.042 ,   4.042 ,   4.0421,\n",
       "         4.0337,   4.042 ,   4.042 ,   4.0504,   4.0254])"
      ]
     },
     "execution_count": 236,
     "metadata": {},
     "output_type": "execute_result"
    }
   ],
   "source": [
    "np.diff(stimulus_start_times)"
   ]
  },
  {
   "cell_type": "code",
   "execution_count": 220,
   "metadata": {},
   "outputs": [
    {
     "data": {
      "text/plain": [
       "9000.0"
      ]
     },
     "execution_count": 220,
     "metadata": {},
     "output_type": "execute_result"
    }
   ],
   "source": [
    "minimum_epoch_separation"
   ]
  },
  {
   "cell_type": "code",
   "execution_count": 226,
   "metadata": {},
   "outputs": [
    {
     "data": {
      "text/plain": [
       "array([2.855730e+01, 1.235100e+01, 1.020427e+02, 1.442180e+01,\n",
       "       7.370000e-01, 4.430800e+00, 9.918000e-01, 9.751000e-01,\n",
       "       9.917000e-01, 9.918000e-01, 9.918000e-01, 5.033800e+00,\n",
       "       9.917000e-01, 5.033800e+00, 1.008400e+00, 9.918000e-01,\n",
       "       9.917000e-01, 9.059200e+00, 1.008400e+00, 9.918000e-01,\n",
       "       1.311790e+01, 9.067500e+00, 9.918000e-01, 9.918000e-01,\n",
       "       1.008400e+00, 5.033700e+00, 9.917000e-01, 1.008400e+00,\n",
       "       1.341500e+01, 1.073100e+00, 1.008500e+00, 5.033800e+00,\n",
       "       9.067500e+00, 9.918000e-01, 4.545410e+01, 5.033800e+00,\n",
       "       1.008400e+00, 5.042100e+00, 1.008500e+00, 9.917000e-01,\n",
       "       9.917000e-01, 9.918000e-01, 9.918000e-01, 9.918000e-01,\n",
       "       9.918000e-01, 9.834000e-01, 9.918000e-01, 9.918000e-01,\n",
       "       1.008500e+00, 9.918000e-01, 9.918000e-01, 1.008400e+00,\n",
       "       9.918000e-01, 9.917000e-01, 1.000100e+00, 9.917000e-01,\n",
       "       9.084200e+00, 1.582680e+01, 5.242000e+00, 9.918000e-01,\n",
       "       2.705000e+00, 6.690000e-02, 1.500000e-01, 1.797500e+00,\n",
       "       3.941700e+00, 3.400800e+00, 8.360770e+01, 1.969800e+01,\n",
       "       5.033800e+00, 2.118520e+01, 9.918000e-01, 9.389170e+01,\n",
       "       5.033800e+00, 9.918000e-01, 1.513520e+01, 8.638800e+00,\n",
       "       4.340900e+00, 2.441800e+00, 1.000000e-04, 3.758000e-01,\n",
       "       5.267700e+00, 9.567200e+00, 1.150600e+00, 4.814400e+00,\n",
       "       9.785000e-01, 6.278900e+00, 1.424800e+00, 1.344600e+00,\n",
       "       7.622600e+00, 9.918000e-01, 9.917000e-01, 5.025500e+00,\n",
       "       9.918000e-01, 9.918000e-01, 9.917000e-01, 8.387400e+00,\n",
       "       7.917000e-01, 5.690700e+00, 5.593760e+01, 4.368000e-01,\n",
       "       3.735330e+01, 9.918000e-01, 3.331130e+01, 9.918000e-01,\n",
       "       3.633200e+00, 5.924400e+00, 4.286960e+01])"
      ]
     },
     "execution_count": 226,
     "metadata": {},
     "output_type": "execute_result"
    }
   ],
   "source": [
    "stim_durations"
   ]
  },
  {
   "cell_type": "code",
   "execution_count": 218,
   "metadata": {},
   "outputs": [
    {
     "data": {
      "text/plain": [
       "array([   30702,    30868,    31035, ..., 17578932, 17579014, 17581600])"
      ]
     },
     "execution_count": 218,
     "metadata": {},
     "output_type": "execute_result"
    }
   ],
   "source": [
    "downs"
   ]
  },
  {
   "cell_type": "code",
   "execution_count": 216,
   "metadata": {},
   "outputs": [
    {
     "data": {
      "text/plain": [
       "array([   30618,    30702,    30785, ..., 17579015, 17581600, 17581601])"
      ]
     },
     "execution_count": 216,
     "metadata": {},
     "output_type": "execute_result"
    }
   ],
   "source": [
    "frame_times"
   ]
  },
  {
   "cell_type": "code",
   "execution_count": 155,
   "metadata": {},
   "outputs": [
    {
     "data": {
      "text/plain": [
       "200"
      ]
     },
     "execution_count": 155,
     "metadata": {},
     "output_type": "execute_result"
    }
   ],
   "source": [
    "len(stim_durations)"
   ]
  },
  {
   "cell_type": "code",
   "execution_count": 153,
   "metadata": {},
   "outputs": [
    {
     "data": {
      "text/plain": [
       "18000000"
      ]
     },
     "execution_count": 153,
     "metadata": {},
     "output_type": "execute_result"
    }
   ],
   "source": [
    "len(pd2)"
   ]
  },
  {
   "cell_type": "code",
   "execution_count": null,
   "metadata": {
    "collapsed": true
   },
   "outputs": [],
   "source": []
  }
 ],
 "metadata": {
  "kernelspec": {
   "display_name": "Python 3",
   "language": "python",
   "name": "python3"
  },
  "language_info": {
   "codemirror_mode": {
    "name": "ipython",
    "version": 3
   },
   "file_extension": ".py",
   "mimetype": "text/x-python",
   "name": "python",
   "nbconvert_exporter": "python",
   "pygments_lexer": "ipython3",
   "version": "3.6.1"
  }
 },
 "nbformat": 4,
 "nbformat_minor": 2
}
