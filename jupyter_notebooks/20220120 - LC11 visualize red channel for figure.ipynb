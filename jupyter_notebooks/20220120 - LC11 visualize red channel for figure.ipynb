{
 "cells": [
  {
   "cell_type": "code",
   "execution_count": 1,
   "metadata": {},
   "outputs": [
    {
     "name": "stderr",
     "output_type": "stream",
     "text": [
      "/home/users/brezovec/.local/lib/python3.6/site-packages/ants/viz/render_surface_function.py:16: UserWarning: Cant import Plotly. Install it `pip install chart_studio` if you want to use ants.render_surface_function\n",
      "  \"Cant import Plotly. Install it `pip install chart_studio` if you want to use ants.render_surface_function\"\n"
     ]
    }
   ],
   "source": [
    "import brainsss\n",
    "import os\n",
    "import numpy as np\n",
    "import matplotlib.pyplot as plt\n",
    "%matplotlib inline\n",
    "import scipy\n",
    "import random\n",
    "from scipy.stats import sem\n",
    "import time\n",
    "import h5py\n",
    "import ants\n",
    "import nibabel as nib\n",
    "import matplotlib\n",
    "import pickle\n",
    "from shutil import copyfile\n",
    "from mpl_toolkits.axes_grid1 import ImageGrid\n",
    "from skimage.filters import threshold_otsu as otsu\n",
    "from scipy.ndimage.morphology import binary_erosion\n",
    "from scipy.ndimage.morphology import binary_dilation\n",
    "import matplotlib.patches as mpatches\n",
    "from matplotlib.colors import LinearSegmentedColormap"
   ]
  },
  {
   "cell_type": "code",
   "execution_count": 2,
   "metadata": {
    "collapsed": true
   },
   "outputs": [],
   "source": [
    "### DEFINE DIRECTORIES ###\n",
    "oak = \"/oak/stanford/groups/trc/data/\"\n",
    "warp_types = ['direct_affine', 'direct_syn', 'localmean_ANTS', 'localmean_synthmorph']\n",
    "\n",
    "directories_clandinin = {\n",
    "     'direct_affine': \"Brezovec/2P_Imaging/20221029_FDA_direct_affine/clandinin\",\n",
    "     'direct_syn': \"Brezovec/2P_Imaging/20221029_FDA_direct_syn/clandinin\",\n",
    "     'localmean_ANTS': \"Alex/clab_data/LC11/func/aligned_to_FDA/\",\n",
    "     'localmean_synthmorph': \"Alex/clab_data/LC11/func/synthmorph_to_FDA\"\n",
    "}\n",
    "\n",
    "for warp_type in warp_types:\n",
    "    directories_clandinin[warp_type] = os.path.join(oak, directories_clandinin[warp_type])\n",
    "    \n",
    "directories_murthy = {\n",
    "     'direct_affine': \"Brezovec/2P_Imaging/20221029_FDA_direct_affine/murthy\",\n",
    "     'direct_syn': \"Brezovec/2P_Imaging/20221029_FDA_direct_syn/murthy\",\n",
    "     'localmean_ANTS': \"Alex/albert_data/LC11/func/aligned_to_FDA/\",\n",
    "     'localmean_synthmorph': \"Alex/albert_data/LC11/func/synthmorph_to_FDA\"\n",
    "}\n",
    "    \n",
    "for warp_type in warp_types:\n",
    "    directories_murthy[warp_type] = os.path.join(oak, directories_murthy[warp_type])\n",
    "    "
   ]
  },
  {
   "cell_type": "code",
   "execution_count": 3,
   "metadata": {},
   "outputs": [
    {
     "name": "stdout",
     "output_type": "stream",
     "text": [
      "210223_04_red-to-FDA.nii\n",
      "210208_02_red-to-FDA.nii\n",
      "210223_03_red-to-FDA.nii\n",
      "210216_04_red-to-FDA.nii\n",
      "210216_02_red-to-FDA.nii\n",
      "210208_03_red-to-FDA.nii\n",
      "210218_02_red-to-FDA.nii\n",
      "210223_02_red-to-FDA.nii\n",
      "210223_01_red-to-FDA.nii\n",
      "220412_LC11_vol1_local_atlas_red-to-FDA.nii\n",
      "220420_LC11_vol2_local_atlas_red-to-FDA.nii\n",
      "220426_LC11_vol1_local_atlas_red-to-FDA.nii\n",
      "220413_LC11_vol1_local_atlas_red-to-FDA.nii\n",
      "220425_LC11_vol1_local_atlas_red-to-FDA.nii\n",
      "220420_LC11_vol1_local_atlas_red-to-FDA.nii\n",
      "220426_LC11_vol2_local_atlas_red-to-FDA.nii\n",
      "220419_LC11_vol2_local_atlas_red-to-FDA.nii\n",
      "210223_04_red-to-FDA.nii\n",
      "210208_02_red-to-FDA.nii\n",
      "210223_03_red-to-FDA.nii\n",
      "210216_04_red-to-FDA.nii\n",
      "210216_02_red-to-FDA.nii\n",
      "210208_03_red-to-FDA.nii\n",
      "210218_02_red-to-FDA.nii\n",
      "210223_02_red-to-FDA.nii\n",
      "210223_01_red-to-FDA.nii\n",
      "220412_LC11_vol1_local_atlas_red-to-FDA.nii\n",
      "220420_LC11_vol2_local_atlas_red-to-FDA.nii\n",
      "220426_LC11_vol1_local_atlas_red-to-FDA.nii\n",
      "220413_LC11_vol1_local_atlas_red-to-FDA.nii\n",
      "220425_LC11_vol1_local_atlas_red-to-FDA.nii\n",
      "220420_LC11_vol1_local_atlas_red-to-FDA.nii\n",
      "220426_LC11_vol2_local_atlas_red-to-FDA.nii\n",
      "220419_LC11_vol2_local_atlas_red-to-FDA.nii\n"
     ]
    },
    {
     "ename": "NameError",
     "evalue": "name 'bbox' is not defined",
     "output_type": "error",
     "traceback": [
      "\u001b[0;31m---------------------------------------------------------------------------\u001b[0m",
      "\u001b[0;31mNameError\u001b[0m                                 Traceback (most recent call last)",
      "\u001b[0;32m<ipython-input-3-2fb1d5599938>\u001b[0m in \u001b[0;36m<module>\u001b[0;34m()\u001b[0m\n\u001b[1;32m     19\u001b[0m         \u001b[0mLC11_fda_path\u001b[0m \u001b[0;34m=\u001b[0m \u001b[0;34m\"/oak/stanford/groups/trc/data/Alex/clab_data/LC11/LC11_FDA_ds_flip.nii\"\u001b[0m\u001b[0;34m\u001b[0m\u001b[0m\n\u001b[1;32m     20\u001b[0m         \u001b[0mLC11_fda\u001b[0m \u001b[0;34m=\u001b[0m \u001b[0mants\u001b[0m\u001b[0;34m.\u001b[0m\u001b[0mimage_read\u001b[0m\u001b[0;34m(\u001b[0m\u001b[0mLC11_fda_path\u001b[0m\u001b[0;34m)\u001b[0m\u001b[0;34m[\u001b[0m\u001b[0;34m:\u001b[0m\u001b[0;34m]\u001b[0m\u001b[0;34m\u001b[0m\u001b[0m\n\u001b[0;32m---> 21\u001b[0;31m         LC11_fda_cropped = LC11_fda[bbox['x_start']:bbox['x_end'],\n\u001b[0m\u001b[1;32m     22\u001b[0m                            \u001b[0mbbox\u001b[0m\u001b[0;34m[\u001b[0m\u001b[0;34m'y_start'\u001b[0m\u001b[0;34m]\u001b[0m\u001b[0;34m:\u001b[0m\u001b[0mbbox\u001b[0m\u001b[0;34m[\u001b[0m\u001b[0;34m'y_end'\u001b[0m\u001b[0;34m]\u001b[0m\u001b[0;34m,\u001b[0m\u001b[0;34m\u001b[0m\u001b[0m\n\u001b[1;32m     23\u001b[0m                            bbox['z_start']:bbox['z_end']]\n",
      "\u001b[0;31mNameError\u001b[0m: name 'bbox' is not defined"
     ]
    }
   ],
   "source": [
    "###########################################\n",
    "### Load warped indiv LC11 gloms in FDA ###\n",
    "###########################################\n",
    "\n",
    "######################################\n",
    "### HERE IS KEY VARIABLE TO CHANGE ###\n",
    "warp_type = 'direct_affine'\n",
    "######################################\n",
    "\n",
    "brains = {}\n",
    "brains_cropped = {}\n",
    "brain_types = ['clandinin', 'murthy', 'clandinin_flip', 'murthy_flip', 'connectome']\n",
    "for brain_type in brain_types:\n",
    "    if 'clandinin' in brain_type:\n",
    "        dir_ = directories_clandinin[warp_type]\n",
    "    elif 'murthy' in brain_type:\n",
    "        dir_ = directories_murthy[warp_type]\n",
    "    elif 'connectome' in brain_type:\n",
    "        LC11_fda_path = \"/oak/stanford/groups/trc/data/Alex/clab_data/LC11/LC11_FDA_ds_flip.nii\"\n",
    "        LC11_fda = ants.image_read(LC11_fda_path)[:]\n",
    "        LC11_fda_cropped = LC11_fda[bbox['x_start']:bbox['x_end'],\n",
    "                           bbox['y_start']:bbox['y_end'],\n",
    "                           bbox['z_start']:bbox['z_end']]\n",
    "        brains[brain_type] = [LC11_fda]\n",
    "        brains_cropped[brain_type] = [LC11_fda_cropped]\n",
    "        continue\n",
    "        \n",
    "    brains[brain_type] = []\n",
    "    files = [x for x in os.listdir(dir_) if 'red' in x] ### just need to switch this for localmean_synthmorph\n",
    "    #files = [x for x in os.listdir(dir_)]\n",
    "    for file in files:\n",
    "        print(file)\n",
    "        to_load = os.path.join(dir_,file)\n",
    "        image = ants.image_read(to_load)\n",
    "        \n",
    "        if 'flip' in brain_type:\n",
    "            image = image[::-1,:,:]\n",
    "        \n",
    "        brains[brain_type].append(image)"
   ]
  },
  {
   "cell_type": "code",
   "execution_count": null,
   "metadata": {
    "collapsed": true
   },
   "outputs": [],
   "source": []
  }
 ],
 "metadata": {
  "kernelspec": {
   "display_name": "Python 3",
   "language": "python",
   "name": "python3"
  },
  "language_info": {
   "codemirror_mode": {
    "name": "ipython",
    "version": 3
   },
   "file_extension": ".py",
   "mimetype": "text/x-python",
   "name": "python",
   "nbconvert_exporter": "python",
   "pygments_lexer": "ipython3",
   "version": "3.6.1"
  }
 },
 "nbformat": 4,
 "nbformat_minor": 2
}
