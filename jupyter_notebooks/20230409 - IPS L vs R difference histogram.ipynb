{
 "cells": [
  {
   "cell_type": "code",
   "execution_count": 1,
   "metadata": {},
   "outputs": [
    {
     "name": "stderr",
     "output_type": "stream",
     "text": [
      "/home/users/brezovec/.local/lib/python3.6/site-packages/ants/viz/render_surface_function.py:16: UserWarning: Cant import Plotly. Install it `pip install chart_studio` if you want to use ants.render_surface_function\n",
      "  \"Cant import Plotly. Install it `pip install chart_studio` if you want to use ants.render_surface_function\"\n"
     ]
    }
   ],
   "source": [
    "import pickle\n",
    "import os\n",
    "import time\n",
    "import numpy as np\n",
    "import matplotlib.pyplot as plt\n",
    "%matplotlib inline\n",
    "from sklearn.decomposition import FastICA\n",
    "from mpl_toolkits.axes_grid1 import ImageGrid\n",
    "from sklearn.cluster import AgglomerativeClustering\n",
    "from scipy.cluster.hierarchy import dendrogram\n",
    "import nibabel as nib\n",
    "import ants\n",
    "from scipy.ndimage.morphology import binary_erosion\n",
    "from scipy.ndimage.morphology import binary_dilation\n",
    "import cv2\n",
    "import bigbadbrain as bbb\n",
    "import scipy\n",
    "from scipy.interpolate import interp1d\n",
    "from matplotlib.colors import ListedColormap\n",
    "from matplotlib.pyplot import cm\n",
    "import matplotlib.colors as mcolors\n",
    "import matplotlib\n",
    "import tqdm\n",
    "import brainsss\n",
    "from scipy import signal\n",
    "from scipy.ndimage.filters import gaussian_filter1d\n",
    "from scipy.spatial.transform import Rotation as R"
   ]
  },
  {
   "cell_type": "code",
   "execution_count": 2,
   "metadata": {
    "collapsed": true
   },
   "outputs": [],
   "source": [
    "cluster_dir = \"/oak/stanford/groups/trc/data/Brezovec/2P_Imaging/20221109_cluster_pca/\""
   ]
  },
  {
   "cell_type": "code",
   "execution_count": 3,
   "metadata": {},
   "outputs": [
    {
     "data": {
      "text/plain": [
       "(501, 30456)"
      ]
     },
     "execution_count": 3,
     "metadata": {},
     "output_type": "execute_result"
    }
   ],
   "source": [
    "# cluster 77 came from z ~25\n",
    "### Load Supercluster Signals ###\n",
    "file = os.path.join(cluster_dir, \"20221202_SC_signals.npy\")\n",
    "supercluster_signals = np.load(file)\n",
    "supercluster_signals.shape"
   ]
  },
  {
   "cell_type": "code",
   "execution_count": 4,
   "metadata": {
    "collapsed": true
   },
   "outputs": [],
   "source": [
    "### ADDING THIS 20230421\n",
    "supercluster_signals /= np.std(supercluster_signals,axis=1)[:,np.newaxis]"
   ]
  },
  {
   "cell_type": "code",
   "execution_count": 5,
   "metadata": {},
   "outputs": [
    {
     "name": "stdout",
     "output_type": "stream",
     "text": [
      "\n",
      "~~ load_fictrac ~~\n",
      "load_fictrac done. Duration: 1.82 sec\n",
      "\n",
      "~~ load_fictrac ~~\n",
      "load_fictrac done. Duration: 1.85 sec\n",
      "\n",
      "~~ load_fictrac ~~\n",
      "load_fictrac done. Duration: 1.86 sec\n",
      "\n",
      "~~ load_fictrac ~~\n",
      "load_fictrac done. Duration: 1.87 sec\n",
      "\n",
      "~~ load_fictrac ~~\n",
      "load_fictrac done. Duration: 1.89 sec\n",
      "\n",
      "~~ load_fictrac ~~\n",
      "load_fictrac done. Duration: 1.91 sec\n",
      "\n",
      "~~ load_fictrac ~~\n",
      "load_fictrac done. Duration: 1.89 sec\n",
      "\n",
      "~~ load_fictrac ~~\n",
      "load_fictrac done. Duration: 1.89 sec\n",
      "\n",
      "~~ load_fictrac ~~\n",
      "load_fictrac done. Duration: 1.89 sec\n"
     ]
    }
   ],
   "source": [
    "fly_names = ['fly_087', 'fly_089', 'fly_094', 'fly_097', 'fly_098', 'fly_099', 'fly_100', 'fly_101', 'fly_105']\n",
    "dataset_path = \"/oak/stanford/groups/trc/data/Brezovec/2P_Imaging/20190101_walking_dataset\"\n",
    "\n",
    "behaviors = ['dRotLabY', 'dRotLabZ', 'dRotLabX']; shorts = ['Y', 'Z', 'X']\n",
    "\n",
    "fictrac = {'Y': [], 'Z': [], 'X': []}\n",
    "\n",
    "for fly in fly_names:\n",
    "    fly_dir = os.path.join(dataset_path, fly)\n",
    "    fictrac_raw = bbb.load_fictrac(os.path.join(fly_dir, 'func_0', 'fictrac'))\n",
    "    for behavior, short in zip(behaviors, shorts):\n",
    "        fictrac[short].append(fictrac_raw[behavior])\n",
    "\n",
    "for short in shorts:    \n",
    "    fictrac[short] = np.asarray(fictrac[short])"
   ]
  },
  {
   "cell_type": "code",
   "execution_count": 6,
   "metadata": {
    "collapsed": true
   },
   "outputs": [],
   "source": [
    "fictrac_data = np.reshape(np.stack((fictrac['X'], fictrac['Y'], fictrac['Z'])),(3,-1))\n",
    "r = R.from_euler('xyz', [-6.46013698, -12.92761252,   3.29629772], degrees=True).as_dcm()\n",
    "fictrac_data_r = np.matmul(fictrac_data.T,r).T\n",
    "\n",
    "fictrac_data_rotated = {'Y': fictrac_data_r[1,:],\n",
    "                        'Z': fictrac_data_r[2,:]}"
   ]
  },
  {
   "cell_type": "code",
   "execution_count": 7,
   "metadata": {},
   "outputs": [
    {
     "name": "stdout",
     "output_type": "stream",
     "text": [
      "Trying to load timestamp data from hdf5 file.\n",
      "Success.\n"
     ]
    }
   ],
   "source": [
    "# Create camera timepoints\n",
    "fps=50\n",
    "camera_rate = 1/fps * 1000 # camera frame rate in ms\n",
    "expt_len = 1000*30*60\n",
    "x_original = np.arange(0,expt_len,camera_rate)\n",
    "\n",
    "# new timepoints\n",
    "width = 30000 \n",
    "step = 20 #in ms\n",
    "time_shifts = list(range(-width,width,step))\n",
    "xs = np.asarray(time_shifts)/1000\n",
    "\n",
    "# neural timepoints\n",
    "file = os.path.join(dataset_path, 'fly_087', 'func_0', 'imaging')\n",
    "neural_timestamps = brainsss.load_timestamps(file)"
   ]
  },
  {
   "cell_type": "code",
   "execution_count": 8,
   "metadata": {},
   "outputs": [
    {
     "name": "stdout",
     "output_type": "stream",
     "text": [
      "Y\n",
      "Z\n"
     ]
    }
   ],
   "source": [
    "step = 90000\n",
    "sliding_fictrac = {}\n",
    "for beh in ['Y', 'Z']:\n",
    "    print(beh)\n",
    "\n",
    "    all_behavior_shifts = []\n",
    "    for k,fly in enumerate(fly_names):\n",
    "        \n",
    "        # Smooth fictrac data\n",
    "        fictrac_smoothed = scipy.signal.savgol_filter(fictrac_data_rotated[beh][step*k:step*(k+1)],25,3)\n",
    "\n",
    "        # Create interp object with camera timepoints\n",
    "        interp_obj = interp1d(x_original, fictrac_smoothed, bounds_error = False)\n",
    "        \n",
    "        behavior_shifts = []\n",
    "        for shift in time_shifts:\n",
    "            fictrac_interp = interp_obj(neural_timestamps[:,20]+shift)#flies[fly].timestamps[:,z]+shift)\n",
    "            fictrac_interp = np.nan_to_num(fictrac_interp)\n",
    "            behavior_shifts.append(fictrac_interp)\n",
    "        all_behavior_shifts.append(np.asarray(behavior_shifts))\n",
    "    all_behavior_shifts = np.asarray(all_behavior_shifts)\n",
    "    sliding_fictrac[beh] = np.reshape(np.moveaxis(all_behavior_shifts,0,1),(-1,30456))"
   ]
  },
  {
   "cell_type": "code",
   "execution_count": 9,
   "metadata": {
    "collapsed": true
   },
   "outputs": [],
   "source": [
    "def bin_2D(pc, num_bins_x, num_bins_y, idx_x ,idx_y):\n",
    "    #\"PC\" is just a holdover\n",
    "    pc_binned = []\n",
    "    pc_std = []\n",
    "    pc_count = []\n",
    "    pc_var = []\n",
    "    for i in range(num_bins_x):\n",
    "        mask_x = (idx_x == i)\n",
    "        for j in range(num_bins_y):\n",
    "            mask_y = (idx_y == j)\n",
    "            mask = mask_x & mask_y\n",
    "            pc_binned.append(np.mean(pc[mask]))\n",
    "            pc_std.append(np.std(pc[mask]))\n",
    "            pc_count.append(np.count_nonzero(~np.isnan(pc[mask])))\n",
    "            pc_var.append(np.var(pc[mask]))\n",
    "    pc_binned = np.flip(np.reshape(pc_binned,(num_bins_x, num_bins_y)).T,0)\n",
    "    pc_std = np.flip(np.reshape(pc_std,(num_bins_x, num_bins_y)).T,0)\n",
    "    pc_count = np.flip(np.reshape(pc_count,(num_bins_x, num_bins_y)).T,0)\n",
    "    pc_var = np.flip(np.reshape(pc_var,(num_bins_x, num_bins_y)).T,0)\n",
    "    pcs_binned = {'pc_binned': pc_binned,\n",
    "                  'pc_std': pc_std,\n",
    "                  'pc_count':pc_count,\n",
    "                  'pc_var':pc_var}\n",
    "    return pcs_binned\n",
    "\n",
    "def bin_2D_plot(x_data, y_data, value_data,\n",
    "                num_bins_x, num_bins_y, start_x, end_x, start_y, end_y, min_num_samples):\n",
    "    # Define bins\n",
    "    bins_x, bins_y = np.linspace(start_x,end_x,num_bins_x), np.linspace(start_y,end_y,num_bins_y)\n",
    "    \n",
    "    # Assign fictrac values to bin numbers\n",
    "    idx_x, idx_y = np.digitize(x_data,bins_x), np.digitize(y_data,bins_y)\n",
    "\n",
    "    test = bin_2D(value_data, num_bins_x, num_bins_y, idx_x ,idx_y)\n",
    "    \n",
    "    # Hide bins containing too few data points\n",
    "    test['pc_binned'][np.where(test['pc_count']<=min_num_samples)] = 0\n",
    "    return test['pc_binned'], test['pc_count']"
   ]
  },
  {
   "cell_type": "code",
   "execution_count": 10,
   "metadata": {},
   "outputs": [
    {
     "name": "stderr",
     "output_type": "stream",
     "text": [
      "30it [00:01, 19.01it/s]\n"
     ]
    }
   ],
   "source": [
    "cluster = 77\n",
    "\n",
    "all_2d_hists = []\n",
    "bin_counts = []\n",
    "for j,shift in tqdm.tqdm(enumerate(np.arange(0,3000,100))):\n",
    "    Y_var = sliding_fictrac['Z'][shift,:].copy()\n",
    "    Y_var /= np.std(sliding_fictrac['Z'][1500,:])\n",
    "\n",
    "    X_var = sliding_fictrac['Y'][shift,:].copy()\n",
    "    X_var /= np.std(sliding_fictrac['Y'][1500,:])\n",
    "\n",
    "    start_x=-2; end_x=6; start_y=-4; end_y=4\n",
    "\n",
    "    signal = supercluster_signals[cluster,:]-supercluster_signals[cluster+250,:]\n",
    "    fictrac_2d, bin_count = bin_2D_plot(X_var, Y_var, signal,\n",
    "                                     num_bins_x=25, num_bins_y=25,\n",
    "                                     start_x=start_x, end_x=end_x, start_y=start_y, end_y=end_y,\n",
    "                                     min_num_samples=9)\n",
    "\n",
    "    fictrac_2d[-1,:] = 0\n",
    "    all_2d_hists.append(fictrac_2d)\n",
    "    bin_counts.append(bin_count)\n",
    "\n",
    "\n",
    "#all_2d_hists = np.reshape(np.asarray(all_2d_hists),(2,400,25,25))\n",
    "#print(all_2d_hists.shape)"
   ]
  },
  {
   "cell_type": "code",
   "execution_count": 11,
   "metadata": {},
   "outputs": [
    {
     "data": {
      "image/png": "[encoded data removed]",
      "text/plain": [
       "<Figure size 720x720 with 30 Axes>"
      ]
     },
     "metadata": {},
     "output_type": "display_data"
    }
   ],
   "source": [
    "plt.figure(figsize=(10,10))\n",
    "for k,i in enumerate(np.arange(30)):\n",
    "    plt.subplot(6,6,k+1)\n",
    "    plt.imshow(all_2d_hists[i],vmin=-.2,vmax=.2,cmap='PuOr')"
   ]
  },
  {
   "cell_type": "code",
   "execution_count": 12,
   "metadata": {
    "collapsed": true
   },
   "outputs": [],
   "source": [
    "cluster = 77\n",
    "clusters = [77,185,186]\n",
    "clusters_ = [i+250 for i in clusters]\n",
    "\n",
    "all_2d_hists = []\n",
    "bin_counts = []\n",
    "\n",
    "shift = 1500\n",
    "Y_var = sliding_fictrac['Z'][shift,:].copy()\n",
    "Y_var /= np.std(sliding_fictrac['Z'][1500,:])\n",
    "\n",
    "X_var = sliding_fictrac['Y'][shift,:].copy()\n",
    "X_var /= np.std(sliding_fictrac['Y'][1500,:])\n",
    "\n",
    "start_x=-2; end_x=6; start_y=-4; end_y=4\n",
    "\n",
    "signal = np.mean(supercluster_signals[clusters,:],axis=0)-np.mean(supercluster_signals[clusters_,:],axis=0)\n",
    "fictrac_2d, bin_count = bin_2D_plot(X_var, Y_var, signal,\n",
    "                                 num_bins_x=25, num_bins_y=25,\n",
    "                                 start_x=start_x, end_x=end_x, start_y=start_y, end_y=end_y,\n",
    "                                 min_num_samples=9)\n",
    "\n",
    "fictrac_2d[-1,:] = 0\n",
    "all_2d_hists.append(fictrac_2d)\n",
    "bin_counts.append(bin_count)\n",
    "\n",
    "\n",
    "#all_2d_hists = np.reshape(np.asarray(all_2d_hists),(2,400,25,25))\n",
    "#print(all_2d_hists.shape)"
   ]
  },
  {
   "cell_type": "code",
   "execution_count": 14,
   "metadata": {},
   "outputs": [
    {
     "data": {
      "image/png": "[encoded data removed]",
      "text/plain": [
       "<Figure size 432x288 with 1 Axes>"
      ]
     },
     "metadata": {},
     "output_type": "display_data"
    }
   ],
   "source": [
    "to_plot = np.mean(all_2d_hists,axis=0)\n",
    "to_plot[np.where(to_plot==0)] = np.nan\n",
    "plt.imshow(to_plot,vmin=-.2,vmax=.2,cmap='PuOr')\n",
    "plt.axis('off')\n",
    "\n",
    "save_path = '/oak/stanford/groups/trc/data/Brezovec/2P_Imaging/figs'\n",
    "timestr = time.strftime(\"%Y%m%d-%H%M%S\")\n",
    "fname = os.path.join(save_path, f'{timestr}')\n",
    "#plt.savefig(fname,dpi=300,bbox_inches='tight',transparent=True)"
   ]
  },
  {
   "cell_type": "code",
   "execution_count": 39,
   "metadata": {},
   "outputs": [
    {
     "data": {
      "text/plain": [
       "(-30000, -15000, -8000, -400)"
      ]
     },
     "execution_count": 39,
     "metadata": {},
     "output_type": "execute_result"
    }
   ],
   "source": [
    "time_shifts[0], time_shifts[750], time_shifts[1100], time_shifts[1480]"
   ]
  },
  {
   "cell_type": "code",
   "execution_count": 41,
   "metadata": {},
   "outputs": [
    {
     "data": {
      "text/plain": [
       "(400, 8000)"
      ]
     },
     "execution_count": 41,
     "metadata": {},
     "output_type": "execute_result"
    }
   ],
   "source": [
    "time_shifts[1520], time_shifts[1900]"
   ]
  },
  {
   "cell_type": "code",
   "execution_count": 195,
   "metadata": {},
   "outputs": [
    {
     "data": {
      "text/plain": [
       "(8000, 15000)"
      ]
     },
     "execution_count": 195,
     "metadata": {},
     "output_type": "execute_result"
    }
   ],
   "source": [
    "#20 ms steps\n",
    "time_shifts[1900], time_shifts[2250]"
   ]
  },
  {
   "cell_type": "code",
   "execution_count": 89,
   "metadata": {},
   "outputs": [
    {
     "data": {
      "text/plain": [
       "(10000, 14000)"
      ]
     },
     "execution_count": 89,
     "metadata": {},
     "output_type": "execute_result"
    }
   ],
   "source": [
    "time_shifts[2000], time_shifts[2200]"
   ]
  },
  {
   "cell_type": "code",
   "execution_count": 85,
   "metadata": {},
   "outputs": [
    {
     "data": {
      "text/plain": [
       "(-10000, -14000)"
      ]
     },
     "execution_count": 85,
     "metadata": {},
     "output_type": "execute_result"
    }
   ],
   "source": [
    "time_shifts[1000], time_shifts[800]"
   ]
  },
  {
   "cell_type": "code",
   "execution_count": 58,
   "metadata": {},
   "outputs": [
    {
     "data": {
      "text/plain": [
       "(-3000, -6000)"
      ]
     },
     "execution_count": 58,
     "metadata": {},
     "output_type": "execute_result"
    }
   ],
   "source": [
    "time_shifts[1350], time_shifts[1200]"
   ]
  },
  {
   "cell_type": "code",
   "execution_count": 64,
   "metadata": {},
   "outputs": [
    {
     "data": {
      "text/plain": [
       "(3000, 6000)"
      ]
     },
     "execution_count": 64,
     "metadata": {},
     "output_type": "execute_result"
    }
   ],
   "source": [
    "time_shifts[1650], time_shifts[1800]"
   ]
  },
  {
   "cell_type": "code",
   "execution_count": 24,
   "metadata": {},
   "outputs": [
    {
     "name": "stderr",
     "output_type": "stream",
     "text": [
      "375it [00:19, 19.01it/s]\n",
      "175it [00:09, 18.92it/s]\n",
      "190it [00:10, 18.92it/s]\n",
      "20it [00:01, 18.89it/s]\n",
      "190it [00:10, 18.98it/s]\n",
      "175it [00:09, 19.03it/s]\n",
      "375it [00:19, 18.97it/s]\n"
     ]
    }
   ],
   "source": [
    "clusters = [27]#[77,185,186]\n",
    "clusters_ = [i+250 for i in clusters]\n",
    "signal = np.mean(supercluster_signals[clusters,:],axis=0)-np.mean(supercluster_signals[clusters_,:],axis=0)\n",
    "\n",
    "windows = [(0,750),(750,1100),(1100,1480),(1480,1520),(1520,1900),(1900,2250),(2250,3000)]\n",
    "\n",
    "all_2d_hists = []\n",
    "all_bin_counts = []\n",
    "for window in windows:\n",
    "    \n",
    "    start = window[0]\n",
    "    stop = window[1]\n",
    "    \n",
    "    _2d_hists = []\n",
    "    bin_counts = []\n",
    "    \n",
    "    for j,shift in tqdm.tqdm(enumerate(np.arange(start,stop,2))):\n",
    "\n",
    "\n",
    "\n",
    "        Y_var = sliding_fictrac['Z'][shift,:].copy()\n",
    "        Y_var /= np.std(sliding_fictrac['Z'][1500,:])\n",
    "\n",
    "        X_var = sliding_fictrac['Y'][shift,:].copy()\n",
    "        X_var /= np.std(sliding_fictrac['Y'][1500,:])\n",
    "\n",
    "        start_x=-2; end_x=6; start_y=-4; end_y=4\n",
    "\n",
    "\n",
    "        fictrac_2d,bin_count = bin_2D_plot(X_var, Y_var, signal,\n",
    "                                         num_bins_x=25, num_bins_y=25,\n",
    "                                         start_x=start_x, end_x=end_x, start_y=start_y, end_y=end_y,\n",
    "                                         min_num_samples=9)\n",
    "\n",
    "        fictrac_2d[-1,:] = 0\n",
    "        _2d_hists.append(fictrac_2d)\n",
    "        bin_counts.append(bin_count)\n",
    "    all_2d_hists.append(np.asarray(_2d_hists))\n",
    "    all_bin_counts.append(np.asarray(bin_counts))"
   ]
  },
  {
   "cell_type": "code",
   "execution_count": 26,
   "metadata": {},
   "outputs": [
    {
     "data": {
      "image/png": "[encoded data removed]",
      "text/plain": [
       "<Figure size 720x144 with 7 Axes>"
      ]
     },
     "metadata": {},
     "output_type": "display_data"
    }
   ],
   "source": [
    "plt.figure(figsize=(10,2))\n",
    "for k,window in enumerate([6,5,4,3,2,1,0]):\n",
    "    plt.subplot(1,7,k+1)\n",
    "    to_plot = np.mean(all_2d_hists[window],axis=0)\n",
    "    to_plot[np.where(np.mean(all_bin_counts[window],axis=0)<9)] = np.nan\n",
    "    to_plot[-1,:] = np.nan\n",
    "    \n",
    "    # IPS values\n",
    "    if k == 3:\n",
    "        plt.imshow(to_plot,vmin=-.5,vmax=.5,cmap='PuOr')\n",
    "    else:\n",
    "        plt.imshow(to_plot,vmin=-.12,vmax=.12,cmap='PuOr')\n",
    "    # LH values\n",
    "#     if k == 3:\n",
    "#         plt.imshow(to_plot,vmin=-.3,vmax=.3,cmap='PuOr')\n",
    "#     else:\n",
    "#         plt.imshow(to_plot,vmin=-.05,vmax=.05,cmap='PuOr')\n",
    "\n",
    "    #plt.imshow(to_plot,vmin=-.01,vmax=.01,cmap=parula)\n",
    "    #plt.title('.4')\n",
    "\n",
    "    plt.axis('off')\n",
    "\n",
    "save_path = '/oak/stanford/groups/trc/data/Brezovec/2P_Imaging/figs'\n",
    "timestr = time.strftime(\"%Y%m%d-%H%M%S\")\n",
    "fname = os.path.join(save_path, f'{timestr}')\n",
    "plt.savefig(fname,dpi=300,bbox_inches='tight',transparent=True)"
   ]
  },
  {
   "cell_type": "code",
   "execution_count": 23,
   "metadata": {},
   "outputs": [
    {
     "data": {
      "image/png": "[encoded data removed]",
      "text/plain": [
       "<Figure size 720x144 with 7 Axes>"
      ]
     },
     "metadata": {},
     "output_type": "display_data"
    }
   ],
   "source": [
    "plt.figure(figsize=(10,2))\n",
    "for k,window in enumerate([6,5,4,3,2,1,0]):\n",
    "    plt.subplot(1,7,k+1)\n",
    "    to_plot = np.mean(all_2d_hists[window],axis=0)\n",
    "    to_plot[np.where(np.mean(all_bin_counts[window],axis=0)<9)] = np.nan\n",
    "    to_plot[-1,:] = np.nan\n",
    "    \n",
    "    # IPS values\n",
    "    if k == 3:\n",
    "        plt.imshow(to_plot,vmin=-.5,vmax=.5,cmap='PuOr')\n",
    "    else:\n",
    "        plt.imshow(to_plot,vmin=-.12,vmax=.12,cmap='PuOr')\n",
    "    # LH values\n",
    "#     if k == 3:\n",
    "#         plt.imshow(to_plot,vmin=-.3,vmax=.3,cmap='PuOr')\n",
    "#     else:\n",
    "#         plt.imshow(to_plot,vmin=-.05,vmax=.05,cmap='PuOr')\n",
    "\n",
    "    #plt.imshow(to_plot,vmin=-.01,vmax=.01,cmap=parula)\n",
    "    #plt.title('.4')\n",
    "\n",
    "    plt.axis('off')\n",
    "\n",
    "save_path = '/oak/stanford/groups/trc/data/Brezovec/2P_Imaging/figs'\n",
    "timestr = time.strftime(\"%Y%m%d-%H%M%S\")\n",
    "fname = os.path.join(save_path, f'{timestr}')\n",
    "#plt.savefig(fname,dpi=300,bbox_inches='tight',transparent=True)"
   ]
  },
  {
   "cell_type": "code",
   "execution_count": 191,
   "metadata": {},
   "outputs": [
    {
     "data": {
      "image/png": "[encoded data removed]",
      "text/plain": [
       "<Figure size 432x288 with 1 Axes>"
      ]
     },
     "metadata": {},
     "output_type": "display_data"
    }
   ],
   "source": [
    "to_plot = np.mean(all_2d_hists,axis=0)\n",
    "to_plot[np.where(np.mean(bin_counts,axis=0)<9)] = np.nan\n",
    "to_plot[-1,:] = np.nan\n",
    "plt.imshow(to_plot,vmin=-.02,vmax=.02,cmap='PuOr')\n",
    "#plt.axis('off')\n",
    "\n",
    "save_path = '/oak/stanford/groups/trc/data/Brezovec/2P_Imaging/figs'\n",
    "timestr = time.strftime(\"%Y%m%d-%H%M%S\")\n",
    "fname = os.path.join(save_path, f'{timestr}')\n",
    "#plt.savefig(fname,dpi=300,bbox_inches='tight',transparent=True)"
   ]
  },
  {
   "cell_type": "code",
   "execution_count": 175,
   "metadata": {
    "collapsed": true
   },
   "outputs": [],
   "source": [
    "to_plot[np.where(to_plot==0)] = np.nan"
   ]
  },
  {
   "cell_type": "markdown",
   "metadata": {},
   "source": [
    "# Bin behavior in neural space"
   ]
  },
  {
   "cell_type": "code",
   "execution_count": 10,
   "metadata": {
    "collapsed": true
   },
   "outputs": [],
   "source": [
    "def NormalizeData(data):\n",
    "    data = np.nan_to_num(data)\n",
    "    return (data - np.min(data)) / (np.max(data) - np.min(data))"
   ]
  },
  {
   "cell_type": "code",
   "execution_count": 23,
   "metadata": {},
   "outputs": [
    {
     "data": {
      "text/plain": [
       "0.14938528611403573"
      ]
     },
     "execution_count": 23,
     "metadata": {},
     "output_type": "execute_result"
    }
   ],
   "source": [
    "np.std(supercluster_signals[cluster,:])"
   ]
  },
  {
   "cell_type": "code",
   "execution_count": 38,
   "metadata": {
    "collapsed": true
   },
   "outputs": [],
   "source": [
    "cluster = 77#62#112#39#77\n",
    "x_data = supercluster_signals[cluster,:] / np.std(supercluster_signals[cluster,:])\n",
    "y_data = supercluster_signals[cluster+250,:] / np.std(supercluster_signals[cluster+250,:])\n",
    "\n",
    "# x_data = np.mean(supercluster_signals[[77,185,186],:],axis=0)\n",
    "# y_data = np.mean(supercluster_signals[[77+250,185+250,186+250],:],axis=0)\n",
    "\n",
    "shift = 1500\n",
    "#behavior = sliding_fictrac['Z'][shift,:].copy()* 180 / np.pi * fps\n",
    "sphere_radius = 4.5e-3 # in m\n",
    "behavior = sliding_fictrac['Y'][shift,:].copy() * sphere_radius * fps * 1000\n",
    "\n",
    "\n",
    "start=-.6\n",
    "stop=.6\n",
    "start=-4\n",
    "stop=4\n",
    "num_bins=30#40\n",
    "min_num_samples=10\n",
    "\n",
    "# Define bins\n",
    "bins = np.linspace(start,stop,num_bins)\n",
    "\n",
    "# Assign neural values to bin numbers\n",
    "idx_x, idx_y = np.digitize(x_data,bins), np.digitize(y_data,bins)\n",
    "\n",
    "binned_signal = []\n",
    "sample_count = []\n",
    "for i in range(num_bins):\n",
    "    mask_x = (idx_x == i)\n",
    "    for j in range(num_bins):\n",
    "        mask_y = (idx_y == j)\n",
    "        mask = mask_x & mask_y\n",
    "\n",
    "        #binned_signal.append(np.mean(behavior[mask]))\n",
    "        \n",
    "        #turn\n",
    "#         try:\n",
    "#             thresh = np.percentile(np.abs(behavior[mask]),90)\n",
    "#             indicies = np.abs(behavior[mask])>thresh\n",
    "#             binned_signal.append(np.mean(behavior[mask][indicies]))\n",
    "#         except IndexError:\n",
    "#             binned_signal.append(np.nan)\n",
    "     \n",
    "        ###fwd\n",
    "        try:\n",
    "            binned_signal.append(np.percentile(behavior[mask],90))\n",
    "        except IndexError:\n",
    "            binned_signal.append(np.nan)\n",
    "            \n",
    "            \n",
    "        sample_count.append(np.count_nonzero(~np.isnan(behavior[mask])))\n",
    "\n",
    "binned_signal = np.reshape(binned_signal,(num_bins, num_bins))\n",
    "sample_count = np.reshape(sample_count,(num_bins, num_bins))"
   ]
  },
  {
   "cell_type": "code",
   "execution_count": 76,
   "metadata": {},
   "outputs": [
    {
     "data": {
      "text/plain": [
       "nan"
      ]
     },
     "execution_count": 76,
     "metadata": {},
     "output_type": "execute_result"
    }
   ],
   "source": [
    "np.mean(behavior[mask])"
   ]
  },
  {
   "cell_type": "code",
   "execution_count": 53,
   "metadata": {
    "collapsed": true
   },
   "outputs": [],
   "source": [
    "# cluster = 77\n",
    "# x_data = supercluster_signals[cluster,:]\n",
    "# y_data = supercluster_signals[cluster+250,:]\n",
    "\n",
    "# binned_signals = []\n",
    "# for j,shift in tqdm.tqdm(enumerate(np.arange(1900,2250,2))):\n",
    "\n",
    "#     behavior = sliding_fictrac['Z'][shift,:].copy()* 180 / np.pi * fps\n",
    "\n",
    "#     start=-.6\n",
    "#     stop=.6\n",
    "#     num_bins=40\n",
    "#     min_num_samples=10\n",
    "\n",
    "#     # Define bins\n",
    "#     bins = np.linspace(start,stop,num_bins)\n",
    "\n",
    "#     # Assign neural values to bin numbers\n",
    "#     idx_x, idx_y = np.digitize(x_data,bins), np.digitize(y_data,bins)\n",
    "\n",
    "#     binned_signal = []\n",
    "#     sample_count = []\n",
    "#     for i in range(num_bins):\n",
    "#         mask_x = (idx_x == i)\n",
    "#         for j in range(num_bins):\n",
    "#             mask_y = (idx_y == j)\n",
    "#             mask = mask_x & mask_y\n",
    "\n",
    "#             binned_signal.append(np.mean(behavior[mask]))\n",
    "#             sample_count.append(np.count_nonzero(~np.isnan(behavior[mask])))\n",
    "\n",
    "#     binned_signal = np.reshape(binned_signal,(num_bins, num_bins))\n",
    "#     sample_count = np.reshape(sample_count,(num_bins, num_bins))\n",
    "#     binned_signals.append(binned_signal)\n",
    "# binned_signals = np.asarray(binned_signals)\n",
    "# binned_signals.shape"
   ]
  },
  {
   "cell_type": "code",
   "execution_count": 13,
   "metadata": {
    "collapsed": true
   },
   "outputs": [],
   "source": [
    "### MAKE R/G MAP ###\n",
    "cmap1 = mcolors.LinearSegmentedColormap.from_list('mycmap', ['red', 'k'])\n",
    "cmap2 = mcolors.LinearSegmentedColormap.from_list('mycmap', ['k', '#00FF00'])\n",
    "\n",
    "colors1 = cmap1(np.linspace(0, .7, 128))\n",
    "colors2 = cmap2(np.linspace(.1, 1, 128))\n",
    "\n",
    "# combine them and build a new colormap\n",
    "colors = np.vstack((colors1, colors2))\n",
    "RG_map = mcolors.LinearSegmentedColormap.from_list('my_colormap', colors)\n",
    "\n",
    "### MAKE BLUE MAKE ###\n",
    "blue_cmap = mcolors.LinearSegmentedColormap.from_list('mycmap', ['w', 'blue'])"
   ]
  },
  {
   "cell_type": "code",
   "execution_count": 71,
   "metadata": {
    "collapsed": true
   },
   "outputs": [],
   "source": []
  },
  {
   "cell_type": "code",
   "execution_count": 15,
   "metadata": {},
   "outputs": [
    {
     "data": {
      "text/plain": [
       "<matplotlib.image.AxesImage at 0x7ff9dd47f978>"
      ]
     },
     "execution_count": 15,
     "metadata": {},
     "output_type": "execute_result"
    },
    {
     "data": {
      "image/png": "[encoded data removed]",
      "text/plain": [
       "<Figure size 432x288 with 1 Axes>"
      ]
     },
     "metadata": {},
     "output_type": "display_data"
    }
   ],
   "source": [
    "turn_map = RG_map((binned_signal+50)/100).copy()\n",
    "plt.imshow(turn_map)"
   ]
  },
  {
   "cell_type": "code",
   "execution_count": 79,
   "metadata": {},
   "outputs": [
    {
     "data": {
      "text/plain": [
       "<matplotlib.image.AxesImage at 0x7f70a261c048>"
      ]
     },
     "execution_count": 79,
     "metadata": {},
     "output_type": "execute_result"
    },
    {
     "data": {
      "image/png": "[encoded data removed]",
      "text/plain": [
       "<Figure size 432x288 with 1 Axes>"
      ]
     },
     "metadata": {},
     "output_type": "display_data"
    }
   ],
   "source": [
    "fwd_map = blue_cmap(binned_signal/2).copy()\n",
    "plt.imshow(fwd_map)"
   ]
  },
  {
   "cell_type": "code",
   "execution_count": 73,
   "metadata": {},
   "outputs": [
    {
     "data": {
      "text/plain": [
       "array([0., 0., 1., 1.])"
      ]
     },
     "execution_count": 73,
     "metadata": {},
     "output_type": "execute_result"
    }
   ],
   "source": [
    "fwd_map[20,20]"
   ]
  },
  {
   "cell_type": "code",
   "execution_count": 45,
   "metadata": {},
   "outputs": [
    {
     "data": {
      "text/plain": [
       "(40, 40, 4)"
      ]
     },
     "execution_count": 45,
     "metadata": {},
     "output_type": "execute_result"
    }
   ],
   "source": [
    "turn_map.shape"
   ]
  },
  {
   "cell_type": "code",
   "execution_count": 69,
   "metadata": {},
   "outputs": [
    {
     "data": {
      "text/plain": [
       "(40, 40)"
      ]
     },
     "execution_count": 69,
     "metadata": {},
     "output_type": "execute_result"
    }
   ],
   "source": [
    "binned_signal.shape"
   ]
  },
  {
   "cell_type": "code",
   "execution_count": 68,
   "metadata": {},
   "outputs": [
    {
     "data": {
      "text/plain": [
       "<matplotlib.image.AxesImage at 0x7f70313cfb70>"
      ]
     },
     "execution_count": 68,
     "metadata": {},
     "output_type": "execute_result"
    },
    {
     "data": {
      "image/png": "[encoded data removed]",
      "text/plain": [
       "<Figure size 432x288 with 1 Axes>"
      ]
     },
     "metadata": {},
     "output_type": "display_data"
    }
   ],
   "source": [
    "plt.imshow(binned_signal)"
   ]
  },
  {
   "cell_type": "code",
   "execution_count": 94,
   "metadata": {},
   "outputs": [
    {
     "name": "stderr",
     "output_type": "stream",
     "text": [
      "Clipping input data to the valid range for imshow with RGB data ([0..1] for floats or [0..255] for integers).\n"
     ]
    },
    {
     "data": {
      "text/plain": [
       "<matplotlib.image.AxesImage at 0x7f70ae165da0>"
      ]
     },
     "execution_count": 94,
     "metadata": {},
     "output_type": "execute_result"
    },
    {
     "data": {
      "image/png": "[encoded data removed]",
      "text/plain": [
       "<Figure size 432x288 with 1 Axes>"
      ]
     },
     "metadata": {},
     "output_type": "display_data"
    }
   ],
   "source": [
    "merge = fwd_map+turn_map/2\n",
    "merge = NormalizeData(merge)*3\n",
    "plt.imshow(merge)"
   ]
  },
  {
   "cell_type": "code",
   "execution_count": 39,
   "metadata": {},
   "outputs": [
    {
     "name": "stderr",
     "output_type": "stream",
     "text": [
      "Clipping input data to the valid range for imshow with RGB data ([0..1] for floats or [0..255] for integers).\n"
     ]
    },
    {
     "data": {
      "text/plain": [
       "<matplotlib.image.AxesImage at 0x7f70a6db06d8>"
      ]
     },
     "execution_count": 39,
     "metadata": {},
     "output_type": "execute_result"
    },
    {
     "data": {
      "image/png": "[encoded data removed]",
      "text/plain": [
       "<Figure size 432x288 with 1 Axes>"
      ]
     },
     "metadata": {},
     "output_type": "display_data"
    }
   ],
   "source": [
    "out = np.sum(np.stack((turn_map/1.5, fwd_map/1.5)),axis=0)\n",
    "plt.imshow(out)"
   ]
  },
  {
   "cell_type": "code",
   "execution_count": 72,
   "metadata": {},
   "outputs": [
    {
     "data": {
      "text/plain": [
       "array([-4.        , -3.72413793, -3.44827586, -3.17241379, -2.89655172,\n",
       "       -2.62068966, -2.34482759, -2.06896552, -1.79310345, -1.51724138,\n",
       "       -1.24137931, -0.96551724, -0.68965517, -0.4137931 , -0.13793103,\n",
       "        0.13793103,  0.4137931 ,  0.68965517,  0.96551724,  1.24137931,\n",
       "        1.51724138,  1.79310345,  2.06896552,  2.34482759,  2.62068966,\n",
       "        2.89655172,  3.17241379,  3.44827586,  3.72413793,  4.        ])"
      ]
     },
     "execution_count": 72,
     "metadata": {},
     "output_type": "execute_result"
    }
   ],
   "source": [
    "##-4 to 4 zscore\n",
    "np.linspace(-4,4,30)"
   ]
  },
  {
   "cell_type": "code",
   "execution_count": 111,
   "metadata": {},
   "outputs": [
    {
     "data": {
      "text/plain": [
       "-2.0689655172413794"
      ]
     },
     "execution_count": 111,
     "metadata": {},
     "output_type": "execute_result"
    }
   ],
   "source": [
    "np.linspace(-4,4,30)[7]"
   ]
  },
  {
   "cell_type": "code",
   "execution_count": 39,
   "metadata": {},
   "outputs": [
    {
     "data": {
      "image/png": "[encoded data removed]",
      "text/plain": [
       "<Figure size 360x360 with 1 Axes>"
      ]
     },
     "metadata": {},
     "output_type": "display_data"
    }
   ],
   "source": [
    "plt.figure(figsize=(5,5))\n",
    "binned_signal[np.where(sample_count<10)] = np.nan\n",
    "\n",
    "\n",
    "#plt.imshow(np.mean(binned_signals,axis=0),cmap=mymap,vmin=-20,vmax=20)\n",
    "#plt.imshow(binned_signal,cmap=RG_map,vmin=-200,vmax=200) #TURNING\n",
    "\n",
    "plt.imshow(binned_signal,cmap=blue_cmap,vmin=0,vmax=8) #FWD\n",
    "#plt.imshow(binned_signal,cmap='seismic',vmin=-.015,vmax=.015)\n",
    "\n",
    "# plt.xticks([10,20,30],[-.3,0,.3]);\n",
    "# plt.yticks([10,20,30],[-.3,0,.3]);\n",
    "ax = plt.gca()\n",
    "ax.invert_yaxis()\n",
    "\n",
    "#plt.plot([0,50],[0,50],color='k',linestyle='--')\n",
    "#plt.axhline(15,color='k',linestyle='-')\n",
    "#plt.axvline(15,color='k',linestyle='-')\n",
    "\n",
    "plt.xlim(3,27)\n",
    "plt.ylim(3,27)\n",
    "\n",
    "#plt.colorbar()\n",
    "\n",
    "save_path = '/oak/stanford/groups/trc/data/Brezovec/2P_Imaging/figs'\n",
    "timestr = time.strftime(\"%Y%m%d-%H%M%S\")\n",
    "fname = os.path.join(save_path, f'{timestr}')\n",
    "plt.savefig(fname,dpi=300,bbox_inches='tight',transparent=True)"
   ]
  },
  {
   "cell_type": "code",
   "execution_count": 360,
   "metadata": {
    "collapsed": true
   },
   "outputs": [],
   "source": [
    "cmap = mcolors.LinearSegmentedColormap.from_list('mycmap', ['green', 'red'])"
   ]
  },
  {
   "cell_type": "code",
   "execution_count": 289,
   "metadata": {},
   "outputs": [
    {
     "data": {
      "text/plain": [
       "-0.2923076923076923"
      ]
     },
     "execution_count": 289,
     "metadata": {},
     "output_type": "execute_result"
    }
   ],
   "source": [
    "bins[10]"
   ]
  },
  {
   "cell_type": "code",
   "execution_count": 315,
   "metadata": {
    "collapsed": true
   },
   "outputs": [],
   "source": [
    "import matplotlib.colors as mcolors\n",
    "\n",
    "\n",
    "parula_data = [[0.2422, 0.1504, 0.6603],\n",
    "[0.2444, 0.1534, 0.6728],\n",
    "[0.2464, 0.1569, 0.6847],\n",
    "[0.2484, 0.1607, 0.6961],\n",
    "[0.2503, 0.1648, 0.7071],\n",
    "[0.2522, 0.1689, 0.7179],\n",
    "[0.254, 0.1732, 0.7286],\n",
    "[0.2558, 0.1773, 0.7393],\n",
    "[0.2576, 0.1814, 0.7501],\n",
    "[0.2594, 0.1854, 0.761],\n",
    "[0.2611, 0.1893, 0.7719],\n",
    "[0.2628, 0.1932, 0.7828],\n",
    "[0.2645, 0.1972, 0.7937],\n",
    "[0.2661, 0.2011, 0.8043],\n",
    "[0.2676, 0.2052, 0.8148],\n",
    "[0.2691, 0.2094, 0.8249],\n",
    "[0.2704, 0.2138, 0.8346],\n",
    "[0.2717, 0.2184, 0.8439],\n",
    "[0.2729, 0.2231, 0.8528],\n",
    "[0.274, 0.228, 0.8612],\n",
    "[0.2749, 0.233, 0.8692],\n",
    "[0.2758, 0.2382, 0.8767],\n",
    "[0.2766, 0.2435, 0.884],\n",
    "[0.2774, 0.2489, 0.8908],\n",
    "[0.2781, 0.2543, 0.8973],\n",
    "[0.2788, 0.2598, 0.9035],\n",
    "[0.2794, 0.2653, 0.9094],\n",
    "[0.2798, 0.2708, 0.915],\n",
    "[0.2802, 0.2764, 0.9204],\n",
    "[0.2806, 0.2819, 0.9255],\n",
    "[0.2809, 0.2875, 0.9305],\n",
    "[0.2811, 0.293, 0.9352],\n",
    "[0.2813, 0.2985, 0.9397],\n",
    "[0.2814, 0.304, 0.9441],\n",
    "[0.2814, 0.3095, 0.9483],\n",
    "[0.2813, 0.315, 0.9524],\n",
    "[0.2811, 0.3204, 0.9563],\n",
    "[0.2809, 0.3259, 0.96],\n",
    "[0.2807, 0.3313, 0.9636],\n",
    "[0.2803, 0.3367, 0.967],\n",
    "[0.2798, 0.3421, 0.9702],\n",
    "[0.2791, 0.3475, 0.9733],\n",
    "[0.2784, 0.3529, 0.9763],\n",
    "[0.2776, 0.3583, 0.9791],\n",
    "[0.2766, 0.3638, 0.9817],\n",
    "[0.2754, 0.3693, 0.984],\n",
    "[0.2741, 0.3748, 0.9862],\n",
    "[0.2726, 0.3804, 0.9881],\n",
    "[0.271, 0.386, 0.9898],\n",
    "[0.2691, 0.3916, 0.9912],\n",
    "[0.267, 0.3973, 0.9924],\n",
    "[0.2647, 0.403, 0.9935],\n",
    "[0.2621, 0.4088, 0.9946],\n",
    "[0.2591, 0.4145, 0.9955],\n",
    "[0.2556, 0.4203, 0.9965],\n",
    "[0.2517, 0.4261, 0.9974],\n",
    "[0.2473, 0.4319, 0.9983],\n",
    "[0.2424, 0.4378, 0.9991],\n",
    "[0.2369, 0.4437, 0.9996],\n",
    "[0.2311, 0.4497, 0.9995],\n",
    "[0.225, 0.4559, 0.9985],\n",
    "[0.2189, 0.462, 0.9968],\n",
    "[0.2128, 0.4682, 0.9948],\n",
    "[0.2066, 0.4743, 0.9926],\n",
    "[0.2006, 0.4803, 0.9906],\n",
    "[0.195, 0.4861, 0.9887],\n",
    "[0.1903, 0.4919, 0.9867],\n",
    "[0.1869, 0.4975, 0.9844],\n",
    "[0.1847, 0.503, 0.9819],\n",
    "[0.1831, 0.5084, 0.9793],\n",
    "[0.1818, 0.5138, 0.9766],\n",
    "[0.1806, 0.5191, 0.9738],\n",
    "[0.1795, 0.5244, 0.9709],\n",
    "[0.1785, 0.5296, 0.9677],\n",
    "[0.1778, 0.5349, 0.9641],\n",
    "[0.1773, 0.5401, 0.9602],\n",
    "[0.1768, 0.5452, 0.956],\n",
    "[0.1764, 0.5504, 0.9516],\n",
    "[0.1755, 0.5554, 0.9473],\n",
    "[0.174, 0.5605, 0.9432],\n",
    "[0.1716, 0.5655, 0.9393],\n",
    "[0.1686, 0.5705, 0.9357],\n",
    "[0.1649, 0.5755, 0.9323],\n",
    "[0.161, 0.5805, 0.9289],\n",
    "[0.1573, 0.5854, 0.9254],\n",
    "[0.154, 0.5902, 0.9218],\n",
    "[0.1513, 0.595, 0.9182],\n",
    "[0.1492, 0.5997, 0.9147],\n",
    "[0.1475, 0.6043, 0.9113],\n",
    "[0.1461, 0.6089, 0.908],\n",
    "[0.1446, 0.6135, 0.905],\n",
    "[0.1429, 0.618, 0.9022],\n",
    "[0.1408, 0.6226, 0.8998],\n",
    "[0.1383, 0.6272, 0.8975],\n",
    "[0.1354, 0.6317, 0.8953],\n",
    "[0.1321, 0.6363, 0.8932],\n",
    "[0.1288, 0.6408, 0.891],\n",
    "[0.1253, 0.6453, 0.8887],\n",
    "[0.1219, 0.6497, 0.8862],\n",
    "[0.1185, 0.6541, 0.8834],\n",
    "[0.1152, 0.6584, 0.8804],\n",
    "[0.1119, 0.6627, 0.877],\n",
    "[0.1085, 0.6669, 0.8734],\n",
    "[0.1048, 0.671, 0.8695],\n",
    "[0.1009, 0.675, 0.8653],\n",
    "[0.0964, 0.6789, 0.8609],\n",
    "[0.0914, 0.6828, 0.8562],\n",
    "[0.0855, 0.6865, 0.8513],\n",
    "[0.0789, 0.6902, 0.8462],\n",
    "[0.0713, 0.6938, 0.8409],\n",
    "[0.0628, 0.6972, 0.8355],\n",
    "[0.0535, 0.7006, 0.8299],\n",
    "[0.0433, 0.7039, 0.8242],\n",
    "[0.0328, 0.7071, 0.8183],\n",
    "[0.0234, 0.7103, 0.8124],\n",
    "[0.0155, 0.7133, 0.8064],\n",
    "[0.0091, 0.7163, 0.8003],\n",
    "[0.0046, 0.7192, 0.7941],\n",
    "[0.0019, 0.722, 0.7878],\n",
    "[0.0009, 0.7248, 0.7815],\n",
    "[0.0018, 0.7275, 0.7752],\n",
    "[0.0046, 0.7301, 0.7688],\n",
    "[0.0094, 0.7327, 0.7623],\n",
    "[0.0162, 0.7352, 0.7558],\n",
    "[0.0253, 0.7376, 0.7492],\n",
    "[0.0369, 0.74, 0.7426],\n",
    "[0.0504, 0.7423, 0.7359],\n",
    "[0.0638, 0.7446, 0.7292],\n",
    "[0.077, 0.7468, 0.7224],\n",
    "[0.0899, 0.7489, 0.7156],\n",
    "[0.1023, 0.751, 0.7088],\n",
    "[0.1141, 0.7531, 0.7019],\n",
    "[0.1252, 0.7552, 0.695],\n",
    "[0.1354, 0.7572, 0.6881],\n",
    "[0.1448, 0.7593, 0.6812],\n",
    "[0.1532, 0.7614, 0.6741],\n",
    "[0.1609, 0.7635, 0.6671],\n",
    "[0.1678, 0.7656, 0.6599],\n",
    "[0.1741, 0.7678, 0.6527],\n",
    "[0.1799, 0.7699, 0.6454],\n",
    "[0.1853, 0.7721, 0.6379],\n",
    "[0.1905, 0.7743, 0.6303],\n",
    "[0.1954, 0.7765, 0.6225],\n",
    "[0.2003, 0.7787, 0.6146],\n",
    "[0.2061, 0.7808, 0.6065],\n",
    "[0.2118, 0.7828, 0.5983],\n",
    "[0.2178, 0.7849, 0.5899],\n",
    "[0.2244, 0.7869, 0.5813],\n",
    "[0.2318, 0.7887, 0.5725],\n",
    "[0.2401, 0.7905, 0.5636],\n",
    "[0.2491, 0.7922, 0.5546],\n",
    "[0.2589, 0.7937, 0.5454],\n",
    "[0.2695, 0.7951, 0.536],\n",
    "[0.2809, 0.7964, 0.5266],\n",
    "[0.2929, 0.7975, 0.517],\n",
    "[0.3052, 0.7985, 0.5074],\n",
    "[0.3176, 0.7994, 0.4975],\n",
    "[0.3301, 0.8002, 0.4876],\n",
    "[0.3424, 0.8009, 0.4774],\n",
    "[0.3548, 0.8016, 0.4669],\n",
    "[0.3671, 0.8021, 0.4563],\n",
    "[0.3795, 0.8026, 0.4454],\n",
    "[0.3921, 0.8029, 0.4344],\n",
    "[0.405, 0.8031, 0.4233],\n",
    "[0.4184, 0.803, 0.4122],\n",
    "[0.4322, 0.8028, 0.4013],\n",
    "[0.4463, 0.8024, 0.3904],\n",
    "[0.4608, 0.8018, 0.3797],\n",
    "[0.4753, 0.8011, 0.3691],\n",
    "[0.4899, 0.8002, 0.3586],\n",
    "[0.5044, 0.7993, 0.348],\n",
    "[0.5187, 0.7982, 0.3374],\n",
    "[0.5329, 0.797, 0.3267],\n",
    "[0.547, 0.7957, 0.3159],\n",
    "[0.5609, 0.7943, 0.305],\n",
    "[0.5748, 0.7929, 0.2941],\n",
    "[0.5886, 0.7913, 0.2833],\n",
    "[0.6024, 0.7896, 0.2726],\n",
    "[0.6161, 0.7878, 0.2622],\n",
    "[0.6297, 0.7859, 0.2521],\n",
    "[0.6433, 0.7839, 0.2423],\n",
    "[0.6567, 0.7818, 0.2329],\n",
    "[0.6701, 0.7796, 0.2239],\n",
    "[0.6833, 0.7773, 0.2155],\n",
    "[0.6963, 0.775, 0.2075],\n",
    "[0.7091, 0.7727, 0.1998],\n",
    "[0.7218, 0.7703, 0.1924],\n",
    "[0.7344, 0.7679, 0.1852],\n",
    "[0.7468, 0.7654, 0.1782],\n",
    "[0.759, 0.7629, 0.1717],\n",
    "[0.771, 0.7604, 0.1658],\n",
    "[0.7829, 0.7579, 0.1608],\n",
    "[0.7945, 0.7554, 0.157],\n",
    "[0.806, 0.7529, 0.1546],\n",
    "[0.8172, 0.7505, 0.1535],\n",
    "[0.8281, 0.7481, 0.1536],\n",
    "[0.8389, 0.7457, 0.1546],\n",
    "[0.8495, 0.7435, 0.1564],\n",
    "[0.86, 0.7413, 0.1587],\n",
    "[0.8703, 0.7392, 0.1615],\n",
    "[0.8804, 0.7372, 0.165],\n",
    "[0.8903, 0.7353, 0.1695],\n",
    "[0.9, 0.7336, 0.1749],\n",
    "[0.9093, 0.7321, 0.1815],\n",
    "[0.9184, 0.7308, 0.189],\n",
    "[0.9272, 0.7298, 0.1973],\n",
    "[0.9357, 0.729, 0.2061],\n",
    "[0.944, 0.7285, 0.2151],\n",
    "[0.9523, 0.7284, 0.2237],\n",
    "[0.9606, 0.7285, 0.2312],\n",
    "[0.9689, 0.7292, 0.2373],\n",
    "[0.977, 0.7304, 0.2418],\n",
    "[0.9842, 0.733, 0.2446],\n",
    "[0.99, 0.7365, 0.2429],\n",
    "[0.9946, 0.7407, 0.2394],\n",
    "[0.9966, 0.7458, 0.2351],\n",
    "[0.9971, 0.7513, 0.2309],\n",
    "[0.9972, 0.7569, 0.2267],\n",
    "[0.9971, 0.7626, 0.2224],\n",
    "[0.9969, 0.7683, 0.2181],\n",
    "[0.9966, 0.774, 0.2138],\n",
    "[0.9962, 0.7798, 0.2095],\n",
    "[0.9957, 0.7856, 0.2053],\n",
    "[0.9949, 0.7915, 0.2012],\n",
    "[0.9938, 0.7974, 0.1974],\n",
    "[0.9923, 0.8034, 0.1939],\n",
    "[0.9906, 0.8095, 0.1906],\n",
    "[0.9885, 0.8156, 0.1875],\n",
    "[0.9861, 0.8218, 0.1846],\n",
    "[0.9835, 0.828, 0.1817],\n",
    "[0.9807, 0.8342, 0.1787],\n",
    "[0.9778, 0.8404, 0.1757],\n",
    "[0.9748, 0.8467, 0.1726],\n",
    "[0.972, 0.8529, 0.1695],\n",
    "[0.9694, 0.8591, 0.1665],\n",
    "[0.9671, 0.8654, 0.1636],\n",
    "[0.9651, 0.8716, 0.1608],\n",
    "[0.9634, 0.8778, 0.1582],\n",
    "[0.9619, 0.884, 0.1557],\n",
    "[0.9608, 0.8902, 0.1532],\n",
    "[0.9601, 0.8963, 0.1507],\n",
    "[0.9596, 0.9023, 0.148],\n",
    "[0.9595, 0.9084, 0.145],\n",
    "[0.9597, 0.9143, 0.1418],\n",
    "[0.9601, 0.9203, 0.1382],\n",
    "[0.9608, 0.9262, 0.1344],\n",
    "[0.9618, 0.932, 0.1304],\n",
    "[0.9629, 0.9379, 0.1261],\n",
    "[0.9642, 0.9437, 0.1216],\n",
    "[0.9657, 0.9494, 0.1168],\n",
    "[0.9674, 0.9552, 0.1116],\n",
    "[0.9692, 0.9609, 0.1061],\n",
    "[0.9711, 0.9667, 0.1001],\n",
    "[0.973, 0.9724, 0.0938],\n",
    "[0.9749, 0.9782, 0.0872],\n",
    "[0.9769, 0.9839, 0.0805]]\n",
    "\n",
    "parula = mcolors.LinearSegmentedColormap.from_list('my_colormap', parula_data)"
   ]
  },
  {
   "cell_type": "code",
   "execution_count": null,
   "metadata": {
    "collapsed": true
   },
   "outputs": [],
   "source": []
  }
 ],
 "metadata": {
  "kernelspec": {
   "display_name": "Python 3",
   "language": "python",
   "name": "python3"
  },
  "language_info": {
   "codemirror_mode": {
    "name": "ipython",
    "version": 3
   },
   "file_extension": ".py",
   "mimetype": "text/x-python",
   "name": "python",
   "nbconvert_exporter": "python",
   "pygments_lexer": "ipython3",
   "version": "3.6.1"
  }
 },
 "nbformat": 4,
 "nbformat_minor": 2
}
