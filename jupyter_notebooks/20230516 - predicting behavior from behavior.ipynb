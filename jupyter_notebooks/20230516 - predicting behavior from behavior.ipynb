{
 "cells": [
  {
   "cell_type": "code",
   "execution_count": 1,
   "metadata": {
    "collapsed": true
   },
   "outputs": [],
   "source": [
    "import sys\n",
    "sys.path.insert(0, '/home/users/brezovec/.local/lib/python3.6/site-packages/lib/python/')\n",
    "import ants\n",
    "import os\n",
    "import brainsss\n",
    "import numpy as np\n",
    "import matplotlib.pyplot as plt\n",
    "import time\n",
    "import scipy\n",
    "from scipy.ndimage.filters import gaussian_filter\n",
    "from scipy.signal import savgol_filter\n",
    "from scipy.interpolate import interp1d\n",
    "\n",
    "from skimage.filters import threshold_triangle\n",
    "sys.path.insert(0, '/home/users/brezovec/.local/lib/python3.6/site-packages')\n",
    "import os\n",
    "import statsmodels.api as sm\n",
    "import cv2\n",
    "import matplotlib.patches as mpatches\n",
    "import psutil\n",
    "from mpl_toolkits.axes_grid1 import ImageGrid\n",
    "from matplotlib.colors import Normalize\n",
    "\n",
    "\n",
    "%matplotlib inline\n",
    "plt.rcParams.update({'font.size': 20})\n",
    "\n",
    "from sklearn.feature_extraction.image import grid_to_graph\n",
    "from mpl_toolkits.axes_grid1 import ImageGrid\n",
    "import json\n",
    "from matplotlib.ticker import FuncFormatter\n",
    "\n",
    "import nibabel as nib\n",
    "\n",
    "from sklearn.cluster import AgglomerativeClustering\n",
    "from scipy.cluster.hierarchy import dendrogram\n",
    "import itertools\n",
    "import random\n",
    "from scipy.cluster import hierarchy\n",
    "import matplotlib as mpl\n",
    "from matplotlib.pyplot import cm\n",
    "\n",
    "from scipy.interpolate import UnivariateSpline\n",
    "from sklearn.linear_model import LinearRegression\n",
    "\n",
    "from scipy.fftpack import fft,fftshift,ifft\n",
    "import tqdm\n",
    "\n",
    "from scipy.ndimage.morphology import binary_erosion\n",
    "from scipy.ndimage.morphology import binary_dilation"
   ]
  },
  {
   "cell_type": "code",
   "execution_count": 2,
   "metadata": {
    "collapsed": true
   },
   "outputs": [],
   "source": [
    "fly_names = ['fly_087', 'fly_089', 'fly_094', 'fly_097', 'fly_098', 'fly_099', 'fly_100', 'fly_101', 'fly_105']\n",
    "dataset_path = \"/oak/stanford/groups/trc/data/Brezovec/2P_Imaging/20190101_walking_dataset\""
   ]
  },
  {
   "cell_type": "code",
   "execution_count": 3,
   "metadata": {
    "collapsed": true
   },
   "outputs": [],
   "source": [
    "fictrac = []\n",
    "fictrac_fwd = []\n",
    "fictrac_any = []\n",
    "for fly in fly_names:\n",
    "    \n",
    "    fictrac_raw = brainsss.load_fictrac(os.path.join(dataset_path, fly, 'func_0', 'fictrac'))\n",
    "\n",
    "    # Smooth raw fictrac data\n",
    "    behavior = 'dRotLabZ'\n",
    "    fictrac_smoothed = scipy.signal.savgol_filter(np.asarray(fictrac_raw[behavior]),25,3)\n",
    "    fps=50\n",
    "    fictrac_smoothed = fictrac_smoothed * 180 / np.pi * fps # now in deg/sec\n",
    "    fictrac.append(fictrac_smoothed)\n",
    "    \n",
    "    #also get fwd\n",
    "    sphere_radius = 4.5e-3 # in m\n",
    "    behavior = 'dRotLabY'\n",
    "    fictrac_smoothed = scipy.signal.savgol_filter(np.asarray(fictrac_raw[behavior]),25,3)\n",
    "    fps=50\n",
    "    fictrac_smoothed = fictrac_smoothed * sphere_radius * fps * 1000 # now in mm/sec\n",
    "    fictrac_fwd.append(fictrac_smoothed)\n",
    "    \n",
    "    # also get \"any\" ball movement\n",
    "    any_rot = np.sqrt(np.asarray(fictrac_raw['dRotLabZ'])**2 +\n",
    "    np.asarray(fictrac_raw['dRotLabY'])**2 +\n",
    "    np.asarray(fictrac_raw['dRotLabX'])**2)\n",
    "    any_rot_smoothed = scipy.signal.savgol_filter(any_rot,25,3)\n",
    "    fictrac_any.append(any_rot_smoothed)"
   ]
  },
  {
   "cell_type": "code",
   "execution_count": 4,
   "metadata": {
    "collapsed": true
   },
   "outputs": [],
   "source": [
    "turn_thresh = 200\n",
    "\n",
    "peaks_all_fly = []\n",
    "peak_heights_all_fly = []\n",
    "for fly in range(9):\n",
    "    peaks = {'L':[],'R':[]}\n",
    "    heights = {'L':[],'R':[]}\n",
    "    for turn,scalar in zip(['L', 'R'],[1,-1]):\n",
    "        \n",
    "        found_peaks = scipy.signal.find_peaks(fictrac[fly]*scalar, height=turn_thresh)\n",
    "        pks = found_peaks[0]\n",
    "        pk_height = found_peaks[1]['peak_heights']\n",
    "        \n",
    "        ### remove peaks that are too close to beginning or end\n",
    "        # will do 20sec window\n",
    "        # here 20sec is 1000 tps\n",
    "        ind = np.where(pks>88000)[0]\n",
    "        pks = np.delete(pks,ind)\n",
    "        pk_height = np.delete(pk_height,ind)\n",
    "        \n",
    "        ind = np.where(pks<2000)[0]\n",
    "        pks = np.delete(pks,ind)\n",
    "        pk_height = np.delete(pk_height,ind)\n",
    "        \n",
    "        peaks[turn] = pks\n",
    "        heights[turn] = pk_height\n",
    "    peaks_all_fly.append(peaks)\n",
    "    peak_heights_all_fly.append(heights)"
   ]
  },
  {
   "cell_type": "code",
   "execution_count": 5,
   "metadata": {
    "collapsed": true
   },
   "outputs": [],
   "source": [
    "#final_flies = [0,4,6,7,8]\n",
    "final_flies = [0,1,2,3,4,5,6,7,8]\n",
    "\n",
    "window = 1500\n",
    "beh_traces_L = []\n",
    "beh_traces_R = []\n",
    "\n",
    "for fly in final_flies:\n",
    "    \n",
    "    beh_traces_L_fly = []\n",
    "    beh_traces_R_fly = []\n",
    "    \n",
    "    for beh in ['L', 'R']:\n",
    "        peaks_in_ms = peaks_all_fly[fly][beh]\n",
    "        for peak in peaks_in_ms:\n",
    "            bout = fictrac[fly][peak-window:peak+window]\n",
    "            if beh == 'L':\n",
    "                beh_traces_L_fly.append(bout)\n",
    "            elif beh == 'R':\n",
    "                beh_traces_R_fly.append(bout)\n",
    "                \n",
    "    beh_traces_L.append(np.asarray(beh_traces_L_fly))\n",
    "    beh_traces_R.append(np.asarray(beh_traces_R_fly))\n",
    "    \n",
    "beh_traces_L_stacked = np.empty((0,window*2))\n",
    "beh_traces_R_stacked = np.empty((0,window*2))\n",
    "\n",
    "for fly in range(len(final_flies)):\n",
    "    beh_traces_L_stacked = np.concatenate((beh_traces_L_stacked, beh_traces_L[fly]))\n",
    "    beh_traces_R_stacked = np.concatenate((beh_traces_R_stacked, beh_traces_R[fly]))"
   ]
  },
  {
   "cell_type": "code",
   "execution_count": 6,
   "metadata": {},
   "outputs": [
    {
     "data": {
      "text/plain": [
       "((1362, 3000), (2424, 3000))"
      ]
     },
     "execution_count": 6,
     "metadata": {},
     "output_type": "execute_result"
    }
   ],
   "source": [
    "# high res behavior\n",
    "beh_high_res = {'L': beh_traces_L_stacked,\n",
    "                'R': beh_traces_R_stacked}\n",
    "\n",
    "beh_high_res['L'].shape, beh_high_res['R'].shape"
   ]
  },
  {
   "cell_type": "code",
   "execution_count": 7,
   "metadata": {},
   "outputs": [
    {
     "name": "stdout",
     "output_type": "stream",
     "text": [
      "222 519\n",
      "38 33\n",
      "140 2\n",
      "47 105\n",
      "178 291\n",
      "27 543\n",
      "364 601\n",
      "276 219\n",
      "70 111\n"
     ]
    }
   ],
   "source": [
    "num_bouts_L = []\n",
    "num_bouts_R = []\n",
    "for i in range(len(peaks_all_fly)):\n",
    "    num_bouts_L.append(len(peaks_all_fly[i]['L']))\n",
    "    num_bouts_R.append(len(peaks_all_fly[i]['R']))\n",
    "num_bouts_L = np.cumsum(num_bouts_L)\n",
    "num_bouts_R = np.cumsum(num_bouts_R)\n",
    "\n",
    "nbL = np.insert(num_bouts_L,0,0)\n",
    "nbR = np.insert(num_bouts_R,0,0)\n",
    "\n",
    "for fly in range(len(peaks_all_fly)):\n",
    "    print(nbL[fly+1]-nbL[fly], nbR[fly+1]-nbR[fly])"
   ]
  },
  {
   "cell_type": "code",
   "execution_count": 64,
   "metadata": {},
   "outputs": [
    {
     "data": {
      "text/plain": [
       "9"
      ]
     },
     "execution_count": 64,
     "metadata": {},
     "output_type": "execute_result"
    }
   ],
   "source": [
    "len(final_flies)"
   ]
  },
  {
   "cell_type": "code",
   "execution_count": 62,
   "metadata": {},
   "outputs": [
    {
     "data": {
      "text/plain": [
       "range(222, 260)"
      ]
     },
     "execution_count": 62,
     "metadata": {},
     "output_type": "execute_result"
    }
   ],
   "source": [
    "fly = 1\n",
    "range(nbL[fly],nbL[fly+1])"
   ]
  },
  {
   "cell_type": "code",
   "execution_count": 8,
   "metadata": {
    "collapsed": true
   },
   "outputs": [],
   "source": [
    "start = 750\n",
    "stop = 1100\n",
    "\n",
    "fly_accuracies = []\n",
    "for fly in range(len(final_flies)):\n",
    "    # first do left turns\n",
    "    # this will make a vector where 1 correctly predicts a L, and 0 is incorrect\n",
    "    prediction = []\n",
    "    n_turns = nbL[fly+1] - nbL[fly]\n",
    "    for i in range(nbL[fly],nbL[fly+1]):\n",
    "        early_behavior = np.mean(beh_high_res['L'][i][start:stop])\n",
    "        if early_behavior > 0:\n",
    "            prediction.append(1)\n",
    "        else:\n",
    "            prediction.append(0)\n",
    "    correct_count = np.sum(prediction)\n",
    "    accuracy_L = correct_count/n_turns\n",
    "\n",
    "    # right turns\n",
    "    prediction = []\n",
    "    n_turns = nbR[fly+1] - nbR[fly]\n",
    "    for i in range(nbR[fly],nbR[fly+1]):\n",
    "        early_behavior = np.mean(beh_high_res['R'][i][start:stop])\n",
    "        if early_behavior < 0:\n",
    "            prediction.append(1)\n",
    "        else:\n",
    "            prediction.append(0)\n",
    "    correct_count = np.sum(prediction)\n",
    "    accuracy_R = correct_count/n_turns\n",
    "\n",
    "    accuracy = (accuracy_L+accuracy_R)/2\n",
    "    fly_accuracies.append(accuracy)"
   ]
  },
  {
   "cell_type": "code",
   "execution_count": 101,
   "metadata": {},
   "outputs": [
    {
     "data": {
      "text/plain": [
       "0.5"
      ]
     },
     "execution_count": 101,
     "metadata": {},
     "output_type": "execute_result"
    }
   ],
   "source": [
    "(0.1+0.9)/2"
   ]
  },
  {
   "cell_type": "code",
   "execution_count": 9,
   "metadata": {},
   "outputs": [
    {
     "data": {
      "text/plain": [
       "[0.47583710878508567,\n",
       " 0.5271132376395534,\n",
       " 0.8571428571428572,\n",
       " 0.6457953394123607,\n",
       " 0.5728889146299085,\n",
       " 0.5612850419480254,\n",
       " 0.5080406282569344,\n",
       " 0.5031268612269207,\n",
       " 0.5701415701415701]"
      ]
     },
     "execution_count": 9,
     "metadata": {},
     "output_type": "execute_result"
    }
   ],
   "source": [
    "fly_accuracies"
   ]
  },
  {
   "cell_type": "code",
   "execution_count": 10,
   "metadata": {},
   "outputs": [
    {
     "data": {
      "text/plain": [
       "[0.47583710878508567,\n",
       " 0.5728889146299085,\n",
       " 0.5080406282569344,\n",
       " 0.5031268612269207,\n",
       " 0.5701415701415701]"
      ]
     },
     "execution_count": 10,
     "metadata": {},
     "output_type": "execute_result"
    }
   ],
   "source": [
    "[fly_accuracies[i] for i in [0,4,6,7,8]]"
   ]
  },
  {
   "cell_type": "code",
   "execution_count": null,
   "metadata": {
    "collapsed": true
   },
   "outputs": [],
   "source": [
    "[0,4,6,7,8]"
   ]
  },
  {
   "cell_type": "markdown",
   "metadata": {},
   "source": [
    "# bootstrap version"
   ]
  },
  {
   "cell_type": "code",
   "execution_count": 21,
   "metadata": {
    "collapsed": true
   },
   "outputs": [],
   "source": [
    "from random import choices"
   ]
  },
  {
   "cell_type": "code",
   "execution_count": 22,
   "metadata": {},
   "outputs": [
    {
     "name": "stderr",
     "output_type": "stream",
     "text": [
      "100%|██████████| 100/100 [00:11<00:00,  8.51it/s]\n"
     ]
    }
   ],
   "source": [
    "start = 750\n",
    "stop = 1100\n",
    "n_bout = 1000 #bootstrap sample\n",
    "\n",
    "boot_accuracies = []\n",
    "for iteration in tqdm.tqdm(range(100)):\n",
    "    fly_accuracies = []\n",
    "    for fly in range(len(final_flies)):\n",
    "        # first do left turns\n",
    "        # this will make a vector where 1 correctly predicts a L, and 0 is incorrect\n",
    "        prediction = []\n",
    "        bt_L = choices(range(nbL[fly],nbL[fly+1]), k=n_bout)\n",
    "        for i in bt_L:\n",
    "            early_behavior = np.mean(beh_high_res['L'][i][start:stop])\n",
    "            if early_behavior > 0:\n",
    "                prediction.append(1)\n",
    "            else:\n",
    "                prediction.append(0)\n",
    "        correct_count = np.sum(prediction)\n",
    "        accuracy_L = correct_count/n_bout\n",
    "\n",
    "        # right turns\n",
    "        prediction = []\n",
    "        bt_R = choices(range(nbR[fly],nbR[fly+1]), k=n_bout)\n",
    "        for i in bt_R:\n",
    "            early_behavior = np.mean(beh_high_res['R'][i][start:stop])\n",
    "            if early_behavior < 0:\n",
    "                prediction.append(1)\n",
    "            else:\n",
    "                prediction.append(0)\n",
    "        correct_count = np.sum(prediction)\n",
    "        accuracy_R = correct_count/n_bout\n",
    "\n",
    "        accuracy = (accuracy_L+accuracy_R)/2\n",
    "        fly_accuracies.append(accuracy)\n",
    "    boot_accuracies.append(np.asarray(fly_accuracies))\n",
    "boot_accuracies = np.asarray(boot_accuracies)"
   ]
  },
  {
   "cell_type": "code",
   "execution_count": 81,
   "metadata": {},
   "outputs": [
    {
     "data": {
      "text/plain": [
       "(100, 9)"
      ]
     },
     "execution_count": 81,
     "metadata": {},
     "output_type": "execute_result"
    }
   ],
   "source": [
    "boot_accuracies.shape"
   ]
  },
  {
   "cell_type": "code",
   "execution_count": 23,
   "metadata": {},
   "outputs": [
    {
     "data": {
      "image/png": "[encoded data removed]",
      "text/plain": [
       "<Figure size 720x720 with 1 Axes>"
      ]
     },
     "metadata": {},
     "output_type": "display_data"
    }
   ],
   "source": [
    "plt.figure(figsize=(10,10))\n",
    "\n",
    "for k in range(9):\n",
    "    if k in [0,4,6,7,8]:\n",
    "        color='k'\n",
    "    else:\n",
    "        color='grey'\n",
    "    plt.bar([k],np.mean(boot_accuracies,axis=0)[k],yerr=np.std(boot_accuracies,axis=0)[k],color=color)\n",
    "#plt.ylim(.4,.8)\n",
    "#plt.ylabel('accuracy')\n",
    "#plt.xticks([0,1,2,3],['all_bouts\\nearly','all_bouts\\nt=0','27_bouts\\nearly','27_bouts\\nt=0'])\n",
    "\n",
    "plt.axhline(0.5)\n",
    "\n",
    "save_path = '/oak/stanford/groups/trc/data/Brezovec/2P_Imaging/figs'\n",
    "timestr = time.strftime(\"%Y%m%d-%H%M%S\")\n",
    "fname = os.path.join(save_path, f'{timestr}')\n",
    "#plt.savefig(fname,dpi=300,bbox_inches='tight',transparent=True)"
   ]
  },
  {
   "cell_type": "code",
   "execution_count": 24,
   "metadata": {},
   "outputs": [
    {
     "data": {
      "text/plain": [
       "array([0.476985, 0.56951 , 0.507235, 0.504195, 0.57    ])"
      ]
     },
     "execution_count": 24,
     "metadata": {},
     "output_type": "execute_result"
    }
   ],
   "source": [
    "np.mean(boot_accuracies,axis=0)[[0,4,6,7,8]]"
   ]
  },
  {
   "cell_type": "code",
   "execution_count": 25,
   "metadata": {},
   "outputs": [
    {
     "data": {
      "text/plain": [
       "Ttest_1sampResult(statistic=1.3619149256290504, pvalue=0.24487938262417114)"
      ]
     },
     "execution_count": 25,
     "metadata": {},
     "output_type": "execute_result"
    }
   ],
   "source": [
    "scipy.stats.ttest_1samp(np.mean(boot_accuracies,axis=0)[[0,4,6,7,8]], popmean=0.5)"
   ]
  },
  {
   "cell_type": "code",
   "execution_count": 16,
   "metadata": {},
   "outputs": [
    {
     "data": {
      "text/plain": [
       "Ttest_1sampResult(statistic=1.3421840313362254, pvalue=0.25065448037167454)"
      ]
     },
     "execution_count": 16,
     "metadata": {},
     "output_type": "execute_result"
    }
   ],
   "source": [
    "scipy.stats.ttest_1samp([fly_accuracies[i] for i in [0,4,6,7,8]], popmean=0.5)"
   ]
  },
  {
   "cell_type": "code",
   "execution_count": 28,
   "metadata": {},
   "outputs": [
    {
     "data": {
      "text/plain": [
       "0.036057731487158205"
      ]
     },
     "execution_count": 28,
     "metadata": {},
     "output_type": "execute_result"
    }
   ],
   "source": [
    "np.std([fly_accuracies[i] for i in [0,4,6,7,8]])#/np.sqrt(5)"
   ]
  },
  {
   "cell_type": "code",
   "execution_count": 30,
   "metadata": {},
   "outputs": [
    {
     "data": {
      "text/plain": [
       "2.23606797749979"
      ]
     },
     "execution_count": 30,
     "metadata": {},
     "output_type": "execute_result"
    }
   ],
   "source": []
  },
  {
   "cell_type": "code",
   "execution_count": 31,
   "metadata": {},
   "outputs": [
    {
     "data": {
      "text/plain": [
       "0.1855006217046185"
      ]
     },
     "execution_count": 31,
     "metadata": {},
     "output_type": "execute_result"
    }
   ],
   "source": [
    ".5761*.36*2/np.sqrt(5)"
   ]
  },
  {
   "cell_type": "code",
   "execution_count": 26,
   "metadata": {},
   "outputs": [
    {
     "data": {
      "text/plain": [
       "0.5130741406524029"
      ]
     },
     "execution_count": 26,
     "metadata": {},
     "output_type": "execute_result"
    }
   ],
   "source": [
    "np.average(np.mean(boot_accuracies,axis=0)[[0,4,6,7,8]],weights=[222+519, 178+291, 364+601, 276+219, 70+111])"
   ]
  },
  {
   "cell_type": "code",
   "execution_count": 27,
   "metadata": {},
   "outputs": [
    {
     "data": {
      "text/plain": [
       "0.5255850000000002"
      ]
     },
     "execution_count": 27,
     "metadata": {},
     "output_type": "execute_result"
    }
   ],
   "source": [
    "np.average(np.mean(boot_accuracies,axis=0)[[0,4,6,7,8]])"
   ]
  },
  {
   "cell_type": "code",
   "execution_count": 83,
   "metadata": {},
   "outputs": [
    {
     "data": {
      "text/plain": [
       "[0.483, 0.5355, 0.853, 0.652, 0.566, 0.555, 0.531, 0.496, 0.566]"
      ]
     },
     "execution_count": 83,
     "metadata": {},
     "output_type": "execute_result"
    }
   ],
   "source": [
    "fly_accuracies"
   ]
  },
  {
   "cell_type": "code",
   "execution_count": null,
   "metadata": {
    "collapsed": true
   },
   "outputs": [],
   "source": []
  },
  {
   "cell_type": "code",
   "execution_count": 87,
   "metadata": {},
   "outputs": [
    {
     "data": {
      "text/plain": [
       "(741, 469, 965, 495, 181)"
      ]
     },
     "execution_count": 87,
     "metadata": {},
     "output_type": "execute_result"
    }
   ],
   "source": [
    "222+519, 178+291, 364+601, 276+219, 70+111"
   ]
  },
  {
   "cell_type": "code",
   "execution_count": null,
   "metadata": {
    "collapsed": true
   },
   "outputs": [],
   "source": [
    "222 519#\n",
    "38 33\n",
    "140 2\n",
    "47 105\n",
    "178 291#\n",
    "27 543\n",
    "364 601#\n",
    "276 219#\n",
    "70 111#"
   ]
  },
  {
   "cell_type": "code",
   "execution_count": 11,
   "metadata": {
    "collapsed": true
   },
   "outputs": [],
   "source": [
    "xs = np.arange(0,30000,20) #change to 60 if changed above\n",
    "xs = np.concatenate((xs[::-1]*-1, xs))/1000"
   ]
  },
  {
   "cell_type": "code",
   "execution_count": 13,
   "metadata": {},
   "outputs": [
    {
     "data": {
      "text/plain": [
       "(-14.98, -7.98)"
      ]
     },
     "execution_count": 13,
     "metadata": {},
     "output_type": "execute_result"
    }
   ],
   "source": [
    "xs[750], xs[1100]"
   ]
  },
  {
   "cell_type": "code",
   "execution_count": null,
   "metadata": {
    "collapsed": true
   },
   "outputs": [],
   "source": [
    "# because the flies are biased to turn right, "
   ]
  },
  {
   "cell_type": "code",
   "execution_count": 56,
   "metadata": {},
   "outputs": [
    {
     "data": {
      "text/plain": [
       "array([   0,  519,  552,  554,  659,  950, 1493, 2094, 2313, 2424])"
      ]
     },
     "execution_count": 56,
     "metadata": {},
     "output_type": "execute_result"
    }
   ],
   "source": [
    "nbR"
   ]
  },
  {
   "cell_type": "code",
   "execution_count": 55,
   "metadata": {},
   "outputs": [
    {
     "data": {
      "text/plain": [
       "0.47583710878508567"
      ]
     },
     "execution_count": 55,
     "metadata": {},
     "output_type": "execute_result"
    }
   ],
   "source": [
    "start = 750\n",
    "stop = 1100\n",
    "\n",
    "fly_accuracies = []\n",
    "for fly in range(len(nbR)):\n",
    "    # first do left turns\n",
    "    # this will make a vector where 1 correctly predicts a L, and 0 is incorrect\n",
    "    prediction = []\n",
    "    n_turns = 222\n",
    "    for i in range(n_turns):\n",
    "        early_behavior = np.mean(beh_high_res['L'][i][start:stop])\n",
    "        if early_behavior > 0:\n",
    "            prediction.append(1)\n",
    "        else:\n",
    "            prediction.append(0)\n",
    "    correct_count = np.sum(prediction)\n",
    "    accuracy_L = correct_count/n_turns\n",
    "\n",
    "    # right turns\n",
    "    prediction = []\n",
    "    n_turns = 519\n",
    "    for i in range(n_turns):\n",
    "        early_behavior = np.mean(beh_high_res['R'][i][start:stop])\n",
    "        if early_behavior < 0:\n",
    "            prediction.append(1)\n",
    "        else:\n",
    "            prediction.append(0)\n",
    "    correct_count = np.sum(prediction)\n",
    "    accuracy_R = correct_count/n_turns\n",
    "\n",
    "    accuracy = (accuracy_L+accuracy_R)/2\n",
    "    fly_accuracies.append(accuracy)"
   ]
  },
  {
   "cell_type": "code",
   "execution_count": 50,
   "metadata": {},
   "outputs": [
    {
     "data": {
      "text/plain": [
       "0.25225225225225223"
      ]
     },
     "execution_count": 50,
     "metadata": {},
     "output_type": "execute_result"
    }
   ],
   "source": [
    "correct_count/n_turns"
   ]
  },
  {
   "cell_type": "code",
   "execution_count": 53,
   "metadata": {},
   "outputs": [
    {
     "data": {
      "text/plain": [
       "0.6994219653179191"
      ]
     },
     "execution_count": 53,
     "metadata": {},
     "output_type": "execute_result"
    }
   ],
   "source": [
    "accuracy_R"
   ]
  },
  {
   "cell_type": "code",
   "execution_count": 45,
   "metadata": {},
   "outputs": [
    {
     "data": {
      "text/plain": [
       "56"
      ]
     },
     "execution_count": 45,
     "metadata": {},
     "output_type": "execute_result"
    }
   ],
   "source": [
    "np.sum(prediction)"
   ]
  },
  {
   "cell_type": "code",
   "execution_count": 47,
   "metadata": {},
   "outputs": [
    {
     "data": {
      "text/plain": [
       "166"
      ]
     },
     "execution_count": 47,
     "metadata": {},
     "output_type": "execute_result"
    }
   ],
   "source": [
    "222-56"
   ]
  },
  {
   "cell_type": "code",
   "execution_count": 42,
   "metadata": {},
   "outputs": [
    {
     "data": {
      "text/plain": [
       "0.25225225225225223"
      ]
     },
     "execution_count": 42,
     "metadata": {},
     "output_type": "execute_result"
    }
   ],
   "source": [
    "56/222"
   ]
  },
  {
   "cell_type": "code",
   "execution_count": 36,
   "metadata": {},
   "outputs": [
    {
     "data": {
      "text/plain": [
       "363"
      ]
     },
     "execution_count": 36,
     "metadata": {},
     "output_type": "execute_result"
    }
   ],
   "source": [
    "np.sum(prediction)"
   ]
  },
  {
   "cell_type": "code",
   "execution_count": 41,
   "metadata": {},
   "outputs": [
    {
     "data": {
      "text/plain": [
       "0.475"
      ]
     },
     "execution_count": 41,
     "metadata": {},
     "output_type": "execute_result"
    }
   ],
   "source": [
    ".95/2"
   ]
  },
  {
   "cell_type": "code",
   "execution_count": 40,
   "metadata": {},
   "outputs": [
    {
     "data": {
      "text/plain": [
       "0.6994219653179191"
      ]
     },
     "execution_count": 40,
     "metadata": {},
     "output_type": "execute_result"
    }
   ],
   "source": [
    "363/519"
   ]
  },
  {
   "cell_type": "code",
   "execution_count": 37,
   "metadata": {},
   "outputs": [
    {
     "data": {
      "text/plain": [
       "156"
      ]
     },
     "execution_count": 37,
     "metadata": {},
     "output_type": "execute_result"
    }
   ],
   "source": [
    "519-363"
   ]
  },
  {
   "cell_type": "code",
   "execution_count": 38,
   "metadata": {},
   "outputs": [
    {
     "data": {
      "text/plain": [
       "0.25225225225225223"
      ]
     },
     "execution_count": 38,
     "metadata": {},
     "output_type": "execute_result"
    }
   ],
   "source": [
    "56/222"
   ]
  },
  {
   "cell_type": "code",
   "execution_count": 29,
   "metadata": {},
   "outputs": [
    {
     "data": {
      "text/plain": [
       "0.4669603524229075"
      ]
     },
     "execution_count": 29,
     "metadata": {},
     "output_type": "execute_result"
    }
   ],
   "source": [
    "636/1362"
   ]
  },
  {
   "cell_type": "code",
   "execution_count": 30,
   "metadata": {},
   "outputs": [
    {
     "data": {
      "text/plain": [
       "0.7017326732673267"
      ]
     },
     "execution_count": 30,
     "metadata": {},
     "output_type": "execute_result"
    }
   ],
   "source": [
    "1701/2424"
   ]
  },
  {
   "cell_type": "code",
   "execution_count": null,
   "metadata": {
    "collapsed": true
   },
   "outputs": [],
   "source": []
  },
  {
   "cell_type": "code",
   "execution_count": null,
   "metadata": {
    "collapsed": true
   },
   "outputs": [],
   "source": [
    "num_bout = 30\n",
    "\n",
    "start = 32\n",
    "stop = 57\n",
    "\n",
    "# start = 59\n",
    "# stop = 61\n",
    "accuracy = []\n",
    "for num_bout in range(0,1300):\n",
    "    beh = 'R'\n",
    "    R = np.mean(neural_low_res[beh][bouts_filtered[beh][:num_bout],start:stop],axis=1)\n",
    "    beh = 'L'\n",
    "    L = np.mean(neural_low_res[beh][bouts_filtered[beh][:num_bout],start:stop],axis=1)\n",
    "    #R.shape, L.shape\n",
    "\n",
    "    thresh = 0\n",
    "    num_correct = np.sum(L<thresh) + np.sum(R>thresh)\n",
    "    accuracy.append(num_correct/(num_bout*2))"
   ]
  }
 ],
 "metadata": {
  "kernelspec": {
   "display_name": "Python 3",
   "language": "python",
   "name": "python3"
  },
  "language_info": {
   "codemirror_mode": {
    "name": "ipython",
    "version": 3
   },
   "file_extension": ".py",
   "mimetype": "text/x-python",
   "name": "python",
   "nbconvert_exporter": "python",
   "pygments_lexer": "ipython3",
   "version": "3.6.1"
  }
 },
 "nbformat": 4,
 "nbformat_minor": 2
}
