{
 "cells": [
  {
   "cell_type": "code",
   "execution_count": 1,
   "metadata": {},
   "outputs": [
    {
     "data": {
      "text/html": [
       "\n",
       "    <div class=\"bk-root\">\n",
       "        <a href=\"https://bokeh.org\" target=\"_blank\" class=\"bk-logo bk-logo-small bk-logo-notebook\"></a>\n",
       "        <span id=\"1002\">Loading BokehJS ...</span>\n",
       "    </div>"
      ]
     },
     "metadata": {},
     "output_type": "display_data"
    },
    {
     "data": {
      "application/javascript": [
       "\n",
       "(function(root) {\n",
       "  function now() {\n",
       "    return new Date();\n",
       "  }\n",
       "\n",
       "  var force = true;\n",
       "\n",
       "  if (typeof root._bokeh_onload_callbacks === \"undefined\" || force === true) {\n",
       "    root._bokeh_onload_callbacks = [];\n",
       "    root._bokeh_is_loading = undefined;\n",
       "  }\n",
       "\n",
       "  var JS_MIME_TYPE = 'application/javascript';\n",
       "  var HTML_MIME_TYPE = 'text/html';\n",
       "  var EXEC_MIME_TYPE = 'application/vnd.bokehjs_exec.v0+json';\n",
       "  var CLASS_NAME = 'output_bokeh rendered_html';\n",
       "\n",
       "  /**\n",
       "   * Render data to the DOM node\n",
       "   */\n",
       "  function render(props, node) {\n",
       "    var script = document.createElement(\"script\");\n",
       "    node.appendChild(script);\n",
       "  }\n",
       "\n",
       "  /**\n",
       "   * Handle when an output is cleared or removed\n",
       "   */\n",
       "  function handleClearOutput(event, handle) {\n",
       "    var cell = handle.cell;\n",
       "\n",
       "    var id = cell.output_area._bokeh_element_id;\n",
       "    var server_id = cell.output_area._bokeh_server_id;\n",
       "    // Clean up Bokeh references\n",
       "    if (id != null && id in Bokeh.index) {\n",
       "      Bokeh.index[id].model.document.clear();\n",
       "      delete Bokeh.index[id];\n",
       "    }\n",
       "\n",
       "    if (server_id !== undefined) {\n",
       "      // Clean up Bokeh references\n",
       "      var cmd = \"from bokeh.io.state import curstate; print(curstate().uuid_to_server['\" + server_id + \"'].get_sessions()[0].document.roots[0]._id)\";\n",
       "      cell.notebook.kernel.execute(cmd, {\n",
       "        iopub: {\n",
       "          output: function(msg) {\n",
       "            var id = msg.content.text.trim();\n",
       "            if (id in Bokeh.index) {\n",
       "              Bokeh.index[id].model.document.clear();\n",
       "              delete Bokeh.index[id];\n",
       "            }\n",
       "          }\n",
       "        }\n",
       "      });\n",
       "      // Destroy server and session\n",
       "      var cmd = \"import bokeh.io.notebook as ion; ion.destroy_server('\" + server_id + \"')\";\n",
       "      cell.notebook.kernel.execute(cmd);\n",
       "    }\n",
       "  }\n",
       "\n",
       "  /**\n",
       "   * Handle when a new output is added\n",
       "   */\n",
       "  function handleAddOutput(event, handle) {\n",
       "    var output_area = handle.output_area;\n",
       "    var output = handle.output;\n",
       "\n",
       "    // limit handleAddOutput to display_data with EXEC_MIME_TYPE content only\n",
       "    if ((output.output_type != \"display_data\") || (!Object.prototype.hasOwnProperty.call(output.data, EXEC_MIME_TYPE))) {\n",
       "      return\n",
       "    }\n",
       "\n",
       "    var toinsert = output_area.element.find(\".\" + CLASS_NAME.split(' ')[0]);\n",
       "\n",
       "    if (output.metadata[EXEC_MIME_TYPE][\"id\"] !== undefined) {\n",
       "      toinsert[toinsert.length - 1].firstChild.textContent = output.data[JS_MIME_TYPE];\n",
       "      // store reference to embed id on output_area\n",
       "      output_area._bokeh_element_id = output.metadata[EXEC_MIME_TYPE][\"id\"];\n",
       "    }\n",
       "    if (output.metadata[EXEC_MIME_TYPE][\"server_id\"] !== undefined) {\n",
       "      var bk_div = document.createElement(\"div\");\n",
       "      bk_div.innerHTML = output.data[HTML_MIME_TYPE];\n",
       "      var script_attrs = bk_div.children[0].attributes;\n",
       "      for (var i = 0; i < script_attrs.length; i++) {\n",
       "        toinsert[toinsert.length - 1].firstChild.setAttribute(script_attrs[i].name, script_attrs[i].value);\n",
       "        toinsert[toinsert.length - 1].firstChild.textContent = bk_div.children[0].textContent\n",
       "      }\n",
       "      // store reference to server id on output_area\n",
       "      output_area._bokeh_server_id = output.metadata[EXEC_MIME_TYPE][\"server_id\"];\n",
       "    }\n",
       "  }\n",
       "\n",
       "  function register_renderer(events, OutputArea) {\n",
       "\n",
       "    function append_mime(data, metadata, element) {\n",
       "      // create a DOM node to render to\n",
       "      var toinsert = this.create_output_subarea(\n",
       "        metadata,\n",
       "        CLASS_NAME,\n",
       "        EXEC_MIME_TYPE\n",
       "      );\n",
       "      this.keyboard_manager.register_events(toinsert);\n",
       "      // Render to node\n",
       "      var props = {data: data, metadata: metadata[EXEC_MIME_TYPE]};\n",
       "      render(props, toinsert[toinsert.length - 1]);\n",
       "      element.append(toinsert);\n",
       "      return toinsert\n",
       "    }\n",
       "\n",
       "    /* Handle when an output is cleared or removed */\n",
       "    events.on('clear_output.CodeCell', handleClearOutput);\n",
       "    events.on('delete.Cell', handleClearOutput);\n",
       "\n",
       "    /* Handle when a new output is added */\n",
       "    events.on('output_added.OutputArea', handleAddOutput);\n",
       "\n",
       "    /**\n",
       "     * Register the mime type and append_mime function with output_area\n",
       "     */\n",
       "    OutputArea.prototype.register_mime_type(EXEC_MIME_TYPE, append_mime, {\n",
       "      /* Is output safe? */\n",
       "      safe: true,\n",
       "      /* Index of renderer in `output_area.display_order` */\n",
       "      index: 0\n",
       "    });\n",
       "  }\n",
       "\n",
       "  // register the mime type if in Jupyter Notebook environment and previously unregistered\n",
       "  if (root.Jupyter !== undefined) {\n",
       "    var events = require('base/js/events');\n",
       "    var OutputArea = require('notebook/js/outputarea').OutputArea;\n",
       "\n",
       "    if (OutputArea.prototype.mime_types().indexOf(EXEC_MIME_TYPE) == -1) {\n",
       "      register_renderer(events, OutputArea);\n",
       "    }\n",
       "  }\n",
       "\n",
       "  \n",
       "  if (typeof (root._bokeh_timeout) === \"undefined\" || force === true) {\n",
       "    root._bokeh_timeout = Date.now() + 5000;\n",
       "    root._bokeh_failed_load = false;\n",
       "  }\n",
       "\n",
       "  var NB_LOAD_WARNING = {'data': {'text/html':\n",
       "     \"<div style='background-color: #fdd'>\\n\"+\n",
       "     \"<p>\\n\"+\n",
       "     \"BokehJS does not appear to have successfully loaded. If loading BokehJS from CDN, this \\n\"+\n",
       "     \"may be due to a slow or bad network connection. Possible fixes:\\n\"+\n",
       "     \"</p>\\n\"+\n",
       "     \"<ul>\\n\"+\n",
       "     \"<li>re-rerun `output_notebook()` to attempt to load from CDN again, or</li>\\n\"+\n",
       "     \"<li>use INLINE resources instead, as so:</li>\\n\"+\n",
       "     \"</ul>\\n\"+\n",
       "     \"<code>\\n\"+\n",
       "     \"from bokeh.resources import INLINE\\n\"+\n",
       "     \"output_notebook(resources=INLINE)\\n\"+\n",
       "     \"</code>\\n\"+\n",
       "     \"</div>\"}};\n",
       "\n",
       "  function display_loaded() {\n",
       "    var el = document.getElementById(\"1002\");\n",
       "    if (el != null) {\n",
       "      el.textContent = \"BokehJS is loading...\";\n",
       "    }\n",
       "    if (root.Bokeh !== undefined) {\n",
       "      if (el != null) {\n",
       "        el.textContent = \"BokehJS \" + root.Bokeh.version + \" successfully loaded.\";\n",
       "      }\n",
       "    } else if (Date.now() < root._bokeh_timeout) {\n",
       "      setTimeout(display_loaded, 100)\n",
       "    }\n",
       "  }\n",
       "\n",
       "\n",
       "  function run_callbacks() {\n",
       "    try {\n",
       "      root._bokeh_onload_callbacks.forEach(function(callback) {\n",
       "        if (callback != null)\n",
       "          callback();\n",
       "      });\n",
       "    } finally {\n",
       "      delete root._bokeh_onload_callbacks\n",
       "    }\n",
       "    console.debug(\"Bokeh: all callbacks have finished\");\n",
       "  }\n",
       "\n",
       "  function load_libs(css_urls, js_urls, callback) {\n",
       "    if (css_urls == null) css_urls = [];\n",
       "    if (js_urls == null) js_urls = [];\n",
       "\n",
       "    root._bokeh_onload_callbacks.push(callback);\n",
       "    if (root._bokeh_is_loading > 0) {\n",
       "      console.debug(\"Bokeh: BokehJS is being loaded, scheduling callback at\", now());\n",
       "      return null;\n",
       "    }\n",
       "    if (js_urls == null || js_urls.length === 0) {\n",
       "      run_callbacks();\n",
       "      return null;\n",
       "    }\n",
       "    console.debug(\"Bokeh: BokehJS not loaded, scheduling load and callback at\", now());\n",
       "    root._bokeh_is_loading = css_urls.length + js_urls.length;\n",
       "\n",
       "    function on_load() {\n",
       "      root._bokeh_is_loading--;\n",
       "      if (root._bokeh_is_loading === 0) {\n",
       "        console.debug(\"Bokeh: all BokehJS libraries/stylesheets loaded\");\n",
       "        run_callbacks()\n",
       "      }\n",
       "    }\n",
       "\n",
       "    function on_error(url) {\n",
       "      console.error(\"failed to load \" + url);\n",
       "    }\n",
       "\n",
       "    for (let i = 0; i < css_urls.length; i++) {\n",
       "      const url = css_urls[i];\n",
       "      const element = document.createElement(\"link\");\n",
       "      element.onload = on_load;\n",
       "      element.onerror = on_error.bind(null, url);\n",
       "      element.rel = \"stylesheet\";\n",
       "      element.type = \"text/css\";\n",
       "      element.href = url;\n",
       "      console.debug(\"Bokeh: injecting link tag for BokehJS stylesheet: \", url);\n",
       "      document.body.appendChild(element);\n",
       "    }\n",
       "\n",
       "    const hashes = {\"https://cdn.bokeh.org/bokeh/release/bokeh-2.3.3.min.js\": \"dM3QQsP+wXdHg42wTqW85BjZQdLNNIXqlPw/BgKoExPmTG7ZLML4EGqLMfqHT6ON\", \"https://cdn.bokeh.org/bokeh/release/bokeh-tables-2.3.3.min.js\": \"8x57I4YuIfu8XyZfFo0XVr2WAT8EK4rh/uDe3wF7YuW2FNUSNEpJbsPaB1nJ2fz2\", \"https://cdn.bokeh.org/bokeh/release/bokeh-widgets-2.3.3.min.js\": \"3QTqdz9LyAm2i0sG5XTePsHec3UHWwVsrOL68SYRoAXsafvfAyqtQ+h440+qIBhS\"};\n",
       "\n",
       "    for (let i = 0; i < js_urls.length; i++) {\n",
       "      const url = js_urls[i];\n",
       "      const element = document.createElement('script');\n",
       "      element.onload = on_load;\n",
       "      element.onerror = on_error.bind(null, url);\n",
       "      element.async = false;\n",
       "      element.src = url;\n",
       "      if (url in hashes) {\n",
       "        element.crossOrigin = \"anonymous\";\n",
       "        element.integrity = \"sha384-\" + hashes[url];\n",
       "      }\n",
       "      console.debug(\"Bokeh: injecting script tag for BokehJS library: \", url);\n",
       "      document.head.appendChild(element);\n",
       "    }\n",
       "  };\n",
       "\n",
       "  function inject_raw_css(css) {\n",
       "    const element = document.createElement(\"style\");\n",
       "    element.appendChild(document.createTextNode(css));\n",
       "    document.body.appendChild(element);\n",
       "  }\n",
       "\n",
       "  \n",
       "  var js_urls = [\"https://cdn.bokeh.org/bokeh/release/bokeh-2.3.3.min.js\", \"https://cdn.bokeh.org/bokeh/release/bokeh-widgets-2.3.3.min.js\", \"https://cdn.bokeh.org/bokeh/release/bokeh-tables-2.3.3.min.js\"];\n",
       "  var css_urls = [];\n",
       "  \n",
       "\n",
       "  var inline_js = [\n",
       "    function(Bokeh) {\n",
       "      Bokeh.set_log_level(\"info\");\n",
       "    },\n",
       "    function(Bokeh) {\n",
       "    \n",
       "    \n",
       "    }\n",
       "  ];\n",
       "\n",
       "  function run_inline_js() {\n",
       "    \n",
       "    if (root.Bokeh !== undefined || force === true) {\n",
       "      \n",
       "    for (var i = 0; i < inline_js.length; i++) {\n",
       "      inline_js[i].call(root, root.Bokeh);\n",
       "    }\n",
       "    if (force === true) {\n",
       "        display_loaded();\n",
       "      }} else if (Date.now() < root._bokeh_timeout) {\n",
       "      setTimeout(run_inline_js, 100);\n",
       "    } else if (!root._bokeh_failed_load) {\n",
       "      console.log(\"Bokeh: BokehJS failed to load within specified timeout.\");\n",
       "      root._bokeh_failed_load = true;\n",
       "    } else if (force !== true) {\n",
       "      var cell = $(document.getElementById(\"1002\")).parents('.cell').data().cell;\n",
       "      cell.output_area.append_execute_result(NB_LOAD_WARNING)\n",
       "    }\n",
       "\n",
       "  }\n",
       "\n",
       "  if (root._bokeh_is_loading === 0) {\n",
       "    console.debug(\"Bokeh: BokehJS loaded, going straight to plotting\");\n",
       "    run_inline_js();\n",
       "  } else {\n",
       "    load_libs(css_urls, js_urls, function() {\n",
       "      console.debug(\"Bokeh: BokehJS plotting callback run at\", now());\n",
       "      run_inline_js();\n",
       "    });\n",
       "  }\n",
       "}(window));"
      ],
      "application/vnd.bokehjs_load.v0+json": "\n(function(root) {\n  function now() {\n    return new Date();\n  }\n\n  var force = true;\n\n  if (typeof root._bokeh_onload_callbacks === \"undefined\" || force === true) {\n    root._bokeh_onload_callbacks = [];\n    root._bokeh_is_loading = undefined;\n  }\n\n  \n\n  \n  if (typeof (root._bokeh_timeout) === \"undefined\" || force === true) {\n    root._bokeh_timeout = Date.now() + 5000;\n    root._bokeh_failed_load = false;\n  }\n\n  var NB_LOAD_WARNING = {'data': {'text/html':\n     \"<div style='background-color: #fdd'>\\n\"+\n     \"<p>\\n\"+\n     \"BokehJS does not appear to have successfully loaded. If loading BokehJS from CDN, this \\n\"+\n     \"may be due to a slow or bad network connection. Possible fixes:\\n\"+\n     \"</p>\\n\"+\n     \"<ul>\\n\"+\n     \"<li>re-rerun `output_notebook()` to attempt to load from CDN again, or</li>\\n\"+\n     \"<li>use INLINE resources instead, as so:</li>\\n\"+\n     \"</ul>\\n\"+\n     \"<code>\\n\"+\n     \"from bokeh.resources import INLINE\\n\"+\n     \"output_notebook(resources=INLINE)\\n\"+\n     \"</code>\\n\"+\n     \"</div>\"}};\n\n  function display_loaded() {\n    var el = document.getElementById(\"1002\");\n    if (el != null) {\n      el.textContent = \"BokehJS is loading...\";\n    }\n    if (root.Bokeh !== undefined) {\n      if (el != null) {\n        el.textContent = \"BokehJS \" + root.Bokeh.version + \" successfully loaded.\";\n      }\n    } else if (Date.now() < root._bokeh_timeout) {\n      setTimeout(display_loaded, 100)\n    }\n  }\n\n\n  function run_callbacks() {\n    try {\n      root._bokeh_onload_callbacks.forEach(function(callback) {\n        if (callback != null)\n          callback();\n      });\n    } finally {\n      delete root._bokeh_onload_callbacks\n    }\n    console.debug(\"Bokeh: all callbacks have finished\");\n  }\n\n  function load_libs(css_urls, js_urls, callback) {\n    if (css_urls == null) css_urls = [];\n    if (js_urls == null) js_urls = [];\n\n    root._bokeh_onload_callbacks.push(callback);\n    if (root._bokeh_is_loading > 0) {\n      console.debug(\"Bokeh: BokehJS is being loaded, scheduling callback at\", now());\n      return null;\n    }\n    if (js_urls == null || js_urls.length === 0) {\n      run_callbacks();\n      return null;\n    }\n    console.debug(\"Bokeh: BokehJS not loaded, scheduling load and callback at\", now());\n    root._bokeh_is_loading = css_urls.length + js_urls.length;\n\n    function on_load() {\n      root._bokeh_is_loading--;\n      if (root._bokeh_is_loading === 0) {\n        console.debug(\"Bokeh: all BokehJS libraries/stylesheets loaded\");\n        run_callbacks()\n      }\n    }\n\n    function on_error(url) {\n      console.error(\"failed to load \" + url);\n    }\n\n    for (let i = 0; i < css_urls.length; i++) {\n      const url = css_urls[i];\n      const element = document.createElement(\"link\");\n      element.onload = on_load;\n      element.onerror = on_error.bind(null, url);\n      element.rel = \"stylesheet\";\n      element.type = \"text/css\";\n      element.href = url;\n      console.debug(\"Bokeh: injecting link tag for BokehJS stylesheet: \", url);\n      document.body.appendChild(element);\n    }\n\n    const hashes = {\"https://cdn.bokeh.org/bokeh/release/bokeh-2.3.3.min.js\": \"dM3QQsP+wXdHg42wTqW85BjZQdLNNIXqlPw/BgKoExPmTG7ZLML4EGqLMfqHT6ON\", \"https://cdn.bokeh.org/bokeh/release/bokeh-tables-2.3.3.min.js\": \"8x57I4YuIfu8XyZfFo0XVr2WAT8EK4rh/uDe3wF7YuW2FNUSNEpJbsPaB1nJ2fz2\", \"https://cdn.bokeh.org/bokeh/release/bokeh-widgets-2.3.3.min.js\": \"3QTqdz9LyAm2i0sG5XTePsHec3UHWwVsrOL68SYRoAXsafvfAyqtQ+h440+qIBhS\"};\n\n    for (let i = 0; i < js_urls.length; i++) {\n      const url = js_urls[i];\n      const element = document.createElement('script');\n      element.onload = on_load;\n      element.onerror = on_error.bind(null, url);\n      element.async = false;\n      element.src = url;\n      if (url in hashes) {\n        element.crossOrigin = \"anonymous\";\n        element.integrity = \"sha384-\" + hashes[url];\n      }\n      console.debug(\"Bokeh: injecting script tag for BokehJS library: \", url);\n      document.head.appendChild(element);\n    }\n  };\n\n  function inject_raw_css(css) {\n    const element = document.createElement(\"style\");\n    element.appendChild(document.createTextNode(css));\n    document.body.appendChild(element);\n  }\n\n  \n  var js_urls = [\"https://cdn.bokeh.org/bokeh/release/bokeh-2.3.3.min.js\", \"https://cdn.bokeh.org/bokeh/release/bokeh-widgets-2.3.3.min.js\", \"https://cdn.bokeh.org/bokeh/release/bokeh-tables-2.3.3.min.js\"];\n  var css_urls = [];\n  \n\n  var inline_js = [\n    function(Bokeh) {\n      Bokeh.set_log_level(\"info\");\n    },\n    function(Bokeh) {\n    \n    \n    }\n  ];\n\n  function run_inline_js() {\n    \n    if (root.Bokeh !== undefined || force === true) {\n      \n    for (var i = 0; i < inline_js.length; i++) {\n      inline_js[i].call(root, root.Bokeh);\n    }\n    if (force === true) {\n        display_loaded();\n      }} else if (Date.now() < root._bokeh_timeout) {\n      setTimeout(run_inline_js, 100);\n    } else if (!root._bokeh_failed_load) {\n      console.log(\"Bokeh: BokehJS failed to load within specified timeout.\");\n      root._bokeh_failed_load = true;\n    } else if (force !== true) {\n      var cell = $(document.getElementById(\"1002\")).parents('.cell').data().cell;\n      cell.output_area.append_execute_result(NB_LOAD_WARNING)\n    }\n\n  }\n\n  if (root._bokeh_is_loading === 0) {\n    console.debug(\"Bokeh: BokehJS loaded, going straight to plotting\");\n    run_inline_js();\n  } else {\n    load_libs(css_urls, js_urls, function() {\n      console.debug(\"Bokeh: BokehJS plotting callback run at\", now());\n      run_inline_js();\n    });\n  }\n}(window));"
     },
     "metadata": {},
     "output_type": "display_data"
    },
    {
     "name": "stderr",
     "output_type": "stream",
     "text": [
      "IOPub data rate exceeded.\n",
      "The notebook server will temporarily stop sending output\n",
      "to the client in order to avoid crashing it.\n",
      "To change this limit, set the config variable\n",
      "`--NotebookApp.iopub_data_rate_limit`.\n"
     ]
    },
    {
     "data": {
      "application/javascript": [
       "\n",
       "if ((window.PyViz === undefined) || (window.PyViz instanceof HTMLElement)) {\n",
       "  window.PyViz = {comms: {}, comm_status:{}, kernels:{}, receivers: {}, plot_index: []}\n",
       "}\n",
       "\n",
       "\n",
       "    function JupyterCommManager() {\n",
       "    }\n",
       "\n",
       "    JupyterCommManager.prototype.register_target = function(plot_id, comm_id, msg_handler) {\n",
       "      if (window.comm_manager || ((window.Jupyter !== undefined) && (Jupyter.notebook.kernel != null))) {\n",
       "        var comm_manager = window.comm_manager || Jupyter.notebook.kernel.comm_manager;\n",
       "        comm_manager.register_target(comm_id, function(comm) {\n",
       "          comm.on_msg(msg_handler);\n",
       "        });\n",
       "      } else if ((plot_id in window.PyViz.kernels) && (window.PyViz.kernels[plot_id])) {\n",
       "        window.PyViz.kernels[plot_id].registerCommTarget(comm_id, function(comm) {\n",
       "          comm.onMsg = msg_handler;\n",
       "        });\n",
       "      } else if (typeof google != 'undefined' && google.colab.kernel != null) {\n",
       "        google.colab.kernel.comms.registerTarget(comm_id, (comm) => {\n",
       "          var messages = comm.messages[Symbol.asyncIterator]();\n",
       "          function processIteratorResult(result) {\n",
       "            var message = result.value;\n",
       "            console.log(message)\n",
       "            var content = {data: message.data, comm_id};\n",
       "            var buffers = []\n",
       "            for (var buffer of message.buffers || []) {\n",
       "              buffers.push(new DataView(buffer))\n",
       "            }\n",
       "            var metadata = message.metadata || {};\n",
       "            var msg = {content, buffers, metadata}\n",
       "            msg_handler(msg);\n",
       "            return messages.next().then(processIteratorResult);\n",
       "          }\n",
       "          return messages.next().then(processIteratorResult);\n",
       "        })\n",
       "      }\n",
       "    }\n",
       "\n",
       "    JupyterCommManager.prototype.get_client_comm = function(plot_id, comm_id, msg_handler) {\n",
       "      if (comm_id in window.PyViz.comms) {\n",
       "        return window.PyViz.comms[comm_id];\n",
       "      } else if (window.comm_manager || ((window.Jupyter !== undefined) && (Jupyter.notebook.kernel != null))) {\n",
       "        var comm_manager = window.comm_manager || Jupyter.notebook.kernel.comm_manager;\n",
       "        var comm = comm_manager.new_comm(comm_id, {}, {}, {}, comm_id);\n",
       "        if (msg_handler) {\n",
       "          comm.on_msg(msg_handler);\n",
       "        }\n",
       "      } else if ((plot_id in window.PyViz.kernels) && (window.PyViz.kernels[plot_id])) {\n",
       "        var comm = window.PyViz.kernels[plot_id].connectToComm(comm_id);\n",
       "        comm.open();\n",
       "        if (msg_handler) {\n",
       "          comm.onMsg = msg_handler;\n",
       "        }\n",
       "      } else if (typeof google != 'undefined' && google.colab.kernel != null) {\n",
       "        var comm_promise = google.colab.kernel.comms.open(comm_id)\n",
       "        comm_promise.then((comm) => {\n",
       "          window.PyViz.comms[comm_id] = comm;\n",
       "          if (msg_handler) {\n",
       "            var messages = comm.messages[Symbol.asyncIterator]();\n",
       "            function processIteratorResult(result) {\n",
       "              var message = result.value;\n",
       "              var content = {data: message.data};\n",
       "              var metadata = message.metadata || {comm_id};\n",
       "              var msg = {content, metadata}\n",
       "              msg_handler(msg);\n",
       "              return messages.next().then(processIteratorResult);\n",
       "            }\n",
       "            return messages.next().then(processIteratorResult);\n",
       "          }\n",
       "        }) \n",
       "        var sendClosure = (data, metadata, buffers, disposeOnDone) => {\n",
       "          return comm_promise.then((comm) => {\n",
       "            comm.send(data, metadata, buffers, disposeOnDone);\n",
       "          });\n",
       "        };\n",
       "        var comm = {\n",
       "          send: sendClosure\n",
       "        };\n",
       "      }\n",
       "      window.PyViz.comms[comm_id] = comm;\n",
       "      return comm;\n",
       "    }\n",
       "    window.PyViz.comm_manager = new JupyterCommManager();\n",
       "    \n",
       "\n",
       "\n",
       "var JS_MIME_TYPE = 'application/javascript';\n",
       "var HTML_MIME_TYPE = 'text/html';\n",
       "var EXEC_MIME_TYPE = 'application/vnd.holoviews_exec.v0+json';\n",
       "var CLASS_NAME = 'output';\n",
       "\n",
       "/**\n",
       " * Render data to the DOM node\n",
       " */\n",
       "function render(props, node) {\n",
       "  var div = document.createElement(\"div\");\n",
       "  var script = document.createElement(\"script\");\n",
       "  node.appendChild(div);\n",
       "  node.appendChild(script);\n",
       "}\n",
       "\n",
       "/**\n",
       " * Handle when a new output is added\n",
       " */\n",
       "function handle_add_output(event, handle) {\n",
       "  var output_area = handle.output_area;\n",
       "  var output = handle.output;\n",
       "  if ((output.data == undefined) || (!output.data.hasOwnProperty(EXEC_MIME_TYPE))) {\n",
       "    return\n",
       "  }\n",
       "  var id = output.metadata[EXEC_MIME_TYPE][\"id\"];\n",
       "  var toinsert = output_area.element.find(\".\" + CLASS_NAME.split(' ')[0]);\n",
       "  if (id !== undefined) {\n",
       "    var nchildren = toinsert.length;\n",
       "    var html_node = toinsert[nchildren-1].children[0];\n",
       "    html_node.innerHTML = output.data[HTML_MIME_TYPE];\n",
       "    var scripts = [];\n",
       "    var nodelist = html_node.querySelectorAll(\"script\");\n",
       "    for (var i in nodelist) {\n",
       "      if (nodelist.hasOwnProperty(i)) {\n",
       "        scripts.push(nodelist[i])\n",
       "      }\n",
       "    }\n",
       "\n",
       "    scripts.forEach( function (oldScript) {\n",
       "      var newScript = document.createElement(\"script\");\n",
       "      var attrs = [];\n",
       "      var nodemap = oldScript.attributes;\n",
       "      for (var j in nodemap) {\n",
       "        if (nodemap.hasOwnProperty(j)) {\n",
       "          attrs.push(nodemap[j])\n",
       "        }\n",
       "      }\n",
       "      attrs.forEach(function(attr) { newScript.setAttribute(attr.name, attr.value) });\n",
       "      newScript.appendChild(document.createTextNode(oldScript.innerHTML));\n",
       "      oldScript.parentNode.replaceChild(newScript, oldScript);\n",
       "    });\n",
       "    if (JS_MIME_TYPE in output.data) {\n",
       "      toinsert[nchildren-1].children[1].textContent = output.data[JS_MIME_TYPE];\n",
       "    }\n",
       "    output_area._hv_plot_id = id;\n",
       "    if ((window.Bokeh !== undefined) && (id in Bokeh.index)) {\n",
       "      window.PyViz.plot_index[id] = Bokeh.index[id];\n",
       "    } else {\n",
       "      window.PyViz.plot_index[id] = null;\n",
       "    }\n",
       "  } else if (output.metadata[EXEC_MIME_TYPE][\"server_id\"] !== undefined) {\n",
       "    var bk_div = document.createElement(\"div\");\n",
       "    bk_div.innerHTML = output.data[HTML_MIME_TYPE];\n",
       "    var script_attrs = bk_div.children[0].attributes;\n",
       "    for (var i = 0; i < script_attrs.length; i++) {\n",
       "      toinsert[toinsert.length - 1].childNodes[1].setAttribute(script_attrs[i].name, script_attrs[i].value);\n",
       "    }\n",
       "    // store reference to server id on output_area\n",
       "    output_area._bokeh_server_id = output.metadata[EXEC_MIME_TYPE][\"server_id\"];\n",
       "  }\n",
       "}\n",
       "\n",
       "/**\n",
       " * Handle when an output is cleared or removed\n",
       " */\n",
       "function handle_clear_output(event, handle) {\n",
       "  var id = handle.cell.output_area._hv_plot_id;\n",
       "  var server_id = handle.cell.output_area._bokeh_server_id;\n",
       "  if (((id === undefined) || !(id in PyViz.plot_index)) && (server_id !== undefined)) { return; }\n",
       "  var comm = window.PyViz.comm_manager.get_client_comm(\"hv-extension-comm\", \"hv-extension-comm\", function () {});\n",
       "  if (server_id !== null) {\n",
       "    comm.send({event_type: 'server_delete', 'id': server_id});\n",
       "    return;\n",
       "  } else if (comm !== null) {\n",
       "    comm.send({event_type: 'delete', 'id': id});\n",
       "  }\n",
       "  delete PyViz.plot_index[id];\n",
       "  if ((window.Bokeh !== undefined) & (id in window.Bokeh.index)) {\n",
       "    var doc = window.Bokeh.index[id].model.document\n",
       "    doc.clear();\n",
       "    const i = window.Bokeh.documents.indexOf(doc);\n",
       "    if (i > -1) {\n",
       "      window.Bokeh.documents.splice(i, 1);\n",
       "    }\n",
       "  }\n",
       "}\n",
       "\n",
       "/**\n",
       " * Handle kernel restart event\n",
       " */\n",
       "function handle_kernel_cleanup(event, handle) {\n",
       "  delete PyViz.comms[\"hv-extension-comm\"];\n",
       "  window.PyViz.plot_index = {}\n",
       "}\n",
       "\n",
       "/**\n",
       " * Handle update_display_data messages\n",
       " */\n",
       "function handle_update_output(event, handle) {\n",
       "  handle_clear_output(event, {cell: {output_area: handle.output_area}})\n",
       "  handle_add_output(event, handle)\n",
       "}\n",
       "\n",
       "function register_renderer(events, OutputArea) {\n",
       "  function append_mime(data, metadata, element) {\n",
       "    // create a DOM node to render to\n",
       "    var toinsert = this.create_output_subarea(\n",
       "    metadata,\n",
       "    CLASS_NAME,\n",
       "    EXEC_MIME_TYPE\n",
       "    );\n",
       "    this.keyboard_manager.register_events(toinsert);\n",
       "    // Render to node\n",
       "    var props = {data: data, metadata: metadata[EXEC_MIME_TYPE]};\n",
       "    render(props, toinsert[0]);\n",
       "    element.append(toinsert);\n",
       "    return toinsert\n",
       "  }\n",
       "\n",
       "  events.on('output_added.OutputArea', handle_add_output);\n",
       "  events.on('output_updated.OutputArea', handle_update_output);\n",
       "  events.on('clear_output.CodeCell', handle_clear_output);\n",
       "  events.on('delete.Cell', handle_clear_output);\n",
       "  events.on('kernel_ready.Kernel', handle_kernel_cleanup);\n",
       "\n",
       "  OutputArea.prototype.register_mime_type(EXEC_MIME_TYPE, append_mime, {\n",
       "    safe: true,\n",
       "    index: 0\n",
       "  });\n",
       "}\n",
       "\n",
       "if (window.Jupyter !== undefined) {\n",
       "  try {\n",
       "    var events = require('base/js/events');\n",
       "    var OutputArea = require('notebook/js/outputarea').OutputArea;\n",
       "    if (OutputArea.prototype.mime_types().indexOf(EXEC_MIME_TYPE) == -1) {\n",
       "      register_renderer(events, OutputArea);\n",
       "    }\n",
       "  } catch(err) {\n",
       "  }\n",
       "}\n"
      ],
      "application/vnd.holoviews_load.v0+json": "\nif ((window.PyViz === undefined) || (window.PyViz instanceof HTMLElement)) {\n  window.PyViz = {comms: {}, comm_status:{}, kernels:{}, receivers: {}, plot_index: []}\n}\n\n\n    function JupyterCommManager() {\n    }\n\n    JupyterCommManager.prototype.register_target = function(plot_id, comm_id, msg_handler) {\n      if (window.comm_manager || ((window.Jupyter !== undefined) && (Jupyter.notebook.kernel != null))) {\n        var comm_manager = window.comm_manager || Jupyter.notebook.kernel.comm_manager;\n        comm_manager.register_target(comm_id, function(comm) {\n          comm.on_msg(msg_handler);\n        });\n      } else if ((plot_id in window.PyViz.kernels) && (window.PyViz.kernels[plot_id])) {\n        window.PyViz.kernels[plot_id].registerCommTarget(comm_id, function(comm) {\n          comm.onMsg = msg_handler;\n        });\n      } else if (typeof google != 'undefined' && google.colab.kernel != null) {\n        google.colab.kernel.comms.registerTarget(comm_id, (comm) => {\n          var messages = comm.messages[Symbol.asyncIterator]();\n          function processIteratorResult(result) {\n            var message = result.value;\n            console.log(message)\n            var content = {data: message.data, comm_id};\n            var buffers = []\n            for (var buffer of message.buffers || []) {\n              buffers.push(new DataView(buffer))\n            }\n            var metadata = message.metadata || {};\n            var msg = {content, buffers, metadata}\n            msg_handler(msg);\n            return messages.next().then(processIteratorResult);\n          }\n          return messages.next().then(processIteratorResult);\n        })\n      }\n    }\n\n    JupyterCommManager.prototype.get_client_comm = function(plot_id, comm_id, msg_handler) {\n      if (comm_id in window.PyViz.comms) {\n        return window.PyViz.comms[comm_id];\n      } else if (window.comm_manager || ((window.Jupyter !== undefined) && (Jupyter.notebook.kernel != null))) {\n        var comm_manager = window.comm_manager || Jupyter.notebook.kernel.comm_manager;\n        var comm = comm_manager.new_comm(comm_id, {}, {}, {}, comm_id);\n        if (msg_handler) {\n          comm.on_msg(msg_handler);\n        }\n      } else if ((plot_id in window.PyViz.kernels) && (window.PyViz.kernels[plot_id])) {\n        var comm = window.PyViz.kernels[plot_id].connectToComm(comm_id);\n        comm.open();\n        if (msg_handler) {\n          comm.onMsg = msg_handler;\n        }\n      } else if (typeof google != 'undefined' && google.colab.kernel != null) {\n        var comm_promise = google.colab.kernel.comms.open(comm_id)\n        comm_promise.then((comm) => {\n          window.PyViz.comms[comm_id] = comm;\n          if (msg_handler) {\n            var messages = comm.messages[Symbol.asyncIterator]();\n            function processIteratorResult(result) {\n              var message = result.value;\n              var content = {data: message.data};\n              var metadata = message.metadata || {comm_id};\n              var msg = {content, metadata}\n              msg_handler(msg);\n              return messages.next().then(processIteratorResult);\n            }\n            return messages.next().then(processIteratorResult);\n          }\n        }) \n        var sendClosure = (data, metadata, buffers, disposeOnDone) => {\n          return comm_promise.then((comm) => {\n            comm.send(data, metadata, buffers, disposeOnDone);\n          });\n        };\n        var comm = {\n          send: sendClosure\n        };\n      }\n      window.PyViz.comms[comm_id] = comm;\n      return comm;\n    }\n    window.PyViz.comm_manager = new JupyterCommManager();\n    \n\n\nvar JS_MIME_TYPE = 'application/javascript';\nvar HTML_MIME_TYPE = 'text/html';\nvar EXEC_MIME_TYPE = 'application/vnd.holoviews_exec.v0+json';\nvar CLASS_NAME = 'output';\n\n/**\n * Render data to the DOM node\n */\nfunction render(props, node) {\n  var div = document.createElement(\"div\");\n  var script = document.createElement(\"script\");\n  node.appendChild(div);\n  node.appendChild(script);\n}\n\n/**\n * Handle when a new output is added\n */\nfunction handle_add_output(event, handle) {\n  var output_area = handle.output_area;\n  var output = handle.output;\n  if ((output.data == undefined) || (!output.data.hasOwnProperty(EXEC_MIME_TYPE))) {\n    return\n  }\n  var id = output.metadata[EXEC_MIME_TYPE][\"id\"];\n  var toinsert = output_area.element.find(\".\" + CLASS_NAME.split(' ')[0]);\n  if (id !== undefined) {\n    var nchildren = toinsert.length;\n    var html_node = toinsert[nchildren-1].children[0];\n    html_node.innerHTML = output.data[HTML_MIME_TYPE];\n    var scripts = [];\n    var nodelist = html_node.querySelectorAll(\"script\");\n    for (var i in nodelist) {\n      if (nodelist.hasOwnProperty(i)) {\n        scripts.push(nodelist[i])\n      }\n    }\n\n    scripts.forEach( function (oldScript) {\n      var newScript = document.createElement(\"script\");\n      var attrs = [];\n      var nodemap = oldScript.attributes;\n      for (var j in nodemap) {\n        if (nodemap.hasOwnProperty(j)) {\n          attrs.push(nodemap[j])\n        }\n      }\n      attrs.forEach(function(attr) { newScript.setAttribute(attr.name, attr.value) });\n      newScript.appendChild(document.createTextNode(oldScript.innerHTML));\n      oldScript.parentNode.replaceChild(newScript, oldScript);\n    });\n    if (JS_MIME_TYPE in output.data) {\n      toinsert[nchildren-1].children[1].textContent = output.data[JS_MIME_TYPE];\n    }\n    output_area._hv_plot_id = id;\n    if ((window.Bokeh !== undefined) && (id in Bokeh.index)) {\n      window.PyViz.plot_index[id] = Bokeh.index[id];\n    } else {\n      window.PyViz.plot_index[id] = null;\n    }\n  } else if (output.metadata[EXEC_MIME_TYPE][\"server_id\"] !== undefined) {\n    var bk_div = document.createElement(\"div\");\n    bk_div.innerHTML = output.data[HTML_MIME_TYPE];\n    var script_attrs = bk_div.children[0].attributes;\n    for (var i = 0; i < script_attrs.length; i++) {\n      toinsert[toinsert.length - 1].childNodes[1].setAttribute(script_attrs[i].name, script_attrs[i].value);\n    }\n    // store reference to server id on output_area\n    output_area._bokeh_server_id = output.metadata[EXEC_MIME_TYPE][\"server_id\"];\n  }\n}\n\n/**\n * Handle when an output is cleared or removed\n */\nfunction handle_clear_output(event, handle) {\n  var id = handle.cell.output_area._hv_plot_id;\n  var server_id = handle.cell.output_area._bokeh_server_id;\n  if (((id === undefined) || !(id in PyViz.plot_index)) && (server_id !== undefined)) { return; }\n  var comm = window.PyViz.comm_manager.get_client_comm(\"hv-extension-comm\", \"hv-extension-comm\", function () {});\n  if (server_id !== null) {\n    comm.send({event_type: 'server_delete', 'id': server_id});\n    return;\n  } else if (comm !== null) {\n    comm.send({event_type: 'delete', 'id': id});\n  }\n  delete PyViz.plot_index[id];\n  if ((window.Bokeh !== undefined) & (id in window.Bokeh.index)) {\n    var doc = window.Bokeh.index[id].model.document\n    doc.clear();\n    const i = window.Bokeh.documents.indexOf(doc);\n    if (i > -1) {\n      window.Bokeh.documents.splice(i, 1);\n    }\n  }\n}\n\n/**\n * Handle kernel restart event\n */\nfunction handle_kernel_cleanup(event, handle) {\n  delete PyViz.comms[\"hv-extension-comm\"];\n  window.PyViz.plot_index = {}\n}\n\n/**\n * Handle update_display_data messages\n */\nfunction handle_update_output(event, handle) {\n  handle_clear_output(event, {cell: {output_area: handle.output_area}})\n  handle_add_output(event, handle)\n}\n\nfunction register_renderer(events, OutputArea) {\n  function append_mime(data, metadata, element) {\n    // create a DOM node to render to\n    var toinsert = this.create_output_subarea(\n    metadata,\n    CLASS_NAME,\n    EXEC_MIME_TYPE\n    );\n    this.keyboard_manager.register_events(toinsert);\n    // Render to node\n    var props = {data: data, metadata: metadata[EXEC_MIME_TYPE]};\n    render(props, toinsert[0]);\n    element.append(toinsert);\n    return toinsert\n  }\n\n  events.on('output_added.OutputArea', handle_add_output);\n  events.on('output_updated.OutputArea', handle_update_output);\n  events.on('clear_output.CodeCell', handle_clear_output);\n  events.on('delete.Cell', handle_clear_output);\n  events.on('kernel_ready.Kernel', handle_kernel_cleanup);\n\n  OutputArea.prototype.register_mime_type(EXEC_MIME_TYPE, append_mime, {\n    safe: true,\n    index: 0\n  });\n}\n\nif (window.Jupyter !== undefined) {\n  try {\n    var events = require('base/js/events');\n    var OutputArea = require('notebook/js/outputarea').OutputArea;\n    if (OutputArea.prototype.mime_types().indexOf(EXEC_MIME_TYPE) == -1) {\n      register_renderer(events, OutputArea);\n    }\n  } catch(err) {\n  }\n}\n"
     },
     "metadata": {},
     "output_type": "display_data"
    },
    {
     "name": "stderr",
     "output_type": "stream",
     "text": [
      "/home/users/brezovec/.local/lib/python3.6/site-packages/ants/viz/render_surface_function.py:16: UserWarning: Cant import Plotly. Install it `pip install chart_studio` if you want to use ants.render_surface_function\n",
      "  \"Cant import Plotly. Install it `pip install chart_studio` if you want to use ants.render_surface_function\"\n"
     ]
    }
   ],
   "source": [
    "from neuprint import Client\n",
    "from neuprint import NeuronCriteria as NC\n",
    "from neuprint import fetch_neurons\n",
    "from neuprint import fetch_adjacencies\n",
    "from neuprint.utils import connection_table_to_matrix\n",
    "import bokeh.palettes\n",
    "from bokeh.plotting import figure, show, output_notebook\n",
    "output_notebook()\n",
    "import hvplot.pandas\n",
    "import holoviews as hv\n",
    "import numpy as np\n",
    "import pandas as pd\n",
    "import ants\n",
    "import nibabel as nib\n",
    "import os\n",
    "import pickle\n",
    "import scipy\n",
    "import matplotlib\n",
    "import matplotlib.pyplot as plt\n",
    "from mpl_toolkits.axes_grid1 import ImageGrid\n",
    "%matplotlib inline\n",
    "import warnings\n",
    "warnings.filterwarnings(\"ignore\")\n",
    "import networkx as nx\n",
    "from fa2 import ForceAtlas2\n",
    "from nxviz import CircosPlot\n",
    "import nxviz as nv\n",
    "import tqdm\n",
    "import time\n",
    "from scipy.ndimage.morphology import binary_erosion\n",
    "from scipy.ndimage.morphology import binary_dilation\n",
    "from sklearn.cluster import AgglomerativeClustering\n",
    "from scipy.cluster.hierarchy import dendrogram\n",
    "from scipy.cluster.hierarchy import fcluster\n",
    "from scipy.cluster import hierarchy\n",
    "from scipy.fftpack import fft,fftshift,ifft\n",
    "from scipy import signal\n",
    "import bigbadbrain as bbb\n",
    "from scipy.ndimage.filters import gaussian_filter1d\n",
    "import matplotlib.colors as mcolors\n",
    "import brainsss\n",
    "import cv2\n",
    "from sklearn.linear_model import RidgeCV"
   ]
  },
  {
   "cell_type": "code",
   "execution_count": 3,
   "metadata": {
    "collapsed": true
   },
   "outputs": [],
   "source": [
    "cluster_dir = \"/oak/stanford/groups/trc/data/Brezovec/2P_Imaging/20221109_cluster_pca/\""
   ]
  },
  {
   "cell_type": "code",
   "execution_count": 5,
   "metadata": {
    "collapsed": true
   },
   "outputs": [],
   "source": [
    "file = os.path.join(cluster_dir, 'superclusters_more.npy')\n",
    "superclusters = np.load(file)\n",
    "#with 249 there will be clusters 1-250 inclusive (len=250). cluster 140 is background\n",
    "superclusters_250 = superclusters[:,:,:,249]\n",
    "# right brain gets +250 to cluster ID so now 500 clusters\n",
    "superclusters_250[157:,:,:] += 250"
   ]
  },
  {
   "cell_type": "code",
   "execution_count": 6,
   "metadata": {},
   "outputs": [
    {
     "name": "stdout",
     "output_type": "stream",
     "text": [
      "(9, 314, 146, 91, 3)\n",
      "(9, 314, 146, 91, 3)\n"
     ]
    },
    {
     "name": "stderr",
     "output_type": "stream",
     "text": [
      "100%|██████████| 501/501 [00:12<00:00, 40.90it/s]"
     ]
    },
    {
     "name": "stdout",
     "output_type": "stream",
     "text": [
      "(501, 9, 6)\n"
     ]
    },
    {
     "name": "stderr",
     "output_type": "stream",
     "text": [
      "\n"
     ]
    }
   ],
   "source": [
    "#################\n",
    "### GLM INDIV ###\n",
    "#################\n",
    "\n",
    "file = os.path.join(cluster_dir, \"20221127_singles_glm_indiv_FDA.npy\")\n",
    "singles_glm_indiv = np.load(file)\n",
    "print(singles_glm_indiv.shape)\n",
    "\n",
    "file = os.path.join(cluster_dir, \"20221127_unique_glm_indiv_FDA.npy\")\n",
    "unique_glm_indiv = np.load(file)\n",
    "print(unique_glm_indiv.shape)\n",
    "\n",
    "glm = np.concatenate((singles_glm_indiv, unique_glm_indiv),axis=-1)\n",
    "\n",
    "supercluster_glm_indiv = []\n",
    "for cluster in tqdm.tqdm(range(501)):\n",
    "    ind = np.where(superclusters_250==cluster)\n",
    "    supercluster_glm_indiv.append(np.mean(glm[:,ind[0],ind[1],ind[2],:],axis=1))\n",
    "supercluster_glm_indiv = np.asarray(supercluster_glm_indiv)\n",
    "print(supercluster_glm_indiv.shape)\n",
    "supercluster_glm_indiv = np.reshape(supercluster_glm_indiv,(501, 9, 6))\n",
    "supercluster_glm_indiv = np.reshape(supercluster_glm_indiv,(501,9,2,3))"
   ]
  },
  {
   "cell_type": "code",
   "execution_count": 43,
   "metadata": {},
   "outputs": [
    {
     "data": {
      "text/plain": [
       "(501, 9, 2, 3)"
      ]
     },
     "execution_count": 43,
     "metadata": {},
     "output_type": "execute_result"
    }
   ],
   "source": [
    "supercluster_glm_indiv.shape"
   ]
  },
  {
   "cell_type": "code",
   "execution_count": 44,
   "metadata": {},
   "outputs": [
    {
     "data": {
      "text/plain": [
       "(501, 2, 3)"
      ]
     },
     "execution_count": 44,
     "metadata": {},
     "output_type": "execute_result"
    }
   ],
   "source": [
    "supercluster_glm_indiv_mean = np.mean(supercluster_glm_indiv,axis=1)\n",
    "supercluster_glm_indiv_mean.shape"
   ]
  },
  {
   "cell_type": "code",
   "execution_count": 35,
   "metadata": {},
   "outputs": [
    {
     "data": {
      "text/plain": [
       "(9, 314, 146, 91, 3)"
      ]
     },
     "execution_count": 35,
     "metadata": {},
     "output_type": "execute_result"
    }
   ],
   "source": [
    "unique_glm_indiv.shape"
   ]
  },
  {
   "cell_type": "code",
   "execution_count": 37,
   "metadata": {
    "collapsed": true
   },
   "outputs": [],
   "source": [
    "corr_map = np.mean(unique_glm_indiv,axis=0)"
   ]
  },
  {
   "cell_type": "code",
   "execution_count": 36,
   "metadata": {},
   "outputs": [
    {
     "data": {
      "text/plain": [
       "(314, 146, 91, 3)"
      ]
     },
     "execution_count": 36,
     "metadata": {},
     "output_type": "execute_result"
    }
   ],
   "source": [
    "corr_map.shape"
   ]
  },
  {
   "cell_type": "code",
   "execution_count": 45,
   "metadata": {},
   "outputs": [
    {
     "data": {
      "text/plain": [
       "(314, 146, 91)"
      ]
     },
     "execution_count": 45,
     "metadata": {},
     "output_type": "execute_result"
    }
   ],
   "source": [
    "superclusters_250.shape"
   ]
  },
  {
   "cell_type": "code",
   "execution_count": 46,
   "metadata": {
    "collapsed": true
   },
   "outputs": [],
   "source": [
    "empty = np.zeros((314, 146, 91, 3))\n",
    "for cluster in range(501):\n",
    "    ind = np.where(superclusters_250==cluster)\n",
    "    empty[ind[0],ind[1],ind[2]] = supercluster_glm_indiv_mean[cluster,1,:]#np.argmax(temporal_v1[cluster,:500])"
   ]
  },
  {
   "cell_type": "code",
   "execution_count": 47,
   "metadata": {},
   "outputs": [
    {
     "data": {
      "text/plain": [
       "(314, 146, 91, 3)"
      ]
     },
     "execution_count": 47,
     "metadata": {},
     "output_type": "execute_result"
    }
   ],
   "source": [
    "corr_map = empty*2\n",
    "corr_map.shape"
   ]
  },
  {
   "cell_type": "markdown",
   "metadata": {},
   "source": [
    "# Version where I run GLM on supercluster raw signals"
   ]
  },
  {
   "cell_type": "code",
   "execution_count": 49,
   "metadata": {},
   "outputs": [
    {
     "data": {
      "text/plain": [
       "(501, 30456)"
      ]
     },
     "execution_count": 49,
     "metadata": {},
     "output_type": "execute_result"
    }
   ],
   "source": [
    "file = os.path.join(cluster_dir,\"20221122_full_supercluster_recordings_250_hemi_doubled.npy\")\n",
    "supercluster_signals = np.load(file)\n",
    "supercluster_signals.shape"
   ]
  },
  {
   "cell_type": "code",
   "execution_count": 50,
   "metadata": {},
   "outputs": [
    {
     "name": "stdout",
     "output_type": "stream",
     "text": [
      "(30456,)\n",
      "(30456,)\n"
     ]
    }
   ],
   "source": [
    "file = os.path.join(cluster_dir,\"20221122_behavior_fwd.npy\")\n",
    "beh_fwd = np.load(file)\n",
    "print(beh_fwd.shape)\n",
    "\n",
    "file = os.path.join(cluster_dir,\"20221122_behavior_turn.npy\")\n",
    "beh_turn = np.load(file)\n",
    "print(beh_turn.shape)\n",
    "\n",
    "behavior_super = {}\n",
    "behavior_super['Y_pos_std'] = beh_fwd\n",
    "behavior_super['Z_pos_std'] = np.clip(beh_turn,0,None)\n",
    "behavior_super['Z_neg_std'] = np.clip(beh_turn,None,0)*-1"
   ]
  },
  {
   "cell_type": "code",
   "execution_count": 69,
   "metadata": {},
   "outputs": [
    {
     "name": "stderr",
     "output_type": "stream",
     "text": [
      "100%|██████████| 501/501 [00:19<00:00, 25.88it/s]\n"
     ]
    }
   ],
   "source": [
    "scores_all = []\n",
    "\n",
    "scores_walking = []\n",
    "scores_ypos = []\n",
    "scores_zpos = []\n",
    "scores_zneg = []\n",
    "\n",
    "scores_walking_unique = []\n",
    "scores_ypos_unique = []\n",
    "scores_zpos_unique = []\n",
    "scores_zneg_unique = []\n",
    "\n",
    "ypos = behavior_super['Y_pos_std']\n",
    "zpos = behavior_super['Z_pos_std']\n",
    "zneg = behavior_super['Z_neg_std']\n",
    "\n",
    "for cluster_num in tqdm.tqdm(range(501)):\n",
    "    Y = supercluster_signals[cluster_num,:]\n",
    "    \n",
    "    ### ALL ###\n",
    "    X = np.stack((ypos, zpos, zneg)).T\n",
    "    model = RidgeCV().fit(X,Y)\n",
    "    scores_all.append(np.sqrt(model.score(X,Y)))\n",
    "\n",
    "    ### Singles ###\n",
    "    X = np.reshape(ypos, (-1, 1))\n",
    "    model = RidgeCV().fit(X,Y)\n",
    "    scores_ypos.append(np.sqrt(model.score(X,Y)))\n",
    "\n",
    "    X = np.reshape(zpos, (-1, 1))\n",
    "    model = RidgeCV().fit(X,Y)\n",
    "    scores_zpos.append(np.sqrt(model.score(X,Y)))\n",
    "\n",
    "    X = np.reshape(zneg, (-1, 1))\n",
    "    model = RidgeCV().fit(X,Y)\n",
    "    scores_zneg.append(np.sqrt(model.score(X,Y)))\n",
    "\n",
    "    ### LOO ###\n",
    "\n",
    "    X = np.stack((zpos, zneg)).T\n",
    "    model = RidgeCV().fit(X,Y)\n",
    "    scores_ypos_unique.append(np.sqrt(model.score(X,Y)))\n",
    "\n",
    "    X = np.stack((ypos, zneg)).T\n",
    "    model = RidgeCV().fit(X,Y)\n",
    "    scores_zpos_unique.append(np.sqrt(model.score(X,Y)))\n",
    "\n",
    "    X = np.stack((ypos, zpos)).T\n",
    "    model = RidgeCV().fit(X,Y)\n",
    "    scores_zneg_unique.append(np.sqrt(model.score(X,Y)))\n",
    "\n",
    "scores = {'scores_all':scores_all,\n",
    "         'scores_ypos':scores_ypos,\n",
    "         'scores_zpos':scores_zpos,\n",
    "         'scores_zneg':scores_zneg,\n",
    "         'scores_ypos_unique':scores_ypos_unique,\n",
    "         'scores_zpos_unique':scores_zpos_unique,\n",
    "         'scores_zneg_unique':scores_zneg_unique}"
   ]
  },
  {
   "cell_type": "code",
   "execution_count": 56,
   "metadata": {},
   "outputs": [
    {
     "data": {
      "text/plain": [
       "501"
      ]
     },
     "execution_count": 56,
     "metadata": {},
     "output_type": "execute_result"
    }
   ],
   "source": [
    "len(scores['scores_all'])"
   ]
  },
  {
   "cell_type": "code",
   "execution_count": 80,
   "metadata": {},
   "outputs": [],
   "source": [
    "scores1='scores_all'\n",
    "uniques = ['scores_ypos_unique', 'scores_zpos_unique', 'scores_zneg_unique']\n",
    "maps = {}\n",
    "\n",
    "for unique in uniques:\n",
    "    values = np.asarray(scores['scores_all']) - np.asarray(scores[unique])\n",
    "    \n",
    "    empty = np.zeros((314, 146, 91))\n",
    "    for cluster in range(501):\n",
    "        ind = np.where(superclusters_250==cluster)\n",
    "        empty[ind[0],ind[1],ind[2]] = values[cluster]/len(ind[0])#np.argmax(temporal_v1[cluster,:500])\n",
    "    maps[unique] = empty"
   ]
  },
  {
   "cell_type": "code",
   "execution_count": 59,
   "metadata": {},
   "outputs": [
    {
     "data": {
      "text/plain": [
       "(314, 146, 91)"
      ]
     },
     "execution_count": 59,
     "metadata": {},
     "output_type": "execute_result"
    }
   ],
   "source": [
    "maps['scores_ypos_unique'].shape"
   ]
  },
  {
   "cell_type": "code",
   "execution_count": 81,
   "metadata": {
    "collapsed": true
   },
   "outputs": [],
   "source": [
    "corr_map = np.zeros((314, 146, 91, 3))\n",
    "corr_map[...,0] = maps['scores_zneg_unique']\n",
    "corr_map[...,1] = maps['scores_zpos_unique']\n",
    "corr_map[...,2] = maps['scores_ypos_unique']"
   ]
  },
  {
   "cell_type": "code",
   "execution_count": 82,
   "metadata": {
    "collapsed": true
   },
   "outputs": [],
   "source": [
    "corr_map*=2/5"
   ]
  },
  {
   "cell_type": "markdown",
   "metadata": {},
   "source": [
    "# load and process OG paper pooled version"
   ]
  },
  {
   "cell_type": "code",
   "execution_count": 7,
   "metadata": {
    "collapsed": true
   },
   "outputs": [],
   "source": [
    "### Load Luke Mean ###\n",
    "luke_path = \"/oak/stanford/groups/trc/data/Brezovec/2P_Imaging/anat_templates/20210310_luke_exp_thresh.nii\"\n",
    "res_luke_mean = (0.65,0.65,1)\n",
    "luke_mean = np.asarray(nib.load(luke_path).get_data().squeeze(), dtype='float32')\n",
    "luke_mean = luke_mean[:,:,::-1] #flipz\n",
    "luke_mean = ants.from_numpy(luke_mean)\n",
    "luke_mean.set_spacing(res_luke_mean)\n",
    "luke_mean_lowres =  ants.resample_image(luke_mean,(256,128,49),use_voxels=True)\n",
    "\n",
    "### Load JFRC2018 ###\n",
    "fixed_path = \"/oak/stanford/groups/trc/data/Brezovec/2P_Imaging/anat_templates/JRC2018_FEMALE_38um_iso_16bit.nii\"\n",
    "res_JRC2018 = (0.38, 0.38, 0.38)\n",
    "fixed = np.asarray(nib.load(fixed_path).get_data().squeeze(), dtype='float32')\n",
    "fixed = ants.from_numpy(fixed)\n",
    "fixed.set_spacing(res_JRC2018)\n",
    "fixed_lowres = ants.resample_image(fixed,(2,2,2),use_voxels=False)\n",
    "\n",
    "### Load Atlas ###\n",
    "atlas_path = \"/oak/stanford/groups/trc/data/Brezovec/2P_Imaging/anat_templates/jfrc_2018_rois_improve_reorient_transformed.nii\"\n",
    "atlas = np.asarray(nib.load(atlas_path).get_data().squeeze(), dtype='float32')\n",
    "atlas = ants.from_numpy(atlas)\n",
    "atlas.set_spacing((.76,.76,.76))\n",
    "atlas = ants.resample_image(atlas,(2,2,2),use_voxels=False)"
   ]
  },
  {
   "cell_type": "code",
   "execution_count": 8,
   "metadata": {
    "collapsed": true
   },
   "outputs": [],
   "source": [
    "### Load supervoxel labels ###\n",
    "n_clusters = 2000\n",
    "labels_file = '/oak/stanford/groups/trc/data/Brezovec/2P_Imaging/20201129_super_slices/cluster_labels.npy'\n",
    "cluster_model_labels = np.load(labels_file)"
   ]
  },
  {
   "cell_type": "code",
   "execution_count": 9,
   "metadata": {
    "collapsed": true
   },
   "outputs": [],
   "source": [
    "### Load GLM output\n",
    "main_dir = f'/oak/stanford/groups/trc/data/Brezovec/2P_Imaging/20210208_inst_uniq_glm'\n",
    "\n",
    "### this is what I initially warped into FDA but probably want the other one\n",
    "#main_dir = f'/oak/stanford/groups/trc/data/Brezovec/2P_Imaging/20210309_inst_uniq_glm_state_sub'\n",
    "\n",
    "all_scores = []\n",
    "for z in range(9,49-9):\n",
    "    file = [os.path.join(main_dir, i) for i in os.listdir(main_dir) if f'Z{z}.' in i][0]\n",
    "    with open(file, 'rb') as handle:\n",
    "        scores = pickle.load(handle)\n",
    "    all_scores.append(scores)"
   ]
  },
  {
   "cell_type": "code",
   "execution_count": 25,
   "metadata": {
    "collapsed": true
   },
   "outputs": [],
   "source": [
    "scores1='scores_all'\n",
    "uniques = ['scores_ypos_unique', 'scores_zpos_unique', 'scores_zneg_unique']\n",
    "maps = {}\n",
    "\n",
    "for unique in uniques:\n",
    "    all_colored_by_betas = []\n",
    "    for z in range(9,49-9):\n",
    "        colored_by_betas = np.zeros(256*128)\n",
    "        for cluster_num in range(len(np.unique(cluster_model_labels[z]))):\n",
    "            cluster_indicies = np.where(cluster_model_labels[z]==cluster_num)[0]\n",
    "            colored_by_betas[cluster_indicies] = all_scores[z-9][scores1][cluster_num] - all_scores[z-9][unique][cluster_num]\n",
    "\n",
    "            if len(cluster_indicies) > 100:\n",
    "                colored_by_betas[cluster_indicies] = 0\n",
    "            if colored_by_betas[cluster_indicies][0] == 1:\n",
    "                colored_by_betas[cluster_indicies] = 0\n",
    "        colored_by_betas = colored_by_betas.reshape(256,128)\n",
    "        all_colored_by_betas.append(colored_by_betas)\n",
    "    all_colored_by_betas = np.asarray(all_colored_by_betas)\n",
    "    maps[unique] = all_colored_by_betas\n",
    "\n",
    "############################################\n",
    "### Put into plotting format with colors ###\n",
    "############################################\n",
    "\n",
    "slices = []\n",
    "for z in range(49-18):\n",
    "    colors1 = maps['scores_zneg_unique'][z,:,:].T\n",
    "    colors2 = maps['scores_zpos_unique'][z,:,:].T\n",
    "    colors3 = maps['scores_ypos_unique'][z,:,:].T\n",
    "    to_plot = np.stack((colors1,colors2,colors3),axis=2)\n",
    "    slices.append(to_plot)\n",
    "slices = np.asarray(slices)\n",
    "slices = np.swapaxes(slices, 1,2)\n",
    "# func = np.swapaxes(slices, 0, 2)\n",
    "# func.shape\n",
    "\n",
    "# res_LUKE = (2.6, 2.6, 5, 1)\n",
    "# moving = ants.from_numpy(func[:,:,::-1,:])\n",
    "# moving.set_spacing(res_LUKE)"
   ]
  },
  {
   "cell_type": "code",
   "execution_count": 26,
   "metadata": {},
   "outputs": [
    {
     "data": {
      "text/plain": [
       "(256, 128, 49, 3)"
      ]
     },
     "execution_count": 26,
     "metadata": {},
     "output_type": "execute_result"
    }
   ],
   "source": [
    "pad = np.zeros((9,256,128,3))\n",
    "all_colored_by_betas_full = np.concatenate((pad,slices,pad))\n",
    "all_colored_by_betas_full = np.moveaxis(all_colored_by_betas_full,0,2)\n",
    "all_colored_by_betas_full.shape"
   ]
  },
  {
   "cell_type": "code",
   "execution_count": 27,
   "metadata": {
    "collapsed": true
   },
   "outputs": [],
   "source": [
    "moving = ants.from_numpy(all_colored_by_betas_full[:,:,::-1,:])\n",
    "moving.set_spacing((2.6076, 2.6154, 5.3125,1)) ### matching this to the slightly off luke mean"
   ]
  },
  {
   "cell_type": "code",
   "execution_count": 15,
   "metadata": {
    "collapsed": true
   },
   "outputs": [],
   "source": [
    "out = ants.registration(fixed_lowres, luke_mean_lowres, type_of_transform='Affine')"
   ]
  },
  {
   "cell_type": "code",
   "execution_count": 28,
   "metadata": {
    "collapsed": true
   },
   "outputs": [],
   "source": [
    "maps_voxel_res = ants.apply_transforms(fixed_lowres, moving, out['fwdtransforms'][0], imagetype=3, interpolator='nearestNeighbor')"
   ]
  },
  {
   "cell_type": "code",
   "execution_count": 29,
   "metadata": {
    "collapsed": true
   },
   "outputs": [],
   "source": [
    "corr_map = maps_voxel_res.numpy()"
   ]
  },
  {
   "cell_type": "code",
   "execution_count": 30,
   "metadata": {},
   "outputs": [
    {
     "data": {
      "text/plain": [
       "(314, 146, 91, 3)"
      ]
     },
     "execution_count": 30,
     "metadata": {},
     "output_type": "execute_result"
    }
   ],
   "source": [
    "corr_map.shape"
   ]
  },
  {
   "cell_type": "code",
   "execution_count": 41,
   "metadata": {
    "collapsed": true
   },
   "outputs": [],
   "source": [
    "corr_map/=2"
   ]
  },
  {
   "cell_type": "code",
   "execution_count": 31,
   "metadata": {},
   "outputs": [
    {
     "data": {
      "text/plain": [
       "<matplotlib.image.AxesImage at 0x7f01fd164208>"
      ]
     },
     "execution_count": 31,
     "metadata": {},
     "output_type": "execute_result"
    },
    {
     "data": {
      "image/png": "[encoded data removed]",
      "text/plain": [
       "<Figure size 720x720 with 3 Axes>"
      ]
     },
     "metadata": {},
     "output_type": "display_data"
    }
   ],
   "source": [
    "z=50\n",
    "plt.figure(figsize=(10,10))\n",
    "plt.subplot(311)\n",
    "plt.imshow(corr_map[:,:,z,2].T)\n",
    "plt.subplot(312)\n",
    "plt.imshow(atlas[:,:,z].T)\n",
    "plt.subplot(313)\n",
    "plt.imshow(out['warpedmovout'][:,:,z].T)"
   ]
  },
  {
   "cell_type": "code",
   "execution_count": 20,
   "metadata": {},
   "outputs": [
    {
     "data": {
      "text/plain": [
       "(-0.5, 313.5, 145.5, -0.5)"
      ]
     },
     "execution_count": 20,
     "metadata": {},
     "output_type": "execute_result"
    },
    {
     "data": {
      "image/png": "[encoded data removed]",
      "text/plain": [
       "<Figure size 720x720 with 2 Axes>"
      ]
     },
     "metadata": {},
     "output_type": "display_data"
    }
   ],
   "source": [
    "atlas = atlas.numpy()\n",
    "atlas_int = np.rint(atlas)\n",
    "atlas_clean = np.copy(atlas_int)\n",
    "diff_atlas = atlas_int - atlas\n",
    "thresh = 0.001\n",
    "atlas_clean[np.where(np.abs(diff_atlas)>thresh)] = 0\n",
    "\n",
    "plt.figure(figsize=(10,10))\n",
    "plt.subplot(211)\n",
    "plt.imshow(atlas[:,:,50].T)\n",
    "plt.axis('off')\n",
    "\n",
    "plt.subplot(212)\n",
    "plt.imshow(atlas_clean[:,:,50].T)\n",
    "plt.axis('off')"
   ]
  },
  {
   "cell_type": "code",
   "execution_count": 21,
   "metadata": {
    "collapsed": true
   },
   "outputs": [],
   "source": [
    "####################################\n",
    "### FOR SINGLE MAP (ie, not RGB) ###\n",
    "####################################\n",
    "\n",
    "def plot_grouped_roi_image(rois,plot=True):\n",
    "    roi_data = []\n",
    "    roi_contours = []\n",
    "\n",
    "    left_edges = []\n",
    "    right_edges = []\n",
    "    bottom_edges = []\n",
    "    top_edges = []\n",
    "\n",
    "    for roi in rois:\n",
    "        ####################\n",
    "        ### Get roi mask ###\n",
    "        ####################\n",
    "\n",
    "        mask = np.zeros(atlas_clean.shape)\n",
    "        mask[np.where(atlas_clean == roi)] = 1\n",
    "\n",
    "        mask_eroded = binary_erosion(mask, structure=np.ones((2,2,2)))\n",
    "        mask_dilated = binary_dilation(mask_eroded, iterations=2)\n",
    "\n",
    "        # temporal\n",
    "        masked_roi = mask_dilated*temporal_map #CORR\n",
    "        masked_roi_flat = np.max(masked_roi,axis=2)\n",
    "        roi_data.append(masked_roi_flat)\n",
    "        \n",
    "        #PCA\n",
    "#         masked_roi = mask_dilated*pca_map\n",
    "#         maxs = np.max(masked_roi,axis=2)\n",
    "#         mins = np.min(masked_roi,axis=2)\n",
    "#         maxs[np.where(np.abs(mins)>maxs)] = mins[np.where(np.abs(mins)>maxs)]\n",
    "#         masked_roi_flat = maxs\n",
    "#         roi_data.append(masked_roi_flat)\n",
    "    \n",
    "        #######################\n",
    "        ### Get roi contour ###\n",
    "        #######################\n",
    "        \n",
    "        _, mask_binary = cv2.threshold(np.max(mask_dilated,axis=-1).astype('uint8'), 0, 1, cv2.THRESH_BINARY) \n",
    "        contours, _ = cv2.findContours(mask_binary, cv2.RETR_EXTERNAL, cv2.CHAIN_APPROX_SIMPLE)#cv2.RETR_TREE\n",
    "\n",
    "        canvas = np.ones(atlas_clean[:,:,0].shape)\n",
    "        out = cv2.drawContours(canvas, contours, -1, (0,255,0), 1)\n",
    "        out = np.abs(out-1) #flip 0/1\n",
    "        roi_contour = np.repeat(out[:,:,np.newaxis],repeats=4,axis=-1) ### copy into rgba channels to make white\n",
    "        roi_contours.append(roi_contour)\n",
    "\n",
    "        # for plotting\n",
    "        left_edges.append(np.where(np.sum(np.nan_to_num(roi_contour),axis=0)>0)[0][0])\n",
    "        right_edges.append(np.where(np.sum(np.nan_to_num(roi_contour),axis=0)>0)[0][-1])\n",
    "        top_edges.append(np.where(np.sum(np.nan_to_num(roi_contour),axis=1)>0)[0][0])\n",
    "        bottom_edges.append(np.where(np.sum(np.nan_to_num(roi_contour),axis=1)>0)[0][-1])\n",
    "        \n",
    "    # get extreme edges from all rois used\n",
    "    left_edge = np.min(left_edges) - 1\n",
    "    right_edge = np.max(right_edges) + 1\n",
    "    top_edge = np.min(top_edges) - 1\n",
    "    bottom_edge = np.max(bottom_edges) + 1\n",
    "\n",
    "    ############\n",
    "    ### PLOT ###\n",
    "    ############\n",
    "    \n",
    "    roi_datas = np.max(np.asarray(roi_data),axis=0)\n",
    "    data_map = np.swapaxes(roi_datas[top_edge:bottom_edge,left_edge:right_edge],0,1)\n",
    "    \n",
    "    #PCA\n",
    "#     roi_data = np.asarray(roi_data)\n",
    "#     maxs = np.max(roi_data,axis=0)\n",
    "#     mins = np.min(roi_data,axis=0)\n",
    "#     maxs[np.where(np.abs(mins)>maxs)] = mins[np.where(np.abs(mins)>maxs)]\n",
    "#     data_map = np.swapaxes(maxs[top_edge:bottom_edge,left_edge:right_edge],0,1)\n",
    "\n",
    "    if plot:\n",
    "        plt.figure(figsize=(10,10))\n",
    "        plt.imshow(data_map)\n",
    "\n",
    "    contours_to_export = []\n",
    "    for i in range(len(roi_contours)):\n",
    "        single_contour = np.swapaxes(roi_contours[i][top_edge:bottom_edge,left_edge:right_edge],0,1)\n",
    "        contours_to_export.append(single_contour)\n",
    "        if plot:\n",
    "            plt.imshow(single_contour)\n",
    "        \n",
    "    return data_map, contours_to_export\n",
    "\n",
    "def place_on_canvas(input_canvas, to_plot, is_contour=False, is_midline=True, x_shift=0, y_shift=0):\n",
    "    full_y_mid = int(input_canvas.shape[0]/2)\n",
    "    full_x_mid = int(input_canvas.shape[1]/2)\n",
    "\n",
    "    y_mid = int(to_plot.shape[0]/2)\n",
    "    x_mid = int(to_plot.shape[1]/2)\n",
    "\n",
    "    height = to_plot.shape[0]\n",
    "    width = to_plot.shape[1]\n",
    "\n",
    "    left = full_x_mid-x_mid\n",
    "    right = left + width\n",
    "\n",
    "    top = full_y_mid-y_mid\n",
    "    bottom = top + height\n",
    "\n",
    "    if is_contour:\n",
    "        ys = np.where(to_plot[:,:,0]>0)[0] + full_y_mid - y_mid + y_shift\n",
    "        xs = np.where(to_plot[:,:,0]>0)[1] + full_x_mid - x_mid + x_shift\n",
    "        input_canvas[ys,xs]=1\n",
    "    else:\n",
    "        #input_canvas[top+y_shift:bottom+y_shift,left+x_shift:right+x_shift,:3] = to_plot\n",
    "        input_canvas[top+y_shift:bottom+y_shift,left+x_shift:right+x_shift] = to_plot #pca\n",
    "    return input_canvas\n",
    "\n",
    "def place_on_canvas_wrapper(canvas, data_map, contours, y_shift, x_shift):\n",
    "    canvas = place_on_canvas(canvas, to_plot=data_map, y_shift=y_shift, x_shift=x_shift)\n",
    "    for i in range(len(contours)):\n",
    "        canvas = place_on_canvas(canvas, to_plot=contours[i], is_contour=True, y_shift=y_shift, x_shift=x_shift)\n",
    "    return canvas\n",
    "\n",
    "def wraper_wraper(canvas, roi_ids, y_shift, x_shift):\n",
    "    data_map, contours = plot_grouped_roi_image(roi_ids, plot=False)\n",
    "    canvas = place_on_canvas_wrapper(input_canvas, data_map, contours, y_shift=y_shift, x_shift=x_shift)\n",
    "    return canvas"
   ]
  },
  {
   "cell_type": "code",
   "execution_count": 22,
   "metadata": {
    "collapsed": true
   },
   "outputs": [],
   "source": [
    "###############\n",
    "### For RGB ###\n",
    "###############\n",
    "\n",
    "def plot_grouped_roi_image(rois,plot=True):\n",
    "    roi_data = []\n",
    "    roi_contours = []\n",
    "\n",
    "    left_edges = []\n",
    "    right_edges = []\n",
    "    bottom_edges = []\n",
    "    top_edges = []\n",
    "\n",
    "    for roi in rois:\n",
    "        ####################\n",
    "        ### Get roi mask ###\n",
    "        ####################\n",
    "\n",
    "        mask = np.zeros(atlas_clean.shape)\n",
    "        mask[np.where(atlas_clean == roi)] = 1\n",
    "\n",
    "        mask_eroded = binary_erosion(mask, structure=np.ones((2,2,2)))\n",
    "        mask_dilated = binary_dilation(mask_eroded, iterations=2)\n",
    "\n",
    "        masked_roi = mask_dilated[...,np.newaxis]*corr_map\n",
    "\n",
    "#         # for plotting\n",
    "#         left_edges.append(np.where(np.sum(np.nan_to_num(masked_roi),axis=0)>0)[0][0])\n",
    "#         right_edges.append(np.where(np.sum(np.nan_to_num(masked_roi),axis=0)>0)[0][-1])\n",
    "#         top_edges.append(np.where(np.sum(np.nan_to_num(masked_roi),axis=1)>0)[0][0])\n",
    "#         bottom_edges.append(np.where(np.sum(np.nan_to_num(masked_roi),axis=1)>0)[0][-1])\n",
    "\n",
    "        masked_roi_flat = np.max(masked_roi,axis=2)\n",
    "        roi_data.append(masked_roi_flat)\n",
    "\n",
    "        #######################\n",
    "        ### Get roi contour ###\n",
    "        #######################\n",
    "        \n",
    "        _, mask_binary = cv2.threshold(np.max(mask_dilated,axis=-1).astype('uint8'), 0, 1, cv2.THRESH_BINARY) \n",
    "        contours, _ = cv2.findContours(mask_binary, cv2.RETR_EXTERNAL, cv2.CHAIN_APPROX_SIMPLE)#cv2.RETR_TREE\n",
    "\n",
    "        canvas = np.ones(atlas_clean[:,:,0].shape)\n",
    "        out = cv2.drawContours(canvas, contours, -1, (0,255,0), 1)\n",
    "        out = np.abs(out-1) #flip 0/1\n",
    "        roi_contour = np.repeat(out[:,:,np.newaxis],repeats=4,axis=-1) ### copy into rgba channels to make white\n",
    "        roi_contours.append(roi_contour)\n",
    "\n",
    "        # for plotting\n",
    "        left_edges.append(np.where(np.sum(np.nan_to_num(roi_contour),axis=0)>0)[0][0])\n",
    "        right_edges.append(np.where(np.sum(np.nan_to_num(roi_contour),axis=0)>0)[0][-1])\n",
    "        top_edges.append(np.where(np.sum(np.nan_to_num(roi_contour),axis=1)>0)[0][0])\n",
    "        bottom_edges.append(np.where(np.sum(np.nan_to_num(roi_contour),axis=1)>0)[0][-1])\n",
    "        \n",
    "    # get extreme edges from all rois used\n",
    "    left_edge = np.min(left_edges) - 1\n",
    "    right_edge = np.max(right_edges) + 1\n",
    "    top_edge = np.min(top_edges) - 1\n",
    "    bottom_edge = np.max(bottom_edges) + 1\n",
    "\n",
    "    ############\n",
    "    ### PLOT ###\n",
    "    ############\n",
    "    \n",
    "    roi_datas = np.max(np.asarray(roi_data),axis=0)\n",
    "    data_map = np.swapaxes(roi_datas[top_edge:bottom_edge,left_edge:right_edge,:],0,1)*20#*10000#*20 #here\n",
    "\n",
    "    if plot:\n",
    "        plt.figure(figsize=(10,10))\n",
    "        plt.imshow(data_map)\n",
    "\n",
    "    contours_to_export = []\n",
    "    for i in range(len(roi_contours)):\n",
    "        single_contour = np.swapaxes(roi_contours[i][top_edge:bottom_edge,left_edge:right_edge],0,1)\n",
    "        contours_to_export.append(single_contour)\n",
    "        if plot:\n",
    "            plt.imshow(single_contour)\n",
    "        \n",
    "    return data_map, contours_to_export\n",
    "\n",
    "def place_on_canvas(input_canvas, to_plot, is_contour=False, is_midline=True, x_shift=0, y_shift=0):\n",
    "    full_y_mid = int(input_canvas.shape[0]/2)\n",
    "    full_x_mid = int(input_canvas.shape[1]/2)\n",
    "\n",
    "    y_mid = int(to_plot.shape[0]/2)\n",
    "    x_mid = int(to_plot.shape[1]/2)\n",
    "\n",
    "    height = to_plot.shape[0]\n",
    "    width = to_plot.shape[1]\n",
    "\n",
    "    left = full_x_mid-x_mid\n",
    "    right = left + width\n",
    "\n",
    "    top = full_y_mid-y_mid\n",
    "    bottom = top + height\n",
    "\n",
    "    if is_contour:\n",
    "        ys = np.where(to_plot[:,:,0]>0)[0] + full_y_mid - y_mid + y_shift\n",
    "        xs = np.where(to_plot[:,:,0]>0)[1] + full_x_mid - x_mid + x_shift\n",
    "        input_canvas[ys,xs]=1\n",
    "    else:\n",
    "        input_canvas[top+y_shift:bottom+y_shift,left+x_shift:right+x_shift,:3] = to_plot\n",
    "        \n",
    "    return input_canvas\n",
    "\n",
    "def place_on_canvas_wrapper(canvas, data_map, contours, y_shift, x_shift):\n",
    "    canvas = place_on_canvas(canvas, to_plot=data_map, y_shift=y_shift, x_shift=x_shift)\n",
    "    for i in range(len(contours)):\n",
    "        canvas = place_on_canvas(canvas, to_plot=contours[i], is_contour=True, y_shift=y_shift, x_shift=x_shift)\n",
    "    return canvas\n",
    "\n",
    "def wraper_wraper(canvas, roi_ids, y_shift, x_shift):\n",
    "    data_map, contours = plot_grouped_roi_image(roi_ids, plot=False)\n",
    "    canvas = place_on_canvas_wrapper(input_canvas, data_map, contours, y_shift=y_shift, x_shift=x_shift)\n",
    "    return canvas"
   ]
  },
  {
   "cell_type": "code",
   "execution_count": 23,
   "metadata": {
    "collapsed": true
   },
   "outputs": [],
   "source": [
    "##################\n",
    "### ROI GROUPS ###\n",
    "##################\n",
    "\n",
    "FB_group = {\n",
    "26: 'FB',\n",
    "4: 'NO',\n",
    "5: 'BU_R',\n",
    "54: 'BU_L',\n",
    "8: 'LAL_R',\n",
    "56: 'LAL_L',\n",
    "31: 'PVLP_R',\n",
    "76: 'PVLP_L'}\n",
    "\n",
    "ventromedial_r_group = {\n",
    "13: 'VES_R',  \n",
    "40: 'EPA_R',\n",
    "35: 'GOR_R',\n",
    "11: 'AMMC_R'}\n",
    "\n",
    "ventromedial_l_group = {\n",
    "60: 'VES_L', \n",
    "85: 'EPA_L',\n",
    "80: 'GOR_L',\n",
    "58: 'AMMC_L'}\n",
    "\n",
    "PB = {6: 'PB'}\n",
    "EB = {23: 'EB'}\n",
    "\n",
    "anterior_group = {\n",
    "50: 'PRW',\n",
    "9: 'SAD',\n",
    "49: 'GNG',\n",
    "30: 'AVLP_R',\n",
    "75: 'AVLP_L',\n",
    "24: 'AL_R',\n",
    "70: 'AL_L',\n",
    "64: 'MB_PED_L',\n",
    "65: 'MB_VL_L',\n",
    "66: 'MB_ML_L',\n",
    "81: 'MB_CA_L',\n",
    "17: 'MB_PED_R',\n",
    "18: 'MB_VL_R',\n",
    "19: 'MB_ML_R',\n",
    "36: 'MB_CA_R',\n",
    "32: 'IVLP_R',\n",
    "77: 'IVLP_L',\n",
    "10: 'CAN_R',\n",
    "20: 'FLA_R',\n",
    "57: 'CAN_L',\n",
    "67: 'FLA_L'}\n",
    "\n",
    "big_r_group = {\n",
    "27: 'SLP_R',\n",
    "29: 'SMP_R',\n",
    "33: 'PLP_R',\n",
    "7: 'LH_R',\n",
    "38: 'IPS_R',\n",
    "37: 'SPS_R',\n",
    "16: 'CRE_R',\n",
    "39: 'SCL_R',\n",
    "12: 'ICL_R',\n",
    "15: 'ATL_R',\n",
    "14: 'IB_R',\n",
    "28: 'SIP_R'}\n",
    "    \n",
    "big_l_group = {\n",
    "72: 'SLP_L',   \n",
    "74: 'SMP_L',\n",
    "78: 'PLP_L',\n",
    "55: 'LH_L',\n",
    "83: 'IPS_L',\n",
    "82: 'SPS_L',\n",
    "63: 'CRE_L',\n",
    "84: 'SCL_L',  \n",
    "59: 'ICL_L',\n",
    "62: 'ATL_L',\n",
    "61: 'IB_L',\n",
    "73: 'SIP_L'}"
   ]
  },
  {
   "cell_type": "code",
   "execution_count": 91,
   "metadata": {},
   "outputs": [
    {
     "name": "stderr",
     "output_type": "stream",
     "text": [
      "Clipping input data to the valid range for imshow with RGB data ([0..1] for floats or [0..255] for integers).\n"
     ]
    },
    {
     "data": {
      "image/png": "[encoded data removed]",
      "text/plain": [
       "<Figure size 720x720 with 1 Axes>"
      ]
     },
     "metadata": {},
     "output_type": "display_data"
    }
   ],
   "source": [
    "input_canvas = np.zeros((500,500,3))\n",
    "#input_canvas = np.zeros((500,500)) #pca\n",
    "\n",
    "\n",
    "x_shift=0; y_shift=0\n",
    "data_map, contours = plot_grouped_roi_image(FB_group.keys(), plot=False)\n",
    "canvas = place_on_canvas_wrapper(input_canvas, data_map, contours, y_shift=y_shift, x_shift=x_shift)\n",
    "\n",
    "x_shift=0; y_shift=-45\n",
    "data_map, contours = plot_grouped_roi_image(PB.keys(), plot=False)\n",
    "canvas = place_on_canvas_wrapper(canvas, data_map, contours, y_shift=y_shift, x_shift=x_shift)\n",
    "\n",
    "x_shift=0; y_shift=35\n",
    "data_map, contours = plot_grouped_roi_image({23: 'EB'}.keys(), plot=False)\n",
    "canvas = place_on_canvas_wrapper(canvas, data_map, contours, y_shift=y_shift, x_shift=x_shift)\n",
    "\n",
    "##########\n",
    "### MB ###\n",
    "##########\n",
    "\n",
    "# x_shift=60; y_shift=-50\n",
    "# data_map, contours = plot_grouped_roi_image(MB_left_group.keys(), plot=False)\n",
    "# canvas = place_on_canvas_wrapper(input_canvas, data_map, contours, y_shift=y_shift, x_shift=x_shift)\n",
    "# x_shift=-60; y_shift=-50\n",
    "# data_map, contours = plot_grouped_roi_image(MB_right_group.keys(), plot=False)\n",
    "# canvas = place_on_canvas_wrapper(input_canvas, data_map, contours, y_shift=y_shift, x_shift=x_shift)\n",
    "\n",
    "#################\n",
    "### BIG GROUP ###\n",
    "#################\n",
    "\n",
    "x_shift=-130; y_shift=30\n",
    "data_map, contours = plot_grouped_roi_image(big_r_group.keys(), plot=False)\n",
    "canvas = place_on_canvas_wrapper(input_canvas, data_map, contours, y_shift=y_shift, x_shift=x_shift)\n",
    "x_shift=130; y_shift=30\n",
    "data_map, contours = plot_grouped_roi_image(big_l_group.keys(), plot=False)\n",
    "canvas = place_on_canvas_wrapper(input_canvas, data_map, contours, y_shift=y_shift, x_shift=x_shift)\n",
    "\n",
    "##############\n",
    "### VISUAL ###\n",
    "##############\n",
    "\n",
    "x_shift=-200; y_shift=175\n",
    "data_map, contours = plot_grouped_roi_image({25: 'MED_R'}.keys(), plot=False)\n",
    "canvas = place_on_canvas_wrapper(input_canvas, data_map, contours, y_shift=y_shift, x_shift=x_shift)\n",
    "x_shift=200; y_shift=175\n",
    "data_map, contours = plot_grouped_roi_image({71: 'MED_L'}.keys(), plot=False)\n",
    "canvas = place_on_canvas_wrapper(input_canvas, data_map, contours, y_shift=y_shift, x_shift=x_shift)\n",
    "\n",
    "x_shift=-140; y_shift=40+175\n",
    "data_map, contours = plot_grouped_roi_image({3: 'LO_R'}.keys(), plot=False)\n",
    "canvas = place_on_canvas_wrapper(input_canvas, data_map, contours, y_shift=y_shift, x_shift=x_shift)\n",
    "x_shift=140; y_shift=40+175\n",
    "data_map, contours = plot_grouped_roi_image({53: 'LO_L'}.keys(), plot=False)\n",
    "canvas = place_on_canvas_wrapper(input_canvas, data_map, contours, y_shift=y_shift, x_shift=x_shift)\n",
    "\n",
    "x_shift=-140; y_shift=-30+175\n",
    "data_map, contours = plot_grouped_roi_image({22: 'LP_R'}.keys(), plot=False)\n",
    "canvas = place_on_canvas_wrapper(input_canvas, data_map, contours, y_shift=y_shift, x_shift=x_shift)\n",
    "x_shift=140; y_shift=-30+175\n",
    "data_map, contours = plot_grouped_roi_image({69: 'LP_L'}.keys(), plot=False)\n",
    "canvas = place_on_canvas_wrapper(input_canvas, data_map, contours, y_shift=y_shift, x_shift=x_shift)\n",
    "\n",
    "canvas = wraper_wraper(canvas, ventromedial_r_group.keys(), y_shift=55, x_shift=-50)\n",
    "canvas = wraper_wraper(canvas, ventromedial_l_group.keys(), y_shift=55, x_shift=50)\n",
    "\n",
    "canvas = wraper_wraper(canvas, anterior_group.keys(), y_shift=150, x_shift=0)\n",
    "\n",
    "canvas = wraper_wraper(canvas, {34: 'AOTU_R'}.keys(), y_shift=-50+175-15, x_shift=-80)\n",
    "canvas = wraper_wraper(canvas, {79: 'AOTU_L'}.keys(), y_shift=-50+175-15, x_shift=80)\n",
    "    \n",
    "canvas[np.where(canvas==0)] = np.nan\n",
    "\n",
    "plt.figure(figsize=(10,10))\n",
    "plt.imshow(canvas[150:,:])\n",
    "plt.axis('off')\n",
    "\n",
    "save_path = '/oak/stanford/groups/trc/data/Brezovec/2P_Imaging/figs'\n",
    "timestr = time.strftime(\"%Y%m%d-%H%M%S\")\n",
    "fname = os.path.join(save_path, f'{timestr}_zneg_unique')\n",
    "#plt.savefig(fname,dpi=300,bbox_inches='tight')"
   ]
  },
  {
   "cell_type": "code",
   "execution_count": null,
   "metadata": {
    "collapsed": true
   },
   "outputs": [],
   "source": []
  },
  {
   "cell_type": "code",
   "execution_count": 90,
   "metadata": {
    "collapsed": true
   },
   "outputs": [],
   "source": [
    "corr_map/=2"
   ]
  },
  {
   "cell_type": "code",
   "execution_count": null,
   "metadata": {
    "collapsed": true
   },
   "outputs": [],
   "source": []
  }
 ],
 "metadata": {
  "kernelspec": {
   "display_name": "Python 3",
   "language": "python",
   "name": "python3"
  },
  "language_info": {
   "codemirror_mode": {
    "name": "ipython",
    "version": 3
   },
   "file_extension": ".py",
   "mimetype": "text/x-python",
   "name": "python",
   "nbconvert_exporter": "python",
   "pygments_lexer": "ipython3",
   "version": "3.6.1"
  }
 },
 "nbformat": 4,
 "nbformat_minor": 2
}
