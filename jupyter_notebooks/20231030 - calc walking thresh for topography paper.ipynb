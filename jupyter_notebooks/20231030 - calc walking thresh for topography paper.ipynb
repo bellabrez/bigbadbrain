{
 "cells": [
  {
   "cell_type": "code",
   "execution_count": 1,
   "metadata": {
    "collapsed": true
   },
   "outputs": [],
   "source": [
    "import os\n",
    "import sys\n",
    "import numpy as np\n",
    "import bigbadbrain as bbb\n",
    "import scipy\n",
    "from scipy.ndimage import gaussian_filter1d\n",
    "from scipy.interpolate import interp1d\n",
    "import matplotlib.pyplot as plt\n",
    "%matplotlib inline"
   ]
  },
  {
   "cell_type": "code",
   "execution_count": 2,
   "metadata": {
    "collapsed": true
   },
   "outputs": [],
   "source": [
    "class Fictrac:\n",
    "    def __init__ (self, fly_dir, timestamps):\n",
    "        self.fictrac_raw = bbb.load_fictrac(os.path.join(fly_dir, 'fictrac'))\n",
    "        self.timestamps = timestamps\n",
    "    def make_interp_object(self, behavior):\n",
    "        # Create camera timepoints\n",
    "        fps=50\n",
    "        camera_rate = 1/fps * 1000 # camera frame rate in ms\n",
    "        expt_len = 1000*30*60\n",
    "        x_original = np.arange(0,expt_len,camera_rate)\n",
    "\n",
    "        # Smooth raw fictrac data\n",
    "        fictrac_smoothed = scipy.signal.savgol_filter(np.asarray(self.fictrac_raw[behavior]),25,3)\n",
    "\n",
    "        # Create interp object with camera timepoints\n",
    "        fictrac_interp_object = interp1d(x_original, fictrac_smoothed, bounds_error = False)\n",
    "        return fictrac_interp_object\n",
    "\n",
    "    def pull_from_interp_object(self, interp_object, timepoints):\n",
    "        new_interp = interp_object(timepoints)\n",
    "        np.nan_to_num(new_interp, copy=False);\n",
    "        return new_interp\n",
    "\n",
    "    def interp_fictrac(self):\n",
    "        behaviors = ['dRotLabY', 'dRotLabZ']; shorts = ['Y', 'Z']\n",
    "        self.fictrac = {}\n",
    "\n",
    "        ### Y and Z ###\n",
    "        for behavior, short in zip(behaviors, shorts):\n",
    "            interp_object = self.make_interp_object(behavior)\n",
    "            self.fictrac[short + 'i'] = interp_object\n",
    "\n",
    "            ### Interpolate to neural data\n",
    "            self.fictrac[short] = []\n",
    "            self.fictrac[short + '_pos'] = []\n",
    "            self.fictrac[short + '_neg'] = []\n",
    "            for z in range(49):\n",
    "                ### Velocity ###\n",
    "                low_res_behavior = self.pull_from_interp_object(interp_object, self.timestamps[:,z])\n",
    "                self.fictrac[short].append(low_res_behavior/np.std(low_res_behavior))\n",
    "\n",
    "                ### Clipped Velocities ###\n",
    "                self.fictrac[short + '_pos'].append(np.clip(self.fictrac[short][-1], a_min=0, a_max=None))\n",
    "                self.fictrac[short + '_neg'].append(np.clip(self.fictrac[short][-1], a_min=None, a_max=0)*-1)\n",
    "\n",
    "        ### Walking ###\n",
    "        self.fictrac['walking'] = []\n",
    "        for z in range(49):    \n",
    "            YZ = np.sqrt(np.power(self.fictrac['Y'][z],2), np.power(self.fictrac['Z'][z],2))        \n",
    "            self.fictrac['walking'].append(np.zeros(3384))\n",
    "            self.fictrac['walking'][-1][np.where(YZ>.2)] = 1\n",
    "\n",
    "### This fly class helps organize data for each fly\n",
    "class Fly:\n",
    "    def __init__ (self, fly_name, fly_idx):\n",
    "        self.dir = os.path.join(dataset_path, fly_name, 'func_0')\n",
    "        self.fly_idx = fly_idx\n",
    "        self.fly_name = fly_name\n",
    "        self.maps = {}\n",
    "    def load_timestamps (self):\n",
    "        self.timestamps = bbb.load_timestamps(os.path.join(self.dir, 'imaging'))\n",
    "    def load_fictrac (self):\n",
    "        self.fictrac = Fictrac(self.dir, self.timestamps)"
   ]
  },
  {
   "cell_type": "code",
   "execution_count": 3,
   "metadata": {
    "collapsed": true
   },
   "outputs": [],
   "source": [
    "#### basically, I need to know what 0.2 in z-score space is in real ball rotation.\n",
    "# lets make final in deg/sec"
   ]
  },
  {
   "cell_type": "code",
   "execution_count": 4,
   "metadata": {},
   "outputs": [
    {
     "name": "stdout",
     "output_type": "stream",
     "text": [
      "\n",
      "~~ load_timestamps ~~\n",
      "Trying to load timestamp data from hdf5 file.\n",
      "Success.\n",
      "load_timestamps done. Duration: 77.11 ms\n",
      "\n",
      "~~ load_fictrac ~~\n",
      "load_fictrac done. Duration: 3.30 sec\n"
     ]
    }
   ],
   "source": [
    "dataset_path = \"/oak/stanford/groups/trc/data/Brezovec/2P_Imaging/20190101_walking_dataset\"\n",
    "fly_names = ['fly_087', 'fly_089', 'fly_094', 'fly_097', 'fly_098', 'fly_099', 'fly_100', 'fly_101', 'fly_105']\n",
    "\n",
    "flies = {}\n",
    "i = 0\n",
    "fly = 'fly_087'\n",
    "flies[fly] = Fly(fly_name=fly, fly_idx=i)\n",
    "flies[fly].load_timestamps()\n",
    "flies[fly].load_fictrac()\n",
    "flies[fly].fictrac.interp_fictrac()"
   ]
  },
  {
   "cell_type": "code",
   "execution_count": 5,
   "metadata": {},
   "outputs": [
    {
     "data": {
      "text/plain": [
       "[<matplotlib.lines.Line2D at 0x7f7afecc2d68>]"
      ]
     },
     "execution_count": 5,
     "metadata": {},
     "output_type": "execute_result"
    },
    {
     "data": {
      "image/png": "[encoded data removed]",
      "text/plain": [
       "<Figure size 432x288 with 1 Axes>"
      ]
     },
     "metadata": {},
     "output_type": "display_data"
    }
   ],
   "source": [
    "z = 20\n",
    "plt.plot(flies['fly_087'].fictrac.fictrac['Y'][z])"
   ]
  },
  {
   "cell_type": "code",
   "execution_count": 6,
   "metadata": {},
   "outputs": [
    {
     "data": {
      "text/plain": [
       "[<matplotlib.lines.Line2D at 0x7f7afeea62e8>]"
      ]
     },
     "execution_count": 6,
     "metadata": {},
     "output_type": "execute_result"
    },
    {
     "data": {
      "image/png": "[encoded data removed]",
      "text/plain": [
       "<Figure size 432x288 with 1 Axes>"
      ]
     },
     "metadata": {},
     "output_type": "display_data"
    }
   ],
   "source": [
    "plt.plot(np.asarray(flies['fly_087'].fictrac.fictrac_raw['dRotLabY']))"
   ]
  },
  {
   "cell_type": "code",
   "execution_count": 7,
   "metadata": {
    "collapsed": true
   },
   "outputs": [],
   "source": [
    "#### FORWARD\n",
    "\n",
    "Y_in_raw_units = np.asarray(flies['fly_087'].fictrac.fictrac_raw['dRotLabY'])\n",
    "Y_std = np.std(Y_in_raw_units)\n",
    "\n",
    "###\n",
    "sphere_radius = 4.5e-3 # in m\n",
    "fps = 50\n",
    "Y_in_mm_sec = Y_in_raw_units * sphere_radius * fps * 1000 # now in mm/sec\n",
    "\n",
    "###\n",
    "Y_in_deg_sec = Y_in_raw_units * 180 / np.pi * fps"
   ]
  },
  {
   "cell_type": "code",
   "execution_count": 8,
   "metadata": {
    "collapsed": true
   },
   "outputs": [],
   "source": [
    "### TURNING\n",
    "Z_in_raw_units = np.asarray(flies['fly_087'].fictrac.fictrac_raw['dRotLabZ'])\n",
    "Z_std = np.std(Z_in_raw_units)\n",
    "\n",
    "###\n",
    "sphere_radius = 4.5e-3 # in m\n",
    "fps = 50\n",
    "Z_in_mm_sec = Z_in_raw_units * sphere_radius * fps * 1000 # now in mm/sec\n",
    "\n",
    "###\n",
    "Z_in_deg_sec = Z_in_raw_units * 180 / np.pi * fps"
   ]
  },
  {
   "cell_type": "code",
   "execution_count": 9,
   "metadata": {
    "collapsed": true
   },
   "outputs": [],
   "source": [
    "joint = (Y_in_deg_sec**2 + Z_in_deg_sec**2)**0.5"
   ]
  },
  {
   "cell_type": "code",
   "execution_count": 17,
   "metadata": {},
   "outputs": [
    {
     "data": {
      "text/plain": [
       "[<matplotlib.lines.Line2D at 0x7f7aff6dbd68>]"
      ]
     },
     "execution_count": 17,
     "metadata": {},
     "output_type": "execute_result"
    },
    {
     "data": {
      "image/png": "[encoded data removed]",
      "text/plain": [
       "<Figure size 432x288 with 1 Axes>"
      ]
     },
     "metadata": {},
     "output_type": "display_data"
    }
   ],
   "source": [
    "plt.plot(joint)"
   ]
  },
  {
   "cell_type": "code",
   "execution_count": 16,
   "metadata": {},
   "outputs": [
    {
     "data": {
      "text/plain": [
       "[<matplotlib.lines.Line2D at 0x7f7aff5435f8>]"
      ]
     },
     "execution_count": 16,
     "metadata": {},
     "output_type": "execute_result"
    },
    {
     "data": {
      "image/png": "[encoded data removed]",
      "text/plain": [
       "<Figure size 432x288 with 1 Axes>"
      ]
     },
     "metadata": {},
     "output_type": "display_data"
    }
   ],
   "source": [
    "### ((raw_Y/std_Y)**2 + (raw_Z/std_Z)**2)**0.5 > 0.2\n",
    "\n",
    "### these are the values that would be thresholded for walking in the paper GLM\n",
    "\n",
    "joint_std = ((Y_in_raw_units/Y_std)**2 + (Z_in_raw_units/Z_std)**2)**0.5\n",
    "plt.plot(joint_std)"
   ]
  },
  {
   "cell_type": "code",
   "execution_count": 23,
   "metadata": {},
   "outputs": [
    {
     "data": {
      "text/plain": [
       "array([  627,  1256,  2760,  2767,  2840,  3221,  3996,  4179,  4569,\n",
       "        4886,  5650,  5653,  5741,  6107,  6731,  6935,  7022,  7099,\n",
       "        7388,  7400,  7506,  8035,  8574,  8828,  8830,  8969,  9453,\n",
       "        9599,  9871,  9900,  9962,  9978, 10004, 10281, 10398, 10451,\n",
       "       10600, 10912, 11152, 11405, 11502, 11524, 11857, 12598, 12643,\n",
       "       12665, 12706, 13192, 13311, 13666, 13765, 14009, 15422, 15595,\n",
       "       15960, 16347, 16990, 17470, 17883, 18498, 18499, 18685, 18853,\n",
       "       19422, 20101, 20725, 20975, 21179, 21907, 21976, 22040, 22898,\n",
       "       23060, 23205, 23314, 23589, 23880, 23980, 24108, 24195, 24359,\n",
       "       25442, 25656, 25689, 26029, 26314, 26459, 26557, 27691, 27990,\n",
       "       28240, 28309, 28777, 28937, 28949, 29005, 29214, 29346, 29357,\n",
       "       29514, 29817, 30164, 30359, 30492, 31585, 31739, 32644, 35051,\n",
       "       35648, 35653, 37208, 38666, 39071, 39562, 40624, 40910, 41142,\n",
       "       42085, 42451, 44120, 46949, 47388, 47641, 47770, 48393, 48600,\n",
       "       49665, 50759, 51651, 51826, 54731, 55057, 55335, 55619, 55622,\n",
       "       58483, 58953, 58956, 60936, 61779, 62108, 64354, 64698, 65699,\n",
       "       66126, 66504, 70309, 70323, 71209, 71576, 72199, 72543, 72679,\n",
       "       73427, 75373, 75994, 77006, 77475, 78424, 78576, 79396, 79693,\n",
       "       80942, 83643, 84145, 85679, 87055, 87391, 88438, 88809, 89015])"
      ]
     },
     "execution_count": 23,
     "metadata": {},
     "output_type": "execute_result"
    }
   ],
   "source": [
    "### find close value to the threshold\n",
    "\n",
    "np.where(np.logical_and(joint_std>0.199, joint_std<0.201))[0]"
   ]
  },
  {
   "cell_type": "code",
   "execution_count": 24,
   "metadata": {},
   "outputs": [
    {
     "data": {
      "text/plain": [
       "13.56169718439543"
      ]
     },
     "execution_count": 24,
     "metadata": {},
     "output_type": "execute_result"
    }
   ],
   "source": [
    "joint[627]"
   ]
  },
  {
   "cell_type": "code",
   "execution_count": 44,
   "metadata": {},
   "outputs": [
    {
     "data": {
      "text/plain": [
       "72847"
      ]
     },
     "execution_count": 44,
     "metadata": {},
     "output_type": "execute_result"
    }
   ],
   "source": [
    "len(np.where(joint_std>0.2)[0])"
   ]
  },
  {
   "cell_type": "code",
   "execution_count": 29,
   "metadata": {},
   "outputs": [
    {
     "data": {
      "text/plain": [
       "90000"
      ]
     },
     "execution_count": 29,
     "metadata": {},
     "output_type": "execute_result"
    }
   ],
   "source": [
    "len(Y_in_raw_units)"
   ]
  },
  {
   "cell_type": "code",
   "execution_count": 47,
   "metadata": {},
   "outputs": [
    {
     "data": {
      "text/plain": [
       "1836.0"
      ]
     },
     "execution_count": 47,
     "metadata": {},
     "output_type": "execute_result"
    }
   ],
   "source": [
    "np.sum(flies['fly_087'].fictrac.fictrac['walking'][20])"
   ]
  },
  {
   "cell_type": "code",
   "execution_count": null,
   "metadata": {
    "collapsed": true
   },
   "outputs": [],
   "source": []
  }
 ],
 "metadata": {
  "kernelspec": {
   "display_name": "Python 3",
   "language": "python",
   "name": "python3"
  },
  "language_info": {
   "codemirror_mode": {
    "name": "ipython",
    "version": 3
   },
   "file_extension": ".py",
   "mimetype": "text/x-python",
   "name": "python",
   "nbconvert_exporter": "python",
   "pygments_lexer": "ipython3",
   "version": "3.6.1"
  }
 },
 "nbformat": 4,
 "nbformat_minor": 2
}
